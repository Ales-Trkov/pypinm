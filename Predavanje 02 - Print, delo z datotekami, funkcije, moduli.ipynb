{
 "cells": [
  {
   "cell_type": "markdown",
   "metadata": {
    "slideshow": {
     "slide_type": "slide"
    }
   },
   "source": [
    "<font size=\"2\"> [github.com/jankoslavic/pypinm](http://github.com/jankoslavic/pypinm)</font>\n",
    "\n",
    "<center>\n",
    "<img width=300 src=\"./fig/ladisk.png\">\n",
    "<br>\n",
    "<font size=\"7\" color=\"f00e0e\" face=\"garamond\"><b>Print, delo z datotekami, funkcije, moduli</b></font>\n",
    "<br><br>\n",
    "<font size=\"4\">\n",
    "[izr. prof. dr. Janko Slavič](http://www.ladisk.si/~slavic)\n",
    "</font>\n",
    "<br><br>\n",
    "<font size=\"2\">Oktober 2017</font>\n",
    "</center>"
   ]
  },
  {
   "cell_type": "markdown",
   "metadata": {
    "toc": "true"
   },
   "source": [
    "# Table of Contents\n",
    " <p><div class=\"lev1 toc-item\"><a href=\"#Funkcija-print\" data-toc-modified-id=\"Funkcija-print-1\"><span class=\"toc-item-num\">1&nbsp;&nbsp;</span>Funkcija print</a></div><div class=\"lev1 toc-item\"><a href=\"#Oblikovanje-nizov\" data-toc-modified-id=\"Oblikovanje-nizov-2\"><span class=\"toc-item-num\">2&nbsp;&nbsp;</span>Oblikovanje nizov</a></div><div class=\"lev1 toc-item\"><a href=\"#Funkcije\" data-toc-modified-id=\"Funkcije-3\"><span class=\"toc-item-num\">3&nbsp;&nbsp;</span>Funkcije</a></div><div class=\"lev2 toc-item\"><a href=\"#Posredovanje-argumentov-v-funkcije\" data-toc-modified-id=\"Posredovanje-argumentov-v-funkcije-31\"><span class=\"toc-item-num\">3.1&nbsp;&nbsp;</span>Posredovanje argumentov v funkcije</a></div><div class=\"lev2 toc-item\"><a href=\"#docstring-funkcije\" data-toc-modified-id=\"docstring-funkcije-32\"><span class=\"toc-item-num\">3.2&nbsp;&nbsp;</span>docstring funkcije</a></div><div class=\"lev2 toc-item\"><a href=\"#Lokalna/globalna-imena\" data-toc-modified-id=\"Lokalna/globalna-imena-33\"><span class=\"toc-item-num\">3.3&nbsp;&nbsp;</span>Lokalna/globalna imena</a></div><div class=\"lev2 toc-item\"><a href=\"#return\" data-toc-modified-id=\"return-34\"><span class=\"toc-item-num\">3.4&nbsp;&nbsp;</span><code>return</code></a></div><div class=\"lev2 toc-item\"><a href=\"#Anonimna-funkcija/izraz\" data-toc-modified-id=\"Anonimna-funkcija/izraz-35\"><span class=\"toc-item-num\">3.5&nbsp;&nbsp;</span>Anonimna funkcija/izraz</a></div><div class=\"lev1 toc-item\"><a href=\"#Delo-z-datotekami\" data-toc-modified-id=\"Delo-z-datotekami-4\"><span class=\"toc-item-num\">4&nbsp;&nbsp;</span>Delo z datotekami</a></div><div class=\"lev1 toc-item\"><a href=\"#Kontrola-napak-in-izjem\" data-toc-modified-id=\"Kontrola-napak-in-izjem-5\"><span class=\"toc-item-num\">5&nbsp;&nbsp;</span>Kontrola napak in izjem</a></div><div class=\"lev1 toc-item\"><a href=\"#Izpeljevanje-seznamov,-slovarjev,-množic,-terk\" data-toc-modified-id=\"Izpeljevanje-seznamov,-slovarjev,-množic,-terk-6\"><span class=\"toc-item-num\">6&nbsp;&nbsp;</span>Izpeljevanje seznamov, slovarjev, množic, terk</a></div><div class=\"lev1 toc-item\"><a href=\"#Moduli\" data-toc-modified-id=\"Moduli-7\"><span class=\"toc-item-num\">7&nbsp;&nbsp;</span>Moduli</a></div><div class=\"lev2 toc-item\"><a href=\"#Modul-pickle\" data-toc-modified-id=\"Modul-pickle-71\"><span class=\"toc-item-num\">7.1&nbsp;&nbsp;</span>Modul <code>pickle</code></a></div><div class=\"lev1 toc-item\"><a href=\"#Nekaj-vprašanj-za-razmislek!\" data-toc-modified-id=\"Nekaj-vprašanj-za-razmislek!-8\"><span class=\"toc-item-num\">8&nbsp;&nbsp;</span>Nekaj vprašanj za razmislek!</a></div><div class=\"lev1 toc-item\"><a href=\"#Dodatno\" data-toc-modified-id=\"Dodatno-9\"><span class=\"toc-item-num\">9&nbsp;&nbsp;</span>Dodatno</a></div><div class=\"lev1 toc-item\"><a href=\"#Uporabljajte-www.stackoverflow.com!\" data-toc-modified-id=\"Uporabljajte-www.stackoverflow.com!-10\"><span class=\"toc-item-num\">10&nbsp;&nbsp;</span>Uporabljajte www.stackoverflow.com!</a></div><div class=\"lev1 toc-item\"><a href=\"#Nekateri-dodatni-moduli\" data-toc-modified-id=\"Nekateri-dodatni-moduli-11\"><span class=\"toc-item-num\">11&nbsp;&nbsp;</span>Nekateri dodatni moduli</a></div><div class=\"lev2 toc-item\"><a href=\"#Modul-sys\" data-toc-modified-id=\"Modul-sys-111\"><span class=\"toc-item-num\">11.1&nbsp;&nbsp;</span>Modul <code>sys</code></a></div><div class=\"lev2 toc-item\"><a href=\"#Modul-os\" data-toc-modified-id=\"Modul-os-112\"><span class=\"toc-item-num\">11.2&nbsp;&nbsp;</span>Modul <code>os</code></a></div>"
   ]
  },
  {
   "cell_type": "markdown",
   "metadata": {
    "slideshow": {
     "slide_type": "slide"
    }
   },
   "source": [
    "# Funkcija print"
   ]
  },
  {
   "cell_type": "markdown",
   "metadata": {},
   "source": [
    "`print` predstavlja eno od najbolj pogosto uporabljenih funkcij in vse podane argumente izpiše, mednje da presledek, na koncu pa gre v novo vrstico.\n",
    "\n",
    "Poglejmo primer:"
   ]
  },
  {
   "cell_type": "code",
   "execution_count": 2,
   "metadata": {},
   "outputs": [
    {
     "name": "stdout",
     "output_type": "stream",
     "text": [
      "prvi argument drugi = 5.0\n"
     ]
    }
   ],
   "source": [
    "print('prvi argument', 'drugi', '=', 5.)"
   ]
  },
  {
   "cell_type": "markdown",
   "metadata": {
    "slideshow": {
     "slide_type": "subslide"
    }
   },
   "source": [
    "Za bolj splošno uporabo glejmo [dokumentacijo](https://docs.python.org/library/functions.html#print):\n",
    "\n",
    "```python\n",
    "print(*objects, sep=' ', end='\\n', file=sys.stdout, flush=False),\n",
    "```\n",
    "\n",
    "kjer argumenti so:\n",
    "* `*objects` predstavlja argumente, ki jih želimo izpisati (celovitost zvezdice bo jasna pri obravnavi *funkcij*, spodaj,\n",
    "* `sep` predstavlja delilni niz (ang. *sep*arator),\n",
    "* `end` predstavlja zaključni niz,\n",
    "* `file` predstavlja *datoteko* izpisa (`sys.stdout` predstavlja *standard output*, v konkretnem primeru to pomeni *zaslon* oz okazna vrstica; pozneje bomo to spremenili),\n",
    "* `flush` v primeru `True` izpis zaključi (sicer je lahko zaradi optimizacije ostane v medpolnilniku, ang. *buffer*)."
   ]
  },
  {
   "cell_type": "markdown",
   "metadata": {
    "slideshow": {
     "slide_type": "subslide"
    }
   },
   "source": [
    "Pri argumentu `end` smo zgoraj uporabili t.i. **izhodni znak** (ang. *escape character*): **\\\\**. \n",
    "\n",
    "Namen izhodnega znaka je, da sledečemu znaku da poseben pomen, nekatere pogoste uporabe so:\n",
    "* **\\\\n** vstavi *prelomi vrstico*,\n",
    "* **\\\\t** vstavi *tabulator*,\n",
    "* **\\\\'** izpiše enojni narekovaj ',\n",
    "* **\\\\\"** izpiše dvojni narekovaj \",\n",
    "* **\\\\\\\\** prikaže *izhodni znak* (ang. *backslash*),\n",
    "* **\\\\** nova vrstica v večvrstičnem nizu."
   ]
  },
  {
   "cell_type": "markdown",
   "metadata": {
    "slideshow": {
     "slide_type": "subslide"
    }
   },
   "source": [
    "Primer (kako ponavadi ne programiramo):"
   ]
  },
  {
   "cell_type": "code",
   "execution_count": 5,
   "metadata": {},
   "outputs": [
    {
     "name": "stdout",
     "output_type": "stream",
     "text": [
      "pet-et=p:)\n"
     ]
    }
   ],
   "source": [
    "print('pet','et', sep='-', end='=')\n",
    "print('p:)')"
   ]
  },
  {
   "cell_type": "markdown",
   "metadata": {
    "slideshow": {
     "slide_type": "subslide"
    }
   },
   "source": [
    "In še primer z izhodnimi znaki:"
   ]
  },
  {
   "cell_type": "code",
   "execution_count": 10,
   "metadata": {},
   "outputs": [
    {
     "name": "stdout",
     "output_type": "stream",
     "text": [
      "Nizi v Pythonu (po PEP8) naj ne bi bili daljši od 80 znakov. Razlog je v tem, da nam ni treba pomikati okna levo in desno. Da pa vseeno lahko napišemo nize, ki so daljši od 80 znakov Uporabimo enojni delilni znak \\ (bodite pozorni na to, kako se izpiše: \\)\n"
     ]
    }
   ],
   "source": [
    "print('Nizi v Pythonu (po PEP8) naj ne bi bili daljši od 80 znakov. \\\n",
    "Razlog je v tem, da nam ni treba pomikati okna levo in desno. \\\n",
    "Da pa vseeno lahko napišemo nize, ki so daljši od 80 znakov \\\n",
    "Uporabimo enojni delilni znak \\\\ (bodite pozorni na to, \\\n",
    "kako se izpiše: \\\\)',)"
   ]
  },
  {
   "cell_type": "markdown",
   "metadata": {
    "slideshow": {
     "slide_type": "slide"
    }
   },
   "source": [
    "# Oblikovanje nizov"
   ]
  },
  {
   "cell_type": "markdown",
   "metadata": {
    "slideshow": {
     "slide_type": "subslide"
    }
   },
   "source": [
    "Pri oblikovanju/formatiranju nizov imamo na voljo več orodij:\n",
    "\n",
    "* **f-niz** (ang. *f-string*, *f* zaradi \"formatirani\"), [dokumentacija](https://docs.python.org/reference/lexical_analysis.html#f-strings),\n",
    "* **metoda `.format()`**, [dokumentacija](https://docs.python.org/library/stdtypes.html#str.format),\n",
    "* **%** oblikovanje, [dokumentacija](https://docs.python.org/library/stdtypes.html#string-formatting-operations).\n",
    "\n",
    "Poglejmo si primere:"
   ]
  },
  {
   "cell_type": "code",
   "execution_count": 28,
   "metadata": {},
   "outputs": [
    {
     "name": "stdout",
     "output_type": "stream",
     "text": [
      "pi = 3.14\n",
      "pi = 3.14\n",
      "pi = 3.14\n"
     ]
    }
   ],
   "source": [
    "a = 3.14\n",
    "print(f'pi = {a}')                # f-niz\n",
    "print('pi = {a}'.format(a = a))   # .format\n",
    "print('pi = %(a)3.2f' % {'a': a}) # % "
   ]
  },
  {
   "cell_type": "markdown",
   "metadata": {
    "slideshow": {
     "slide_type": "subslide"
    }
   },
   "source": [
    "*f-niz* je implementiran od Python verzije 3.6 naprej ([PEP 498](https://www.python.org/dev/peps/pep-0498/)) in predstavlja najbolj enostaven način oblikovanja. Ostala načina navajamo zgolj zato, da se bralec seznani z njimi in da naredimo povezavo na dokumentacijo."
   ]
  },
  {
   "cell_type": "markdown",
   "metadata": {
    "slideshow": {
     "slide_type": "subslide"
    }
   },
   "source": [
    "*f-niz* se vedno začne z **f** pred prvim narekovajem in omogoča zelo splošno oblikovanje (glejte [dokumentacijo](https://docs.python.org/reference/lexical_analysis.html#f-strings)).\n",
    "\n",
    "Vrednost, ki jo želimo znotraj niza oblikovati, damo v zavite oklepaje:\n",
    "```python\n",
    "f'besedilo... {ime_arg1:fmt1} ... besedilo...'\n",
    "```"
   ]
  },
  {
   "cell_type": "markdown",
   "metadata": {
    "slideshow": {
     "slide_type": "subslide"
    }
   },
   "source": [
    "V zavitih oklepajih je:\n",
    "* pred `:` podamo ime vrednosti, ki jo želimo oblikovati\n",
    "* za `:` oblikujemo izpis spremenljivke; najpogosteje bomo uporabili *fmt* oblike:\n",
    "    * w.d**f** - predstavitev s plavajočo vejico (**f**loat)\n",
    "    * w.d**e** - predstavitev z eksponentom (**e**xponent)\n",
    "    * w.d**g** - splošni format (**g**eneral)\n",
    "    * **s** - niz znakv (**s**tring).\n",
    "\n",
    "``w`` predstavlja (minimalno) skupno širino, ``d`` pa število mest za decimalno piko."
   ]
  },
  {
   "cell_type": "markdown",
   "metadata": {
    "slideshow": {
     "slide_type": "subslide"
    }
   },
   "source": [
    "Poglejmo si primer:"
   ]
  },
  {
   "cell_type": "code",
   "execution_count": 29,
   "metadata": {
    "slideshow": {
     "slide_type": "-"
    }
   },
   "outputs": [
    {
     "data": {
      "text/plain": [
       "'Marko je visok 1.84m ali tudi: 1.840000e+00m, 1.840m.'"
      ]
     },
     "execution_count": 29,
     "metadata": {},
     "output_type": "execute_result"
    }
   ],
   "source": [
    "višina = 1.84\n",
    "ime = 'Marko'\n",
    "tekst = f'{ime} je visok {višina}m ali tudi: {višina:e}m, {višina:5.3f}m.'\n",
    "tekst"
   ]
  },
  {
   "cell_type": "markdown",
   "metadata": {
    "slideshow": {
     "slide_type": "subslide"
    }
   },
   "source": [
    "Podobno bi lahko naredili z metodo *format* in se sklicali na indeks argumenta:"
   ]
  },
  {
   "cell_type": "code",
   "execution_count": 4,
   "metadata": {
    "slideshow": {
     "slide_type": "-"
    }
   },
   "outputs": [
    {
     "data": {
      "text/plain": [
       "'Marko je visok 1.84m ali tudi: 1.840000e+00m, 1.840e+00m.'"
      ]
     },
     "execution_count": 4,
     "metadata": {},
     "output_type": "execute_result"
    }
   ],
   "source": [
    "tekst = '{1:s} je visok {0}m ali tudi: {0:e}m, {0:7.3e}m.'.format(višina, ime)\n",
    "tekst"
   ]
  },
  {
   "cell_type": "markdown",
   "metadata": {
    "slideshow": {
     "slide_type": "subslide"
    }
   },
   "source": [
    "Primer z uporabo slovarja:"
   ]
  },
  {
   "cell_type": "code",
   "execution_count": 33,
   "metadata": {
    "collapsed": true
   },
   "outputs": [],
   "source": [
    "parametri = {'visina': 5., 'gostota':100.111, 'ime uporabnika': 'Janko'}"
   ]
  },
  {
   "cell_type": "code",
   "execution_count": 34,
   "metadata": {},
   "outputs": [
    {
     "data": {
      "text/plain": [
       "'višina =   5.000, gostota = 1.001e+02'"
      ]
     },
     "execution_count": 34,
     "metadata": {},
     "output_type": "execute_result"
    }
   ],
   "source": [
    "f'višina = {parametri[\"visina\"]:7.3f}, gostota = {parametri[\"gostota\"]:7.3e}'"
   ]
  },
  {
   "cell_type": "markdown",
   "metadata": {},
   "source": [
    "Oblikovanje z *fmt* (ang. *Format Specification Mini-Language*) je  izredno bogato in del za dvopičjem je v  splošnem (glejte [dokumentacijo](https://docs.python.org/library/string.html#formatspec)):\n",
    "\n",
    "```\n",
    "[[fill]align][sign][#][0][width][grouping_option][.precision][type]\n",
    "```\n",
    "\n",
    "kjer so v oglatih oklepajih opcijski parametri (vsi so opcijski):\n",
    "\n",
    "* `fill` je lahko kateri-koli znak,\n",
    "* `align` označuje poravnavo, možnosti: “<” | “>” | “=” | “^”,\n",
    "* `sign` označuje predznak, možnosti:            ::=  “+” | “-” | ” “,\n",
    "* `width` definira minimalno skupno širino,\n",
    "* `grouping_option` možnosti združevanja, možnosti:  “_” | “,”\n",
    "* `precision` definira število števk po decimalnem ločilu,\n",
    "* `type` definira kako naj bodo podatki prikazani, možnosti:  “b” | “c” | “d” | “e” | “E” | “f” | “F” | “g” | “G” | “n” | “o” | “s” | “x” | “X” | “%”"
   ]
  },
  {
   "cell_type": "markdown",
   "metadata": {
    "slideshow": {
     "slide_type": "subslide"
    }
   },
   "source": [
    "Besedili poravnavamo levo z \"<\", desno z \">\" in sredinsko \"^\". Primer sredinske/desne poravnave (širina 20 znakov):"
   ]
  },
  {
   "cell_type": "code",
   "execution_count": 36,
   "metadata": {},
   "outputs": [
    {
     "data": {
      "text/plain": [
       "'--------1.84--------'"
      ]
     },
     "execution_count": 36,
     "metadata": {},
     "output_type": "execute_result"
    }
   ],
   "source": [
    "f'{višina:-^20}' # pred ^ je znak s katerim zapolnimo levo in desno stran"
   ]
  },
  {
   "cell_type": "code",
   "execution_count": 37,
   "metadata": {},
   "outputs": [
    {
     "data": {
      "text/plain": [
       "'_________________5.0'"
      ]
     },
     "execution_count": 37,
     "metadata": {},
     "output_type": "execute_result"
    }
   ],
   "source": [
    "f'{parametri[\"visina\"]:_>20}'"
   ]
  },
  {
   "cell_type": "code",
   "execution_count": 11,
   "metadata": {
    "slideshow": {
     "slide_type": "subslide"
    }
   },
   "outputs": [
    {
     "data": {
      "text/plain": [
       "'Kompleksno število (4-2j) je sestavljeno iz realnega (4.0)in imaginarnega (-2.0) dela.'"
      ]
     },
     "execution_count": 11,
     "metadata": {},
     "output_type": "execute_result"
    }
   ],
   "source": [
    "c = 4-2j\n",
    "f'Kompleksno število {c} je sestavljeno iz realnega ({c.real})\\\n",
    "in imaginarnega ({c.imag}) dela.'"
   ]
  },
  {
   "cell_type": "markdown",
   "metadata": {
    "slideshow": {
     "slide_type": "subslide"
    }
   },
   "source": [
    "Oblikovanje datuma, ure si najprej poglejmo kar na primeru.\n",
    "\n",
    "Najprej uvozimo modul za delo z datumom in časom `datetime` in prikažemo trenutni čas z datumom (uporabimo funkcijo [`now()`](https://docs.python.org/3/library/datetime.html#datetime.datetime.now)):"
   ]
  },
  {
   "cell_type": "code",
   "execution_count": 50,
   "metadata": {},
   "outputs": [
    {
     "data": {
      "text/plain": [
       "datetime.datetime(2017, 9, 28, 7, 7, 50, 109626)"
      ]
     },
     "execution_count": 50,
     "metadata": {},
     "output_type": "execute_result"
    }
   ],
   "source": [
    "import datetime\n",
    "sedaj = datetime.datetime.now()\n",
    "sedaj"
   ]
  },
  {
   "cell_type": "markdown",
   "metadata": {
    "slideshow": {
     "slide_type": "subslide"
    }
   },
   "source": [
    "Podatek o času oblikujemo:"
   ]
  },
  {
   "cell_type": "code",
   "execution_count": 51,
   "metadata": {},
   "outputs": [
    {
     "data": {
      "text/plain": [
       "'2017-09-28 07:07:50'"
      ]
     },
     "execution_count": 51,
     "metadata": {},
     "output_type": "execute_result"
    }
   ],
   "source": [
    "f'{sedaj:%Y-%m-%d %H:%M:%S}'"
   ]
  },
  {
   "cell_type": "markdown",
   "metadata": {
    "slideshow": {
     "slide_type": "subslide"
    }
   },
   "source": [
    "Oblikovanje datuma in ure sledi metodam:\n",
    "\n",
    "* [`strftime`](https://docs.python.org/library/datetime.html#datetime.datetime.strftime) se uporablja za pretvorbo iz `datetime` v niz črk\n",
    "* [`strptime`](https://docs.python.org/library/datetime.html#datetime.datetime.strptime) se uporablja za pretvorbo iz niza črk v tip `datetime`.\n",
    "\n",
    "Kako izpisati ustrezno obliko (torej kako uporabiti znake `%Y`, `%m` itd.) je podrobno pojasnjeno v [dokumentaciji](https://docs.python.org/library/datetime.html#strftime-strptime-behavior)."
   ]
  },
  {
   "cell_type": "markdown",
   "metadata": {
    "slideshow": {
     "slide_type": "subslide"
    }
   },
   "source": [
    "Poglejmo si primer pretvorbe tipa `datetime` v niz (glede na zgoraj smo dodali še %a, da se izpiše ime dneva):"
   ]
  },
  {
   "cell_type": "code",
   "execution_count": 46,
   "metadata": {},
   "outputs": [
    {
     "data": {
      "text/plain": [
       "'2017-09-28 05:31:45 Thu'"
      ]
     },
     "execution_count": 46,
     "metadata": {},
     "output_type": "execute_result"
    }
   ],
   "source": [
    "sedaj.strftime('%Y-%m-%d %H:%M:%S %a')"
   ]
  },
  {
   "cell_type": "markdown",
   "metadata": {
    "slideshow": {
     "slide_type": "subslide"
    }
   },
   "source": [
    "In sedaj v obratno smer, torej iz niza v `datetime`:"
   ]
  },
  {
   "cell_type": "code",
   "execution_count": 49,
   "metadata": {},
   "outputs": [
    {
     "data": {
      "text/plain": [
       "datetime.datetime(2017, 9, 28, 5, 31, 45)"
      ]
     },
     "execution_count": 49,
     "metadata": {},
     "output_type": "execute_result"
    }
   ],
   "source": [
    "datetime.datetime.strptime('2017-09-28 05:31:45', '%Y-%m-%d %H:%M:%S')"
   ]
  },
  {
   "cell_type": "markdown",
   "metadata": {
    "slideshow": {
     "slide_type": "slide"
    }
   },
   "source": [
    "# Funkcije"
   ]
  },
  {
   "cell_type": "markdown",
   "metadata": {},
   "source": [
    "V Pythonu je veliko funkcij že vgrajenih (glejte [dokumentacijo](https://docs.python.org/library/functions.html)); funkcije pa lahko tudi napišemo sami ali jih uvozimo iz t.i. modulov (zgoraj smo uvozili `datetime`, več si bomo pogledali pozneje)."
   ]
  },
  {
   "cell_type": "markdown",
   "metadata": {
    "slideshow": {
     "slide_type": "subslide"
    }
   },
   "source": [
    "Generični primer funkcije je ([dokumentacija](https://docs.python.org/tutorial/controlflow.html#defining-functions)):\n",
    "```python\n",
    "def ime_funckije(parametri):\n",
    "    '''docstring'''\n",
    "    [koda]\n",
    "    return vsebina\n",
    "```\n",
    "\n",
    "Pri tem izpostavimo:\n",
    "* `def` označuje definicijo funkcije,\n",
    "* `ime_funkcije` **imena funkcije po PEP8 pišemo z malo, večbesedna povežemo s podčrtajem**,\n",
    "* `parametri` parametri funkcije, več bomo povedali spodaj,\n",
    "* `docstring` (opcijsko) dokumentacija funkcije,\n",
    "* `[koda]` koda funkcije,\n",
    "* `return` (opcijsko) ukaz za izhod iz funkcije, kar sledi se vrne kot rezultat (če ni `return` ali po retun ni ničesar, se vrne `None`)"
   ]
  },
  {
   "cell_type": "markdown",
   "metadata": {
    "slideshow": {
     "slide_type": "subslide"
    }
   },
   "source": [
    "Primer preproste funkcije:"
   ]
  },
  {
   "cell_type": "code",
   "execution_count": 58,
   "metadata": {
    "collapsed": true
   },
   "outputs": [],
   "source": [
    "def površina(dolžina, širina):\n",
    "    S = dolžina * širina\n",
    "    return S"
   ]
  },
  {
   "cell_type": "code",
   "execution_count": 59,
   "metadata": {},
   "outputs": [
    {
     "data": {
      "text/plain": [
       "20"
      ]
     },
     "execution_count": 59,
     "metadata": {},
     "output_type": "execute_result"
    }
   ],
   "source": [
    "površina(1, 20)"
   ]
  },
  {
   "cell_type": "markdown",
   "metadata": {
    "slideshow": {
     "slide_type": "subslide"
    }
   },
   "source": [
    "## Posredovanje argumentov v funkcije"
   ]
  },
  {
   "cell_type": "markdown",
   "metadata": {},
   "source": [
    "Python pozna dva načina posredovanja argumentov:\n",
    "* glede na **mesto** (*positional*)\n",
    "* glede na **ime**."
   ]
  },
  {
   "cell_type": "markdown",
   "metadata": {
    "slideshow": {
     "slide_type": "subslide"
    }
   },
   "source": [
    "Poglejmo si oba načina na primeru:"
   ]
  },
  {
   "cell_type": "code",
   "execution_count": 63,
   "metadata": {},
   "outputs": [
    {
     "data": {
      "text/plain": [
       "18"
      ]
     },
     "execution_count": 63,
     "metadata": {},
     "output_type": "execute_result"
    }
   ],
   "source": [
    "površina(3, 6) # pozicijsko"
   ]
  },
  {
   "cell_type": "code",
   "execution_count": 64,
   "metadata": {},
   "outputs": [
    {
     "data": {
      "text/plain": [
       "18"
      ]
     },
     "execution_count": 64,
     "metadata": {},
     "output_type": "execute_result"
    }
   ],
   "source": [
    "površina(širina = 3, dolžina = 6) # glede na ime"
   ]
  },
  {
   "cell_type": "markdown",
   "metadata": {},
   "source": [
    "Priporočeno, je da argumente posredujemo z *imenom*; s tem zmanjšamo možnost napake!"
   ]
  },
  {
   "cell_type": "markdown",
   "metadata": {
    "slideshow": {
     "slide_type": "subslide"
    }
   },
   "source": [
    "Če ne podamo imena, potem se privzame ime glede na vrstni red argumentov; primer:"
   ]
  },
  {
   "cell_type": "code",
   "execution_count": 71,
   "metadata": {},
   "outputs": [
    {
     "data": {
      "text/plain": [
       "12"
      ]
     },
     "execution_count": 71,
     "metadata": {},
     "output_type": "execute_result"
    }
   ],
   "source": [
    "površina(3, širina=4)"
   ]
  },
  {
   "cell_type": "markdown",
   "metadata": {},
   "source": [
    "V kolikor mešamo *pozicijsko* in *poimensko* posredovanje argumentov, morajo **najprej biti navedeni pozicijski argumenti, šele nato poimenski**. Pri tem poimenski ne sme ponovno definirati pozicijskega; ker je `višina` prvi argument, bi klicanje take koda:\n",
    "```python\n",
    "površina(3, višina=4)\n",
    "```\n",
    "povzročilo napako."
   ]
  },
  {
   "cell_type": "markdown",
   "metadata": {
    "slideshow": {
     "slide_type": "subslide"
    }
   },
   "source": [
    "### Primer dobre prakse pri definiranju argumentov\n",
    "\n",
    "Pogosto funkcije dopolnjujemo in dodajamo nove argumente ali število argumentov funkciji sploh ne moremo vnaprej definirati!\n",
    "\n",
    "Python s tem nima težav. Argumente, ki niso eksplicitno definirani obvladamo z:\n",
    "* `*[ime0]` terka `[ime0]` vsebuje vse **pozicijske argumente**, ki niso eksplicitno definirani,\n",
    "* `**[ime1]` slovar `[ime1]` vsebuje vse **poimenske argumente**, ki niso eksplicitno definirani."
   ]
  },
  {
   "cell_type": "markdown",
   "metadata": {
    "slideshow": {
     "slide_type": "subslide"
    }
   },
   "source": [
    "Poglejmo primer:"
   ]
  },
  {
   "cell_type": "code",
   "execution_count": 86,
   "metadata": {
    "collapsed": true
   },
   "outputs": [],
   "source": [
    "def neka_funkcija(student, izpit = True):\n",
    "    ''' Prva verzija funkcije'''\n",
    "    print(f'Študent {student} se je prijavil na izpit: {izpit}.')"
   ]
  },
  {
   "cell_type": "code",
   "execution_count": 87,
   "metadata": {},
   "outputs": [
    {
     "name": "stdout",
     "output_type": "stream",
     "text": [
      "Študent Janez se je prijavil na izpit: True.\n"
     ]
    }
   ],
   "source": [
    "neka_funkcija('Janez', izpit=True)"
   ]
  },
  {
   "cell_type": "markdown",
   "metadata": {},
   "source": [
    "Sedaj pa pripravimo drugo, nadgrajeno, verzijo (katera omogoča uporabo kakor prva verzija):"
   ]
  },
  {
   "cell_type": "code",
   "execution_count": 88,
   "metadata": {
    "collapsed": true,
    "slideshow": {
     "slide_type": "subslide"
    }
   },
   "outputs": [],
   "source": [
    "def neka_funkcija(*terka, **slovar):\n",
    "    ''' Druga verzija funkcije '''\n",
    "    student = terka[0]\n",
    "    izpit = slovar.get('izpit', True) # True je privzeta vrednost\n",
    "    izpisi_sliko = slovar.get('izpisi_sliko', False) # False je privzeta vrednost\n",
    "    \n",
    "    print(f'Študent {student} se je prijavil na izpit: {izpit}.')\n",
    "    if izpisi_sliko:\n",
    "        print('slika:)')"
   ]
  },
  {
   "cell_type": "code",
   "execution_count": 89,
   "metadata": {},
   "outputs": [
    {
     "name": "stdout",
     "output_type": "stream",
     "text": [
      "Študent Janez se je prijavil na izpit: True.\n"
     ]
    }
   ],
   "source": [
    "neka_funkcija('Janez', izpit=True)"
   ]
  },
  {
   "cell_type": "code",
   "execution_count": 90,
   "metadata": {},
   "outputs": [
    {
     "name": "stdout",
     "output_type": "stream",
     "text": [
      "Študent Janez se je prijavil na izpit: True.\n",
      "slika:)\n"
     ]
    }
   ],
   "source": [
    "neka_funkcija('Janez', izpit=True, izpisi_sliko=True, neobstoječi_argument='ni')"
   ]
  },
  {
   "cell_type": "markdown",
   "metadata": {
    "slideshow": {
     "slide_type": "subslide"
    }
   },
   "source": [
    "### Posredovanje funkcij, kot argument\n",
    "\n",
    "Tukaj bi želeli izpostaviti, da so argumenti lahko tudi druge funkcije.\n",
    "\n",
    "Poglejmo si primer:"
   ]
  },
  {
   "cell_type": "code",
   "execution_count": 112,
   "metadata": {
    "collapsed": true
   },
   "outputs": [],
   "source": [
    "def oblika_a(vrednost):\n",
    "    return f'Prikaz vrednosti: {vrednost}'\n",
    "\n",
    "def oblika_b(vrednost):\n",
    "    return f'Prikaz vrednosti: {vrednost:3.2f}'\n",
    "\n",
    "def izpis(oblika, vrednost):\n",
    "    print(oblika(vrednost))"
   ]
  },
  {
   "cell_type": "markdown",
   "metadata": {
    "slideshow": {
     "slide_type": "subslide"
    }
   },
   "source": [
    "Imamo torej dve funkciji `oblika_a` in `oblika_b`, ki malenkost drugače oblikujeta numerično vrednost.\n",
    "\n",
    "Poglejmo uporabo:"
   ]
  },
  {
   "cell_type": "code",
   "execution_count": 109,
   "metadata": {},
   "outputs": [
    {
     "name": "stdout",
     "output_type": "stream",
     "text": [
      "Prikaz vrednosti: 3\n"
     ]
    }
   ],
   "source": [
    "izpis(oblika_a, 3)"
   ]
  },
  {
   "cell_type": "code",
   "execution_count": 111,
   "metadata": {},
   "outputs": [
    {
     "name": "stdout",
     "output_type": "stream",
     "text": [
      "Prikaz vrednosti: 3.00\n"
     ]
    }
   ],
   "source": [
    "izpis(oblika_b, 3)"
   ]
  },
  {
   "cell_type": "markdown",
   "metadata": {},
   "source": [
    "## docstring funkcije"
   ]
  },
  {
   "cell_type": "markdown",
   "metadata": {
    "slideshow": {
     "slide_type": "subslide"
    }
   },
   "source": [
    "*docstring* je neobvezen del definiranja funkcije in dokumentira funkcijo in njeno uporabo. Iz tega stališča je zelo priporočeno, da ga uporabimo. \n",
    "\n",
    "[Dokumentacija](https://docs.python.org/tutorial/controlflow.html#documentation-strings) za docstring navaja bistvene elemente:\n",
    "* prva vrstica naj bo kratek povzetek funkcije,\n",
    "* če je vrstic več, naj bo druga prazna (da se vizualno loči prvo vrstico od preostalega teksta),\n",
    "* uporabimo tri narekovaje (dvojne \" ali enojne '), ki označujejo večvrstični niz črk."
   ]
  },
  {
   "cell_type": "markdown",
   "metadata": {
    "slideshow": {
     "slide_type": "subslide"
    }
   },
   "source": [
    "Primer dokumentirane funkcije:"
   ]
  },
  {
   "cell_type": "code",
   "execution_count": 91,
   "metadata": {
    "collapsed": true
   },
   "outputs": [],
   "source": [
    "def površina(dolžina = 1, širina = 10):\n",
    "    \"\"\" Izračun površine pravokotnika\n",
    "    \n",
    "    Funkcija vrne vrednost površine.\n",
    "    \n",
    "    Argumenti:\n",
    "    dolžina: dolžina pravokotnika\n",
    "    širina: dolžina pravokotnika\n",
    "    \"\"\"\n",
    "    return dolžina * širina"
   ]
  },
  {
   "cell_type": "markdown",
   "metadata": {
    "slideshow": {
     "slide_type": "subslide"
    }
   },
   "source": [
    "Primer klica s privzetimi argumenti (med klicem funkcije lahko s pritiskom [shift]+[tab] dostopamo do pomoči):"
   ]
  },
  {
   "cell_type": "code",
   "execution_count": 94,
   "metadata": {},
   "outputs": [
    {
     "data": {
      "text/plain": [
       "10"
      ]
     },
     "execution_count": 94,
     "metadata": {},
     "output_type": "execute_result"
    }
   ],
   "source": [
    "površina()"
   ]
  },
  {
   "cell_type": "markdown",
   "metadata": {
    "slideshow": {
     "slide_type": "subslide"
    }
   },
   "source": [
    "## Lokalna/globalna imena\n",
    "\n",
    "Preprosto vodilo pri funkcijah je: **funkcija ven, drugi pa ne vidijo noter**. Funkcija ima notranja imena, katera se ne prekrivajo z istimi imeni v drugih funkcijah.\n",
    "\n",
    "Poglejmo si primer:"
   ]
  },
  {
   "cell_type": "code",
   "execution_count": 100,
   "metadata": {
    "collapsed": true
   },
   "outputs": [],
   "source": [
    "zunanja = 3\n",
    "def prva():\n",
    "    notranja = 5\n",
    "    print(f'Tole je zunanja vrednost: {zunanja}, tole pa notranja: {notranja}')"
   ]
  },
  {
   "cell_type": "code",
   "execution_count": 101,
   "metadata": {},
   "outputs": [
    {
     "name": "stdout",
     "output_type": "stream",
     "text": [
      "Tole je zunanja vrednost: 3, tole pa notranja: 5\n"
     ]
    }
   ],
   "source": [
    "prva()"
   ]
  },
  {
   "cell_type": "markdown",
   "metadata": {
    "slideshow": {
     "slide_type": "subslide"
    }
   },
   "source": [
    "Ker ime `notranja` zunaj funkcije `prva` ni definirano, bi klicanje:\n",
    "```python\n",
    "notranja\n",
    "```\n",
    "zunaj funkcije vrnilo napako (v funkcijo ne vidimo)."
   ]
  },
  {
   "cell_type": "markdown",
   "metadata": {
    "slideshow": {
     "slide_type": "subslide"
    }
   },
   "source": [
    "Tukaj velja omeniti, da je **posredovanje zunanjih imen v funkcijo mimo argumentov funkcije odsvetovano**."
   ]
  },
  {
   "cell_type": "markdown",
   "metadata": {
    "slideshow": {
     "slide_type": "subslide"
    }
   },
   "source": [
    "## `return`\n",
    "\n",
    "Ukaz `return` vrne vrednosti iz funkcije. Doslej smo spoznali rezultate v obliki ene spremenljivke; ta spremenljivka pa je lahko tudi terka.\n",
    "\n",
    "Pogljemo si primer:"
   ]
  },
  {
   "cell_type": "code",
   "execution_count": 113,
   "metadata": {
    "collapsed": true
   },
   "outputs": [],
   "source": [
    "def vrnem_terko():\n",
    "    return 1, 2, 3 # to je ekvivalenten zapis za terko: (1, 2, 3)"
   ]
  },
  {
   "cell_type": "code",
   "execution_count": 114,
   "metadata": {},
   "outputs": [
    {
     "data": {
      "text/plain": [
       "(1, 2, 3)"
      ]
     },
     "execution_count": 114,
     "metadata": {},
     "output_type": "execute_result"
    }
   ],
   "source": [
    "vrnem_terko()"
   ]
  },
  {
   "cell_type": "markdown",
   "metadata": {
    "slideshow": {
     "slide_type": "subslide"
    }
   },
   "source": [
    "Rezultat funkcije lahko ujamemo tako:"
   ]
  },
  {
   "cell_type": "code",
   "execution_count": 115,
   "metadata": {},
   "outputs": [
    {
     "data": {
      "text/plain": [
       "(1, 2, 3)"
      ]
     },
     "execution_count": 115,
     "metadata": {},
     "output_type": "execute_result"
    }
   ],
   "source": [
    "rezultat = vrnem_terko()\n",
    "rezultat"
   ]
  },
  {
   "cell_type": "markdown",
   "metadata": {},
   "source": [
    "Ali tako, da vrednosti razpakiramo (to sicer velja v splošnem za terke):"
   ]
  },
  {
   "cell_type": "code",
   "execution_count": 119,
   "metadata": {},
   "outputs": [
    {
     "data": {
      "text/plain": [
       "1"
      ]
     },
     "execution_count": 119,
     "metadata": {},
     "output_type": "execute_result"
    }
   ],
   "source": [
    "i1, i2, i3 = vrnem_terko()\n",
    "i1 # izpis samo ene vrednosti"
   ]
  },
  {
   "cell_type": "markdown",
   "metadata": {
    "slideshow": {
     "slide_type": "subslide"
    }
   },
   "source": [
    "## Anonimna funkcija/izraz"
   ]
  },
  {
   "cell_type": "markdown",
   "metadata": {},
   "source": [
    "Anonimna funkcija (glejte [dokumentacijo](https://docs.python.org/tutorial/controlflow.html#lambda-expressions)) je funkcija kateri ne damo imena (zato je *anonimna*) jo definiramo z ukazom `lambda`, tipična uporaba je:\n",
    "\n",
    "```python\n",
    "lambda [seznam parametrov]: izraz\n",
    "```"
   ]
  },
  {
   "cell_type": "markdown",
   "metadata": {
    "slideshow": {
     "slide_type": "subslide"
    }
   },
   "source": [
    "`lambda` funkcijo si bomo pogledali na primeru razvrščanja:"
   ]
  },
  {
   "cell_type": "code",
   "execution_count": 13,
   "metadata": {
    "collapsed": true
   },
   "outputs": [],
   "source": [
    "seznam = [-4, 3, -8, 6]"
   ]
  },
  {
   "cell_type": "markdown",
   "metadata": {
    "slideshow": {
     "slide_type": "subslide"
    }
   },
   "source": [
    "od najmanjše do največje vrednosti. To lahko izvedemo z vgrajeno metodo `sort`:https://docs.python.org/3/library/stdtypes.html#list.sort\n",
    "\n",
    "```python\n",
    "sort(*, key=None, reverse=False)\n",
    "```\n",
    "\n",
    "metoda ima dva opcijska argumenta:\n",
    "* `key` ključ po katerem razvrstimo elemente\n",
    "* `reversed`, če je `False` se med vrednostmi ključa uporabi `<` sicer `>`"
   ]
  },
  {
   "cell_type": "markdown",
   "metadata": {
    "slideshow": {
     "slide_type": "subslide"
    }
   },
   "source": [
    "Opomba: `list.sort()` izvede razvrščanje na obstoječem seznamu in ne vrne seznama. Funkcija `sorted()` (glejte [dokumentacijo](https://docs.python.org/3/library/functions.html#sorted)) pa vrne seznam urejenih vrednosti.\n",
    "\n",
    "Pogljemo primer:"
   ]
  },
  {
   "cell_type": "code",
   "execution_count": 14,
   "metadata": {},
   "outputs": [
    {
     "data": {
      "text/plain": [
       "[-8, -4, 3, 6]"
      ]
     },
     "execution_count": 14,
     "metadata": {},
     "output_type": "execute_result"
    }
   ],
   "source": [
    "seznam = [-4, 3, -8, 6]\n",
    "seznam.sort()\n",
    "seznam"
   ]
  },
  {
   "cell_type": "markdown",
   "metadata": {},
   "source": [
    "Sedaj uporabimo ključ, kjer se bo za primerjvo vrednosti razvrščanja uporabila kvadratna vrednost:"
   ]
  },
  {
   "cell_type": "code",
   "execution_count": 19,
   "metadata": {},
   "outputs": [
    {
     "data": {
      "text/plain": [
       "[3, -4, 6, -8]"
      ]
     },
     "execution_count": 19,
     "metadata": {},
     "output_type": "execute_result"
    }
   ],
   "source": [
    "seznam.sort(key = lambda a: a**2)\n",
    "seznam"
   ]
  },
  {
   "cell_type": "markdown",
   "metadata": {
    "slideshow": {
     "slide_type": "slide"
    }
   },
   "source": [
    "# Delo z datotekami"
   ]
  },
  {
   "cell_type": "markdown",
   "metadata": {},
   "source": [
    "Delo z datotekami je pomembno, saj podatke pogosto shranjujemo v datoteke ali jih beremo iz njih. Datoteko iz katere želimo brati ali vanjo pisati, moramo najprej odpreti. To izvedemo z ukazom `open`:\n",
    "```python\n",
    "open(file, mode='r', buffering=-1, encoding=None, errors=None, newline=None, closefd=True, opener=None)\n",
    "```\n",
    "\n",
    "Od vseh argumentov, je nujen samo `file`, ki definira pot do datoteke."
   ]
  },
  {
   "cell_type": "markdown",
   "metadata": {
    "slideshow": {
     "slide_type": "subslide"
    }
   },
   "source": [
    "Argument ``mode`` je lahko:\n",
    "\n",
    "* 'r' za branje (*read*, privzeto),\n",
    "* 'w' za pisanje (*write*, datoteka se najprej pobriše),\n",
    "* 'x' za ekskluzivno pisanje; če datoteka že obstaja vrne napako,\n",
    "* 'a' za dodajanje na koncu obstoječe datoteke (*append*),\n",
    "* 'b' binarna oblika zapisa\n",
    "* 't' tekstnovna oblika zapisa (privzeto)\n",
    "* '+' datoteka se odpre za branje in pisanje"
   ]
  },
  {
   "cell_type": "markdown",
   "metadata": {
    "slideshow": {
     "slide_type": "subslide"
    }
   },
   "source": [
    "Zadnji trije zanki ('b', 't', '+') se uporabljajo v kombinaciji s prvimi tremi ('r', 'w', 'x'). Primer: `mode='r+b'` pomeni branje in pisanje binarne datoteke.\n",
    "\n",
    "Tukaj bomo podrobneje spoznali samo branje in pisanje tekstovnih datotek.\n",
    "\n",
    "Ostali (opcijski) argumenti funkcije `open` so podrobno opisani v [dokumentaciji](https://docs.python.org/library/functions.html#open)."
   ]
  },
  {
   "cell_type": "markdown",
   "metadata": {
    "slideshow": {
     "slide_type": "subslide"
    }
   },
   "source": [
    "Privzeto je `mode='r'` (oz. `rt` ker je privzet tekstovni način), kar pomeni, da se datoteko odpre za branje v tekstovni obliki. \n",
    "\n",
    "Poglejmo si najprej pisanje v (tekstovno) datoteko (`mode='w'`):"
   ]
  },
  {
   "cell_type": "code",
   "execution_count": 29,
   "metadata": {
    "collapsed": true
   },
   "outputs": [],
   "source": [
    "datoteka = open('data/prikaz vpisa.txt', mode='w')"
   ]
  },
  {
   "cell_type": "markdown",
   "metadata": {},
   "source": [
    "`'data/prikaz vpisa.txt'` predstavlja relativno pot (glede na mesto kjer se poganja *Jupyter notebook*) do datoteke."
   ]
  },
  {
   "cell_type": "markdown",
   "metadata": {
    "slideshow": {
     "slide_type": "subslide"
    }
   },
   "source": [
    "Zapišimo prvo vrstico s pomočjo metode `write`:"
   ]
  },
  {
   "cell_type": "code",
   "execution_count": 30,
   "metadata": {
    "slideshow": {
     "slide_type": "-"
    }
   },
   "outputs": [
    {
     "data": {
      "text/plain": [
       "18"
      ]
     },
     "execution_count": 30,
     "metadata": {},
     "output_type": "execute_result"
    }
   ],
   "source": [
    "datoteka.write('test prve vrstice\\n')"
   ]
  },
  {
   "cell_type": "markdown",
   "metadata": {},
   "source": [
    "Metoda `write` vrne število zapisanih zankov. Če greste v tem trenutku pogledat vsebino datoteke, je velika možnost, da je še prazna. Razlog je v tem, da je vsebina še v medpolnilniku, ki se izprazni na disk samo občasno ali ob zaprtju datoteke (razlog za tako delovanje je v hitrosti zapisa na disk; za podrobnosti glejte dokumentacijo argumenta `buffering` funkcije `open`)."
   ]
  },
  {
   "cell_type": "code",
   "execution_count": 31,
   "metadata": {
    "slideshow": {
     "slide_type": "-"
    }
   },
   "outputs": [
    {
     "data": {
      "text/plain": [
       "14"
      ]
     },
     "execution_count": 31,
     "metadata": {},
     "output_type": "execute_result"
    }
   ],
   "source": [
    "datoteka.write('druga vrstica\\n', )"
   ]
  },
  {
   "cell_type": "markdown",
   "metadata": {
    "slideshow": {
     "slide_type": "subslide"
    }
   },
   "source": [
    "Vpišimo sedaj še nakaj številčnih vrednosti:"
   ]
  },
  {
   "cell_type": "code",
   "execution_count": 32,
   "metadata": {
    "collapsed": true,
    "slideshow": {
     "slide_type": "-"
    }
   },
   "outputs": [],
   "source": [
    "for d in range(5):\n",
    "    datoteka.write(f'{d:7.2e}\\t {d:9.4e}\\n')"
   ]
  },
  {
   "cell_type": "markdown",
   "metadata": {},
   "source": [
    "In datoteko zapremo:"
   ]
  },
  {
   "cell_type": "code",
   "execution_count": 33,
   "metadata": {
    "collapsed": true,
    "slideshow": {
     "slide_type": "-"
    }
   },
   "outputs": [],
   "source": [
    "datoteka.close()"
   ]
  },
  {
   "cell_type": "markdown",
   "metadata": {
    "slideshow": {
     "slide_type": "subslide"
    }
   },
   "source": [
    "Sedaj datoteko odpremo za pisanje na kuncu `mode='r+'`:"
   ]
  },
  {
   "cell_type": "code",
   "execution_count": 34,
   "metadata": {
    "collapsed": true,
    "slideshow": {
     "slide_type": "-"
    }
   },
   "outputs": [],
   "source": [
    "datoteka = open('data/prikaz vpisa.txt', mode='r+')"
   ]
  },
  {
   "cell_type": "markdown",
   "metadata": {
    "slideshow": {
     "slide_type": "subslide"
    }
   },
   "source": [
    "In preveremo vse vrstice z `for` zanko; v spodnji kodi nam `datoteka` v vsakem klucu vrne eno vrstico:"
   ]
  },
  {
   "cell_type": "code",
   "execution_count": 35,
   "metadata": {
    "slideshow": {
     "slide_type": "-"
    }
   },
   "outputs": [
    {
     "name": "stdout",
     "output_type": "stream",
     "text": [
      "test prve vrstice\n",
      "druga vrstica\n",
      "0.00e+00\t 0.0000e+00\n",
      "1.00e+00\t 1.0000e+00\n",
      "2.00e+00\t 2.0000e+00\n",
      "3.00e+00\t 3.0000e+00\n",
      "4.00e+00\t 4.0000e+00\n"
     ]
    }
   ],
   "source": [
    "for line in datoteka:\n",
    "    print(line, end='')"
   ]
  },
  {
   "cell_type": "markdown",
   "metadata": {
    "slideshow": {
     "slide_type": "subslide"
    }
   },
   "source": [
    "Pri uvodu v funkcijo `print` smo omenili argument `file` definira daoteko v katero se piše (privzetu je to standardni izhod oz *zaslon*). Če kot argument `file` posredujemo datoteko, ki je odprta za pisanje:"
   ]
  },
  {
   "cell_type": "code",
   "execution_count": 36,
   "metadata": {
    "collapsed": true,
    "slideshow": {
     "slide_type": "-"
    }
   },
   "outputs": [],
   "source": [
    "print('konec', file=datoteka)\n",
    "datoteka.close()"
   ]
  },
  {
   "cell_type": "markdown",
   "metadata": {},
   "source": [
    "se vsebina zapiše v datoteko. Rezultat lahko preverite v datoteki!"
   ]
  },
  {
   "cell_type": "markdown",
   "metadata": {
    "slideshow": {
     "slide_type": "subslide"
    }
   },
   "source": [
    "Tukaj je lepa priložnost, da spoznamo stavek `with` ([dokumentacija](https://docs.python.org/reference/compound_stmts.html#with)). Celovitost stavka `with` presega namen tega predmeta, je pa zelo elegantna uporaba pri delu z datotekami, zato si poglejmo primer:"
   ]
  },
  {
   "cell_type": "code",
   "execution_count": 39,
   "metadata": {},
   "outputs": [
    {
     "name": "stdout",
     "output_type": "stream",
     "text": [
      "test prve vrstice\n",
      "druga vrstica\n",
      "0.00e+00\t 0.0000e+00\n",
      "1.00e+00\t 1.0000e+00\n",
      "2.00e+00\t 2.0000e+00\n",
      "3.00e+00\t 3.0000e+00\n",
      "4.00e+00\t 4.0000e+00\n",
      "konec\n"
     ]
    }
   ],
   "source": [
    "with open('data/prikaz vpisa.txt') as datoteka:\n",
    "    for line in datoteka:\n",
    "        print(line, end='')"
   ]
  },
  {
   "cell_type": "markdown",
   "metadata": {},
   "source": [
    "Stavek `with` rezultat funkcije `open` shrani v (*as*) ime `datoteka`, potem pa za vsako vrstico vrednosti. Pri izhodu iz stavka `with` se samodejno pokliče metoda `datoteka.close()`. Stavek `with` nam torej omogoča pisanje pregledne in kompaktne kode."
   ]
  },
  {
   "cell_type": "markdown",
   "metadata": {
    "slideshow": {
     "slide_type": "slide"
    }
   },
   "source": [
    "# Kontrola napak in izjem"
   ]
  },
  {
   "cell_type": "markdown",
   "metadata": {},
   "source": [
    "Kadar programiramo kaj bolj zahtevnega, je treba prestreči morebitne napake. Če na primer uporabnik vnese kaj takega:"
   ]
  },
  {
   "cell_type": "code",
   "execution_count": 23,
   "metadata": {},
   "outputs": [
    {
     "ename": "TypeError",
     "evalue": "unsupported operand type(s) for /: 'int' and 'str'",
     "output_type": "error",
     "traceback": [
      "\u001b[1;31m---------------------------------------------------------------------------\u001b[0m",
      "\u001b[1;31mTypeError\u001b[0m                                 Traceback (most recent call last)",
      "\u001b[1;32m<ipython-input-23-803a31f740d7>\u001b[0m in \u001b[0;36m<module>\u001b[1;34m()\u001b[0m\n\u001b[1;32m----> 1\u001b[1;33m \u001b[1;36m1\u001b[0m\u001b[1;33m/\u001b[0m\u001b[1;34m'h'\u001b[0m\u001b[1;33m\u001b[0m\u001b[0m\n\u001b[0m",
      "\u001b[1;31mTypeError\u001b[0m: unsupported operand type(s) for /: 'int' and 'str'"
     ]
    }
   ],
   "source": [
    "1/'h'"
   ]
  },
  {
   "cell_type": "markdown",
   "metadata": {
    "slideshow": {
     "slide_type": "subslide"
    }
   },
   "source": [
    "Python vrne ``ZeroDivisionError``. Če ne želimo, da se program *zruši*, se postopa takole:"
   ]
  },
  {
   "cell_type": "code",
   "execution_count": 24,
   "metadata": {},
   "outputs": [
    {
     "name": "stdout",
     "output_type": "stream",
     "text": [
      "Katera-koli napaka\n"
     ]
    }
   ],
   "source": [
    "a = 0\n",
    "a = '0'\n",
    "try:\n",
    "    1/a    \n",
    "except ZeroDivisionError:\n",
    "    print('Deljenje z ničlo! Vstavite število, ki je različno od nič.') # ali kakšna druga akcija\n",
    "except:\n",
    "    print('Katera-koli napaka') # odsvetovano; dobro je predvideti napako!"
   ]
  },
  {
   "cell_type": "markdown",
   "metadata": {
    "slideshow": {
     "slide_type": "subslide"
    }
   },
   "source": [
    "Pametno je preverjati podatke in potem sprožiti izjeme, ki jih funkcija, kai izvaja trenutno kodo, lahko ujame v stavku ``try except``:"
   ]
  },
  {
   "cell_type": "code",
   "execution_count": 25,
   "metadata": {},
   "outputs": [
    {
     "ename": "Exception",
     "evalue": "Parameter a ne more biti 5",
     "output_type": "error",
     "traceback": [
      "\u001b[1;31m---------------------------------------------------------------------------\u001b[0m",
      "\u001b[1;31mException\u001b[0m                                 Traceback (most recent call last)",
      "\u001b[1;32m<ipython-input-25-287f761376cd>\u001b[0m in \u001b[0;36m<module>\u001b[1;34m()\u001b[0m\n\u001b[0;32m      1\u001b[0m \u001b[0ma\u001b[0m \u001b[1;33m=\u001b[0m \u001b[1;36m5\u001b[0m\u001b[1;33m\u001b[0m\u001b[0m\n\u001b[0;32m      2\u001b[0m \u001b[1;32mif\u001b[0m \u001b[0ma\u001b[0m \u001b[1;33m==\u001b[0m \u001b[1;36m5\u001b[0m\u001b[1;33m:\u001b[0m\u001b[1;33m\u001b[0m\u001b[0m\n\u001b[1;32m----> 3\u001b[1;33m     \u001b[1;32mraise\u001b[0m \u001b[0mException\u001b[0m\u001b[1;33m(\u001b[0m\u001b[1;34mf'Parameter a ne more biti {a:g}'\u001b[0m\u001b[1;33m)\u001b[0m\u001b[1;33m\u001b[0m\u001b[0m\n\u001b[0m",
      "\u001b[1;31mException\u001b[0m: Parameter a ne more biti 5"
     ]
    }
   ],
   "source": [
    "a = 5\n",
    "if a == 5:\n",
    "    raise Exception(f'Parameter a ne more biti {a:g}')"
   ]
  },
  {
   "cell_type": "markdown",
   "metadata": {
    "slideshow": {
     "slide_type": "subslide"
    }
   },
   "source": [
    "Vključimo izjemo sedaj v stavek ``try except``:"
   ]
  },
  {
   "cell_type": "code",
   "execution_count": 26,
   "metadata": {
    "collapsed": true
   },
   "outputs": [],
   "source": [
    "def neka_funkcija(a):\n",
    "    if a >= 5:\n",
    "        raise Exception(f'Parameter a ne more biti večji od {a:g}')\n",
    "    return a**2"
   ]
  },
  {
   "cell_type": "code",
   "execution_count": 27,
   "metadata": {},
   "outputs": [
    {
     "name": "stdout",
     "output_type": "stream",
     "text": [
      "Parameter a ne more biti večji od 5\n"
     ]
    }
   ],
   "source": [
    "try:\n",
    "    neka_funkcija(a=5)\n",
    "except Exception as spremenljivka_napake:\n",
    "    print(spremenljivka_napake)"
   ]
  },
  {
   "cell_type": "markdown",
   "metadata": {},
   "source": [
    "Več: [docs.python.org](https://docs.python.org/3.4/tutorial/errors.html)"
   ]
  },
  {
   "cell_type": "markdown",
   "metadata": {
    "slideshow": {
     "slide_type": "slide"
    }
   },
   "source": [
    "# Izpeljevanje seznamov, slovarjev, množic, terk"
   ]
  },
  {
   "cell_type": "markdown",
   "metadata": {},
   "source": [
    "Izvorni angleški izraz za izpeljevanje seznamov je *list comprehensions*.\n",
    "\n",
    "Poglejmo si, zakaj sploh gre. Začnimo s seznamom:"
   ]
  },
  {
   "cell_type": "code",
   "execution_count": 28,
   "metadata": {
    "collapsed": true
   },
   "outputs": [],
   "source": [
    "a = ['eaa', 'oo', 'štiri', 'nekaj']"
   ]
  },
  {
   "cell_type": "markdown",
   "metadata": {
    "slideshow": {
     "slide_type": "subslide"
    }
   },
   "source": [
    "Predstavljajmo si, da želimo za vsak element zgornjega seznama ugotoviti njegovo dolžino. Klasični programer bi naredil nekaj takega:"
   ]
  },
  {
   "cell_type": "code",
   "execution_count": 29,
   "metadata": {},
   "outputs": [
    {
     "name": "stdout",
     "output_type": "stream",
     "text": [
      "1000000 loops, best of 3: 987 ns per loop\n"
     ]
    }
   ],
   "source": [
    "%%timeit\n",
    "out = [] # pripravimo prazen seznam\n",
    "for _ in a: # podčrtaj pogosto uporabimo za spremenljivko, ki jo hitro zavržemo\n",
    "    out.append(len(_))\n",
    "out"
   ]
  },
  {
   "cell_type": "markdown",
   "metadata": {
    "slideshow": {
     "slide_type": "fragment"
    }
   },
   "source": [
    "Podobne stavke pogosto pišemo in enostavno gre preveč kode za zelo preprosti rezultat. Python zna isti rezultat podati z t. i. izpeljevanjem seznamov:"
   ]
  },
  {
   "cell_type": "code",
   "execution_count": 30,
   "metadata": {},
   "outputs": [
    {
     "name": "stdout",
     "output_type": "stream",
     "text": [
      "The slowest run took 4.93 times longer than the fastest. This could mean that an intermediate result is being cached.\n",
      "1000000 loops, best of 3: 781 ns per loop\n"
     ]
    }
   ],
   "source": [
    "%%timeit\n",
    "[len(_) for _ in a]"
   ]
  },
  {
   "cell_type": "markdown",
   "metadata": {
    "slideshow": {
     "slide_type": "subslide"
    }
   },
   "source": [
    "Lahko dodajamo tudi izraze ``if``:"
   ]
  },
  {
   "cell_type": "code",
   "execution_count": 31,
   "metadata": {},
   "outputs": [
    {
     "data": {
      "text/plain": [
       "[3, 1000, 5, 5]"
      ]
     },
     "execution_count": 31,
     "metadata": {},
     "output_type": "execute_result"
    }
   ],
   "source": [
    "[len(_) if len(_)>2 else 1000 for _ in a]"
   ]
  },
  {
   "cell_type": "markdown",
   "metadata": {
    "slideshow": {
     "slide_type": "subslide"
    }
   },
   "source": [
    "Podobno za množice in slovarje:"
   ]
  },
  {
   "cell_type": "code",
   "execution_count": 32,
   "metadata": {},
   "outputs": [
    {
     "data": {
      "text/plain": [
       "{'ah', 'ih', 'oh', 'uh'}"
      ]
     },
     "execution_count": 32,
     "metadata": {},
     "output_type": "execute_result"
    }
   ],
   "source": [
    "{p+'h' for p in {'i', 'a', 'o', 'u'}} # pri množicah vrstni red ni definiran!"
   ]
  },
  {
   "cell_type": "code",
   "execution_count": 33,
   "metadata": {},
   "outputs": [
    {
     "data": {
      "text/plain": [
       "{'dolžinah', 'višinah', 'širinah'}"
      ]
     },
     "execution_count": 33,
     "metadata": {},
     "output_type": "execute_result"
    }
   ],
   "source": [
    "{p+'h' for p in {'dolžina': 1, 'širina': 3, 'višina': 5}} # slovarji - samo na ključih (keys)"
   ]
  },
  {
   "cell_type": "markdown",
   "metadata": {
    "slideshow": {
     "slide_type": "subslide"
    }
   },
   "source": [
    "Pazi: pri terkah moramo izpeljevanje narediti takole (razlog je v tem, da se navadni oklepaj uporablja za t. i. generatorje - jih spoznamo pozneje): "
   ]
  },
  {
   "cell_type": "code",
   "execution_count": 34,
   "metadata": {},
   "outputs": [
    {
     "data": {
      "text/plain": [
       "('ah', 'eh', 'ih', 'oh', 'uh')"
      ]
     },
     "execution_count": 34,
     "metadata": {},
     "output_type": "execute_result"
    }
   ],
   "source": [
    "tuple(p+'h' for p in ('a', 'e', 'i', 'o', 'u'))"
   ]
  },
  {
   "cell_type": "markdown",
   "metadata": {
    "slideshow": {
     "slide_type": "slide"
    }
   },
   "source": [
    "# Moduli"
   ]
  },
  {
   "cell_type": "markdown",
   "metadata": {},
   "source": [
    "Z moduli lahko na enostaven način uporabimo že napisano kodo.\n",
    "\n",
    "Preprosto povedano, moduli nam v Pythonu omogočajo relativno enostavno ohranjanje preglednosti in reda. V bistvu gre za imenski prostor objektov.\n",
    "\n",
    "V okviru urejevalnika *PyCharm* si poglejmo primer modula: ``prvi_modul.py``, ki se nahaja v poddirektoriju ``moduli``.\n",
    "\n",
    "**Pomembno**: pogosto module hierarhično razporejamo po direktorijih. Če je v določenem direktoriju datoteka (lahko tudi prazna) *\\_\\_init\\_\\_.py*, potem se tak direktorij obnaša kot modul.\n",
    "\n",
    "\n",
    "Modul uvozimo z ``import``. Ob uvozu se modul dejansko izvede:"
   ]
  },
  {
   "cell_type": "code",
   "execution_count": null,
   "metadata": {
    "collapsed": true,
    "slideshow": {
     "slide_type": "subslide"
    }
   },
   "outputs": [],
   "source": [
    "from moduli import prvi_modul"
   ]
  },
  {
   "cell_type": "code",
   "execution_count": null,
   "metadata": {
    "collapsed": true
   },
   "outputs": [],
   "source": [
    "prvi_modul.kvadrat(5)"
   ]
  },
  {
   "cell_type": "markdown",
   "metadata": {
    "slideshow": {
     "slide_type": "subslide"
    }
   },
   "source": [
    "Lahko uvozimo samo del modula:"
   ]
  },
  {
   "cell_type": "code",
   "execution_count": null,
   "metadata": {
    "collapsed": true
   },
   "outputs": [],
   "source": [
    "from moduli.prvi_program import matrika"
   ]
  },
  {
   "cell_type": "code",
   "execution_count": null,
   "metadata": {
    "collapsed": true
   },
   "outputs": [],
   "source": [
    "matrika"
   ]
  },
  {
   "cell_type": "markdown",
   "metadata": {
    "slideshow": {
     "slide_type": "subslide"
    }
   },
   "source": [
    "Ali del tudi preimenujemo:"
   ]
  },
  {
   "cell_type": "code",
   "execution_count": null,
   "metadata": {
    "collapsed": true
   },
   "outputs": [],
   "source": [
    "from moduli.prvi_program import matrika as mat\n",
    "mat"
   ]
  },
  {
   "cell_type": "markdown",
   "metadata": {
    "slideshow": {
     "slide_type": "subslide"
    }
   },
   "source": [
    "Sedaj si v *PyCharm* oglejmo še\n",
    "1. code inspection\n",
    "2. dodajanje komentarjev\n",
    "3. izhod:\n",
    "```python\n",
    "    if __name__ == '__main__':\n",
    "```\n",
    "4. TODO opombe."
   ]
  },
  {
   "cell_type": "markdown",
   "metadata": {
    "slideshow": {
     "slide_type": "subslide"
    }
   },
   "source": [
    "**Kje Python išče module?**\n",
    "1. V lokalni mapi\n",
    "2. v mapah, definiranih v ``PYTHONPATH``\n",
    "3. v mapah, kjer je instaliran Python."
   ]
  },
  {
   "cell_type": "markdown",
   "metadata": {
    "slideshow": {
     "slide_type": "subslide"
    }
   },
   "source": [
    "## Modul ``pickle``"
   ]
  },
  {
   "cell_type": "code",
   "execution_count": null,
   "metadata": {
    "collapsed": true
   },
   "outputs": [],
   "source": [
    "import pickle"
   ]
  },
  {
   "cell_type": "markdown",
   "metadata": {},
   "source": [
    "Gre za zelo uporaben modul, ki celoten objekt (npr: seznam ali terko) shrani v binarni obliki.\n",
    "Tako pisanje kot branje je zelo hitro (pozneje bomo tako shranjevali npr. velike matrike)\n",
    "[docs.python.org](https://docs.python.org/3.4/library/pickle.html)"
   ]
  },
  {
   "cell_type": "markdown",
   "metadata": {
    "slideshow": {
     "slide_type": "subslide"
    }
   },
   "source": [
    "Oglejmo si primer:"
   ]
  },
  {
   "cell_type": "code",
   "execution_count": null,
   "metadata": {
    "collapsed": true
   },
   "outputs": [],
   "source": [
    "a = {'število': 1, 'velikost': 10}\n",
    "\n",
    "with open('data/stanje1.pkl', 'wb') as datoteka:\n",
    "    pickle.dump(a, datoteka, protocol=-1) # pazite: uporabite protocol=-1, da boste uporabili zadnjo verzijo\n",
    "\n",
    "with open('data/stanje1.pkl', 'rb') as datoteka:\n",
    "    b = pickle.load(datoteka)\n",
    "\n",
    "print(a == b)"
   ]
  },
  {
   "cell_type": "code",
   "execution_count": null,
   "metadata": {
    "collapsed": true
   },
   "outputs": [],
   "source": [
    "b"
   ]
  },
  {
   "cell_type": "markdown",
   "metadata": {
    "slideshow": {
     "slide_type": "subslide"
    }
   },
   "source": [
    "**Preverimo hitrost:**"
   ]
  },
  {
   "cell_type": "code",
   "execution_count": null,
   "metadata": {
    "collapsed": true
   },
   "outputs": [],
   "source": [
    "data = list(range(50000))"
   ]
  },
  {
   "cell_type": "code",
   "execution_count": null,
   "metadata": {
    "collapsed": true,
    "slideshow": {
     "slide_type": "fragment"
    }
   },
   "outputs": [],
   "source": [
    "%%timeit\n",
    "datoteka = open('data/data.txt', mode='w')\n",
    "for d in data:\n",
    "    datoteka.write(f'{d:7.2e}\\n' )\n",
    "datoteka.close()"
   ]
  },
  {
   "cell_type": "code",
   "execution_count": null,
   "metadata": {
    "collapsed": true,
    "slideshow": {
     "slide_type": "fragment"
    }
   },
   "outputs": [],
   "source": [
    "%%timeit\n",
    "with open('data/data.pkl', 'wb') as datoteka:\n",
    "    pickle.dump(data, datoteka, protocol=-1) "
   ]
  },
  {
   "cell_type": "markdown",
   "metadata": {
    "slideshow": {
     "slide_type": "slide"
    }
   },
   "source": [
    "# Nekaj vprašanj za razmislek!"
   ]
  },
  {
   "cell_type": "markdown",
   "metadata": {},
   "source": [
    "1. Odprite datoteko za zapis in vanjo vpišite formatirani (skupaj 7 mest, 3 decimalna mesta) seznam v dveh stolpcih. Razločevalni znak med stolpci naj bo prazen znak ' '.\n",
    "2. Odprite pripeto datoteko ``zapis_labview.lvm`` (gre za zapis iz programa LabView) in preberite glavo v obliki slovarja ('ime polja': vrednost).\n",
    "3. V datoteki iz prejšnje točke preberite podatke (uporabite funkcijo ``replace()`` za zamenjavo decimalne vejice v piko in nato pretvorite niz v število. Najdite ustrezno dokumentacijo/help).\n",
    "4. Na poljubnem seznamu besed prikažite uporabo izpeljevanja seznamov tako, da zamenjate poljuben samoglasnik.\n",
    "5. Napišite funkcijo. Če se v funkcijo vstavi seznam besed, potem naj vrne dolžino besed. Če se v funkcjo vstavi seznam numeričnih vrednosti, potem naj vrne njihovo vrednost povečano za ena.\n",
    "6. Zgornjo funkcijo nadgradite: če se v funkcijo vstavi prazen seznam (dolžine 0), potem naj sproži izjemo ``Exception`` z ustreznim opisom.\n",
    "7. Pripravite novo funkcijo, ki bo klicala funkcijo iz točke 6 in lovila izjeme.\n",
    "8. Za obe funkciji pripravite *docstring*.\n",
    "9. Prikažite uporabo argumentov s privzetimi vrednostmi.\n",
    "10. Prikažite uporabo argumentov glede na mesto in glede na ime.\n",
    "11. V funkcijo pošljite nepredvidene vrednosti (nize in numerične vrednosti).\n",
    "12. V funkcijo pošljite nepredvidene poimenske vrednosti.\n",
    "13. Definirajte *lambda* funkcijo, ki spremenljivki spremeni predznak in prišteje vrednost 1. Prikažite uporabo ``map`` in/ali ``filter`` funkcije.\n",
    "14. Zgornji funkciji shranite v modul poljubnega imena (npr.: prve_funkcije.py).\n",
    "15. Uvozite samo eno od funkcij kot funkcijo z novim imenom (drugačno ime od izvornega)\n",
    "16. Poljuben slovar shranite in odprite s ``pickle``."
   ]
  },
  {
   "cell_type": "markdown",
   "metadata": {
    "slideshow": {
     "slide_type": "slide"
    }
   },
   "source": [
    "# Dodatno"
   ]
  },
  {
   "cell_type": "markdown",
   "metadata": {},
   "source": [
    "1. ``openpyxl`` za pisanje in branje Excel 2007 xlsx/xlsm datotek: http://openpyxl.readthedocs.org/en/latest/index.html#\n",
    "2. Delo z ActiveX. Primer pisanja v Excel z ActiveX: https://ucilnica.fri.uni-lj.si/mod/page/view.php?id=30964\n",
    "3. Regularni izrazi (zelo močno orodje za iskanje po nizih): https://docs.python.org/3.4/library/re.html ali v slovenščini https://ucilnica.fri.uni-lj.si/mod/page/view.php?id=30963"
   ]
  },
  {
   "cell_type": "markdown",
   "metadata": {
    "slideshow": {
     "slide_type": "slide"
    }
   },
   "source": [
    "# Uporabljajte www.stackoverflow.com!"
   ]
  },
  {
   "cell_type": "markdown",
   "metadata": {},
   "source": [
    "http://www.stackoverflow.com"
   ]
  },
  {
   "cell_type": "markdown",
   "metadata": {
    "slideshow": {
     "slide_type": "slide"
    }
   },
   "source": [
    "# Nekateri dodatni moduli"
   ]
  },
  {
   "cell_type": "markdown",
   "metadata": {},
   "source": [
    "## Modul ``sys``"
   ]
  },
  {
   "cell_type": "code",
   "execution_count": null,
   "metadata": {
    "collapsed": true
   },
   "outputs": [],
   "source": [
    "import sys\n",
    "sys.path"
   ]
  },
  {
   "cell_type": "markdown",
   "metadata": {},
   "source": [
    "Python ima veliko število vgrajenih modulov (in še veliko, se jih lahko prenese s spleta, npr. tukaj: https://pypi.python.org/pypi), ki dodajo različne funkcionalnosti. \n",
    "\n",
    "``sys`` modul omogoča dostop do objektov, ki jih uporablja interpreter (``?sys``)."
   ]
  },
  {
   "cell_type": "markdown",
   "metadata": {},
   "source": [
    "Če želimo videti, v katerih mapah išče module, to naredimo takole:"
   ]
  },
  {
   "cell_type": "code",
   "execution_count": null,
   "metadata": {
    "collapsed": true
   },
   "outputs": [],
   "source": [
    "sys.path"
   ]
  },
  {
   "cell_type": "markdown",
   "metadata": {},
   "source": [
    "## Modul ``os``"
   ]
  },
  {
   "cell_type": "code",
   "execution_count": null,
   "metadata": {
    "collapsed": true
   },
   "outputs": [],
   "source": [
    "import os\n",
    "?os"
   ]
  },
  {
   "cell_type": "markdown",
   "metadata": {},
   "source": [
    "Modul ``os`` je namenjen delu z operacijskim sistemom in skrbi za združljivost z različnimi operacijskimi sistemi."
   ]
  },
  {
   "cell_type": "code",
   "execution_count": null,
   "metadata": {
    "collapsed": true
   },
   "outputs": [],
   "source": [
    "os.path.curdir"
   ]
  },
  {
   "cell_type": "code",
   "execution_count": null,
   "metadata": {
    "collapsed": true
   },
   "outputs": [],
   "source": [
    "os.path.abspath(os.path.curdir)"
   ]
  },
  {
   "cell_type": "markdown",
   "metadata": {},
   "source": [
    "Kako najdemo vse datoteke in mape v direktoriju?"
   ]
  },
  {
   "cell_type": "code",
   "execution_count": null,
   "metadata": {
    "collapsed": true
   },
   "outputs": [],
   "source": [
    "seznam = os.listdir()"
   ]
  },
  {
   "cell_type": "code",
   "execution_count": null,
   "metadata": {
    "collapsed": true
   },
   "outputs": [],
   "source": [
    "for vrednost in seznam:\n",
    "    if os.path.isfile(vrednost):\n",
    "        print(f'Našel sem datoteko: {vrednost:s}')"
   ]
  },
  {
   "cell_type": "code",
   "execution_count": null,
   "metadata": {
    "collapsed": true
   },
   "outputs": [],
   "source": []
  }
 ],
 "metadata": {
  "anaconda-cloud": {},
  "celltoolbar": "Slideshow",
  "kernelspec": {
   "display_name": "Python 3",
   "language": "python",
   "name": "python3"
  },
  "language_info": {
   "codemirror_mode": {
    "name": "ipython",
    "version": 3
   },
   "file_extension": ".py",
   "mimetype": "text/x-python",
   "name": "python",
   "nbconvert_exporter": "python",
   "pygments_lexer": "ipython3",
   "version": "3.6.2"
  },
  "latex_envs": {
   "bibliofile": "biblio.bib",
   "cite_by": "apalike",
   "current_citInitial": 1,
   "eqLabelWithNumbers": true,
   "eqNumInitial": 0
  },
  "livereveal": {
   "theme": "sky",
   "transition": "default",
   "width": 1200
  },
  "nav_menu": {},
  "toc": {
   "colors": {
    "hover_highlight": "#DAA520",
    "navigate_num": "#000000",
    "navigate_text": "#333333",
    "running_highlight": "#FF0000",
    "selected_highlight": "#FFD700",
    "sidebar_border": "#EEEEEE",
    "wrapper_background": "#FFFFFF"
   },
   "moveMenuLeft": true,
   "nav_menu": {
    "height": "317px",
    "width": "252px"
   },
   "navigate_menu": true,
   "number_sections": true,
   "sideBar": true,
   "threshold": "2",
   "toc_cell": true,
   "toc_section_display": "block",
   "toc_window_display": false,
   "widenNotebook": false
  }
 },
 "nbformat": 4,
 "nbformat_minor": 1
}
