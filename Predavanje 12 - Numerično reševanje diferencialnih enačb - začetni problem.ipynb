{
 "cells": [
  {
   "cell_type": "markdown",
   "metadata": {
    "slideshow": {
     "slide_type": "slide"
    }
   },
   "source": [
    "<font size=\"2\"> [github.com/jankoslavic/pypinm](http://github.com/jankoslavic/pypinm)</font>\n",
    "\n",
    "<center>\n",
    "<img width=300 src=\"./fig/ladisk.png\">\n",
    "<br>\n",
    "<font size=\"7\" color=\"f00e0e\" face=\"garamond\"><b>Numerično reševanje diferencialnih enačb - začetni problem</b></font>\n",
    "<br><br>\n",
    "<font size=\"4\">\n",
    "[izr. prof. dr. Janko Slavič](http://www.ladisk.si/~slavic)\n",
    "</font>\n",
    "<br><br>\n",
    "<font size=\"2\">Oktober 2017 </font>\n",
    "</center>"
   ]
  },
  {
   "cell_type": "markdown",
   "metadata": {
    "slideshow": {
     "slide_type": "subslide"
    },
    "toc": "true"
   },
   "source": [
    "# Table of Contents\n",
    " <p><div class=\"lev1 toc-item\"><a href=\"#Uvod\" data-toc-modified-id=\"Uvod-1\"><span class=\"toc-item-num\">1&nbsp;&nbsp;</span>Uvod</a></div><div class=\"lev2 toc-item\"><a href=\"#Zapis-(ene)-diferencialna-enačba\" data-toc-modified-id=\"Zapis-(ene)-diferencialna-enačba-11\"><span class=\"toc-item-num\">1.1&nbsp;&nbsp;</span>Zapis (ene) diferencialna enačba</a></div><div class=\"lev1 toc-item\"><a href=\"#Eulerjeva-metoda\" data-toc-modified-id=\"Eulerjeva-metoda-2\"><span class=\"toc-item-num\">2&nbsp;&nbsp;</span>Eulerjeva metoda</a></div><div class=\"lev2 toc-item\"><a href=\"#Napaka-Eulerjeve-metode\" data-toc-modified-id=\"Napaka-Eulerjeve-metode-21\"><span class=\"toc-item-num\">2.1&nbsp;&nbsp;</span>Napaka Eulerjeve metode</a></div><div class=\"lev2 toc-item\"><a href=\"#Komentar-na-implicitno-Eulerjevo-metodo\" data-toc-modified-id=\"Komentar-na-implicitno-Eulerjevo-metodo-22\"><span class=\"toc-item-num\">2.2&nbsp;&nbsp;</span>Komentar na implicitno Eulerjevo metodo</a></div><div class=\"lev2 toc-item\"><a href=\"#Numerična-implementacija\" data-toc-modified-id=\"Numerična-implementacija-23\"><span class=\"toc-item-num\">2.3&nbsp;&nbsp;</span>Numerična implementacija</a></div><div class=\"lev2 toc-item\"><a href=\"#Numerični-zgled\" data-toc-modified-id=\"Numerični-zgled-24\"><span class=\"toc-item-num\">2.4&nbsp;&nbsp;</span>Numerični zgled</a></div><div class=\"lev1 toc-item\"><a href=\"#Metoda-Runge-Kutta-2.-reda\" data-toc-modified-id=\"Metoda-Runge-Kutta-2.-reda-3\"><span class=\"toc-item-num\">3&nbsp;&nbsp;</span>Metoda Runge-Kutta 2. reda</a></div><div class=\"lev2 toc-item\"><a href=\"#Ideja-pristopa-Runge-Kutta\" data-toc-modified-id=\"Ideja-pristopa-Runge-Kutta-31\"><span class=\"toc-item-num\">3.1&nbsp;&nbsp;</span>Ideja pristopa Runge-Kutta</a></div><div class=\"lev1 toc-item\"><a href=\"#Metoda-Runge-Kutta-4.-reda\" data-toc-modified-id=\"Metoda-Runge-Kutta-4.-reda-4\"><span class=\"toc-item-num\">4&nbsp;&nbsp;</span>Metoda Runge-Kutta 4. reda</a></div><div class=\"lev2 toc-item\"><a href=\"#Napaka-metode-Runge-Kutta-4-reda\" data-toc-modified-id=\"Napaka-metode-Runge-Kutta-4-reda-41\"><span class=\"toc-item-num\">4.1&nbsp;&nbsp;</span>Napaka metode Runge-Kutta 4 reda</a></div><div class=\"lev2 toc-item\"><a href=\"#Numerična-implementacija\" data-toc-modified-id=\"Numerična-implementacija-42\"><span class=\"toc-item-num\">4.2&nbsp;&nbsp;</span>Numerična implementacija</a></div><div class=\"lev2 toc-item\"><a href=\"#Numerični-zgled\" data-toc-modified-id=\"Numerični-zgled-43\"><span class=\"toc-item-num\">4.3&nbsp;&nbsp;</span>Numerični zgled</a></div><div class=\"lev1 toc-item\"><a href=\"#Uporaba-scipy-za-reševanje-navadnih-diferencialnih-enačb\" data-toc-modified-id=\"Uporaba-scipy-za-reševanje-navadnih-diferencialnih-enačb-5\"><span class=\"toc-item-num\">5&nbsp;&nbsp;</span>Uporaba <code>scipy</code> za reševanje navadnih diferencialnih enačb</a></div><div class=\"lev2 toc-item\"><a href=\"#scipy.integrate.odeint\" data-toc-modified-id=\"scipy.integrate.odeint-51\"><span class=\"toc-item-num\">5.1&nbsp;&nbsp;</span><code>scipy.integrate.odeint</code></a></div><div class=\"lev2 toc-item\"><a href=\"#scipy.integrate.ode\" data-toc-modified-id=\"scipy.integrate.ode-52\"><span class=\"toc-item-num\">5.2&nbsp;&nbsp;</span><code>scipy.integrate.ode</code></a></div><div class=\"lev1 toc-item\"><a href=\"#Sistem-navadnih-diferencialnih-enačb\" data-toc-modified-id=\"Sistem-navadnih-diferencialnih-enačb-6\"><span class=\"toc-item-num\">6&nbsp;&nbsp;</span>Sistem navadnih diferencialnih enačb</a></div><div class=\"lev2 toc-item\"><a href=\"#Numerična-implementacija\" data-toc-modified-id=\"Numerična-implementacija-61\"><span class=\"toc-item-num\">6.1&nbsp;&nbsp;</span>Numerična implementacija</a></div><div class=\"lev2 toc-item\"><a href=\"#Numerični-zgled\" data-toc-modified-id=\"Numerični-zgled-62\"><span class=\"toc-item-num\">6.2&nbsp;&nbsp;</span>Numerični zgled</a></div><div class=\"lev2 toc-item\"><a href=\"#Preoblikovanje-diferencialne-enačbe-višjega-reda-v-sistem-diferencialnih-enačb-1.-reda\" data-toc-modified-id=\"Preoblikovanje-diferencialne-enačbe-višjega-reda-v-sistem-diferencialnih-enačb-1.-reda-63\"><span class=\"toc-item-num\">6.3&nbsp;&nbsp;</span>Preoblikovanje diferencialne enačbe višjega reda v sistem diferencialnih enačb 1. reda</a></div><div class=\"lev2 toc-item\"><a href=\"#Numerični-zgled\" data-toc-modified-id=\"Numerični-zgled-64\"><span class=\"toc-item-num\">6.4&nbsp;&nbsp;</span>Numerični zgled</a></div><div class=\"lev2 toc-item\"><a href=\"#Numerični-zgled-vezanih-navadnih-diferencialnih-enačb-2.-reda\" data-toc-modified-id=\"Numerični-zgled-vezanih-navadnih-diferencialnih-enačb-2.-reda-65\"><span class=\"toc-item-num\">6.5&nbsp;&nbsp;</span>Numerični zgled vezanih navadnih diferencialnih enačb 2. reda</a></div><div class=\"lev1 toc-item\"><a href=\"#Stabilnost-reševanja-diferencialnih-enačb*\" data-toc-modified-id=\"Stabilnost-reševanja-diferencialnih-enačb*-7\"><span class=\"toc-item-num\">7&nbsp;&nbsp;</span>Stabilnost reševanja diferencialnih enačb*</a></div><div class=\"lev2 toc-item\"><a href=\"#Primer-preprostega-nihala\" data-toc-modified-id=\"Primer-preprostega-nihala-71\"><span class=\"toc-item-num\">7.1&nbsp;&nbsp;</span>Primer preprostega nihala</a></div><div class=\"lev1 toc-item\"><a href=\"#Nekaj-vprašanj-za-razmislek!\" data-toc-modified-id=\"Nekaj-vprašanj-za-razmislek!-8\"><span class=\"toc-item-num\">8&nbsp;&nbsp;</span>Nekaj vprašanj za razmislek!</a></div><div class=\"lev2 toc-item\"><a href=\"#Primer-Van-der-Polovega-nihala\" data-toc-modified-id=\"Primer-Van-der-Polovega-nihala-81\"><span class=\"toc-item-num\">8.1&nbsp;&nbsp;</span>Primer Van der Polovega nihala</a></div><div class=\"lev2 toc-item\"><a href=\"#Simbolno-reševanje-diferencialne-enačbe-drugega-reda\" data-toc-modified-id=\"Simbolno-reševanje-diferencialne-enačbe-drugega-reda-82\"><span class=\"toc-item-num\">8.2&nbsp;&nbsp;</span>Simbolno reševanje diferencialne enačbe drugega reda</a></div>"
   ]
  },
  {
   "cell_type": "code",
   "execution_count": 1,
   "metadata": {
    "collapsed": true,
    "slideshow": {
     "slide_type": "subslide"
    }
   },
   "outputs": [],
   "source": [
    "import numpy as np\n",
    "from ipywidgets import interact\n",
    "import matplotlib.pyplot as plt\n",
    "%matplotlib inline\n",
    "import sympy as sym\n",
    "sym.init_printing()"
   ]
  },
  {
   "cell_type": "markdown",
   "metadata": {
    "slideshow": {
     "slide_type": "slide"
    }
   },
   "source": [
    "# Uvod"
   ]
  },
  {
   "cell_type": "markdown",
   "metadata": {
    "slideshow": {
     "slide_type": "subslide"
    }
   },
   "source": [
    "\n",
    "## Zapis (ene) diferencialna enačba"
   ]
  },
  {
   "cell_type": "markdown",
   "metadata": {},
   "source": [
    "Predpostavimo, da se da diferencialna enačba prvega reda zapisati v *eksplicitni* obliki:\n",
    "$$y'=f(t, y),$$\n",
    "kjer je $f(t, y)$ podana funkcija in velja $y'=dy/dx$.\n",
    "\n",
    "Dodatno je podan začetni pogoj:\n",
    "$$y(t_0)=y_0.$$"
   ]
  },
  {
   "cell_type": "markdown",
   "metadata": {
    "slideshow": {
     "slide_type": "subslide"
    }
   },
   "source": [
    "Cilj reševanja diferencialne enačbe, je izračunati funkcijo $y(t)$, ki reši zgoraj definiran začetni problem. Ob določenih pogojih funkcije $f(t, y)$, ima začetni problem analitično rešitev na intevalu, ki vsebuje $a$."
   ]
  },
  {
   "cell_type": "markdown",
   "metadata": {
    "slideshow": {
     "slide_type": "subslide"
    }
   },
   "source": [
    "Pri numeričnem reševanju vedno računamo tabelo funkcije $y(t_i)$, ki reši dan začetni problem; pri tem so vozlišča $t_i$ tipično ekvidistantna:\n",
    "$$t_0, t_0+h, t_0+2h,\\dots$$\n",
    "in $h$ imenujemo (časovni) korak (integracije).\n",
    "\n",
    "Tukaj si bomo pogledali nekatere numerične metode, ki vodijo v približno reševanje diferencialne enačbe."
   ]
  },
  {
   "cell_type": "markdown",
   "metadata": {
    "slideshow": {
     "slide_type": "slide"
    }
   },
   "source": [
    "# Eulerjeva metoda"
   ]
  },
  {
   "cell_type": "markdown",
   "metadata": {},
   "source": [
    "**Eksplicitna Eulerjeva metoda** temelji na razvoju funkcije $y$ v Taylorjevo vrsto:\n",
    "\n",
    "$$y(t+h)=y(t)+y'(t, y(t))\\,h + \n",
    "\\mathcal{O}(h^2).$$"
   ]
  },
  {
   "cell_type": "markdown",
   "metadata": {},
   "source": [
    "Naredimo napako metode $\\mathcal{O}(h^2)$ in zanemarimo odvode drugega in višjih redov; sedaj lahko ob znani vrednosti $y(t)$ in odvodu $y'(t)=f(t,y)$ ocenimo vrednosti pri naslednjem časovnem koraku $t+h$. Ko imamo enkrat znane vrednosti pri $t+h$, ponovimo postopek!"
   ]
  },
  {
   "cell_type": "markdown",
   "metadata": {
    "slideshow": {
     "slide_type": "subslide"
    }
   },
   "source": [
    "Koraki Eulerjeve metode:\n",
    "\n",
    "1. Določitev $i=0$ in $t_0$, $y_0=y(t_0)$.\n",
    "* Izračun vrednosti funkcije pri $t_{i+1}=t_i+h$:\n",
    "$$y_{i+1}= y_i + f(t_i, y_i)).$$\n",
    "* $i=i+1$ in nadaljevanje v koraku 2."
   ]
  },
  {
   "cell_type": "markdown",
   "metadata": {
    "slideshow": {
     "slide_type": "subslide"
    }
   },
   "source": [
    "Diferencialno enačbo rešujemo na intervalu $[a,b]$ in velja $h=(b-a)/n$. $n$ število integracijskih korakov; torej kolikokrat izvedemo korak 2 v zgornjem algoritmu. \n",
    "\n",
    "Rešitev numeričnega reševanja je tabela vrednosti funkcije:\n",
    "$$y_0, y_1, y_2,\\dots, y_{n}$$\n",
    "\n",
    "pri vrednosti neodvisne spremenljivke:\n",
    "$$t_0, t_1, t_2, \\dots, t_n.$$"
   ]
  },
  {
   "cell_type": "markdown",
   "metadata": {
    "slideshow": {
     "slide_type": "subslide"
    }
   },
   "source": [
    "## Napaka Eulerjeve metode\n",
    "\n",
    "Napaka Eulerjeve metode na vsakem koraku je reda $\\mathcal{O}(h^2)$. \n",
    "\n",
    "Ker na intervalu od $t_0$ do $t_n$ tako napako naredimo $n$-krat, je kumulativna napaka $n\\,\\mathcal{O}(h^2)=\\frac{t_n-t_0}{h}\\,\\mathcal{O}(h^2)=\\mathcal{O}(h)$.\n",
    "\n",
    "Lokalno je torej napaka drugega reda, globalno pa je napaka prvega reda in zato Eulerjevo metodo relativno redko uporabljamo v praksi!"
   ]
  },
  {
   "cell_type": "markdown",
   "metadata": {
    "slideshow": {
     "slide_type": "subslide"
    }
   },
   "source": [
    "### Ocena napake\n",
    "\n",
    "Točen rezultat $y(t_n)$ pri velikosti koraka $h$ je:\n",
    "\n",
    "$$y(t_n)=y_{n,h}+E_h,$$\n",
    "kjer je $y_{n,h}$ numerični približek in $E_h$ napaka metode. Ker je globalna napaka prvega reda, lahko napako definiramo kot:\n",
    "\n",
    "$$E_h=k\\,h,$$"
   ]
  },
  {
   "cell_type": "markdown",
   "metadata": {
    "slideshow": {
     "slide_type": "subslide"
    }
   },
   "source": [
    "Podobno lahko za velikost koraka $2h$ definiramo:\n",
    "\n",
    "$$y(t_n)=y_{n,2h}+E_{2h},$$\n",
    "kjer je $y_{n,2h}$ numerični približek in $E_{2h}$ napaka metode:\n",
    "\n",
    "$$E_{2h}=k\\,2\\,h.$$"
   ]
  },
  {
   "cell_type": "markdown",
   "metadata": {
    "slideshow": {
     "slide_type": "subslide"
    }
   },
   "source": [
    "Ob predpostavki, da je konstanta $k$ pri koraku $h$ in koraku $2h$ enaka, lahko določimo oceno napake pri boljšem približku $E_h$. Najprej izenačimo točna rezultata $y(t_n)$ koraka $h$ in $2h$:\n",
    "\n",
    "$$y_{n,h}+k\\,h=y_{n,2h}+2\\,k\\,h$$\n",
    "\n",
    "nato določimo *oceno napake*:\n",
    "\n",
    "$$E_h=k\\,h=y_{n,h}-y_{n,2h}.$$"
   ]
  },
  {
   "cell_type": "markdown",
   "metadata": {
    "slideshow": {
     "slide_type": "subslide"
    }
   },
   "source": [
    "## Komentar na implicitno Eulerjevo metodo\n",
    "\n",
    "Pri eksplicitni Eulerjevi metodi računamo rešitev pri $t_{i+1}$ iz izračunane vrednosti pri $t_i$.\n",
    "\n",
    "V kolikor bi nastopala neznana vrednost rešitve pri $t_{i+1}$, to je $y_{i+1}$, tudi na desni strani, bi govorili o **implicitni Eulerjevi metodi** (ali *povratni Eulerjevi metod*):\n",
    "\n",
    "$$y_{i+1}=y_i+f(t_{i+1}, y_{i+1})\\,h.$$"
   ]
  },
  {
   "cell_type": "markdown",
   "metadata": {
    "slideshow": {
     "slide_type": "subslide"
    }
   },
   "source": [
    "Ker se iskana vrednost $y_{i+1}$ nahaja na obeh straneh enačbe, moramo za določitev $y_{i+1}$ rešiti (nelinearno) enačbo. Prednost implicitne Eulerjeve metode je, da je bolj stabilna (npr. v primeru togih sistemov, ki jih bomo spoznali pozneje) kakor eksplicitna oblika, vendar pa je numerično bolj zahtevna (zaradi računanja rešitve enačbe)."
   ]
  },
  {
   "cell_type": "markdown",
   "metadata": {
    "slideshow": {
     "slide_type": "subslide"
    }
   },
   "source": [
    "## Numerična implementacija\n",
    "\n",
    "Najprej uvozimo potrebne knjižnice:"
   ]
  },
  {
   "cell_type": "code",
   "execution_count": 2,
   "metadata": {
    "collapsed": true
   },
   "outputs": [],
   "source": [
    "import numpy as np\n",
    "import matplotlib.pylab as plt\n",
    "%matplotlib inline"
   ]
  },
  {
   "cell_type": "markdown",
   "metadata": {},
   "source": [
    "Nato definirajmo Eulerjevo metodo:"
   ]
  },
  {
   "cell_type": "code",
   "execution_count": 3,
   "metadata": {
    "collapsed": true,
    "slideshow": {
     "slide_type": "subslide"
    }
   },
   "outputs": [],
   "source": [
    "def euler(f, t, y0, *args, **kwargs):\n",
    "    \"\"\"\n",
    "    Eulerjeva metoda za reševanje sistema diferencialnih enačb: y' = f(t, y)\n",
    "    \n",
    "    :param f:  funkcija prvega odvoda f(t, y)\n",
    "    :param t:  časovni vektor kjer računamo rešitev\n",
    "    :param y0: začetna vrednosti\n",
    "    :param args: dodatni argumenti funkcije f (brezimenski)\n",
    "    :param kwargs: dodatni argumenti funkcije f (poimenovani)\n",
    "    :return y: vrne np.array ``y`` vrednosti funkcije.\n",
    "    \"\"\"\n",
    "    y = np.zeros_like(t)\n",
    "    y[0] = y0        \n",
    "    h = t[1]-t[0]\n",
    "    for i in range(len(t)-1):\n",
    "        y[i+1] = y[i] + f(t[i], y[i], *args, **kwargs) * h\n",
    "    return y"
   ]
  },
  {
   "cell_type": "markdown",
   "metadata": {
    "slideshow": {
     "slide_type": "subslide"
    }
   },
   "source": [
    "Pripravimo funkcijo za oceno napake (v numeričnem smislu, bi bilo bolje oceno napake vključiti v funkcijo `euler`, vendar jo zaradi jasnosti predstavimo ločeno):"
   ]
  },
  {
   "cell_type": "code",
   "execution_count": 4,
   "metadata": {
    "collapsed": true
   },
   "outputs": [],
   "source": [
    "def euler_napaka(f, t, y0, *args, **kwargs):\n",
    "    \"\"\" Ocena napake Eulerjeve metode; argumenti so isti kakor za funkcijo `euler`\n",
    "    \"\"\"\n",
    "    n = len(t)\n",
    "    if n < 5:\n",
    "        raise Exception('Vozlišč mora biti vsaj 5.')\n",
    "    if n%2==0: # sodo vozlišč; odstrani eno točko in spremeni na liho (da je sodo odsekov)\n",
    "        n = n - 1\n",
    "    y_h = euler(f, t[:n], y0, *args, **kwargs)\n",
    "    y_2h = euler(f, t[:n:2], y0, *args, **kwargs)\n",
    "    E_h = y_h[-1] - y_2h[-1]\n",
    "    return E_h"
   ]
  },
  {
   "cell_type": "markdown",
   "metadata": {
    "slideshow": {
     "slide_type": "subslide"
    }
   },
   "source": [
    "## Numerični zgled\n",
    "\n",
    "\n",
    "Kot primer si diferencialno enačbo padanje telesa, ki je izpostavljeno sili teže in zračnemu uporu:\n",
    "<img width=150 src=\"fig/padanje_telesa.png\">"
   ]
  },
  {
   "cell_type": "markdown",
   "metadata": {
    "slideshow": {
     "slide_type": "subslide"
    }
   },
   "source": [
    "Glede na II. Newtonov zakon, lahko zapišemo diferencialno enačbo:\n",
    "\n",
    "$$m\\,g-c\\,v=m\\,v',$$\n",
    "kjer je $m$ masa, $g$ gravitacijski pospešek, $c$ koeficient zračnega upora in $v$ hitrost. Diferencialno enačbo bi hoteli rešiti glede na začetni pogoj:\n",
    "\n",
    "$$v(0)=0\\,\\textrm{m/s}.$$"
   ]
  },
  {
   "cell_type": "markdown",
   "metadata": {
    "slideshow": {
     "slide_type": "subslide"
    }
   },
   "source": [
    "Da uskladimo oznake z oznakami zgoraj, uporabimo $y=v$. Funkcija prvega odvoda $f(t,y)$ sedaj je:\n",
    "\n",
    "$$f(t,y)=g-c\\,\\frac{y}{m}$$\n",
    "\n",
    "in začetni pogoj:\n",
    "$$y_0=0.$$"
   ]
  },
  {
   "cell_type": "markdown",
   "metadata": {
    "slideshow": {
     "slide_type": "subslide"
    }
   },
   "source": [
    "Definirajmo Python funkcijo prvega odvoda:"
   ]
  },
  {
   "cell_type": "code",
   "execution_count": 5,
   "metadata": {
    "collapsed": true
   },
   "outputs": [],
   "source": [
    "def f_zračni_upor(t, y, g=9.81, m=1., c=0.5):\n",
    "    return g-c*y/m"
   ]
  },
  {
   "cell_type": "markdown",
   "metadata": {
    "slideshow": {
     "slide_type": "subslide"
    }
   },
   "source": [
    "Definirajmo začetni pogoj in časovni vektor, kjer nas zanima rezultat:"
   ]
  },
  {
   "cell_type": "code",
   "execution_count": 6,
   "metadata": {},
   "outputs": [
    {
     "data": {
      "text/plain": [
       "array([  0.,   1.,   2.,   3.,   4.,   5.,   6.,   7.,   8.,   9.,  10.])"
      ]
     },
     "execution_count": 6,
     "metadata": {},
     "output_type": "execute_result"
    }
   ],
   "source": [
    "y0 = 0\n",
    "t = np.linspace(0, 10, 11)\n",
    "t"
   ]
  },
  {
   "cell_type": "markdown",
   "metadata": {
    "slideshow": {
     "slide_type": "subslide"
    }
   },
   "source": [
    "Ter kličemo funkcijo `euler` za izračun vrednosti $y$ (hitrost $v$):"
   ]
  },
  {
   "cell_type": "code",
   "execution_count": 7,
   "metadata": {},
   "outputs": [
    {
     "data": {
      "text/plain": [
       "array([  0.        ,   9.81      ,  14.715     ,  17.1675    ,\n",
       "        18.39375   ,  19.006875  ,  19.3134375 ,  19.46671875,\n",
       "        19.54335938,  19.58167969,  19.60083984])"
      ]
     },
     "execution_count": 7,
     "metadata": {},
     "output_type": "execute_result"
    }
   ],
   "source": [
    "y = euler(f_zračni_upor, t, y0=y0)\n",
    "y"
   ]
  },
  {
   "cell_type": "markdown",
   "metadata": {
    "slideshow": {
     "slide_type": "subslide"
    }
   },
   "source": [
    "Prikažemo rezultat:"
   ]
  },
  {
   "cell_type": "code",
   "execution_count": 8,
   "metadata": {},
   "outputs": [
    {
     "data": {
      "image/png": "[encoded data removed]",
      "text/plain": [
       "<matplotlib.figure.Figure at 0x255030297b8>"
      ]
     },
     "metadata": {},
     "output_type": "display_data"
    }
   ],
   "source": [
    "plt.plot(t, y)\n",
    "plt.title('Hitrost mase v odvisnosti od časa')\n",
    "plt.xlabel('Čas $t$ [s]')\n",
    "plt.ylabel('Hitrost $v$ [m/s]')\n",
    "plt.show()"
   ]
  },
  {
   "cell_type": "markdown",
   "metadata": {},
   "source": [
    "Preverimo sedaj vpliv časovnega koraka:"
   ]
  },
  {
   "cell_type": "code",
   "execution_count": 9,
   "metadata": {},
   "outputs": [
    {
     "data": {
      "image/png": "[encoded data removed]",
      "text/plain": [
       "<matplotlib.figure.Figure at 0x255036862e8>"
      ]
     },
     "metadata": {},
     "output_type": "display_data"
    }
   ],
   "source": [
    "for n in [11, 101, 1001]:\n",
    "    t = np.linspace(0, 10, n)\n",
    "    y = euler(f_zračni_upor, t, y0=y0)\n",
    "    plt.plot(t, y, label=f'Časovni korak: {t[1]:1.0e}')\n",
    "plt.title('Hitrost mase v odvisnosti od časa')\n",
    "plt.xlabel('Čas $t$ [s]')\n",
    "plt.ylabel('Hitrost $v$ [m/s]')\n",
    "plt.legend()\n",
    "plt.show()"
   ]
  },
  {
   "cell_type": "markdown",
   "metadata": {
    "slideshow": {
     "slide_type": "subslide"
    }
   },
   "source": [
    "Opazimo, da se numerična napaka pri spremembi koraka iz 1 na 0.1 bistveno zmanjša!\n",
    "\n",
    "Ocenimo še napako pri 100 in 1000 odsekih:"
   ]
  },
  {
   "cell_type": "code",
   "execution_count": 10,
   "metadata": {},
   "outputs": [
    {
     "data": {
      "image/png": "[encoded data removed]",
      "text/latex": [
       "$$-0.0150437137353$$"
      ],
      "text/plain": [
       "-0.0150437137353"
      ]
     },
     "execution_count": 10,
     "metadata": {},
     "output_type": "execute_result"
    }
   ],
   "source": [
    "n=101\n",
    "t = np.linspace(0, 10, n)\n",
    "euler_napaka(f_zračni_upor, t, y0=y0)"
   ]
  },
  {
   "cell_type": "code",
   "execution_count": 11,
   "metadata": {},
   "outputs": [
    {
     "data": {
      "image/png": "[encoded data removed]",
      "text/latex": [
       "$$-0.00163798622449$$"
      ],
      "text/plain": [
       "-0.00163798622449"
      ]
     },
     "execution_count": 11,
     "metadata": {},
     "output_type": "execute_result"
    }
   ],
   "source": [
    "n=1001\n",
    "t = np.linspace(0, 10, n)\n",
    "euler_napaka(f_zračni_upor, t, y0=y0)"
   ]
  },
  {
   "cell_type": "markdown",
   "metadata": {},
   "source": [
    "Ko smo korak zmanjšali na desetino, se je proporcionalno zmanjšala tudi napaka (prvi red napake)."
   ]
  },
  {
   "cell_type": "markdown",
   "metadata": {
    "slideshow": {
     "slide_type": "subslide"
    }
   },
   "source": [
    "Poglejmo še primer, ko je zračni upor `c` argument funkcije `euler` in je prek `**kwargs` posredovan v funkcijo `f_zračni_upor()`:"
   ]
  },
  {
   "cell_type": "code",
   "execution_count": 12,
   "metadata": {},
   "outputs": [
    {
     "data": {
      "image/png": "[encoded data removed]",
      "text/plain": [
       "<matplotlib.figure.Figure at 0x255046e2f60>"
      ]
     },
     "metadata": {},
     "output_type": "display_data"
    }
   ],
   "source": [
    "for c in np.linspace(0, 1, 5):\n",
    "    t = np.linspace(0, 5, 1001)\n",
    "    y = euler(f_zračni_upor, t, y0=y0, c=c)\n",
    "    plt.plot(t, y, label=f'$c={c}$')\n",
    "plt.title('Hitrost mase v odvisnosti od časa pri različnem koef. zračnega upora')\n",
    "plt.xlabel('Čas $t$ [s]')\n",
    "plt.ylabel('Hitrost $v$ [m/s]')\n",
    "plt.legend()\n",
    "plt.show()"
   ]
  },
  {
   "cell_type": "markdown",
   "metadata": {
    "slideshow": {
     "slide_type": "subslide"
    }
   },
   "source": [
    "# Metoda Runge-Kutta 2. reda"
   ]
  },
  {
   "cell_type": "markdown",
   "metadata": {},
   "source": [
    "Eulerjeva metoda je 1. reda (1. reda je namreč globalna napaka $\\mathcal{O}(h)$). Če bi želeli izpeljati red napake 2. reda, bi si morali pomagati z razvojem $y(t+h)$ v Taylorjevo vrsto, kjer bomo zanemarili 3. in višji odvod:\n",
    "\n",
    "$$y(t+h)=y(t)+y'(t)\\,h + \\frac{1}{2}y''(t)\\,h^2+\\mathcal{O}(h^3).$$\n",
    "\n",
    "Lokalna napaka metode bo tako reda 3, globalna pa reda 2."
   ]
  },
  {
   "cell_type": "markdown",
   "metadata": {
    "slideshow": {
     "slide_type": "subslide"
    }
   },
   "source": [
    "Uporabimo zamenjavi $y'(t)=f(t,y)$ in $y''(t)=f'(t,y)$:\n",
    "$$y(t+h)=y(t)+f(t,y)\\,h + \\frac{1}{2}f'(t,y)\\,h^2+\\mathcal{O}(h^3).$$"
   ]
  },
  {
   "cell_type": "markdown",
   "metadata": {
    "slideshow": {
     "slide_type": "subslide"
    }
   },
   "source": [
    "Ker je funkcija prvega odvoda $f(t,y)$ odvisna od neodvisne $t$ in odvisne spremenljivke $y$, moramo uporabiti pri odvajanju implicitno odvajanje:\n",
    "$$f'(t,y)=\\frac{\\partial f}{\\partial t}+\\frac{\\partial f}{\\partial y}\\,\\underbrace{\\frac{\\textrm{d} y}{\\textrm{d} t}}_{y'=f(t,y)}\n",
    "=\\frac{\\partial f}{\\partial t}+\\frac{\\partial f}{\\partial y}\\,{f(t, y)}.$$"
   ]
  },
  {
   "cell_type": "markdown",
   "metadata": {
    "slideshow": {
     "slide_type": "subslide"
    }
   },
   "source": [
    "Vstavimo v izraz za Taylorjevo vrsto:\n",
    "$$y(t+h)_{\\textrm{Taylor}}=y(t+h)=y(t)+f(t,y)\\,h + \\frac{1}{2}\\,{\\LARGE(}\n",
    "\\frac{\\partial f}{\\partial t}+\\frac{\\partial f}{\\partial y}\\,{f(t, y)}\n",
    "{\\LARGE)}\\,h^2.$$\n",
    "\n",
    "Kot je razvidno iz zgornjega izraza, potrebujemo dodatne odvode. To predstavlja določeno težavo, ki se ji lahko izognemo na različne načine; v nadaljevanju si bomo pogledali pristop *Runge-Kutta*. Ker bomo zgornji izraz pozneje še potrebovali, samo ga tukaj poimenovali $y(t+h)_{\\textrm{Taylor}}$."
   ]
  },
  {
   "cell_type": "markdown",
   "metadata": {
    "slideshow": {
     "slide_type": "subslide"
    }
   },
   "source": [
    "## Ideja pristopa Runge-Kutta"
   ]
  },
  {
   "cell_type": "markdown",
   "metadata": {},
   "source": [
    "Zgornjo dilemo metoda *Runge-Kutta* (razvita leta 1901) rešuje z idejo, ki smo jo sicer že srečali pri Gaussovi integraciji: točnejšo rešitev poskuša najti s uteženo dodatno vrednostjo funkcije $f$:\n",
    "\n",
    "$$y(t+h)_{\\textrm{Runge-Kutta}}=y(t)+c_0\\,f\\left(t,y\\right)\\,h +c_1\n",
    "\\underbrace{f{\\large(}t+p\\,h,y+q\\,h\\,f(t,y){\\large)}}_{A}\\,h.$$"
   ]
  },
  {
   "cell_type": "markdown",
   "metadata": {
    "slideshow": {
     "slide_type": "subslide"
    }
   },
   "source": [
    "Kjer so $c_0$, $c_1$, $p$ in $q$ neznane konstante (načeloma od 0 do vključno 1). Če bi v zgornjem izrazu uporabili $c_1=0$, bi izpeljali metodo 1. reda; z dodatno funkcijsko vrednostjo ($A$) pa se bo izkazalo, da  bomo izpeljali metodo 2. reda. "
   ]
  },
  {
   "cell_type": "markdown",
   "metadata": {
    "slideshow": {
     "slide_type": "subslide"
    }
   },
   "source": [
    "Iskanje neznanih konstant $c_0$, $c_1$, $p$, $q$ nadaljujemo z zapisom $A$ v obliki Taylorjeve vrste 1. reda:\n",
    "$$f{\\large(}t+p\\,h,y+q\\,h\\,f(t,y){\\large)}=\n",
    "\\underbrace{\n",
    "f{\\large(}t,y{\\large)}+\n",
    "\\frac{\\partial f}{\\partial t}\\,\\left(p\\,h\\right)+\n",
    "\\frac{\\partial f}{\\partial y}\\,\\left(q\\,h\\,f(t, y)\\right)\n",
    "}_{B}.$$"
   ]
  },
  {
   "cell_type": "markdown",
   "metadata": {
    "slideshow": {
     "slide_type": "subslide"
    }
   },
   "source": [
    "Vstavimo sedaj izpeljani $B$ nazaj izraz za $y(t+h)_{\\textrm{Runge-Kutta}}$:\n",
    "$$y(t+h)_{\\textrm{Runge-Kutta}}=y(t)+c_0\\,f\\left(t,y\\right)\\,h +c_1\n",
    "{\\LARGE(}\n",
    "f{\\large(}t,y{\\large)}+\n",
    "\\frac{\\partial f}{\\partial t}\\,\\left(p\\,h\\right)+\n",
    "\\frac{\\partial f}{\\partial y}\\,\\left(q\\,h\\,f(t, y)\\right)\n",
    "{\\LARGE)}\n",
    "\\,h.$$"
   ]
  },
  {
   "cell_type": "markdown",
   "metadata": {
    "slideshow": {
     "slide_type": "subslide"
    }
   },
   "source": [
    "Nadaljujemo z izpeljevanjem in enačbo preoblikujemo, da bo podobna zgoraj izpeljani s Taylorjevo vrsto $\\mathbf{y}(t+h)_{\\textrm{Taylor}}$:"
   ]
  },
  {
   "cell_type": "markdown",
   "metadata": {},
   "source": [
    "$$y(t+h)_{\\textrm{Runge-Kutta}}=y(t)+(c_0+c_1)\\,f\\left(t,y\\right)\\,h +\\frac{1}{2}\n",
    "{\\LARGE(}\n",
    "\\frac{\\partial f}{\\partial t}\\,2\\,c_1\\,p+\n",
    "2\\,c_1\\,q\\,\\frac{\\partial f}{\\partial y}\\,f(t, y)\n",
    "{\\LARGE)}\n",
    "\\,h^2.$$"
   ]
  },
  {
   "cell_type": "markdown",
   "metadata": {
    "slideshow": {
     "slide_type": "subslide"
    }
   },
   "source": [
    "Primerjajmo sedaj z zgoraj izpeljanim izrazom:\n",
    "$$y(t+h)_{\\textrm{Taylor}}=y(t)+f(t,y)\\,h + \\frac{1}{2}\\,{\\LARGE(}\n",
    "\\frac{\\partial f}{\\partial t}+\\frac{\\partial f}{\\partial y}\\,{f(t, y)}\n",
    "{\\LARGE)}\\,h^2.$$"
   ]
  },
  {
   "cell_type": "markdown",
   "metadata": {
    "slideshow": {
     "slide_type": "subslide"
    }
   },
   "source": [
    "Ugotovimo, da za enakost mora veljati:\n",
    "\n",
    "$$c_0+c_1=1,\\qquad 2\\,c_1\\,p=1,\\qquad 2\\,c_1\\,q=1.$$\n",
    "\n",
    "Imamo torej tri enačbe in štiri neznanke. Eno od konstant si tako lahko poljubno izberemo, ostale tri pa izračunamo. Če si na primer izmislimo $c_0=0$, bi to imenovali *spremenjena Eulerjeva metoda* in bi ostali parametri bili: $c_1=1$, $p=q=1/2$. Izbira parametrov nima bistvenega vpliva rešitev. Sicer pa velja omeniti, da metodo Runge-Kutta 2. reda zelo redko uporabljamo, saj je metoda Runge-Kutta 4 reda bistveno bolj uporabna!"
   ]
  },
  {
   "cell_type": "markdown",
   "metadata": {
    "slideshow": {
     "slide_type": "slide"
    }
   },
   "source": [
    "# Metoda Runge-Kutta 4. reda"
   ]
  },
  {
   "cell_type": "markdown",
   "metadata": {},
   "source": [
    "Podobno kot smo izpeljali metodo Runge-Kutta 2. reda, se izpelje metodo Runge Kutta 4. reda. Tudi pri metodi 4. reda obstaja več različic in Runge-Kutta 4. reda je tipično definiramo kot:"
   ]
  },
  {
   "cell_type": "markdown",
   "metadata": {
    "slideshow": {
     "slide_type": "subslide"
    }
   },
   "source": [
    "$$y_{i+1}=y_i+\\frac{1}{6}(k_0+2\\,k_1+2\\,k_2+k_3),$$\n",
    "kjer so vektorji konstant:\n",
    "$$\\begin{align}\n",
    "k_0&=h\\,f(t_i,y_i)\\\\\n",
    "k_1&=h\\,f\\left(t_i+\\frac{h}{2},y_i+\\frac{k_0}{2}\\right)\\\\\n",
    "k_2&=h\\,f\\left(t_i+\\frac{h}{2},y_i+\\frac{k_1}{2}\\right)\\\\\n",
    "k_3&=h\\,f\\left(t_i+h,y_i+k_2\\right).\n",
    "\\end{align}\n",
    "$$"
   ]
  },
  {
   "cell_type": "markdown",
   "metadata": {
    "slideshow": {
     "slide_type": "subslide"
    }
   },
   "source": [
    "Koraki metode Runge-Kutta 4 reda so:\n",
    "\n",
    "1. Določitev $i=0$ in $t_0$, $y_0=y(t_0)$.\n",
    "* Izračun koeficintov: $k_0$, $k_1$, $k_2$, $k_3$,\n",
    "* Izračun vrednosti funkcije pri $t_{i+1}=t_i+h$:\n",
    "$$y_{i+1}=y_i+\\frac{1}{6}(k_0+2\\,k_1+2\\,k_2+k_3).$$\n",
    "* $i=i+1$ in nadaljevanje v koraku 2."
   ]
  },
  {
   "cell_type": "markdown",
   "metadata": {
    "slideshow": {
     "slide_type": "subslide"
    }
   },
   "source": [
    "## Napaka metode Runge-Kutta 4 reda"
   ]
  },
  {
   "cell_type": "markdown",
   "metadata": {
    "slideshow": {
     "slide_type": "subslide"
    }
   },
   "source": [
    "Metodo Runge-Kutta 4. reda imenujemo tako zato, ker ima lokalno napako 5. reda $\\mathcal{O}(h^5)$, vendar pa to napako naredimo $n$-krat, zato je globalna napaka 4. reda $\\mathcal{O}(h^4)$. "
   ]
  },
  {
   "cell_type": "markdown",
   "metadata": {
    "slideshow": {
     "slide_type": "subslide"
    }
   },
   "source": [
    "### Ocena napake\n",
    "\n",
    "Točen rezultat $y(t_n)$ pri velikosti koraka $h$ je:\n",
    "\n",
    "$$y(t_n)=y_{n,h}+E_h,$$\n",
    "kjer je $y_{n,h}$ numerični približek in $E_h$ napaka metode. Ker je globalna napaka četrtega reda, lahko napako definiramo kot:\n",
    "\n",
    "$$E_h=k\\,h^4,$$"
   ]
  },
  {
   "cell_type": "markdown",
   "metadata": {
    "slideshow": {
     "slide_type": "subslide"
    }
   },
   "source": [
    "Podobno lahko za velikost koraka $2h$ definiramo:\n",
    "\n",
    "$$y(t_n)=y_{n,2h}+E_{2h},$$\n",
    "kjer je $y_{n,2h}$ numerični približek in $E_{2h}$ napaka metode:\n",
    "\n",
    "$$E_{2h}=k\\,(2\\,h)^4=16\\,k\\,h^4$$"
   ]
  },
  {
   "cell_type": "markdown",
   "metadata": {
    "slideshow": {
     "slide_type": "subslide"
    }
   },
   "source": [
    "Ob predpostavki, da je konstanta $k$ pri koraku $h$ in koraku $2h$ enaka, lahko določimo oceno napake pri boljšem približku $E_h$. Najprej izenačimo točna rezultata $y(t_n)$ koraka $h$ in $2h$:\n",
    "\n",
    "$$y_{n,h}+k\\,h^4=y_{n,2h}+16\\,k\\,h^4$$"
   ]
  },
  {
   "cell_type": "markdown",
   "metadata": {
    "slideshow": {
     "slide_type": "subslide"
    }
   },
   "source": [
    "sledi:\n",
    "\n",
    "$$15\\,k\\,h^4=y_{n,h}-y_{n,2h}$$\n",
    "\n",
    "in nato določimo *oceno napake*:\n",
    "\n",
    "$$E_h=\\frac{y_{n,h}-y_{n,2h}}{15}.$$"
   ]
  },
  {
   "cell_type": "markdown",
   "metadata": {
    "slideshow": {
     "slide_type": "subslide"
    }
   },
   "source": [
    "## Numerična implementacija"
   ]
  },
  {
   "cell_type": "code",
   "execution_count": 13,
   "metadata": {
    "collapsed": true
   },
   "outputs": [],
   "source": [
    "def runge_kutta_4(f, t, y0, *args, **kwargs):\n",
    "    \"\"\"\n",
    "    Metoda Runge-Kutta 4. reda za reševanje diferencialne enačbe: y' = f(t, y)\n",
    "    \n",
    "    :param f: funkcija, ki jo kličemo s parametroma t in y in vrne \n",
    "              vrednost prvega odvoda\n",
    "    :param t: ekvidistanten časovni vektor oz. neodvisna spremenljivka\n",
    "    :param y0:začetna vrednost\n",
    "    :param args: dodatni argumenti funkcije f (brezimenski)\n",
    "    :param kwargs: dodatni argumenti funkcije f (poimenovani)\n",
    "    :return y: funkcijske vrednosti.\n",
    "    \"\"\"\n",
    "    def RK4(f, t, y, *args, **kwargs):\n",
    "        k0 = h*f(t, y, *args, **kwargs)\n",
    "        k1 = h*f(t + h/2.0, y + k0/2.0, *args, **kwargs)\n",
    "        k2 = h*f(t + h/2.0, y + k1/2.0, *args, **kwargs)\n",
    "        k3 = h*f(t + h, y + k2, *args, **kwargs)\n",
    "        return (k0 + 2.0*k1 + 2.0*k2 + k3)/6.0\n",
    "    \n",
    "    y = np.zeros_like(t)\n",
    "    y[0] = y0\n",
    "    h = t[1]-t[0]\n",
    "\n",
    "    for i, ti in enumerate(t[1:]):\n",
    "        y[i+1] = y[i] + RK4(f, ti, y[i], *args, **kwargs)\n",
    "        \n",
    "    return y"
   ]
  },
  {
   "cell_type": "markdown",
   "metadata": {
    "slideshow": {
     "slide_type": "subslide"
    }
   },
   "source": [
    "Funkcija za oceno napake:"
   ]
  },
  {
   "cell_type": "code",
   "execution_count": 14,
   "metadata": {
    "collapsed": true
   },
   "outputs": [],
   "source": [
    "def runge_kutta_4_napaka(f, t, y0, *args, **kwargs):\n",
    "    \"\"\" Ocena napake metode Runge Kutta 4; argumenti so isti kakor za funkcijo `runge_kutta_4`\n",
    "    \"\"\"\n",
    "    n = len(t)\n",
    "    if n < 5:\n",
    "        raise Exception('Vozlišč mora biti vsaj 5.')\n",
    "    if n%2==0: # sodo vozlišč; odstrani eno točko in spremeni na liho (da je sodo odsekov)\n",
    "        n = n - 1\n",
    "    y_h = runge_kutta_4(f, t[:n], y0, *args, **kwargs)\n",
    "    y_2h = runge_kutta_4(f, t[:n:2], y0, *args, **kwargs)\n",
    "    E_h = (y_h[-1] - y_2h[-1])/15\n",
    "    return E_h"
   ]
  },
  {
   "cell_type": "markdown",
   "metadata": {
    "slideshow": {
     "slide_type": "subslide"
    }
   },
   "source": [
    "## Numerični zgled"
   ]
  },
  {
   "cell_type": "markdown",
   "metadata": {},
   "source": [
    "Poglejmo sedaj primer izračuna hitrosti mase, ki je izpostavljena zračnemu uporu:"
   ]
  },
  {
   "cell_type": "code",
   "execution_count": 15,
   "metadata": {
    "collapsed": true
   },
   "outputs": [],
   "source": [
    "def f_zračni_upor(t, y, g=9.81, m=1., c=0.5):\n",
    "    return g-c*y/m"
   ]
  },
  {
   "cell_type": "markdown",
   "metadata": {
    "slideshow": {
     "slide_type": "subslide"
    }
   },
   "source": [
    "Definirajmo začetni pogoj in časovni vektor, kjer nas zanima rezultat:"
   ]
  },
  {
   "cell_type": "code",
   "execution_count": 16,
   "metadata": {},
   "outputs": [
    {
     "data": {
      "text/plain": [
       "array([  0.,   1.,   2.,   3.,   4.,   5.,   6.,   7.,   8.,   9.,  10.])"
      ]
     },
     "execution_count": 16,
     "metadata": {},
     "output_type": "execute_result"
    }
   ],
   "source": [
    "y0 = 0\n",
    "t = np.linspace(0, 10, 11)\n",
    "t"
   ]
  },
  {
   "cell_type": "markdown",
   "metadata": {
    "slideshow": {
     "slide_type": "subslide"
    }
   },
   "source": [
    "In za primerjavo izračunajmo rešitev s funkcijo `euler` ter `runge_kutta_4`:"
   ]
  },
  {
   "cell_type": "code",
   "execution_count": 17,
   "metadata": {
    "collapsed": true
   },
   "outputs": [],
   "source": [
    "y_euler = euler(f_zračni_upor, t, y0=y0)\n",
    "y_rk4 = runge_kutta_4(f_zračni_upor, t, y0=y0)"
   ]
  },
  {
   "cell_type": "markdown",
   "metadata": {
    "slideshow": {
     "slide_type": "subslide"
    }
   },
   "source": [
    "Prikažemo rezultat:"
   ]
  },
  {
   "cell_type": "code",
   "execution_count": 18,
   "metadata": {},
   "outputs": [
    {
     "data": {
      "image/png": "[encoded data removed]",
      "text/plain": [
       "<matplotlib.figure.Figure at 0x25503698ac8>"
      ]
     },
     "metadata": {},
     "output_type": "display_data"
    }
   ],
   "source": [
    "plt.plot(t, y_euler, label='Euler')\n",
    "plt.plot(t, y_rk4, label='RK4')\n",
    "plt.title('Hitrost mase v odvisnosti od časa')\n",
    "plt.xlabel('Čas $t$ [s]')\n",
    "plt.ylabel('Hitrost $v$ [m/s]')\n",
    "plt.legend()\n",
    "plt.show()"
   ]
  },
  {
   "cell_type": "markdown",
   "metadata": {
    "slideshow": {
     "slide_type": "subslide"
    }
   },
   "source": [
    "Pogljemo še numerično napako:"
   ]
  },
  {
   "cell_type": "code",
   "execution_count": 19,
   "metadata": {},
   "outputs": [
    {
     "data": {
      "image/png": "[encoded data removed]",
      "text/latex": [
       "$$3.75242890982e-08$$"
      ],
      "text/plain": [
       "3.75242890982e-08"
      ]
     },
     "execution_count": 19,
     "metadata": {},
     "output_type": "execute_result"
    }
   ],
   "source": [
    "n=101\n",
    "t = np.linspace(0, 10, n)\n",
    "runge_kutta_4_napaka(f_zračni_upor, t, y0=y0)"
   ]
  },
  {
   "cell_type": "code",
   "execution_count": 20,
   "metadata": {},
   "outputs": [
    {
     "data": {
      "image/png": "[encoded data removed]",
      "text/latex": [
       "$$3.47384343513e-12$$"
      ],
      "text/plain": [
       "3.47384343513e-12"
      ]
     },
     "execution_count": 20,
     "metadata": {},
     "output_type": "execute_result"
    }
   ],
   "source": [
    "n=1001\n",
    "t = np.linspace(0, 10, n)\n",
    "runge_kutta_4_napaka(f_zračni_upor, t, y0=y0)"
   ]
  },
  {
   "cell_type": "markdown",
   "metadata": {},
   "source": [
    "Pri zmanjšanju koraka na desetino, se je napaka zmanjšala za cca. $10^4$ krat (kar ustreza pričakovanjem za metodo četrtega reda)."
   ]
  },
  {
   "cell_type": "markdown",
   "metadata": {
    "slideshow": {
     "slide_type": "slide"
    }
   },
   "source": [
    "# Uporaba ``scipy`` za reševanje navadnih diferencialnih enačb"
   ]
  },
  {
   "cell_type": "markdown",
   "metadata": {},
   "source": [
    "Paket `scipy` ima implementiranih veliko numeričnih metod za reševanje začetnih problemov navadnih diferencialnih enačb; tukaj si bomo pogledali dva pristopa:\n",
    "\n",
    "* [`scipy.integrate.odeint`](https://docs.scipy.org/doc/scipy/reference/generated/scipy.integrate.odeint.html)\n",
    "* [`scipy.integrate.ode`](https://docs.scipy.org/doc/scipy/reference/generated/scipy.integrate.ode.html)"
   ]
  },
  {
   "cell_type": "markdown",
   "metadata": {
    "slideshow": {
     "slide_type": "subslide"
    }
   },
   "source": [
    "## `scipy.integrate.odeint`\n",
    "\n",
    "Funkcija `odeint` temelji na algoritmu *LSODA* iz t.i. [FORTRAN odepack](http://www.netlib.org/odepack/) in samodejno preklaplja med dvema algoritmom za ne-toge (metoda Adams) and toge (metoda BDF, backward differentiation formula) diferencialne enačbe."
   ]
  },
  {
   "cell_type": "markdown",
   "metadata": {
    "slideshow": {
     "slide_type": "subslide"
    }
   },
   "source": [
    "Sintaksa za uporabo:\n",
    "```python\n",
    "scipy.integrate.odeint(func, y0, t, args=(), Dfun=None, \n",
    "col_deriv=0, full_output=0, ml=None, mu=None, rtol=None, \n",
    "atol=None, tcrit=None, h0=0.0, hmax=0.0, hmin=0.0, ixpr=0, \n",
    "mxstep=0, mxhnil=0, mxordn=12, mxords=5, printmessg=0)\n",
    "```\n"
   ]
  },
  {
   "cell_type": "markdown",
   "metadata": {
    "slideshow": {
     "slide_type": "subslide"
    }
   },
   "source": [
    "Pojasnilo vseh argumentov je v [dokumentaciji](https://docs.scipy.org/doc/scipy/reference/generated/scipy.integrate.odeint.html), tukaj bomo izpostavili nekatere:\n",
    "\n",
    "* `func` je funkcija\\* prvega odvoda (`func(y, t, ...)`)\n",
    "* `y0` je začetna\\* vrednost,\n",
    "* `t` je numerično polje neodvisne spremenljivke, kjer iščemo funkcijsko vrednost,\n",
    "* `args` je terka argumentov, ki jih lahko posredujemo v `func`"
   ]
  },
  {
   "cell_type": "markdown",
   "metadata": {},
   "source": [
    "Tukaj sta potrebni dve opombi:\n",
    "\n",
    "1. `func(y, t, ...)`: vrstni red argumentov, najprej `y`, nato `t`!\n",
    "* `odeint` se lahko uporablja tudi za sistem diferencialnih enačb prvega reda (bomo spoznali spodaj) in takrat je `y` numerično polje vrednosti in ne skalar!"
   ]
  },
  {
   "cell_type": "markdown",
   "metadata": {
    "slideshow": {
     "slide_type": "subslide"
    }
   },
   "source": [
    "### Numerični zgled"
   ]
  },
  {
   "cell_type": "markdown",
   "metadata": {},
   "source": [
    "Poglejmo sedaj primer izračuna hitrosti mase, ki je izpostavljena zračnemu uporu; najprej pripravimo funkcijo za prvi odvo, ki bo imela zamenjana argumenta `t` in `y` (kakor zahteva `odeint`):"
   ]
  },
  {
   "cell_type": "code",
   "execution_count": 21,
   "metadata": {
    "collapsed": true
   },
   "outputs": [],
   "source": [
    "def f_zračni_upor_odeint(y, t, g=9.81, m=1., c=0.5):\n",
    "    return g-c*y/m"
   ]
  },
  {
   "cell_type": "markdown",
   "metadata": {
    "slideshow": {
     "slide_type": "subslide"
    }
   },
   "source": [
    "Definirajmo začetni pogoj in časovni vektor, kjer nas zanima rezultat:"
   ]
  },
  {
   "cell_type": "code",
   "execution_count": 22,
   "metadata": {},
   "outputs": [
    {
     "data": {
      "text/plain": [
       "array([  0. ,   0.1,   0.2,   0.3,   0.4,   0.5,   0.6,   0.7,   0.8,\n",
       "         0.9,   1. ,   1.1,   1.2,   1.3,   1.4,   1.5,   1.6,   1.7,\n",
       "         1.8,   1.9,   2. ,   2.1,   2.2,   2.3,   2.4,   2.5,   2.6,\n",
       "         2.7,   2.8,   2.9,   3. ,   3.1,   3.2,   3.3,   3.4,   3.5,\n",
       "         3.6,   3.7,   3.8,   3.9,   4. ,   4.1,   4.2,   4.3,   4.4,\n",
       "         4.5,   4.6,   4.7,   4.8,   4.9,   5. ,   5.1,   5.2,   5.3,\n",
       "         5.4,   5.5,   5.6,   5.7,   5.8,   5.9,   6. ,   6.1,   6.2,\n",
       "         6.3,   6.4,   6.5,   6.6,   6.7,   6.8,   6.9,   7. ,   7.1,\n",
       "         7.2,   7.3,   7.4,   7.5,   7.6,   7.7,   7.8,   7.9,   8. ,\n",
       "         8.1,   8.2,   8.3,   8.4,   8.5,   8.6,   8.7,   8.8,   8.9,\n",
       "         9. ,   9.1,   9.2,   9.3,   9.4,   9.5,   9.6,   9.7,   9.8,\n",
       "         9.9,  10. ])"
      ]
     },
     "execution_count": 22,
     "metadata": {},
     "output_type": "execute_result"
    }
   ],
   "source": [
    "y0 = 0\n",
    "t = np.linspace(0, 10, 101)\n",
    "t"
   ]
  },
  {
   "cell_type": "markdown",
   "metadata": {
    "slideshow": {
     "slide_type": "subslide"
    }
   },
   "source": [
    "In za primerjavo izračunajmo rešitev s funkcijo `runge_kutta_4` ter `odeint` (koeficient zračnega upora naj bo `c=0.7`):"
   ]
  },
  {
   "cell_type": "code",
   "execution_count": 23,
   "metadata": {
    "collapsed": true
   },
   "outputs": [],
   "source": [
    "from scipy.integrate import odeint\n",
    "\n",
    "y_odeint = odeint(f_zračni_upor_odeint, y0=y0, t=t, args=(9.81,1.,0.7))\n",
    "y_rk4 = runge_kutta_4(f_zračni_upor, t, y0=y0, c=0.7)"
   ]
  },
  {
   "cell_type": "markdown",
   "metadata": {
    "slideshow": {
     "slide_type": "subslide"
    }
   },
   "source": [
    "Poglejmo rezultat:"
   ]
  },
  {
   "cell_type": "code",
   "execution_count": 24,
   "metadata": {},
   "outputs": [
    {
     "data": {
      "text/plain": [
       "array([[ 0.        ],\n",
       "       [ 0.94745234],\n",
       "       [ 1.83085103],\n",
       "       [ 2.6545265 ],\n",
       "       [ 3.42251642]])"
      ]
     },
     "execution_count": 24,
     "metadata": {},
     "output_type": "execute_result"
    }
   ],
   "source": [
    "y_odeint[:5]"
   ]
  },
  {
   "cell_type": "markdown",
   "metadata": {},
   "source": [
    "Ker je `odeint` že pripravljen za sistem navadnih diferencialnih enačb prvega reda, je rezultat podan v dveh dimenzijah; rezultat, ki je torej: `y_odeint[:,0]`."
   ]
  },
  {
   "cell_type": "markdown",
   "metadata": {
    "slideshow": {
     "slide_type": "subslide"
    }
   },
   "source": [
    "Prikažemo rezultat:"
   ]
  },
  {
   "cell_type": "code",
   "execution_count": 25,
   "metadata": {},
   "outputs": [
    {
     "data": {
      "image/png": "[encoded data removed]",
      "text/plain": [
       "<matplotlib.figure.Figure at 0x25504cef978>"
      ]
     },
     "metadata": {},
     "output_type": "display_data"
    }
   ],
   "source": [
    "plt.plot(t, y_odeint[:,0], label='odeint')\n",
    "plt.plot(t, y_rk4, label='RK4')\n",
    "plt.title('Hitrost mase v odvisnosti od časa')\n",
    "plt.xlabel('Čas $t$ [s]')\n",
    "plt.ylabel('Hitrost $v$ [m/s]')\n",
    "plt.legend()\n",
    "plt.show()"
   ]
  },
  {
   "cell_type": "markdown",
   "metadata": {
    "slideshow": {
     "slide_type": "subslide"
    }
   },
   "source": [
    "## `scipy.integrate.ode`\n",
    "\n",
    "`scipy` ponuja tudi bolj napredni integrator `ode`, ki pa temelji na objektnem pristopu in ponuja več prilagodljivosti kakor `odeint`. Instanco objekta dobimo s klicem:\n",
    "\n",
    "* ``scipy.integrate.ode(f, jac=None)`` kjer je `f` funkcija prvega/ih odvoda/ov.\n",
    "\n",
    "Metode objekta so:\n",
    "\n",
    "* `integrate(t[, step, relax])` za izračun funkcijskih vrednosti `y`,\n",
    "* `set_f_params(*args)` parametri funckije `f`,\n",
    "* `set_initial_value(y[, t])` definiranje začetnih pogojev,\n",
    "* `set_integrator(name, **integrator_params)` izbira metode,\n",
    "* `set_jac_params(*args)`\tparametri Jacobijeve matrike,\n",
    "* `set_solout(solout)`\tfunkcija `solout`, ki se jo kliče pri vsakem uspešnem integracijskem koraku,\n",
    "* `successful()` preveri ali je rešitev bila uspešna."
   ]
  },
  {
   "cell_type": "markdown",
   "metadata": {
    "slideshow": {
     "slide_type": "subslide"
    }
   },
   "source": [
    "`ode` uporabimo v korakih ([dokumentacija](https://docs.scipy.org/doc/scipy/reference/generated/scipy.integrate.ode.html)):\n",
    "\n",
    "1. naredimo instanco `ode`: ``scipy.integrate.ode(f, jac=None)``,\n",
    "2. definiramo metodo: metoda `set_integrator()`,\n",
    "3. definiramo začetne vrednosti in parametre: metoda `set_initial_value()`,\n",
    "4. izračunamo rešitev: metoda `integrate()`."
   ]
  },
  {
   "cell_type": "markdown",
   "metadata": {
    "slideshow": {
     "slide_type": "subslide"
    }
   },
   "source": [
    "Velja izpostaviti, da je pri `ode` vrstni red argumentov funkcije `f(t, y, ...)` kar je drugače kakor pri `odeint` in konsistentno z izpeljavo pri `euler` in `runge_kutta_4`.\n",
    "\n",
    "Naprej velja izpostaviti, da `ode` omogoča izbiro različnih metod: `'dopri5'`, `'vode'`, `'zvode'`, `'lsoda'`, `'dop853'`. Nekatere si bomo pogledali spodaj."
   ]
  },
  {
   "cell_type": "markdown",
   "metadata": {
    "slideshow": {
     "slide_type": "subslide"
    }
   },
   "source": [
    "### Numerični zgled"
   ]
  },
  {
   "cell_type": "markdown",
   "metadata": {},
   "source": [
    "Nadaljujemo Numerični zgled iz prikaza uporabe funkcije `odeint`; najprej uvozimo razred `ode`:"
   ]
  },
  {
   "cell_type": "code",
   "execution_count": 26,
   "metadata": {
    "collapsed": true
   },
   "outputs": [],
   "source": [
    "from scipy.integrate import ode"
   ]
  },
  {
   "cell_type": "markdown",
   "metadata": {},
   "source": [
    "in pripravimo instanco objekta:"
   ]
  },
  {
   "cell_type": "code",
   "execution_count": 27,
   "metadata": {
    "collapsed": true
   },
   "outputs": [],
   "source": [
    "y_ode = ode(f_zračni_upor)"
   ]
  },
  {
   "cell_type": "markdown",
   "metadata": {
    "slideshow": {
     "slide_type": "subslide"
    }
   },
   "source": [
    "Izberemo metodo, definiramo začetne pogoje in parametre:"
   ]
  },
  {
   "cell_type": "code",
   "execution_count": 28,
   "metadata": {},
   "outputs": [
    {
     "data": {
      "text/plain": [
       "<scipy.integrate._ode.ode at 0x25504cef6a0>"
      ]
     },
     "execution_count": 28,
     "metadata": {},
     "output_type": "execute_result"
    }
   ],
   "source": [
    "y_ode.set_integrator('dopri5')\n",
    "y_ode.set_initial_value(y0, t=t[0])\n",
    "y_ode.set_f_params(9.81, 1., 0.7)"
   ]
  },
  {
   "cell_type": "markdown",
   "metadata": {},
   "source": [
    "Kjer smo uporabili eksplicitno metodo Runge-Kutta reda 4 oz. 5 reda (`'dopri5'`). Metodo sta predstavila Dormand in Prince in izračuna rezultat z redom natančnosti 4 in 5 ter razliko uporabi za oceno napake metode 4. reda; napako potem izkoristi za prilagajanje velikosti koraka. "
   ]
  },
  {
   "cell_type": "markdown",
   "metadata": {
    "slideshow": {
     "slide_type": "subslide"
    }
   },
   "source": [
    "In izračunamo rezultat:"
   ]
  },
  {
   "cell_type": "code",
   "execution_count": 29,
   "metadata": {},
   "outputs": [
    {
     "data": {
      "text/plain": [
       "array([ 14.00150497])"
      ]
     },
     "execution_count": 29,
     "metadata": {},
     "output_type": "execute_result"
    }
   ],
   "source": [
    "y_ode.integrate(t[-1])"
   ]
  },
  {
   "cell_type": "markdown",
   "metadata": {},
   "source": [
    "Primerjamo z rezultatom `y_odeint`:"
   ]
  },
  {
   "cell_type": "code",
   "execution_count": 30,
   "metadata": {},
   "outputs": [
    {
     "data": {
      "text/plain": [
       "array([ 14.00150634])"
      ]
     },
     "execution_count": 30,
     "metadata": {},
     "output_type": "execute_result"
    }
   ],
   "source": [
    "y_odeint[-1]"
   ]
  },
  {
   "cell_type": "markdown",
   "metadata": {
    "slideshow": {
     "slide_type": "subslide"
    }
   },
   "source": [
    "Tukaj velja poudariti, da `ode` prilagaja korak, da se doseže zahtevana natančnost (podamo jo lahko kot parameter metode `set_integrator()`) in vrne samo končni rezultat! Če želimo tudi vmesne rezultate, to naredimo v zanki:"
   ]
  },
  {
   "cell_type": "code",
   "execution_count": 31,
   "metadata": {},
   "outputs": [
    {
     "name": "stderr",
     "output_type": "stream",
     "text": [
      "C:\\Users\\Janko\\Anaconda3\\lib\\site-packages\\scipy\\integrate\\_ode.py:1035: UserWarning: dopri5: step size becomes too small\n",
      "  self.messages.get(idid, 'Unexpected idid=%s' % idid))\n"
     ]
    }
   ],
   "source": [
    "y_ode = ode(f_zračni_upor)\n",
    "y_ode.set_integrator('dopri5')\n",
    "y_ode.set_initial_value(y0, t=t[0])\n",
    "y_ode.set_f_params(9.81, 1., 0.7)\n",
    "t2 = t[::20] # samo vsak 10 časovni korak\n",
    "rezultat = np.zeros_like(t2)\n",
    "for i,čas in enumerate(t2):\n",
    "    rezultat[i] = y_ode.integrate(čas)[0]"
   ]
  },
  {
   "cell_type": "markdown",
   "metadata": {
    "slideshow": {
     "slide_type": "subslide"
    }
   },
   "source": [
    "Rezultat ob času:"
   ]
  },
  {
   "cell_type": "code",
   "execution_count": 32,
   "metadata": {},
   "outputs": [
    {
     "data": {
      "text/plain": [
       "array([  0.,   2.,   4.,   6.,   8.,  10.])"
      ]
     },
     "execution_count": 32,
     "metadata": {},
     "output_type": "execute_result"
    }
   ],
   "source": [
    "t2"
   ]
  },
  {
   "cell_type": "markdown",
   "metadata": {},
   "source": [
    "torej je:"
   ]
  },
  {
   "cell_type": "code",
   "execution_count": 33,
   "metadata": {},
   "outputs": [
    {
     "data": {
      "text/plain": [
       "array([  0.        ,  10.55840489,  13.16207538,  13.80413252,\n",
       "        13.96246214,  14.0015059 ])"
      ]
     },
     "execution_count": 33,
     "metadata": {},
     "output_type": "execute_result"
    }
   ],
   "source": [
    "rezultat"
   ]
  },
  {
   "cell_type": "markdown",
   "metadata": {},
   "source": [
    "# Sistem navadnih diferencialnih enačb"
   ]
  },
  {
   "cell_type": "markdown",
   "metadata": {},
   "source": [
    "Zgoraj smo si pogledali reševanje začetnega problema ene navadne diferencialne enačbe; sedaj bomo reševanje posplošili na *začetni problem sistema navadnih diferencialnih enačb prvega reda*. \n",
    "\n",
    "Takšen sistem zapišemo:\n",
    "\n",
    "$$\\mathbf{y}'=\\mathbf{f}(t, \\mathbf{y}),$$\n",
    "\n",
    "kjer so podani dodatni (začetni) pogoji:\n",
    "$$\\mathbf{y}(t_0)=\\mathbf{y}_0.$$"
   ]
  },
  {
   "cell_type": "markdown",
   "metadata": {
    "slideshow": {
     "slide_type": "subslide"
    }
   },
   "source": [
    "$\\mathbf{y}$ predstavlja tabelo funkcijskih vrednosti, $t$ neodvisno spremenljivko (ni nujno to vedno čas) in $\\mathbf{f}$ vektor funkcij prvega odvoda. Začetne vrednosti pri neodvisni spremenljivki $t_0$ so: $\\mathbf{y}_0$ "
   ]
  },
  {
   "cell_type": "markdown",
   "metadata": {},
   "source": [
    "## Numerična implementacija\n",
    "\n",
    "Metodi Euler in Runge-Kutta 4.reda potrebujeta zgolj malenkostne popravke (`y0` je numerično polje `f` je sezna funkcij):"
   ]
  },
  {
   "cell_type": "code",
   "execution_count": 34,
   "metadata": {
    "collapsed": true
   },
   "outputs": [],
   "source": [
    "def euler_sistem(f, t, y0, *args, **kwargs):\n",
    "    \"\"\"\n",
    "    Eulerjeva metoda za reševanje sistema navadnih diferencialnih enačb prvega reda : y' = f(t, y)\n",
    "    \n",
    "    :param f:  funkcija, ki jo kličemo s parametroma t in y in vrne seznam \n",
    "               vrednosti prvega odvoda\n",
    "    :param t:  ekvidistantni (časovni) vektor neodvisne spremenljivke\n",
    "    :param y0: seznam začetnih vrednosti\n",
    "    :param args: dodatni argumenti funkcije f (brezimenski)\n",
    "    :param kwargs: dodatni argumenti funkcije f (poimenovani)\n",
    "    :return y: vrne np.array ``y`` funkcijskih vrednosti.\n",
    "    \"\"\"\n",
    "    y = np.zeros((t.shape[0], len(y0)))\n",
    "    y[0] = np.copy(y0)\n",
    "    h = t[1]-t[0]\n",
    "    for i, ti in enumerate(t[:-1]):\n",
    "        # tukaj je bistvo Eulerjeve metode\n",
    "        y[i+1] = y[i]+f(ti, y[i], *args, **kwargs)*h\n",
    "    return y"
   ]
  },
  {
   "cell_type": "code",
   "execution_count": 35,
   "metadata": {
    "collapsed": true,
    "slideshow": {
     "slide_type": "subslide"
    }
   },
   "outputs": [],
   "source": [
    "def runge_kutta_4_sistem(f, t, y0, *args, **kwargs):\n",
    "    \"\"\"\n",
    "    Metoda Runge-Kutta 4. reda za reševanje sistema navadnih diferencialnih enačb prvega reda: y' = f(t, y)\n",
    "    \n",
    "    :param f:  funkcija, ki jo kličemo s parametroma t in y in vrne seznam \n",
    "               vrednosti prvega odvoda\n",
    "    :param t:  ekvidistantni (časovni) vektor neodvisne spremenljivke\n",
    "    :param y0: seznam začetnih vrednosti\n",
    "    :param args: dodatni argumenti funkcije f (brezimenski)\n",
    "    :param kwargs: dodatni argumenti funkcije f (poimenovani)\n",
    "    :return y: vrne np.array ``y`` funkcijskih vrednosti.\n",
    "    \"\"\"\n",
    "    def RK4(g, t, y, *args, **kwargs):\n",
    "        k0 = h*f(t, y, *args, **kwargs)\n",
    "        k1 = h*f(t + h/2.0, y + k0/2.0, *args, **kwargs)\n",
    "        k2 = h*f(t + h/2.0, y + k1/2.0, *args, **kwargs)\n",
    "        k3 = h*f(t + h, y + k2, *args, **kwargs)\n",
    "        return (k0 + 2.0*k1 + 2.0*k2 + k3)/6.0\n",
    "    \n",
    "    y = np.zeros((t.shape[0], len(y0)))\n",
    "    y[0] = np.copy(y0)\n",
    "    h = t[1]-t[0]\n",
    "\n",
    "    for i, ti in enumerate(t[1:]):\n",
    "        y[i+1] = y[i] + RK4(f, ti, y[i], *args, **kwargs)\n",
    "        \n",
    "    return y"
   ]
  },
  {
   "cell_type": "markdown",
   "metadata": {
    "slideshow": {
     "slide_type": "subslide"
    }
   },
   "source": [
    "## Numerični zgled\n",
    "\n",
    "Predhodno obravnavani primer mase na katero deluje zračni upor dopolnimo s prečno silo. Če predpodavimo, da upor zraka deluje samo v navpični smeri kot je prikazano na sliki:\n",
    "<img width=250 src=\"fig/padanje_telesa_sila.png\">"
   ]
  },
  {
   "cell_type": "markdown",
   "metadata": {
    "slideshow": {
     "slide_type": "subslide"
    }
   },
   "source": [
    "Glede na II. Newtonov zakon, zapišemo sistem dveh diferencialnih enačb prvega reda:\n",
    "\n",
    "$$F=m\\,v_x',$$\n",
    "$$m\\,g-c\\,v_y=m\\,v_y',$$\n",
    "kjer je $F$ sila v horizontalni smeri, $m$ masa, $g$ gravitacijski pospešek, $c$ koeficient zračnega upora ter $v_x$ in $v_y$ hitrost v $x$ oz $y$ smeri. Diferencialno enačbo bi hoteli rešiti glede na začetni pogoj:\n",
    "\n",
    "$$v_x(0)=v_y(0)=0\\,\\textrm{m/s}.$$"
   ]
  },
  {
   "cell_type": "markdown",
   "metadata": {
    "slideshow": {
     "slide_type": "subslide"
    }
   },
   "source": [
    "Da uskladimo oznake z oznakami zgoraj, uporabimo $\\textbf{y}=[v_x, v_y]$. Seznam funkcij prvega odvoda $\\textbf{f}(t,\\textbf{y})$ je:\n",
    "\n",
    "$$\\textbf{f}(t,\\textbf{y})=[F/m, g-c\\,y/m]$$\n",
    "\n",
    "in začetni pogoj:\n",
    "$$\\textbf{y}=[0., 0.]$$"
   ]
  },
  {
   "cell_type": "markdown",
   "metadata": {
    "slideshow": {
     "slide_type": "subslide"
    }
   },
   "source": [
    "Definirajmo Python funkcijo prvega odvoda:"
   ]
  },
  {
   "cell_type": "code",
   "execution_count": 36,
   "metadata": {
    "collapsed": true
   },
   "outputs": [],
   "source": [
    "def f_zračni_upor_sila_odeint(y, t, F=1, g=9.81, m=1., c=0.5):\n",
    "    return np.array([F/m, g-c*y[1]/m])"
   ]
  },
  {
   "cell_type": "markdown",
   "metadata": {},
   "source": [
    "Reševali bomo tudi z `odeint`, zato še obrnemo argumenta: `y` in `t`:"
   ]
  },
  {
   "cell_type": "code",
   "execution_count": 37,
   "metadata": {
    "collapsed": true
   },
   "outputs": [],
   "source": [
    "def f_zračni_upor_sila(t, y, F=1, g=9.81, m=1., c=0.5):\n",
    "    return np.array([F/m, g-c*y[1]/m])"
   ]
  },
  {
   "cell_type": "markdown",
   "metadata": {
    "slideshow": {
     "slide_type": "subslide"
    }
   },
   "source": [
    "Definirajmo začetni pogoj in časovni vektor, kjer nas zanima rezultat:"
   ]
  },
  {
   "cell_type": "code",
   "execution_count": 38,
   "metadata": {},
   "outputs": [
    {
     "data": {
      "text/plain": [
       "array([ 0. ,  0.1,  0.2,  0.3,  0.4])"
      ]
     },
     "execution_count": 38,
     "metadata": {},
     "output_type": "execute_result"
    }
   ],
   "source": [
    "y0 = np.array([0., 0.])\n",
    "t = np.linspace(0, 10, 101)\n",
    "t[:5]"
   ]
  },
  {
   "cell_type": "markdown",
   "metadata": {
    "slideshow": {
     "slide_type": "subslide"
    }
   },
   "source": [
    "In za primerjavo izračunajmo rešitev s funkcijo `runge_kutta_4` ter `odeint` (koeficient zračnega upora naj bo `c=0.7`):"
   ]
  },
  {
   "cell_type": "code",
   "execution_count": 39,
   "metadata": {
    "collapsed": true
   },
   "outputs": [],
   "source": [
    "y_RK4 = runge_kutta_4_sistem(f_zračni_upor_sila, y0=y0, t=t, F=1., c=0.7)\n",
    "y_odeint = odeint(f_zračni_upor_sila_odeint, y0=y0, t=t, args=(1., 9.81,1.,0.7))"
   ]
  },
  {
   "cell_type": "markdown",
   "metadata": {
    "slideshow": {
     "slide_type": "subslide"
    }
   },
   "source": [
    "Poglejmo rezultat:"
   ]
  },
  {
   "cell_type": "code",
   "execution_count": 40,
   "metadata": {},
   "outputs": [
    {
     "data": {
      "text/plain": [
       "array([[ 0.        ,  0.        ],\n",
       "       [ 0.1       ,  0.94745234],\n",
       "       [ 0.2       ,  1.83085103],\n",
       "       [ 0.3       ,  2.6545265 ],\n",
       "       [ 0.4       ,  3.42251642]])"
      ]
     },
     "execution_count": 40,
     "metadata": {},
     "output_type": "execute_result"
    }
   ],
   "source": [
    "y_odeint[:5]"
   ]
  },
  {
   "cell_type": "code",
   "execution_count": 41,
   "metadata": {},
   "outputs": [
    {
     "data": {
      "text/plain": [
       "array([[ 0.        ,  0.        ],\n",
       "       [ 0.1       ,  0.94745213],\n",
       "       [ 0.2       ,  1.83085065],\n",
       "       [ 0.3       ,  2.65452599],\n",
       "       [ 0.4       ,  3.42251579]])"
      ]
     },
     "execution_count": 41,
     "metadata": {},
     "output_type": "execute_result"
    }
   ],
   "source": [
    "y_RK4[:5]"
   ]
  },
  {
   "cell_type": "markdown",
   "metadata": {
    "slideshow": {
     "slide_type": "subslide"
    }
   },
   "source": [
    "Prikažemo rezultat:"
   ]
  },
  {
   "cell_type": "code",
   "execution_count": 42,
   "metadata": {},
   "outputs": [
    {
     "data": {
      "image/png": "[encoded data removed]",
      "text/plain": [
       "<matplotlib.figure.Figure at 0x255046cbb70>"
      ]
     },
     "metadata": {},
     "output_type": "display_data"
    }
   ],
   "source": [
    "plt.plot(t, y_odeint[:,0], label='$v_x$')\n",
    "plt.plot(t, y_odeint[:,1], label='$v_y$')\n",
    "plt.title('Hitrost mase (upor in sila) v odvisnosti od časa')\n",
    "plt.xlabel('Čas $t$ [s]')\n",
    "plt.ylabel('Hitrost $v$ [m/s]')\n",
    "plt.legend()\n",
    "plt.show()"
   ]
  },
  {
   "cell_type": "markdown",
   "metadata": {
    "slideshow": {
     "slide_type": "subslide"
    }
   },
   "source": [
    "## Preoblikovanje diferencialne enačbe višjega reda v sistem diferencialnih enačb 1. reda"
   ]
  },
  {
   "cell_type": "markdown",
   "metadata": {},
   "source": [
    "V nadaljevanju si bomo pogledali, kako navadno diferencialno enačbo poljubnega reda:\n",
    "\n",
    "$$y^{(n)}=f(t, y, y', y'',\\dots,y^{(n-1)}),$$\n",
    "\n",
    "preoblikujemo v sistem diferencialnih enačb 1. reda."
   ]
  },
  {
   "cell_type": "markdown",
   "metadata": {
    "slideshow": {
     "slide_type": "subslide"
    }
   },
   "source": [
    "Najprej namesto odvodov vpeljemo nove spremenljivke: \n",
    "\n",
    "$$y_i=y^{(i)}.$$\n",
    "\n",
    "Diferencialna enačba $n$-tega reda zapisana z novimi spremenljivkami je:\n",
    "\n",
    "$$y_n=f(t, y_0, y_1, y_2,\\dots,y_{n-1}).$$"
   ]
  },
  {
   "cell_type": "markdown",
   "metadata": {
    "slideshow": {
     "slide_type": "subslide"
    }
   },
   "source": [
    "Nadaljujemo in nove spremenljivke odvajamo po neodvisni spremenljivki:\n",
    "\n",
    "$$y_i'=y^{(i+1)}=y_{i+1}$$\n",
    "\n",
    "Kar v izpisani obliki pomeni:\n",
    "$$\n",
    "\\begin{array}{rcl}\n",
    "y_0'&=&y_1\\\\\n",
    "y_1'&=&y_2\\\\\n",
    "&\\dots\\\\\n",
    "y_{n-1}'&=&y_n\\\\\n",
    "\\end{array}\n",
    "$$\n",
    "\n",
    "Izpeljali smo sistem diferencialnih enačb prvega reda, kjer v zadnji vrstici nastopa podana funkcija za odvod $n$-tega reda: $y_n=y^{n}=f(t, y_0, y_1,\\dots,y_{n-1})$."
   ]
  },
  {
   "cell_type": "markdown",
   "metadata": {
    "slideshow": {
     "slide_type": "subslide"
    }
   },
   "source": [
    "## Numerični zgled"
   ]
  },
  {
   "cell_type": "markdown",
   "metadata": {
    "slideshow": {
     "slide_type": "subslide"
    }
   },
   "source": [
    "Doslej smo maso izpostavljeno gravitacijskemu pospešku in zračnemu uporu reševali kot diferencialno enačbo prvega reda. Vrnimo se na primer, ko ni prečne sile in jo zapišimo v obliki diferencialne enačbe 2. reda:\n",
    "$$m\\,g-c\\,y'=m\\,y'',$$\n",
    "Diferencialno enačbo bi hoteli rešiti glede na začetni pogoj:\n",
    "\n",
    "$$x(0\\,\\textrm{s})=0\\,\\textrm{m}\\qquad x'(0\\,\\textrm{s})=0\\,\\textrm{m/s}.$$"
   ]
  },
  {
   "cell_type": "markdown",
   "metadata": {
    "slideshow": {
     "slide_type": "subslide"
    }
   },
   "source": [
    "Najprej moramo enačbo drugega reda:\n",
    "\n",
    "$$y''=f(t, y, y') = g-c/m\\,y'$$\n",
    "\n",
    "preoblikovati na sistem dveh enačb prvega reda. Po navodilu zgoraj uporabimo $y_i=y^{i}$:\n",
    "\n",
    "$$y''=y_2=f(t, y_0, y_1) = g-c/m\\,y_1$$"
   ]
  },
  {
   "cell_type": "markdown",
   "metadata": {
    "slideshow": {
     "slide_type": "subslide"
    }
   },
   "source": [
    "Da uskladimo oznake z oznakami zgoraj, uporabimo $\\textbf{y}=[y_0, y_1]$. Seznamm funkcija prvega odvoda $\\textbf{f}(t,\\textbf{y})$ je:\n",
    "\n",
    "$$\\textbf{f}(t,\\textbf{y})=[y_1, g-c\\,y_1/m]$$\n",
    "\n",
    "in začetni pogoj:\n",
    "$$\\textbf{y}=[0., 0.]$$"
   ]
  },
  {
   "cell_type": "markdown",
   "metadata": {
    "slideshow": {
     "slide_type": "subslide"
    }
   },
   "source": [
    "Definirajmo Python funkcijo prvih odvodov (za funkcijo `odeint`):"
   ]
  },
  {
   "cell_type": "code",
   "execution_count": 1,
   "metadata": {
    "collapsed": true
   },
   "outputs": [],
   "source": [
    "def f_zračni_upor_2red_odeint(y, t, g=9.81, m=1., c=0.5):\n",
    "    return np.array([y[1], g-c*y[1]/m])"
   ]
  },
  {
   "cell_type": "markdown",
   "metadata": {
    "slideshow": {
     "slide_type": "subslide"
    }
   },
   "source": [
    "Definirajmo začetni pogoj in časovni vektor, kjer nas zanima rezultat:"
   ]
  },
  {
   "cell_type": "code",
   "execution_count": 2,
   "metadata": {},
   "outputs": [
    {
     "ename": "NameError",
     "evalue": "name 'np' is not defined",
     "output_type": "error",
     "traceback": [
      "\u001b[1;31m---------------------------------------------------------------------------\u001b[0m",
      "\u001b[1;31mNameError\u001b[0m                                 Traceback (most recent call last)",
      "\u001b[1;32m<ipython-input-2-2a5fdef356bc>\u001b[0m in \u001b[0;36m<module>\u001b[1;34m()\u001b[0m\n\u001b[1;32m----> 1\u001b[1;33m \u001b[0my0\u001b[0m \u001b[1;33m=\u001b[0m \u001b[0mnp\u001b[0m\u001b[1;33m.\u001b[0m\u001b[0marray\u001b[0m\u001b[1;33m(\u001b[0m\u001b[1;33m[\u001b[0m\u001b[1;36m0.\u001b[0m\u001b[1;33m,\u001b[0m \u001b[1;36m0.\u001b[0m\u001b[1;33m]\u001b[0m\u001b[1;33m)\u001b[0m\u001b[1;33m\u001b[0m\u001b[0m\n\u001b[0m\u001b[0;32m      2\u001b[0m \u001b[0mt\u001b[0m \u001b[1;33m=\u001b[0m \u001b[0mnp\u001b[0m\u001b[1;33m.\u001b[0m\u001b[0mlinspace\u001b[0m\u001b[1;33m(\u001b[0m\u001b[1;36m0\u001b[0m\u001b[1;33m,\u001b[0m \u001b[1;36m10\u001b[0m\u001b[1;33m,\u001b[0m \u001b[1;36m101\u001b[0m\u001b[1;33m)\u001b[0m\u001b[1;33m\u001b[0m\u001b[0m\n\u001b[0;32m      3\u001b[0m \u001b[0mt\u001b[0m\u001b[1;33m[\u001b[0m\u001b[1;33m:\u001b[0m\u001b[1;36m5\u001b[0m\u001b[1;33m]\u001b[0m\u001b[1;33m\u001b[0m\u001b[0m\n",
      "\u001b[1;31mNameError\u001b[0m: name 'np' is not defined"
     ]
    }
   ],
   "source": [
    "y0 = np.array([0., 0.])\n",
    "t = np.linspace(0, 10, 101)\n",
    "t[:5]"
   ]
  },
  {
   "cell_type": "markdown",
   "metadata": {
    "slideshow": {
     "slide_type": "subslide"
    }
   },
   "source": [
    "Rešimo s funkcijo `odeint` (koeficient zračnega upora naj bo `c=0.7`):"
   ]
  },
  {
   "cell_type": "code",
   "execution_count": 45,
   "metadata": {
    "collapsed": true
   },
   "outputs": [],
   "source": [
    "y_odeint = odeint(f_zračni_upor_2red_odeint, y0=y0, t=t, args=(9.81,1.,0.7))"
   ]
  },
  {
   "cell_type": "markdown",
   "metadata": {
    "slideshow": {
     "slide_type": "subslide"
    }
   },
   "source": [
    "Poglejmo rezultat (prvi stolpec predstavlja $y_0$, torej lego, drugi stolpec pa $y_1$, torej hitrost):"
   ]
  },
  {
   "cell_type": "code",
   "execution_count": 46,
   "metadata": {},
   "outputs": [
    {
     "data": {
      "text/plain": [
       "array([[ 0.        ,  0.        ],\n",
       "       [ 0.04792524,  0.94745233],\n",
       "       [ 0.18735568,  1.83085102],\n",
       "       [ 0.412105  ,  2.6545265 ],\n",
       "       [ 0.7164051 ,  3.42251643]])"
      ]
     },
     "execution_count": 46,
     "metadata": {},
     "output_type": "execute_result"
    }
   ],
   "source": [
    "y_odeint[:5]"
   ]
  },
  {
   "cell_type": "markdown",
   "metadata": {
    "slideshow": {
     "slide_type": "subslide"
    }
   },
   "source": [
    "Prikažemo rezultat:"
   ]
  },
  {
   "cell_type": "code",
   "execution_count": 47,
   "metadata": {},
   "outputs": [
    {
     "data": {
      "image/png": "[encoded data removed]",
      "text/plain": [
       "<matplotlib.figure.Figure at 0x25504d99e80>"
      ]
     },
     "metadata": {},
     "output_type": "display_data"
    }
   ],
   "source": [
    "plt.plot(t, y_odeint[:,0], label='$y$')\n",
    "plt.plot(t, y_odeint[:,1], label='$v_y$')\n",
    "plt.title('Lega in hitrost mase v odvisnosti od časa')\n",
    "plt.xlabel('Čas $t$ [s]')\n",
    "plt.ylabel('Lega $y$ [m], hitrost $v_y$ [m/s]')\n",
    "plt.legend()\n",
    "plt.show()"
   ]
  },
  {
   "cell_type": "markdown",
   "metadata": {
    "slideshow": {
     "slide_type": "subslide"
    }
   },
   "source": [
    "## Numerični zgled vezanih navadnih diferencialnih enačb 2. reda\n",
    "\n",
    "Poglejmo si sedaj splošen ravninski primer padanja telesa, ki je izpostavljeno sili teže in zračnemu uporu:\n",
    "<img width=250 src=\"fig/padanje_telesa_vezano.png\">"
   ]
  },
  {
   "cell_type": "markdown",
   "metadata": {
    "slideshow": {
     "slide_type": "subslide"
    }
   },
   "source": [
    "Velikost sile upora zraka $\\textbf{F}$ je sedaj definirana kot:\n",
    "$$F=c\\,v^2,$$\n",
    "kjer je kvadrat hitrosti:\n",
    "$$v^2=x'^2+y'^2.$$\n",
    "Smer definira vektor hitrosti:\n",
    "$$\\tan(\\alpha)=\\frac{y'}{x'}$$"
   ]
  },
  {
   "cell_type": "markdown",
   "metadata": {
    "slideshow": {
     "slide_type": "subslide"
    }
   },
   "source": [
    "S pomočjo II. Newtonovega zakona zapišemo gibalni enačbi po komponentah:\n",
    "\n",
    "$$\n",
    "\\begin{array}{rcl}\n",
    "-c\\,(x'^2+y'^2)\\,\\cos(\\alpha)&=&m\\,x''\\\\\n",
    "m\\,g-c\\,(x'^2+y'^2)\\,\\sin(\\alpha)&=&m\\,y''\n",
    "\\end{array}\n",
    "$$\n",
    "\n",
    "Sistem diferencialnih enačb drugega reda želimo rešiti glede na začetne pogoje:\n",
    "\n",
    "$$x(0\\,\\textrm{s})=y(0\\,\\textrm{s})=0\\,\\textrm{m}\\qquad x'(0\\,\\textrm{s})=y'(0\\,\\textrm{s})=0\\,\\textrm{m/s}.$$"
   ]
  },
  {
   "cell_type": "markdown",
   "metadata": {
    "slideshow": {
     "slide_type": "subslide"
    }
   },
   "source": [
    "Imamo sistem dveh diferencialnih enačb drugega reda. Z uvedbo novih spremenljivk $y_i$: \n",
    "\n",
    "$$y_0= x,\\quad y_1= x',\\quad y_2= y,\\quad y_3= y'.$$"
   ]
  },
  {
   "cell_type": "markdown",
   "metadata": {
    "slideshow": {
     "slide_type": "subslide"
    }
   },
   "source": [
    "Pripravimo sistem diferencialnih enačb prvega reda:\n",
    "$$\n",
    "\\begin{array}{rcl}\n",
    "y_0'&=&y_1\\\\\n",
    "y_1'&=&-c/m\\,(y_1^2+y_3^2)\\,\\cos(\\alpha)\\\\\n",
    "y_2'&=&y_3\\\\\n",
    "y_3'&=&g-c/m\\,(y_1^2+y_3^2)\\,\\sin(\\alpha)\n",
    "\\end{array}\n",
    "$$"
   ]
  },
  {
   "cell_type": "markdown",
   "metadata": {
    "slideshow": {
     "slide_type": "subslide"
    }
   },
   "source": [
    "Definirajmo še kot $\\alpha$:\n",
    "\n",
    "$\\tan(\\alpha)=\\frac{y'}{x'}=\\frac{y_3}{y_1}$."
   ]
  },
  {
   "cell_type": "markdown",
   "metadata": {
    "slideshow": {
     "slide_type": "subslide"
    }
   },
   "source": [
    "Definirajmo Python funkcijo prvih odvodov (za funkcijo `odeint`):"
   ]
  },
  {
   "cell_type": "code",
   "execution_count": 48,
   "metadata": {
    "collapsed": true
   },
   "outputs": [],
   "source": [
    "def f_zračni_upor_vezana_odeint(y, t, g=9.81, m=1., c=0.5):\n",
    "    alpha = np.arctan2(y[3], y[1])\n",
    "    v2 = y[1]**2 + y[3]**2\n",
    "    return np.array([y[1], -c/m*v2*np.cos(alpha), y[3], g-c/m*v2*np.sin(alpha)])"
   ]
  },
  {
   "cell_type": "markdown",
   "metadata": {
    "slideshow": {
     "slide_type": "subslide"
    }
   },
   "source": [
    "Definirajmo začetni pogoj in časovni vektor, kjer nas zanima rezultat:"
   ]
  },
  {
   "cell_type": "code",
   "execution_count": 49,
   "metadata": {},
   "outputs": [
    {
     "data": {
      "text/plain": [
       "array([ 0. ,  0.1,  0.2,  0.3,  0.4])"
      ]
     },
     "execution_count": 49,
     "metadata": {},
     "output_type": "execute_result"
    }
   ],
   "source": [
    "y0 = np.array([0., 1., 0., 0.])\n",
    "t = np.linspace(0, 10, 101)\n",
    "t[:5]"
   ]
  },
  {
   "cell_type": "markdown",
   "metadata": {
    "slideshow": {
     "slide_type": "subslide"
    }
   },
   "source": [
    "Rešimo s funkcijo `odeint` (koeficient zračnega upora naj bo `c=0.7`):"
   ]
  },
  {
   "cell_type": "code",
   "execution_count": 50,
   "metadata": {
    "collapsed": true
   },
   "outputs": [],
   "source": [
    "y_odeint = odeint(f_zračni_upor_vezana_odeint, y0=y0, t=t, args=(9.81,1.,0.7))"
   ]
  },
  {
   "cell_type": "markdown",
   "metadata": {
    "slideshow": {
     "slide_type": "subslide"
    }
   },
   "source": [
    "Poglejmo rezultat ($[x, x', y, y']$):"
   ]
  },
  {
   "cell_type": "code",
   "execution_count": 51,
   "metadata": {},
   "outputs": [
    {
     "data": {
      "text/plain": [
       "array([[ 0.        ,  1.        ,  0.        ,  0.        ],\n",
       "       [ 0.09641505,  0.92551042,  0.04782055,  0.94214646],\n",
       "       [ 0.18420114,  0.82564631,  0.18442061,  1.7641427 ],\n",
       "       [ 0.26086796,  0.7057562 ,  0.39481328,  2.41289466],\n",
       "       [ 0.32524976,  0.58261145,  0.66098397,  2.88234522]])"
      ]
     },
     "execution_count": 51,
     "metadata": {},
     "output_type": "execute_result"
    }
   ],
   "source": [
    "y_odeint[:5]"
   ]
  },
  {
   "cell_type": "markdown",
   "metadata": {
    "slideshow": {
     "slide_type": "subslide"
    }
   },
   "source": [
    "Prikažemo rezultate; najprej hitrost, nato lego!"
   ]
  },
  {
   "cell_type": "code",
   "execution_count": 52,
   "metadata": {},
   "outputs": [
    {
     "data": {
      "image/png": "[encoded data removed]",
      "text/plain": [
       "<matplotlib.figure.Figure at 0x255047238d0>"
      ]
     },
     "metadata": {},
     "output_type": "display_data"
    }
   ],
   "source": [
    "plt.plot(t, y_odeint[:,1], label='$v_x$')\n",
    "plt.plot(t, y_odeint[:,3], label='$v_y$')\n",
    "plt.title('Hitrost mase v odvisnosti od časa')\n",
    "plt.xlabel('Čas $t$ [s]')\n",
    "plt.ylabel('Hitrost [m/s]')\n",
    "plt.legend()\n",
    "plt.show()"
   ]
  },
  {
   "cell_type": "code",
   "execution_count": 53,
   "metadata": {
    "slideshow": {
     "slide_type": "subslide"
    }
   },
   "outputs": [
    {
     "data": {
      "image/png": "[encoded data removed]",
      "text/plain": [
       "<matplotlib.figure.Figure at 0x25503016be0>"
      ]
     },
     "metadata": {},
     "output_type": "display_data"
    }
   ],
   "source": [
    "plt.scatter(y_odeint[:,0], y_odeint[:,2], marker='.')\n",
    "plt.xlabel('$x$ [m]')\n",
    "plt.ylabel('$y$ [m]')\n",
    "plt.title('Lega mase')\n",
    "plt.show()"
   ]
  },
  {
   "cell_type": "markdown",
   "metadata": {
    "slideshow": {
     "slide_type": "slide"
    }
   },
   "source": [
    "# Stabilnost reševanja diferencialnih enačb*"
   ]
  },
  {
   "cell_type": "markdown",
   "metadata": {},
   "source": [
    "Numerično reševane diferencialnih enačb je izpostavljeno *napaki metode* in *zaokrožitveni napaki*. Te napake so različne pri različnih numeričnih metodah različne. \n",
    "\n",
    "Reševanje diferencialne enačbe je **stabilno**, če majhna sprememba začetnega pogoja vodi v majhno spremembo izračunane rešitve; sicer govorimo o **nestabilnosti reševanja**.\n",
    "\n",
    "Stabilnost je odvisna od diferencialne enačbe, od uporabljene numerične metode in od koraka integracije $h$."
   ]
  },
  {
   "cell_type": "markdown",
   "metadata": {
    "slideshow": {
     "slide_type": "subslide"
    }
   },
   "source": [
    "## Primer preprostega nihala"
   ]
  },
  {
   "cell_type": "markdown",
   "metadata": {},
   "source": [
    "Poglejmo si najprej primer reševanja diferencialne enačbe preprostega nihala. Slika (vir: Slavič, Dinamika, mehanska nihanja in mehanika tekočin, 2014):\n",
    "<img src=\"./fig/Slavič-slika-3.6.png\" width=150>\n",
    "\n",
    "prikazuje dinamski sistem (masa $m$, togost $k$), katerega diferencialna enačba je\n",
    "\n",
    "$$m\\,\\ddot x + k\\,x=0.$$"
   ]
  },
  {
   "cell_type": "markdown",
   "metadata": {
    "slideshow": {
     "slide_type": "subslide"
    }
   },
   "source": [
    "Tako diferencialno enačbo preoblikujemo v standardno obliko lastnega nihanja:\n",
    "\n",
    "$$\\ddot x + \\omega_0^2\\,x=0,$$\n",
    "\n",
    "kjer je lastna krožna frekvenca:\n",
    "\n",
    "$$\\omega_0=\\sqrt{\\frac{k}{m}}$$\n",
    "\n",
    "in pričakujemo odziv oblike:\n",
    "\n",
    "$$x(t)=A\\,\\cos(\\omega_0\\,t)+B\\,\\sin(\\omega_0\\,t).$$"
   ]
  },
  {
   "cell_type": "markdown",
   "metadata": {
    "slideshow": {
     "slide_type": "subslide"
    }
   },
   "source": [
    "Če so začetni pogoji enaki: \n",
    "\n",
    "$$x(0\\,\\textrm{s})=x_0\\qquad\\textrm{in}\\qquad\\dot x(0\\,\\textrm{s})=0\\,\\textrm{m/s},$$\n",
    "\n",
    "potem odziv pričakujemo v obliki:\n",
    "\n",
    "$$x(t)=x_0\\,\\cos(\\omega_0\\,t).$$"
   ]
  },
  {
   "cell_type": "markdown",
   "metadata": {
    "slideshow": {
     "slide_type": "subslide"
    }
   },
   "source": [
    "### Numerični zgled"
   ]
  },
  {
   "cell_type": "markdown",
   "metadata": {},
   "source": [
    "Najprej definirajmo vektor začetnih pogojev in funkcijo prvih odvodov (diferencialno enačbo 2. reda pretvorimo v sistem diferencialnih enačb 1. reda $\\mathbf{y}'=\\mathbf{f}(x, \\mathbf{y})$), kjer velja $y_0=x, y_1=x'$:"
   ]
  },
  {
   "cell_type": "code",
   "execution_count": 54,
   "metadata": {
    "collapsed": true
   },
   "outputs": [],
   "source": [
    "def f_nihalo(t, y, omega0=2*np.pi):\n",
    "    \"\"\"\n",
    "    Funkcija prvih odvodov za nihalo z eno prostostno stopnjo\n",
    "    \n",
    "    :param t: čas\n",
    "    :param y: seznam začetnih vrednosti\n",
    "    :param omega: lastna krožna frekvenca\n",
    "    :return y': seznam vrednosti odvodov\n",
    "    \"\"\"\n",
    "    return np.array([y[1], -omega0**2*y[0]])"
   ]
  },
  {
   "cell_type": "markdown",
   "metadata": {
    "slideshow": {
     "slide_type": "subslide"
    }
   },
   "source": [
    "Definirajmo podatke in analitično rešitev:"
   ]
  },
  {
   "cell_type": "code",
   "execution_count": 55,
   "metadata": {
    "collapsed": true,
    "slideshow": {
     "slide_type": "-"
    }
   },
   "outputs": [],
   "source": [
    "x0 = 1.\n",
    "omega0 = 2*np.pi\n",
    "x_zacetni_pogoji = np.array([x0, 0.])\n",
    "t1 = 4.\n",
    "cas = np.linspace(0, t1, 500)\n",
    "pomik = x0*np.cos(omega0*cas) # analitična rešitev\n",
    "hitrost = -x0*omega0*np.sin(omega0*cas) # analitična rešitev"
   ]
  },
  {
   "cell_type": "markdown",
   "metadata": {},
   "source": [
    "Rešitev s pomočjo metode Euler in Runge-Kutta 4. reda:"
   ]
  },
  {
   "cell_type": "code",
   "execution_count": 56,
   "metadata": {
    "collapsed": true
   },
   "outputs": [],
   "source": [
    "t_Eu = np.linspace(0, t1, 101)\n",
    "t_RK4 = t_Eu\n",
    "dt = t_Eu[1]\n",
    "\n",
    "x_Eu = euler_sistem(f_nihalo, t_Eu, x_zacetni_pogoji)\n",
    "x_RK4 = runge_kutta_4_sistem(f_nihalo, t_RK4, x_zacetni_pogoji)"
   ]
  },
  {
   "cell_type": "markdown",
   "metadata": {
    "slideshow": {
     "slide_type": "subslide"
    }
   },
   "source": [
    "Prikažimo rezultate"
   ]
  },
  {
   "cell_type": "code",
   "execution_count": 57,
   "metadata": {},
   "outputs": [
    {
     "data": {
      "image/png": "[encoded data removed]",
      "text/plain": [
       "<matplotlib.figure.Figure at 0x2550475bcc0>"
      ]
     },
     "metadata": {},
     "output_type": "display_data"
    }
   ],
   "source": [
    "plt.plot(cas, pomik, label='Analitična rešitev')\n",
    "plt.plot(t_Eu, x_Eu[:,0], '.', label='Euler')\n",
    "plt.plot(t_RK4, x_RK4[:,0], '.', label='Runge-Kutta 4')\n",
    "plt.legend()\n",
    "plt.title('Stabilnost različnih metod')\n",
    "plt.xlabel('Pomik [m]')\n",
    "plt.ylabel('Čas [s]')\n",
    "plt.show()"
   ]
  },
  {
   "cell_type": "markdown",
   "metadata": {
    "slideshow": {
     "slide_type": "subslide"
    }
   },
   "source": [
    "Opazimo, da je metoda Euler nestabilna in če bi povečali korak, bi postala nestavilna tudi metoda Runge-Kutta 4. reda."
   ]
  },
  {
   "cell_type": "markdown",
   "metadata": {
    "slideshow": {
     "slide_type": "subslide"
    }
   },
   "source": [
    "### Zakaj je Eulerjeva metoda tako nestabilna?"
   ]
  },
  {
   "cell_type": "code",
   "execution_count": 58,
   "metadata": {},
   "outputs": [
    {
     "data": {
      "text/plain": [
       "array([ 1.        ,  1.        ,  0.93683453,  0.8105036 ,  0.62499707,\n",
       "        0.3882947 ,  0.1121141 , -0.18859332, -0.49638247, -0.79225904])"
      ]
     },
     "execution_count": 58,
     "metadata": {},
     "output_type": "execute_result"
    }
   ],
   "source": [
    "x_Eu[:10,0]"
   ]
  },
  {
   "cell_type": "markdown",
   "metadata": {
    "slideshow": {
     "slide_type": "subslide"
    }
   },
   "source": [
    "Spomnimo se Eulerjeve metode:\n",
    "\n",
    "$$x(t+h)=x(t)+x'(t)\\,h,$$\n",
    "\n",
    "ki nam pove, da pomik $x(t+h)$ določimo glede na lego $x(t)$ in hitrost $x'(t)$. Začetni pogoji izhajajo iz skrajnega odmika $x(t=0)=1$ in takrat je hitrost $x'(t=0)=0$, kar pomeni, da bo x(t+h)=1. To pomeni, da že v prvem koraku naredi mo relativno veliko napako. Vendar zakaj potem začne vrednost alternirajoče naraščati?"
   ]
  },
  {
   "cell_type": "markdown",
   "metadata": {
    "slideshow": {
     "slide_type": "subslide"
    }
   },
   "source": [
    "Spomnimo se, da je analitična rešitev $x(t)=x_0\\,\\cos(\\omega_0\\,t)$ in je torej $x'(t)=-\\omega_0\\,x_0\\,\\sin(\\omega_0\\,t)$. \n",
    "\n",
    "Vstavimo pripravljena izraza v Eulerjevo metodo in uredimo:\n",
    "\n",
    "$$x(t+h)=x(t)+x'(t)\\,h=x_0\\,\\left(\\cos(\\omega_0\\,t)-\\omega_0\\,h\\,\\sin(\\omega_0\\,t)\\right).$$"
   ]
  },
  {
   "cell_type": "markdown",
   "metadata": {
    "slideshow": {
     "slide_type": "subslide"
    }
   },
   "source": [
    "Predpostavimo, da gledamo stanje ob takem času $t=\\pi/(2\\omega_0)$, ko velja $\\cos(\\omega_0\\,t)=0$ in $\\sin(\\omega_0\\,t)=1$:\n",
    "\n",
    "$$x(t+h)=x_0\\,\\underbrace{\\left(-\\omega_0\\,h\\right)}_{A}.$$"
   ]
  },
  {
   "cell_type": "markdown",
   "metadata": {
    "slideshow": {
     "slide_type": "subslide"
    }
   },
   "source": [
    "V kolikor bo absolutna vrednost izraza $A$ večja kot 1, bo pri času $t+h$ vrednost večja kot v predhodnem koraku in v sledečem verjetno spet. Sledi, da lahko pride do nestabilnosti. Da se je izognemo, mora veljati:\n",
    "$$|A|<1\\qquad\\rightarrow\\qquad h<\\frac{1}{\\omega_0}.$$"
   ]
  },
  {
   "cell_type": "markdown",
   "metadata": {
    "slideshow": {
     "slide_type": "subslide"
    }
   },
   "source": [
    "Opomba: v nekaterih knjigah boste videli tudi vrednost $h<2/\\omega_0$; enoliče meje za vse diferencialne enačbe ni mogoče definirati; v splošnem pa velja, da je korak definiran relativno glede na najkrajšo periodo $T$ v diferencialni enačbi (npr.: $h<2/\\omega_0$ je v bistvu enako $h<2/(2\\pi/T)$ oziroma $h<T/\\pi$). Perioda $T$ je definirana glede na najvišjo lastno frekvenco sistema $T=1/f_{\\textrm{max}}$, ki jo izračunamo iz lastne vrednosti sistema."
   ]
  },
  {
   "cell_type": "markdown",
   "metadata": {
    "slideshow": {
     "slide_type": "slide"
    }
   },
   "source": [
    "# Nekaj vprašanj za razmislek!"
   ]
  },
  {
   "cell_type": "markdown",
   "metadata": {},
   "source": [
    "1. Na sliki (vir: Numerical Methods in Engineering With Python 3, 3rd Ed, Jaan Kiusalaas) je prikazan izstrelek mase $m$, ki ga izstrelimo s hitrosjo $v_0$ pod kotom $\\alpha$. Če je sila upora zraka: $F=c\\,v^{3/2}$, potem sta gibalni enačbi:\n",
    "$$\\ddot x(t)=-F\\,\\cos(\\alpha)/m\\qquad\\ddot y(t)=-F\\,\\sin(\\alpha)/m-g.$$\n",
    "Opomba: $v=\\sqrt{\\dot x^2+\\dot y^2}.$ Ustrezne parametre si izmislite.\n",
    "<img src=\"./fig/Jaan_Kiusalaas_stran_265_n13.png\" width=300>\n",
    "Sistem dveh diferencialnih enačb 2. reda zapišite v sistem diferencialnih enačb 1. reda.\n",
    "* Določite vektor začetnih pogojev, ki smo ga zgoraj označili z $\\mathbf{y}$.\n",
    "* Določite funkcijo 1. odvodov, ``c`` naj bo parameter.\n",
    "* Definirajte začetne pogoje in rešite nalogo s poljubnimi podatki.\n",
    "* Prikažite $(x, y)$ lego masne točke, spreminjajte koeficient upora $c$.\n",
    "* Prikažite hitrost v odvisnosti od časa. Določite minimum hitrosti in čas, pri katerem nastane.\n",
    "* Na vaje prinesite poljubno diferencialno enačbo in bodite pripravljeni na numerično reševanje!"
   ]
  },
  {
   "cell_type": "markdown",
   "metadata": {
    "slideshow": {
     "slide_type": "subslide"
    }
   },
   "source": [
    "## Primer Van der Polovega nihala\n",
    "\n",
    "Namen taga primera je pokazati kako lahko vpliv integratorja vpliva na hitrost reševanja problema! Kaj je Van der Polovo nihalo je opisano [tukaj](http://en.wikipedia.org/wiki/Van_der_Pol_oscillator). "
   ]
  },
  {
   "cell_type": "markdown",
   "metadata": {},
   "source": [
    "Definirajmo seznam odvodov:"
   ]
  },
  {
   "cell_type": "code",
   "execution_count": 59,
   "metadata": {
    "collapsed": true
   },
   "outputs": [],
   "source": [
    "def f_van_der_pol(t, y, mu=1000):\n",
    "    \"\"\"\n",
    "    Funkcija prvih odvodov za Van der Pol nihalo\n",
    "    \n",
    "    :param t: čas\n",
    "    :param y: seznam začetnih vrednosti\n",
    "    :param mu: parameter dušenja in nelinearnosti\n",
    "    :return y': seznam vrednosti odvodov\n",
    "    \"\"\"\n",
    "    return np.array([y[1], mu*(1-y[0]**2)*y[1]-y[0]])"
   ]
  },
  {
   "cell_type": "code",
   "execution_count": 60,
   "metadata": {
    "collapsed": true,
    "slideshow": {
     "slide_type": "subslide"
    }
   },
   "outputs": [],
   "source": [
    "x_zacetni_pogoji = np.array([1.5, 0.])\n",
    "dt = 0.1\n",
    "t1 = 3000"
   ]
  },
  {
   "cell_type": "markdown",
   "metadata": {},
   "source": [
    "Rešitev po metodi RK45:"
   ]
  },
  {
   "cell_type": "code",
   "execution_count": 61,
   "metadata": {
    "collapsed": true
   },
   "outputs": [],
   "source": [
    "#%%timeit -n 1\n",
    "solver = ode(f_van_der_pol).set_integrator('dopri5').set_initial_value(x_zacetni_pogoji)\n",
    "t_RK4_sci = [0]\n",
    "x_RK4_sci = [x_zacetni_pogoji]\n",
    "while solver.successful() and solver.t < t1/6:# računamo samo do 1/6 časa!!!\n",
    "    solver.integrate(solver.t+dt)\n",
    "    t_RK4_sci.append(solver.t)\n",
    "    x_RK4_sci.append(solver.y)\n",
    "t_RK4_sci = np.array(t_RK4_sci)\n",
    "x_RK4_sci = np.array(x_RK4_sci)"
   ]
  },
  {
   "cell_type": "markdown",
   "metadata": {
    "slideshow": {
     "slide_type": "subslide"
    }
   },
   "source": [
    "Rešitev po implicitni metodi tipa Adams:"
   ]
  },
  {
   "cell_type": "code",
   "execution_count": 62,
   "metadata": {},
   "outputs": [
    {
     "data": {
      "text/plain": [
       "True"
      ]
     },
     "execution_count": 62,
     "metadata": {},
     "output_type": "execute_result"
    }
   ],
   "source": [
    "#%%timeit -n 1\n",
    "solver = ode(f_van_der_pol).set_integrator('lsoda').set_initial_value(x_zacetni_pogoji)\n",
    "t_imp_sci = [0]\n",
    "x_imp_sci = [x_zacetni_pogoji]\n",
    "while solver.successful() and solver.t < t1:\n",
    "    solver.integrate(solver.t+dt)\n",
    "    t_imp_sci.append(solver.t)\n",
    "    x_imp_sci.append(solver.y)\n",
    "t_imp_sci = np.array(t_imp_sci)\n",
    "x_imp_sci = np.array(x_imp_sci)\n",
    "solver.successful()"
   ]
  },
  {
   "cell_type": "markdown",
   "metadata": {},
   "source": [
    "Rešitev s pomočjo funkcije ``odeint`` (uporablja isto implicitno metodo `lsoda` kot zgoraj, poleg moramo definirati, pri katerih časovnih korakih nas zanima rešitev)."
   ]
  },
  {
   "cell_type": "code",
   "execution_count": 63,
   "metadata": {
    "collapsed": true
   },
   "outputs": [],
   "source": [
    "def f_van_der_pol_2(y, t):#odeint pričakuje najprej odvisne spremenljivke, nato neodvisne\n",
    "    return f_van_der_pol(t, y, mu=1000)"
   ]
  },
  {
   "cell_type": "code",
   "execution_count": 64,
   "metadata": {
    "collapsed": true
   },
   "outputs": [],
   "source": [
    "#%%timeit -n 1\n",
    "time = dt*np.arange(t1/dt)\n",
    "result = odeint(f_van_der_pol_2, x_zacetni_pogoji, time)"
   ]
  },
  {
   "cell_type": "markdown",
   "metadata": {},
   "source": [
    "Prikaz rezultatov:"
   ]
  },
  {
   "cell_type": "code",
   "execution_count": 65,
   "metadata": {},
   "outputs": [
    {
     "data": {
      "image/png": "[encoded data removed]",
      "text/plain": [
       "<matplotlib.figure.Figure at 0x25504759320>"
      ]
     },
     "metadata": {},
     "output_type": "display_data"
    }
   ],
   "source": [
    "plt.plot(t_RK4_sci, x_RK4_sci[:, 0], 'C0.', label='Pomik - RK4 sci [m]')\n",
    "plt.plot(t_imp_sci, x_imp_sci[:, 0], 'C1-', label='Pomik - Imp sci [m]')\n",
    "plt.plot(time, result[:, 0], 'C2-', label='Pomik - odeint sci [m]')\n",
    "plt.xlabel('Čas [s]')\n",
    "plt.legend(loc=(1.01, 0));"
   ]
  },
  {
   "cell_type": "markdown",
   "metadata": {
    "slideshow": {
     "slide_type": "subslide"
    }
   },
   "source": [
    "## Simbolno reševanje diferencialne enačbe drugega reda"
   ]
  },
  {
   "cell_type": "markdown",
   "metadata": {},
   "source": [
    "Pogledali si bomo primer, prikazan na sliki, kjer je masa $m$ na klancu naklona $\\alpha$. Koeficient trenja je $\\mu$, težnostni pospešek pa $g$. Začetna hitrost je $\\dot y(0\\,\\textrm{s})=v_0$, pomik $y(0\\,\\textrm{s})=0\\,\\textrm{m}$\n",
    "<img src=\"./fig/masa_na_klancu.png\" width=350>\n",
    "Gibalna enačba (samo za smer $y$) je definirana glede na II. Newtonov zakon (glejte diagram sil na prosto telo)."
   ]
  },
  {
   "cell_type": "markdown",
   "metadata": {
    "slideshow": {
     "slide_type": "subslide"
    }
   },
   "source": [
    "### Izpeljava gibalne enačbe"
   ]
  },
  {
   "cell_type": "code",
   "execution_count": 66,
   "metadata": {},
   "outputs": [
    {
     "data": {
      "image/png": "[encoded data removed]",
      "text/latex": [
       "$$m \\frac{d^{2}}{d t^{2}}  y{\\left (t \\right )} = - g m \\mu \\cos{\\left (\\alpha \\right )} + g m \\sin{\\left (\\alpha \\right )}$$"
      ],
      "text/plain": [
       "    2                                   \n",
       "   d                                    \n",
       "m⋅───(y(t)) = -g⋅m⋅μ⋅cos(α) + g⋅m⋅sin(α)\n",
       "    2                                   \n",
       "  dt                                    "
      ]
     },
     "execution_count": 66,
     "metadata": {},
     "output_type": "execute_result"
    }
   ],
   "source": [
    "m, mu, g, alpha, y, t, v0 = sym.symbols('m, mu, g, alpha, y, t, v0')\n",
    "eq = sym.Eq(m*y(t).diff(t,2),  m*g*sym.sin(alpha)-m*g*sym.cos(alpha)*mu)\n",
    "eq"
   ]
  },
  {
   "cell_type": "markdown",
   "metadata": {
    "slideshow": {
     "slide_type": "subslide"
    }
   },
   "source": [
    "Rešitev enačbe je:"
   ]
  },
  {
   "cell_type": "code",
   "execution_count": 67,
   "metadata": {},
   "outputs": [
    {
     "data": {
      "image/png": "[encoded data removed]",
      "text/latex": [
       "$$y{\\left (t \\right )} = C_{1} + C_{2} t + \\frac{g t^{2}}{2} \\left(- \\mu \\cos{\\left (\\alpha \\right )} + \\sin{\\left (\\alpha \\right )}\\right)$$"
      ],
      "text/plain": [
       "                      2                     \n",
       "                   g⋅t ⋅(-μ⋅cos(α) + sin(α))\n",
       "y(t) = C₁ + C₂⋅t + ─────────────────────────\n",
       "                               2            "
      ]
     },
     "execution_count": 67,
     "metadata": {},
     "output_type": "execute_result"
    }
   ],
   "source": [
    "dsol = sym.dsolve(eq, y(t))\n",
    "dsol"
   ]
  },
  {
   "cell_type": "markdown",
   "metadata": {
    "slideshow": {
     "slide_type": "subslide"
    }
   },
   "source": [
    "Da določimo $C_1$ in $C_2$, vstavimo $t=0\\,\\textrm{s}$:"
   ]
  },
  {
   "cell_type": "code",
   "execution_count": 68,
   "metadata": {},
   "outputs": [
    {
     "data": {
      "image/png": "[encoded data removed]",
      "text/latex": [
       "$$C_{1}$$"
      ],
      "text/plain": [
       "C₁"
      ]
     },
     "execution_count": 68,
     "metadata": {},
     "output_type": "execute_result"
    }
   ],
   "source": [
    "dsol.args[1].subs(t, 0)"
   ]
  },
  {
   "cell_type": "markdown",
   "metadata": {},
   "source": [
    "nato odvajamo po času in ponovno vstavimo $t=0\\,\\textrm{s}$:"
   ]
  },
  {
   "cell_type": "code",
   "execution_count": 69,
   "metadata": {},
   "outputs": [
    {
     "data": {
      "image/png": "[encoded data removed]",
      "text/latex": [
       "$$C_{2}$$"
      ],
      "text/plain": [
       "C₂"
      ]
     },
     "execution_count": 69,
     "metadata": {},
     "output_type": "execute_result"
    }
   ],
   "source": [
    "dsol.args[1].diff(t).subs(t, 0)"
   ]
  },
  {
   "cell_type": "markdown",
   "metadata": {
    "slideshow": {
     "slide_type": "subslide"
    }
   },
   "source": [
    "Glede na začetne pogoje smo torej določili konstante:"
   ]
  },
  {
   "cell_type": "code",
   "execution_count": 70,
   "metadata": {
    "collapsed": true
   },
   "outputs": [],
   "source": [
    "zacetni_pogoji = {'C1': 0, 'C2': v0}"
   ]
  },
  {
   "cell_type": "markdown",
   "metadata": {},
   "source": [
    "Sledi rešitev:"
   ]
  },
  {
   "cell_type": "code",
   "execution_count": 71,
   "metadata": {},
   "outputs": [
    {
     "data": {
      "image/png": "[encoded data removed]",
      "text/latex": [
       "$$\\frac{g t^{2}}{2} \\left(- \\mu \\cos{\\left (\\alpha \\right )} + \\sin{\\left (\\alpha \\right )}\\right) + t v_{0}$$"
      ],
      "text/plain": [
       "   2                            \n",
       "g⋅t ⋅(-μ⋅cos(α) + sin(α))       \n",
       "───────────────────────── + t⋅v₀\n",
       "            2                   "
      ]
     },
     "execution_count": 71,
     "metadata": {},
     "output_type": "execute_result"
    }
   ],
   "source": [
    "resitev = dsol.args[1].subs(zacetni_pogoji)\n",
    "resitev"
   ]
  },
  {
   "cell_type": "markdown",
   "metadata": {
    "slideshow": {
     "slide_type": "subslide"
    }
   },
   "source": [
    "Pripravimo si funkciji za numerični klic:"
   ]
  },
  {
   "cell_type": "code",
   "execution_count": 72,
   "metadata": {},
   "outputs": [
    {
     "name": "stdout",
     "output_type": "stream",
     "text": [
      "Pomik pri 0s: 0m\n",
      "Hitrost pri 0s: 1m/s\n"
     ]
    }
   ],
   "source": [
    "podatki = {mu: 0.3, alpha: 15*np.pi/180, v0: 1., g: 9.81} #tukaj uporabimo np.pi, da imamo numerično vrednost\n",
    "\n",
    "pomik = sym.lambdify(t, resitev.subs(podatki), 'numpy')\n",
    "hitrost = sym.lambdify(t, resitev.diff(t).subs(podatki), 'numpy')\n",
    "\n",
    "print('Pomik pri 0s: {:g}m'.format(pomik(0)))\n",
    "print('Hitrost pri 0s: {:g}m/s'.format(hitrost(0)))"
   ]
  },
  {
   "cell_type": "markdown",
   "metadata": {
    "slideshow": {
     "slide_type": "subslide"
    }
   },
   "source": [
    "Pripravimo prikaz:"
   ]
  },
  {
   "cell_type": "code",
   "execution_count": 73,
   "metadata": {
    "collapsed": true
   },
   "outputs": [],
   "source": [
    "cas = np.linspace(0, 4, 100)\n",
    "cas2 = np.linspace(0, 4, 5)"
   ]
  },
  {
   "cell_type": "code",
   "execution_count": 74,
   "metadata": {
    "collapsed": true
   },
   "outputs": [],
   "source": [
    "def slika():\n",
    "    plt.plot(cas, pomik(cas), 'C0', label='Pomik [m]')\n",
    "    plt.plot(cas, hitrost(cas), 'C1', label='Hitrost [m/s]')\n",
    "    plt.plot(cas2, pomik(cas2), 'C0o', label='Pomik - velik korak[m]')\n",
    "    plt.plot(cas2, hitrost(cas2), 'C1o', label='Hitrost - velik korak [m/s]')\n",
    "    plt.xlabel('Čas [s]')\n",
    "    plt.ylabel('Pomik [m] / Hitrost [m/s]')\n",
    "    plt.legend(loc=(1.01, 0));\n",
    "    plt.show()"
   ]
  },
  {
   "cell_type": "code",
   "execution_count": 75,
   "metadata": {
    "slideshow": {
     "slide_type": "subslide"
    }
   },
   "outputs": [
    {
     "data": {
      "image/png": "[encoded data removed]",
      "text/plain": [
       "<matplotlib.figure.Figure at 0x25504d3a4a8>"
      ]
     },
     "metadata": {},
     "output_type": "display_data"
    }
   ],
   "source": [
    "slika()"
   ]
  },
  {
   "cell_type": "markdown",
   "metadata": {
    "slideshow": {
     "slide_type": "subslide"
    }
   },
   "source": [
    "### Simbolno preoblikovanje diferencialne enačbe v sistem diferencialnih enačb 1. reda"
   ]
  },
  {
   "cell_type": "markdown",
   "metadata": {},
   "source": [
    "Spomnimo se izvorne diferencialne enačbe:"
   ]
  },
  {
   "cell_type": "code",
   "execution_count": 76,
   "metadata": {},
   "outputs": [
    {
     "data": {
      "image/png": "[encoded data removed]",
      "text/latex": [
       "$$m \\frac{d^{2}}{d t^{2}}  y{\\left (t \\right )} = - g m \\mu \\cos{\\left (\\alpha \\right )} + g m \\sin{\\left (\\alpha \\right )}$$"
      ],
      "text/plain": [
       "    2                                   \n",
       "   d                                    \n",
       "m⋅───(y(t)) = -g⋅m⋅μ⋅cos(α) + g⋅m⋅sin(α)\n",
       "    2                                   \n",
       "  dt                                    "
      ]
     },
     "execution_count": 76,
     "metadata": {},
     "output_type": "execute_result"
    }
   ],
   "source": [
    "eq"
   ]
  },
  {
   "cell_type": "markdown",
   "metadata": {
    "slideshow": {
     "slide_type": "subslide"
    }
   },
   "source": [
    "Definirajmo nove spremenljivke in pripravimo funkcijo $f$:"
   ]
  },
  {
   "cell_type": "code",
   "execution_count": 77,
   "metadata": {},
   "outputs": [
    {
     "data": {
      "image/png": "[encoded data removed]",
      "text/latex": [
       "$$g \\left(- \\mu \\cos{\\left (\\alpha \\right )} + \\sin{\\left (\\alpha \\right )}\\right)$$"
      ],
      "text/plain": [
       "g⋅(-μ⋅cos(α) + sin(α))"
      ]
     },
     "execution_count": 77,
     "metadata": {},
     "output_type": "execute_result"
    }
   ],
   "source": [
    "y0, y1 = sym.symbols('y:2')\n",
    "f = sym.simplify(eq.args[1]/m)\n",
    "f"
   ]
  },
  {
   "cell_type": "markdown",
   "metadata": {
    "slideshow": {
     "slide_type": "subslide"
    }
   },
   "source": [
    "Povežimo sedaj nove spremenljivke.\n",
    "\n",
    "$d y_0/dt$ naj bo enako $y_1$:"
   ]
  },
  {
   "cell_type": "code",
   "execution_count": 78,
   "metadata": {},
   "outputs": [
    {
     "data": {
      "image/png": "[encoded data removed]",
      "text/latex": [
       "$$\\frac{d}{d t} \\operatorname{y_{0}}{\\left (t \\right )} = \\operatorname{y_{1}}{\\left (t \\right )}$$"
      ],
      "text/plain": [
       "d                \n",
       "──(y₀(t)) = y₁(t)\n",
       "dt               "
      ]
     },
     "execution_count": 78,
     "metadata": {},
     "output_type": "execute_result"
    }
   ],
   "source": [
    "eq1 = sym.Eq(y0(t).diff(t), y1(t))\n",
    "eq1"
   ]
  },
  {
   "cell_type": "markdown",
   "metadata": {
    "slideshow": {
     "slide_type": "-"
    }
   },
   "source": [
    "Odvod $d y_1/dt$ (v bistvu je to $y''$) naj bo enak funkciji $f$:"
   ]
  },
  {
   "cell_type": "code",
   "execution_count": 79,
   "metadata": {},
   "outputs": [
    {
     "data": {
      "image/png": "[encoded data removed]",
      "text/latex": [
       "$$\\frac{d}{d t} \\operatorname{y_{1}}{\\left (t \\right )} = g \\left(- \\mu \\cos{\\left (\\alpha \\right )} + \\sin{\\left (\\alpha \\right )}\\right)$$"
      ],
      "text/plain": [
       "d                                 \n",
       "──(y₁(t)) = g⋅(-μ⋅cos(α) + sin(α))\n",
       "dt                                "
      ]
     },
     "execution_count": 79,
     "metadata": {},
     "output_type": "execute_result"
    }
   ],
   "source": [
    "eq2 = sym.Eq(y1(t).diff(t), f)\n",
    "eq2"
   ]
  },
  {
   "cell_type": "markdown",
   "metadata": {
    "slideshow": {
     "slide_type": "subslide"
    }
   },
   "source": [
    "Zgornje izraze zapišemo v vektorski obliki:\n",
    "$$\\mathbf{y}'=\\mathbf{f}(t, \\mathbf{y}).$$"
   ]
  },
  {
   "cell_type": "code",
   "execution_count": 80,
   "metadata": {},
   "outputs": [
    {
     "data": {
      "image/png": "[encoded data removed]",
      "text/latex": [
       "$$\\left [ \\frac{d}{d t} \\operatorname{y_{0}}{\\left (t \\right )}, \\quad \\frac{d}{d t} \\operatorname{y_{1}}{\\left (t \\right )}\\right ]$$"
      ],
      "text/plain": [
       "⎡d          d        ⎤\n",
       "⎢──(y₀(t)), ──(y₁(t))⎥\n",
       "⎣dt         dt       ⎦"
      ]
     },
     "execution_count": 80,
     "metadata": {},
     "output_type": "execute_result"
    }
   ],
   "source": [
    "y_odvod = [y0(t).diff(t), y1(t).diff(t)]\n",
    "y_odvod"
   ]
  },
  {
   "cell_type": "code",
   "execution_count": 81,
   "metadata": {},
   "outputs": [
    {
     "data": {
      "image/png": "[encoded data removed]",
      "text/latex": [
       "$$\\left [ \\operatorname{y_{1}}{\\left (t \\right )}, \\quad g \\left(- \\mu \\cos{\\left (\\alpha \\right )} + \\sin{\\left (\\alpha \\right )}\\right)\\right ]$$"
      ],
      "text/plain": [
       "[y₁(t), g⋅(-μ⋅cos(α) + sin(α))]"
      ]
     },
     "execution_count": 81,
     "metadata": {},
     "output_type": "execute_result"
    }
   ],
   "source": [
    "f_vec = [y1(t), f]\n",
    "f_vec"
   ]
  },
  {
   "cell_type": "markdown",
   "metadata": {
    "slideshow": {
     "slide_type": "subslide"
    }
   },
   "source": [
    "Spomnimo se sedaj ``f_vec``:"
   ]
  },
  {
   "cell_type": "code",
   "execution_count": 82,
   "metadata": {},
   "outputs": [
    {
     "data": {
      "image/png": "[encoded data removed]",
      "text/latex": [
       "$$\\left [ \\operatorname{y_{1}}{\\left (t \\right )}, \\quad g \\left(- \\mu \\cos{\\left (\\alpha \\right )} + \\sin{\\left (\\alpha \\right )}\\right)\\right ]$$"
      ],
      "text/plain": [
       "[y₁(t), g⋅(-μ⋅cos(α) + sin(α))]"
      ]
     },
     "execution_count": 82,
     "metadata": {},
     "output_type": "execute_result"
    }
   ],
   "source": [
    "f_vec"
   ]
  },
  {
   "cell_type": "markdown",
   "metadata": {},
   "source": [
    "Če rešujemo numerično, potem funkcijo $\\mathbf{f}(t, \\mathbf{y})$ zapišemo:"
   ]
  },
  {
   "cell_type": "code",
   "execution_count": 83,
   "metadata": {},
   "outputs": [
    {
     "data": {
      "image/png": "[encoded data removed]",
      "text/latex": [
       "$$-0.3037048743129991$$"
      ],
      "text/plain": [
       "-0.3037048743129991"
      ]
     },
     "execution_count": 83,
     "metadata": {},
     "output_type": "execute_result"
    }
   ],
   "source": [
    "pospesek = float((eq.args[1]/m).simplify().subs(podatki))\n",
    "pospesek #raziščite zakaj smo tukaj tako definirali! namig: type(pospesek)"
   ]
  },
  {
   "cell_type": "code",
   "execution_count": 84,
   "metadata": {
    "collapsed": true,
    "slideshow": {
     "slide_type": "subslide"
    }
   },
   "outputs": [],
   "source": [
    "def F_klada(t, y):\n",
    "    return np.array([y[1], pospesek],dtype=float)"
   ]
  },
  {
   "cell_type": "markdown",
   "metadata": {},
   "source": [
    "Preverimo funkcijo pri začetnem času $t=0\\,$s in pri začetnih pogoji $[y_0, y_1]=[0, v_0]$:"
   ]
  },
  {
   "cell_type": "code",
   "execution_count": 85,
   "metadata": {},
   "outputs": [
    {
     "data": {
      "text/plain": [
       "array([ 0.,  1.])"
      ]
     },
     "execution_count": 85,
     "metadata": {},
     "output_type": "execute_result"
    }
   ],
   "source": [
    "y_zacetni_pogoji = np.array([0, podatki[v0]])\n",
    "y_zacetni_pogoji"
   ]
  },
  {
   "cell_type": "code",
   "execution_count": 86,
   "metadata": {},
   "outputs": [
    {
     "data": {
      "text/plain": [
       "array([ 1.        , -0.30370487])"
      ]
     },
     "execution_count": 86,
     "metadata": {},
     "output_type": "execute_result"
    }
   ],
   "source": [
    "F_klada(0., y_zacetni_pogoji)"
   ]
  },
  {
   "cell_type": "markdown",
   "metadata": {
    "slideshow": {
     "slide_type": "subslide"
    }
   },
   "source": [
    "Uporabimo sedaj Eulerjevo metodo:"
   ]
  },
  {
   "cell_type": "code",
   "execution_count": 87,
   "metadata": {},
   "outputs": [
    {
     "data": {
      "text/plain": [
       "array([[ 0.        ,  1.        ],\n",
       "       [ 1.        ,  0.69629513],\n",
       "       [ 1.69629513,  0.39259025],\n",
       "       [ 2.08888538,  0.08888538],\n",
       "       [ 2.17777075, -0.2148195 ]])"
      ]
     },
     "execution_count": 87,
     "metadata": {},
     "output_type": "execute_result"
    }
   ],
   "source": [
    "#%%timeit\n",
    "x_Eu = np.linspace(0, 4, 5)\n",
    "y_Eu = euler_sistem(F_klada, x_Eu, np.array([0, 1.]))\n",
    "y_Eu"
   ]
  },
  {
   "cell_type": "markdown",
   "metadata": {
    "slideshow": {
     "slide_type": "subslide"
    }
   },
   "source": [
    "Prikažemo in primerjamo z analitično rešitvijo:"
   ]
  },
  {
   "cell_type": "code",
   "execution_count": 88,
   "metadata": {
    "collapsed": true
   },
   "outputs": [],
   "source": [
    "def narisi_euler(n=5):\n",
    "    x_Eu = np.linspace(0, 4, n)\n",
    "    y_Eu = euler_sistem(F_klada, x_Eu, np.array([0, 1.]))\n",
    "    plt.title('Eulerjeva metoda s korakom $h={:g}$'.format(x_Eu[1]-x_Eu[0]))\n",
    "    plt.plot(cas, pomik(cas), 'C0', label='Pomik - analitično [m]')\n",
    "    plt.plot(cas, hitrost(cas), 'C1', label='Hitrost - analitično [m/s]')\n",
    "    plt.plot(x_Eu, y_Eu[:, 0], 'C0.', label='Pomik - Euler [m]')\n",
    "    plt.plot(x_Eu, y_Eu[:, 1], 'C1.', label='Hitrost - Euler [m/s]')\n",
    "    plt.xlabel('Čas [s]')\n",
    "    plt.ylabel('Pomik [m] / Hitrost [m/s]')\n",
    "    plt.ylim(-0.5, 2.5)\n",
    "    plt.legend(loc=(1.01, 0))\n",
    "    plt.show();"
   ]
  },
  {
   "cell_type": "code",
   "execution_count": 89,
   "metadata": {
    "slideshow": {
     "slide_type": "subslide"
    }
   },
   "outputs": [
    {
     "data": {
      "application/vnd.jupyter.widget-view+json": {
       "model_id": "1c87c7ed9f7141bbb333d9be5e7f58cf",
       "version_major": 2,
       "version_minor": 0
      },
      "text/plain": [
       "A Jupyter Widget"
      ]
     },
     "metadata": {},
     "output_type": "display_data"
    }
   ],
   "source": [
    "interact(narisi_euler, n=(3, 10, 1));"
   ]
  }
 ],
 "metadata": {
  "anaconda-cloud": {},
  "celltoolbar": "Slideshow",
  "kernelspec": {
   "display_name": "Python 3",
   "language": "python",
   "name": "python3"
  },
  "language_info": {
   "codemirror_mode": {
    "name": "ipython",
    "version": 3
   },
   "file_extension": ".py",
   "mimetype": "text/x-python",
   "name": "python",
   "nbconvert_exporter": "python",
   "pygments_lexer": "ipython3",
   "version": "3.6.2"
  },
  "latex_envs": {
   "bibliofile": "biblio.bib",
   "cite_by": "apalike",
   "current_citInitial": 1,
   "eqLabelWithNumbers": true,
   "eqNumInitial": 0
  },
  "livereveal": {
   "theme": "sky",
   "transition": "default",
   "width": 1200
  },
  "nav_menu": {},
  "toc": {
   "colors": {
    "hover_highlight": "#DAA520",
    "navigate_num": "#000000",
    "navigate_text": "#333333",
    "running_highlight": "#FF0000",
    "selected_highlight": "#FFD700",
    "sidebar_border": "#EEEEEE",
    "wrapper_background": "#FFFFFF"
   },
   "moveMenuLeft": true,
   "nav_menu": {
    "height": "371px",
    "width": "252px"
   },
   "navigate_menu": true,
   "number_sections": true,
   "sideBar": true,
   "threshold": "2",
   "toc_cell": true,
   "toc_position": {
    "height": "500px",
    "left": "0px",
    "right": "20px",
    "top": "106px",
    "width": "212px"
   },
   "toc_section_display": "block",
   "toc_window_display": true,
   "widenNotebook": false
  }
 },
 "nbformat": 4,
 "nbformat_minor": 1
}
