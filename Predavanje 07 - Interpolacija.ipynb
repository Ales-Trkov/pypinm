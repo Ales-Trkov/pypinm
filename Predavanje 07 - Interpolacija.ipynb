{
 "cells": [
  {
   "cell_type": "markdown",
   "metadata": {
    "slideshow": {
     "slide_type": "slide"
    }
   },
   "source": [
    "<font size=\"2\"> [github.com/jankoslavic/pypinm](http://github.com/jankoslavic/pypinm)</font>\n",
    "\n",
    "<center>\n",
    "<img width=300 src=\"./fig/ladisk.png\">\n",
    "<br>\n",
    "<font size=\"7\" color=\"f00e0e\" face=\"garamond\"><b>Interpolacija</b></font>\n",
    "<br><br>\n",
    "<font size=\"4\">\n",
    "[izr.prof. dr. Janko Slavič](http://www.ladisk.si/~slavic)\n",
    "</font>\n",
    "<br><br>\n",
    "<font size=\"2\">Marec 2017</font>\n",
    "</center>"
   ]
  },
  {
   "cell_type": "markdown",
   "metadata": {
    "slideshow": {
     "slide_type": "subslide"
    },
    "toc": "true"
   },
   "source": [
    "# Table of Contents\n",
    " <p><div class=\"lev1\"><a href=\"#Uvod\"><span class=\"toc-item-num\">1&nbsp;&nbsp;</span>Uvod</a></div><div class=\"lev1\"><a href=\"#Interpolacija-s-polinomom\"><span class=\"toc-item-num\">2&nbsp;&nbsp;</span>Interpolacija s polinomom</a></div><div class=\"lev1\"><a href=\"#Polinomska-interpolacija---Lagrangeva-metoda\"><span class=\"toc-item-num\">3&nbsp;&nbsp;</span>Polinomska interpolacija - Lagrangeva metoda</a></div><div class=\"lev2\"><a href=\"#Primer-interpolacije\"><span class=\"toc-item-num\">3.1&nbsp;&nbsp;</span>Primer interpolacije</a></div><div class=\"lev2\"><a href=\"#Primer-ocene-napaka-polinomske-interpolacije\"><span class=\"toc-item-num\">3.2&nbsp;&nbsp;</span>Primer ocene napaka polinomske interpolacije</a></div><div class=\"lev2\"><a href=\"#Interpolacija-z-uporabo-scipy\"><span class=\"toc-item-num\">3.3&nbsp;&nbsp;</span>Interpolacija z uporabo <code>scipy</code></a></div><div class=\"lev1\"><a href=\"#Kubični-zlepki\"><span class=\"toc-item-num\">4&nbsp;&nbsp;</span>Kubični zlepki</a></div><div class=\"lev2\"><a href=\"#Naravni-kubični-zlepki\"><span class=\"toc-item-num\">4.1&nbsp;&nbsp;</span>Naravni kubični zlepki</a></div><div class=\"lev2\"><a href=\"#Numerična-implementacija\"><span class=\"toc-item-num\">4.2&nbsp;&nbsp;</span>Numerična implementacija</a></div><div class=\"lev2\"><a href=\"#Zlepki-z-eno-spremenljivko-in-modul-scipy.interpolate\"><span class=\"toc-item-num\">4.3&nbsp;&nbsp;</span>Zlepki z eno spremenljivko in modul <code>scipy.interpolate</code></a></div><div class=\"lev2\"><a href=\"#Odvajanje,-integriranje,...-zlepkov\"><span class=\"toc-item-num\">4.4&nbsp;&nbsp;</span>Odvajanje, integriranje,... zlepkov</a></div><div class=\"lev1\"><a href=\"#Nekaj-vprašanj-za-razmislek!\"><span class=\"toc-item-num\">5&nbsp;&nbsp;</span>Nekaj vprašanj za razmislek!</a></div><div class=\"lev2\"><a href=\"#Ekstra\"><span class=\"toc-item-num\">5.1&nbsp;&nbsp;</span>Ekstra</a></div>"
   ]
  },
  {
   "cell_type": "code",
   "execution_count": 1,
   "metadata": {
    "collapsed": false,
    "slideshow": {
     "slide_type": "subslide"
    }
   },
   "outputs": [],
   "source": [
    "import numpy as np\n",
    "import matplotlib.pyplot as plt\n",
    "%matplotlib inline\n",
    "import sympy as sym\n",
    "sym.init_printing()"
   ]
  },
  {
   "cell_type": "markdown",
   "metadata": {
    "slideshow": {
     "slide_type": "slide"
    }
   },
   "source": [
    "# Uvod"
   ]
  },
  {
   "cell_type": "markdown",
   "metadata": {},
   "source": [
    "V okviru tega poglavja želimo odgovoriti na vprašanje: kako na podlagi končnega nabora parov $x_i, y_i$ določiti vmesne vrednosti. "
   ]
  },
  {
   "cell_type": "code",
   "execution_count": 2,
   "metadata": {
    "collapsed": false
   },
   "outputs": [
    {
     "data": {
      "image/png": "[encoded data removed]",
      "text/plain": [
       "<matplotlib.figure.Figure at 0x213be00e2e8>"
      ]
     },
     "metadata": {},
     "output_type": "display_data"
    }
   ],
   "source": [
    "n = 3\n",
    "# spodnja vrstica je primer možnega, vendar je to slaba praksa:)\n",
    "x = np.random.rand(n);x = np.sort(x);y = np.random.rand(n);plt.plot(x, y, 'ro');"
   ]
  },
  {
   "cell_type": "markdown",
   "metadata": {
    "slideshow": {
     "slide_type": "subslide"
    }
   },
   "source": [
    "V okviru interpolacije (ang. *interpolation*) točke povežemo tako, da predpostavimo neko funkcijo in dodamo pogoj, da funkcija *mora* potekati skozi podane točke. \n",
    "\n",
    "Pri aproksimaciji (ang. *approximation* ali tudi *curve fitting*) pa predpostavimo funkcijo, ki se čimbolje (glede na izbrani kriterij) prilega podatkom. "
   ]
  },
  {
   "cell_type": "markdown",
   "metadata": {
    "slideshow": {
     "slide_type": "slide"
    }
   },
   "source": [
    "# Interpolacija s polinomom"
   ]
  },
  {
   "cell_type": "markdown",
   "metadata": {},
   "source": [
    "V kolikor imamo podanih $n+1$ točk, lahko čez te točke interpoliramo polinom stopnje $n$:\n",
    "$$y_i = a_n\\,x_i^n + a_{n-1}\\,x_i^{n-1} +\\cdots + a_{1}\\,x_i + a_0.$$"
   ]
  },
  {
   "cell_type": "markdown",
   "metadata": {
    "slideshow": {
     "slide_type": "subslide"
    }
   },
   "source": [
    "Imamo $n+1$ neznank in vrednost funkcije poznamo pri $n+1$ vrednostih $x$, kar vodi v rešljiv sistem linearnih enačb. Linearne enačbe že vemo reševati in treba je definirati samo matriko koeficientov $\\mathbf{A}$ in vektor konstant $\\mathbf{b}$. \n",
    "\n",
    "To lahko naredimo relativno enostavno:"
   ]
  },
  {
   "cell_type": "code",
   "execution_count": 3,
   "metadata": {
    "collapsed": false,
    "slideshow": {
     "slide_type": "fragment"
    }
   },
   "outputs": [
    {
     "data": {
      "text/plain": [
       "array([[  7.81303905e-04,   2.79518140e-02,   1.00000000e+00],\n",
       "       [  1.77804374e-01,   4.21668559e-01,   1.00000000e+00],\n",
       "       [  9.95942976e-01,   9.97969426e-01,   1.00000000e+00]])"
      ]
     },
     "execution_count": 3,
     "metadata": {},
     "output_type": "execute_result"
    }
   ],
   "source": [
    "A = np.asarray([[_**p for p in reversed(range(len(x)))] for _ in x])\n",
    "A"
   ]
  },
  {
   "cell_type": "code",
   "execution_count": 4,
   "metadata": {
    "collapsed": false
   },
   "outputs": [],
   "source": [
    "b = y"
   ]
  },
  {
   "cell_type": "markdown",
   "metadata": {
    "slideshow": {
     "slide_type": "subslide"
    }
   },
   "source": [
    "Koeficienti $a_{n}, a_{n-1},\\dots$ torej so:"
   ]
  },
  {
   "cell_type": "code",
   "execution_count": 5,
   "metadata": {
    "collapsed": false,
    "slideshow": {
     "slide_type": "-"
    }
   },
   "outputs": [
    {
     "data": {
      "text/plain": [
       "array([-0.22895854,  0.4236275 ,  0.06255503])"
      ]
     },
     "execution_count": 5,
     "metadata": {},
     "output_type": "execute_result"
    }
   ],
   "source": [
    "resitev = np.linalg.solve(A, b)\n",
    "resitev"
   ]
  },
  {
   "cell_type": "markdown",
   "metadata": {},
   "source": [
    "Pripravimo interpolacijsko funkcijo:"
   ]
  },
  {
   "cell_type": "code",
   "execution_count": 6,
   "metadata": {
    "collapsed": false
   },
   "outputs": [],
   "source": [
    "def y_function(x, resitev):\n",
    "    A = np.asarray([[_**p for p in reversed(range(len(resitev)))] for _ in x])\n",
    "    return A.dot(resitev)"
   ]
  },
  {
   "cell_type": "markdown",
   "metadata": {
    "slideshow": {
     "slide_type": "subslide"
    }
   },
   "source": [
    "In izris pri bolj gosti mreži točk:"
   ]
  },
  {
   "cell_type": "code",
   "execution_count": 7,
   "metadata": {
    "collapsed": false,
    "scrolled": true
   },
   "outputs": [
    {
     "data": {
      "image/png": "[encoded data removed]",
      "text/plain": [
       "<matplotlib.figure.Figure at 0x213c13b6630>"
      ]
     },
     "metadata": {},
     "output_type": "display_data"
    }
   ],
   "source": [
    "xint = np.linspace(np.min(x), np.max(x), 50)\n",
    "yint = y_function(xint, resitev)\n",
    "plt.plot(x, y, 'ro', label='interpolacijske točke')\n",
    "plt.plot(xint, yint, 'r.',label='interpolacija');\n",
    "plt.legend()\n",
    "plt.show()"
   ]
  },
  {
   "cell_type": "markdown",
   "metadata": {
    "slideshow": {
     "slide_type": "subslide"
    }
   },
   "source": [
    "Slabosti zgornjega postopka so:\n",
    " * število numeričnih operacij raste sorazmerno z $n^3$,\n",
    " * nimamo ocene napake in \n",
    " * problem je lahko slabo pogojen (z večanjem stopnje polinoma slaba pogojenost naglo narašča):"
   ]
  },
  {
   "cell_type": "code",
   "execution_count": 8,
   "metadata": {
    "collapsed": false
   },
   "outputs": [
    {
     "data": {
      "image/png": "[encoded data removed]",
      "text/latex": [
       "$$16.9499501381$$"
      ],
      "text/plain": [
       "16.9499501381"
      ]
     },
     "execution_count": 8,
     "metadata": {},
     "output_type": "execute_result"
    }
   ],
   "source": [
    "np.linalg.cond(A)"
   ]
  },
  {
   "cell_type": "markdown",
   "metadata": {},
   "source": [
    "Iz tega stališča bomo v nadaljevanju  pogledali *Lagrangevo* metodo, ki ne zahteva reševanja sistema enačb."
   ]
  },
  {
   "cell_type": "markdown",
   "metadata": {
    "slideshow": {
     "slide_type": "slide"
    }
   },
   "source": [
    "# Polinomska interpolacija - Lagrangeva metoda"
   ]
  },
  {
   "cell_type": "markdown",
   "metadata": {
    "slideshow": {
     "slide_type": "fragment"
    }
   },
   "source": [
    "Poglejmo si najprej Lagrangevo formulacijo polinomske interpolacije. Lagrangeva krivulja stopnje $n$ je definirana kot:\n",
    "$$P_n(x)=\\sum_{i=0}^{n}y_i\\,l_i(x),$$\n",
    "kjer $n$ definira stopnjo Lagrangevega polinoma:\n",
    "$$l_i(x)=\\prod_{j=0, j\\ne i}^n \\frac{x-x_j}{x_i-x_j}.$$"
   ]
  },
  {
   "cell_type": "markdown",
   "metadata": {},
   "source": [
    "Opazimo torej, da je rezultat Lagrangeve polinomske interpolacije $n$ polinomov stopnje $n$ (polinome definiramo na podlagi $n+1$ točk). Poglejmo si za interpolacijo za zgoraj prikazane $x$ in $y$ podatke."
   ]
  },
  {
   "cell_type": "markdown",
   "metadata": {
    "slideshow": {
     "slide_type": "subslide"
    }
   },
   "source": [
    "Definirajmo najprej Lagrangeve polinome $l_i(x)=\\prod_{j=0, j\\ne i}^n \\frac{x-x_j}{x_i-x_j}$:"
   ]
  },
  {
   "cell_type": "code",
   "execution_count": 9,
   "metadata": {
    "collapsed": false
   },
   "outputs": [],
   "source": [
    "X = sym.symbols('X')\n",
    "def Lagrange(X, x, i):\n",
    "    \"\"\" Vrne Lagrangev polinom\n",
    "    \n",
    "    X: simbolna spremenljivka\n",
    "    x: seznam podatkov\n",
    "    i: indeks za katerega se računa polinom\n",
    "    \"\"\"\n",
    "    li = 1\n",
    "    n = len(x)\n",
    "    for j in range(n):\n",
    "        if j != i:\n",
    "            li = li * ( (X-x[j]) / (x[i]-x[j]) )\n",
    "    return li"
   ]
  },
  {
   "cell_type": "markdown",
   "metadata": {
    "slideshow": {
     "slide_type": "subslide"
    }
   },
   "source": [
    "Za podane točke $x$ je Lagrangev polinom v primeru $i=0$:"
   ]
  },
  {
   "cell_type": "code",
   "execution_count": 10,
   "metadata": {
    "collapsed": false
   },
   "outputs": [
    {
     "data": {
      "image/png": "[encoded data removed]",
      "text/latex": [
       "$$\\left(- 2.53989705123917 X + 1.07099472990958\\right) \\left(- 1.0309091168742 X + 1.02881577986718\\right)$$"
      ],
      "text/plain": [
       "(-2.53989705123917⋅X + 1.07099472990958)⋅(-1.0309091168742⋅X + 1.0288157798671\n",
       "8)"
      ]
     },
     "execution_count": 10,
     "metadata": {},
     "output_type": "execute_result"
    }
   ],
   "source": [
    "l0 = Lagrange(X, x, 0)\n",
    "l0"
   ]
  },
  {
   "cell_type": "markdown",
   "metadata": {},
   "source": [
    "Opazimo, da dobimo polinom stopnje:"
   ]
  },
  {
   "cell_type": "code",
   "execution_count": 11,
   "metadata": {
    "collapsed": false
   },
   "outputs": [
    {
     "data": {
      "image/png": "[encoded data removed]",
      "text/latex": [
       "$$2$$"
      ],
      "text/plain": [
       "2"
      ]
     },
     "execution_count": 11,
     "metadata": {},
     "output_type": "execute_result"
    }
   ],
   "source": [
    "stopnja = len(x)-1\n",
    "stopnja"
   ]
  },
  {
   "cell_type": "markdown",
   "metadata": {},
   "source": [
    "Pripravimo sliko"
   ]
  },
  {
   "cell_type": "code",
   "execution_count": 12,
   "metadata": {
    "collapsed": false
   },
   "outputs": [],
   "source": [
    "yint0 = sym.lambdify(X, l0, 'numpy')\n",
    "def slika():\n",
    "    xint = np.linspace(np.min(x), np.max(x), 30)\n",
    "    plt.plot(x, y, 'ro', label='interpolacijske točke')\n",
    "    plt.plot(xint, yint0(xint), 'r.',label='interpolacija');\n",
    "    plt.axhline(0, color='k', linewidth=0.8);\n",
    "    for _ in x[1:]:\n",
    "        plt.axvline(_, color='k', linewidth=0.8);\n",
    "    plt.legend()\n",
    "    plt.show()"
   ]
  },
  {
   "cell_type": "code",
   "execution_count": 13,
   "metadata": {
    "collapsed": false,
    "slideshow": {
     "slide_type": "subslide"
    }
   },
   "outputs": [
    {
     "data": {
      "image/png": "[encoded data removed]",
      "text/plain": [
       "<matplotlib.figure.Figure at 0x213c132f048>"
      ]
     },
     "metadata": {},
     "output_type": "display_data"
    }
   ],
   "source": [
    "slika()"
   ]
  },
  {
   "cell_type": "markdown",
   "metadata": {
    "slideshow": {
     "slide_type": "subslide"
    }
   },
   "source": [
    "Opazimo, da ima polinom v prvi točki vrednost 1, v ostalih točkah pa nič:"
   ]
  },
  {
   "cell_type": "code",
   "execution_count": 14,
   "metadata": {
    "collapsed": false
   },
   "outputs": [
    {
     "data": {
      "image/png": "[encoded data removed]",
      "text/latex": [
       "$$\\left [ 1.0, \\quad 0, \\quad 0\\right ]$$"
      ],
      "text/plain": [
       "[1.0, 0, 0]"
      ]
     },
     "execution_count": 14,
     "metadata": {},
     "output_type": "execute_result"
    }
   ],
   "source": [
    "[l0.subs(X, _) for _ in x] "
   ]
  },
  {
   "cell_type": "markdown",
   "metadata": {},
   "source": [
    "Če torej Lagrangev polinom za $i=0$ pomnožimo z $y_0$, bomo v prvi točki dobili pravo vrednost, v ostalih točkah pa nič:"
   ]
  },
  {
   "cell_type": "code",
   "execution_count": 15,
   "metadata": {
    "collapsed": false
   },
   "outputs": [],
   "source": [
    "def slika():\n",
    "    plt.plot(x, y, 'ro', label='interpolacijske točke')\n",
    "    plt.plot(xint, y[0]*yint0(xint), 'r.',label='interpolacija');\n",
    "    plt.axhline(0, color='k', linewidth=0.8);\n",
    "    for _ in x[1:]:    \n",
    "        plt.axvline(_, color='k', linewidth=0.8);\n",
    "    plt.legend()\n",
    "    plt.show()"
   ]
  },
  {
   "cell_type": "code",
   "execution_count": 16,
   "metadata": {
    "collapsed": false,
    "slideshow": {
     "slide_type": "subslide"
    }
   },
   "outputs": [
    {
     "data": {
      "image/png": "[encoded data removed]",
      "text/plain": [
       "<matplotlib.figure.Figure at 0x213c1357ac8>"
      ]
     },
     "metadata": {},
     "output_type": "display_data"
    }
   ],
   "source": [
    "slika()"
   ]
  },
  {
   "cell_type": "markdown",
   "metadata": {
    "slideshow": {
     "slide_type": "subslide"
    }
   },
   "source": [
    "Če bi podobno analizo naradili še za ostale Lagrangeve polinome, bi ugotovili, da vsaka popiše točno vrednost samo v eni znani točki, v ostalih znanih točkah pa je nič. Izkaže se, da z vsoto takih krivulj ustrezno interpoliramo podatke. Poglejmo si torej celoto:"
   ]
  },
  {
   "cell_type": "code",
   "execution_count": 17,
   "metadata": {
    "collapsed": false
   },
   "outputs": [],
   "source": [
    "def interpolation_Lagrange(x, y):\n",
    "    \"\"\" Izvede interpolacijo po Lagrangevi metodi.\n",
    "    \"\"\"\n",
    "    X = sym.symbols('X')\n",
    "    l = []\n",
    "    interpolacijski_polinom = 0.\n",
    "    for i in range(len(x)):\n",
    "        li = Lagrange(X, x, i)\n",
    "        interpolacijski_polinom += y[i]*li\n",
    "        l.append(li)\n",
    "    return interpolacijski_polinom, l    "
   ]
  },
  {
   "cell_type": "code",
   "execution_count": 18,
   "metadata": {
    "collapsed": false,
    "slideshow": {
     "slide_type": "subslide"
    }
   },
   "outputs": [
    {
     "data": {
      "image/png": "[encoded data removed]",
      "text/latex": [
       "$$0.0742173041468903 \\left(- 2.53989705123917 X + 1.07099472990958\\right) \\left(- 1.0309091168742 X + 1.02881577986718\\right) + 0.200475602728453 \\left(- 1.735204746449 X + 1.73168128521362\\right) \\left(2.53989705123917 X - 0.0709947299095828\\right) + 0.257292681792636 \\left(1.0309091168742 X - 0.0288157798671811\\right) \\left(1.735204746449 X - 0.731681285213623\\right)$$"
      ],
      "text/plain": [
       "0.0742173041468903⋅(-2.53989705123917⋅X + 1.07099472990958)⋅(-1.0309091168742⋅\n",
       "X + 1.02881577986718) + 0.200475602728453⋅(-1.735204746449⋅X + 1.7316812852136\n",
       "2)⋅(2.53989705123917⋅X - 0.0709947299095828) + 0.257292681792636⋅(1.0309091168\n",
       "742⋅X - 0.0288157798671811)⋅(1.735204746449⋅X - 0.731681285213623)"
      ]
     },
     "execution_count": 18,
     "metadata": {},
     "output_type": "execute_result"
    }
   ],
   "source": [
    "interpolacijski_polinom, lagrangevi_polinomi = interpolation_Lagrange(x, y)\n",
    "interpolacijski_polinom"
   ]
  },
  {
   "cell_type": "markdown",
   "metadata": {},
   "source": [
    "Pripravimo funkcijo za numerične vrednosti:"
   ]
  },
  {
   "cell_type": "code",
   "execution_count": 19,
   "metadata": {
    "collapsed": false
   },
   "outputs": [],
   "source": [
    "yint = sym.lambdify(X, interpolacijski_polinom, 'numpy')"
   ]
  },
  {
   "cell_type": "code",
   "execution_count": 20,
   "metadata": {
    "collapsed": false,
    "slideshow": {
     "slide_type": "subslide"
    }
   },
   "outputs": [
    {
     "data": {
      "image/png": "[encoded data removed]",
      "text/plain": [
       "<matplotlib.figure.Figure at 0x213c159f3c8>"
      ]
     },
     "metadata": {},
     "output_type": "display_data"
    }
   ],
   "source": [
    "plt.plot(x, y, 'ro', label='interpolacijske točke')\n",
    "plt.plot(xint, yint(xint), 'r.',label='interpolacija');\n",
    "plt.legend()\n",
    "plt.show()"
   ]
  },
  {
   "cell_type": "markdown",
   "metadata": {
    "slideshow": {
     "slide_type": "subslide"
    }
   },
   "source": [
    "Dodajmo še posamezne Lagrangeve krivulje:"
   ]
  },
  {
   "cell_type": "code",
   "execution_count": 21,
   "metadata": {
    "collapsed": false
   },
   "outputs": [],
   "source": [
    "yint_polinomi = []\n",
    "for lp, y_ in zip(lagrangevi_polinomi, y):\n",
    "    yint_polinomi.append(sym.lambdify(X, y_*lp, 'numpy')) # vsako posebej lambdificiramo"
   ]
  },
  {
   "cell_type": "code",
   "execution_count": 22,
   "metadata": {
    "collapsed": false,
    "slideshow": {
     "slide_type": "subslide"
    }
   },
   "outputs": [
    {
     "data": {
      "image/png": "[encoded data removed]",
      "text/plain": [
       "<matplotlib.figure.Figure at 0x213c15e1ac8>"
      ]
     },
     "metadata": {},
     "output_type": "display_data"
    }
   ],
   "source": [
    "plt.plot(x, y, 'ro', label='interpolacijske točke')\n",
    "plt.plot(xint, yint(xint), 'r.',label='interpolacija');\n",
    "for yint_po in yint_polinomi:\n",
    "    plt.plot(xint, yint_po(xint), linewidth=0.5)\n",
    "plt.legend()\n",
    "plt.show()"
   ]
  },
  {
   "cell_type": "markdown",
   "metadata": {
    "slideshow": {
     "slide_type": "subslide"
    }
   },
   "source": [
    "Poskusimo sedaj izvesti interpolacijo čez več točk:"
   ]
  },
  {
   "cell_type": "code",
   "execution_count": 23,
   "metadata": {
    "collapsed": false
   },
   "outputs": [
    {
     "data": {
      "image/png": "[encoded data removed]",
      "text/plain": [
       "<matplotlib.figure.Figure at 0x213c1719710>"
      ]
     },
     "metadata": {},
     "output_type": "display_data"
    }
   ],
   "source": [
    "n = 5\n",
    "x = np.random.rand(n)\n",
    "x = np.sort(x)\n",
    "y = np.random.rand(n)\n",
    "plt.plot(x, y, 'ro');"
   ]
  },
  {
   "cell_type": "code",
   "execution_count": 24,
   "metadata": {
    "collapsed": false,
    "slideshow": {
     "slide_type": "subslide"
    }
   },
   "outputs": [],
   "source": [
    "interpolacijski_polinom, lagrangevi_polinomi = interpolation_Lagrange(x, y)\n",
    "xint = np.linspace(np.min(x), np.max(x), 100)\n",
    "yint = sym.lambdify(X, interpolacijski_polinom, 'numpy')\n",
    "yint_polinomi = []\n",
    "for lp, y_ in zip(lagrangevi_polinomi, y):\n",
    "    yint_polinomi.append(sym.lambdify(X, y_*lp, 'numpy')) "
   ]
  },
  {
   "cell_type": "code",
   "execution_count": 25,
   "metadata": {
    "collapsed": false,
    "slideshow": {
     "slide_type": "subslide"
    }
   },
   "outputs": [
    {
     "data": {
      "image/png": "[encoded data removed]",
      "text/plain": [
       "<matplotlib.figure.Figure at 0x213c1799780>"
      ]
     },
     "metadata": {},
     "output_type": "display_data"
    }
   ],
   "source": [
    "plt.plot(x, y, 'ro', label='interpolacijske točke')\n",
    "plt.plot(xint, yint(xint), 'r.',label='interpolacija');\n",
    "for yint_po in yint_polinomi:\n",
    "    plt.plot(xint, yint_po(xint), linewidth=0.5)\n",
    "plt.legend()\n",
    "plt.show()"
   ]
  },
  {
   "cell_type": "markdown",
   "metadata": {
    "slideshow": {
     "slide_type": "subslide"
    }
   },
   "source": [
    "Ugotovimo, da interpolacija pri večjem številu točk (npr. 5) lahko daje zelo napačne rezultate; predvsem na robovih. Posledično se interpolacija za več kot približno 5 točk redko uporablja (še posebej, če $\\Delta x$ ni konstanta). \n",
    "\n",
    "Število matematičnih operacij sicer narašča sorazmerno z $n^2$ ([vir](http://www.ams.org/journals/mcom/1970-24-109/S0025-5718-1970-0258240-X/S0025-5718-1970-0258240-X.pdf)).\n",
    "\n",
    "Lahko se pokaže (glejte npr.: Burden, Faires, Burden: Numerical Analysis), da je napaka Lagrangeve interpolacije:\n",
    "$$e=\\frac{f^{(n+1)}(\\xi)}{(n+1)!}\\,(x-x_0)\\,(x-x_1)\\,\\cdots\\,(x-x_n),$$\n",
    "kjer je $f$ interpolirana funkcija, $n$ stopnja interpolacijskega polinoma in $\\xi$ neznana vrednost na interpoliranem področju."
   ]
  },
  {
   "cell_type": "markdown",
   "metadata": {
    "slideshow": {
     "slide_type": "subslide"
    }
   },
   "source": [
    "## Primer interpolacije"
   ]
  },
  {
   "cell_type": "code",
   "execution_count": 26,
   "metadata": {
    "collapsed": false
   },
   "outputs": [],
   "source": [
    "x = np.linspace(0, np.pi/2, 4)\n",
    "y = np.sin(x)"
   ]
  },
  {
   "cell_type": "code",
   "execution_count": 27,
   "metadata": {
    "collapsed": false
   },
   "outputs": [
    {
     "data": {
      "image/png": "[encoded data removed]",
      "text/plain": [
       "<matplotlib.figure.Figure at 0x213c179f358>"
      ]
     },
     "metadata": {},
     "output_type": "display_data"
    }
   ],
   "source": [
    "plt.plot(x, y, 'o-');"
   ]
  },
  {
   "cell_type": "markdown",
   "metadata": {
    "slideshow": {
     "slide_type": "subslide"
    }
   },
   "source": [
    "Linearna interpolacija (iščemo vrednosti pri $\\sin(\\pi/4)$)!"
   ]
  },
  {
   "cell_type": "code",
   "execution_count": 28,
   "metadata": {
    "collapsed": false
   },
   "outputs": [
    {
     "data": {
      "image/png": "[encoded data removed]",
      "text/latex": [
       "$$0.683012701892219$$"
      ],
      "text/plain": [
       "0.683012701892219"
      ]
     },
     "execution_count": 28,
     "metadata": {},
     "output_type": "execute_result"
    }
   ],
   "source": [
    "interpolacijski_polinom, lagrangevi_polinomi = interpolation_Lagrange(x[1:3], y[1:3])\n",
    "y_linearna = interpolacijski_polinom.subs(X, x[-1]/2)\n",
    "y_linearna"
   ]
  },
  {
   "cell_type": "markdown",
   "metadata": {},
   "source": [
    "Kvadratna"
   ]
  },
  {
   "cell_type": "code",
   "execution_count": 29,
   "metadata": {
    "collapsed": false
   },
   "outputs": [
    {
     "data": {
      "image/png": "[encoded data removed]",
      "text/latex": [
       "$$0.699759526419165$$"
      ],
      "text/plain": [
       "0.699759526419165"
      ]
     },
     "execution_count": 29,
     "metadata": {},
     "output_type": "execute_result"
    }
   ],
   "source": [
    "interpolacijski_polinom, lagrangevi_polinomi = interpolation_Lagrange(x[0:3], y[0:3])\n",
    "y_kvadratna = interpolacijski_polinom.subs(X, x[-1]/2)\n",
    "y_kvadratna"
   ]
  },
  {
   "cell_type": "markdown",
   "metadata": {},
   "source": [
    "Kubična"
   ]
  },
  {
   "cell_type": "code",
   "execution_count": 30,
   "metadata": {
    "collapsed": false
   },
   "outputs": [
    {
     "data": {
      "image/png": "[encoded data removed]",
      "text/latex": [
       "$$0.705889289628747$$"
      ],
      "text/plain": [
       "0.705889289628747"
      ]
     },
     "execution_count": 30,
     "metadata": {},
     "output_type": "execute_result"
    }
   ],
   "source": [
    "interpolacijski_polinom, lagrangevi_polinomi = interpolation_Lagrange(x, y)\n",
    "y_kubična = interpolacijski_polinom.subs(X, x[-1]/2)\n",
    "y_kubična"
   ]
  },
  {
   "cell_type": "markdown",
   "metadata": {
    "slideshow": {
     "slide_type": "subslide"
    }
   },
   "source": [
    "## Primer ocene napaka polinomske interpolacije"
   ]
  },
  {
   "cell_type": "code",
   "execution_count": 31,
   "metadata": {
    "collapsed": false
   },
   "outputs": [
    {
     "name": "stdout",
     "output_type": "stream",
     "text": [
      "Linearna:  0.0240940792943283\n",
      "Kvadratna: 0.00734725476738307\n",
      "Kubična:   0.00121749155780082\n"
     ]
    }
   ],
   "source": [
    "print('Linearna: ', np.sin(x[-1]/2)-y_linearna)\n",
    "print('Kvadratna:', np.sin(x[-1]/2)-y_kvadratna)\n",
    "print('Kubična:  ', np.sin(x[-1]/2)-y_kubična)"
   ]
  },
  {
   "cell_type": "markdown",
   "metadata": {},
   "source": [
    "*Napako ocenimo s pomočjo*\n",
    "$$e=\\frac{f^{(n+1)}(\\xi)}{(n+1)!}\\,(x-x_0)\\,(x-x_1)\\,\\cdots\\,(x-x_n)$$\n",
    "kjer je v primeru linearne aproksimacije ($n=1$) drugi odvod sinusne funkcije ($f^{(n+1)}$) omejen z 1, velja:\n",
    "$$e=\\frac{1}{(2)!}\\,(\\pi/4-\\pi/6)\\,(\\pi/4-\\pi/3)=-\\frac{1}{2}\\,\\frac{\\pi}{12}\\,\\frac{\\pi}{12}=-\\frac{\\pi^2}{288}=-0.033$$"
   ]
  },
  {
   "cell_type": "markdown",
   "metadata": {
    "slideshow": {
     "slide_type": "subslide"
    }
   },
   "source": [
    "Poleg **Lagrangeve metode** bi si tukaj lahko pogledali še **Newtonovo metodo** interpolacije, ki je numerično učinkovitejša. Kakor pa smo pokazali zgoraj, čez večje število točk taka interpolacija nima smisla in zato bomo tukaj nadaljevali z t.i. **kubičnimi zlepki** (ang. *cubic spline*)."
   ]
  },
  {
   "cell_type": "markdown",
   "metadata": {
    "slideshow": {
     "slide_type": "subslide"
    }
   },
   "source": [
    "## Interpolacija z uporabo `scipy`"
   ]
  },
  {
   "cell_type": "code",
   "execution_count": 32,
   "metadata": {
    "collapsed": false
   },
   "outputs": [
    {
     "data": {
      "text/plain": [
       "array([ 0.        ,  0.52359878,  1.04719755,  1.57079633])"
      ]
     },
     "execution_count": 32,
     "metadata": {},
     "output_type": "execute_result"
    }
   ],
   "source": [
    "x"
   ]
  },
  {
   "cell_type": "code",
   "execution_count": 33,
   "metadata": {
    "collapsed": false,
    "slideshow": {
     "slide_type": "-"
    }
   },
   "outputs": [
    {
     "data": {
      "image/png": "[encoded data removed]",
      "text/plain": [
       "<matplotlib.figure.Figure at 0x213c293a828>"
      ]
     },
     "metadata": {},
     "output_type": "display_data"
    }
   ],
   "source": [
    "from scipy.interpolate import interp1d\n",
    "f = interp1d(x, y, kind='cubic')\n",
    "xnew = np.linspace(x[0], x[-1], 100)\n",
    "ynew = f(xnew)   # uporabimo interpolacijsko funkcijo dobljeno z `interp1d`\n",
    "plt.plot(x, y, 'o', xnew, ynew, '-')\n",
    "plt.show()"
   ]
  },
  {
   "cell_type": "markdown",
   "metadata": {
    "slideshow": {
     "slide_type": "slide"
    }
   },
   "source": [
    "# Kubični zlepki"
   ]
  },
  {
   "cell_type": "markdown",
   "metadata": {},
   "source": [
    "Poglejmo si najprej en preprost primer:"
   ]
  },
  {
   "cell_type": "code",
   "execution_count": 34,
   "metadata": {
    "collapsed": false
   },
   "outputs": [],
   "source": [
    "from scipy.interpolate import InterpolatedUnivariateSpline\n",
    "\n",
    "n = 10\n",
    "x = np.linspace(0, 10, n)\n",
    "y = np.sin(x)+ 0.5*np.random.rand(n)\n",
    "spl = InterpolatedUnivariateSpline(x, y)"
   ]
  },
  {
   "cell_type": "code",
   "execution_count": 35,
   "metadata": {
    "collapsed": false,
    "slideshow": {
     "slide_type": "subslide"
    }
   },
   "outputs": [
    {
     "data": {
      "image/png": "[encoded data removed]",
      "text/plain": [
       "<matplotlib.figure.Figure at 0x213c164d080>"
      ]
     },
     "metadata": {},
     "output_type": "display_data"
    }
   ],
   "source": [
    "xint = np.linspace(0, 10, 10*n)\n",
    "plt.plot(x, y, 'ro', ms=5)\n",
    "plt.plot(xint, spl(xint), 'g', lw=3, alpha=0.7)\n",
    "plt.xlabel('$x$')\n",
    "plt.ylabel('$y$');"
   ]
  },
  {
   "cell_type": "markdown",
   "metadata": {
    "slideshow": {
     "slide_type": "subslide"
    }
   },
   "source": [
    "Kubični zlepki so zelo pogosti način interpolacije. Ob predpostavki $x_0<x_1< \\cdots <x_n$ gre preprosto odsekovno interpolacijo s polinomom tretjega reda. \n",
    "\n",
    "Od točke $x_i$ do $x_{i+1}$ iščemo polinom:\n",
    "$$f_{i,i+1}(x)= a_{i,0}\\,x^3+a_{i,1}\\,x^2+a_{i,2}\\,x+a_{i,3},$$\n",
    "pri čemer so neznane vrednosti konstant $a_{i,j}$. Če imamo na primer $n+1$ točk, potem je treba določiti $n$ polinomskih funkcij (za primer treh točk: $f_{0,1}(x), f_{1,2}(x)$). Posledično to pomeni $4n$ konstant $a_{i,j}$. \n",
    "\n",
    "Celotni zlepek je definiran kot:\n",
    "$$f(x) = \\left\\{\n",
    "\\begin{array}[rcl]%\n",
    "f_{0,1}(x); && x\\in[x_0, x_1]\\\\\n",
    "f_{1,2}(x); && x\\in[x_1, x_2]\\\\\n",
    "&\\vdots&\\\\\n",
    "f_{n-1,n}(x); && x\\in[x_{n-1}, x_n]\n",
    "\\end{array}\n",
    "\\right.\n",
    "$$\n"
   ]
  },
  {
   "cell_type": "markdown",
   "metadata": {
    "slideshow": {
     "slide_type": "subslide"
    }
   },
   "source": [
    "**Kako določimo konstante $a_{i,j}$?**\n",
    "\n",
    "Za določitev $4n$ neznak, potrebujemo tudi $4n$ enačb. Poglejmo si katere so že znane:\n",
    "* $n+1$ enačbo dobimo iz interpolacijskega pogoja: $$y_i=f_{i,i+1}(x_i)$$\n",
    "in za zadnjo točko $$y_n=f_{n-1,n}(x_n)$$\n",
    "* $2(n-1)$ enačb dobimo iz pogoja $C^1$zveznosti: \n",
    "$$\\lim_{x\\rightarrow x_i^-}f(x)=\\lim_{x\\rightarrow x_i^+}f(x)$$\n",
    "in\n",
    "$$\\lim_{x\\rightarrow x_i^-}f'(x)=\\lim_{x\\rightarrow x_i^+}f'(x)$$"
   ]
  },
  {
   "cell_type": "markdown",
   "metadata": {
    "slideshow": {
     "slide_type": "subslide"
    }
   },
   "source": [
    "Preostane še $n+1$ neznank. \n",
    "\n",
    "Različni tipi zlepkov (npr.: *Hermitovi*, *naravni*, *periodični*) se ločijo po tem kako te neznanke določimo. V nadaljevanju si bomo pogledali *naravne kubične zlepke*."
   ]
  },
  {
   "cell_type": "markdown",
   "metadata": {
    "slideshow": {
     "slide_type": "subslide"
    }
   },
   "source": [
    "## Naravni kubični zlepki"
   ]
  },
  {
   "cell_type": "markdown",
   "metadata": {},
   "source": [
    "*Naravni kubični zlepki* temeljijo na ideji Eulerjevega nosilca:\n",
    "$$E\\,I\\,\\frac{\\textrm{d}^4y}{\\textrm{d}x^4}=q(x),$$\n",
    "kjer je $E$ elastični modul, $I$ pa drugi moment preseka in $q(x)$ zunanja porazdeljena sila. Ker zunanje porazdeljene sile ni ($q(x)=0$), velja:\n",
    "$$E\\,I\\,\\frac{\\textrm{d}^4y}{\\textrm{d}x^4}=0.$$\n",
    "Sledi, da lahko v vsaki točki tanek nosilec popišemo s polinomom tretje stopnje. "
   ]
  },
  {
   "cell_type": "markdown",
   "metadata": {
    "slideshow": {
     "slide_type": "subslide"
    }
   },
   "source": [
    "Sedaj $n-1$ neznank določimo iz predpostavke, da je nosilec v znanih točkah členkasto vpet in se torej moment v členkih ne spremeni; to pomeni, da je drugi odvod v členkih zvezen (to imenujemo $C^2$ zveznost):\n",
    "$$\\lim_{x\\rightarrow x_i^-}f''(x)=\\lim_{x\\rightarrow x_i^+}f''(x)$$\n",
    "\n",
    "Preostali 2 neznanki pri naravnih kubičnih zlepkih določimo iz pogoja, da je moment na koncih enak nič (členkasto vpetje):\n",
    "$$f''(x_{0})=0\\qquad\\textrm{in}\\qquad f''(x_{n})=0$$\n",
    "\n",
    "Več podrobnosti izpeljave je prikazano v knjigi Kiusalaas J: Numerical Methods in Engineering with Python 3, 2013, stran 120; podrobna izpeljava presega obseg predavanj. Tukaj si bomo pogledali samo končni rezultat, ki ga lahko izpeljemo ob zgornjih pogojih v primeru ekvidistantne delitve $h=x_{i+1}-x_i$ (takim zlepkom rečemo, da so *uniformni*). "
   ]
  },
  {
   "cell_type": "markdown",
   "metadata": {
    "slideshow": {
     "slide_type": "subslide"
    }
   },
   "source": [
    "Če uporabimo zapis  $k_i = f''_{i,i+1}$, potem za $0<i<n$ lahko izpeljemo:\n",
    "$$\\begin{align}\n",
    "f_{i,i+1}(x)=&\\frac{k_i}{6}\\left(\\frac{(x-x_{i+1})^3}{h}-(x-x_{i+1})\\,h\\right)\\\\\n",
    "&-\\frac{k_{i+1}}{6}\\left(\\frac{(x-x_{i})^3}{h}-(x-x_{i})\\,h\\right)\\\\\n",
    "&+\\frac{y_i\\,(x-x_{i+1})-y_{i+1}\\,(x-x_{i})}{h}\\\\\n",
    "\\end{align}$$\n",
    "\n",
    "kjer $k_i$ določimo glede na linearni problem:\n",
    "$$k_{i-1} + 4 k_{i} + k_{i+1}  =  \\frac{6}{h^2} \\left(y_{i-1} -2 y_{i} +y_{i+1} \\right).$$\n",
    "Naprej še velja:\n",
    "$$k_0=k_n=0.$$"
   ]
  },
  {
   "cell_type": "markdown",
   "metadata": {
    "slideshow": {
     "slide_type": "subslide"
    }
   },
   "source": [
    "## Numerična implementacija"
   ]
  },
  {
   "cell_type": "markdown",
   "metadata": {},
   "source": [
    "Najprej definirajmo funkcijo za izračun koeficientov $k_i$:"
   ]
  },
  {
   "cell_type": "code",
   "execution_count": 36,
   "metadata": {
    "collapsed": false
   },
   "outputs": [],
   "source": [
    "def kubicni_zlepki_koeficient(x, y):\n",
    "    \"\"\" Vrne koeficiente kubičnih zlepkov `k`, matriko koeficientov `A`in konstant\n",
    "    \n",
    "    x in y predstavljata seznam znanih vrednosti.\n",
    "    x mora biti ekvidistanten\n",
    "    \"\"\"\n",
    "    n = len(x)\n",
    "    A = np.zeros((n, n))\n",
    "    _ = np.asarray([1, 4, 1])\n",
    "    h = x[1]-x[0]\n",
    "    for i in range(n-2):\n",
    "        A[i, i:i+3] = _\n",
    "    A = A[:-2, 1:-1] # k_0 in k_n sta nič zato odstranimo te člene\n",
    "    b = (6/h**2)*(y[:-2] + y[2:] - 2*y[1:-1])\n",
    "    k = np.linalg.solve(A,b)\n",
    "    return k, A, b"
   ]
  },
  {
   "cell_type": "markdown",
   "metadata": {
    "slideshow": {
     "slide_type": "subslide"
    }
   },
   "source": [
    "Nato potrebujemo še funkcijo zlepka v določenem intervalu:"
   ]
  },
  {
   "cell_type": "code",
   "execution_count": 37,
   "metadata": {
    "collapsed": false
   },
   "outputs": [],
   "source": [
    "def kubicni_zlepki(k, x, y, x_najdi):\n",
    "    \"\"\" Vrne kubicni zlepek pri delitvi `xint`\n",
    "    \n",
    "    k: koeficienti kubičnih zlepkov\n",
    "    x in y: znane vrednosti, x mora biti ekvidistanten\n",
    "    x_najdi: vrednosti kjer želimo izračunati kubični zlepek\n",
    "    \"\"\"\n",
    "    # dodaj nič na začetku in koncu\n",
    "    _ = k.copy()\n",
    "    k = np.zeros(len(k)+2)\n",
    "    k[1:-1] = _\n",
    "    \n",
    "    h = - x[1] + x[0]\n",
    "    i = (x_najdi-x[0])//(-h)\n",
    "    if i >= len(k)-1:\n",
    "        i = len(k)-2\n",
    "    out = ((x_najdi - x[i+1])**3/h - (x_najdi - x[i+1])*h)*k[i]/6.0 \\\n",
    "        - ((x_najdi - x[i])**3/h - (x_najdi - x[i])*h)*k[i+1]/6.0 \\\n",
    "        + (y[i]*(x_najdi - x[i+1]) \\\n",
    "        - y[i+1]*(x_najdi - x[i]))/h\n",
    "    return out"
   ]
  },
  {
   "cell_type": "code",
   "execution_count": 38,
   "metadata": {
    "collapsed": false,
    "slideshow": {
     "slide_type": "subslide"
    }
   },
   "outputs": [
    {
     "name": "stdout",
     "output_type": "stream",
     "text": [
      "[[ 4.  1.  0.]\n",
      " [ 1.  4.  1.]\n",
      " [ 0.  1.  4.]]\n",
      "[-12.  12. -12.]\n"
     ]
    },
    {
     "data": {
      "text/plain": [
       "array([-4.28571429,  5.14285714, -4.28571429])"
      ]
     },
     "execution_count": 38,
     "metadata": {},
     "output_type": "execute_result"
    }
   ],
   "source": [
    "x = np.asarray([1, 2, 3, 4, 5])\n",
    "y = np.asarray([0, 1, 0, 1, 0])\n",
    "\n",
    "k, A, b = kubicni_zlepki_koeficient(x, y)\n",
    "print(A)\n",
    "print(b)\n",
    "k"
   ]
  },
  {
   "cell_type": "code",
   "execution_count": 39,
   "metadata": {
    "collapsed": false,
    "slideshow": {
     "slide_type": "subslide"
    }
   },
   "outputs": [
    {
     "name": "stderr",
     "output_type": "stream",
     "text": [
      "C:\\Users\\Janko\\Anaconda3\\lib\\site-packages\\ipykernel\\__main__.py:17: VisibleDeprecationWarning: using a non-integer number instead of an integer will result in an error in the future\n"
     ]
    },
    {
     "data": {
      "image/png": "[encoded data removed]",
      "text/plain": [
       "<matplotlib.figure.Figure at 0x213c13579e8>"
      ]
     },
     "metadata": {},
     "output_type": "display_data"
    }
   ],
   "source": [
    "xint = np.linspace(np.min(x), np.max(x), 50)\n",
    "yint = np.asarray([kubicni_zlepki(k, x, y, _) for _ in xint])\n",
    "plt.plot(x, y, 'ro')\n",
    "plt.plot(xint, yint, label='Naravni kubični zlepek')\n",
    "plt.legend();"
   ]
  },
  {
   "cell_type": "markdown",
   "metadata": {
    "slideshow": {
     "slide_type": "subslide"
    }
   },
   "source": [
    "## Zlepki z eno spremenljivko in modul ``scipy.interpolate``"
   ]
  },
  {
   "cell_type": "markdown",
   "metadata": {},
   "source": [
    "SciPy ima vgrajene naprednjejše metode za zlepke (B zlepke, ang *B spline*), ki so zelo primerni za numerično implementacijo, podrobneje pa se jih tukaj ne bomo dotaknili. Si bomo pa v nadaljevanju pogledali njihovo objektno implementacijo ``InterpolatedUnivariateSpline`` (starejši pristop temelji na funkcijskem programiranju, glejte: ``scipy.interpolate.splrep``):"
   ]
  },
  {
   "cell_type": "code",
   "execution_count": 40,
   "metadata": {
    "collapsed": false
   },
   "outputs": [],
   "source": [
    "from scipy.interpolate import InterpolatedUnivariateSpline"
   ]
  },
  {
   "cell_type": "code",
   "execution_count": 41,
   "metadata": {
    "collapsed": false,
    "slideshow": {
     "slide_type": "subslide"
    }
   },
   "outputs": [
    {
     "data": {
      "image/png": "[encoded data removed]",
      "text/plain": [
       "<matplotlib.figure.Figure at 0x213c3296198>"
      ]
     },
     "metadata": {},
     "output_type": "display_data"
    }
   ],
   "source": [
    "xint = np.linspace(np.min(x), np.max(x), 100)\n",
    "spl = InterpolatedUnivariateSpline(x, y, k=3) # poglejte opcije!\n",
    "plt.plot(x, y, 'ro')\n",
    "plt.plot(xint, spl(xint), label='Kubični zlepek');\n",
    "plt.legend();"
   ]
  },
  {
   "cell_type": "markdown",
   "metadata": {
    "slideshow": {
     "slide_type": "subslide"
    }
   },
   "source": [
    "Ker gre za drugačen tip zlepkov kakor smo ga izpeljali zgoraj, je rezultat malenkost drugačen.\n",
    "\n",
    "Pri interpolaciji z ``naravnimi kubičnimi zlepki`` so vozli v točkah kjer imamo podatke:"
   ]
  },
  {
   "cell_type": "code",
   "execution_count": 42,
   "metadata": {
    "collapsed": false
   },
   "outputs": [
    {
     "data": {
      "text/plain": [
       "array([1, 2, 3, 4, 5])"
      ]
     },
     "execution_count": 42,
     "metadata": {},
     "output_type": "execute_result"
    }
   ],
   "source": [
    "x"
   ]
  },
  {
   "cell_type": "markdown",
   "metadata": {
    "slideshow": {
     "slide_type": "subslide"
    }
   },
   "source": [
    "Napredna implementacija v okviru ``SciPy`` avtomatično prilagodi *vozle* zlepkov (ang. *knots*) in pri ``InterpolatedUnivariateSpline`` so v točkah:"
   ]
  },
  {
   "cell_type": "code",
   "execution_count": 43,
   "metadata": {
    "collapsed": false
   },
   "outputs": [
    {
     "data": {
      "text/plain": [
       "array([ 1.,  3.,  5.])"
      ]
     },
     "execution_count": 43,
     "metadata": {},
     "output_type": "execute_result"
    }
   ],
   "source": [
    "spl.get_knots()"
   ]
  },
  {
   "cell_type": "markdown",
   "metadata": {},
   "source": [
    "Opomba: kakor je navedeno v pomoči, lahko vozle prilagodimo (v tem primeru uporabimo ``LSQUnivariateSpline``)."
   ]
  },
  {
   "cell_type": "markdown",
   "metadata": {
    "slideshow": {
     "slide_type": "subslide"
    }
   },
   "source": [
    "## Odvajanje, integriranje,... zlepkov"
   ]
  },
  {
   "cell_type": "markdown",
   "metadata": {},
   "source": [
    "Ko imamo enkrat zlepke definirane z objektom ``InterpolatedUnivariateSpline``, potem lahko dostopamo preko metod do odvodov, integralov, ničel, vozlov,... (glejte help).\n",
    "\n",
    "Za prvi odvod na primer uporabimo metodo ``.derivative(1)``, ki vrne novi objekt spline krivulje (red je za 1 nižji):"
   ]
  },
  {
   "cell_type": "code",
   "execution_count": 44,
   "metadata": {
    "collapsed": false,
    "slideshow": {
     "slide_type": "subslide"
    }
   },
   "outputs": [
    {
     "data": {
      "image/png": "[encoded data removed]",
      "text/plain": [
       "<matplotlib.figure.Figure at 0x213c32c2c50>"
      ]
     },
     "metadata": {},
     "output_type": "display_data"
    }
   ],
   "source": [
    "spl1 = spl.derivative(1)\n",
    "spl2 = spl.derivative(2)\n",
    "spl3 = spl.derivative(3)\n",
    "plt.plot(xint, spl(xint), lw=3, label='Zlepek')\n",
    "plt.plot(xint, spl1(xint), label='Prvi odvod')\n",
    "plt.plot(xint, spl2(xint), label='Drugi odvod')\n",
    "plt.plot(xint, spl3(xint), label='Tretji odvod')\n",
    "plt.legend();"
   ]
  },
  {
   "cell_type": "markdown",
   "metadata": {
    "slideshow": {
     "slide_type": "slide"
    }
   },
   "source": [
    "# Nekaj vprašanj za razmislek!"
   ]
  },
  {
   "cell_type": "markdown",
   "metadata": {},
   "source": [
    "1. Preštudirajte Lagrangevo polinomsko interpolacijo in pripravite funkcijo za Lagrangeve polinome. Pojasnite (z grafičnim prikazom) Lagrangeve polinome.\n",
    "* Definirajte funkcijo za Lagrangevo polinomsko interpolacijo. Na primeru pojasnite kako deluje.\n",
    "* Pojasnite teoretično ozadje naravnih kubičnih zlepkov.\n",
    "* Naravne kubične zlepke smo izpeljali pod pogojem, da momenta na koncu ni; včasih želim drugačne pogoje na koncih (npr. znani naklon ali znani moment). Modificirajte na predavanjih predstavljeno kodo za primer, da je na koncih moment $\\ne 0$ (predpostavite neko numerično vrednost).\n",
    "* Podatke:\n",
    "    ```python\n",
    "    x = np.linspace(0, 10, 10)\n",
    "    y = np.random.rand(10)-0.5\n",
    "    ```\n",
    "  interpolirajte z uporabo ``scipy.InterpolatedUnivariateSpline``. Podatke prikažite.\n",
    "* Za zgoraj definirane podatke preučite pomoč in najdite vse ničle. Prikažite jih na predhodni sliki.\n",
    "* Za zgoraj definirani zlepek izračunajte prvi odvod in ga prikažite.\n",
    "* Za zgoraj definirani zlepek izračunajte integral od začetka do konca.\n",
    "* Za zgoraj definirane podatke prikažite izračun linearnega in kvadratnega zlepka. Prikažite na sliki\n",
    "* Preučite pomoč za funkcijo ``scipy.interpolate.lagrange`` in k predhodni sliki dodajte Lagrangev interpolacijski polinom. Komentirajte rezultate.\n",
    "* Preučite pomoč za funkcijo ``scipy.interpolate.interp1d`` in k predhodni sliki dodajte kvadratni zlepek.\n",
    "* Preučite pomoč za funkcijo ``scipy.interpolate.BarycentricInterpolator`` in pojasnite ter prikažite njeno prednost.\n",
    "* Preučite pomoč za funkcijo ``scipy.interpolate.KroghInterpolator`` in pojasnite njeno prednost."
   ]
  },
  {
   "cell_type": "markdown",
   "metadata": {
    "slideshow": {
     "slide_type": "subslide"
    }
   },
   "source": [
    "## Ekstra"
   ]
  },
  {
   "cell_type": "markdown",
   "metadata": {},
   "source": [
    "* 2D interpolacja: https://www.youtube.com/watch?v=_cJLVhdj0j4\n",
    "* Strojno prevajanje: https://pypi.python.org/pypi/goslate)"
   ]
  }
 ],
 "metadata": {
  "anaconda-cloud": {},
  "celltoolbar": "Slideshow",
  "kernelspec": {
   "display_name": "Python 3",
   "language": "python",
   "name": "python3"
  },
  "language_info": {
   "codemirror_mode": {
    "name": "ipython",
    "version": 3
   },
   "file_extension": ".py",
   "mimetype": "text/x-python",
   "name": "python",
   "nbconvert_exporter": "python",
   "pygments_lexer": "ipython3",
   "version": "3.6.0"
  },
  "latex_envs": {
   "bibliofile": "biblio.bib",
   "cite_by": "apalike",
   "current_citInitial": 1,
   "eqLabelWithNumbers": true,
   "eqNumInitial": 0
  },
  "livereveal": {
   "theme": "sky",
   "transition": "default",
   "width": 1200
  },
  "nav_menu": {},
  "toc": {
   "navigate_menu": true,
   "number_sections": true,
   "sideBar": true,
   "threshold": 6,
   "toc_cell": true,
   "toc_section_display": "block",
   "toc_window_display": false
  }
 },
 "nbformat": 4,
 "nbformat_minor": 0
}
