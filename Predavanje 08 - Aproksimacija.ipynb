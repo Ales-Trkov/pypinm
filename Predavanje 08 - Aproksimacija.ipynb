{
 "cells": [
  {
   "cell_type": "markdown",
   "metadata": {
    "slideshow": {
     "slide_type": "slide"
    }
   },
   "source": [
    "<font size=\"2\"> [github.com/jankoslavic/pypinm](http://github.com/jankoslavic/pypinm)</font>\n",
    "\n",
    "<center>\n",
    "<img width=300 src=\"./fig/ladisk.png\">\n",
    "<br>\n",
    "<font size=\"7\" color=\"f00e0e\" face=\"garamond\"><b>Aproksimacija</b></font>\n",
    "<br><br>\n",
    "<font size=\"4\">\n",
    "[izr. prof. dr. Janko Slavič](http://www.ladisk.si/~slavic)\n",
    "</font>\n",
    "<br><br>\n",
    "<font size=\"2\">Avgust 2017</font>\n",
    "</center>"
   ]
  },
  {
   "cell_type": "markdown",
   "metadata": {
    "slideshow": {
     "slide_type": "subslide"
    },
    "toc": "true"
   },
   "source": [
    "# Table of Contents\n",
    " <p><div class=\"lev1 toc-item\"><a href=\"#Uvod\" data-toc-modified-id=\"Uvod-1\"><span class=\"toc-item-num\">1&nbsp;&nbsp;</span>Uvod</a></div><div class=\"lev1 toc-item\"><a href=\"#Metoda-najmanjših-kvadratov-za-linearno-funkcijo\" data-toc-modified-id=\"Metoda-najmanjših-kvadratov-za-linearno-funkcijo-2\"><span class=\"toc-item-num\">2&nbsp;&nbsp;</span>Metoda najmanjših kvadratov za linearno funkcijo</a></div><div class=\"lev2 toc-item\"><a href=\"#Opomba-na-uporabo-psevdo-inverzne-matrike\" data-toc-modified-id=\"Opomba-na-uporabo-psevdo-inverzne-matrike-21\"><span class=\"toc-item-num\">2.1&nbsp;&nbsp;</span>Opomba na uporabo psevdo inverzne matrike</a></div><div class=\"lev1 toc-item\"><a href=\"#Metoda-najmanjših-kvadratov-za-poljubni-polinom\" data-toc-modified-id=\"Metoda-najmanjših-kvadratov-za-poljubni-polinom-3\"><span class=\"toc-item-num\">3&nbsp;&nbsp;</span>Metoda najmanjših kvadratov za poljubni polinom</a></div><div class=\"lev2 toc-item\"><a href=\"#Numerični-primer\" data-toc-modified-id=\"Numerični-primer-31\"><span class=\"toc-item-num\">3.1&nbsp;&nbsp;</span>Numerični primer</a></div><div class=\"lev2 toc-item\"><a href=\"#Uporaba-numpy-za-aproksimacjo-s-polinomom\" data-toc-modified-id=\"Uporaba-numpy-za-aproksimacjo-s-polinomom-32\"><span class=\"toc-item-num\">3.2&nbsp;&nbsp;</span>Uporaba <code>numpy</code> za aproksimacjo s polinomom</a></div><div class=\"lev1 toc-item\"><a href=\"#Aproksimacija-s-poljubno-funkcijo\" data-toc-modified-id=\"Aproksimacija-s-poljubno-funkcijo-4\"><span class=\"toc-item-num\">4&nbsp;&nbsp;</span>Aproksimacija s poljubno funkcijo</a></div><div class=\"lev2 toc-item\"><a href=\"#Primer:-aproksimacija-s-harmonsko-funkcijo\" data-toc-modified-id=\"Primer:-aproksimacija-s-harmonsko-funkcijo-41\"><span class=\"toc-item-num\">4.1&nbsp;&nbsp;</span>Primer: aproksimacija s harmonsko funkcijo</a></div><div class=\"lev1 toc-item\"><a href=\"#Aproksimacija-z-zlepki-in-uporabo-SciPy\" data-toc-modified-id=\"Aproksimacija-z-zlepki-in-uporabo-SciPy-5\"><span class=\"toc-item-num\">5&nbsp;&nbsp;</span>Aproksimacija z zlepki in uporabo <code>SciPy</code></a></div><div class=\"lev1 toc-item\"><a href=\"#Nekaj-vprašanj-za-razmislek!\" data-toc-modified-id=\"Nekaj-vprašanj-za-razmislek!-6\"><span class=\"toc-item-num\">6&nbsp;&nbsp;</span>Nekaj vprašanj za razmislek!</a></div><div class=\"lev1 toc-item\"><a href=\"#Dodatno\" data-toc-modified-id=\"Dodatno-7\"><span class=\"toc-item-num\">7&nbsp;&nbsp;</span>Dodatno</a></div>"
   ]
  },
  {
   "cell_type": "markdown",
   "metadata": {
    "slideshow": {
     "slide_type": "slide"
    }
   },
   "source": [
    "# Uvod"
   ]
  },
  {
   "cell_type": "markdown",
   "metadata": {},
   "source": [
    "V strojniški praksi se pogosto srečamo s tabelo podatkov, ki na primer izvirajo iz meritev in so lahko obremenjeni z merilnimi ali numeričnimi napakami.\n",
    "\n",
    "Oglejmo si primer meritve (linearne) vzmeti ($x$ je raztezek, $y$ je pomerjene sila):"
   ]
  },
  {
   "cell_type": "code",
   "execution_count": 1,
   "metadata": {
    "collapsed": true
   },
   "outputs": [],
   "source": [
    "import numpy as np\n",
    "\n",
    "x = np.array([0.1,  1.1, 2.05, 3.2, 3.9  ])\n",
    "y = np.array([0.2, 18.1, 44.3, 75.5, 105.6])"
   ]
  },
  {
   "cell_type": "markdown",
   "metadata": {
    "slideshow": {
     "slide_type": "subslide"
    }
   },
   "source": [
    "Poglejmo si podatke na slik, najprej uvozimo potrebne pakete:"
   ]
  },
  {
   "cell_type": "code",
   "execution_count": 2,
   "metadata": {
    "slideshow": {
     "slide_type": "-"
    }
   },
   "outputs": [
    {
     "data": {
      "image/png": "[encoded data removed]",
      "text/plain": [
       "<matplotlib.figure.Figure at 0x15590594400>"
      ]
     },
     "metadata": {},
     "output_type": "display_data"
    }
   ],
   "source": [
    "import matplotlib.pyplot as plt\n",
    "%matplotlib inline\n",
    "plt.plot(x, y, 'o');\n",
    "plt.xlabel('Pomik $x$')\n",
    "plt.ylabel('Sila $y$');"
   ]
  },
  {
   "cell_type": "markdown",
   "metadata": {
    "slideshow": {
     "slide_type": "subslide"
    }
   },
   "source": [
    "Za konkreten primer bi bilo, glede na poznavanje fizikalnega ozadja linearne vzmeti, primerno da bi meritve poskušali popisati z linearno funkcijo:\n",
    "$$f(x) = a_0\\,x+ a_1$$"
   ]
  },
  {
   "cell_type": "markdown",
   "metadata": {
    "slideshow": {
     "slide_type": "subslide"
    }
   },
   "source": [
    "Poznamo tabelo podatkov $x_i, y_i$; teh je več, kot jih potrebujemo za določitev dveh konstant $a_0$ in $a_1$, zato imamo torej predoločen sistem linearnih enačb. Iz tega razloga moramo najti ustrezni konstanti $a_0$ in $a_1$, da se bo funkcija $f(x)$ v znanih točkah $x_i$ *najbolje* ujemala z $y_i$.\n",
    "\n",
    "Najprej torej potrebujemo kriterij za *najboljše* ujemanje. "
   ]
  },
  {
   "cell_type": "markdown",
   "metadata": {
    "slideshow": {
     "slide_type": "subslide"
    }
   },
   "source": [
    "Za vrednosti iz tabele $x_i, y_i$ bi lahko iskali takšni konstanti $a_0$ in $a_1$, kjer bi bila vsota absolutne vrednosti odstopkov $S$ najmanjša:\n",
    "\n",
    "$$P(a_0, a_1) = \\sum_i |y_i - (a_0\\,x_i+a_1)|.$$\n",
    "\n",
    "Vendar funkcija $P(a_0, a_1)$ ni zvezno odvedljiva in zato uporabimo **metodo najmanjših kvadratov**:\n",
    "\n",
    "$$S(a_0, a_1) = \\sum_i \\left(y_i - (a_0\\,x_i+a_1)\\right)^2.$$\n",
    "\n",
    "Takšna funkcija $S(a_0, a_1)$ je zvezna in zvezno odvedljiva. S parcialnim odvajanjem po parametrih $a_0$ in $a_1$ lahko najdemo stacionarno točko (parcialni odvod je enak 0). Postopek si bomo za linearno funkcijo pogledali v naslednjem poglavju."
   ]
  },
  {
   "cell_type": "markdown",
   "metadata": {
    "slideshow": {
     "slide_type": "slide"
    }
   },
   "source": [
    "# Metoda najmanjših kvadratov za linearno funkcijo"
   ]
  },
  {
   "cell_type": "markdown",
   "metadata": {},
   "source": [
    "Poiskati moramo konstanti $a_0$, $a_1$, da bo vsota kvadratov razlik med funkcijo in tabelirano vrednostjo ($x_i, y_i$, kjer $i=0,1,\\dots, n-1$ in je $n$ število tabeliranih podatkov):\n",
    "\n",
    "$$S(a_0, a_1) = \\sum_{i=0}^{n-1} \\left(y_i - (a_0\\,x_i+a_1)\\right)^2$$\n",
    "\n",
    "najmanjša. Vrednost bo najmanjša v stacionarni točki, ki jo določimo s parcialnim odvodom po parametrih $a_0$ in $a_1$."
   ]
  },
  {
   "cell_type": "markdown",
   "metadata": {
    "slideshow": {
     "slide_type": "subslide"
    }
   },
   "source": [
    "Najprej izvedemo parcialni odvod po parametru $a_0$:\n",
    "\n",
    "$$\\frac{\\partial S(a_0, a_1)}{\\partial a_0} = 2\\,\\sum_{i=0}^{n-1} \\left(y_i - a_0\\,x_i-a_1\\right)\\,(-x_i)$$\n",
    "\n",
    "izraz uredimo:\n",
    "\n",
    "$$\\frac{\\partial S(a_0, a_1)}{\\partial a_0} =-2\\left(\\sum_{i=0}^{n-1} y_i\\,x_i -a_0\\,\\sum_{i=0}^{n-1} x_i^2- a_1\\,\\sum_{i=0}^{n-1} x_i\\right)$$"
   ]
  },
  {
   "cell_type": "markdown",
   "metadata": {
    "slideshow": {
     "slide_type": "subslide"
    }
   },
   "source": [
    "Podobno postopamo še za $a_1$:\n",
    "\n",
    "$$\\frac{\\partial S(a_0, a_1)}{\\partial a_1} = 2\\,\\sum_{i=0}^{n-1} \\left(y_i  - a_0\\,x_i- a_1\\right)\\,(-1)$$\n",
    "\n",
    "$$\\frac{\\partial S(a_0, a_1)}{\\partial a_1} = -2\\left(\\sum_{i=0}^{n-1} y_i -a_0\\,\\sum_{i=0}^{n-1} x_i- a_1\\,\\sum_{i=0}^{n-1}1\\right)$$"
   ]
  },
  {
   "cell_type": "markdown",
   "metadata": {
    "slideshow": {
     "slide_type": "subslide"
    }
   },
   "source": [
    "Ker velja $\\partial S(a_0, a_1)/\\partial a_0=0$ in $\\partial S(a_0, a_1)/\\partial a_1=0$ iz zgornjih izrazov izpeljemo:\n",
    "\n",
    "$$a_0\\,\\sum_i^n x_i^2 + a_1\\,\\sum_i^n x_i=\\sum_i^n y_i\\,x_i$$\n",
    "\n",
    "in\n",
    "\n",
    "$$a_0\\,\\sum_i^n x_i+ a_1\\,n=\\sum_i^n y_i.$$"
   ]
  },
  {
   "cell_type": "markdown",
   "metadata": {},
   "source": [
    "Dobili smo sistem dveh linearnih enačb za neznanki $a_0$ in $a_1$, ki ga znamo rešiti in se imenuje normalni sistem (število enačb je enako številu naznank).\n",
    "\n",
    "Zapišimo normalni sistem v matrični obliki:"
   ]
  },
  {
   "cell_type": "code",
   "execution_count": 3,
   "metadata": {
    "slideshow": {
     "slide_type": "-"
    }
   },
   "outputs": [
    {
     "name": "stdout",
     "output_type": "stream",
     "text": [
      "A: [[ 30.8725  10.35  ]\n",
      " [ 10.35     5.    ]]\n",
      "b: [ 764.185  243.7  ]\n"
     ]
    }
   ],
   "source": [
    "A = [[np.sum(x**2), np.sum(x)], # matrika koeficientov\n",
    "     [np.sum(x), len(x)]]\n",
    "b = [np.dot(y,x), np.sum(y)]    # vektor konstant\n",
    "A = np.asarray(A)\n",
    "b = np.asarray(b)\n",
    "print('A:', A)\n",
    "print('b:', b)"
   ]
  },
  {
   "cell_type": "markdown",
   "metadata": {
    "slideshow": {
     "slide_type": "subslide"
    }
   },
   "source": [
    "Sedaj moramo rešiti linearni sistem:\n",
    "\n",
    "$$\\mathbf{A}\\,\\mathbf{a}=\\mathbf{b},$$\n",
    "\n",
    "Opomba, tukaj smo vektor neznak zapisali kot $\\mathbf{a}=(a_0, a_1)$."
   ]
  },
  {
   "cell_type": "markdown",
   "metadata": {
    "slideshow": {
     "slide_type": "subslide"
    }
   },
   "source": [
    "Sistem rešimo:"
   ]
  },
  {
   "cell_type": "code",
   "execution_count": 4,
   "metadata": {},
   "outputs": [
    {
     "data": {
      "text/plain": [
       "(27.490050804403033, -8.1644051651142853)"
      ]
     },
     "execution_count": 4,
     "metadata": {},
     "output_type": "execute_result"
    }
   ],
   "source": [
    "a0, a1 = np.linalg.solve(A, b)\n",
    "a0, a1"
   ]
  },
  {
   "cell_type": "markdown",
   "metadata": {
    "slideshow": {
     "slide_type": "subslide"
    }
   },
   "source": [
    "Preverimo še število pogojenosti:"
   ]
  },
  {
   "cell_type": "code",
   "execution_count": 5,
   "metadata": {},
   "outputs": [
    {
     "data": {
      "text/plain": [
       "25.200713508702421"
      ]
     },
     "execution_count": 5,
     "metadata": {},
     "output_type": "execute_result"
    }
   ],
   "source": [
    "np.linalg.cond(A)"
   ]
  },
  {
   "cell_type": "markdown",
   "metadata": {
    "slideshow": {
     "slide_type": "subslide"
    }
   },
   "source": [
    "Sedaj si bomo pogledali še rezultat. Najprej pripravimo sliko, katera bo vsebovala tudi informacijo o vsoti kvadratov odstopanja $f(x_i)$ od tabeliranih vrednosti $y_i$."
   ]
  },
  {
   "cell_type": "code",
   "execution_count": 6,
   "metadata": {
    "collapsed": true,
    "slideshow": {
     "slide_type": "-"
    }
   },
   "outputs": [],
   "source": [
    "def slika(naklon=a0, premik=a1):\n",
    "    d=1\n",
    "    def linearna_f(x, a0, a1):\n",
    "        return a0*x+a1\n",
    "    def S(x, y, f):\n",
    "        return np.sum(np.power(y-f,2))\n",
    "    plt.plot(x,y,'.', label='Tabela podatkov')\n",
    "    linearna_f1 = linearna_f(x, naklon, premik)\n",
    "    linearna_f1_MNK = linearna_f(x, a0, a1)\n",
    "    plt.plot(x, linearna_f1, '-', label='Izbrani parametri')\n",
    "    plt.plot(x, linearna_f1_MNK, '-', label='Metoda najmanjših kvadratov')\n",
    "    napaka = S(x, y, linearna_f(x, naklon, premik))\n",
    "    sprememba_napake_v_smeri_a0 = (S(x, y, linearna_f(x, naklon+d, premik))-napaka)/d\n",
    "    sprememba_napake_v_smeri_a1 = (S(x, y, linearna_f(x, naklon, premik+d))-napaka)/d\n",
    "    title = f'S: {napaka:g}, \\\n",
    "            $\\Delta S/\\Delta a_0$: {sprememba_napake_v_smeri_a0:g}, \\\n",
    "            $\\Delta S/\\Delta a_1$: {sprememba_napake_v_smeri_a1:g}'\n",
    "    plt.title(title)\n",
    "    plt.legend()\n",
    "    plt.ylim(-10,110)\n",
    "    plt.show()"
   ]
  },
  {
   "cell_type": "code",
   "execution_count": 7,
   "metadata": {
    "slideshow": {
     "slide_type": "subslide"
    }
   },
   "outputs": [
    {
     "data": {
      "application/vnd.jupyter.widget-view+json": {
       "model_id": "bf6d273f3e0847ed851bed8b1130b3cc"
      }
     },
     "metadata": {},
     "output_type": "display_data"
    }
   ],
   "source": [
    "from ipywidgets import interact\n",
    "interact(slika, naklon=(0, 50, 2), premik=(-10, 10, 1));"
   ]
  },
  {
   "cell_type": "markdown",
   "metadata": {
    "slideshow": {
     "slide_type": "subslide"
    }
   },
   "source": [
    "## Opomba na uporabo psevdo inverzne matrike\n",
    "\n",
    "Do podobnega rezultata lahko pridemo z uporabo psevdo inverzne matrike. Iščemo $y(x)=a_0\\,x+a_1$ in nastavimo predoločen sistem $\\mathbf{A}\\,\\mathbf{a}=\\mathbf{y}$, kjer je matrika koeficientov $\\mathbf{A}$ definirana glede na vrednosti $x_i$ ($i=0,1,\\dots,n-1$):"
   ]
  },
  {
   "cell_type": "code",
   "execution_count": 8,
   "metadata": {},
   "outputs": [
    {
     "data": {
      "text/plain": [
       "array([[ 0.1 ,  1.  ],\n",
       "       [ 1.1 ,  1.  ],\n",
       "       [ 2.05,  1.  ],\n",
       "       [ 3.2 ,  1.  ],\n",
       "       [ 3.9 ,  1.  ]])"
      ]
     },
     "execution_count": 8,
     "metadata": {},
     "output_type": "execute_result"
    }
   ],
   "source": [
    "A=np.array([x, np.ones_like(x)]).T\n",
    "A"
   ]
  },
  {
   "cell_type": "markdown",
   "metadata": {
    "slideshow": {
     "slide_type": "subslide"
    }
   },
   "source": [
    "Vektor konstant smo tipično oznalili z $\\mathbf{b}$, vendar je tukaj to kar vektor vrednosti $y_i$ ($i=0,1,2,\\dots,n-1$):"
   ]
  },
  {
   "cell_type": "code",
   "execution_count": 9,
   "metadata": {},
   "outputs": [
    {
     "data": {
      "text/plain": [
       "array([   0.2,   18.1,   44.3,   75.5,  105.6])"
      ]
     },
     "execution_count": 9,
     "metadata": {},
     "output_type": "execute_result"
    }
   ],
   "source": [
    "y"
   ]
  },
  {
   "cell_type": "markdown",
   "metadata": {
    "slideshow": {
     "slide_type": "subslide"
    }
   },
   "source": [
    "Vektor konstant $\\mathbf{a}$ določimo z uporabo psevdo inverzne matrike:\n",
    "\n",
    "$$\\mathbf{a}=\\mathbf{A}^{+}\\,\\mathbf{y}$$"
   ]
  },
  {
   "cell_type": "code",
   "execution_count": 10,
   "metadata": {},
   "outputs": [
    {
     "data": {
      "text/plain": [
       "array([ 27.4900508 ,  -8.16440517])"
      ]
     },
     "execution_count": 10,
     "metadata": {},
     "output_type": "execute_result"
    }
   ],
   "source": [
    "np.linalg.pinv(A).dot(y)"
   ]
  },
  {
   "cell_type": "markdown",
   "metadata": {
    "slideshow": {
     "slide_type": "slide"
    }
   },
   "source": [
    "# Metoda najmanjših kvadratov za poljubni polinom"
   ]
  },
  {
   "cell_type": "markdown",
   "metadata": {},
   "source": [
    "Linearno aproksimacijo, predstavljeno zgoraj, bomo posplošili za poljubni polinom stopnje $m$:\n",
    "\n",
    "$$f(a_0,a_1,\\dots,a_{m}, x) = \\sum_{v=0}^{m}a_v\\,\\underbrace{x^{m-v}}_{f_v(x)},$$\n",
    "\n",
    "kjer $f_v(x)$ ($v=0,1,2,\\dots,m$) imenujemo bazna funkcija.\n",
    "\n",
    "Tabela podatkov naj bo definirana z $x_i, y_i$, kjer je $i=0,1,2,\\dots,n-1$. \n",
    "\n",
    "Opomba: zaradi kompaktnosti zapisa, bom o konstante $a$ zapisali v vektorski obliki $\\mathbf{a}=[a_0, a_1,\\dots,a_m]$."
   ]
  },
  {
   "cell_type": "markdown",
   "metadata": {
    "slideshow": {
     "slide_type": "subslide"
    }
   },
   "source": [
    "Uporabimo metodo najmanjši kvadratov:\n",
    "\n",
    "$$S(\\mathbf{a}) = \\sum_{i=0}^{n-1} \\left(y_i - f(\\mathbf{a}, x_i)\\right)^2.$$\n",
    "\n",
    "Potreben pogoj za nastop ekstrema funkcije $m+1$ neodvisnih spremenljivk je, da najdemo stacionarno točko za vsak $a_v$, išemo torej $S(\\mathbf{a})/\\partial a_v=0$."
   ]
  },
  {
   "cell_type": "markdown",
   "metadata": {
    "slideshow": {
     "slide_type": "subslide"
    }
   },
   "source": [
    "Najprej določimo parcialni odvod za izbrani $a_v$:\n",
    "\n",
    "$$\\frac{\\partial S(\\mathbf{a})}{\\partial a_v} = - 2\\,\\sum_{i=0}^{n-1} \\left(\\left(y_i - f(\\mathbf{a}, x_i)\\right)\\,x_i^{m-v}\\right)$$"
   ]
  },
  {
   "cell_type": "markdown",
   "metadata": {
    "slideshow": {
     "slide_type": "subslide"
    }
   },
   "source": [
    "Ker je parcialni odvod v stacionarni točki enak 0, zgornji izraz preolikujemo:\n",
    "\n",
    "$$\\sum_{i=0}^{n-1} f(\\mathbf{a}, x_i)\\,x_i^{m-v}=\\sum_{i=0}^{n-1} y_i\\,x_i^{m-v}$$\n",
    "\n",
    "Upoštevajmo izraz za $f(\\mathbf{a}, x_i)$; ker pa je indeks $v$ že zaseden, uporabomo namesto njega indeks $s$:"
   ]
  },
  {
   "cell_type": "markdown",
   "metadata": {
    "slideshow": {
     "slide_type": "subslide"
    }
   },
   "source": [
    "$$\\sum_{i=0}^{n-1} \\left(\n",
    "\\sum_{s=0}^{m}a_s\\,x_i^{m-s}\n",
    "\\right)\\,x_i^{m-v}=\\sum_{i=0}^{n-1} y_i\\,x_i^{m-v}$$\n"
   ]
  },
  {
   "cell_type": "markdown",
   "metadata": {},
   "source": [
    "Izraz uredimo:"
   ]
  },
  {
   "cell_type": "markdown",
   "metadata": {
    "slideshow": {
     "slide_type": "subslide"
    }
   },
   "source": [
    "$$\\sum_{i=0}^{n-1} \\sum_{s=0}^m a_s\\,x_i^{2m-s-v}=\\sum_{i=0}^{n-1} y_i\\,x_i^{m-v}$$\n",
    "\n",
    "in zamenjamo vrstni red seštevanja ter izpeljmo:\n",
    "\n",
    "$$\\sum_{s=0}^m \\left(a_s \\sum_{i=0}^{n-1} \\,x_i^{2m-s-v}\\right)=\\sum_{i=0}^{n-1} y_i\\,x_i^{m-v}.$$"
   ]
  },
  {
   "cell_type": "markdown",
   "metadata": {
    "slideshow": {
     "slide_type": "subslide"
    }
   },
   "source": [
    "Izpeljali smo enačbo $v$ sistema $m+1$ linearnih enačb:\n",
    "\n",
    "$$\\mathbf{A}\\,{\\mathbf{a}}=\\mathbf{b}$$"
   ]
  },
  {
   "cell_type": "markdown",
   "metadata": {
    "slideshow": {
     "slide_type": "subslide"
    }
   },
   "source": [
    "Element $A_{v,s}$ matrike koeficientov je:\n",
    "\n",
    "$$A_{v,s}= \\sum_{i=0}^{n-1} x_i^{2m-v-s},$$\n",
    "\n",
    "in element vektorja konstant:\n",
    "\n",
    "$$b_{v}= \\sum_{i=0}^{n-1} y_i\\,x_i^{m-v}$$"
   ]
  },
  {
   "cell_type": "markdown",
   "metadata": {
    "slideshow": {
     "slide_type": "subslide"
    }
   },
   "source": [
    "## Numerični primer"
   ]
  },
  {
   "cell_type": "markdown",
   "metadata": {},
   "source": [
    "Uporabimo podatke iz prve naloge in poskusimo aproksimirati s polinomom 2. stopnje ($m=2$). \n",
    "\n",
    "Tabela podatkov je:"
   ]
  },
  {
   "cell_type": "code",
   "execution_count": 11,
   "metadata": {
    "slideshow": {
     "slide_type": "subslide"
    }
   },
   "outputs": [
    {
     "data": {
      "text/plain": [
       "array([ 0.1 ,  1.1 ,  2.05,  3.2 ,  3.9 ])"
      ]
     },
     "execution_count": 11,
     "metadata": {},
     "output_type": "execute_result"
    }
   ],
   "source": [
    "x"
   ]
  },
  {
   "cell_type": "code",
   "execution_count": 12,
   "metadata": {},
   "outputs": [
    {
     "data": {
      "text/plain": [
       "array([   0.2,   18.1,   44.3,   75.5,  105.6])"
      ]
     },
     "execution_count": 12,
     "metadata": {},
     "output_type": "execute_result"
    }
   ],
   "source": [
    "y"
   ]
  },
  {
   "cell_type": "markdown",
   "metadata": {
    "slideshow": {
     "slide_type": "subslide"
    }
   },
   "source": [
    "Izračunajmo matriko koeficientov:\n",
    "\n",
    "$$A_{v,s}= \\sum_{i=0}^{n-1} x_i^{2m-v-s}$$"
   ]
  },
  {
   "cell_type": "code",
   "execution_count": 13,
   "metadata": {},
   "outputs": [
    {
     "data": {
      "text/plain": [
       "array([[ 355.32690625,  102.034125  ,   30.8725    ],\n",
       "       [ 102.034125  ,   30.8725    ,   10.35      ],\n",
       "       [  30.8725    ,   10.35      ,    5.        ]])"
      ]
     },
     "execution_count": 13,
     "metadata": {},
     "output_type": "execute_result"
    }
   ],
   "source": [
    "m = 2 #stopnja\n",
    "A = np.zeros((m+1,m+1))\n",
    "for v in range(m+1):\n",
    "    for s in range(m+1):\n",
    "        A[v,s] = np.sum(x**(2*m-v-s))\n",
    "A"
   ]
  },
  {
   "cell_type": "markdown",
   "metadata": {
    "slideshow": {
     "slide_type": "subslide"
    }
   },
   "source": [
    "Izračunajmo še vektor konstant:\n",
    "\n",
    "$$b_{v}= \\sum_{i=0}^{n-1} y_i\\,x_i^{m-v}$$"
   ]
  },
  {
   "cell_type": "code",
   "execution_count": 14,
   "metadata": {},
   "outputs": [
    {
     "data": {
      "text/plain": [
       "array([ 2587.36975,   764.185  ,   243.7    ])"
      ]
     },
     "execution_count": 14,
     "metadata": {},
     "output_type": "execute_result"
    }
   ],
   "source": [
    "b = np.zeros(m+1)\n",
    "for v in range(m+1):\n",
    "    b[v] = np.dot(y,x**(m-v))\n",
    "b"
   ]
  },
  {
   "cell_type": "markdown",
   "metadata": {
    "slideshow": {
     "slide_type": "subslide"
    }
   },
   "source": [
    "Preverimo število pogojenosti:"
   ]
  },
  {
   "cell_type": "code",
   "execution_count": 15,
   "metadata": {},
   "outputs": [
    {
     "data": {
      "text/plain": [
       "963.21258562906587"
      ]
     },
     "execution_count": 15,
     "metadata": {},
     "output_type": "execute_result"
    }
   ],
   "source": [
    "np.linalg.cond(A)"
   ]
  },
  {
   "cell_type": "markdown",
   "metadata": {},
   "source": [
    "in rešimo sistem:"
   ]
  },
  {
   "cell_type": "code",
   "execution_count": 16,
   "metadata": {},
   "outputs": [
    {
     "data": {
      "text/plain": [
       "array([  3.18393375,  14.64106847,  -1.22621065])"
      ]
     },
     "execution_count": 16,
     "metadata": {},
     "output_type": "execute_result"
    }
   ],
   "source": [
    "a = np.linalg.solve(A, b)\n",
    "a"
   ]
  },
  {
   "cell_type": "markdown",
   "metadata": {
    "slideshow": {
     "slide_type": "subslide"
    }
   },
   "source": [
    "Gelde na definicijo aproksimacijskega polinoma:\n",
    "\n",
    "$$f(a_0,a_1,\\dots,a_{m}, x) = \\sum_{v=0}^{m}a_v\\,x^{m-v}$$\n",
    "\n",
    "definirajmo numerično implementacijo:"
   ]
  },
  {
   "cell_type": "code",
   "execution_count": 17,
   "metadata": {},
   "outputs": [],
   "source": [
    "def apr_polinom(x):\n",
    "     return np.sum(np.asarray([_*x**(m-v) for v,_ in enumerate(a)]), axis=0)"
   ]
  },
  {
   "cell_type": "markdown",
   "metadata": {},
   "source": [
    "In prikažemo:"
   ]
  },
  {
   "cell_type": "code",
   "execution_count": 18,
   "metadata": {
    "slideshow": {
     "slide_type": "subslide"
    }
   },
   "outputs": [
    {
     "data": {
      "image/png": "[encoded data removed]",
      "text/plain": [
       "<matplotlib.figure.Figure at 0x155918d0908>"
      ]
     },
     "metadata": {},
     "output_type": "display_data"
    }
   ],
   "source": [
    "x_g = np.linspace(np.min(x), np.max(x), 100) # več točk za prikaz\n",
    "plt.plot(x, y, 'o', label='Tabela podatkov')\n",
    "plt.plot(x_g, apr_polinom(x_g), lw=5, alpha=0.5, label='Aproksimacija s kvadratno funkcijo')\n",
    "plt.legend();"
   ]
  },
  {
   "cell_type": "markdown",
   "metadata": {
    "slideshow": {
     "slide_type": "subslide"
    }
   },
   "source": [
    "Poglejmo še napako aproksimacije:\n",
    "$$e_i=y_i - f(x_i)$$\n",
    "\n",
    "za $i=0,1,2,\\dots,n-1$.\n",
    "\n",
    "Pri pravilno izvedni aproksimaciji je nekaj $e_i$ pozitivnih in nekaj negativnih. Poglejmo, če je to res v našem primeru:"
   ]
  },
  {
   "cell_type": "code",
   "execution_count": 19,
   "metadata": {},
   "outputs": [
    {
     "data": {
      "text/plain": [
       "array([-0.06973553, -0.6315245 ,  2.13153872, -2.72869002,  1.29841133])"
      ]
     },
     "execution_count": 19,
     "metadata": {},
     "output_type": "execute_result"
    }
   ],
   "source": [
    "e = y - apr_polinom(x)\n",
    "e"
   ]
  },
  {
   "cell_type": "markdown",
   "metadata": {
    "slideshow": {
     "slide_type": "subslide"
    }
   },
   "source": [
    "Opomba: višje stopnje polinom uporabimo, večja je verjetnost slabe pogojenosti. Iz tega razloga s stopnjo polinoma ne pretiravamo (v praksi uporabljamo predvsem nizke stopnje)!"
   ]
  },
  {
   "cell_type": "markdown",
   "metadata": {
    "slideshow": {
     "slide_type": "subslide"
    }
   },
   "source": [
    "## Uporaba `numpy` za aproksimacjo s polinomom"
   ]
  },
  {
   "cell_type": "markdown",
   "metadata": {},
   "source": [
    "Pogljemo si kako uporabimo knjižnico `numpy` za polinomsko aproksimacijo. \n",
    "\n",
    "Najprej uporabimo funkcijo [polyfit](https://docs.scipy.org/doc/numpy/reference/generated/numpy.polyfit.html), ki zahteva tri parametre: `x`, `y` in `deg`. `x` in `y` predstavljata tabelo podatkov, `deg` pa stopnjo polinoma (za podrobnejši opis (npr. uporabe uteži pri aproksimaciji) glejte dokumentacijo funkcije). \n",
    "\n",
    "Funkcija `polyfit` vrne koeficiente polinoma (najprej za najvišji red)."
   ]
  },
  {
   "cell_type": "markdown",
   "metadata": {
    "slideshow": {
     "slide_type": "subslide"
    }
   },
   "source": [
    "Poglejmo si uporabo za predhodno obravnavani primer:"
   ]
  },
  {
   "cell_type": "code",
   "execution_count": 20,
   "metadata": {},
   "outputs": [
    {
     "data": {
      "text/plain": [
       "array([  3.18393375,  14.64106847,  -1.22621065])"
      ]
     },
     "execution_count": 20,
     "metadata": {},
     "output_type": "execute_result"
    }
   ],
   "source": [
    "koef = np.polyfit(x, y, deg=2)\n",
    "koef"
   ]
  },
  {
   "cell_type": "code",
   "execution_count": 21,
   "metadata": {},
   "outputs": [
    {
     "data": {
      "text/plain": [
       "array([  3.18393375,  14.64106847,  -1.22621065])"
      ]
     },
     "execution_count": 21,
     "metadata": {},
     "output_type": "execute_result"
    }
   ],
   "source": [
    "a # rezultat lastne implementacije"
   ]
  },
  {
   "cell_type": "markdown",
   "metadata": {
    "slideshow": {
     "slide_type": "subslide"
    }
   },
   "source": [
    "Ko imamo koeficiente, lahko polinom definiramo s klicanjem objekta [poly1d](https://docs.scipy.org/doc/numpy/reference/generated/numpy.poly1d.html#numpy.poly1d), ki vrne instanco s pomočjo katere lahko izračunamo vrednosti v odvisnosti od `x` ali pa npr. izračunamo ničle.\n",
    "\n",
    "Poglejmo si primer:"
   ]
  },
  {
   "cell_type": "code",
   "execution_count": 22,
   "metadata": {},
   "outputs": [],
   "source": [
    "p = np.poly1d(koef) #p je instanca objekta poly1d"
   ]
  },
  {
   "cell_type": "markdown",
   "metadata": {
    "slideshow": {
     "slide_type": "subslide"
    }
   },
   "source": [
    "Izrišimo vrednosti"
   ]
  },
  {
   "cell_type": "code",
   "execution_count": 23,
   "metadata": {},
   "outputs": [
    {
     "data": {
      "image/png": "[encoded data removed]",
      "text/plain": [
       "<matplotlib.figure.Figure at 0x155918d0978>"
      ]
     },
     "metadata": {},
     "output_type": "display_data"
    }
   ],
   "source": [
    "plt.plot(x, y, 'o', label='Tabela podatkov')\n",
    "plt.plot(x_g, p(x_g), lw=5, alpha=0.5, label='Aproksimacija s kvadratno funkcijo')\n",
    "plt.legend();"
   ]
  },
  {
   "cell_type": "markdown",
   "metadata": {
    "slideshow": {
     "slide_type": "subslide"
    }
   },
   "source": [
    "Izračunajmo ničle polinoma:"
   ]
  },
  {
   "cell_type": "code",
   "execution_count": 24,
   "metadata": {},
   "outputs": [
    {
     "data": {
      "text/plain": [
       "array([-4.68070044,  0.08227923])"
      ]
     },
     "execution_count": 24,
     "metadata": {},
     "output_type": "execute_result"
    }
   ],
   "source": [
    "p.roots"
   ]
  },
  {
   "cell_type": "markdown",
   "metadata": {
    "slideshow": {
     "slide_type": "slide"
    }
   },
   "source": [
    "# Aproksimacija s poljubno funkcijo"
   ]
  },
  {
   "cell_type": "markdown",
   "metadata": {},
   "source": [
    "Pri aproksimaciji nismo omejeni zgolj na polinomske funkcije. Tabele podatkov lahko aproksimiramo:\n",
    "* z linearno kombinacijo linearno neodvisnih baznih funkcij ali \n",
    "* s funkcijo v kateri nastopajo parametri v nelinearni zvezi (npr. $a_0\\,\\sin(a_1\\,x+a_2)$).\n",
    "\n",
    "Za podrobnosti glejte vir J. Petrišič: Uvod v Matlab za inženirje, Fakulteta za strojništvo 2013, str 145. \n",
    "\n",
    "Tukaj se bomo osredotočili na uporabo `scipy` paketa za aproksimacijo z nelinearno fukcijo, ki temelji na metodi najmanjših kvadratov."
   ]
  },
  {
   "cell_type": "markdown",
   "metadata": {
    "slideshow": {
     "slide_type": "subslide"
    }
   },
   "source": [
    "## Primer: aproksimacija s harmonsko funkcijo"
   ]
  },
  {
   "cell_type": "markdown",
   "metadata": {},
   "source": [
    "Tabela podatkov je definira kot:"
   ]
  },
  {
   "cell_type": "code",
   "execution_count": 25,
   "metadata": {
    "collapsed": true
   },
   "outputs": [],
   "source": [
    "x = np.array([ 0.1, 0.8, 1.7, 2.5, 3.4, 4.2,  5.1])\n",
    "y = np.array([ 0.01, -1.13, 0.02, 0.92, -0.01, -0.98, 0.1])"
   ]
  },
  {
   "cell_type": "markdown",
   "metadata": {
    "slideshow": {
     "slide_type": "subslide"
    }
   },
   "source": [
    "Prikažimo tabelo podatkov:"
   ]
  },
  {
   "cell_type": "code",
   "execution_count": 26,
   "metadata": {
    "slideshow": {
     "slide_type": "-"
    }
   },
   "outputs": [
    {
     "data": {
      "image/png": "[encoded data removed]",
      "text/plain": [
       "<matplotlib.figure.Figure at 0x15591a595c0>"
      ]
     },
     "metadata": {},
     "output_type": "display_data"
    }
   ],
   "source": [
    "plt.plot(x, y, 'o', label='Tabela podatkov')\n",
    "plt.legend();"
   ]
  },
  {
   "cell_type": "markdown",
   "metadata": {
    "slideshow": {
     "slide_type": "subslide"
    }
   },
   "source": [
    "Aprksimacijo z nelinearno funkcijo bomo izvedli s pomočjo [scipy.optimize.curve_fit](https://docs.scipy.org/doc/scipy/reference/generated/scipy.optimize.curve_fit.html). Funkcija `curve_fit` zahteva tri parametre: `f, xdata, ydata`. `f` predstavlja definicijo pythom funkcije katere parametre spreminjamo z uporabo nelinearne metode najmanjših kvadratov. `xdata` in `ydata` predstavljata tabelo podatkov. Priporočeno je tudi, da definiramo približek iskanih parametrov `p0`.\n",
    "\n",
    "Funkcija vrne dva parametra `popt`, ki predstavlja najdene parametre ter `pcov`, ki ocenjeno kovarianco `popt`."
   ]
  },
  {
   "cell_type": "markdown",
   "metadata": {
    "slideshow": {
     "slide_type": "subslide"
    }
   },
   "source": [
    "Definirajmo najprej python funkcijo, katere prvi parameter je neodvisna spremenljivka `x`, nato pa sledijo parametri, katere želimo določiti:"
   ]
  },
  {
   "cell_type": "code",
   "execution_count": 27,
   "metadata": {
    "collapsed": true
   },
   "outputs": [],
   "source": [
    "def func(x, A, ω, ϕ):\n",
    "    return A*np.sin(ω*x+ϕ)"
   ]
  },
  {
   "cell_type": "markdown",
   "metadata": {},
   "source": [
    "Kjer je `A` amplitua,`ω` krožna frekvenca in `ϕ` faza harmonske funkcije. Iz slike lahko ugibamo prve približke: `A=1`, `ω=1`, `ϕ=0`"
   ]
  },
  {
   "cell_type": "markdown",
   "metadata": {
    "slideshow": {
     "slide_type": "subslide"
    }
   },
   "source": [
    "Sedaj uvozimo `curve_fit` in izvedemo optimizacijski postopek:"
   ]
  },
  {
   "cell_type": "code",
   "execution_count": 28,
   "metadata": {
    "collapsed": true
   },
   "outputs": [],
   "source": [
    "from scipy.optimize import curve_fit"
   ]
  },
  {
   "cell_type": "code",
   "execution_count": 29,
   "metadata": {},
   "outputs": [
    {
     "data": {
      "text/plain": [
       "array([ 1.01461945,  1.89652046, -3.27943097])"
      ]
     },
     "execution_count": 29,
     "metadata": {},
     "output_type": "execute_result"
    }
   ],
   "source": [
    "popt, pcov = curve_fit(func, x, y, p0=[1, 1, 0])\n",
    "popt"
   ]
  },
  {
   "cell_type": "markdown",
   "metadata": {},
   "source": [
    "Opazimo, da smo dobili pričakovane vrednosti (glejte zgoraj)."
   ]
  },
  {
   "cell_type": "code",
   "execution_count": 34,
   "metadata": {},
   "outputs": [
    {
     "data": {
      "text/plain": [
       "array([-0.0525477 , -0.99608783, -0.05612665,  1.00860622, -0.02753942,\n",
       "       -1.01426499,  0.1110182 ])"
      ]
     },
     "execution_count": 34,
     "metadata": {},
     "output_type": "execute_result"
    }
   ],
   "source": [
    "func(x, *popt)"
   ]
  },
  {
   "cell_type": "code",
   "execution_count": 33,
   "metadata": {},
   "outputs": [
    {
     "data": {
      "text/plain": [
       "array([-0.0525477 , -0.99608783, -0.05612665,  1.00860622, -0.02753942,\n",
       "       -1.01426499,  0.1110182 ])"
      ]
     },
     "execution_count": 33,
     "metadata": {},
     "output_type": "execute_result"
    }
   ],
   "source": [
    "func(x, A_fit, w_fit, faza_fit)"
   ]
  },
  {
   "cell_type": "code",
   "execution_count": 36,
   "metadata": {
    "slideshow": {
     "slide_type": "subslide"
    }
   },
   "outputs": [
    {
     "data": {
      "image/png": "[encoded data removed]",
      "text/plain": [
       "<matplotlib.figure.Figure at 0x1559194fa90>"
      ]
     },
     "metadata": {},
     "output_type": "display_data"
    }
   ],
   "source": [
    "x_g = np.linspace(np.min(x), np.max(x), 50)\n",
    "y_g = func(x_g, *popt) # bodi pozorni kako smo v funkcijo posredovali parametre\n",
    "plt.plot(x, y, 'o', label='Tabela podatkov')\n",
    "plt.plot(x_g, y_g, label='Aproksimacija')\n",
    "plt.legend();"
   ]
  },
  {
   "cell_type": "markdown",
   "metadata": {
    "slideshow": {
     "slide_type": "slide"
    }
   },
   "source": [
    "# Aproksimacija z zlepki in uporabo ``SciPy``"
   ]
  },
  {
   "cell_type": "markdown",
   "metadata": {
    "slideshow": {
     "slide_type": "subslide"
    }
   },
   "source": [
    "Tabela podatkov naj bo:"
   ]
  },
  {
   "cell_type": "code",
   "execution_count": 40,
   "metadata": {},
   "outputs": [
    {
     "data": {
      "text/plain": [
       "array([-3.        , -2.68421053, -2.36842105, -2.05263158, -1.73684211,\n",
       "       -1.42105263, -1.10526316, -0.78947368, -0.47368421, -0.15789474,\n",
       "        0.15789474,  0.47368421,  0.78947368,  1.10526316,  1.42105263,\n",
       "        1.73684211,  2.05263158,  2.36842105,  2.68421053,  3.        ])"
      ]
     },
     "execution_count": 40,
     "metadata": {},
     "output_type": "execute_result"
    }
   ],
   "source": [
    "x = np.linspace(-3, 3, 20)\n",
    "x"
   ]
  },
  {
   "cell_type": "code",
   "execution_count": 41,
   "metadata": {
    "collapsed": true
   },
   "outputs": [],
   "source": [
    "np.random.seed(0) # seme generatorja naključnih števil\n",
    "y = np.exp(-x**2) + 0.1 * np.random.normal(scale=.5, size=len(x))"
   ]
  },
  {
   "cell_type": "markdown",
   "metadata": {},
   "source": [
    "Poglejmo si objekt [UnivariateSpline](https://docs.scipy.org/doc/scipy/reference/generated/scipy.interpolate.UnivariateSpline.html), ki omogoča tako interpolacijo kot aproksimacijo z zlepki."
   ]
  },
  {
   "cell_type": "markdown",
   "metadata": {
    "slideshow": {
     "slide_type": "subslide"
    }
   },
   "source": [
    "Aproksimacijo z zlepki izvedemo tako, da ob tabeli podatkov `x` in `y` definiramo še parameter `s`. Parameter `s` določa vrednost, ki je vsota kvadrata razlik aproksimacijskega zlepka in aproksimacijskih točk ne sme preseči:\n",
    "\n",
    "``sum((w[i] * (y[i]-spl(x[i])))**2, axis=0) <= s``\n",
    "\n",
    "`w` je utež.\n",
    "\n",
    "Če definiramo `s=0`, zahtevamo interpolacijo. \n",
    "\n",
    "Parameter `k` definira stopnjo polinomskega zlepka (privzeto je `k=3`)."
   ]
  },
  {
   "cell_type": "code",
   "execution_count": 50,
   "metadata": {
    "collapsed": true
   },
   "outputs": [],
   "source": [
    "from scipy.interpolate import UnivariateSpline\n",
    "spl = UnivariateSpline(x, y, s=0.)"
   ]
  },
  {
   "cell_type": "code",
   "execution_count": 52,
   "metadata": {
    "slideshow": {
     "slide_type": "subslide"
    }
   },
   "outputs": [
    {
     "data": {
      "image/png": "[encoded data removed]",
      "text/plain": [
       "<matplotlib.figure.Figure at 0x155927eb4a8>"
      ]
     },
     "metadata": {},
     "output_type": "display_data"
    }
   ],
   "source": [
    "x_g = np.linspace(-3, 3, 100)\n",
    "plt.plot(x, y, 'o', ms=5, label='Aproksimacijkse točke')\n",
    "plt.plot(x_g, spl(x_g), lw=3, label='Zlepek', alpha=0.6)\n",
    "plt.legend();"
   ]
  },
  {
   "cell_type": "markdown",
   "metadata": {},
   "source": [
    "Izvedimo še aproksimacijo"
   ]
  },
  {
   "cell_type": "code",
   "execution_count": 66,
   "metadata": {
    "collapsed": true,
    "slideshow": {
     "slide_type": "subslide"
    }
   },
   "outputs": [],
   "source": [
    "spl_a = UnivariateSpline(x, y, s=.1)"
   ]
  },
  {
   "cell_type": "code",
   "execution_count": 68,
   "metadata": {
    "slideshow": {
     "slide_type": "-"
    }
   },
   "outputs": [
    {
     "data": {
      "image/png": "[encoded data removed]",
      "text/plain": [
       "<matplotlib.figure.Figure at 0x15591844fd0>"
      ]
     },
     "metadata": {},
     "output_type": "display_data"
    }
   ],
   "source": [
    "plt.plot(x, y, 'o', ms=5, label='Aproksimacijske točke')\n",
    "plt.plot(x_g, spl(x_g), lw=3, label='Interpolacija (s=0)');\n",
    "plt.plot(x_g, spl_a(x_g), lw=3, label='Aproksimacija (s=2)');\n",
    "plt.plot(spl_a.get_knots(), spl_a(spl_a.get_knots()), 'o', label='Vozli pri aproksimaciji');\n",
    "plt.legend();"
   ]
  },
  {
   "cell_type": "markdown",
   "metadata": {},
   "source": [
    "Dejanski preostanek:"
   ]
  },
  {
   "cell_type": "code",
   "execution_count": 69,
   "metadata": {},
   "outputs": [
    {
     "data": {
      "text/plain": [
       "0.0999987185545532"
      ]
     },
     "execution_count": 69,
     "metadata": {},
     "output_type": "execute_result"
    }
   ],
   "source": [
    "spl_a.get_residual()"
   ]
  },
  {
   "cell_type": "markdown",
   "metadata": {
    "slideshow": {
     "slide_type": "slide"
    }
   },
   "source": [
    "# Nekaj vprašanj za razmislek!"
   ]
  },
  {
   "cell_type": "markdown",
   "metadata": {},
   "source": [
    "\n",
    "1. Podatki:\n",
    "$$x = [-1.00, -0.50, 0.00, 0.50, 1.00]$$\n",
    "$$y = [−1.00, −0.55, 0.00, 0.45, 1.00]$$\n",
    "uporabite linearne zlepke in določite prvi odvod.\n",
    "* Na zgornjih podatkih izračunajte linearno aproksimacijo ter določite parametra aproksimacije.\n",
    "* Na nateznem testu ste testirali aluminijeve vzorce; rezultati testa so podani spodaj.\n",
    "\n",
    "    Napetost [MPa]:\n",
    "$$\\sigma = [34.5, 69.0, 103.5, 138.0]$$\n",
    "\n",
    "    Specifična deformacija [mm/m]\n",
    "$$vzorec_1 = [0.46, 0.95, 1.48, 1.93]$$\n",
    "$$vzorec_2 = [0.34, 1.02, 1.51, 2.09]$$\n",
    "$$vzorec_3 = [0.37, 1.00, 1.51, 2.05]$$\n",
    "    S pomočjo linearne aproksimacije določite elastični modul (napetost/specifična deformacija) vsakega posameznega vzorca.\n",
    "* Za Al vzorce zgoraj linearno aproksimirajte elastični modul čez vse vzorce. Določite tudi standardno napako (glejte ``np.std``).\n",
    "* Raziščite pomoč za funkcijo ``np.polyfit`` in utežite različne vzorce z različno utežjo (npr. da prvi meritvi zaupate manj). Izračunajte nato linearno aproksimiran elastični modul.\n",
    "* Pojasnite bistvo metode najmanjših kvadratov na primeru linearne aproksimacije. \n",
    "* Podatki:\n",
    "$$x = [1.0, 2.5, 3.5, 4.0, 1.1, 1.8, 2.2, 3.7]$$\n",
    "$$y = [6.008, 15.722, 27.130, 33.772, 5.257, 9.549, 11.098, 28.828$$\n",
    "    Pripravite in pojasnite funkcijo za linearno aproksimacijo.\n",
    "* Nadaljujte zgornjo nalogo in z vgrajeno funkcijo ``np.polyfit`` izvedite linearno, kvadratno in kubično polinomsko aproksimacijo. \n",
    "* Nadaljujte zgornjo nalogo in aproksimacije narišite ter določite standarno napako. Katera aproksimacija najbolje popiše podatke?\n",
    "* Definirajte polinom 2. ali 3. stopnje. Dodajte šum (enakomeren ``np.random.rand`` ali normalen ``np.random.randn``) ter nato aproksimirajte s polinomom 1., 2. in 3. stopnje. Vse rezultate narišite in jih vrednotite.\n",
    "* Podatke iz prejšnje točke aproksimirajte s pomočjo kubičnih zlepkov. Uporabite vgrajeno funkcijo in preučite vpliv parametra `s`."
   ]
  },
  {
   "cell_type": "markdown",
   "metadata": {
    "slideshow": {
     "slide_type": "slide"
    }
   },
   "source": [
    "# Dodatno"
   ]
  },
  {
   "cell_type": "markdown",
   "metadata": {},
   "source": [
    "Naredite *exe* svojega programa:\n",
    "* https://pypi.python.org/pypi/py2exe/\n",
    "* http://pinm.ladisk.si/323/kako-iz-python-kodo-prevedem-v-exe-datoteko\n",
    "\n",
    "Poglejte [pandas paket](http://pandas.pydata.org/)\n",
    "<img src=\"http://pandas.pydata.org/_static/pandas_logo.png\">"
   ]
  }
 ],
 "metadata": {
  "anaconda-cloud": {},
  "celltoolbar": "Slideshow",
  "kernelspec": {
   "display_name": "Python 3",
   "language": "python",
   "name": "python3"
  },
  "language_info": {
   "codemirror_mode": {
    "name": "ipython",
    "version": 3
   },
   "file_extension": ".py",
   "mimetype": "text/x-python",
   "name": "python",
   "nbconvert_exporter": "python",
   "pygments_lexer": "ipython3",
   "version": "3.6.1"
  },
  "latex_envs": {
   "bibliofile": "biblio.bib",
   "cite_by": "apalike",
   "current_citInitial": 1,
   "eqLabelWithNumbers": true,
   "eqNumInitial": 0
  },
  "livereveal": {
   "theme": "sky",
   "transition": "default",
   "width": 1200
  },
  "nav_menu": {},
  "toc": {
   "colors": {
    "hover_highlight": "#DAA520",
    "navigate_num": "#000000",
    "navigate_text": "#333333",
    "running_highlight": "#FF0000",
    "selected_highlight": "#FFD700",
    "sidebar_border": "#EEEEEE",
    "wrapper_background": "#FFFFFF"
   },
   "moveMenuLeft": true,
   "nav_menu": {
    "height": "263px",
    "width": "252px"
   },
   "navigate_menu": true,
   "number_sections": true,
   "sideBar": true,
   "threshold": "2",
   "toc_cell": true,
   "toc_section_display": "block",
   "toc_window_display": true,
   "widenNotebook": false
  }
 },
 "nbformat": 4,
 "nbformat_minor": 1
}
