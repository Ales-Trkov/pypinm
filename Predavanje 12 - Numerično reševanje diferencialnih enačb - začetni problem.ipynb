{
 "cells": [
  {
   "cell_type": "markdown",
   "metadata": {
    "slideshow": {
     "slide_type": "slide"
    }
   },
   "source": [
    "[github.com/jankoslavic/pypinm](http://github.com/jankoslavic/pypinm), maj 2016\n",
    "\n",
    "<center>\n",
    "<img width=300 src=\"./fig/ladisk.png\">\n",
    "<br>\n",
    "[izr.prof. dr. Janko Slavič](http://www.ladisk.si/~slavic)\n",
    "<br><br><br>\n",
    "\n",
    "<font size=\"10\" color=\"f00e0e\" face=\"garamond\"><b>Numerično reševanje diferencialnih enačb - začetni problem</b></font>\n",
    "\n",
    "</center>"
   ]
  },
  {
   "cell_type": "code",
   "execution_count": 1,
   "metadata": {
    "collapsed": false,
    "slideshow": {
     "slide_type": "subslide"
    }
   },
   "outputs": [],
   "source": [
    "import numpy as np\n",
    "from ipywidgets import interact\n",
    "import matplotlib.pyplot as plt\n",
    "import seaborn # ta paket lahko odstranite, namenjen je lepšemu izrisu\n",
    "%matplotlib inline\n",
    "import sympy as sym\n",
    "sym.init_printing()"
   ]
  },
  {
   "cell_type": "markdown",
   "metadata": {
    "slideshow": {
     "slide_type": "slide"
    }
   },
   "source": [
    "# 1. Uvod"
   ]
  },
  {
   "cell_type": "markdown",
   "metadata": {},
   "source": [
    "## Sistem navadnih diferencialnih enačb"
   ]
  },
  {
   "cell_type": "markdown",
   "metadata": {},
   "source": [
    "V okviru numeričnega reševanja *navadnih diferencialnih enačb* z uporabo začetne vrednosti se osredotočamo na reševanje izraza:\n",
    "$$\\mathbf{y}'=\\mathbf{f}(t, \\mathbf{y}),$$\n",
    "kjer so podani dodatni (začetni) pogoji:\n",
    "$$\\mathbf{y}(\\mathbf{a})=\\boldsymbol{\\alpha}.$$\n",
    "Poudariti je treba, da gre zgoraj za vektorski zapis sistema navadnih diferencialnih enačb prvega reda. $\\mathbf{y}$ predstavlja vektor spremenljivk, $t$ neodvisno spremenljivko (ni nujno to vedno čas) in $\\mathbf{f}$ vektor funkcij. "
   ]
  },
  {
   "cell_type": "markdown",
   "metadata": {
    "slideshow": {
     "slide_type": "subslide"
    }
   },
   "source": [
    "\n",
    "## Zapis (ene) diferencialna enačba"
   ]
  },
  {
   "cell_type": "markdown",
   "metadata": {},
   "source": [
    "Eno diferencialno enačbo prvega reda bi zapisali tako:\n",
    "$$y'=f(t, y),$$\n",
    "kjer je podan dodatni pogoj:\n",
    "$$y(a)=\\alpha.$$\n",
    "\n",
    "Opomba: $f(t, y)$ je znana funkcija in $y'=dy/dx$."
   ]
  },
  {
   "cell_type": "markdown",
   "metadata": {
    "slideshow": {
     "slide_type": "subslide"
    }
   },
   "source": [
    "## Preoblikovanje diferencialne enačbe višjega reda v sistem diferencialnih enačb prvega reda"
   ]
  },
  {
   "cell_type": "markdown",
   "metadata": {},
   "source": [
    "Navadno diferencialno enačbo poljubnega reda:\n",
    "$$y^{(n)}=f(t, y, y', y'',\\dots,y^{(n-1)}),$$\n",
    "lahko vedno preoblikujemo v sistem diferencialnih enačb prvega reda! "
   ]
  },
  {
   "cell_type": "markdown",
   "metadata": {
    "slideshow": {
     "slide_type": "subslide"
    }
   },
   "source": [
    "To naredimo uvedbo novih spremenljivk $y_0, y_1,\\dots, y_{n-1}$:\n",
    "$$\\begin{pmatrix}\n",
    "y_0\\\\\n",
    "y_1\\\\\n",
    "\\vdots\\\\\n",
    "y_{n-2}\\\\\n",
    "y_{n-1}\\\\\n",
    "\\end{pmatrix}=\n",
    "\\begin{pmatrix}\n",
    "y\\\\\n",
    "y'\\\\\n",
    "\\vdots\\\\\n",
    "y^{n-2}\\\\\n",
    "y^{n-1}\\\\\n",
    "\\end{pmatrix}.\n",
    "$$\n",
    "Zgornji izraz odvajamo po neodvisni spremenljivki $t$:\n",
    "$$\\begin{pmatrix}\n",
    "y_0'\\\\\n",
    "y_1'\\\\\n",
    "\\vdots\\\\\n",
    "y_{n-2}'\\\\\n",
    "y_{n-1}'\\\\\n",
    "\\end{pmatrix}=\n",
    "\\begin{pmatrix}\n",
    "y'\\\\\n",
    "y''\\\\\n",
    "\\vdots\\\\\n",
    "y^{n-1}\\\\\n",
    "y^{n}\\\\\n",
    "\\end{pmatrix}\n",
    "$$"
   ]
  },
  {
   "cell_type": "markdown",
   "metadata": {
    "slideshow": {
     "slide_type": "subslide"
    }
   },
   "source": [
    "Sedaj ugotovimo, da velja $y^{(i)}=y_i$ in tudi  $y_n=y^{(n)}=f(t, y_0,\\dots, y_{n-1})$. Zapišemo torej: $$\n",
    "\\begin{pmatrix}\n",
    "y_0'\\\\\n",
    "y_1'\\\\\n",
    "\\vdots\\\\\n",
    "y_{n-2}'\\\\\n",
    "y_{n-1}'\\\\\n",
    "\\end{pmatrix}=\n",
    "\\begin{pmatrix}\n",
    "y_1\\\\\n",
    "y_2\\\\\n",
    "\\vdots\\\\\n",
    "y_{n-1}\\\\\n",
    "f(t, y_0,\\dots, y_{n-1})\\\\\n",
    "\\end{pmatrix}.\n",
    "$$"
   ]
  },
  {
   "cell_type": "markdown",
   "metadata": {
    "slideshow": {
     "slide_type": "subslide"
    }
   },
   "source": [
    "\n",
    "Zgornji izraz lahko zapišemo tudi vektorsko:\n",
    "$$\\mathbf{y}'=\\mathbf{f}(t, \\mathbf{y}).$$\n",
    "Če so dodatni pogoji $\\mathbf{y}(\\mathbf{a})=\\boldsymbol{\\alpha}$ vsi podani pri isti vrednosti $a_i=a$, potem govorimo o *začetnem*, sicer pa o *robnem problemu*. Tukaj si bomo najprej pogledali *začetni problem*."
   ]
  },
  {
   "cell_type": "markdown",
   "metadata": {
    "slideshow": {
     "slide_type": "subslide"
    }
   },
   "source": [
    "### Simbolno reševanje diferencialne enačbe drugega reda"
   ]
  },
  {
   "cell_type": "markdown",
   "metadata": {},
   "source": [
    "Tukaj si bomo pogledali primer prikazan na sliki, kjer je masa $m$ na klancu naklona $\\alpha$. Koeficient trenja je $\\mu$, težnostni pospešek pa $g$. Začetna hitrost je $\\dot y(0\\,\\textrm{s})=v_0$, pomik $y(0\\,\\textrm{s})=0\\,\\textrm{m}$\n",
    "<img src=\"./fig/masa na klancu.png\" width=350>\n",
    "Gibalna enačba (samo za smer $y$) je definirana glede na II. Newtonov zakon (glejte diagram sil na prosto telo)."
   ]
  },
  {
   "cell_type": "markdown",
   "metadata": {
    "slideshow": {
     "slide_type": "subslide"
    }
   },
   "source": [
    "#### Izpeljava gibalne enačbe"
   ]
  },
  {
   "cell_type": "code",
   "execution_count": 2,
   "metadata": {
    "collapsed": false
   },
   "outputs": [
    {
     "data": {
      "image/png": "[encoded data removed]",
      "text/latex": [
       "$$m \\frac{d^{2}}{d t^{2}}  y{\\left (t \\right )} = - g m \\mu \\cos{\\left (\\alpha \\right )} + g m \\sin{\\left (\\alpha \\right )}$$"
      ],
      "text/plain": [
       "    2                                   \n",
       "   d                                    \n",
       "m⋅───(y(t)) = -g⋅m⋅μ⋅cos(α) + g⋅m⋅sin(α)\n",
       "    2                                   \n",
       "  dt                                    "
      ]
     },
     "execution_count": 2,
     "metadata": {},
     "output_type": "execute_result"
    }
   ],
   "source": [
    "m, mu, g, alpha, y, t, v0 = sym.symbols('m, mu, g, alpha, y, t, v0')\n",
    "eq = sym.Eq(m*y(t).diff(t,2),  m*g*sym.sin(alpha)-m*g*sym.cos(alpha)*mu)\n",
    "eq"
   ]
  },
  {
   "cell_type": "markdown",
   "metadata": {
    "slideshow": {
     "slide_type": "subslide"
    }
   },
   "source": [
    "Rešitev enačbe je:"
   ]
  },
  {
   "cell_type": "code",
   "execution_count": 3,
   "metadata": {
    "collapsed": false
   },
   "outputs": [
    {
     "data": {
      "image/png": "[encoded data removed]",
      "text/latex": [
       "$$y{\\left (t \\right )} = C_{1} + C_{2} t + \\frac{g t^{2}}{2} \\left(- \\mu \\cos{\\left (\\alpha \\right )} + \\sin{\\left (\\alpha \\right )}\\right)$$"
      ],
      "text/plain": [
       "                      2                     \n",
       "                   g⋅t ⋅(-μ⋅cos(α) + sin(α))\n",
       "y(t) = C₁ + C₂⋅t + ─────────────────────────\n",
       "                               2            "
      ]
     },
     "execution_count": 3,
     "metadata": {},
     "output_type": "execute_result"
    }
   ],
   "source": [
    "dsol = sym.dsolve(eq, y(t))\n",
    "dsol"
   ]
  },
  {
   "cell_type": "markdown",
   "metadata": {
    "slideshow": {
     "slide_type": "subslide"
    }
   },
   "source": [
    "Da določimo $C_1$ in $C_2$ vstavimo $t=0\\,\\textrm{s}$:"
   ]
  },
  {
   "cell_type": "code",
   "execution_count": 4,
   "metadata": {
    "collapsed": false
   },
   "outputs": [
    {
     "data": {
      "image/png": "[encoded data removed]",
      "text/latex": [
       "$$C_{1}$$"
      ],
      "text/plain": [
       "C₁"
      ]
     },
     "execution_count": 4,
     "metadata": {},
     "output_type": "execute_result"
    }
   ],
   "source": [
    "dsol.args[1].subs(t, 0)"
   ]
  },
  {
   "cell_type": "markdown",
   "metadata": {},
   "source": [
    "nato odvajamo po času in ponovno vstavimo $t=0\\,\\textrm{s}$:"
   ]
  },
  {
   "cell_type": "code",
   "execution_count": 5,
   "metadata": {
    "collapsed": false
   },
   "outputs": [
    {
     "data": {
      "image/png": "[encoded data removed]",
      "text/latex": [
       "$$C_{2}$$"
      ],
      "text/plain": [
       "C₂"
      ]
     },
     "execution_count": 5,
     "metadata": {},
     "output_type": "execute_result"
    }
   ],
   "source": [
    "dsol.args[1].diff(t).subs(t, 0)"
   ]
  },
  {
   "cell_type": "markdown",
   "metadata": {
    "slideshow": {
     "slide_type": "subslide"
    }
   },
   "source": [
    "Glede na začetne pogoje smo torej določili konstante:"
   ]
  },
  {
   "cell_type": "code",
   "execution_count": 6,
   "metadata": {
    "collapsed": false
   },
   "outputs": [],
   "source": [
    "zacetni_pogoji = {'C1': 0, 'C2': v0}"
   ]
  },
  {
   "cell_type": "markdown",
   "metadata": {},
   "source": [
    "Sledi rešitev:"
   ]
  },
  {
   "cell_type": "code",
   "execution_count": 7,
   "metadata": {
    "collapsed": false
   },
   "outputs": [
    {
     "data": {
      "image/png": "[encoded data removed]",
      "text/latex": [
       "$$\\frac{g t^{2}}{2} \\left(- \\mu \\cos{\\left (\\alpha \\right )} + \\sin{\\left (\\alpha \\right )}\\right) + t v_{0}$$"
      ],
      "text/plain": [
       "   2                            \n",
       "g⋅t ⋅(-μ⋅cos(α) + sin(α))       \n",
       "───────────────────────── + t⋅v₀\n",
       "            2                   "
      ]
     },
     "execution_count": 7,
     "metadata": {},
     "output_type": "execute_result"
    }
   ],
   "source": [
    "resitev = dsol.args[1].subs(zacetni_pogoji)\n",
    "resitev"
   ]
  },
  {
   "cell_type": "markdown",
   "metadata": {
    "slideshow": {
     "slide_type": "subslide"
    }
   },
   "source": [
    "Pripravimo si funkciji za numerični klic:"
   ]
  },
  {
   "cell_type": "code",
   "execution_count": 8,
   "metadata": {
    "collapsed": false
   },
   "outputs": [
    {
     "name": "stdout",
     "output_type": "stream",
     "text": [
      "Pomik pri 0s: 0m\n",
      "Hitrost pri 0s: 1m/s\n"
     ]
    }
   ],
   "source": [
    "podatki = {mu: 0.3, alpha: 15*np.pi/180, v0: 1., g: 9.81} #tukaj uporabimo np.pi, da imamo numerično vrednost\n",
    "\n",
    "pomik = sym.lambdify(t, resitev.subs(podatki), 'numpy')\n",
    "hitrost = sym.lambdify(t, resitev.diff(t).subs(podatki), 'numpy')\n",
    "\n",
    "print('Pomik pri 0s: {:g}m'.format(pomik(0)))\n",
    "print('Hitrost pri 0s: {:g}m/s'.format(hitrost(0)))"
   ]
  },
  {
   "cell_type": "markdown",
   "metadata": {
    "slideshow": {
     "slide_type": "subslide"
    }
   },
   "source": [
    "Pripravimo prikaz:"
   ]
  },
  {
   "cell_type": "code",
   "execution_count": 9,
   "metadata": {
    "collapsed": false
   },
   "outputs": [],
   "source": [
    "cas = np.linspace(0, 4, 100)\n",
    "cas2 = np.linspace(0, 4, 5)"
   ]
  },
  {
   "cell_type": "code",
   "execution_count": 10,
   "metadata": {
    "collapsed": false
   },
   "outputs": [],
   "source": [
    "def slika():\n",
    "    plt.plot(cas, pomik(cas), 'b', label='Pomik [m]')\n",
    "    plt.plot(cas, hitrost(cas), 'r', label='Hitrost [m/s]')\n",
    "    plt.plot(cas2, pomik(cas2), 'bo', label='Pomik - velik korak[m]')\n",
    "    plt.plot(cas2, hitrost(cas2), 'ro', label='Hitrost - velik korak [m/s]')\n",
    "    plt.xlabel('Čas [s]')\n",
    "    plt.ylabel('Pomik [m] / Hitrost [m/s]')\n",
    "    plt.legend(loc=(1.01, 0));\n",
    "    plt.show()"
   ]
  },
  {
   "cell_type": "code",
   "execution_count": 11,
   "metadata": {
    "collapsed": false,
    "slideshow": {
     "slide_type": "subslide"
    }
   },
   "outputs": [
    {
     "data": {
      "image/png": "[encoded data removed]",
      "text/plain": [
       "<matplotlib.figure.Figure at 0x21d5578a668>"
      ]
     },
     "metadata": {},
     "output_type": "display_data"
    }
   ],
   "source": [
    "slika()"
   ]
  },
  {
   "cell_type": "markdown",
   "metadata": {
    "slideshow": {
     "slide_type": "subslide"
    }
   },
   "source": [
    "#### Simbolno preoblikovanje diferencialne enačbe v sistem diferencialnih enačb prvega reda"
   ]
  },
  {
   "cell_type": "markdown",
   "metadata": {},
   "source": [
    "Spomnimo se izvorne diferencialne enačbe:"
   ]
  },
  {
   "cell_type": "code",
   "execution_count": 12,
   "metadata": {
    "collapsed": false
   },
   "outputs": [
    {
     "data": {
      "image/png": "[encoded data removed]",
      "text/latex": [
       "$$m \\frac{d^{2}}{d t^{2}}  y{\\left (t \\right )} = - g m \\mu \\cos{\\left (\\alpha \\right )} + g m \\sin{\\left (\\alpha \\right )}$$"
      ],
      "text/plain": [
       "    2                                   \n",
       "   d                                    \n",
       "m⋅───(y(t)) = -g⋅m⋅μ⋅cos(α) + g⋅m⋅sin(α)\n",
       "    2                                   \n",
       "  dt                                    "
      ]
     },
     "execution_count": 12,
     "metadata": {},
     "output_type": "execute_result"
    }
   ],
   "source": [
    "eq"
   ]
  },
  {
   "cell_type": "markdown",
   "metadata": {
    "slideshow": {
     "slide_type": "subslide"
    }
   },
   "source": [
    "Definirajmo nove spremenljivke in pripravimo funkcijo $f$:"
   ]
  },
  {
   "cell_type": "code",
   "execution_count": 13,
   "metadata": {
    "collapsed": false
   },
   "outputs": [
    {
     "data": {
      "image/png": "[encoded data removed]",
      "text/latex": [
       "$$g \\left(- \\mu \\cos{\\left (\\alpha \\right )} + \\sin{\\left (\\alpha \\right )}\\right)$$"
      ],
      "text/plain": [
       "g⋅(-μ⋅cos(α) + sin(α))"
      ]
     },
     "execution_count": 13,
     "metadata": {},
     "output_type": "execute_result"
    }
   ],
   "source": [
    "y0, y1 = sym.symbols('y:2')\n",
    "f = sym.simplify(eq.args[1]/m)\n",
    "f"
   ]
  },
  {
   "cell_type": "markdown",
   "metadata": {
    "slideshow": {
     "slide_type": "subslide"
    }
   },
   "source": [
    "Povežimo sedaj nove spremenljivke.\n",
    "\n",
    "$d y_0/dt$ naj bo enako $y_1$:"
   ]
  },
  {
   "cell_type": "code",
   "execution_count": 14,
   "metadata": {
    "collapsed": false
   },
   "outputs": [
    {
     "data": {
      "image/png": "[encoded data removed]",
      "text/latex": [
       "$$\\frac{d}{d t} \\operatorname{y_{0}}{\\left (t \\right )} = \\operatorname{y_{1}}{\\left (t \\right )}$$"
      ],
      "text/plain": [
       "d                \n",
       "──(y₀(t)) = y₁(t)\n",
       "dt               "
      ]
     },
     "execution_count": 14,
     "metadata": {},
     "output_type": "execute_result"
    }
   ],
   "source": [
    "eq1 = sym.Eq(y0(t).diff(t), y1(t))\n",
    "eq1"
   ]
  },
  {
   "cell_type": "markdown",
   "metadata": {
    "slideshow": {
     "slide_type": "-"
    }
   },
   "source": [
    "Odvod $d y_1/dt$ (v bistvu je to $y''$) naj bo enak funkciji $f$:"
   ]
  },
  {
   "cell_type": "code",
   "execution_count": 15,
   "metadata": {
    "collapsed": false
   },
   "outputs": [
    {
     "data": {
      "image/png": "[encoded data removed]",
      "text/latex": [
       "$$\\frac{d}{d t} \\operatorname{y_{1}}{\\left (t \\right )} = g \\left(- \\mu \\cos{\\left (\\alpha \\right )} + \\sin{\\left (\\alpha \\right )}\\right)$$"
      ],
      "text/plain": [
       "d                                 \n",
       "──(y₁(t)) = g⋅(-μ⋅cos(α) + sin(α))\n",
       "dt                                "
      ]
     },
     "execution_count": 15,
     "metadata": {},
     "output_type": "execute_result"
    }
   ],
   "source": [
    "eq2 = sym.Eq(y1(t).diff(t), f)\n",
    "eq2"
   ]
  },
  {
   "cell_type": "markdown",
   "metadata": {
    "slideshow": {
     "slide_type": "subslide"
    }
   },
   "source": [
    "Če sedaj zgornje izraze zapišemo v vektorski obliki:\n",
    "$$\\mathbf{y}'=\\mathbf{f}(t, \\mathbf{y}).$$"
   ]
  },
  {
   "cell_type": "code",
   "execution_count": 16,
   "metadata": {
    "collapsed": false
   },
   "outputs": [
    {
     "data": {
      "image/png": "[encoded data removed]",
      "text/latex": [
       "$$\\left [ \\frac{d}{d t} \\operatorname{y_{0}}{\\left (t \\right )}, \\quad \\frac{d}{d t} \\operatorname{y_{1}}{\\left (t \\right )}\\right ]$$"
      ],
      "text/plain": [
       "⎡d          d        ⎤\n",
       "⎢──(y₀(t)), ──(y₁(t))⎥\n",
       "⎣dt         dt       ⎦"
      ]
     },
     "execution_count": 16,
     "metadata": {},
     "output_type": "execute_result"
    }
   ],
   "source": [
    "y_odvod = [y0(t).diff(t), y1(t).diff(t)]\n",
    "y_odvod"
   ]
  },
  {
   "cell_type": "code",
   "execution_count": 17,
   "metadata": {
    "collapsed": false
   },
   "outputs": [
    {
     "data": {
      "image/png": "[encoded data removed]",
      "text/latex": [
       "$$\\left [ \\operatorname{y_{1}}{\\left (t \\right )}, \\quad g \\left(- \\mu \\cos{\\left (\\alpha \\right )} + \\sin{\\left (\\alpha \\right )}\\right)\\right ]$$"
      ],
      "text/plain": [
       "[y₁(t), g⋅(-μ⋅cos(α) + sin(α))]"
      ]
     },
     "execution_count": 17,
     "metadata": {},
     "output_type": "execute_result"
    }
   ],
   "source": [
    "f_vec = [y1(t), f]\n",
    "f_vec"
   ]
  },
  {
   "cell_type": "markdown",
   "metadata": {
    "slideshow": {
     "slide_type": "slide"
    }
   },
   "source": [
    "# 2. Numerično reševanje diferencialnih enačb: Eulerjeva metoda"
   ]
  },
  {
   "cell_type": "markdown",
   "metadata": {},
   "source": [
    "**Eksplicitna Eulerjeva metoda** temelji na preprostem razvoju Taylorjeve vrste:\n",
    "$$\\mathbf{y}(t+h)=\\mathbf{y}(t)+\\mathbf{y}'(t, \\mathbf{y}(t))\\,h + \n",
    "\\mathcal{O}(h^2)$$"
   ]
  },
  {
   "cell_type": "markdown",
   "metadata": {},
   "source": [
    "Če zanemarimo odvode drugega in višjih redov, potem lahko ob znanih vrednostih $\\mathbf{y}(t)$ in odvodu $\\mathbf{y}'(t)$ ocenimo vrednosti pri $t+h$. Ko imamo enkrat znane vrednosti pri $t+h$, ponovimo postopek!"
   ]
  },
  {
   "cell_type": "markdown",
   "metadata": {},
   "source": [
    "Glede na zgornji razvoj Taylorjeve vrste, je napaka Eulerjeve metode na vsakem koraku reda $\\mathcal{O}(h^2)$. Ker na intervalu od $x_0$ do $x_n$ tako napako naredimo $n$ krat, je kumulativna napaka $n\\,\\mathcal{O}(h^2)=\\frac{t_n-t_0}{h}\\,\\mathcal{O}(h^2)=\\mathcal{O}(h)$."
   ]
  },
  {
   "cell_type": "markdown",
   "metadata": {
    "slideshow": {
     "slide_type": "subslide"
    }
   },
   "source": [
    "Ker ocenjujemo vrednost pri $t+h$ glede na stanje pri $t$ zgornjo metodo štejemo med eksplicitne metode reševanja diferencialnih enačb.\n",
    "\n",
    "V kolikor bi tudi na desni strani imeli $t+h$, bi govorili o **implicitni Eulerjevi metodi**:\n",
    "$$\\mathbf{y}(t+h)=\\mathbf{y}(t)+\\mathbf{y}'(t+h,  \\mathbf{y}(t+h))\\,h + \n",
    "\\mathcal{O}(h^2).$$\n",
    "Implicitni pristop je načeloma brezpogojno stabilen, vendar zahteva iskanje ničle nelinearne enačbe.\n",
    "\n",
    "Opomba: pri eksplicitnem pristopu se pogosto se pridevnik *eksplicitna* izpusti."
   ]
  },
  {
   "cell_type": "markdown",
   "metadata": {
    "slideshow": {
     "slide_type": "subslide"
    }
   },
   "source": [
    "## Numerična implementacija"
   ]
  },
  {
   "cell_type": "code",
   "execution_count": 18,
   "metadata": {
    "collapsed": true
   },
   "outputs": [],
   "source": [
    "def euler(F, t, y, *args, **kwargs):\n",
    "    \"\"\"\n",
    "    Eulerjeva metoda za reševanje sistema diferencialnih enačb: y' = F(t, y)\n",
    "    \n",
    "    :param F:  funkcija, ki jo kličemo s parametroma t in y in vrne seznam \n",
    "               vrednosti prvega odvoda\n",
    "    :param t: časovni vektor\n",
    "    :param y:  seznam začetnih vrednosti\n",
    "    :param args: dodatni argumenti funkcije F (brezimenski)\n",
    "    :param kwargs: dodatni argumenti funkcije F (poimenovani)\n",
    "    :return Y: vrne np.array ``y`` vrednosti.\n",
    "    \"\"\"\n",
    "    Y = np.zeros((t.shape[0], len(y)))\n",
    "    Y[0] = y\n",
    "    h = t[1]-t[0]\n",
    "    for i, ti in enumerate(t[1:]):\n",
    "        y += F(ti, y, *args, **kwargs)*h # tukaj je bistvo Eulerjeve metode\n",
    "        Y[i+1] = y \n",
    "    return Y"
   ]
  },
  {
   "cell_type": "markdown",
   "metadata": {
    "slideshow": {
     "slide_type": "subslide"
    }
   },
   "source": [
    "Spomnimo se sedaj ``f_vec``:"
   ]
  },
  {
   "cell_type": "code",
   "execution_count": 19,
   "metadata": {
    "collapsed": false
   },
   "outputs": [
    {
     "data": {
      "image/png": "[encoded data removed]",
      "text/latex": [
       "$$\\left [ \\operatorname{y_{1}}{\\left (t \\right )}, \\quad g \\left(- \\mu \\cos{\\left (\\alpha \\right )} + \\sin{\\left (\\alpha \\right )}\\right)\\right ]$$"
      ],
      "text/plain": [
       "[y₁(t), g⋅(-μ⋅cos(α) + sin(α))]"
      ]
     },
     "execution_count": 19,
     "metadata": {},
     "output_type": "execute_result"
    }
   ],
   "source": [
    "f_vec"
   ]
  },
  {
   "cell_type": "markdown",
   "metadata": {},
   "source": [
    "Če rešujemo numerično, potem je funkcijo $\\mathbf{f}(t, \\mathbf{y})$ zapišemo:"
   ]
  },
  {
   "cell_type": "code",
   "execution_count": 20,
   "metadata": {
    "collapsed": false
   },
   "outputs": [
    {
     "data": {
      "image/png": "[encoded data removed]",
      "text/latex": [
       "$$-0.3037048743129991$$"
      ],
      "text/plain": [
       "-0.3037048743129991"
      ]
     },
     "execution_count": 20,
     "metadata": {},
     "output_type": "execute_result"
    }
   ],
   "source": [
    "pospesek = float((eq.args[1]/m).simplify().subs(podatki))\n",
    "pospesek #raziščite zakaj smo tukaj tako definirali! namig: type(pospesek)"
   ]
  },
  {
   "cell_type": "code",
   "execution_count": 21,
   "metadata": {
    "collapsed": false,
    "slideshow": {
     "slide_type": "subslide"
    }
   },
   "outputs": [],
   "source": [
    "def F_klada(t, y):\n",
    "    return np.array([y[1], pospesek],dtype=float)"
   ]
  },
  {
   "cell_type": "markdown",
   "metadata": {},
   "source": [
    "Preverimo funkcijo pri začetnem času $t=0\\,$s in pri začetnih pogoji $[y_0, y_1]=[0, v_0]$:"
   ]
  },
  {
   "cell_type": "code",
   "execution_count": 22,
   "metadata": {
    "collapsed": false
   },
   "outputs": [
    {
     "data": {
      "text/plain": [
       "array([ 0.,  1.])"
      ]
     },
     "execution_count": 22,
     "metadata": {},
     "output_type": "execute_result"
    }
   ],
   "source": [
    "y_zacetni_pogoji = np.array([0, podatki[v0]])\n",
    "y_zacetni_pogoji"
   ]
  },
  {
   "cell_type": "code",
   "execution_count": 23,
   "metadata": {
    "collapsed": false
   },
   "outputs": [
    {
     "data": {
      "text/plain": [
       "array([ 1.        , -0.30370487])"
      ]
     },
     "execution_count": 23,
     "metadata": {},
     "output_type": "execute_result"
    }
   ],
   "source": [
    "F_klada(0., y_zacetni_pogoji)"
   ]
  },
  {
   "cell_type": "markdown",
   "metadata": {
    "slideshow": {
     "slide_type": "subslide"
    }
   },
   "source": [
    "Uporabimo sedaj Eulerjevo metodo:"
   ]
  },
  {
   "cell_type": "code",
   "execution_count": 24,
   "metadata": {
    "collapsed": false
   },
   "outputs": [
    {
     "data": {
      "text/plain": [
       "array([[ 0.        ,  1.        ],\n",
       "       [ 1.        ,  0.69629513],\n",
       "       [ 1.69629513,  0.39259025],\n",
       "       [ 2.08888538,  0.08888538],\n",
       "       [ 2.17777075, -0.2148195 ]])"
      ]
     },
     "execution_count": 24,
     "metadata": {},
     "output_type": "execute_result"
    }
   ],
   "source": [
    "#%%timeit\n",
    "x_Eu = np.linspace(0, 4, 5)\n",
    "y_Eu = euler(F_klada, x_Eu, np.array([0, 1.]))\n",
    "y_Eu"
   ]
  },
  {
   "cell_type": "markdown",
   "metadata": {
    "slideshow": {
     "slide_type": "subslide"
    }
   },
   "source": [
    "Prikažemo in primerjamo z analitično rešitvijo:"
   ]
  },
  {
   "cell_type": "code",
   "execution_count": 25,
   "metadata": {
    "collapsed": false
   },
   "outputs": [],
   "source": [
    "def narisi_euler(n=5):\n",
    "    x_Eu = np.linspace(0, 4, n)\n",
    "    y_Eu = euler(F_klada, x_Eu, np.array([0, 1.]))\n",
    "    plt.title('Eulerjeva metoda s korakom $h={:g}$'.format(x_Eu[1]-x_Eu[0]))\n",
    "    plt.plot(cas, pomik(cas), 'b', label='Pomik - analitično [m]')\n",
    "    plt.plot(cas, hitrost(cas), 'r', label='Hitrost - analitično [m/s]')\n",
    "    plt.plot(x_Eu, y_Eu[:, 0], 'b.', label='Pomik - Euler [m]')\n",
    "    plt.plot(x_Eu, y_Eu[:, 1], 'r.', label='Hitrost - Euler [m/s]')\n",
    "    plt.xlabel('Čas [s]')\n",
    "    plt.ylabel('Pomik [m] / Hitrost [m/s]')\n",
    "    plt.ylim(-0.5, 2.5)\n",
    "    plt.legend(loc=(1.01, 0))\n",
    "    plt.show();"
   ]
  },
  {
   "cell_type": "code",
   "execution_count": 26,
   "metadata": {
    "collapsed": false,
    "slideshow": {
     "slide_type": "subslide"
    }
   },
   "outputs": [
    {
     "data": {
      "image/png": "[encoded data removed]",
      "text/plain": [
       "<matplotlib.figure.Figure at 0x21d5580c7b8>"
      ]
     },
     "metadata": {},
     "output_type": "display_data"
    }
   ],
   "source": [
    "interact(narisi_euler, h=(0.1, 1, 0.1));"
   ]
  },
  {
   "cell_type": "markdown",
   "metadata": {
    "slideshow": {
     "slide_type": "subslide"
    }
   },
   "source": [
    "# 3. Metoda Runge-Kutta 2. reda"
   ]
  },
  {
   "cell_type": "markdown",
   "metadata": {},
   "source": [
    "Eulerjeva metoda je prvega reda (prvega reda je namreč globalna napaka $\\mathcal{O}(h)$). Če bi želeli izpeljati red napake drugega reda, bi si morali pomagati z razvojem $\\mathbf{y}(t+h)$ v Taylorjevo vrsto, kjer bomo zanemarili tretji in višji odvod (lokalna napaka koraka bo tako reda 3, globalna pa reda 2):\n",
    "$$\\mathbf{y}(t+h)=\\mathbf{y}(t)+\\mathbf{y}'(t)\\,h + \\frac{1}{2}\\mathbf{y}''(t)\\,h^2.$$"
   ]
  },
  {
   "cell_type": "markdown",
   "metadata": {
    "slideshow": {
     "slide_type": "subslide"
    }
   },
   "source": [
    "Uporabimo zamenjavi $\\mathbf{y}'(t)=\\mathbf{f}(t,\\mathbf{y})$ in $\\mathbf{y}''(t)=\\mathbf{f}'(t,\\mathbf{y})$:\n",
    "$$\\mathbf{y}(t+h)=\\mathbf{y}(t)+\\mathbf{f}(t,\\mathbf{y})\\,h + \\frac{1}{2}\\mathbf{f}'(t,\\mathbf{y})\\,h^2.$$\n",
    "\n",
    "Ker je vektor $\\mathbf{f}(t,\\mathbf{y})$ odvisen od neodvisne $t$ in odvisne spremenljivke $\\mathbf{y}$, moramo uporabiti pri odvajanju verižno pravilo:\n",
    "$$\\mathbf{f}'(t,\\mathbf{y})=\\frac{\\partial \\mathbf{f}}{\\partial t}+\\sum_i^{n-1}\\frac{\\partial \\mathbf{f}}{\\partial y_i}\\,\\underbrace{\\frac{\\partial y_i}{\\partial t}}_{y_i'}\n",
    "=\\frac{\\partial \\mathbf{f}}{\\partial t}+\\sum_i^{n-1}\\frac{\\partial \\mathbf{f}}{\\partial y_i}\\,{f_i(t, \\mathbf{y})},$$\n",
    "kjer smo indeks $i$ uporabili za zapis posamezne diferencialne enačbe prvega reda $y_i$."
   ]
  },
  {
   "cell_type": "markdown",
   "metadata": {
    "slideshow": {
     "slide_type": "subslide"
    }
   },
   "source": [
    "Končno lahko razvoj v Taylorjevo vrsto zapišemo:\n",
    "$$\\mathbf{y}(t+h)_{\\textrm{Taylor}}=\\mathbf{y}(t)+\\mathbf{f}(t,\\mathbf{y})\\,h + \\frac{1}{2}\\,{\\LARGE(}\n",
    "\\frac{\\partial \\mathbf{f}}{\\partial t}+\\sum_i^{n-1}\\frac{\\partial \\mathbf{f}}{\\partial y_i}\\,{f_i(t, \\mathbf{y})}\n",
    "{\\LARGE)}\\,h^2.$$\n",
    "\n",
    "Kakor je razvidno iz zgornjega izraza, potrebujemo dodatne odvode. To predstavlja določeno težavo, ki se ji lahko izognemo na različne načine; v nadaljevanji si bomo pogledali *Runge-Kutta* pristop."
   ]
  },
  {
   "cell_type": "markdown",
   "metadata": {
    "slideshow": {
     "slide_type": "subslide"
    }
   },
   "source": [
    "#### Ideja Runge-Kutta pristopa"
   ]
  },
  {
   "cell_type": "markdown",
   "metadata": {},
   "source": [
    "Zgornjo dilemo metoda *Runge-Kutta* (razvita leta 1901) rešuje z idejo, ki smo jo sicer že srečali pri Gaussovi integraciji: rešitev poskuša najti s pravilno uteženo dodatno vrednostjo funkcije $\\mathbf{f}$:\n",
    "\n",
    "$$\\mathbf{y}(t+h)_{\\textrm{Runge-Kutta}}=\\mathbf{y}(t)+c_0\\,\\mathbf{f}\\left(t,\\mathbf{y}\\right)\\,h +c_1\n",
    "\\underbrace{\\mathbf{f}{\\large(}t+p\\,h,\\mathbf{y}+q\\,h\\,\\mathbf{f}(t,\\mathbf{y}){\\large)}}_{A}\\,h.$$"
   ]
  },
  {
   "cell_type": "markdown",
   "metadata": {},
   "source": [
    "Opomba: če bi v zgornjem izrazu uporabili $c_1=0$, bi izpeljali metodo prvega reda, ker pa uporabimo dodatno vrednost, bomo izpeljali metodo drugega reda. "
   ]
  },
  {
   "cell_type": "markdown",
   "metadata": {
    "slideshow": {
     "slide_type": "subslide"
    }
   },
   "source": [
    "Iskanje neznanih konstant $c_0$, $c_1$, $p$, $q$ nadaljujemo z zapisom $A$ v obliki Taylorjeve vrste prvega reda:\n",
    "$$\\mathbf{f}{\\large(}t+p\\,h,\\mathbf{y}+q\\,h\\,\\mathbf{f}(t,\\mathbf{y}){\\large)}=\n",
    "\\underbrace{\n",
    "\\mathbf{f}{\\large(}t,\\mathbf{y}{\\large)}+\n",
    "\\frac{\\partial \\mathbf{f}}{\\partial t}\\,p\\,h+\n",
    "q\\,h\\,\\sum_i^{n-1}\\frac{\\partial \\mathbf{f}}{\\partial y_i}\\,f_i(t, \\mathbf{y})\n",
    "}_{A}$$"
   ]
  },
  {
   "cell_type": "markdown",
   "metadata": {
    "slideshow": {
     "slide_type": "subslide"
    }
   },
   "source": [
    "Vstavimo sedaj izpeljani $A$ nazaj v izvorno idejo:\n",
    "$$\\mathbf{y}(t+h)_{\\textrm{Runge-Kutta}}=\\mathbf{y}(t)+c_0\\,\\mathbf{f}\\left(t,\\mathbf{y}\\right)\\,h +c_1\n",
    "{\\LARGE(}\n",
    "\\mathbf{f}{\\large(}t,\\mathbf{y}{\\large)}+\n",
    "\\frac{\\partial \\mathbf{f}}{\\partial t}\\,p\\,h+\n",
    "q\\,h\\,\\sum_i^{n-1}\\frac{\\partial \\mathbf{f}}{\\partial y_i}\\,f_i(t, \\mathbf{y})\n",
    "{\\LARGE)}\n",
    "\\,h.$$"
   ]
  },
  {
   "cell_type": "markdown",
   "metadata": {
    "slideshow": {
     "slide_type": "subslide"
    }
   },
   "source": [
    "Nadaljujemo z izpeljevanjem in enačbo preoblikujemo, da bo podobna zgoraj izpeljani s Taylorjevo vrsto $\\mathbf{y}(t+h)_{\\textrm{Taylor}}$:"
   ]
  },
  {
   "cell_type": "markdown",
   "metadata": {},
   "source": [
    "$$\\mathbf{y}(t+h)_{\\textrm{Runge-Kutta}}=\\mathbf{y}(t)+(c_0+c1)\\,\\mathbf{f}\\left(t,\\mathbf{y}\\right)\\,h +\\frac{1}{2}\n",
    "{\\LARGE(}\n",
    "\\frac{\\partial \\mathbf{f}}{\\partial t}\\,2\\,c_1\\,p+\n",
    "2\\,c_1\\,q\\,\\sum_i^{n-1}\\frac{\\partial \\mathbf{f}}{\\partial y_i}\\,f_i(t, \\mathbf{y})\n",
    "{\\LARGE)}\n",
    "\\,h^2.$$\n"
   ]
  },
  {
   "cell_type": "markdown",
   "metadata": {
    "slideshow": {
     "slide_type": "subslide"
    }
   },
   "source": [
    "Primerjamo sedaj z zgoraj izpeljanim izrazom:\n",
    "$$\\mathbf{y}(t+h)_{\\textrm{Taylor}}=\\mathbf{y}(t)+\\mathbf{f}(t,\\mathbf{y})\\,h + \\frac{1}{2}\\,{\\LARGE(}\n",
    "\\frac{\\partial \\mathbf{f}}{\\partial t}+\\sum_i^{n-1}\\frac{\\partial \\mathbf{f}}{\\partial y_i}\\,{f_i(t, \\mathbf{y})}\n",
    "{\\LARGE)}\\,h^2.$$\n"
   ]
  },
  {
   "cell_type": "markdown",
   "metadata": {},
   "source": [
    "In ugotovimo, da za enakost mora veljati:\n",
    "$$c_0+c_1=1,\\qquad 2\\,c_1\\,p=1,\\qquad 2\\,c_1\\,q=1.$$\n",
    "Imamo torej tri enačbe in štiri neznanke. Eno od konstant si tako lahko poljubno izmislimo in s tem definiramo ostale tri. Če si na primer izmislimo $c_0=0$, bi to imenovali *spremenjena Eulerjeva metoda* in bi ostali parametri bili: $c_1=1$, $p=q=1/2$. Izbira parametrov nima bistvenega vpliva; Runge-Kutta metodo drugega reda tudi zelo redko uporabljamo; tukaj smo si jo pogledal predvsem zato, da smo spoznali postopek."
   ]
  },
  {
   "cell_type": "markdown",
   "metadata": {
    "slideshow": {
     "slide_type": "slide"
    }
   },
   "source": [
    "# 4. Metoda Runge-Kutta 4. reda"
   ]
  },
  {
   "cell_type": "markdown",
   "metadata": {},
   "source": [
    "Pri metodi Runge-Kutta 2. reda smo spoznali postopek, ki je v principu enak tudi postopku pri metodi 4.reda. Ker pa je ta postopek tukaj bistveno bolj zahteven, si podrobnosti ne bomo pogledali.\n",
    "\n",
    "Tudi pri metodi Runge-Kutta 4.reda rešitev na koncu ni popolnoma določena; Runge-Kutta 4. reda tipično definiramo kot:"
   ]
  },
  {
   "cell_type": "markdown",
   "metadata": {
    "slideshow": {
     "slide_type": "subslide"
    }
   },
   "source": [
    "$$\\mathbf{y}(t+h)_{\\textrm{Runge-Kutta 4}}=\\mathbf{y}(t)+\\frac{1}{6}(\\mathbf{k}_0+2\\,\\mathbf{k}_1+2\\,\\mathbf{k}_2+\\mathbf{k}_3),$$\n",
    "kjer so vektorji konstant:\n",
    "$$\\begin{align}\n",
    "\\mathbf{k}_0&=h\\,\\mathbf{f}(t,\\mathbf{y})\\\\\n",
    "\\mathbf{k}_1&=h\\,\\mathbf{f}\\left(t+\\frac{h}{2},\\mathbf{y}+\\frac{\\mathbf{k}_0}{2}\\right)\\\\\n",
    "\\mathbf{k}_2&=h\\,\\mathbf{f}\\left(t+\\frac{h}{2},\\mathbf{y}+\\frac{\\mathbf{k}_1}{2}\\right)\\\\\n",
    "\\mathbf{k}_3&=h\\,\\mathbf{f}\\left(t+h,\\mathbf{y}+\\mathbf{k}_2\\right)\n",
    "\\end{align}\n",
    "$$"
   ]
  },
  {
   "cell_type": "markdown",
   "metadata": {
    "slideshow": {
     "slide_type": "subslide"
    }
   },
   "source": [
    "## Numerična implementacija"
   ]
  },
  {
   "cell_type": "code",
   "execution_count": 27,
   "metadata": {
    "collapsed": false
   },
   "outputs": [],
   "source": [
    "def runge_kutta_4(F, t, y, *args, **kwargs):\n",
    "    \"\"\"\n",
    "    Metoda Runge-Kutta 4. reda za reševanje sistema diferencialnih enačb: y' = F(t, y)\n",
    "    \n",
    "    :param F:  funkcija, ki jo kličemo s parametroma t in y in vrne seznam \n",
    "               vrednosti prvega odvoda\n",
    "    :param t: časovni vektor\n",
    "    :param y:  seznam začetnih vrednosti\n",
    "    :param args: dodatni argumenti funkcije F (brezimenski)\n",
    "    :param kwargs: dodatni argumenti funkcije F (poimenovani)\n",
    "    :return Y: vrne np.array ``y`` vrednosti.\n",
    "    \"\"\"\n",
    "    def RK4(F, t, y, *args, **kwargs):\n",
    "        k0 = h*F(t, y, *args, **kwargs)\n",
    "        k1 = h*F(t + h/2.0, y + k0/2.0, *args, **kwargs)\n",
    "        k2 = h*F(t + h/2.0, y + k1/2.0, *args, **kwargs)\n",
    "        k3 = h*F(t + h, y + k2, *args, **kwargs)\n",
    "        return (k0 + 2.0*k1 + 2.0*k2 + k3)/6.0\n",
    "    \n",
    "    Y = np.zeros((t.shape[0], len(y)))\n",
    "    Y[0] = y\n",
    "    h = t[1]-t[0]\n",
    "\n",
    "    for i, ti in enumerate(t[1:]):\n",
    "        y += RK4(F, ti, y, *args, **kwargs)\n",
    "        Y[i+1] = y \n",
    "        \n",
    "    return Y"
   ]
  },
  {
   "cell_type": "code",
   "execution_count": 28,
   "metadata": {
    "collapsed": false,
    "slideshow": {
     "slide_type": "subslide"
    }
   },
   "outputs": [],
   "source": [
    "#%%timeit\n",
    "x_RK4 = np.linspace(0, 4, 5)\n",
    "y_RK4 = runge_kutta_4(F_klada, x_RK4,  np.array([0, 1.]))"
   ]
  },
  {
   "cell_type": "code",
   "execution_count": 29,
   "metadata": {
    "collapsed": false
   },
   "outputs": [
    {
     "data": {
      "text/plain": [
       "array([  0.00000000e+00,  -3.33066907e-16,  -1.77635684e-15,\n",
       "        -3.99680289e-15,  -7.10542736e-15])"
      ]
     },
     "execution_count": 29,
     "metadata": {},
     "output_type": "execute_result"
    }
   ],
   "source": [
    "pomik(x_RK4)-y_RK4[:, 0]"
   ]
  },
  {
   "cell_type": "code",
   "execution_count": 30,
   "metadata": {
    "collapsed": true
   },
   "outputs": [],
   "source": [
    "def narisi_rk4(n=5, izrisi_euler=False):\n",
    "    x_RK4 = np.linspace(0, 4, n)\n",
    "    y_RK4 = runge_kutta_4(F_klada, x_RK4,  np.array([0, 1.]))\n",
    "    plt.title('Runge-Kutta 4.reda s korakom $h={:g}$'.format(x_RK4[1]-x_RK4[0]))\n",
    "    plt.plot(cas, pomik(cas), 'b', label='Pomik - analitično [m]')\n",
    "    plt.plot(cas, hitrost(cas), 'r', label='Hitrost - analitično [m/s]')\n",
    "    if izrisi_euler:\n",
    "        x_Eu = np.linspace(0, 4, n)\n",
    "        y_Eu = euler(F_klada, x_Eu, np.array([0, 1.]))        \n",
    "        plt.plot(x_Eu, y_Eu[:, 0], 'b.', label='Pomik - Euler [m]')\n",
    "        plt.plot(x_Eu, y_Eu[:, 1], 'r.', label='Hitrost - Euler [m/s]')\n",
    "    plt.plot(x_RK4, y_RK4[:, 0], 'bo', label='Pomik - RK4 [m]')\n",
    "    plt.plot(x_RK4, y_RK4[:, 1], 'ro', label='Hitrost - RK4 [m/s]') \n",
    "    plt.plot(x_RK4, 1e14*np.abs(pomik(x_RK4)-y_RK4[:, 0]), 'k.', label='Napaka pomika $\\\\times 10^{14}$')\n",
    "    plt.xlabel('Čas [s]')\n",
    "    plt.ylabel('Pomik [m] / Hitrost [m/s]')\n",
    "    plt.ylim(-0.5, 2.5)\n",
    "    plt.legend(loc=(1.01, 0))\n",
    "    plt.show();"
   ]
  },
  {
   "cell_type": "code",
   "execution_count": 31,
   "metadata": {
    "collapsed": false,
    "slideshow": {
     "slide_type": "subslide"
    }
   },
   "outputs": [
    {
     "data": {
      "image/png": "[encoded data removed]",
      "text/plain": [
       "<matplotlib.figure.Figure at 0x21d5580c5f8>"
      ]
     },
     "metadata": {},
     "output_type": "display_data"
    }
   ],
   "source": [
    "interact(narisi_rk4);"
   ]
  },
  {
   "cell_type": "markdown",
   "metadata": {
    "slideshow": {
     "slide_type": "slide"
    }
   },
   "source": [
    "# 5. Uporaba ``scipy.integrate.ode``"
   ]
  },
  {
   "cell_type": "markdown",
   "metadata": {},
   "source": [
    "Scipy ima v okviru ``scipy.integrate.ode`` implementiranih več različnih algoritmov za reševanje diferencialnih enačb. Tukaj si bomo podrobneje pogledali najprej različico metode *Runge-Kutta* 4(5) reda. Gre za tako imenovano Dormand–Prince metodo (oznaka ``dopri5``), ki izračuna korak z redom natančnosti 4 in 5 ter razliko uporabi za oceno napake metode 4. reda; napako potem izkoristi za prilagajanje velikosti koraka. Ta metoda je med najpogosteje uporabljenimi. Nekaj več informacij najdete tukaj: http://en.wikipedia.org/wiki/Dormand%E2%80%93Prince_method."
   ]
  },
  {
   "cell_type": "code",
   "execution_count": 32,
   "metadata": {
    "collapsed": false
   },
   "outputs": [],
   "source": [
    "from scipy.integrate import ode, odeint"
   ]
  },
  {
   "cell_type": "markdown",
   "metadata": {
    "slideshow": {
     "slide_type": "subslide"
    }
   },
   "source": [
    "Tipična uporaba je taka (zanima nas integral, ne nujno tudi vmesne vrednosti):"
   ]
  },
  {
   "cell_type": "code",
   "execution_count": 33,
   "metadata": {
    "collapsed": false
   },
   "outputs": [
    {
     "data": {
      "text/plain": [
       "array([ 1.57036101, -0.2148195 ])"
      ]
     },
     "execution_count": 33,
     "metadata": {},
     "output_type": "execute_result"
    }
   ],
   "source": [
    "t1 = 4\n",
    "solver = ode(F_klada).set_integrator('dopri5').set_initial_value(y_zacetni_pogoji)\n",
    "resitev = solver.integrate(t1)\n",
    "resitev"
   ]
  },
  {
   "cell_type": "markdown",
   "metadata": {
    "slideshow": {
     "slide_type": "subslide"
    }
   },
   "source": [
    "**`ode` vs `odeint`**\n",
    "\n",
    "`scipy.integrate.ode` omogoča izbiro različnih integratorjev (metod); zelo preprosta za uporabo pa je sicer funkcija  `scipy.integrate.odeint`, ki pa temelji na *lsoda* algoritmu (glejte help). \n",
    "\n",
    "`odeint` pričakuje najprej odvisne spremenljivke, nato neodvisne in je treba funkcijo prvih odvodov ustrezno definirati:"
   ]
  },
  {
   "cell_type": "code",
   "execution_count": 34,
   "metadata": {
    "collapsed": true,
    "slideshow": {
     "slide_type": "subslide"
    }
   },
   "outputs": [],
   "source": [
    "def F_klada_2(y, t):#odeint pričakuje najprej odvisne spremenljivke, nato neodvisne\n",
    "    return F_klada(t, y)"
   ]
  },
  {
   "cell_type": "code",
   "execution_count": 35,
   "metadata": {
    "collapsed": false
   },
   "outputs": [],
   "source": [
    "cas2 = cas[::5] #bolj 'redek' čas, da se bo videlo numerično napako"
   ]
  },
  {
   "cell_type": "code",
   "execution_count": 36,
   "metadata": {
    "collapsed": false
   },
   "outputs": [],
   "source": [
    "resitev2 = odeint(F_klada_2, y_zacetni_pogoji, cas2)"
   ]
  },
  {
   "cell_type": "code",
   "execution_count": 37,
   "metadata": {
    "collapsed": false
   },
   "outputs": [
    {
     "data": {
      "text/plain": [
       "array([[ 0.        ,  1.        ],\n",
       "       [ 0.19582278,  0.93864548],\n",
       "       [ 0.3792507 ,  0.87729096],\n",
       "       [ 0.55028377,  0.81593644],\n",
       "       [ 0.70892199,  0.75458192]])"
      ]
     },
     "execution_count": 37,
     "metadata": {},
     "output_type": "execute_result"
    }
   ],
   "source": [
    "resitev2[:5]"
   ]
  },
  {
   "cell_type": "code",
   "execution_count": 38,
   "metadata": {
    "collapsed": false
   },
   "outputs": [],
   "source": [
    "def slika():\n",
    "    plt.plot(cas, pomik(cas), 'b', label='Pomik - analitično [m]')\n",
    "    plt.plot(cas, hitrost(cas), 'r', label='Hitrost - analitično [m/s]')\n",
    "    plt.plot(cas2, resitev2[:, 0], 'b.', label='Pomik - odeint [m]')\n",
    "    plt.plot(cas2, resitev2[:, 1], 'r.', label='Hitrost - odeint [m/s]')\n",
    "    plt.xlabel('Čas [s]')\n",
    "    plt.ylabel('Pomik [m] / Hitrost [m/s]')\n",
    "    plt.legend(loc=(1.01, 0));\n",
    "    plt.show()"
   ]
  },
  {
   "cell_type": "code",
   "execution_count": 39,
   "metadata": {
    "collapsed": false,
    "slideshow": {
     "slide_type": "subslide"
    }
   },
   "outputs": [
    {
     "data": {
      "image/png": "[encoded data removed]",
      "text/plain": [
       "<matplotlib.figure.Figure at 0x21d558929e8>"
      ]
     },
     "metadata": {},
     "output_type": "display_data"
    }
   ],
   "source": [
    "slika()"
   ]
  },
  {
   "cell_type": "markdown",
   "metadata": {
    "slideshow": {
     "slide_type": "slide"
    }
   },
   "source": [
    "# 6. Stabilnost reševanja diferencialnih enačb*"
   ]
  },
  {
   "cell_type": "markdown",
   "metadata": {},
   "source": [
    "Preprosto povedano, je reševanje diferencialne enačbe stabilno, če se lokalne napake ne seštevajo v globalno napako, ki preraste vse meje. Globalna napaka torej mora ostati omejena. Stabilnost je pogojena z diferencialno enačbo, z uporabljeno numerično metodo in s korakom integracije $h$.\n",
    "\n",
    "V nadaljevanju si bomo na primerih pogledali nekatere detajle."
   ]
  },
  {
   "cell_type": "markdown",
   "metadata": {
    "slideshow": {
     "slide_type": "subslide"
    }
   },
   "source": [
    "## Primer preprostega nihala"
   ]
  },
  {
   "cell_type": "markdown",
   "metadata": {},
   "source": [
    "Poglejmo si najprej primer reševanja diferencialne enačbe preprostega nihala. Slika (vir: Slavič, Dinamika, mehanska nihanja in mehanika tekočin, 2014):\n",
    "<img src=\"./fig/Slavič - slika 3.6.png\" width=150>\n",
    "prikazuje dinamski sistem (masa $m$, togost $k$) katerega diferencialna enačba je\n",
    "$$m\\,\\ddot x + k\\,x=0.$$"
   ]
  },
  {
   "cell_type": "markdown",
   "metadata": {
    "slideshow": {
     "slide_type": "subslide"
    }
   },
   "source": [
    "Tako diferencialno enačbo preoblikujemo v standardno obliko lastnega nihanja:\n",
    "$$\\ddot x + \\omega_0^2\\,x=0,$$\n",
    "kjer je lastna krožna frekvenca:\n",
    "$$\\omega_0=\\sqrt{\\frac{k}{m}}$$\n",
    "in pričakujemo odziv oblike:\n",
    "$$x(t)=A\\,\\cos(\\omega_0\\,t)+B\\,\\sin(\\omega_0\\,t)$$\n",
    "\n",
    "Če so začetni pogoji enaki: $x(0\\,\\textrm{s})=x_0$ in $\\dot x(0\\,\\textrm{s})=0\\,\\textrm{m/s}$, potem odziv pričakujemo v obliki:\n",
    "$$x(t)=x_0\\,\\cos(\\omega_0\\,t)$$"
   ]
  },
  {
   "cell_type": "markdown",
   "metadata": {
    "slideshow": {
     "slide_type": "subslide"
    }
   },
   "source": [
    "#### Numerični primer"
   ]
  },
  {
   "cell_type": "markdown",
   "metadata": {},
   "source": [
    "Najprej definirajmo vektor začetnih pogojev in funkcijo prvih odvodov (diferencialno enačbo drugega reda pretvorimo v sistem diferencialnih enačb prvega reda $\\mathbf{y}'=\\mathbf{f}(x, \\mathbf{y})$)"
   ]
  },
  {
   "cell_type": "code",
   "execution_count": 40,
   "metadata": {
    "collapsed": false
   },
   "outputs": [],
   "source": [
    "def F_nihalo(t, y, omega0=2*np.pi):\n",
    "    \"\"\"\n",
    "    Funkcija prvih odvodov za nihalo z eno prostostno stopnjo\n",
    "    \n",
    "    :param t: čas\n",
    "    :param y: seznam začetnih vrednosti\n",
    "    :param omega: lastna krožna frekvenca\n",
    "    :return y': seznam vrednosti odvodov\n",
    "    \"\"\"\n",
    "    return np.array([y[1], -omega0**2*y[0]])"
   ]
  },
  {
   "cell_type": "markdown",
   "metadata": {},
   "source": [
    "Podatki, analitična rešitev, Eulerjeva metoda in metoda Runge-Kutta 4. reda:"
   ]
  },
  {
   "cell_type": "code",
   "execution_count": 41,
   "metadata": {
    "collapsed": false,
    "slideshow": {
     "slide_type": "subslide"
    }
   },
   "outputs": [
    {
     "ename": "AttributeError",
     "evalue": "'int' object has no attribute 'shape'",
     "output_type": "error",
     "traceback": [
      "\u001b[0;31m---------------------------------------------------------------------\u001b[0m",
      "\u001b[0;31mAttributeError\u001b[0m                      Traceback (most recent call last)",
      "\u001b[0;32m<ipython-input-41-bc44410815a6>\u001b[0m in \u001b[0;36m<module>\u001b[0;34m()\u001b[0m\n\u001b[1;32m      8\u001b[0m \u001b[0mpomik\u001b[0m \u001b[1;33m=\u001b[0m \u001b[0mx0\u001b[0m\u001b[1;33m*\u001b[0m\u001b[0mnp\u001b[0m\u001b[1;33m.\u001b[0m\u001b[0mcos\u001b[0m\u001b[1;33m(\u001b[0m\u001b[0momega0\u001b[0m\u001b[1;33m*\u001b[0m\u001b[0mcas\u001b[0m\u001b[1;33m)\u001b[0m \u001b[1;31m# analitična rešitev\u001b[0m\u001b[1;33m\u001b[0m\u001b[0m\n\u001b[1;32m      9\u001b[0m \u001b[0mhitrost\u001b[0m \u001b[1;33m=\u001b[0m \u001b[1;33m-\u001b[0m\u001b[0mx0\u001b[0m\u001b[1;33m*\u001b[0m\u001b[0momega0\u001b[0m\u001b[1;33m*\u001b[0m\u001b[0mnp\u001b[0m\u001b[1;33m.\u001b[0m\u001b[0msin\u001b[0m\u001b[1;33m(\u001b[0m\u001b[0momega0\u001b[0m\u001b[1;33m*\u001b[0m\u001b[0mcas\u001b[0m\u001b[1;33m)\u001b[0m \u001b[1;31m# analitična rešitev\u001b[0m\u001b[1;33m\u001b[0m\u001b[0m\n\u001b[0;32m---> 10\u001b[0;31m \u001b[0mt_Eu\u001b[0m\u001b[1;33m,\u001b[0m \u001b[0mx_Eu\u001b[0m \u001b[1;33m=\u001b[0m \u001b[0meuler\u001b[0m\u001b[1;33m(\u001b[0m\u001b[0mF_nihalo\u001b[0m\u001b[1;33m,\u001b[0m \u001b[1;36m0\u001b[0m\u001b[1;33m,\u001b[0m \u001b[0mx_zacetni_pogoji\u001b[0m\u001b[1;33m,\u001b[0m \u001b[0mt_stop\u001b[0m\u001b[1;33m=\u001b[0m\u001b[0mt1\u001b[0m\u001b[1;33m,\u001b[0m \u001b[0mh\u001b[0m\u001b[1;33m=\u001b[0m\u001b[0mdt\u001b[0m\u001b[1;33m)\u001b[0m\u001b[1;33m\u001b[0m\u001b[0m\n\u001b[0m\u001b[1;32m     11\u001b[0m \u001b[0mt_RK4\u001b[0m\u001b[1;33m,\u001b[0m \u001b[0mx_RK4\u001b[0m \u001b[1;33m=\u001b[0m \u001b[0mrunge_kutta_4\u001b[0m\u001b[1;33m(\u001b[0m\u001b[0mF_nihalo\u001b[0m\u001b[1;33m,\u001b[0m \u001b[1;36m0\u001b[0m\u001b[1;33m,\u001b[0m \u001b[0mx_zacetni_pogoji\u001b[0m\u001b[1;33m,\u001b[0m \u001b[0mt_stop\u001b[0m\u001b[1;33m=\u001b[0m\u001b[0mt1\u001b[0m\u001b[1;33m,\u001b[0m \u001b[0mh\u001b[0m\u001b[1;33m=\u001b[0m\u001b[0mdt\u001b[0m\u001b[1;33m)\u001b[0m\u001b[1;33m\u001b[0m\u001b[0m\n",
      "\u001b[0;32m<ipython-input-18-1785631b03bf>\u001b[0m in \u001b[0;36meuler\u001b[0;34m(F, t, y, *args, **kwargs)\u001b[0m\n\u001b[1;32m     11\u001b[0m     \u001b[1;33m:\u001b[0m\u001b[1;32mreturn\u001b[0m \u001b[0mY\u001b[0m\u001b[1;33m:\u001b[0m \u001b[0mvrne\u001b[0m \u001b[0mnp\u001b[0m\u001b[1;33m.\u001b[0m\u001b[0marray\u001b[0m\u001b[0;31m \u001b[0m\u001b[0;31m`\u001b[0m\u001b[0;31m`\u001b[0m\u001b[0my\u001b[0m\u001b[0;31m`\u001b[0m\u001b[0;31m`\u001b[0m \u001b[0mvrednosti\u001b[0m\u001b[1;33m.\u001b[0m\u001b[1;33m\u001b[0m\u001b[0m\n\u001b[1;32m     12\u001b[0m     \"\"\"\n\u001b[0;32m---> 13\u001b[0;31m     \u001b[0mY\u001b[0m \u001b[1;33m=\u001b[0m \u001b[0mnp\u001b[0m\u001b[1;33m.\u001b[0m\u001b[0mzeros\u001b[0m\u001b[1;33m(\u001b[0m\u001b[1;33m(\u001b[0m\u001b[0mt\u001b[0m\u001b[1;33m.\u001b[0m\u001b[0mshape\u001b[0m\u001b[1;33m[\u001b[0m\u001b[1;36m0\u001b[0m\u001b[1;33m]\u001b[0m\u001b[1;33m,\u001b[0m \u001b[0mlen\u001b[0m\u001b[1;33m(\u001b[0m\u001b[0my\u001b[0m\u001b[1;33m)\u001b[0m\u001b[1;33m)\u001b[0m\u001b[1;33m)\u001b[0m\u001b[1;33m\u001b[0m\u001b[0m\n\u001b[0m\u001b[1;32m     14\u001b[0m     \u001b[0mY\u001b[0m\u001b[1;33m[\u001b[0m\u001b[1;36m0\u001b[0m\u001b[1;33m]\u001b[0m \u001b[1;33m=\u001b[0m \u001b[0my\u001b[0m\u001b[1;33m\u001b[0m\u001b[0m\n\u001b[1;32m     15\u001b[0m     \u001b[0mh\u001b[0m \u001b[1;33m=\u001b[0m \u001b[0mt\u001b[0m\u001b[1;33m[\u001b[0m\u001b[1;36m1\u001b[0m\u001b[1;33m]\u001b[0m\u001b[1;33m-\u001b[0m\u001b[0mt\u001b[0m\u001b[1;33m[\u001b[0m\u001b[1;36m0\u001b[0m\u001b[1;33m]\u001b[0m\u001b[1;33m\u001b[0m\u001b[0m\n",
      "\u001b[0;31mAttributeError\u001b[0m: 'int' object has no attribute 'shape'"
     ]
    }
   ],
   "source": [
    "x0 = 1.\n",
    "omega0 = 2*np.pi\n",
    "x_zacetni_pogoji = np.array([x0, 0.])\n",
    "dt = 0.5\n",
    "t1 = 4.\n",
    "\n",
    "cas = np.linspace(0, t1, 500)\n",
    "pomik = x0*np.cos(omega0*cas) # analitična rešitev\n",
    "hitrost = -x0*omega0*np.sin(omega0*cas) # analitična rešitev\n",
    "t_Eu, x_Eu = euler(F_nihalo, 0, x_zacetni_pogoji, t_stop=t1, h=dt)\n",
    "t_RK4, x_RK4 = runge_kutta_4(F_nihalo, 0, x_zacetni_pogoji, t_stop=t1, h=dt)"
   ]
  },
  {
   "cell_type": "markdown",
   "metadata": {
    "slideshow": {
     "slide_type": "subslide"
    }
   },
   "source": [
    "Rešitev po RK45 metodi:"
   ]
  },
  {
   "cell_type": "code",
   "execution_count": null,
   "metadata": {
    "collapsed": false
   },
   "outputs": [],
   "source": [
    "#%%timeit -n 1\n",
    "solver = ode(F_nihalo).set_integrator('dopri5').set_initial_value(x_zacetni_pogoji)\n",
    "solver.set_f_params(omega0)\n",
    "t_RK4_sci = [0]\n",
    "x_RK4_sci = [x_zacetni_pogoji]\n",
    "while solver.successful() and solver.t < t1:\n",
    "    solver.integrate(solver.t+dt)\n",
    "    t_RK4_sci.append(solver.t)\n",
    "    x_RK4_sci.append(solver.y)\n",
    "t_RK4_sci = np.array(t_RK4_sci)\n",
    "x_RK4_sci = np.array(x_RK4_sci)"
   ]
  },
  {
   "cell_type": "markdown",
   "metadata": {
    "slideshow": {
     "slide_type": "subslide"
    }
   },
   "source": [
    "Rešitev po implicitni metodi tipa Adams:"
   ]
  },
  {
   "cell_type": "code",
   "execution_count": null,
   "metadata": {
    "collapsed": false
   },
   "outputs": [],
   "source": [
    "#%%timeit -n 1\n",
    "solver = ode(F_nihalo).set_integrator('lsoda').set_initial_value(x_zacetni_pogoji)\n",
    "solver.set_f_params(omega0)\n",
    "t_imp_sci = [0]\n",
    "x_imp_sci = [x_zacetni_pogoji]\n",
    "while solver.successful() and solver.t < t1:\n",
    "    solver.integrate(solver.t+dt)\n",
    "    t_imp_sci.append(solver.t)\n",
    "    x_imp_sci.append(solver.y)\n",
    "t_imp_sci = np.array(t_imp_sci)\n",
    "x_imp_sci = np.array(x_imp_sci)"
   ]
  },
  {
   "cell_type": "code",
   "execution_count": null,
   "metadata": {
    "collapsed": false,
    "slideshow": {
     "slide_type": "subslide"
    }
   },
   "outputs": [],
   "source": [
    "plt.plot(cas, pomik, 'r', label='Pomik - analitično [m]')\n",
    "#plt.plot(t_Eu[:7], x_Eu[:7, 0], 'ro', label='Pomik - Euler [m] - začetek')\n",
    "#plt.plot(t_Eu, x_Eu[:, 0], 'bx', label='Pomik - Euler [m]')\n",
    "#plt.plot(t_RK4, x_RK4[:, 0], 'ro', label='Pomik - RK4 [m]')\n",
    "plt.plot(t_RK4_sci, x_RK4_sci[:, 0], 'bo', label='Pomik - RK4 sci [m]')\n",
    "plt.plot(t_imp_sci, x_imp_sci[:, 0], 'g.', label='Pomik - Imp sci [m]')\n",
    "plt.xlabel('Čas [s]')\n",
    "plt.legend(loc=(1.01, 0));"
   ]
  },
  {
   "cell_type": "markdown",
   "metadata": {
    "slideshow": {
     "slide_type": "subslide"
    }
   },
   "source": [
    "#### Zakaj je Eulerjeva metoda tako nestabilna?"
   ]
  },
  {
   "cell_type": "code",
   "execution_count": null,
   "metadata": {
    "collapsed": false
   },
   "outputs": [],
   "source": [
    "x_Eu[:10,0]"
   ]
  },
  {
   "cell_type": "markdown",
   "metadata": {
    "slideshow": {
     "slide_type": "subslide"
    }
   },
   "source": [
    "Spomnimo se temeljnega izraza Eulerjeve metode:\n",
    "$$y(t+h)=y(t)+y'(t)\\,h.$$\n",
    "\n",
    "Sedaj razumemo, da v prvi točki ($y'(0)=0$) naredimo relativno veliko napako, vendar zakaj potem začne vrednost alternirajoče naraščati?\n",
    "\n",
    "Spomnimo se, da je analitična rešitev $y(t)=y_0=x(t)=x_0\\,\\cos(\\omega_0\\,t)$ in je torej $y'(t)=y_1=\\dot x(t)=-\\omega_0\\,x_0\\,\\sin(\\omega_0\\,t)$. Vstavimo pripravljena izraza v Eulerjevo metodo in uredimo:\n",
    "$$y(t+h)=y(t)+y'(t)\\,h=x_0\\,\\left(\\cos(\\omega_0\\,t)-\\omega_0\\,h\\,\\sin(\\omega_0\\,t)\\right)$$"
   ]
  },
  {
   "cell_type": "markdown",
   "metadata": {
    "slideshow": {
     "slide_type": "subslide"
    }
   },
   "source": [
    "Predpostavimo, da gledamo stanje ob takem času $t$, da velja $\\cos(\\omega_0\\,t)=0$ in $\\sin(\\omega_0\\,t)=1$:\n",
    "$$y(t+h)=x_0\\,\\underbrace{\\left(-\\omega_0\\,h\\right)}_{A}.$$\n",
    "V kolikor bo absolutna vrednost izraza $A$ večja kot 1, bo pri času $t+h$ vrednost večja kot v predhodnem koraku in v sledečem verjetno spet. Sledi, da lahko pride do nestabilnosti. Da se je izognemo, mora veljati:\n",
    "$$|A|<1\\qquad\\rightarrow\\qquad h<\\frac{1}{\\omega_0}$$"
   ]
  },
  {
   "cell_type": "markdown",
   "metadata": {
    "slideshow": {
     "slide_type": "subslide"
    }
   },
   "source": [
    "Opomba: v nekaterih knjigah boste videli tudi vrednost $h<2/\\omega_0$; enoliče meje za vse diferencialne enačbe ni mogoče definirati; v splošnem pa velja, da je korak definiran relativno glede na najkrajšo periodo $T$ v diferencialni enačbi (npr.: $h<2/\\omega_0$ je v bistvu enako $h<2/(2\\pi/T)$ oziroma $h<T/\\pi$). Perioda $T$ je definirana glede na najvišjo lastno frekvenco sistema $T=1/f_{\\textrm{max}}$, ki jo izračunamo iz lastne vrednosti sistema.\n",
    "\n",
    "Kakor je prikazano zgoraj imajo naprednejše metode reševanje diferencialnih enačb (npr. Dormand in Prince Runge-Kutta metoda) vgrajen adaptiven časovni korak, ki ponavadi zagotavlja stabilno rešitev. Implicitne metode so načeloma bolj stabilne, vendar pa je cena večja numerična zahtevnost."
   ]
  },
  {
   "cell_type": "markdown",
   "metadata": {
    "slideshow": {
     "slide_type": "subslide"
    }
   },
   "source": [
    "## Primer Van der Polovega nihala"
   ]
  },
  {
   "cell_type": "markdown",
   "metadata": {},
   "source": [
    "http://en.wikipedia.org/wiki/Van_der_Pol_oscillator"
   ]
  },
  {
   "cell_type": "markdown",
   "metadata": {},
   "source": [
    "Definirajmo seznam odvodov:"
   ]
  },
  {
   "cell_type": "code",
   "execution_count": null,
   "metadata": {
    "collapsed": false
   },
   "outputs": [],
   "source": [
    "def F_van_der_pol(t, y, mu=1000):\n",
    "    \"\"\"\n",
    "    Funkcija prvih odvodov za Van der Pol nihalo\n",
    "    \n",
    "    :param t: čas\n",
    "    :param y: seznam začetnih vrednosti\n",
    "    :param mu: parameter dušenja in nelinearnosti\n",
    "    :return y': seznam vrednosti odvodov\n",
    "    \"\"\"\n",
    "    return np.array([y[1], mu*(1-y[0]**2)*y[1]-y[0]])"
   ]
  },
  {
   "cell_type": "code",
   "execution_count": null,
   "metadata": {
    "collapsed": false,
    "slideshow": {
     "slide_type": "subslide"
    }
   },
   "outputs": [],
   "source": [
    "x_zacetni_pogoji = np.array([1.5, 0.])\n",
    "dt = 0.1\n",
    "t1 = 3000"
   ]
  },
  {
   "cell_type": "markdown",
   "metadata": {},
   "source": [
    "Rešitev po RK45 metodi:"
   ]
  },
  {
   "cell_type": "code",
   "execution_count": null,
   "metadata": {
    "collapsed": false
   },
   "outputs": [],
   "source": [
    "#%%timeit -n 1\n",
    "solver = ode(F_van_der_pol).set_integrator('dopri5').set_initial_value(x_zacetni_pogoji)\n",
    "t_RK4_sci = [0]\n",
    "x_RK4_sci = [x_zacetni_pogoji]\n",
    "while solver.successful() and solver.t < t1/6:# računamo samo do 1/6 časa!!!\n",
    "    solver.integrate(solver.t+dt)\n",
    "    t_RK4_sci.append(solver.t)\n",
    "    x_RK4_sci.append(solver.y)\n",
    "t_RK4_sci = np.array(t_RK4_sci)\n",
    "x_RK4_sci = np.array(x_RK4_sci)"
   ]
  },
  {
   "cell_type": "markdown",
   "metadata": {
    "slideshow": {
     "slide_type": "subslide"
    }
   },
   "source": [
    "Rešitev po implicitni metodi tipa Adams"
   ]
  },
  {
   "cell_type": "code",
   "execution_count": null,
   "metadata": {
    "collapsed": false
   },
   "outputs": [],
   "source": [
    "#%%timeit -n 1\n",
    "solver = ode(F_van_der_pol).set_integrator('lsoda').set_initial_value(x_zacetni_pogoji)\n",
    "t_imp_sci = [0]\n",
    "x_imp_sci = [x_zacetni_pogoji]\n",
    "while solver.successful() and solver.t < t1:\n",
    "    solver.integrate(solver.t+dt)\n",
    "    t_imp_sci.append(solver.t)\n",
    "    x_imp_sci.append(solver.y)\n",
    "t_imp_sci = np.array(t_imp_sci)\n",
    "x_imp_sci = np.array(x_imp_sci)\n",
    "solver.successful()"
   ]
  },
  {
   "cell_type": "markdown",
   "metadata": {},
   "source": [
    "Rešitev s pomočjo funkcije ``odeint`` (uporablja isto implicitno metodo `lsoda` kakor zgoraj, poleg moramo definirati pri katerih časovnih korakih nas zanima rešitev)."
   ]
  },
  {
   "cell_type": "code",
   "execution_count": null,
   "metadata": {
    "collapsed": true
   },
   "outputs": [],
   "source": [
    "def F_van_der_pol_2(y, t):#odeint pričakuje najprej odvisne spremenljivke, nato neodvisne\n",
    "    return F_van_der_pol(t, y, mu=1000)"
   ]
  },
  {
   "cell_type": "code",
   "execution_count": null,
   "metadata": {
    "collapsed": false
   },
   "outputs": [],
   "source": [
    "#%%timeit -n 1\n",
    "time = dt*np.arange(t1/dt)\n",
    "result = odeint(F_van_der_pol_2, x_zacetni_pogoji, time)"
   ]
  },
  {
   "cell_type": "markdown",
   "metadata": {},
   "source": [
    "Prikaz rezultatov"
   ]
  },
  {
   "cell_type": "code",
   "execution_count": null,
   "metadata": {
    "collapsed": false
   },
   "outputs": [],
   "source": [
    "plt.plot(t_RK4_sci, x_RK4_sci[:, 0], 'b.', label='Pomik - RK4 sci [m]')\n",
    "plt.plot(t_imp_sci, x_imp_sci[:, 0], 'g-', label='Pomik - Imp sci [m]')\n",
    "plt.plot(time, result[:, 0], 'y-', label='Pomik - odeint sci [m]')\n",
    "plt.xlabel('Čas [s]')\n",
    "plt.legend(loc=(1.01, 0));"
   ]
  },
  {
   "cell_type": "markdown",
   "metadata": {
    "slideshow": {
     "slide_type": "slide"
    }
   },
   "source": [
    "# Do naslednjih vaj preštudirajte sledeče:"
   ]
  },
  {
   "cell_type": "markdown",
   "metadata": {},
   "source": [
    "1. Na sliki (vir: Numerical Methods in Engineering With Python 3, 3rd Ed, Jaan Kiusalaas) je prikazan izstrelek mase $m$, ki ga izstrelimo s hitrosjo $v_0$ pod kotom $\\alpha$. Če je sila upora zraka: $F=c\\,v^{3/2}$, potem sta gibalni enačbi:\n",
    "$$\\ddot x(t)=-F\\,\\cos(\\alpha)/m\\qquad\\ddot y(t)=-F\\,\\sin(\\alpha)/m-g.$$\n",
    "Opomba: $v=\\sqrt{\\dot x^2+\\dot y^2}.$ Ustrezne parametre si izmislite.\n",
    "<img src=\"./fig/Jaan Kiusalaas stran 265 n13.png\" width=300>\n",
    "Sistem dveh diferencialnih enačb drugega reda zapišite v sistem diferencialnih enačb prvega reda.\n",
    "* Določite vektor začetnih pogojev, ki smo ga zgoraj označili z $\\mathbf{y}$.\n",
    "* Določite funkcijo prvih odvodov, ``c`` naj bo parameter.\n",
    "* Definirajte začetne pogoje in rešite nalogo s poljubnimi podatki.\n",
    "* Prikažite $(x, y)$ lego masne točke, spreminjajte koeficient upora $c$.\n",
    "* Prikažite hitrost v odvisnosti od časa. Določite minimum hitrosti in čas pri katerem nastane.\n",
    "* Na vaje prinesite poljubno diferencialno enačbo in bodite pripravljeni na numerično reševanje!"
   ]
  },
  {
   "cell_type": "markdown",
   "metadata": {},
   "source": [
    "Delno rešene vaje se nahajajo [tukaj](./vaje/Vaja 12 - polovica.ipynb)."
   ]
  }
 ],
 "metadata": {
  "anaconda-cloud": {},
  "celltoolbar": "Slideshow",
  "kernelspec": {
   "display_name": "Python [default]",
   "language": "python",
   "name": "python3"
  },
  "language_info": {
   "codemirror_mode": {
    "name": "ipython",
    "version": 3
   },
   "file_extension": ".py",
   "mimetype": "text/x-python",
   "name": "python",
   "nbconvert_exporter": "python",
   "pygments_lexer": "ipython3",
   "version": "3.5.2"
  },
  "latex_envs": {
   "bibliofile": "biblio.bib",
   "cite_by": "apalike",
   "current_citInitial": 1,
   "eqLabelWithNumbers": true,
   "eqNumInitial": 0
  },
  "nav_menu": {},
  "toc": {
   "navigate_menu": true,
   "number_sections": true,
   "sideBar": true,
   "threshold": 6,
   "toc_cell": false,
   "toc_section_display": "block",
   "toc_window_display": false
  },
  "widgets": {
   "state": {
    "32f173ba9f95497d9befd75a433ff94c": {
     "views": [
      {
       "cell_index": 85
      }
     ]
    },
    "7c85655afe7d42ff81895a0adef786f2": {
     "views": [
      {
       "cell_index": 63
      }
     ]
    }
   },
   "version": "1.2.0"
  }
 },
 "nbformat": 4,
 "nbformat_minor": 0
}
