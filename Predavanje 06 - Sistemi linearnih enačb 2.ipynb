{
 "cells": [
  {
   "cell_type": "markdown",
   "metadata": {
    "slideshow": {
     "slide_type": "slide"
    }
   },
   "source": [
    "<font size=\"2\"> [github.com/jankoslavic/pypinm](http://github.com/jankoslavic/pypinm)</font>\n",
    "\n",
    "<center>\n",
    "<img width=300 src=\"./fig/ladisk.png\">\n",
    "<br>\n",
    "<font size=\"7\" color=\"f00e0e\" face=\"garamond\"><b>Sistemi linearnih enačb (2)</b></font>\n",
    "<br><br>\n",
    "<font size=\"4\">\n",
    "[izr.prof. dr. Janko Slavič](http://www.ladisk.si/~slavic)\n",
    "</font>\n",
    "<br><br>\n",
    "<font size=\"2\"> Julij 2017</font>\n",
    "</center>"
   ]
  },
  {
   "cell_type": "markdown",
   "metadata": {
    "slideshow": {
     "slide_type": "subslide"
    },
    "toc": "true"
   },
   "source": [
    "# Table of Contents\n",
    " <p><div class=\"lev1\"><a href=\"#Razcep-LU\"><span class=\"toc-item-num\">1&nbsp;&nbsp;</span>Razcep LU</a></div><div class=\"lev2\"><a href=\"#Razcep-Doolittle\"><span class=\"toc-item-num\">1.1&nbsp;&nbsp;</span>Razcep Doolittle</a></div><div class=\"lev2\"><a href=\"#Teoretično-ozadje\"><span class=\"toc-item-num\">1.2&nbsp;&nbsp;</span>Teoretično ozadje</a></div><div class=\"lev2\"><a href=\"#Razcep-LU-—-povzetek\"><span class=\"toc-item-num\">1.3&nbsp;&nbsp;</span>Razcep LU — povzetek</a></div><div class=\"lev2\"><a href=\"#Uporaba-in-zaključki\"><span class=\"toc-item-num\">1.4&nbsp;&nbsp;</span>Uporaba in zaključki</a></div><div class=\"lev1\"><a href=\"#Pivotiranje\"><span class=\"toc-item-num\">2&nbsp;&nbsp;</span>Pivotiranje</a></div><div class=\"lev2\"><a href=\"#Diagonalno-dominantna-matrika\"><span class=\"toc-item-num\">2.1&nbsp;&nbsp;</span>Diagonalno dominantna matrika</a></div><div class=\"lev2\"><a href=\"#Gaussova-eliminacija-z-delnim-pivotiranjem\"><span class=\"toc-item-num\">2.2&nbsp;&nbsp;</span>Gaussova eliminacija z delnim pivotiranjem</a></div><div class=\"lev2\"><a href=\"#Razcep-LU-z-delnim-pivotiranjem\"><span class=\"toc-item-num\">2.3&nbsp;&nbsp;</span>Razcep LU z delnim pivotiranjem</a></div><div class=\"lev1\"><a href=\"#Modul-SciPy\"><span class=\"toc-item-num\">3&nbsp;&nbsp;</span>Modul <code>SciPy</code></a></div><div class=\"lev1\"><a href=\"#Inverz-matrik\"><span class=\"toc-item-num\">4&nbsp;&nbsp;</span>Inverz matrik</a></div><div class=\"lev1\"><a href=\"#Psevdoinverz---reševanje-predoločenih-sistemov\"><span class=\"toc-item-num\">5&nbsp;&nbsp;</span>Psevdoinverz - reševanje predoločenih sistemov</a></div><div class=\"lev1\"><a href=\"#Iterativne-metode\"><span class=\"toc-item-num\">6&nbsp;&nbsp;</span>Iterativne metode</a></div><div class=\"lev2\"><a href=\"#Gauss-Seidlova-metoda\"><span class=\"toc-item-num\">6.1&nbsp;&nbsp;</span>Gauss-Seidlova metoda</a></div><div class=\"lev2\"><a href=\"#Zgled\"><span class=\"toc-item-num\">6.2&nbsp;&nbsp;</span>Zgled</a></div><div class=\"lev1\"><a href=\"#Nekaj-vprašanj-za-razmislek!\"><span class=\"toc-item-num\">7&nbsp;&nbsp;</span>Nekaj vprašanj za razmislek!</a></div><div class=\"lev2\"><a href=\"#Dodatno\"><span class=\"toc-item-num\">7.1&nbsp;&nbsp;</span>Dodatno</a></div>"
   ]
  },
  {
   "cell_type": "code",
   "execution_count": 154,
   "metadata": {
    "collapsed": true,
    "slideshow": {
     "slide_type": "subslide"
    }
   },
   "outputs": [],
   "source": [
    "import numpy as np\n",
    "import matplotlib.pyplot as plt\n",
    "%matplotlib inline\n",
    "import sympy as sym\n",
    "sym.init_printing()"
   ]
  },
  {
   "cell_type": "markdown",
   "metadata": {
    "slideshow": {
     "slide_type": "slide"
    }
   },
   "source": [
    "# Razcep LU"
   ]
  },
  {
   "cell_type": "markdown",
   "metadata": {},
   "source": [
    "Za določitev rešitve sistema enačb, Gaussov eliminacijski postopek zahteva najmanjše število računskih operacij. V primeru, da se matrika koeficientov $\\mathbf{A}$ ne spreminja, je mogoče ob spremembi vektor konstant $\\mathbf{b}$ določiti računsko manj zahtevno, brez ponovne Gaussove eliminacije. V ta namen si bomo pogledali razcep LU!"
   ]
  },
  {
   "cell_type": "markdown",
   "metadata": {
    "slideshow": {
     "slide_type": "subslide"
    }
   },
   "source": [
    "Poljubno matriko lahko zapišemo kot produkt dveh matrik:\n",
    "$$\\mathbf{A}=\\mathbf{B}\\,\\mathbf{C}.$$\n",
    "Pri tem je možnosti za zapis matrik $\\mathbf{B}$ in $\\mathbf{C}$ neomejeno veliko.\n",
    "\n",
    "Pri razcepu LU, se bomo omejili na spodnje trikotno matriko $\\mathbf{B}=\\mathbf{L}$ in zgornje trikotno matriko $\\mathbf{C}=\\mathbf{U}$:\n",
    "$$\\mathbf{A}=\\mathbf{L}\\,\\mathbf{U}.$$\n",
    "Vsaka od matrik $\\mathbf{L}$ in $\\mathbf{U}$ je definirana z $(n+1)\\,n/2$ elementi; skupaj torej $n^2+n$ neznank. Pri tem pa znana matrika $\\mathbf{A}$ definiran $n^2$ vrednosti. Za enolično določitev matrik $\\mathbf{L}$ in $\\mathbf{U}$ manjka torej $n$ enačb. Tukaj bomo uporabili t.i. **Doolittle** LU razcep, ki dodatne enačbe pridobi s pogojem $L_{ii}=1$."
   ]
  },
  {
   "cell_type": "markdown",
   "metadata": {
    "slideshow": {
     "slide_type": "subslide"
    }
   },
   "source": [
    "Če torej linearni sistem:\n",
    "$$\\mathbf{A}\\mathbf{x}=\\mathbf{b}$$\n",
    "zapišemo z rezcepom matrike $\\mathbf{A}$:\n",
    "$$\\mathbf{L}\\,\\underbrace{\\mathbf{U}\\,\\mathbf{x}}_{\\mathbf{y}}=\\mathbf{b},$$\n",
    "predpostavimo, da sta $\\mathbf{U}$ in $\\mathbf{L}$ znani matriki.\n",
    "\n",
    "Namesto neznanega vektorja $\\mathbf{x}$ torej najprej določimo vektor $\\mathbf{y}$:\n",
    "$$\\mathbf{L}\\,\\mathbf{y}=\\mathbf{b}.\\qquad \\textrm{(1. korak)}$$\n",
    "Ko je $\\mathbf{y}$ določen lahko iz:\n",
    "$$\\mathbf{U}\\,\\mathbf{x}=\\mathbf{y}\\qquad \\textrm{(2. korak)}$$\n",
    "določimo $\\mathbf{x}$."
   ]
  },
  {
   "cell_type": "markdown",
   "metadata": {
    "slideshow": {
     "slide_type": "subslide"
    }
   },
   "source": [
    "## Razcep LU matrike koeficientov $\\mathbf{A}$\n",
    "\n",
    "V nadaljevanju bomo pokazali, da Gaussova eliminacija predstavlja razcep LU matrike koeficientov $\\mathbf{A}$."
   ]
  },
  {
   "cell_type": "markdown",
   "metadata": {},
   "source": [
    "Pokaz začnimo na primeru simbolno zapisanih matrik $\\mathbf{L}$ in $\\mathbf{U}$ dimenzije $3\\times 3$:"
   ]
  },
  {
   "cell_type": "code",
   "execution_count": 155,
   "metadata": {
    "slideshow": {
     "slide_type": "subslide"
    }
   },
   "outputs": [],
   "source": [
    "L21, L31, L32 = sym.symbols('L21, L31, L32')\n",
    "U11, U12, U13, U22, U23, U33 = sym.symbols('U11, U12, U13, U22, U23, U33')\n",
    "L = sym.Matrix([[  1,   0,  0],\n",
    "                [L21,   1,  0],\n",
    "                [L31, L32,  1]])\n",
    "U = sym.Matrix([[U11, U12, U13],\n",
    "                [  0, U22, U23],\n",
    "                [  0,   0, U33]])"
   ]
  },
  {
   "cell_type": "markdown",
   "metadata": {
    "slideshow": {
     "slide_type": "subslide"
    }
   },
   "source": [
    "Matrika koeficientov zapisana z elementi matrik $\\mathbf{L}$ in  $\\mathbf{U}$ torej je:"
   ]
  },
  {
   "cell_type": "code",
   "execution_count": 156,
   "metadata": {},
   "outputs": [
    {
     "data": {
      "image/png": "[encoded data removed]",
      "text/latex": [
       "$$\\left[\\begin{matrix}U_{11} & U_{12} & U_{13}\\\\L_{21} U_{11} & L_{21} U_{12} + U_{22} & L_{21} U_{13} + U_{23}\\\\L_{31} U_{11} & L_{31} U_{12} + L_{32} U_{22} & L_{31} U_{13} + L_{32} U_{23} + U_{33}\\end{matrix}\\right]$$"
      ],
      "text/plain": [
       "⎡  U₁₁           U₁₂                   U₁₃          ⎤\n",
       "⎢                                                   ⎥\n",
       "⎢L₂₁⋅U₁₁    L₂₁⋅U₁₂ + U₂₂         L₂₁⋅U₁₃ + U₂₃     ⎥\n",
       "⎢                                                   ⎥\n",
       "⎣L₃₁⋅U₁₁  L₃₁⋅U₁₂ + L₃₂⋅U₂₂  L₃₁⋅U₁₃ + L₃₂⋅U₂₃ + U₃₃⎦"
      ]
     },
     "execution_count": 156,
     "metadata": {},
     "output_type": "execute_result"
    }
   ],
   "source": [
    "A = L*U\n",
    "A"
   ]
  },
  {
   "cell_type": "markdown",
   "metadata": {},
   "source": [
    "Izvedemo sedaj Gaussovo eliminacijo nad matriko koeficientov $\\mathbf{A}$. \n",
    "\n",
    "S pomočjo prve vrstice izvedimo sedaj Gaussovo eliminacijo v prve stolpcu:"
   ]
  },
  {
   "cell_type": "code",
   "execution_count": 157,
   "metadata": {},
   "outputs": [
    {
     "data": {
      "image/png": "[encoded data removed]",
      "text/latex": [
       "$$\\left[\\begin{matrix}U_{11} & U_{12} & U_{13}\\\\0 & U_{22} & U_{23}\\\\0 & L_{32} U_{22} & L_{32} U_{23} + U_{33}\\end{matrix}\\right]$$"
      ],
      "text/plain": [
       "⎡U₁₁    U₁₂         U₁₃     ⎤\n",
       "⎢                           ⎥\n",
       "⎢ 0     U₂₂         U₂₃     ⎥\n",
       "⎢                           ⎥\n",
       "⎣ 0   L₃₂⋅U₂₂  L₃₂⋅U₂₃ + U₃₃⎦"
      ]
     },
     "execution_count": 157,
     "metadata": {},
     "output_type": "execute_result"
    }
   ],
   "source": [
    "A[1,:] -= L21 * A[0,:]\n",
    "A[2,:] -= L31 * A[0,:]\n",
    "A"
   ]
  },
  {
   "cell_type": "markdown",
   "metadata": {
    "slideshow": {
     "slide_type": "-"
    }
   },
   "source": [
    "Nadaljujemo v drugem stolpcu:"
   ]
  },
  {
   "cell_type": "code",
   "execution_count": 158,
   "metadata": {
    "slideshow": {
     "slide_type": "subslide"
    }
   },
   "outputs": [
    {
     "data": {
      "image/png": "[encoded data removed]",
      "text/latex": [
       "$$\\left[\\begin{matrix}U_{11} & U_{12} & U_{13}\\\\0 & U_{22} & U_{23}\\\\0 & 0 & U_{33}\\end{matrix}\\right]$$"
      ],
      "text/plain": [
       "⎡U₁₁  U₁₂  U₁₃⎤\n",
       "⎢             ⎥\n",
       "⎢ 0   U₂₂  U₂₃⎥\n",
       "⎢             ⎥\n",
       "⎣ 0    0   U₃₃⎦"
      ]
     },
     "execution_count": 158,
     "metadata": {},
     "output_type": "execute_result"
    }
   ],
   "source": [
    "A[2,:] -= L32 * A[1,:]\n",
    "A"
   ]
  },
  {
   "cell_type": "markdown",
   "metadata": {
    "slideshow": {
     "slide_type": "subslide"
    }
   },
   "source": [
    "Iz zgornje eliminacije ugotovimo:\n",
    "1. matrika $\\mathbf{U}$ je enaka matriki, ki jo dobimo, če izvedemo Gaussovo eliminacijo nad matriko koeficientov $\\mathbf{A}$.\n",
    "* izven diagonalni členi $\\mathbf{L}$ predstavljajo faktorje, ki smo jih uporabili pri Gaussovi eliminaciji."
   ]
  },
  {
   "cell_type": "markdown",
   "metadata": {
    "slideshow": {
     "slide_type": "subslide"
    }
   },
   "source": [
    "## Numerična implementacija LU razcepa\n",
    "\n",
    "Numerična implementacija se od numerične implementacije Gaussove eliminacije razlikuje samo v tem, da se koeficient s katerim množimo pivotno vrsto `m` shranjuje v matriko `L`. Poglejmo si implementacijo na primeru:"
   ]
  },
  {
   "cell_type": "code",
   "execution_count": 159,
   "metadata": {
    "collapsed": true
   },
   "outputs": [],
   "source": [
    "A = np.array([[8, -6, 3],\n",
    "              [-6, 6, -6],\n",
    "              [3, -6, 6]], dtype=float) \n",
    "b = np.array([-14, 36, 6], dtype=float)"
   ]
  },
  {
   "cell_type": "code",
   "execution_count": 160,
   "metadata": {
    "slideshow": {
     "slide_type": "subslide"
    }
   },
   "outputs": [
    {
     "name": "stdout",
     "output_type": "stream",
     "text": [
      "Korak: 0\n",
      "[[ 8.    -6.     3.   ]\n",
      " [ 0.     1.5   -3.75 ]\n",
      " [ 0.    -3.75   4.875]]\n",
      "Korak: 1\n",
      "[[ 8.   -6.    3.  ]\n",
      " [ 0.    1.5  -3.75]\n",
      " [ 0.    0.   -4.5 ]]\n"
     ]
    }
   ],
   "source": [
    "(v, s) = A.shape\n",
    "U = A.copy() \n",
    "L = np.zeros_like(A)\n",
    "# eliminacija\n",
    "for p, pivot_vrsta in enumerate(U[:-1]):\n",
    "    for i, vrsta in enumerate(U[p+1:]):\n",
    "        if pivot_vrsta[p]:\n",
    "            m = vrsta[p]/pivot_vrsta[p]\n",
    "            vrsta[p:] = vrsta[p:]-pivot_vrsta[p:]*m\n",
    "            L[p+1+i, p] = m\n",
    "    print('Korak: {:g}'.format(p))\n",
    "    print(U)"
   ]
  },
  {
   "cell_type": "code",
   "execution_count": 161,
   "metadata": {
    "slideshow": {
     "slide_type": "subslide"
    }
   },
   "outputs": [
    {
     "data": {
      "text/plain": [
       "array([[ 0.   ,  0.   ,  0.   ],\n",
       "       [-0.75 ,  0.   ,  0.   ],\n",
       "       [ 0.375, -2.5  ,  0.   ]])"
      ]
     },
     "execution_count": 161,
     "metadata": {},
     "output_type": "execute_result"
    }
   ],
   "source": [
    "L"
   ]
  },
  {
   "cell_type": "markdown",
   "metadata": {},
   "source": [
    "Dopolnimo diagonalo $\\mathbf{L}$:"
   ]
  },
  {
   "cell_type": "code",
   "execution_count": 162,
   "metadata": {
    "collapsed": true
   },
   "outputs": [],
   "source": [
    "for i in range(v):\n",
    "    L[i, i] = 1."
   ]
  },
  {
   "cell_type": "code",
   "execution_count": 163,
   "metadata": {},
   "outputs": [
    {
     "data": {
      "text/plain": [
       "array([[ 1.   ,  0.   ,  0.   ],\n",
       "       [-0.75 ,  1.   ,  0.   ],\n",
       "       [ 0.375, -2.5  ,  1.   ]])"
      ]
     },
     "execution_count": 163,
     "metadata": {},
     "output_type": "execute_result"
    }
   ],
   "source": [
    "L"
   ]
  },
  {
   "cell_type": "markdown",
   "metadata": {
    "slideshow": {
     "slide_type": "subslide"
    }
   },
   "source": [
    "Sedaj lahko rešimo sistem enačb $\\mathbf{L}\\,\\mathbf{y}=\\mathbf{b}$:"
   ]
  },
  {
   "cell_type": "code",
   "execution_count": 164,
   "metadata": {
    "collapsed": true
   },
   "outputs": [],
   "source": [
    "# direktno vstavljanje\n",
    "y = np.zeros_like(b)\n",
    "for i, b_ in enumerate(b):\n",
    "    y[i] = (b_ - np.dot(L[i, :i], y[:i]))    "
   ]
  },
  {
   "cell_type": "code",
   "execution_count": 165,
   "metadata": {},
   "outputs": [
    {
     "data": {
      "text/plain": [
       "array([-14. ,  25.5,  75. ])"
      ]
     },
     "execution_count": 165,
     "metadata": {},
     "output_type": "execute_result"
    }
   ],
   "source": [
    "y"
   ]
  },
  {
   "cell_type": "markdown",
   "metadata": {
    "slideshow": {
     "slide_type": "subslide"
    }
   },
   "source": [
    "Nadaljujemo z reševanjem $\\mathbf{U}\\,\\mathbf{x}=\\mathbf{y}$:"
   ]
  },
  {
   "cell_type": "code",
   "execution_count": 166,
   "metadata": {},
   "outputs": [
    {
     "data": {
      "text/plain": [
       "array([[ 8.  , -6.  ,  3.  ],\n",
       "       [ 0.  ,  1.5 , -3.75],\n",
       "       [ 0.  ,  0.  , -4.5 ]])"
      ]
     },
     "execution_count": 166,
     "metadata": {},
     "output_type": "execute_result"
    }
   ],
   "source": [
    "U"
   ]
  },
  {
   "cell_type": "code",
   "execution_count": 167,
   "metadata": {},
   "outputs": [
    {
     "data": {
      "text/plain": [
       "array([-14. ,  25.5,  75. ])"
      ]
     },
     "execution_count": 167,
     "metadata": {},
     "output_type": "execute_result"
    }
   ],
   "source": [
    "y"
   ]
  },
  {
   "cell_type": "code",
   "execution_count": 168,
   "metadata": {
    "slideshow": {
     "slide_type": "subslide"
    }
   },
   "outputs": [
    {
     "data": {
      "text/plain": [
       "array([-14.        , -24.66666667, -16.66666667])"
      ]
     },
     "execution_count": 168,
     "metadata": {},
     "output_type": "execute_result"
    }
   ],
   "source": [
    "# obratno vstavljanje\n",
    "x = np.zeros_like(b)\n",
    "for i in range(v-1, -1,-1):\n",
    "    x[i] = (y[i] - np.dot(U[i, i+1:], x[i+1:])) / U[i, i]\n",
    "x"
   ]
  },
  {
   "cell_type": "code",
   "execution_count": 169,
   "metadata": {},
   "outputs": [
    {
     "data": {
      "text/plain": [
       "array([-14.        , -24.66666667, -16.66666667])"
      ]
     },
     "execution_count": 169,
     "metadata": {},
     "output_type": "execute_result"
    }
   ],
   "source": [
    "x"
   ]
  },
  {
   "cell_type": "markdown",
   "metadata": {
    "slideshow": {
     "slide_type": "subslide"
    }
   },
   "source": [
    "Kakor smo navedli zgoraj, ob spremembi vektorja konstant, ponovna Gaussova eliminacija ni potrebna; traba je izvesti samo direktno in nato obratno vstavljane. Primer:"
   ]
  },
  {
   "cell_type": "code",
   "execution_count": 170,
   "metadata": {},
   "outputs": [
    {
     "data": {
      "text/plain": [
       "array([-4.33333333, -7.88888889, -4.55555556])"
      ]
     },
     "execution_count": 170,
     "metadata": {},
     "output_type": "execute_result"
    }
   ],
   "source": [
    "b = np.array([-1., 6., 7.])\n",
    "y = np.zeros_like(b)\n",
    "for i, b_ in enumerate(b):#direktno vstavljanje\n",
    "    y[i] = (b_ - np.dot(L[i, :i], y[:i]))    \n",
    "x = np.zeros_like(b)\n",
    "for i in range(v-1, -1,-1):# obratno vstavljanje\n",
    "    x[i] = (y[i] - np.dot(U[i, i+1:], x[i+1:])) / U[i, i]\n",
    "x"
   ]
  },
  {
   "cell_type": "code",
   "execution_count": 171,
   "metadata": {},
   "outputs": [
    {
     "data": {
      "text/plain": [
       "array([-1.,  6.,  7.])"
      ]
     },
     "execution_count": 171,
     "metadata": {},
     "output_type": "execute_result"
    }
   ],
   "source": [
    "A.dot(x)"
   ]
  },
  {
   "cell_type": "markdown",
   "metadata": {
    "slideshow": {
     "slide_type": "slide"
    }
   },
   "source": [
    "# Pivotiranje"
   ]
  },
  {
   "cell_type": "markdown",
   "metadata": {},
   "source": [
    "Poglejmo si za motivacijo spodnji sistem enačb:"
   ]
  },
  {
   "cell_type": "code",
   "execution_count": 172,
   "metadata": {
    "collapsed": true
   },
   "outputs": [],
   "source": [
    "A = np.array([[8, -6, 3],\n",
    "              [-6, 6, -6],\n",
    "              [0, -6, 6]], dtype=float) # poskusite tukaj izpustiti dtype=float in preveriet rezultat\n",
    "b = np.array([-14, 36, 6], dtype=float)"
   ]
  },
  {
   "cell_type": "markdown",
   "metadata": {
    "slideshow": {
     "slide_type": "subslide"
    }
   },
   "source": [
    "Najprej želimo zamenjati prvo in zadnjo vrstico v matriki koeficientov $\\mathbf{A}$ in vektorju neznank $\\mathbf{b}$. Zamenjavo bi lahko izvedli z uporabo začasne spremenljivke. Obstaja pa tudi način s t.i. [naprednim rezanjem](http://docs.scipy.org/doc/numpy/reference/arrays.indexing.html), ki vrne kopijo, ne pogled:"
   ]
  },
  {
   "cell_type": "code",
   "execution_count": 173,
   "metadata": {
    "slideshow": {
     "slide_type": "fragment"
    }
   },
   "outputs": [
    {
     "data": {
      "text/plain": [
       "array([[ 0., -6.,  6.],\n",
       "       [-6.,  6., -6.],\n",
       "       [ 8., -6.,  3.]])"
      ]
     },
     "execution_count": 173,
     "metadata": {},
     "output_type": "execute_result"
    }
   ],
   "source": [
    "A[[0], :], A[[2], :] = A[[2], :], A[[0], :]\n",
    "A"
   ]
  },
  {
   "cell_type": "code",
   "execution_count": 174,
   "metadata": {
    "slideshow": {
     "slide_type": "fragment"
    }
   },
   "outputs": [
    {
     "data": {
      "text/plain": [
       "array([  6.,  36., -14.])"
      ]
     },
     "execution_count": 174,
     "metadata": {},
     "output_type": "execute_result"
    }
   ],
   "source": [
    "b[[0]], b[[2]] = b[[2]], b[[0]]\n",
    "b"
   ]
  },
  {
   "cell_type": "markdown",
   "metadata": {
    "slideshow": {
     "slide_type": "subslide"
    }
   },
   "source": [
    "Če bi sedaj izvedli Gaussovo eliminacijo v prvem stolpcu matrike $\\mathbf{A}$:"
   ]
  },
  {
   "cell_type": "code",
   "execution_count": 175,
   "metadata": {},
   "outputs": [
    {
     "name": "stderr",
     "output_type": "stream",
     "text": [
      "C:\\Users\\Janko\\Anaconda3\\lib\\site-packages\\ipykernel_launcher.py:1: RuntimeWarning: divide by zero encountered in double_scalars\n",
      "  \"\"\"Entry point for launching an IPython kernel.\n",
      "C:\\Users\\Janko\\Anaconda3\\lib\\site-packages\\ipykernel_launcher.py:1: RuntimeWarning: invalid value encountered in multiply\n",
      "  \"\"\"Entry point for launching an IPython kernel.\n"
     ]
    },
    {
     "data": {
      "text/plain": [
       "array([ nan, -inf,  inf])"
      ]
     },
     "execution_count": 175,
     "metadata": {},
     "output_type": "execute_result"
    }
   ],
   "source": [
    "A[1,:] - A[1,0]/A[0,0] * A[0,:]"
   ]
  },
  {
   "cell_type": "markdown",
   "metadata": {
    "slideshow": {
     "slide_type": "subslide"
    }
   },
   "source": [
    "Opazimo, da imamo težavo z deljenjem z 0 v prvi vrstici. Seveda pa se lahko zgodi, da vrednost ne bo 0, ampak bo zelo majhna vrednost $\\varepsilon$ in v tem primeru bomo pri Gaussovi eliminaciji delili z zelo majhno vrednostjo (to pa bi povečevalo nagotovost).\n",
    "\n",
    "Če bi pred Gaussovo eliminacijo ustrezno zamenjali vrstice (to imenujemo **pivotiranje vrstic**), potem teh težav ne bi imeli."
   ]
  },
  {
   "cell_type": "markdown",
   "metadata": {
    "slideshow": {
     "slide_type": "subslide"
    }
   },
   "source": [
    "Pokazati je mogoče, da pri reševanju sistema enačb $\\mathbf{A}\\,\\mathbf{x}=\\mathbf{b}$, pri katerem je matrika $\\mathbf{A}$ diagonalno dominantna, pivotiranje po vrsticah ni potrebno. Reševanje je brez pivotiranja numerično stabilno.\n",
    "\n",
    "Pravokotna matrika $\\mathbf{A}$ dimenzije $n$ je **diagonalno dominantna**, če je diagonalni element večji kot vsota absolutnih vrednosti ostalih elementov:\n",
    "$$ |A_{ii}|> \\sum_{j=1, j\\ne i}^n |A_{ij}|$$\n"
   ]
  },
  {
   "cell_type": "markdown",
   "metadata": {
    "slideshow": {
     "slide_type": "subslide"
    }
   },
   "source": [
    "## Gaussova eliminacija z delnim pivotiranjem"
   ]
  },
  {
   "cell_type": "markdown",
   "metadata": {},
   "source": [
    "Pogledali si bomo Gaussovo eliminacijo z **delnim pivotiranjem**. To v bistvu pomeni, da preden se izvede eliminacija, se preveri, ali je vrednost v izbranem stolpcu na diagonali res največja. Če vrednost ni največja, se diagonalno vrsto zamenja z vrsto (pod diagonalo), kjer je največja vrednost v stolpcu. V koliko bi izvedli **polno pivotiranje** bi poleg zamenjave vrstic, uporabili tudi zamenjavo vrstnega reda spremenljivk (zamenjava stolpcev). Polno pivotiranje izboljša stabilnost; se pa redko uporablja celo v komercialnih programih in ga tukaj ne bomo obravnavali.\n",
    "\n",
    "Spremenjen algoritem za Gaussovo eliminacijo z delnim pivotiranjem torej je:"
   ]
  },
  {
   "cell_type": "code",
   "execution_count": 176,
   "metadata": {
    "collapsed": true,
    "slideshow": {
     "slide_type": "subslide"
    }
   },
   "outputs": [],
   "source": [
    "def gaussova_eliminacija_pivotiranje(A, b, prikazi_korake=False):\n",
    "    \"\"\" Vrne Gaussovo eliminacijo razširjene matrike koeficientov, uporabi delno pivotiranje\n",
    "\n",
    "    :param A: matrika koeficientov\n",
    "    :param b: vektor konstant\n",
    "    :param prikazi_korake: ali izpišem posamezne korake\n",
    "    :return Ab: predelana razširjena matrika koeficientov\n",
    "    \"\"\"\n",
    "    Ab = np.column_stack((A, b))\n",
    "    for p in range(len(Ab)-1):\n",
    "        p_max = np.argmax(np.abs(Ab[p:,p]))+p\n",
    "        if p != p_max:\n",
    "            Ab[[p], :], Ab[[p_max], :] = Ab[[p_max], :], Ab[[p], :]\n",
    "        pivot_vrsta = Ab[p, :]                \n",
    "        for vrsta in Ab[p + 1:]:\n",
    "            if pivot_vrsta[p]:\n",
    "                vrsta[p:] -= pivot_vrsta[p:] * vrsta[p] / pivot_vrsta[p]\n",
    "        if prikazi_korake:\n",
    "            print('Korak: {:g}'.format(p))\n",
    "            print('Pivot vrsta:', pivot_vrsta)\n",
    "            print(Ab)\n",
    "    return Ab"
   ]
  },
  {
   "cell_type": "code",
   "execution_count": 177,
   "metadata": {
    "slideshow": {
     "slide_type": "subslide"
    }
   },
   "outputs": [
    {
     "data": {
      "text/plain": [
       "array([[ 0., -6.,  6.],\n",
       "       [-6.,  6., -6.],\n",
       "       [ 8., -6.,  3.]])"
      ]
     },
     "execution_count": 177,
     "metadata": {},
     "output_type": "execute_result"
    }
   ],
   "source": [
    "A"
   ]
  },
  {
   "cell_type": "code",
   "execution_count": 178,
   "metadata": {},
   "outputs": [
    {
     "name": "stdout",
     "output_type": "stream",
     "text": [
      "Korak: 0\n",
      "Pivot vrsta: [  8.  -6.   3. -14.]\n",
      "[[  8.    -6.     3.   -14.  ]\n",
      " [  0.     1.5   -3.75  25.5 ]\n",
      " [  0.    -6.     6.     6.  ]]\n",
      "Korak: 1\n",
      "Pivot vrsta: [ 0. -6.  6.  6.]\n",
      "[[  8.    -6.     3.   -14.  ]\n",
      " [  0.    -6.     6.     6.  ]\n",
      " [  0.     0.    -2.25  27.  ]]\n"
     ]
    }
   ],
   "source": [
    "Ab = gaussova_eliminacija_pivotiranje(A, b, prikazi_korake=True)"
   ]
  },
  {
   "cell_type": "markdown",
   "metadata": {
    "slideshow": {
     "slide_type": "subslide"
    }
   },
   "source": [
    "## Razcep LU z delnim pivotiranjem"
   ]
  },
  {
   "cell_type": "markdown",
   "metadata": {},
   "source": [
    "Podobno kakor pri Gaussovi eliminaciji, lahko razcep LU razširimo z delnim pivotiranjem in tako postane reševanje numerično **stabilno**. Paziti moramo na to, dashranimo, kako so se vrstice zamenjale in to potem posredovati tudi v funkcijo za rešitev."
   ]
  },
  {
   "cell_type": "code",
   "execution_count": 179,
   "metadata": {
    "collapsed": true,
    "slideshow": {
     "slide_type": "subslide"
    }
   },
   "outputs": [],
   "source": [
    "def LU_razcep_pivotiranje(A, prikazi_korake=False):\n",
    "    \"\"\" Vrne razcep LU matriko in vektor zamenjanih vrstic pivotiranje, uporabi delno pivotiranje\n",
    "\n",
    "    :param A:               matrika koeficientov\n",
    "    :param prikazi_korake:  izpišem posamezne korake\n",
    "    :return LU:             LU matrika\n",
    "    :return pivotiranje:    vektor zamenjave vrstic (pomembno pri iskanju rešitve)    \n",
    "    \"\"\"\n",
    "    LU = A.copy()\n",
    "    pivotiranje = np.arange(len(A))\n",
    "    for p in range(len(LU)-1):\n",
    "        p_max = np.argmax(np.abs(LU[p:,p]))+p\n",
    "        if p != p_max:\n",
    "            LU[[p], :], LU[[p_max], :] = LU[[p_max], :], LU[[p], :]\n",
    "            pivotiranje[p], pivotiranje[p_max] = pivotiranje[p_max], pivotiranje[p]\n",
    "        pivot_vrsta = LU[p, :]                \n",
    "        for vrsta in LU[p + 1:]:\n",
    "            if pivot_vrsta[p]:\n",
    "                m = vrsta[p] / pivot_vrsta[p]\n",
    "                vrsta[p:] -= pivot_vrsta[p:] * m\n",
    "                vrsta[p] = m\n",
    "            else:\n",
    "                raise Exception('Deljenje z 0.')\n",
    "        if prikazi_korake:\n",
    "            print('Korak: {:g}'.format(p))\n",
    "            print('Pivot vrsta:', pivot_vrsta)\n",
    "            print(LU)\n",
    "    return LU, pivotiranje"
   ]
  },
  {
   "cell_type": "code",
   "execution_count": 180,
   "metadata": {
    "collapsed": true,
    "slideshow": {
     "slide_type": "subslide"
    }
   },
   "outputs": [],
   "source": [
    "A = np.array([[0, -6, 6],\n",
    "              [-6, 6, -6],\n",
    "              [8, -6, 3]], dtype=float) # poskusite tukaj izpustiti dtype=float in \n",
    "b = np.array([-14, 36, 6], dtype=float)"
   ]
  },
  {
   "cell_type": "code",
   "execution_count": 181,
   "metadata": {
    "slideshow": {
     "slide_type": "subslide"
    }
   },
   "outputs": [
    {
     "name": "stdout",
     "output_type": "stream",
     "text": [
      "Korak: 0\n",
      "Pivot vrsta: [ 8. -6.  3.]\n",
      "[[ 8.   -6.    3.  ]\n",
      " [-0.75  1.5  -3.75]\n",
      " [ 0.   -6.    6.  ]]\n",
      "Korak: 1\n",
      "Pivot vrsta: [ 0. -6.  6.]\n",
      "[[ 8.   -6.    3.  ]\n",
      " [ 0.   -6.    6.  ]\n",
      " [-0.75 -0.25 -2.25]]\n"
     ]
    }
   ],
   "source": [
    "lu, piv = LU_razcep_pivotiranje(A, prikazi_korake=True)"
   ]
  },
  {
   "cell_type": "code",
   "execution_count": 182,
   "metadata": {},
   "outputs": [
    {
     "data": {
      "text/plain": [
       "array([2, 0, 1])"
      ]
     },
     "execution_count": 182,
     "metadata": {},
     "output_type": "execute_result"
    }
   ],
   "source": [
    "piv"
   ]
  },
  {
   "cell_type": "markdown",
   "metadata": {
    "slideshow": {
     "slide_type": "subslide"
    }
   },
   "source": [
    "Določimo sedaj še rešitev (koda za iskanje rešitve je v modulu `orodja.py`)"
   ]
  },
  {
   "cell_type": "code",
   "execution_count": 183,
   "metadata": {},
   "outputs": [],
   "source": [
    "from moduli import orodja"
   ]
  },
  {
   "cell_type": "code",
   "execution_count": 184,
   "metadata": {
    "slideshow": {
     "slide_type": "fragment"
    }
   },
   "outputs": [
    {
     "data": {
      "text/plain": [
       "array([ -3.66666667, -14.11111111, -16.44444444])"
      ]
     },
     "execution_count": 184,
     "metadata": {},
     "output_type": "execute_result"
    }
   ],
   "source": [
    "r = orodja.LU_resitev_pivotiranje(lu, b, piv)\n",
    "r"
   ]
  },
  {
   "cell_type": "markdown",
   "metadata": {
    "slideshow": {
     "slide_type": "fragment"
    }
   },
   "source": [
    "Preverjanje rešitve"
   ]
  },
  {
   "cell_type": "code",
   "execution_count": 185,
   "metadata": {},
   "outputs": [
    {
     "data": {
      "text/plain": [
       "array([-14.,  36.,   6.])"
      ]
     },
     "execution_count": 185,
     "metadata": {},
     "output_type": "execute_result"
    }
   ],
   "source": [
    "A@r"
   ]
  },
  {
   "cell_type": "markdown",
   "metadata": {
    "slideshow": {
     "slide_type": "slide"
    }
   },
   "source": [
    "# Modul ``SciPy``"
   ]
  },
  {
   "cell_type": "markdown",
   "metadata": {},
   "source": [
    "Modul ``SciPy`` temelji na ``numpy`` modulu in vsebuje veliko različnih visokonivojskih programov/modulov/funkcij. Teoretično ozadje modulov so seveda različni numerični algoritmi; nekatere spoznamo tudi v okviru tega učbenika. Dober vir teh numeričnih algoritmov v povezavi s 'SciPy' predstavlja [dokumentacija](https://docs.scipy.org/doc/scipy/reference/tutorial/).\n",
    "\n",
    "Kratek pregled hierarhije modula:\n",
    "\n",
    "* Linearna algebra ([scipy.linalg](http://docs.scipy.org/doc/scipy/reference/linalg.html))\n",
    "* Integracija ([scipy.integrate](http://docs.scipy.org/doc/scipy/reference/integrate.html))\n",
    "* Optimizacija ([scipy.optimize](http://docs.scipy.org/doc/scipy/reference/optimize.html))\n",
    "* Interpolacija ([scipy.interpolate](http://docs.scipy.org/doc/scipy/reference/interpolate.html))\n",
    "* Fourierjeva transformacija ([scipy.fftpack](http://docs.scipy.org/doc/scipy/reference/fftpack.html))"
   ]
  },
  {
   "cell_type": "markdown",
   "metadata": {
    "slideshow": {
     "slide_type": "subslide"
    }
   },
   "source": [
    "* Problem lastnih vrednosti (redke matrike) ([scipy.sparse](http://docs.scipy.org/doc/scipy/reference/sparse.html))\n",
    "* Statistika ([scipy.stats](http://docs.scipy.org/doc/scipy/reference/stats.html))\n",
    "* Procesiranje signalov ([scipy.signal](http://docs.scipy.org/doc/scipy/reference/signal.html))\n",
    "* Posebne funkcije ([scipy.special](http://docs.scipy.org/doc/scipy/reference/special.html))\n",
    "* Večdimenzijsko procesiranje slik ([scipy.ndimage](http://docs.scipy.org/doc/scipy/reference/ndimage.html))\n",
    "* Delo z datotekami ([scipy.io](http://docs.scipy.org/doc/scipy/reference/io.html))\n",
    "\n",
    "V sledečih predavanjih si bomo nekatere podmodule podrobneje pogledali."
   ]
  },
  {
   "cell_type": "markdown",
   "metadata": {
    "slideshow": {
     "slide_type": "subslide"
    }
   },
   "source": [
    "Poglejmo si, kako je znotraj ``scipy`` implementiran *LU razcep*:"
   ]
  },
  {
   "cell_type": "code",
   "execution_count": 186,
   "metadata": {
    "collapsed": true
   },
   "outputs": [],
   "source": [
    "from scipy.linalg import lu_factor, lu_solve"
   ]
  },
  {
   "cell_type": "markdown",
   "metadata": {
    "slideshow": {
     "slide_type": "subslide"
    }
   },
   "source": [
    "Funkcija ``lu_factor`` nam vrne terko (lu, piv):\n",
    "* lu - L\\U matrika (matrika, ki je enake dimenzije kot `A`, vendar pod diagonalo vsebuje elemente `L`, preostali elementi pa definirajo `U`; za diagonalo `L` vemo, da sestavljajo vrednosti 1.\n",
    "* piv - pivotni indeksi, predstavljajo permutacijsko matriko ``P``: vrsta  ``i`` matrike ``A`` je bila zamenjana z vrsto ``piv[i]`` (v vsakem koraku se upošteva predhodno stanje, malo drugačna logika kot v `LU_razcep_pivotiranje`).\n",
    "\n",
    "``lu_factor`` ([dokumentacija](https://docs.scipy.org/doc/scipy/reference/generated/scipy.linalg.lu_factor.html)) uporabljamo v paru z ``lu_solve`` ([dokumentacija](https://docs.scipy.org/doc/scipy/reference/generated/scipy.linalg.lu_solve.html)), ki nam poda rešitev."
   ]
  },
  {
   "cell_type": "code",
   "execution_count": 187,
   "metadata": {
    "collapsed": true,
    "slideshow": {
     "slide_type": "subslide"
    }
   },
   "outputs": [],
   "source": [
    "A = np.array([[0, -6, 6],            \n",
    "              [-6, 6, -6],\n",
    "              [8, -6, 3]], dtype=float) # poskusite tukaj izpustiti dtype=float in \n",
    "b = np.array([-14, 36, 6], dtype=float)"
   ]
  },
  {
   "cell_type": "code",
   "execution_count": 188,
   "metadata": {
    "collapsed": true,
    "slideshow": {
     "slide_type": "fragment"
    }
   },
   "outputs": [],
   "source": [
    "lu, piv = lu_factor(A)"
   ]
  },
  {
   "cell_type": "code",
   "execution_count": 189,
   "metadata": {},
   "outputs": [
    {
     "data": {
      "text/plain": [
       "array([[ 8.  , -6.  ,  3.  ],\n",
       "       [ 0.  , -6.  ,  6.  ],\n",
       "       [-0.75, -0.25, -2.25]])"
      ]
     },
     "execution_count": 189,
     "metadata": {},
     "output_type": "execute_result"
    }
   ],
   "source": [
    "lu"
   ]
  },
  {
   "cell_type": "code",
   "execution_count": 190,
   "metadata": {},
   "outputs": [
    {
     "data": {
      "text/plain": [
       "array([2, 2, 2], dtype=int32)"
      ]
     },
     "execution_count": 190,
     "metadata": {},
     "output_type": "execute_result"
    }
   ],
   "source": [
    "piv"
   ]
  },
  {
   "cell_type": "markdown",
   "metadata": {},
   "source": [
    "Pridobimo rešitev:"
   ]
  },
  {
   "cell_type": "code",
   "execution_count": 191,
   "metadata": {
    "slideshow": {
     "slide_type": "subslide"
    }
   },
   "outputs": [
    {
     "data": {
      "text/plain": [
       "array([ -3.66666667, -14.11111111, -16.44444444])"
      ]
     },
     "execution_count": 191,
     "metadata": {},
     "output_type": "execute_result"
    }
   ],
   "source": [
    "r = lu_solve((lu, piv), b)\n",
    "r"
   ]
  },
  {
   "cell_type": "markdown",
   "metadata": {},
   "source": [
    "In jo preverimo:"
   ]
  },
  {
   "cell_type": "code",
   "execution_count": 192,
   "metadata": {},
   "outputs": [
    {
     "data": {
      "text/plain": [
       "array([-14.,  36.,   6.])"
      ]
     },
     "execution_count": 192,
     "metadata": {},
     "output_type": "execute_result"
    }
   ],
   "source": [
    "A@r"
   ]
  },
  {
   "cell_type": "markdown",
   "metadata": {
    "slideshow": {
     "slide_type": "slide"
    }
   },
   "source": [
    "# Inverz matrik"
   ]
  },
  {
   "cell_type": "markdown",
   "metadata": {},
   "source": [
    "Inverzno matriko h kvadratni matriki $\\textbf{A}$ reda $n\\times n$ označimo z $\\textbf{A}^{-1}$ in je matrika reda $n\\times n$  takšna, da velja \n",
    "$$\\mathbf{A}\\,\\mathbf{A}^{-1} = \\mathbf{A}\\,\\mathbf{A}^{-1} = \\mathbf{I},$$\n",
    "kjer je $\\mathbf{I}$ enotska matrika.\n",
    "\n",
    "Najbolj učinkovit način za izračun inverzne od matrike $\\mathbf{A}$ je rešitev matrične enačbe:\n",
    "$$\\mathbf{A}\\,\\mathbf{X}=\\mathbf{I}.$$ \n",
    "Matrika $\\mathbf{X}$ predstavlja inverz na matriko $\\mathbf{A}$: $\\mathbf{A}^{-1}=\\mathbf{X}$."
   ]
  },
  {
   "cell_type": "markdown",
   "metadata": {
    "slideshow": {
     "slide_type": "subslide"
    }
   },
   "source": [
    "Izračun inverzne matrike je torej enak reševanju sledečega sistema enačb:\n",
    "$$\\mathbf{A}\\,\\mathbf{x}_i=\\mathbf{b}_i,\\qquad i=0,1,2,\\dots,n-1,$$\n",
    "kjer je $\\mathbf{b}_i$ $i$-ti stolpec matrike $\\mathbf{B}=\\mathbf{I}$."
   ]
  },
  {
   "cell_type": "markdown",
   "metadata": {
    "slideshow": {
     "slide_type": "subslide"
    }
   },
   "source": [
    "Numerična zahtevnost: izvedmo razcep LU nad matriko $\\mathbf{A}$ (računski obseg reda $n^3$) in nato poiskati rešitev za vsak $\\mathbf{x}_i$ ($2\\,n^2$ za vsak $i$)."
   ]
  },
  {
   "cell_type": "code",
   "execution_count": 193,
   "metadata": {
    "slideshow": {
     "slide_type": "subslide"
    }
   },
   "outputs": [
    {
     "data": {
      "text/plain": [
       "(array([[ 8.  , -6.  ,  3.  ],\n",
       "        [ 0.  , -6.  ,  6.  ],\n",
       "        [-0.75, -0.25, -2.25]]), array([2, 2, 2], dtype=int32))"
      ]
     },
     "execution_count": 193,
     "metadata": {},
     "output_type": "execute_result"
    }
   ],
   "source": [
    "lu_piv = lu_factor(A)\n",
    "lu_piv"
   ]
  },
  {
   "cell_type": "markdown",
   "metadata": {},
   "source": [
    "Tukaj se sedaj pokaže smisel razcepa LU; razcep namreč izračunamo samo enkrat in potem za vsak vektor konstant poiščemo rešitev. Izračunajmo torej inverzno matriko matriki $\\textbf{A}$, najprej z `np.identity()` pripravimo enotsko matriko:"
   ]
  },
  {
   "cell_type": "code",
   "execution_count": 194,
   "metadata": {
    "slideshow": {
     "slide_type": "subslide"
    }
   },
   "outputs": [
    {
     "data": {
      "text/plain": [
       "array([[ 1.,  0.,  0.],\n",
       "       [ 0.,  1.,  0.],\n",
       "       [ 0.,  0.,  1.]])"
      ]
     },
     "execution_count": 194,
     "metadata": {},
     "output_type": "execute_result"
    }
   ],
   "source": [
    "np.identity(len(A))"
   ]
  },
  {
   "cell_type": "markdown",
   "metadata": {},
   "source": [
    "In nato rešimo sistem enačb za vsak stolpec enotske matrike:"
   ]
  },
  {
   "cell_type": "code",
   "execution_count": 195,
   "metadata": {
    "collapsed": true
   },
   "outputs": [],
   "source": [
    "A_inv = np.zeros_like(A) #zeros_like nam vrne matriko oblike in tipa matrike A, vendar z vrednostmi 0\n",
    "for b, a_inv in zip(np.identity(len(A)), A_inv):\n",
    "    a_inv[:] = lu_solve(lu_piv, b)\n",
    "A_inv = A_inv.T"
   ]
  },
  {
   "cell_type": "markdown",
   "metadata": {
    "slideshow": {
     "slide_type": "subslide"
    }
   },
   "source": [
    "Rešitev torej je:"
   ]
  },
  {
   "cell_type": "code",
   "execution_count": 196,
   "metadata": {
    "slideshow": {
     "slide_type": "-"
    }
   },
   "outputs": [
    {
     "data": {
      "text/plain": [
       "array([[ -1.66666667e-01,  -1.66666667e-01,   1.38777878e-17],\n",
       "       [ -2.77777778e-01,  -4.44444444e-01,  -3.33333333e-01],\n",
       "       [ -1.11111111e-01,  -4.44444444e-01,  -3.33333333e-01]])"
      ]
     },
     "execution_count": 196,
     "metadata": {},
     "output_type": "execute_result"
    }
   ],
   "source": [
    "A_inv"
   ]
  },
  {
   "cell_type": "markdown",
   "metadata": {},
   "source": [
    "Preverimo rešitev:"
   ]
  },
  {
   "cell_type": "code",
   "execution_count": 197,
   "metadata": {},
   "outputs": [
    {
     "data": {
      "text/plain": [
       "array([[  1.00000000e+00,   0.00000000e+00,   1.11022302e-16],\n",
       "       [ -1.11022302e-16,   1.00000000e+00,  -1.11022302e-16],\n",
       "       [  1.66533454e-16,   0.00000000e+00,   1.00000000e+00]])"
      ]
     },
     "execution_count": 197,
     "metadata": {},
     "output_type": "execute_result"
    }
   ],
   "source": [
    "A@A_inv"
   ]
  },
  {
   "cell_type": "markdown",
   "metadata": {
    "slideshow": {
     "slide_type": "subslide"
    }
   },
   "source": [
    "Numpy rešitev:"
   ]
  },
  {
   "cell_type": "code",
   "execution_count": 198,
   "metadata": {},
   "outputs": [
    {
     "data": {
      "text/plain": [
       "array([[ -1.66666667e-01,  -1.66666667e-01,   1.38777878e-17],\n",
       "       [ -2.77777778e-01,  -4.44444444e-01,  -3.33333333e-01],\n",
       "       [ -1.11111111e-01,  -4.44444444e-01,  -3.33333333e-01]])"
      ]
     },
     "execution_count": 198,
     "metadata": {},
     "output_type": "execute_result"
    }
   ],
   "source": [
    "#%%timeit\n",
    "np.linalg.inv(A)"
   ]
  },
  {
   "cell_type": "markdown",
   "metadata": {
    "slideshow": {
     "slide_type": "subslide"
    }
   },
   "source": [
    "Scipy rešitev prek dekompozicije LU."
   ]
  },
  {
   "cell_type": "markdown",
   "metadata": {},
   "source": [
    "V funkcijo ``lu_solve`` lahko vstavimo vektor $\\mathbf{b}$ ali matriko $\\mathbf{B}$, kjer posamezni stolpec $i$ predstavlja vektor konstant $\\mathbf{b}_i$."
   ]
  },
  {
   "cell_type": "code",
   "execution_count": 199,
   "metadata": {},
   "outputs": [
    {
     "data": {
      "text/plain": [
       "array([[ -1.66666667e-01,  -1.66666667e-01,   1.38777878e-17],\n",
       "       [ -2.77777778e-01,  -4.44444444e-01,  -3.33333333e-01],\n",
       "       [ -1.11111111e-01,  -4.44444444e-01,  -3.33333333e-01]])"
      ]
     },
     "execution_count": 199,
     "metadata": {},
     "output_type": "execute_result"
    }
   ],
   "source": [
    "#%%timeit\n",
    "lu_solve(lu_piv, np.identity(len(A)))"
   ]
  },
  {
   "cell_type": "markdown",
   "metadata": {
    "slideshow": {
     "slide_type": "subslide"
    }
   },
   "source": [
    "# Reševanje predoločenih sistemov"
   ]
  },
  {
   "cell_type": "markdown",
   "metadata": {},
   "source": [
    "Kadar rešujemo sistem $m$ linearnih enačbami z $n$ neznankami ter velja $m>n$ in je rang $n+1$, imamo predoločeni sistem.\n",
    "\n",
    "Predoločeni (tudi **nekosistentni sistem**):\n",
    "$$\\mathbf{A}\\,\\mathbf{x}=\\mathbf{b},$$\n",
    "nima rešitve; lahko pa z metodo **najmanjših kvadratov** najdemo najboljši približek rešitve. Približek rešitve v tem primeru zapišemo s t. i. **psevdoinverzom** $\\mathbf{A^+}$:\n",
    "$$\\mathbf{x}=\\mathbf{A^{+}}\\,\\mathbf{b}.$$\n"
   ]
  },
  {
   "cell_type": "markdown",
   "metadata": {
    "slideshow": {
     "slide_type": "subslide"
    }
   },
   "source": [
    "Podrobnosti izračuna psevdo invertne matrike presegajo namen tega učbenika, ker pa se v praksi pogosto uporabljam, bomo tukaj navedli nekatere funkcije s katerimi se lahko izračuna:\n",
    "* `numpy.linalg` ima v implemenitrano funkcijo [pinv](https://docs.scipy.org/doc/numpy/reference/generated/numpy.linalg.pinv.html) \n",
    "* `scipy.linalg` pa več različnih funkcij [pinv, pinv2 in pinvh](https://docs.scipy.org/doc/scipy/reference/linalg.html); izbira funkcije je odvisna od obravnavanega problema; glejte dokumentacijo!\n",
    "\n",
    "Primer sistema z enolično rešitvijo:"
   ]
  },
  {
   "cell_type": "code",
   "execution_count": 200,
   "metadata": {},
   "outputs": [
    {
     "data": {
      "text/plain": [
       "array([ 1.,  2.])"
      ]
     },
     "execution_count": 200,
     "metadata": {},
     "output_type": "execute_result"
    }
   ],
   "source": [
    "# število enačb enako število neznank\n",
    "A = np.array([[1., 2],\n",
    "              [2, 3]])\n",
    "b = np.array([5., 8])\n",
    "np.linalg.solve(A, b)"
   ]
  },
  {
   "cell_type": "markdown",
   "metadata": {
    "slideshow": {
     "slide_type": "subslide"
    }
   },
   "source": [
    "Naredimo sedaj predoločeni sistem ([np.vstack()](https://docs.scipy.org/doc/numpy/reference/generated/numpy.vstack.html), sestavi sezname po stolpcih, [np.random.seed()](https://docs.scipy.org/doc/numpy/reference/generated/numpy.random.seed.html) ponastavi generator naključnih števil na vrednost semena `seed`, [np.random.normal()](https://docs.scipy.org/doc/numpy/reference/generated/numpy.random.normal.html) generira normalno porazdeljeni seznam dolžine `size` in standardne deviacije `scale`):"
   ]
  },
  {
   "cell_type": "code",
   "execution_count": 201,
   "metadata": {},
   "outputs": [
    {
     "data": {
      "text/plain": [
       "array([[ 1.01764052,  2.00400157],\n",
       "       [ 2.00978738,  3.02240893],\n",
       "       [ 1.01867558,  1.99022722],\n",
       "       [ 2.00950088,  2.99848643],\n",
       "       [ 0.99896781,  2.00410599],\n",
       "       [ 2.00144044,  3.01454274]])"
      ]
     },
     "execution_count": 201,
     "metadata": {},
     "output_type": "execute_result"
    }
   ],
   "source": [
    "vA = np.vstack([A,A,A]) \n",
    "np.random.seed(seed=0)\n",
    "vA += np.random.normal(scale=0.01, size=vA.shape)#pokvario rešitev, sicer bi bil sistem enolično rešljiv\n",
    "vA# matrika koeficientov"
   ]
  },
  {
   "cell_type": "code",
   "execution_count": 202,
   "metadata": {
    "slideshow": {
     "slide_type": "subslide"
    }
   },
   "outputs": [
    {
     "data": {
      "text/plain": [
       "array([ 5.00761038,  8.00121675,  5.00443863,  8.00333674,  5.01494079,\n",
       "        7.99794842])"
      ]
     },
     "execution_count": 202,
     "metadata": {},
     "output_type": "execute_result"
    }
   ],
   "source": [
    "vb = np.hstack([b,b,b])\n",
    "vb += np.random.normal(scale=0.01, size=vb.shape)\n",
    "vb# vektor konstant"
   ]
  },
  {
   "cell_type": "markdown",
   "metadata": {},
   "source": [
    "Najdimo rešitev z najmanjšo kvadratno napako:"
   ]
  },
  {
   "cell_type": "code",
   "execution_count": 203,
   "metadata": {},
   "outputs": [
    {
     "data": {
      "text/plain": [
       "array([ 0.94512271,  2.02675939])"
      ]
     },
     "execution_count": 203,
     "metadata": {},
     "output_type": "execute_result"
    }
   ],
   "source": [
    "Ap = np.linalg.pinv(vA)\n",
    "Ap.dot(vb)"
   ]
  },
  {
   "cell_type": "markdown",
   "metadata": {},
   "source": [
    "Vidimo, da predoločeni sistem z naključnimi vrednostmi (simulacija šuma pri meritvi) poda podoben rezultat kakor enolična rešitev. V kolikor bi nivo šuma povečevali, bi se odstopanje od enolične rešitve povečevalo."
   ]
  },
  {
   "cell_type": "markdown",
   "metadata": {
    "slideshow": {
     "slide_type": "slide"
    }
   },
   "source": [
    "# Iterativne metode"
   ]
  },
  {
   "cell_type": "markdown",
   "metadata": {},
   "source": [
    "Pogosto se srečamo z velikimi sistemi linearnih enačb, katerih matrika koeficientov ima malo od nič različnih elementov (take matrike imenujemo **redke** ali tudi **razpršene**, ang: sparse). \n",
    "\n",
    "Pri reševanju takih sistemov linearnih enačb se zelo dobro izkažejo iterativne metod; prednosti v primerjavi z direktnimi metodami so:\n",
    "* računske operacije se izvajajo samo nad neničelnimi elementi (kljub iterativnemu reševanju jih je lahko manj)\n",
    "* zahtevani spominski prostor je lahko neprimerno manjši."
   ]
  },
  {
   "cell_type": "markdown",
   "metadata": {
    "slideshow": {
     "slide_type": "subslide"
    }
   },
   "source": [
    "## Gauss-Seidlova metoda"
   ]
  },
  {
   "cell_type": "markdown",
   "metadata": {},
   "source": [
    "V nadaljevanju si bomo pogledali idejo *Gauss-Seidelove* iterativne metode. Najprej sistem enačb $\\mathbf{A}\\,\\mathbf{x}=\\mathbf{b}$ zapišemo kot:\n",
    "$$\\sum_{j=1}^n A_{ij}x_j=b_i\\qquad{}i=0,1,\\dots,n-1.$$\n",
    "Sedaj definiramo začetni približek $x_{j,0}$ ter is vsote izpostavimo člen $i$:\n",
    "$$A_{ii}\\,x_{i,0} +\\sum_{j=1, j\\ne i}^n A_{ij}x_{j,0}=b_i\\qquad{}i=0,1,\\dots,n-1,$$\n",
    "Ker začetni približki $x_{j,0}$ ne izpolnjujejo natančno linearnega problema, lahko iz zgornje enačbe določimo novi približek $x_{i,1}$:\n",
    "$$x_{i,1} =\\frac{1}{A_{ii}}\\left(b_i-\\sum_{j=1, j\\ne i}^n A_{ij}x_{j,0}\\right)$$\n",
    "\n",
    "Na tak način izboljšamo približek za vsak $i$ ($0,1,\\dots,n-1$) in potem začnemo znova z $i=0$. Iterativni pristop prekinemo, ko dosežemo želeno natančnost približka."
   ]
  },
  {
   "cell_type": "markdown",
   "metadata": {
    "slideshow": {
     "slide_type": "subslide"
    }
   },
   "source": [
    "## Zgled"
   ]
  },
  {
   "cell_type": "code",
   "execution_count": 204,
   "metadata": {
    "collapsed": true
   },
   "outputs": [],
   "source": [
    "A = np.array([[8, -1, 1],\n",
    "              [-1, 6, -1],\n",
    "              [0, -1, 6]], dtype=float) # poskusite tukaj izpustiti dtype=float in \n",
    "b = np.array([-14, 36, 6], dtype=float)"
   ]
  },
  {
   "cell_type": "markdown",
   "metadata": {},
   "source": [
    "Začetni približek:"
   ]
  },
  {
   "cell_type": "code",
   "execution_count": 205,
   "metadata": {},
   "outputs": [
    {
     "data": {
      "text/plain": [
       "array([ 0.,  0.,  0.])"
      ]
     },
     "execution_count": 205,
     "metadata": {},
     "output_type": "execute_result"
    }
   ],
   "source": [
    "x = np.zeros(len(A))\n",
    "x"
   ]
  },
  {
   "cell_type": "markdown",
   "metadata": {
    "slideshow": {
     "slide_type": "subslide"
    }
   },
   "source": [
    "Pripravimo matriko $\\mathbf{A}$ brez diagonalnih elementov (Zakaj? Poskusite odgovoriti spodaj, ko bomo izvedli iteracije.)"
   ]
  },
  {
   "cell_type": "code",
   "execution_count": 206,
   "metadata": {},
   "outputs": [],
   "source": [
    "K = A.copy() #naredimo kopijo, da ne povozimo podatkov\n",
    "np.fill_diagonal(K, np.zeros(3)) #spremenimo samo diagonalne elemente"
   ]
  },
  {
   "cell_type": "code",
   "execution_count": 207,
   "metadata": {},
   "outputs": [
    {
     "data": {
      "text/plain": [
       "array([[ 0., -1.,  1.],\n",
       "       [-1.,  0., -1.],\n",
       "       [ 0., -1.,  0.]])"
      ]
     },
     "execution_count": 207,
     "metadata": {},
     "output_type": "execute_result"
    }
   ],
   "source": [
    "K"
   ]
  },
  {
   "cell_type": "markdown",
   "metadata": {
    "slideshow": {
     "slide_type": "subslide"
    }
   },
   "source": [
    "Izvedemo iteracije:\n",
    "$$x_{i,1} =\\frac{1}{A_{ii}}\\left(b_i-\\sum_{j=1, j\\ne i}^n A_{ij}x_{j,0}\\right)\\qquad{}i=1,2,\\dots,n,$$"
   ]
  },
  {
   "cell_type": "code",
   "execution_count": 208,
   "metadata": {},
   "outputs": [
    {
     "name": "stdout",
     "output_type": "stream",
     "text": [
      "Korak 0 [-1.75  0.    0.  ]\n",
      "Korak 1 [-1.75        5.70833333  0.        ]\n",
      "Korak 2 [-1.75        5.70833333  1.95138889]\n"
     ]
    },
    {
     "data": {
      "text/plain": [
       "array([-1.75      ,  5.70833333,  1.95138889])"
      ]
     },
     "execution_count": 208,
     "metadata": {},
     "output_type": "execute_result"
    }
   ],
   "source": [
    "for i in range(len(A)): #opazujte kaj se dogaja, ko to celico poženete večkrat!\n",
    "    x[i] = (b[i]-K[i,:].dot(x))/A[i,i]\n",
    "    print('Korak', i, x)\n",
    "x"
   ]
  },
  {
   "cell_type": "markdown",
   "metadata": {
    "slideshow": {
     "slide_type": "subslide"
    }
   },
   "source": [
    "Preverimo rešitev"
   ]
  },
  {
   "cell_type": "code",
   "execution_count": 210,
   "metadata": {},
   "outputs": [
    {
     "data": {
      "text/plain": [
       "array([-17.75694444,  34.04861111,   6.        ])"
      ]
     },
     "execution_count": 210,
     "metadata": {},
     "output_type": "execute_result"
    }
   ],
   "source": [
    "A@x"
   ]
  },
  {
   "cell_type": "markdown",
   "metadata": {},
   "source": [
    "Metoda deluje dobro samo, če je matrika diagonalno dominantna (obstajajo pa metode, ki delujejo tudi, ko matrika ni diagonalno dominantna, glejte npr.: J. Petrišič, Reševanje enačb, 1996, str 149: Metoda konjugiranih gradientov)."
   ]
  },
  {
   "cell_type": "markdown",
   "metadata": {
    "slideshow": {
     "slide_type": "slide"
    }
   },
   "source": [
    "# Nekaj vprašanj za razmislek!"
   ]
  },
  {
   "cell_type": "markdown",
   "metadata": {},
   "source": [
    "Na sliki je prikazano paličje. Ob delovanju sil $F_1$ in $F_2$ se v palicah razvijejo notranje sile $P_i$. Dimenzije paličja zagotavljajata kota $\\alpha$ in $\\beta$.\n",
    "<img src=\"./fig/palicje_2.2_15.png\" width=300>\n",
    "Sile v palicah izračunamo s pomočjo sistema linearnih enačb.\n",
    "\n",
    "1. V simbolni obliki zapišite ravnotežje sil za točko 1 v $x$ in $y$ smeri (Namig: naloga tukaj je posplošitev naloge 15 na strani 81 v knjigi Numerical methods in Eng with Py 3 z nastavkom za rešitev):\n",
    "<img src=\"./fig/palicje_2.2_15_resitev.png\" width=300>\n",
    "Zgornji nastavek ima napako v predzadnji vrstici. Rešitev sistema v knjigi je: $P_{1} = -42000, P_{2}=-12000, P_{3}= 42426, P_{4} = -12000, P_{5} = 16971, P_{6} = 12000$\n",
    ").\n",
    "* V simbolni obliki zapišite ravnotežje sil za točko 2 v $x$ in $y$ smeri.\n",
    "* Najdite simbolno rešitev za sile $P_i$.\n",
    "* Uporabite podatke: $\\alpha=\\beta=\\pi/4$, $F_1=18$ kN in $F_2=12$ kN ter najdite številčno rešitev.\n",
    "* Pripravite si funkcijo, ki bo za poljubne podatke (npr: ``podatki = {a: pi/4, b: pi/4, F1: 18000, F2: 12000}``) vrnila numerično matriko koeficientov $\\mathbf{A}$ in vektor konstat $\\mathbf{b}$. Če ne uspete tega narediti avtomatizirano, delajte \"na roke\" (splača se vam potruditi, saj bomo to večkrat rabili).\n",
    "* Razširite zgornjo funkcijo, da vam vrne rešitev linearnega sistema (uporabite kar ``numpy`` knjižnico)\n",
    "* Predpostavite $F_1=F_2=10$ kN. V vsaj petih vrednostih kota $\\alpha=\\beta$ od 10$^{\\circ}$ do 80$^{\\circ}$ izračunajte sile v palicah.\n",
    "* Za primer iz predhodne naloge narišite sile v palicah.\n",
    "* S pomočjo funkcije ``np.linalg.solve`` izračunajte inverz poljubne matrike ``A`` (nato izračunajte še inverz s pomočjo funkcije ``np.linalg.inv``).\n",
    "* Na primeru poljubnih podatkov (npr: ``podatki = {a: pi/4, b: pi/4, F1: 18000, F2: 12000}``) pokažite Gaussovo eliminacijo z delnim pivotiranjem.\n",
    "* Na primeru poljubnih podatkov (npr: ``podatki = {a: pi/4, b: pi/4, F1: 18000, F2: 12000}``) pokažite Gauss-Seidlov iterativni pristop k iskanju rešitve."
   ]
  },
  {
   "cell_type": "markdown",
   "metadata": {
    "slideshow": {
     "slide_type": "subslide"
    }
   },
   "source": [
    "## Dodatno"
   ]
  },
  {
   "cell_type": "markdown",
   "metadata": {},
   "source": [
    "Analizirajte, koliko e-mailov dobite na dan:\n",
    "<img src=\"./fig/povprecje_emailov.jpg\" width=300>\n",
    "https://plot.ly/ipython-notebooks/graph-gmail-inbox-data/\n",
    "(Nasvet: sledite kodi in uporabite ``matplotlib`` za prikaz)."
   ]
  }
 ],
 "metadata": {
  "anaconda-cloud": {},
  "celltoolbar": "Slideshow",
  "kernelspec": {
   "display_name": "Python 3",
   "language": "python",
   "name": "python3"
  },
  "language_info": {
   "codemirror_mode": {
    "name": "ipython",
    "version": 3
   },
   "file_extension": ".py",
   "mimetype": "text/x-python",
   "name": "python",
   "nbconvert_exporter": "python",
   "pygments_lexer": "ipython3",
   "version": "3.6.1"
  },
  "latex_envs": {
   "bibliofile": "biblio.bib",
   "cite_by": "apalike",
   "current_citInitial": 1,
   "eqLabelWithNumbers": true,
   "eqNumInitial": 0
  },
  "livereveal": {
   "theme": "sky",
   "transition": "default",
   "width": 1200
  },
  "nav_menu": {},
  "toc": {
   "navigate_menu": true,
   "number_sections": true,
   "sideBar": true,
   "threshold": 6,
   "toc_cell": true,
   "toc_section_display": "block",
   "toc_window_display": true
  }
 },
 "nbformat": 4,
 "nbformat_minor": 1
}
