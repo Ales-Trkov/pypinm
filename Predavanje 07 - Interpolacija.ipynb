{
 "cells": [
  {
   "cell_type": "markdown",
   "metadata": {
    "slideshow": {
     "slide_type": "slide"
    }
   },
   "source": [
    "<font size=\"2\"> [github.com/jankoslavic/pypinm](http://github.com/jankoslavic/pypinm)</font>\n",
    "\n",
    "<center>\n",
    "<img width=300 src=\"./fig/ladisk.png\">\n",
    "<br>\n",
    "<font size=\"7\" color=\"f00e0e\" face=\"garamond\"><b>Interpolacija</b></font>\n",
    "<br><br>\n",
    "<font size=\"4\">\n",
    "[izr. prof. dr. Janko Slavič](http://www.ladisk.si/~slavic)\n",
    "</font>\n",
    "<br><br>\n",
    "<font size=\"2\">September 2017</font>\n",
    "</center>"
   ]
  },
  {
   "cell_type": "markdown",
   "metadata": {
    "slideshow": {
     "slide_type": "subslide"
    },
    "toc": "true"
   },
   "source": [
    "# Table of Contents\n",
    " <p><div class=\"lev1 toc-item\"><a href=\"#Uvod\" data-toc-modified-id=\"Uvod-1\"><span class=\"toc-item-num\">1&nbsp;&nbsp;</span>Uvod</a></div><div class=\"lev1 toc-item\"><a href=\"#Interpolacija-s-polinomom\" data-toc-modified-id=\"Interpolacija-s-polinomom-2\"><span class=\"toc-item-num\">2&nbsp;&nbsp;</span>Interpolacija s polinomom</a></div><div class=\"lev1 toc-item\"><a href=\"#Polinomska-interpolacija---Lagrangeva-metoda\" data-toc-modified-id=\"Polinomska-interpolacija---Lagrangeva-metoda-3\"><span class=\"toc-item-num\">3&nbsp;&nbsp;</span>Polinomska interpolacija - Lagrangeva metoda</a></div><div class=\"lev2 toc-item\"><a href=\"#Ocena-napake\" data-toc-modified-id=\"Ocena-napake-31\"><span class=\"toc-item-num\">3.1&nbsp;&nbsp;</span>Ocena napake</a></div><div class=\"lev2 toc-item\"><a href=\"#Primer-interpolacije\" data-toc-modified-id=\"Primer-interpolacije-32\"><span class=\"toc-item-num\">3.2&nbsp;&nbsp;</span>Primer interpolacije</a></div><div class=\"lev2 toc-item\"><a href=\"#Primer-ocene-napake-polinomske-interpolacije\" data-toc-modified-id=\"Primer-ocene-napake-polinomske-interpolacije-33\"><span class=\"toc-item-num\">3.3&nbsp;&nbsp;</span>Primer ocene napake polinomske interpolacije</a></div><div class=\"lev2 toc-item\"><a href=\"#Interpolacija-z-uporabo-scipy\" data-toc-modified-id=\"Interpolacija-z-uporabo-scipy-34\"><span class=\"toc-item-num\">3.4&nbsp;&nbsp;</span>Interpolacija z uporabo <code>scipy</code></a></div><div class=\"lev1 toc-item\"><a href=\"#Kubični-zlepki\" data-toc-modified-id=\"Kubični-zlepki-4\"><span class=\"toc-item-num\">4&nbsp;&nbsp;</span>Kubični zlepki</a></div><div class=\"lev2 toc-item\"><a href=\"#Naravni-kubični-zlepki\" data-toc-modified-id=\"Naravni-kubični-zlepki-41\"><span class=\"toc-item-num\">4.1&nbsp;&nbsp;</span>Naravni kubični zlepki</a></div><div class=\"lev2 toc-item\"><a href=\"#Numerična-implementacija\" data-toc-modified-id=\"Numerična-implementacija-42\"><span class=\"toc-item-num\">4.2&nbsp;&nbsp;</span>Numerična implementacija</a></div><div class=\"lev2 toc-item\"><a href=\"#Nekaj-komentarjev-modula-scipy.interpolate\" data-toc-modified-id=\"Nekaj-komentarjev-modula-scipy.interpolate-43\"><span class=\"toc-item-num\">4.3&nbsp;&nbsp;</span>Nekaj komentarjev modula <code>scipy.interpolate</code></a></div><div class=\"lev2 toc-item\"><a href=\"#Odvajanje,-integriranje-...-zlepkov\" data-toc-modified-id=\"Odvajanje,-integriranje-...-zlepkov-44\"><span class=\"toc-item-num\">4.4&nbsp;&nbsp;</span>Odvajanje, integriranje ... zlepkov</a></div><div class=\"lev1 toc-item\"><a href=\"#Nekaj-vprašanj-za-razmislek!\" data-toc-modified-id=\"Nekaj-vprašanj-za-razmislek!-5\"><span class=\"toc-item-num\">5&nbsp;&nbsp;</span>Nekaj vprašanj za razmislek!</a></div><div class=\"lev2 toc-item\"><a href=\"#Dodatno\" data-toc-modified-id=\"Dodatno-51\"><span class=\"toc-item-num\">5.1&nbsp;&nbsp;</span>Dodatno</a></div>"
   ]
  },
  {
   "cell_type": "markdown",
   "metadata": {
    "slideshow": {
     "slide_type": "slide"
    }
   },
   "source": [
    "# Uvod"
   ]
  },
  {
   "cell_type": "markdown",
   "metadata": {},
   "source": [
    "Pri **interpolaciji** izhajamo iz tabele (različnih) vrednosti $x_i, y_i$:\n",
    "\n",
    "| $x_0$  | $x_1$  | $\\dots$   | $x_{n-1}$ |\n",
    "|:-:|:-:|:-:|:-:|:-:|\n",
    "| $y_0$  | $y_1$  | $\\dots$   | $y_{n-1}$ |\n",
    "\n",
    "določiti pa želimo vmesne vrednosti. Če želimo določiti vrednosti zunaj območja $x$ v tabeli, govorimo o **ekstrapolaciji**."
   ]
  },
  {
   "cell_type": "markdown",
   "metadata": {
    "slideshow": {
     "slide_type": "subslide"
    }
   },
   "source": [
    "V okviru **interpolacije** (angl. *interpolation*) točke povežemo tako, da predpostavimo neko funkcijo in dodamo pogoj, da funkcija *mora* potekati skozi podane točke. \n",
    "\n",
    "Pri **aproksimaciji** (angl. *approximation* ali tudi *curve fitting*) pa predpostavimo funkcijo, ki se čimbolje (glede na izbrani kriterij) prilega podatkom. "
   ]
  },
  {
   "cell_type": "markdown",
   "metadata": {
    "slideshow": {
     "slide_type": "subslide"
    }
   },
   "source": [
    "Poglejmo si preprosti primer:"
   ]
  },
  {
   "cell_type": "code",
   "execution_count": 1,
   "metadata": {
    "collapsed": true,
    "slideshow": {
     "slide_type": "subslide"
    }
   },
   "outputs": [],
   "source": [
    "import numpy as np\n",
    "import matplotlib.pyplot as plt\n",
    "%matplotlib inline"
   ]
  },
  {
   "cell_type": "code",
   "execution_count": 2,
   "metadata": {
    "scrolled": true
   },
   "outputs": [
    {
     "data": {
      "image/png": "[encoded data removed]",
      "text/plain": [
       "<matplotlib.figure.Figure at 0x257be1ced68>"
      ]
     },
     "metadata": {},
     "output_type": "display_data"
    }
   ],
   "source": [
    "n = 3\n",
    "x = np.linspace(1, 4, n)\n",
    "f = np.cos # posplošimo interpolirano funkcijo (lahko spremenite v drugo funkcijo)\n",
    "f_ime = f.__str__().split('\\'')[1] # avtomatsko vzamemo ime funkcije\n",
    "y = f(x)\n",
    "x_g = np.linspace(np.min(x), np.max(x), 10*n)\n",
    "y_g = f(x_g)\n",
    "plt.plot(x, y, 'o', label='Interpolacijske točke');\n",
    "plt.plot(x_g, y_g, label=f_ime);\n",
    "plt.legend();"
   ]
  },
  {
   "cell_type": "markdown",
   "metadata": {
    "slideshow": {
     "slide_type": "slide"
    }
   },
   "source": [
    "# Interpolacija s polinomom"
   ]
  },
  {
   "cell_type": "markdown",
   "metadata": {},
   "source": [
    "Polinom stopnje $n-1$:\n",
    "$$y = a_{n-1}\\,x^{n-1} +a_{n-2}\\,x^{n-2} +\\cdots + a_{1}\\,x + a_0.$$\n",
    "\n",
    "je definiran z $n$ konstantami $a_i$. Da določimo $n$ konstant, potrebujemo $n$ (različnih) enačb. Za vsak par $x_i, y_i$ lahko torej zapišemo:\n",
    "$$y_i = a_{n-1}\\,x_i^{n-1} +a_{n-2}\\,x_i^{n-2} +\\cdots + a_{1}\\,x_i + a_0.$$"
   ]
  },
  {
   "cell_type": "markdown",
   "metadata": {
    "slideshow": {
     "slide_type": "subslide"
    }
   },
   "source": [
    "Ker imamo podanih $n$ parov, lahko določimo $n$ neznanih konstant $a_i$, ki definirajo polinom stopnje $n-1$. Sistem $n$ linearnih enačb lahko zapišemo:\n",
    "$$\n",
    "\\begin{bmatrix}\n",
    "x_{0}^{n-1}&x_{0}^{n-2}&\\dots&x_{0}^0\\\\\n",
    "x_{1}^{n-1}&x_{1}^{n-2}&\\dots&x_{1}^0\\\\\n",
    "&&\\vdots&&\\\\\n",
    "x_{n-1}^{n-1}&x_{n-1}^{n-2}&\\dots&x_{n-1}^0\\\\\n",
    "\\end{bmatrix}\n",
    "\\begin{pmatrix}\n",
    "a_{n-1}\\\\\n",
    "a_{n-2}\\\\\n",
    "\\vdots\\\\\n",
    "a_{0}\n",
    "\\end{pmatrix}=\n",
    "\\begin{pmatrix}\n",
    "y_{n-1}\\\\\n",
    "y_{n-2}\\\\\n",
    "\\vdots\\\\\n",
    "y_{0}\n",
    "\\end{pmatrix}\n",
    "$$"
   ]
  },
  {
   "cell_type": "markdown",
   "metadata": {
    "slideshow": {
     "slide_type": "subslide"
    }
   },
   "source": [
    "Sistem linearnim enačb tipično zapišemo v obliki:\n",
    "$$\\mathbf{A}\\,\\mathbf{x}=\\mathbf{b}$$\n",
    "(Tukaj naj nas ne zmoti, da je matrika koeficientov $\\mathbf{A}$ definirana z vrednostmi $x$ in vektor konstant $\\mathbf{b}$ z vrednostmi $y$ ter vektor neznank $\\mathbf{x}$ z $a$. \n",
    ")"
   ]
  },
  {
   "cell_type": "markdown",
   "metadata": {
    "slideshow": {
     "slide_type": "subslide"
    }
   },
   "source": [
    "Definirajmo matriko koeficientov $\\mathbf{A}$ in vektor konstant $\\mathbf{b}$:"
   ]
  },
  {
   "cell_type": "code",
   "execution_count": 3,
   "metadata": {
    "slideshow": {
     "slide_type": "fragment"
    }
   },
   "outputs": [
    {
     "data": {
      "text/plain": [
       "array([[  1.  ,   1.  ,   1.  ],\n",
       "       [  6.25,   2.5 ,   1.  ],\n",
       "       [ 16.  ,   4.  ,   1.  ]])"
      ]
     },
     "execution_count": 3,
     "metadata": {},
     "output_type": "execute_result"
    }
   ],
   "source": [
    "A = np.asarray([[_**p for p in reversed(range(len(x)))] for _ in x])\n",
    "A  "
   ]
  },
  {
   "cell_type": "code",
   "execution_count": 4,
   "metadata": {
    "collapsed": true
   },
   "outputs": [],
   "source": [
    "b = y"
   ]
  },
  {
   "cell_type": "markdown",
   "metadata": {
    "slideshow": {
     "slide_type": "subslide"
    }
   },
   "source": [
    "Koeficienti $a_{n-1}, a_{n-2},\\dots$ torej so:"
   ]
  },
  {
   "cell_type": "code",
   "execution_count": 5,
   "metadata": {
    "slideshow": {
     "slide_type": "-"
    }
   },
   "outputs": [
    {
     "data": {
      "text/plain": [
       "array([ 0.33087687, -2.05236633,  2.26179176])"
      ]
     },
     "execution_count": 5,
     "metadata": {},
     "output_type": "execute_result"
    }
   ],
   "source": [
    "resitev = np.linalg.solve(A, b)\n",
    "resitev"
   ]
  },
  {
   "cell_type": "markdown",
   "metadata": {
    "slideshow": {
     "slide_type": "subslide"
    }
   },
   "source": [
    "Pripravimo interpolacijski polinom kot Python funkcijo:"
   ]
  },
  {
   "cell_type": "code",
   "execution_count": 6,
   "metadata": {
    "collapsed": true
   },
   "outputs": [],
   "source": [
    "def y_function(x, resitev):\n",
    "    A = np.asarray([[_**p for p in reversed(range(len(resitev)))] for _ in x])\n",
    "    return A.dot(resitev)"
   ]
  },
  {
   "cell_type": "markdown",
   "metadata": {
    "slideshow": {
     "slide_type": "subslide"
    }
   },
   "source": [
    "In izris interpolacijskega polinoma pri bolj gosti mreži točk:"
   ]
  },
  {
   "cell_type": "code",
   "execution_count": 7,
   "metadata": {
    "scrolled": true
   },
   "outputs": [
    {
     "data": {
      "image/png": "[encoded data removed]",
      "text/plain": [
       "<matplotlib.figure.Figure at 0x257bf27e390>"
      ]
     },
     "metadata": {},
     "output_type": "display_data"
    }
   ],
   "source": [
    "xint = np.linspace(np.min(x), np.max(x), 50)\n",
    "yint = y_function(xint, resitev)\n",
    "plt.plot(x, y, 'o', label='Interpolacijske točke')\n",
    "plt.plot(xint, yint, '.',label='Interpolacija')\n",
    "plt.plot(x_g, y_g, '.',label=f_ime)\n",
    "plt.legend();"
   ]
  },
  {
   "cell_type": "markdown",
   "metadata": {
    "slideshow": {
     "slide_type": "subslide"
    }
   },
   "source": [
    "Slabosti zgornjega postopka so:\n",
    " * število numeričnih operacij raste sorazmerno z $n^3$,\n",
    " * problem je lahko slabo pogojen (z večanjem stopnje polinoma slaba pogojenost naglo narašča):"
   ]
  },
  {
   "cell_type": "code",
   "execution_count": 8,
   "metadata": {},
   "outputs": [
    {
     "data": {
      "text/plain": [
       "71.302278703110773"
      ]
     },
     "execution_count": 8,
     "metadata": {},
     "output_type": "execute_result"
    }
   ],
   "source": [
    "np.linalg.cond(A)"
   ]
  },
  {
   "cell_type": "markdown",
   "metadata": {},
   "source": [
    "*Navodilo*: vrnite se par vrstic nazaj in spremenite število interpolacijskih točk $n$ na višjo vrednost (npr. 10)."
   ]
  },
  {
   "cell_type": "markdown",
   "metadata": {
    "slideshow": {
     "slide_type": "slide"
    }
   },
   "source": [
    "# Polinomska interpolacija - Lagrangeva metoda"
   ]
  },
  {
   "cell_type": "markdown",
   "metadata": {
    "slideshow": {
     "slide_type": "fragment"
    }
   },
   "source": [
    "*Lagrangeva* metoda ne zahteva reševanja sistema enačb in je iz stališča števila računskih operacij (narašča sorazmerno z $n^2$ ([vir](http://www.ams.org/journals/mcom/1970-24-109/S0025-5718-1970-0258240-X/S0025-5718-1970-0258240-X.pdf))) boljša od predhodno predsavljene polinomske interpolacije (število operacij narašča sorazmerno z $n^3$), kjer smo reševali sistem linearnih enačb. Rešitev pa je seveda popolnoma enaka!"
   ]
  },
  {
   "cell_type": "markdown",
   "metadata": {
    "slideshow": {
     "slide_type": "subslide"
    }
   },
   "source": [
    "Lagrangev interpolacijski polinom stopnje $n-1$ je definiran kot:\n",
    "$$P_{n-1}(x)=\\sum_{i=0}^{n-1}y_i\\,l_i(x),$$\n",
    "kjer je $l_i$ definira Lagrangev polinom:\n",
    "$$l_i(x)=\\prod_{j=0, j\\ne i}^{n-1} \\frac{x-x_j}{x_i-x_j}.$$"
   ]
  },
  {
   "cell_type": "markdown",
   "metadata": {},
   "source": [
    "Opazimo torej, da je rezultat Lagrangeve polinomske interpolacije $n$ polinomov stopnje $n$ (polinome definiramo na podlagi $n+1$ točk). Poglejmo si interpolacijo za zgoraj prikazane $x$ in $y$ podatke."
   ]
  },
  {
   "cell_type": "markdown",
   "metadata": {
    "slideshow": {
     "slide_type": "subslide"
    }
   },
   "source": [
    "Definirajmo najprej Lagrangeve polinome $l_i(x)=\\prod_{j=0, j\\ne i}^{n-1} \\frac{x-x_j}{x_i-x_j}$:"
   ]
  },
  {
   "cell_type": "code",
   "execution_count": 9,
   "metadata": {
    "collapsed": true
   },
   "outputs": [],
   "source": [
    "def lagrange(x, x_int, i):\n",
    "    \"\"\" Vrne vrednosti i-tega Lagrangevega polinoma\n",
    "    \n",
    "    x: neodvisna spremenljivka (skalar ali numerično polje)\n",
    "    x_int: seznam interpolacijskih točk\n",
    "    i: indeks polinoma\n",
    "    \"\"\"\n",
    "    Lx = 1.0\n",
    "    for j in range(len(x_int)):\n",
    "        if j != i:\n",
    "            Lx *= (x-x_int[j]) / (x_int[i]-x_int[j])\n",
    "    return Lx"
   ]
  },
  {
   "cell_type": "code",
   "execution_count": 10,
   "metadata": {
    "collapsed": true,
    "slideshow": {
     "slide_type": "subslide"
    }
   },
   "outputs": [],
   "source": [
    "def slika(i=0):\n",
    "    xint = np.linspace(np.min(x), np.max(x), 30)\n",
    "    plt.plot(x, y, 'o', label='Interpolacijske točke')\n",
    "    plt.plot(x_g, lagrange(x_g, x_int=x, i=i), '.',label=f'Lagrangev polinom i={i}');\n",
    "    plt.plot(x_g, y_g, label=f_ime)\n",
    "    plt.axhline(0, color='k', linewidth=0.3);\n",
    "    for _ in x:\n",
    "        plt.axvline(_, color='r', linewidth=0.5);\n",
    "    plt.legend()\n",
    "    plt.show()"
   ]
  },
  {
   "cell_type": "code",
   "execution_count": 11,
   "metadata": {
    "slideshow": {
     "slide_type": "subslide"
    }
   },
   "outputs": [
    {
     "data": {
      "image/png": "[encoded data removed]",
      "text/plain": [
       "<matplotlib.figure.Figure at 0x257bf661550>"
      ]
     },
     "metadata": {},
     "output_type": "display_data"
    }
   ],
   "source": [
    "slika(i=0)"
   ]
  },
  {
   "cell_type": "markdown",
   "metadata": {
    "slideshow": {
     "slide_type": "subslide"
    }
   },
   "source": [
    "Opazimo, da ima $i$-ti Lagrangev polinom v $x_i$ vrednost 1, v ostalih podanih točkah pa nič!"
   ]
  },
  {
   "cell_type": "markdown",
   "metadata": {},
   "source": [
    "Če torej Lagrangev polinom za $i=0$ pomnožimo z $y_0$, bomo pri $x=x_0$ dobili pravo vrednost, v ostalih interpolacijskih točkah pa nič; implentirajmo torej Lagrangev interpolacijski polinom:\n",
    "$$P_{n-1}(x)=\\sum_{i=0}^{n-1}y_i\\,l_i(x),$$\n"
   ]
  },
  {
   "cell_type": "code",
   "execution_count": 12,
   "metadata": {
    "collapsed": true
   },
   "outputs": [],
   "source": [
    "def lagrange_interpolacija(x, x_int, y_int):\n",
    "    \"\"\" Vrne vrednosti Lagrangeve interpolacije\n",
    "    \n",
    "    x: neodvisna spremenljivka (skalar ali numerično polje)\n",
    "    x_int: seznam interpolacijskih točk\n",
    "    y_int: seznam interpolacijskih točk (odvisna spremenljivka)\n",
    "    \"\"\"\n",
    "    y = 0.\n",
    "    for i in range(len(x_int)):\n",
    "        Lx = 1.0\n",
    "        for j in range(len(x_int)):\n",
    "            if j != i:\n",
    "                Lx *= (x-x_int[j]) / (x_int[i]-x_int[j])\n",
    "        y += y_int[i] * Lx\n",
    "    return y"
   ]
  },
  {
   "cell_type": "markdown",
   "metadata": {
    "slideshow": {
     "slide_type": "subslide"
    }
   },
   "source": [
    "Pripravimo sliko:"
   ]
  },
  {
   "cell_type": "code",
   "execution_count": 13,
   "metadata": {
    "collapsed": true,
    "slideshow": {
     "slide_type": "subslide"
    }
   },
   "outputs": [],
   "source": [
    "def slika(i=0):\n",
    "    xint = np.linspace(np.min(x), np.max(x), 30)\n",
    "    plt.plot(x, y, 'o', label='Interpolacijske točke')\n",
    "    plt.plot(x_g, lagrange(x_g, x_int=x, i=i), '.',label=f'Lagrangev polinom i={i}');\n",
    "    plt.plot(x_g, lagrange_interpolacija(x_g, x_int=x, y_int=y), '.',label=f'Lagrangev int polinom');\n",
    "    plt.plot(x_g, y_g, label=f_ime)\n",
    "    plt.axhline(0, color='k', linewidth=0.3);\n",
    "    for _ in x:\n",
    "        plt.axvline(_, color='r', linewidth=0.5);\n",
    "    plt.legend()\n",
    "    plt.show()"
   ]
  },
  {
   "cell_type": "markdown",
   "metadata": {
    "slideshow": {
     "slide_type": "subslide"
    }
   },
   "source": [
    "In iz `ipywidgets` uvozimo ``interact``, ki je močno orodje za avtomatsko generiranje (preprostega) uporabniškega vmesnika znotraj `jupyter` okolja. Tukaj bomo uporabili relativno preprosto interakcijo s sliko; za pregled vseh zmožnosti pa radovednega bralca naslavljamo na [dokumentacijo](http://ipywidgets.readthedocs.io/en/latest/examples/Using%20Interact.html)."
   ]
  },
  {
   "cell_type": "markdown",
   "metadata": {
    "slideshow": {
     "slide_type": "subslide"
    }
   },
   "source": [
    "Uvoz funkcije ``interact``"
   ]
  },
  {
   "cell_type": "code",
   "execution_count": 14,
   "metadata": {
    "collapsed": true,
    "slideshow": {
     "slide_type": "-"
    }
   },
   "outputs": [],
   "source": [
    "from ipywidgets import interact"
   ]
  },
  {
   "cell_type": "code",
   "execution_count": 15,
   "metadata": {
    "slideshow": {
     "slide_type": "subslide"
    }
   },
   "outputs": [
    {
     "data": {
      "application/vnd.jupyter.widget-view+json": {
       "model_id": "2555798074a24a42ba266d91c4a78940",
       "version_major": 2,
       "version_minor": 0
      },
      "text/plain": [
       "A Jupyter Widget"
      ]
     },
     "metadata": {},
     "output_type": "display_data"
    }
   ],
   "source": [
    "interact(slika, i=(0,len(x)-1,1));"
   ]
  },
  {
   "cell_type": "markdown",
   "metadata": {
    "slideshow": {
     "slide_type": "subslide"
    }
   },
   "source": [
    "Ugotovimo, da ima Lagrangev polimon $i$ samo pri $x_i$ vrednost $y_i$ v ostalih točkah $\\ne i$ pa ima vrednosti nič. Očitno je, da z vsoto takih krivulj interpoliramo podatke."
   ]
  },
  {
   "cell_type": "markdown",
   "metadata": {
    "slideshow": {
     "slide_type": "-"
    }
   },
   "source": [
    "Če ne interpoliramo polinomske funkcije, se interpolaciji večjega števila točk (kot npr. 5) izogibamo saj je lahko interpolacija relativno slaba, še posebej, če $\\Delta x$ ni konstanten. "
   ]
  },
  {
   "cell_type": "markdown",
   "metadata": {
    "slideshow": {
     "slide_type": "subslide"
    }
   },
   "source": [
    "## Ocena napake"
   ]
  },
  {
   "cell_type": "markdown",
   "metadata": {},
   "source": [
    "Če je $f(x)$ funkcija, ki jo interpoliramo in je $P_{n-1}(x)$ Lagrangev interpolacijski polinom stopnje $n-1$, potem se lahko pokaže (glejte npr.: Burden, Faires, Burden: Numerical Analysis), da je napaka Lagrangeve interpolacije:\n",
    "$$e=f(x)-P_{n-1}(x)=\\frac{f^{(n)}(\\xi)}{n!}\\,(x-x_0)\\,(x-x_1)\\,\\cdots\\,(x-x_{n-1}),$$\n",
    "kjer je $f^{(n)}$ neznan odvod funkcije, $n$ stopnja interpolacijskega polinoma in $\\xi$ neznana vrednost na interpoliranem področju $[x_0, x_{n-1}]$."
   ]
  },
  {
   "cell_type": "markdown",
   "metadata": {
    "slideshow": {
     "slide_type": "subslide"
    }
   },
   "source": [
    "## Primer interpolacije"
   ]
  },
  {
   "cell_type": "code",
   "execution_count": 16,
   "metadata": {
    "collapsed": true
   },
   "outputs": [],
   "source": [
    "x = np.linspace(0, np.pi/2, 4)\n",
    "y = np.sin(x)\n",
    "#180*x/np.pi"
   ]
  },
  {
   "cell_type": "code",
   "execution_count": 17,
   "metadata": {},
   "outputs": [
    {
     "data": {
      "image/png": "[encoded data removed]",
      "text/plain": [
       "<matplotlib.figure.Figure at 0x257bf80c4e0>"
      ]
     },
     "metadata": {},
     "output_type": "display_data"
    }
   ],
   "source": [
    "plt.plot(x, y, 'o-');"
   ]
  },
  {
   "cell_type": "markdown",
   "metadata": {
    "slideshow": {
     "slide_type": "subslide"
    }
   },
   "source": [
    "Linearna interpolacija (iščemo vrednosti pri $\\sin(\\pi/4)$)!"
   ]
  },
  {
   "cell_type": "code",
   "execution_count": 18,
   "metadata": {},
   "outputs": [
    {
     "data": {
      "text/plain": [
       "0.6830127018922193"
      ]
     },
     "execution_count": 18,
     "metadata": {},
     "output_type": "execute_result"
    }
   ],
   "source": [
    "y_linearna = lagrange_interpolacija(x[-1]/2, x[1:3], y[1:3])\n",
    "y_linearna"
   ]
  },
  {
   "cell_type": "markdown",
   "metadata": {},
   "source": [
    "Kvadratna:"
   ]
  },
  {
   "cell_type": "code",
   "execution_count": 19,
   "metadata": {},
   "outputs": [
    {
     "data": {
      "text/plain": [
       "0.69975952641916439"
      ]
     },
     "execution_count": 19,
     "metadata": {},
     "output_type": "execute_result"
    }
   ],
   "source": [
    "y_kvadratna = lagrange_interpolacija(x[-1]/2, x[0:3], y[0:3])\n",
    "y_kvadratna"
   ]
  },
  {
   "cell_type": "markdown",
   "metadata": {},
   "source": [
    "Kubična"
   ]
  },
  {
   "cell_type": "code",
   "execution_count": 20,
   "metadata": {},
   "outputs": [
    {
     "data": {
      "text/plain": [
       "0.70588928962874664"
      ]
     },
     "execution_count": 20,
     "metadata": {},
     "output_type": "execute_result"
    }
   ],
   "source": [
    "y_kubična = lagrange_interpolacija(x[-1]/2, x, y)\n",
    "y_kubična"
   ]
  },
  {
   "cell_type": "markdown",
   "metadata": {
    "slideshow": {
     "slide_type": "subslide"
    }
   },
   "source": [
    "## Primer ocene napake polinomske interpolacije"
   ]
  },
  {
   "cell_type": "markdown",
   "metadata": {},
   "source": [
    "Pri interpolaciji ponavadi funkcije $f(x)$ ne poznamo; v primeru zgoraj pa je definirana in lahko izračunamo točno napako:"
   ]
  },
  {
   "cell_type": "code",
   "execution_count": 21,
   "metadata": {},
   "outputs": [
    {
     "name": "stdout",
     "output_type": "stream",
     "text": [
      "Linearna:  0.0240940792943\n",
      "Kvadratna: 0.00734725476738\n",
      "Kubična:   0.0012174915578\n"
     ]
    }
   ],
   "source": [
    "print('Linearna: ', np.sin(x[-1]/2)-y_linearna)\n",
    "print('Kvadratna:', np.sin(x[-1]/2)-y_kvadratna)\n",
    "print('Kubična:  ', np.sin(x[-1]/2)-y_kubična)"
   ]
  },
  {
   "cell_type": "markdown",
   "metadata": {},
   "source": [
    "*Napako bi pa lahko tudi ocenili s pomočjo formule:*\n",
    "$$e=\\frac{f^{(n)}(\\xi)}{n!}\\,(x-x_0)\\,(x-x_1)\\,\\cdots\\,(x-x_n)$$\n",
    "Ker je v primeru linearne aproksimacije ($n=2$) drugi odvod sinusne funkcije ($f^{(n)}$) omejen z -1, velja:\n",
    "$$e\\le\\frac{-1}{2!}\\,(\\pi/4-\\pi/6)\\,(\\pi/4-\\pi/3)=\\frac{1}{2}\\,\\frac{\\pi}{12}\\,\\frac{\\pi}{12}=\\frac{\\pi^2}{288}=0,033$$"
   ]
  },
  {
   "cell_type": "markdown",
   "metadata": {
    "slideshow": {
     "slide_type": "subslide"
    }
   },
   "source": [
    "Poleg **Lagrangeve metode** bi si tukaj lahko pogledali še **Newtonovo metodo** interpolacije, ki je numerično učinkovitejša. Kot pa smo pokazali zgoraj, čez večje število točk taka interpolacija ni smiselna , zato bomo v nadaljevanju pokazali interpolacijo s t. i. **zlepki** (angl. *spline*)."
   ]
  },
  {
   "cell_type": "markdown",
   "metadata": {
    "slideshow": {
     "slide_type": "subslide"
    }
   },
   "source": [
    "## Interpolacija z uporabo `scipy`"
   ]
  },
  {
   "cell_type": "markdown",
   "metadata": {},
   "source": [
    "Poglejmo si interpolacijo v okviru modula `scipy.interpolate` ([dokumentacija](https://docs.scipy.org/doc/scipy/reference/interpolate.html))."
   ]
  },
  {
   "cell_type": "markdown",
   "metadata": {
    "slideshow": {
     "slide_type": "subslide"
    }
   },
   "source": [
    "Uporabili bomo funkcijo za interpoliranje enodimenzijske tabele z zlepki, `scipy.interpolate.interp1d` ([dokumentacija](https://docs.scipy.org/doc/scipy/reference/generated/scipy.interpolate.interp1d.html#scipy.interpolate.interp1d)):\n",
    "\n",
    "```python\n",
    "interp1d(x, y, kind='linear', axis=-1, copy=True, bounds_error=None, fill_value=nan, assume_sorted=False)\n",
    "```\n",
    "\n",
    "Podati moramo vsaj dva parametra: interpolacijske točke `x` in `y`. Privzeti parameter `kind='linear'` pomeni, da inteproliramo z odsekoma linearno krivuljo. `interp1d` vrne funkcijo `f`, ki jo kličemo (npr. `y = f(x)`) za izračun interpolirane vrednosti. \n",
    "\n",
    "Parameter `kind` je lahko npr. tudi: `'zero'`, `'slinear'`, `'quadratic'` and `'cubic'`; takrat se uporabi interpolacijski zlepek (ang. *spline*) reda 0, 1, 2 oz 3. Zlepke si bomo pogledali v naslednjem poglavju."
   ]
  },
  {
   "cell_type": "code",
   "execution_count": 22,
   "metadata": {
    "collapsed": true
   },
   "outputs": [],
   "source": [
    "from scipy.interpolate import interp1d"
   ]
  },
  {
   "cell_type": "markdown",
   "metadata": {
    "slideshow": {
     "slide_type": "subslide"
    }
   },
   "source": [
    "Definirajmo tabelo podatkov:"
   ]
  },
  {
   "cell_type": "code",
   "execution_count": 23,
   "metadata": {
    "collapsed": true
   },
   "outputs": [],
   "source": [
    "x = np.linspace(1, 9, 8)\n",
    "y = np.sin(x)"
   ]
  },
  {
   "cell_type": "code",
   "execution_count": 24,
   "metadata": {},
   "outputs": [
    {
     "data": {
      "text/plain": [
       "array([ 1.        ,  2.14285714,  3.28571429,  4.42857143,  5.57142857,\n",
       "        6.71428571,  7.85714286,  9.        ])"
      ]
     },
     "execution_count": 24,
     "metadata": {},
     "output_type": "execute_result"
    }
   ],
   "source": [
    "x"
   ]
  },
  {
   "cell_type": "code",
   "execution_count": 25,
   "metadata": {},
   "outputs": [
    {
     "data": {
      "text/plain": [
       "array([ 0.84147098,  0.84078711, -0.14362322, -0.95999344, -0.65316501,\n",
       "        0.41787078,  0.999995  ,  0.41211849])"
      ]
     },
     "execution_count": 25,
     "metadata": {},
     "output_type": "execute_result"
    }
   ],
   "source": [
    "y"
   ]
  },
  {
   "cell_type": "code",
   "execution_count": 26,
   "metadata": {},
   "outputs": [
    {
     "data": {
      "text/plain": [
       "8"
      ]
     },
     "execution_count": 26,
     "metadata": {},
     "output_type": "execute_result"
    }
   ],
   "source": [
    "len(x)"
   ]
  },
  {
   "cell_type": "code",
   "execution_count": 27,
   "metadata": {
    "slideshow": {
     "slide_type": "subslide"
    }
   },
   "outputs": [
    {
     "data": {
      "image/png": "[encoded data removed]",
      "text/plain": [
       "<matplotlib.figure.Figure at 0x257bf679da0>"
      ]
     },
     "metadata": {},
     "output_type": "display_data"
    }
   ],
   "source": [
    "f = interp1d(x, y, kind='linear')\n",
    "x_g = np.linspace(x[0], x[-1], 20*len(x)-1)\n",
    "plt.plot(x, y, 'o', label='Interpolacijske točke')\n",
    "plt.plot(x_g, f(x_g), '-', label='Interpolacija')\n",
    "plt.legend();"
   ]
  },
  {
   "cell_type": "markdown",
   "metadata": {
    "slideshow": {
     "slide_type": "slide"
    }
   },
   "source": [
    "# Kubični zlepki"
   ]
  },
  {
   "cell_type": "markdown",
   "metadata": {},
   "source": [
    "Preden gremo v teorijo zlepkov si poglejmo rezultat, ki ga dobimo s klicanjem funkcije `interp1d` s parametrom `kind='cubic'` (rezultat je kubični zlepek)."
   ]
  },
  {
   "cell_type": "code",
   "execution_count": 28,
   "metadata": {
    "slideshow": {
     "slide_type": "subslide"
    }
   },
   "outputs": [
    {
     "data": {
      "image/png": "[encoded data removed]",
      "text/plain": [
       "<matplotlib.figure.Figure at 0x257bf8a94e0>"
      ]
     },
     "metadata": {},
     "output_type": "display_data"
    }
   ],
   "source": [
    "f = interp1d(x, y, kind='cubic')\n",
    "plt.plot(x, y, 'o', label='Interpolacijske točke')\n",
    "plt.plot(x_g, f(x_g), '-', label='Kubični zlepek')\n",
    "plt.plot(x_g, np.sin(x_g), label='sin', alpha=0.5)\n",
    "plt.legend();"
   ]
  },
  {
   "cell_type": "markdown",
   "metadata": {
    "slideshow": {
     "slide_type": "subslide"
    }
   },
   "source": [
    "Kubični zlepki so pogosti način interpolacije. Ob predpostavki $x_0<x_1< \\cdots <x_n$ gre za preprosto odsekovno interpolacijo s polinomom tretjega reda. \n",
    "\n",
    "Od točke $x_i$ do $x_{i+1}$ naj bo zlepek \n",
    "polinom:\n",
    "$$f_{i,i+1}(x)= a_{i,3}\\,x^3+a_{i,2}\\,x^2+a_{i,1}\\,x+a_{i,0},$$\n",
    "pri čemer so neznane vrednosti konstant $a_{i,j}$. Če imamo na primer $n+1$ točk, potem je treba določiti $n$ polinomskih funkcij (za primer treh točk potrebujemo dva polinoma: $f_{0,1}(x), f_{1,2}(x)$). \n",
    "\n",
    "Celotni zlepek čez $n$ točk je definiran z:\n",
    "$$f(x) = \\left\\{\n",
    "\\begin{array}{rcl}\n",
    "f_{0,1}(x); && x\\in[x_0, x_1)\\\\\n",
    "f_{1,2}(x); && x\\in[x_1, x_2)\\\\\n",
    "&\\vdots&\\\\\n",
    "f_{n-1,n}(x); && x\\in[x_{n-1}, x_n]\n",
    "\\end{array}\n",
    "\\right.\n",
    "$$\n",
    "\n",
    "Vsak polinom $f_{i,i+1}$ je definiran s 4 konstantami $a_{i,j}$; skupaj torej moramo izračunati $4n$ konstant $a_{i,j}$."
   ]
  },
  {
   "cell_type": "markdown",
   "metadata": {
    "slideshow": {
     "slide_type": "subslide"
    }
   },
   "source": [
    "**Kako določimo konstante $a_{i,j}$?**\n",
    "\n",
    "Za določitev $4n$ neznak potrebujemo $4n$ enačb. Poglejmo si, kako jih dobimo:\n",
    "* $n+1$ enačbo dobimo iz interpolacijskega pogoja: $$y_i=f_{i,i+1}(x_i)$$\n",
    "in za zadnjo točko $$y_n=f_{n-1,n}(x_n)$$\n",
    "* $2(n-1)$ enačb dobimo iz pogoja $C^1$zveznosti: \n",
    "$$\\lim_{x\\rightarrow x_i^-}f(x)=\\lim_{x\\rightarrow x_i^+}f(x)$$\n",
    "in\n",
    "$$\\lim_{x\\rightarrow x_i^-}f'(x)=\\lim_{x\\rightarrow x_i^+}f'(x)$$"
   ]
  },
  {
   "cell_type": "markdown",
   "metadata": {
    "slideshow": {
     "slide_type": "subslide"
    }
   },
   "source": [
    "Manjka nam še $n+1$ enačb. \n",
    "\n",
    "Različni tipi zlepkov se ločijo po tem, kako te enačbe izberemo. V nadaljevanju si bomo pogledali *naravne kubične zlepke*."
   ]
  },
  {
   "cell_type": "markdown",
   "metadata": {
    "slideshow": {
     "slide_type": "subslide"
    }
   },
   "source": [
    "## Naravni kubični zlepki"
   ]
  },
  {
   "cell_type": "markdown",
   "metadata": {},
   "source": [
    "*Naravni kubični zlepki* temeljijo na ideji Eulerjevega nosilca:\n",
    "$$E\\,I\\,\\frac{\\textrm{d}^4y}{\\textrm{d}x^4}=q(x),$$\n",
    "kjer je $E$ elastični modul, $I$ drugi moment preseka in $q(x)$ zunanja porazdeljena sila. Ker zunanje porazdeljene sile ni ($q(x)=0$), velja:\n",
    "$$E\\,I\\,\\frac{\\textrm{d}^4y}{\\textrm{d}x^4}=0.$$\n",
    "Sledi, da lahko v vsaki točki tanek nosilec popišemo s polinomom tretje stopnje. "
   ]
  },
  {
   "cell_type": "markdown",
   "metadata": {
    "slideshow": {
     "slide_type": "subslide"
    }
   },
   "source": [
    "Sedaj $n-1$ enačb določimo iz predpostavke, da je nosilec v znanih točkah členkasto vpet in se torej moment v členkih ne spremeni; to pomeni, da je 2. odvod v členkih zvezen (to imenujemo $C^2$ zveznost):\n",
    "\n",
    "$$\\lim_{x\\rightarrow x_i^-}f''(x)=\\lim_{x\\rightarrow x_i^+}f''(x)$$"
   ]
  },
  {
   "cell_type": "markdown",
   "metadata": {
    "slideshow": {
     "slide_type": "subslide"
    }
   },
   "source": [
    "Preostali 2 neznanki pri naravnih kubičnih zlepkih določimo iz pogoja, da je moment na koncih enak nič (členkasto vpetje):\n",
    "\n",
    "$$f''(x_{0})=0\\qquad\\textrm{in}\\qquad f''(x_{n})=0$$\n",
    "\n",
    "Izpeljava je natančneje prikazana v knjigi Kiusalaas J: Numerical Methods in Engineering with Python 3, 2013, stran 120 (glejte tudi J. Petrišič: Interpolacija, Fakulteta za strojništvo, 1999); podrobna izpeljava presega obseg te knjige. Tukaj si bomo pogledali samo končni rezultat, ki ga lahko izpeljemo ob zgornjih pogojih v primeru ekvidistantne delitve $h=x_{i+1}-x_i$ (takim zlepkom rečemo, da so *uniformni*). "
   ]
  },
  {
   "cell_type": "markdown",
   "metadata": {
    "slideshow": {
     "slide_type": "subslide"
    }
   },
   "source": [
    "Če uporabimo zapis  $k_i = f''_{i,i+1}$ ($i=0,1,\\dots,n-1$) lahko izpeljemo:\n",
    "\n",
    "$$\n",
    "f_{i,i+1}(x)=\\frac{k_i}{6}\\left(\\frac{(x-x_{i+1})^3}{h}-(x-x_{i+1})\\,h\\right)\n",
    "-\\frac{k_{i+1}}{6}\\left(\\frac{(x-x_{i})^3}{h}-(x-x_{i})\\,h\\right)\n",
    "+\\frac{y_i\\,(x-x_{i+1})-y_{i+1}\\,(x-x_{i})}{h}\n",
    "$$\n",
    "\n",
    "kjer je $h=x_i-x_{i+1}$ in $k_i$ določimo iz sistema linearnih enačb:\n",
    "\n",
    "$$k_{i-1} + 4 k_{i} + k_{i+1}  =  \\frac{6}{h^2} \\left(y_{i-1} -2 y_{i} +y_{i+1} \\right).$$\n",
    "\n",
    "Če na koncih ni momenta, velja:\n",
    "\n",
    "$$k_0=k_n=0.$$"
   ]
  },
  {
   "cell_type": "markdown",
   "metadata": {
    "slideshow": {
     "slide_type": "subslide"
    }
   },
   "source": [
    "## Numerična implementacija"
   ]
  },
  {
   "cell_type": "markdown",
   "metadata": {},
   "source": [
    "Najprej definirajmo funkcijo za izračun koeficientov $k_i$:\n",
    "\n",
    "$$k_{i-1} + 4 k_{i} + k_{i+1}  =  \\frac{6}{h^2} \\left(y_{i-1} -2 y_{i} +y_{i+1} \\right).$$\n",
    "\n",
    "Konstante pred $k_i$ definirajo matriko koeficientov (tipično označimo z $\\mathbf{A}$), $k_i$ so neznanke (tipično označimo z $\\mathbf{x}$) in desna stran zgornje enačbe vektor konstant (tipično označimo z $\\mathbf{b}$)."
   ]
  },
  {
   "cell_type": "code",
   "execution_count": 29,
   "metadata": {
    "collapsed": true,
    "slideshow": {
     "slide_type": "subslide"
    }
   },
   "outputs": [],
   "source": [
    "def kubicni_zlepki_koeficient(x, y):\n",
    "    \"\"\" Vrne koeficiente kubičnih zlepkov `k`, matriko koeficientov `A` in konstant.\n",
    "    \n",
    "    x in y predstavljata seznam znanih vrednosti; x mora biti ekvidistanten.\n",
    "    \"\"\"\n",
    "    n = len(x)\n",
    "    A = np.zeros((n, n)) # pripravimo matriko koeficientov\n",
    "    h = x[1]-x[0] # korak h\n",
    "    for i in range(n):\n",
    "        if i==0 or i==n-1:\n",
    "            A[i,i] = 1. # k_0 in k_n sta nič zato tukaj damo 1\n",
    "                       # pri vektorju konstant pa bomo dali 0, k_0 in k_n bosta torej 0\n",
    "        else:\n",
    "            A[i, i-1:i+2] = np.asarray([1., 4., 1.])\n",
    "    b = np.zeros(n)\n",
    "    b[1:-1] = (6/h**2)*(y[:-2] - 2*y[1:-1] + y[2:]) # desna stran zgornje enačbe\n",
    "    k = np.linalg.solve(A,b)\n",
    "    return k, A, b"
   ]
  },
  {
   "cell_type": "markdown",
   "metadata": {
    "slideshow": {
     "slide_type": "subslide"
    }
   },
   "source": [
    "Poglejmo si primer izračuna koeficientov:"
   ]
  },
  {
   "cell_type": "code",
   "execution_count": 30,
   "metadata": {
    "slideshow": {
     "slide_type": "-"
    }
   },
   "outputs": [
    {
     "name": "stdout",
     "output_type": "stream",
     "text": [
      "Matrika koeficientov A lin. sistema: [[ 1.  0.  0.  0.  0.]\n",
      " [ 1.  4.  1.  0.  0.]\n",
      " [ 0.  1.  4.  1.  0.]\n",
      " [ 0.  0.  1.  4.  1.]\n",
      " [ 0.  0.  0.  0.  1.]]\n",
      "Vektor konstant b lin. sistema:      [  0. -12.  12. -12.   0.]\n",
      "Koeficienti k so: [ 0.         -4.28571429  5.14285714 -4.28571429  0.        ]\n"
     ]
    }
   ],
   "source": [
    "x = np.asarray([1, 2, 3, 4, 5])\n",
    "y = np.asarray([0, 1, 0, 1, 0])\n",
    "\n",
    "k, A, b = kubicni_zlepki_koeficient(x, y)\n",
    "print('Matrika koeficientov A lin. sistema:', A)\n",
    "print('Vektor konstant b lin. sistema:     ', b)\n",
    "print('Koeficienti k so:', k)"
   ]
  },
  {
   "cell_type": "markdown",
   "metadata": {
    "slideshow": {
     "slide_type": "subslide"
    }
   },
   "source": [
    "Nato potrebujemo še kubični polinom v določenem intervalu; implementirajmo izraz:\n",
    "\n",
    "$$\n",
    "f_{i,i+1}(x)=\\frac{k_i}{6}\\left(\\frac{(x-x_{i+1})^3}{h}-(x-x_{i+1})\\,h\\right)\n",
    "-\\frac{k_{i+1}}{6}\\left(\\frac{(x-x_{i})^3}{h}-(x-x_{i})\\,h\\right)\n",
    "+\\frac{y_i\\,(x-x_{i+1})-y_{i+1}\\,(x-x_{i})}{h}\n",
    "$$"
   ]
  },
  {
   "cell_type": "code",
   "execution_count": 31,
   "metadata": {
    "collapsed": true,
    "slideshow": {
     "slide_type": "subslide"
    }
   },
   "outputs": [],
   "source": [
    "def kubicni_zlepki(k, x, y, x_najdi):\n",
    "    \"\"\" Vrne kubicni zlepek pri delitvi `xint`.\n",
    "    \n",
    "    :param k: koeficienti kubičnih zlepkov\n",
    "    :param x in y: znane vrednosti, x mora biti ekvidistanten\n",
    "    :param x_najdi: vrednosti kjer želimo izračunati kubični zlepek\n",
    "    \"\"\"  \n",
    "    h = x[0] - x[1]\n",
    "    i = int((x_najdi-x[0])//(-h))\n",
    "    if i >= len(k)-1:\n",
    "        i = len(k)-2\n",
    "    out = ((x_najdi - x[i+1])**3/h - (x_najdi - x[i+1])*h)*k[i]/6.0 \\\n",
    "        - ((x_najdi - x[i])**3/h - (x_najdi - x[i])*h)*k[i+1]/6.0 \\\n",
    "        + (y[i]*(x_najdi - x[i+1]) \\\n",
    "        - y[i+1]*(x_najdi - x[i]))/h\n",
    "    return out"
   ]
  },
  {
   "cell_type": "markdown",
   "metadata": {
    "slideshow": {
     "slide_type": "subslide"
    }
   },
   "source": [
    "In izračunamo interpolirane vrednosti:"
   ]
  },
  {
   "cell_type": "code",
   "execution_count": 32,
   "metadata": {
    "collapsed": true
   },
   "outputs": [],
   "source": [
    "xint = np.linspace(np.min(x), np.max(x), 50)\n",
    "yint = np.asarray([kubicni_zlepki(k, x, y, _) for _ in xint])"
   ]
  },
  {
   "cell_type": "code",
   "execution_count": 33,
   "metadata": {
    "slideshow": {
     "slide_type": "subslide"
    }
   },
   "outputs": [
    {
     "data": {
      "image/png": "[encoded data removed]",
      "text/plain": [
       "<matplotlib.figure.Figure at 0x257bfd44828>"
      ]
     },
     "metadata": {},
     "output_type": "display_data"
    }
   ],
   "source": [
    "plt.plot(x, y, 'o', label='Interpolacijske točke')\n",
    "plt.plot(xint, yint, label='Naravni kubični zlepek')\n",
    "plt.legend();"
   ]
  },
  {
   "cell_type": "markdown",
   "metadata": {
    "slideshow": {
     "slide_type": "subslide"
    }
   },
   "source": [
    "## Nekaj komentarjev modula ``scipy.interpolate``"
   ]
  },
  {
   "cell_type": "markdown",
   "metadata": {},
   "source": [
    "SciPy ima implementiranih večje število različnih interpolacij ([glejte dokumentacijo](https://docs.scipy.org/doc/scipy/reference/interpolate.html)). Iz stališča uporabe se bomo tukaj dotaknili  objektne implementacije `scipy.interpolate.InterpolatedUnivariateSpline` ([dokumentacija](https://docs.scipy.org/doc/scipy/reference/generated/scipy.interpolate.InterpolatedUnivariateSpline.html)) (starejši pristop temelji na funkcijskem programiranju, glejte  [dokumentacijo](https://docs.scipy.org/doc/scipy/reference/generated/scipy.interpolate.splrep.html) `scipy.interpolate.splrep`):"
   ]
  },
  {
   "cell_type": "markdown",
   "metadata": {},
   "source": [
    "```python\n",
    "InterpolatedUnivariateSpline(x, y, w=None, bbox=[None, None], k=3, ext=0, check_finite=False)\n",
    "```\n",
    "\n",
    "Pri inicializaciji objekta `InterpolatedUnivariateSpline` moramo posredovati interpolacijske točke `x` in `y`. Argument `k` s privzeto vrednostjo `k=3` definira red intepolacijskega zlepka (`1<=k<=5`). Pomemben opcijski parameter je tudi `w`, ki definira uteži posameznim interpolacijskim točkam (uporabimo ga, če želimo določenim področjem dati večji poudarek)."
   ]
  },
  {
   "cell_type": "code",
   "execution_count": 34,
   "metadata": {
    "collapsed": true,
    "slideshow": {
     "slide_type": "subslide"
    }
   },
   "outputs": [],
   "source": [
    "from scipy.interpolate import InterpolatedUnivariateSpline"
   ]
  },
  {
   "cell_type": "code",
   "execution_count": 35,
   "metadata": {
    "slideshow": {
     "slide_type": "subslide"
    }
   },
   "outputs": [
    {
     "data": {
      "image/png": "[encoded data removed]",
      "text/plain": [
       "<matplotlib.figure.Figure at 0x257bf41d7b8>"
      ]
     },
     "metadata": {},
     "output_type": "display_data"
    }
   ],
   "source": [
    "spl = InterpolatedUnivariateSpline(x, y, k=3) # poglejte opcije!\n",
    "plt.plot(x, y, 'o', label='Interpolacijske točke')\n",
    "plt.plot(xint, spl(xint), label='Kubični zlepek');\n",
    "plt.plot(spl.get_knots(), spl(spl.get_knots()), 'r.', label='Vozli B-zlepkov')\n",
    "plt.plot(xint, yint, label='Naravni kubični zlepki - lastna koda');\n",
    "plt.legend();"
   ]
  },
  {
   "cell_type": "markdown",
   "metadata": {
    "slideshow": {
     "slide_type": "subslide"
    }
   },
   "source": [
    "Ker gre za B-zlepke, je rezultat drugačen kot tisti, ki smo ga izpeljali z naravnimi kubičnimi zlepki. V nasprotju z naravnimi kubičnimi zlepki, ki imajo vozle (angl. *knots*) v interpolacijskih točkah, so vozli B-zlepkov prilagodijo podatkom. V konkretnem primeru so vozli v točkah:"
   ]
  },
  {
   "cell_type": "code",
   "execution_count": 36,
   "metadata": {},
   "outputs": [
    {
     "data": {
      "text/plain": [
       "array([ 1.,  3.,  5.])"
      ]
     },
     "execution_count": 36,
     "metadata": {},
     "output_type": "execute_result"
    }
   ],
   "source": [
    "spl.get_knots()"
   ]
  },
  {
   "cell_type": "markdown",
   "metadata": {
    "slideshow": {
     "slide_type": "subslide"
    }
   },
   "source": [
    "## Odvajanje, integriranje ... zlepkov"
   ]
  },
  {
   "cell_type": "markdown",
   "metadata": {},
   "source": [
    "Zlepke lahko odvajamo in integriramo, saj so polinomi. Objekt ``InterpolatedUnivariateSpline`` je tako že pripravljen za odvajanje, integriranje, iskanje korenov (ničel), vozlov... (glejte [dokumentacijo](https://docs.scipy.org/doc/scipy/reference/generated/scipy.interpolate.InterpolatedUnivariateSpline.html)).\n",
    "\n",
    "Za prvi odvod krivulje zlepkov v objektu `spl` na primer uporabimo metodo ``spl.derivative(1)``, ki vrne nov objekt krivulje zlepkov (njen red je sedaj za 1 nižji):"
   ]
  },
  {
   "cell_type": "code",
   "execution_count": 37,
   "metadata": {
    "slideshow": {
     "slide_type": "subslide"
    }
   },
   "outputs": [
    {
     "data": {
      "image/png": "[encoded data removed]",
      "text/plain": [
       "<matplotlib.figure.Figure at 0x257bfd8b4e0>"
      ]
     },
     "metadata": {},
     "output_type": "display_data"
    }
   ],
   "source": [
    "spl1 = spl.derivative(1)\n",
    "#spl2 = spl.derivative(2)\n",
    "#spl3 = spl.derivative(3)\n",
    "plt.plot(xint, spl(xint), lw=3, label='Zlepek')\n",
    "plt.plot(xint, spl1(xint), label='Prvi odvod')\n",
    "#plt.plot(xint, spl2(xint), label='Drugi odvod')\n",
    "#plt.plot(xint, spl3(xint), label='Tretji odvod')\n",
    "plt.plot(x, y, 'ro', label='Znane vrednosti')\n",
    "#plt.plot(spl.get_knots(), spl(spl.get_knots()), 'k.', label='Vozli B-zlepka')\n",
    "plt.legend(loc=(1.01, 0));"
   ]
  },
  {
   "cell_type": "markdown",
   "metadata": {
    "slideshow": {
     "slide_type": "slide"
    }
   },
   "source": [
    "# Nekaj vprašanj za razmislek!"
   ]
  },
  {
   "cell_type": "markdown",
   "metadata": {},
   "source": [
    "\n",
    "1. Preštudirajte Lagrangevo polinomsko interpolacijo in pripravite funkcijo za Lagrangeve polinome. Pojasnite (z grafičnim prikazom) Lagrangeve polinome.\n",
    "* Definirajte funkcijo za Lagrangevo polinomsko interpolacijo. Na primeru pojasnite kako deluje.\n",
    "* Pojasnite teoretično ozadje naravnih kubičnih zlepkov.\n",
    "* Naravne kubične zlepke smo izpeljali pod pogojem, da momenta na koncu ni; včasih želim drugačne pogoje na koncih (npr. znani naklon ali znani moment). Modificirajte na predavanjih predstavljeno kodo za primer, da je na koncih moment $\\ne 0$ (predpostavite neko numerično vrednost).\n",
    "* Podatke:\n",
    "    ```python\n",
    "    x = np.linspace(0, 10, 10)\n",
    "    y = np.random.rand(10)-0.5\n",
    "    ```\n",
    "  interpolirajte z uporabo ``scipy.InterpolatedUnivariateSpline``. Podatke prikažite.\n",
    "* Za zgoraj definirane podatke preučite pomoč in najdite vse ničle. Prikažite jih na predhodni sliki.\n",
    "* Za zgoraj definirani zlepek izračunajte prvi odvod in ga prikažite.\n",
    "* Za zgoraj definirani zlepek izračunajte določeni integral od začetka do konca.\n",
    "* Za zgoraj definirane podatke z uporabo vgrajenih funkcij prikažite izračun linearnega in kvadratnega zlepka. Prikažite na sliki.\n",
    "* Preučite pomoč za funkcijo ``scipy.interpolate.lagrange`` in k predhodni sliki dodajte Lagrangev interpolacijski polinom. Komentirajte rezultate.\n",
    "* Preučite pomoč za funkcijo ``scipy.interpolate.interp1d`` in k predhodni sliki dodajte kvadratni zlepek.\n",
    "* Preučite pomoč za funkcijo ``scipy.interpolate.BarycentricInterpolator`` in pojasnite ter prikažite njeno prednost.\n",
    "* Preučite pomoč za funkcijo ``scipy.interpolate.KroghInterpolator`` in pojasnite njeno prednost."
   ]
  },
  {
   "cell_type": "markdown",
   "metadata": {
    "slideshow": {
     "slide_type": "subslide"
    }
   },
   "source": [
    "## Dodatno"
   ]
  },
  {
   "cell_type": "markdown",
   "metadata": {},
   "source": [
    "* 2D interpolacja: https://www.youtube.com/watch?v=_cJLVhdj0j4\n",
    "* Strojno prevajanje: https://pypi.python.org/pypi/goslate)"
   ]
  }
 ],
 "metadata": {
  "anaconda-cloud": {},
  "celltoolbar": "Slideshow",
  "kernelspec": {
   "display_name": "Python 3",
   "language": "python",
   "name": "python3"
  },
  "language_info": {
   "codemirror_mode": {
    "name": "ipython",
    "version": 3
   },
   "file_extension": ".py",
   "mimetype": "text/x-python",
   "name": "python",
   "nbconvert_exporter": "python",
   "pygments_lexer": "ipython3",
   "version": "3.6.2"
  },
  "latex_envs": {
   "bibliofile": "biblio.bib",
   "cite_by": "apalike",
   "current_citInitial": 1,
   "eqLabelWithNumbers": true,
   "eqNumInitial": 0
  },
  "livereveal": {
   "theme": "sky",
   "transition": "default",
   "width": 1200
  },
  "nav_menu": {},
  "toc": {
   "colors": {
    "hover_highlight": "#DAA520",
    "navigate_num": "#000000",
    "navigate_text": "#333333",
    "running_highlight": "#FF0000",
    "selected_highlight": "#FFD700",
    "sidebar_border": "#EEEEEE",
    "wrapper_background": "#FFFFFF"
   },
   "moveMenuLeft": true,
   "nav_menu": {
    "height": "299px",
    "width": "252px"
   },
   "navigate_menu": true,
   "number_sections": true,
   "sideBar": true,
   "threshold": "2",
   "toc_cell": true,
   "toc_section_display": "block",
   "toc_window_display": true,
   "widenNotebook": false
  }
 },
 "nbformat": 4,
 "nbformat_minor": 1
}
