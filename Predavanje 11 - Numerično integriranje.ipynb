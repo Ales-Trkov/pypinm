{
 "cells": [
  {
   "cell_type": "markdown",
   "metadata": {
    "slideshow": {
     "slide_type": "slide"
    }
   },
   "source": [
    "<font size=\"2\"> [github.com/jankoslavic/pypinm](http://github.com/jankoslavic/pypinm)</font>\n",
    "\n",
    "<center>\n",
    "<img width=300 src=\"./fig/ladisk.png\">\n",
    "<br>\n",
    "<font size=\"7\" color=\"f00e0e\" face=\"garamond\"><b>Numerično integriranje</b></font>\n",
    "<br><br>\n",
    "<font size=\"4\">\n",
    "[izr.prof. dr. Janko Slavič](http://www.ladisk.si/~slavic)\n",
    "</font>\n",
    "<br><br>\n",
    "<font size=\"2\">Maj 2017 </font>\n",
    "</center>"
   ]
  },
  {
   "cell_type": "markdown",
   "metadata": {
    "toc": "true"
   },
   "source": [
    "# Table of Contents\n",
    " <p><div class=\"lev1\"><a href=\"#Newton-Cotes-pristop\"><span class=\"toc-item-num\">1&nbsp;&nbsp;</span>Newton-Cotes pristop</a></div><div class=\"lev2\"><a href=\"#Pravokotno-pravilo-integriranja\"><span class=\"toc-item-num\">1.1&nbsp;&nbsp;</span>Pravokotno pravilo integriranja</a></div><div class=\"lev3\"><a href=\"#Numerična-implementacija\"><span class=\"toc-item-num\">1.1.1&nbsp;&nbsp;</span>Numerična implementacija</a></div><div class=\"lev2\"><a href=\"#Trapezno-pravilo\"><span class=\"toc-item-num\">1.2&nbsp;&nbsp;</span>Trapezno pravilo</a></div><div class=\"lev3\"><a href=\"#Numerična-implementacija\"><span class=\"toc-item-num\">1.2.1&nbsp;&nbsp;</span>Numerična implementacija</a></div><div class=\"lev3\"><a href=\"#Napaka-trapeznega-pravila\"><span class=\"toc-item-num\">1.2.2&nbsp;&nbsp;</span>Napaka trapeznega pravila</a></div><div class=\"lev2\"><a href=\"#Sestavljeno-trapezno-pravilo\"><span class=\"toc-item-num\">1.3&nbsp;&nbsp;</span>Sestavljeno trapezno pravilo</a></div><div class=\"lev3\"><a href=\"#Numerična-implementacija\"><span class=\"toc-item-num\">1.3.1&nbsp;&nbsp;</span>Numerična implementacija</a></div><div class=\"lev3\"><a href=\"#numpy-implementacija\"><span class=\"toc-item-num\">1.3.2&nbsp;&nbsp;</span><code>numpy</code> implementacija</a></div><div class=\"lev3\"><a href=\"#Napaka-sestavljenega-trapeznega-pravila\"><span class=\"toc-item-num\">1.3.3&nbsp;&nbsp;</span>Napaka sestavljenega trapeznega pravila</a></div><div class=\"lev2\"><a href=\"#Simpsonova-in-druge-metode\"><span class=\"toc-item-num\">1.4&nbsp;&nbsp;</span>Simpsonova in druge metode</a></div><div class=\"lev2\"><a href=\"#Izpeljava-trapeznega-pravila-z-uporabo-Lagrangevih-polinomov\"><span class=\"toc-item-num\">1.5&nbsp;&nbsp;</span>Izpeljava trapeznega pravila z uporabo Lagrangevih polinomov</a></div><div class=\"lev2\"><a href=\"#Strnjen-izračun-uteži-za-trapezno-metodo\"><span class=\"toc-item-num\">1.6&nbsp;&nbsp;</span>Strnjen izračun uteži za trapezno metodo</a></div><div class=\"lev2\"><a href=\"#Strnjen-izračun-uteži-za-Simpsonovo-1/3-pravilo\"><span class=\"toc-item-num\">1.7&nbsp;&nbsp;</span>Strnjen izračun uteži za Simpsonovo 1/3 pravilo</a></div><div class=\"lev2\"><a href=\"#Strnjen-izračun-uteži-za-Simpsonovo-3/8-pravilo\"><span class=\"toc-item-num\">1.8&nbsp;&nbsp;</span>Strnjen izračun uteži za Simpsonovo 3/8 pravilo</a></div><div class=\"lev2\"><a href=\"#Strnjen-izračun-za-interpolacijski-polinom-4-stopnje\"><span class=\"toc-item-num\">1.9&nbsp;&nbsp;</span>Strnjen izračun za interpolacijski polinom 4 stopnje</a></div><div class=\"lev2\"><a href=\"#Prikaz-uporabe-Simpsonove-1/3-metode\"><span class=\"toc-item-num\">1.10&nbsp;&nbsp;</span>Prikaz uporabe Simpsonove 1/3 metode</a></div><div class=\"lev3\"><a href=\"#Numerična-implementacija-sestavljenega-Simpsonovega-1/3-pravila\"><span class=\"toc-item-num\">1.10.1&nbsp;&nbsp;</span>Numerična implementacija sestavljenega Simpsonovega 1/3 pravila</a></div><div class=\"lev3\"><a href=\"#scipy-implementacija\"><span class=\"toc-item-num\">1.10.2&nbsp;&nbsp;</span><code>scipy</code> implementacija</a></div><div class=\"lev3\"><a href=\"#Napaka-sestavljene-Simpsonove-1/3-metode\"><span class=\"toc-item-num\">1.10.3&nbsp;&nbsp;</span>Napaka sestavljene Simpsonove 1/3 metode</a></div><div class=\"lev1\"><a href=\"#Gaussov-integracijski-pristop---Gaussova-kvadratura\"><span class=\"toc-item-num\">2&nbsp;&nbsp;</span>Gaussov integracijski pristop - Gaussova kvadratura</a></div><div class=\"lev2\"><a href=\"#Gaussova-kvadratura-z-enim-vozliščem\"><span class=\"toc-item-num\">2.1&nbsp;&nbsp;</span>Gaussova kvadratura z enim vozliščem</a></div><div class=\"lev2\"><a href=\"#Gaussova-kvadratura-z-več-vozlišči\"><span class=\"toc-item-num\">2.2&nbsp;&nbsp;</span>Gaussova kvadratura z več vozlišči</a></div><div class=\"lev2\"><a href=\"#Uporaba-scipy.integrate-modula\"><span class=\"toc-item-num\">2.3&nbsp;&nbsp;</span>Uporaba <code>scipy.integrate</code> modula</a></div><div class=\"lev1\"><a href=\"#Nekaj-vprašanj-za-razmislek!\"><span class=\"toc-item-num\">3&nbsp;&nbsp;</span>Nekaj vprašanj za razmislek!</a></div><div class=\"lev1\"><a href=\"#Ekstra\"><span class=\"toc-item-num\">4&nbsp;&nbsp;</span>Ekstra</a></div>"
   ]
  },
  {
   "cell_type": "code",
   "execution_count": 1,
   "metadata": {
    "collapsed": true,
    "slideshow": {
     "slide_type": "subslide"
    }
   },
   "outputs": [],
   "source": [
    "import numpy as np\n",
    "import matplotlib.pyplot as plt\n",
    "import seaborn # ta paket lahko odstranite, namenjen je lepšemu izrisu\n",
    "%matplotlib inline\n",
    "import sympy as sym\n",
    "sym.init_printing()"
   ]
  },
  {
   "cell_type": "markdown",
   "metadata": {
    "slideshow": {
     "slide_type": "subslide"
    }
   },
   "source": [
    "V okviru tega poglavja želimo za dano funkcijo $f(x)$ izračunati določeni integral:\n",
    "$$\\int_a^b\\,f(x)\\,\\textrm{d}x.$$\n",
    "*Numerično integriranje* imenujemo tudi *kvadratura* (ang. *quadrature*); zgornji analitični izraz zamenjamo z diskretno vsoto:\n",
    "$$I=\\sum_{i=0}^nA_i\\,f(x_i),$$\n",
    "kjer je $A_i$ utež, $x_i$ pa vrednosti vozlišč. Numerično integracijo delimo na dva različna pristopa:\n",
    "1. *Newton-Cotes pristop*, ki temelji na ekvidistantnih vozliščih in \n",
    "* *Gaussov integracijski pristop*, kjer so vozlišča postavljena tako, da se doseže največji red natančnosti."
   ]
  },
  {
   "cell_type": "markdown",
   "metadata": {
    "slideshow": {
     "slide_type": "slide"
    }
   },
   "source": [
    "# Newton-Cotes pristop"
   ]
  },
  {
   "cell_type": "markdown",
   "metadata": {},
   "source": [
    "Najprej si poglejmo analitični primer:"
   ]
  },
  {
   "cell_type": "code",
   "execution_count": 2,
   "metadata": {},
   "outputs": [
    {
     "data": {
      "image/png": "[encoded data removed]",
      "text/latex": [
       "$$\\cos{\\left (a \\right )} - \\cos{\\left (b \\right )}$$"
      ],
      "text/plain": [
       "cos(a) - cos(b)"
      ]
     },
     "execution_count": 2,
     "metadata": {},
     "output_type": "execute_result"
    }
   ],
   "source": [
    "x, a, b, h, f, xi, n, A = sym.symbols('x, a, b, h, f, xi, n, A')\n",
    "fun = sym.sin(x)\n",
    "I = sym.integrate(fun, (x, a, b))\n",
    "I"
   ]
  },
  {
   "cell_type": "code",
   "execution_count": 3,
   "metadata": {
    "collapsed": true
   },
   "outputs": [],
   "source": [
    "podatki = {a: 0, b: 2, h: 2, n: 4}"
   ]
  },
  {
   "cell_type": "code",
   "execution_count": 4,
   "metadata": {},
   "outputs": [
    {
     "data": {
      "image/png": "[encoded data removed]",
      "text/latex": [
       "$$1.41614683654714$$"
      ],
      "text/plain": [
       "1.41614683654714"
      ]
     },
     "execution_count": 4,
     "metadata": {},
     "output_type": "execute_result"
    }
   ],
   "source": [
    "I_analiticno = I.subs(podatki).evalf()\n",
    "I_analiticno"
   ]
  },
  {
   "cell_type": "markdown",
   "metadata": {
    "slideshow": {
     "slide_type": "subslide"
    }
   },
   "source": [
    "Pripravimo si sedaj numerični primer:"
   ]
  },
  {
   "cell_type": "code",
   "execution_count": 5,
   "metadata": {
    "collapsed": true
   },
   "outputs": [],
   "source": [
    "fun_d = np.sin # funkcija"
   ]
  },
  {
   "cell_type": "markdown",
   "metadata": {},
   "source": [
    "Mejne $x$, $y$ vrednosti so:"
   ]
  },
  {
   "cell_type": "code",
   "execution_count": 6,
   "metadata": {
    "collapsed": true
   },
   "outputs": [],
   "source": [
    "x_d = np.asarray([a.subs(podatki), b.subs(podatki)], float)\n",
    "y_d = fun_d(x_d)"
   ]
  },
  {
   "cell_type": "markdown",
   "metadata": {
    "slideshow": {
     "slide_type": "subslide"
    }
   },
   "source": [
    "Za prikaz, si pripravimo še podatke z večjo gostoto:"
   ]
  },
  {
   "cell_type": "code",
   "execution_count": 7,
   "metadata": {
    "collapsed": true
   },
   "outputs": [],
   "source": [
    "x_d_polno = np.linspace(x_d[0]-0.25, x_d[1]+0.25, 100) # \"zvezni\" prikaz\n",
    "y_d_polno = fun_d(x_d_polno)"
   ]
  },
  {
   "cell_type": "markdown",
   "metadata": {},
   "source": [
    "Prikažimo podatke"
   ]
  },
  {
   "cell_type": "code",
   "execution_count": 8,
   "metadata": {},
   "outputs": [
    {
     "data": {
      "image/png": "[encoded data removed]",
      "text/plain": [
       "<matplotlib.figure.Figure at 0x1e212d4a048>"
      ]
     },
     "metadata": {},
     "output_type": "display_data"
    }
   ],
   "source": [
    "izberi = (x_d[0] <= x_d_polno) & (x_d_polno <= x_d[1])\n",
    "# prikaz \n",
    "plt.fill_between(x_d_polno[izberi], y_d_polno[izberi], alpha=0.25, facecolor='r')\n",
    "plt.plot(x_d_polno, y_d_polno, 'r', lw=3, alpha=0.5, label='Zvezno')\n",
    "plt.plot(x_d, y_d, 'ro', label='Meje odseka')\n",
    "plt.annotate('$\\int_a^b f(x)\\,dx$', (.8, 0.2))\n",
    "plt.ylim(-0.3, 1.1)\n",
    "plt.legend(loc=(1.01, 0));"
   ]
  },
  {
   "cell_type": "markdown",
   "metadata": {
    "slideshow": {
     "slide_type": "subslide"
    }
   },
   "source": [
    "Definirajmo sedaj t.i. vozliščne točke in razdaljo med njimi:"
   ]
  },
  {
   "cell_type": "code",
   "execution_count": 9,
   "metadata": {},
   "outputs": [
    {
     "name": "stdout",
     "output_type": "stream",
     "text": [
      "Vozlišča: [ 0.  2.]\n",
      "Razdalja: 2.0\n"
     ]
    }
   ],
   "source": [
    "print('Vozlišča:', x_d)\n",
    "h_d = x_d[1] - x_d[0]\n",
    "print('Razdalja:', h_d)"
   ]
  },
  {
   "cell_type": "markdown",
   "metadata": {},
   "source": [
    "V nadaljevanju bomo poskušali za prikazani odsek čimbolj natančno izračunati površino. Pri tem se bomo v okviru *Newton-Cotesovega* pristopa omejili na ekvidistantno širino odsekov. Najbolj preprosta metoda je *pravokotna*."
   ]
  },
  {
   "cell_type": "markdown",
   "metadata": {
    "slideshow": {
     "slide_type": "slide"
    }
   },
   "source": [
    "## Pravokotno pravilo integriranja"
   ]
  },
  {
   "cell_type": "markdown",
   "metadata": {},
   "source": [
    "Najbolj preprosta metoda za izračun integrala je *pravokotno pravilo*: na polovici intervala $x^*=(a+b)/2$ izračunamo vrednost funkcije $f(x^*)$ in nato množimo s širino intervala $h$:\n",
    "$$I_{\\textrm{pravokotno}}=h\\cdot f\\left(\\frac{a+b}{2}\\right)$$"
   ]
  },
  {
   "cell_type": "markdown",
   "metadata": {},
   "source": [
    "Izračun vrednosti v vozliščih (za poljubno vozlišč):"
   ]
  },
  {
   "cell_type": "code",
   "execution_count": 10,
   "metadata": {
    "collapsed": true
   },
   "outputs": [],
   "source": [
    "x_pravo = (x_d+h_d/2)[:-1]\n",
    "y_pravo = fun_d(x_pravo)"
   ]
  },
  {
   "cell_type": "markdown",
   "metadata": {
    "slideshow": {
     "slide_type": "subslide"
    }
   },
   "source": [
    "Prikaz"
   ]
  },
  {
   "cell_type": "code",
   "execution_count": 11,
   "metadata": {},
   "outputs": [
    {
     "data": {
      "image/png": "[encoded data removed]",
      "text/plain": [
       "<matplotlib.figure.Figure at 0x1e212d2ee48>"
      ]
     },
     "metadata": {},
     "output_type": "display_data"
    }
   ],
   "source": [
    "plt.fill_between(x_d_polno[izberi], y_d_polno[izberi], alpha=0.25, facecolor='r')\n",
    "plt.plot(x_d_polno, y_d_polno, 'r', lw=3, alpha=0.5, label='Zvezno')\n",
    "plt.plot(x_d, y_d, 'ro', label='Meje odseka')\n",
    "plt.plot(x_pravo, y_pravo, 'bo', label='Pravokotno pravilo')\n",
    "plt.bar(x_d[:-1], y_pravo, width=h_d, alpha=0.5)\n",
    "plt.annotate('Pravokotno pravilo', (.8, 0.2))\n",
    "plt.ylim(-0.3, 1.1)\n",
    "plt.legend(loc=(1.01, 0));"
   ]
  },
  {
   "cell_type": "markdown",
   "metadata": {
    "slideshow": {
     "slide_type": "subslide"
    }
   },
   "source": [
    "### Numerična implementacija"
   ]
  },
  {
   "cell_type": "code",
   "execution_count": 12,
   "metadata": {
    "collapsed": true
   },
   "outputs": [],
   "source": [
    "def pravokotno(y, h):\n",
    "    return np.sum(y)*h"
   ]
  },
  {
   "cell_type": "code",
   "execution_count": 13,
   "metadata": {},
   "outputs": [
    {
     "data": {
      "image/png": "[encoded data removed]",
      "text/latex": [
       "$$1.68294196962$$"
      ],
      "text/plain": [
       "1.68294196962"
      ]
     },
     "execution_count": 13,
     "metadata": {},
     "output_type": "execute_result"
    }
   ],
   "source": [
    "I_pravokotno = pravokotno(y_pravo, h_d)\n",
    "I_pravokotno"
   ]
  },
  {
   "cell_type": "code",
   "execution_count": 14,
   "metadata": {},
   "outputs": [
    {
     "data": {
      "image/png": "[encoded data removed]",
      "text/latex": [
       "$$1.41614683654714$$"
      ],
      "text/plain": [
       "1.41614683654714"
      ]
     },
     "execution_count": 14,
     "metadata": {},
     "output_type": "execute_result"
    }
   ],
   "source": [
    "I_analiticno"
   ]
  },
  {
   "cell_type": "markdown",
   "metadata": {
    "slideshow": {
     "slide_type": "slide"
    }
   },
   "source": [
    "## Trapezno pravilo"
   ]
  },
  {
   "cell_type": "markdown",
   "metadata": {},
   "source": [
    "Trapezno pravilo vrednosti na podintervalu interpolira z linearno funkcijo. Za dve vozliščni točki to pomeni, da povšino izračuno kot:\n",
    "\n",
    "$$I_{\\textrm{trapezno}}=\\sum_{i=0}^{n=1}A_i\\,f(x_i)=\\frac{h}{2}\\cdot\\left(f(a)+f(b)\\right).$$\n",
    "\n",
    "To tudi pomeni, da so uteži:\n",
    "\n",
    "$$A_0 = A_1 = \\frac{1}{2}\\,h.$$"
   ]
  },
  {
   "cell_type": "markdown",
   "metadata": {
    "slideshow": {
     "slide_type": "subslide"
    }
   },
   "source": [
    "Prikaz"
   ]
  },
  {
   "cell_type": "code",
   "execution_count": 15,
   "metadata": {},
   "outputs": [
    {
     "data": {
      "image/png": "[encoded data removed]",
      "text/plain": [
       "<matplotlib.figure.Figure at 0x1e212e8e080>"
      ]
     },
     "metadata": {},
     "output_type": "display_data"
    }
   ],
   "source": [
    "plt.fill_between(x_d_polno[izberi], y_d_polno[izberi], alpha=0.25, facecolor='r')\n",
    "plt.plot(x_d_polno, y_d_polno, 'r', lw=3, alpha=0.5, label='Zvezno')\n",
    "plt.plot(x_d, y_d, 'ro', label='Diskretno')\n",
    "plt.fill_between(x_d, y_d, alpha=0.25, facecolor='b')\n",
    "plt.annotate('Trapezno pravilo', (.8, 0.2))\n",
    "plt.ylim(-0.3, 1.1)\n",
    "plt.legend(loc=(1.01, 0));"
   ]
  },
  {
   "cell_type": "markdown",
   "metadata": {
    "slideshow": {
     "slide_type": "subslide"
    }
   },
   "source": [
    "### Numerična implementacija"
   ]
  },
  {
   "cell_type": "code",
   "execution_count": 16,
   "metadata": {
    "collapsed": true
   },
   "outputs": [],
   "source": [
    "def trapezno(y, h):\n",
    "    return (y[0] + y[-1])*h/2"
   ]
  },
  {
   "cell_type": "code",
   "execution_count": 17,
   "metadata": {},
   "outputs": [
    {
     "data": {
      "image/png": "[encoded data removed]",
      "text/latex": [
       "$$0.909297426826$$"
      ],
      "text/plain": [
       "0.909297426826"
      ]
     },
     "execution_count": 17,
     "metadata": {},
     "output_type": "execute_result"
    }
   ],
   "source": [
    "I_trapezno = trapezno(y_d, h_d)\n",
    "I_trapezno"
   ]
  },
  {
   "cell_type": "code",
   "execution_count": 18,
   "metadata": {},
   "outputs": [
    {
     "data": {
      "image/png": "[encoded data removed]",
      "text/latex": [
       "$$1.41614683654714$$"
      ],
      "text/plain": [
       "1.41614683654714"
      ]
     },
     "execution_count": 18,
     "metadata": {},
     "output_type": "execute_result"
    }
   ],
   "source": [
    "I_analiticno"
   ]
  },
  {
   "cell_type": "markdown",
   "metadata": {
    "slideshow": {
     "slide_type": "subslide"
    }
   },
   "source": [
    "### Napaka trapeznega pravila"
   ]
  },
  {
   "cell_type": "markdown",
   "metadata": {},
   "source": [
    "Napaka trapeznega pravila (in tudi drugih) je definirana kot:\n",
    "\n",
    "$$E = \\int_a^bf(x)\\,d x-I,$$\n",
    "\n",
    "kjer je $I$ ocena integrala. V kolikor ima funkcija $f(x)$ odvod drugega in višjih redov enak nič, potem je ocena integrala točna vrednosti in napake ni.\n",
    "\n",
    "V kolikor ima funkcija $f(x)$ tudi drugi in višje odvode, potem se lahko (glejte npr. vir: Burden, Faires, Burden: Numerical Analysis 10th Ed) izpelje ocena napake:"
   ]
  },
  {
   "cell_type": "code",
   "execution_count": 19,
   "metadata": {
    "slideshow": {
     "slide_type": "subslide"
    }
   },
   "outputs": [
    {
     "data": {
      "image/png": "[encoded data removed]",
      "text/latex": [
       "$$- \\frac{h^{3}}{12} \\frac{d^{2}}{d \\xi^{2}}  f{\\left (\\xi \\right )}$$"
      ],
      "text/plain": [
       "      2       \n",
       "  3  d        \n",
       "-h ⋅───(f(ξ)) \n",
       "      2       \n",
       "    dξ        \n",
       "──────────────\n",
       "      12      "
      ]
     },
     "execution_count": 19,
     "metadata": {},
     "output_type": "execute_result"
    }
   ],
   "source": [
    "E_trapezno = - h**3 / 12 * f(xi).diff(xi, 2)\n",
    "E_trapezno"
   ]
  },
  {
   "cell_type": "markdown",
   "metadata": {},
   "source": [
    "kjer je $\\xi$ neznana vrednost na intervalu $[a, b]$.\n",
    "\n",
    "Kako zgornjo oceno napake izkoristimo v svoj prid, si bomo pogledali pozneje."
   ]
  },
  {
   "cell_type": "markdown",
   "metadata": {
    "slideshow": {
     "slide_type": "slide"
    }
   },
   "source": [
    "## Sestavljeno trapezno pravilo"
   ]
  },
  {
   "cell_type": "markdown",
   "metadata": {},
   "source": [
    "Če trapezno pravilo uporabimo čez $n$ odsekov, potem govorimo o sestavljenem trapeznem pravilu (ang. *composite trapezoidal rule*). V tem primeru za vsak odsek $i$ uporabimo trapezno pravilo in torej za meje odseka $x_i$ in $x_{i+1}$ uporabiti uteži $A_i=A_{i+i}=h/2$. Ker so notranja vozlišča podvojena, sledi:\n",
    "$$A_0=A_{n}=\\frac{h}{2}\\quad\\textrm{in za ostale vozle:}\\quad A_i=h.$$\n",
    "Sledi torej:\n",
    "$$I_{\\textrm{trapezno sest}}=\\sum_{i=0}^{n}A_i\\,f(x_i)=\\left(\\frac{y_0}{2} + y_1+y_2+\\cdots+y_{n-1}+\\frac{y_{n}}{2}\\right)\\,h.$$\n"
   ]
  },
  {
   "cell_type": "markdown",
   "metadata": {
    "slideshow": {
     "slide_type": "subslide"
    }
   },
   "source": [
    "Poglejmo si primer"
   ]
  },
  {
   "cell_type": "code",
   "execution_count": 20,
   "metadata": {},
   "outputs": [
    {
     "data": {
      "image/png": "[encoded data removed]",
      "text/latex": [
       "$$4$$"
      ],
      "text/plain": [
       "4"
      ]
     },
     "execution_count": 20,
     "metadata": {},
     "output_type": "execute_result"
    }
   ],
   "source": [
    "n.subs(podatki)"
   ]
  },
  {
   "cell_type": "code",
   "execution_count": 21,
   "metadata": {
    "collapsed": true,
    "slideshow": {
     "slide_type": "-"
    }
   },
   "outputs": [],
   "source": [
    "x_d_sestav = np.linspace(x_d[0], x_d[1], n.subs(podatki)+1) # več intervalov\n",
    "y_d_sestav = fun_d(x_d_sestav)\n",
    "izberi = (x_d[0] <= x_d_polno) & (x_d_polno <= x_d[1])\n",
    "# prikaz\n",
    "def slika():\n",
    "    plt.fill_between(x_d_polno[izberi], y_d_polno[izberi], alpha=0.25, facecolor='r')\n",
    "    plt.plot(x_d_polno, y_d_polno, 'r', lw=3, alpha=0.5, label='Zvezno')\n",
    "    plt.plot(x_d_sestav, y_d_sestav, 'ro', label='Meje odseka')\n",
    "    plt.fill_between(x_d_sestav, y_d_sestav, alpha=0.25, facecolor='b')\n",
    "    plt.annotate('Sestavljeno trapezno pravilo: $n$={}'.format(n.subs(podatki)), (.4, 0.2))\n",
    "    plt.ylim(-0.3, 1.1)\n",
    "    plt.legend(loc=(1.01, 0))\n",
    "    plt.show()"
   ]
  },
  {
   "cell_type": "code",
   "execution_count": 22,
   "metadata": {
    "slideshow": {
     "slide_type": "subslide"
    }
   },
   "outputs": [
    {
     "data": {
      "image/png": "[encoded data removed]",
      "text/plain": [
       "<matplotlib.figure.Figure at 0x1e2140bc470>"
      ]
     },
     "metadata": {},
     "output_type": "display_data"
    }
   ],
   "source": [
    "slika()"
   ]
  },
  {
   "cell_type": "markdown",
   "metadata": {
    "slideshow": {
     "slide_type": "subslide"
    }
   },
   "source": [
    "Prikazali smo torej $n$ odsekov z vozlišči in vrednostmi:"
   ]
  },
  {
   "cell_type": "code",
   "execution_count": 23,
   "metadata": {},
   "outputs": [
    {
     "name": "stdout",
     "output_type": "stream",
     "text": [
      "Vozlišča:   [ 0.   0.5  1.   1.5  2. ]\n",
      "Vrednosti:  [ 0.          0.47942554  0.84147098  0.99749499  0.90929743]\n"
     ]
    }
   ],
   "source": [
    "print('Vozlišča:  ', x_d_sestav)\n",
    "print('Vrednosti: ', y_d_sestav)"
   ]
  },
  {
   "cell_type": "markdown",
   "metadata": {
    "slideshow": {
     "slide_type": "subslide"
    }
   },
   "source": [
    "### Numerična implementacija"
   ]
  },
  {
   "cell_type": "code",
   "execution_count": 24,
   "metadata": {
    "collapsed": true
   },
   "outputs": [],
   "source": [
    "def trapezno(y, h):\n",
    "    return (np.sum(y) - 0.5*y[0] - 0.5*y[-1])*h"
   ]
  },
  {
   "cell_type": "code",
   "execution_count": 25,
   "metadata": {},
   "outputs": [
    {
     "data": {
      "image/png": "[encoded data removed]",
      "text/latex": [
       "$$1.38652011171$$"
      ],
      "text/plain": [
       "1.38652011171"
      ]
     },
     "execution_count": 25,
     "metadata": {},
     "output_type": "execute_result"
    }
   ],
   "source": [
    "#%%timeit\n",
    "h_d = x_d_sestav[1] - x_d_sestav[0]\n",
    "I_trapezno_sestav = trapezno(y_d_sestav, h_d)\n",
    "I_trapezno_sestav"
   ]
  },
  {
   "cell_type": "code",
   "execution_count": 26,
   "metadata": {},
   "outputs": [
    {
     "data": {
      "image/png": "[encoded data removed]",
      "text/latex": [
       "$$1.41614683654714$$"
      ],
      "text/plain": [
       "1.41614683654714"
      ]
     },
     "execution_count": 26,
     "metadata": {},
     "output_type": "execute_result"
    }
   ],
   "source": [
    "I_analiticno"
   ]
  },
  {
   "cell_type": "markdown",
   "metadata": {
    "slideshow": {
     "slide_type": "subslide"
    }
   },
   "source": [
    "### ``numpy`` implementacija"
   ]
  },
  {
   "cell_type": "markdown",
   "metadata": {},
   "source": [
    "Implementacija ``numpy`` omogoča sicer tudi spremenljiv razmak med vozlišči. Primer zgoraj izračunamo zelo enostavno:"
   ]
  },
  {
   "cell_type": "code",
   "execution_count": 27,
   "metadata": {},
   "outputs": [
    {
     "data": {
      "image/png": "[encoded data removed]",
      "text/latex": [
       "$$1.38652011171$$"
      ],
      "text/plain": [
       "1.38652011171"
      ]
     },
     "execution_count": 27,
     "metadata": {},
     "output_type": "execute_result"
    }
   ],
   "source": [
    "#%%timeit\n",
    "trapz_h = np.trapz(y_d_sestav, dx=h_d)\n",
    "trapz_h"
   ]
  },
  {
   "cell_type": "markdown",
   "metadata": {},
   "source": [
    "Poglejmo si še oceno integrala pri $2\\,h$:"
   ]
  },
  {
   "cell_type": "code",
   "execution_count": 28,
   "metadata": {},
   "outputs": [
    {
     "data": {
      "image/png": "[encoded data removed]",
      "text/latex": [
       "$$1.29611969822$$"
      ],
      "text/plain": [
       "1.29611969822"
      ]
     },
     "execution_count": 28,
     "metadata": {},
     "output_type": "execute_result"
    }
   ],
   "source": [
    "trapz_2h = np.trapz(y_d_sestav[::2], dx=2*h_d)\n",
    "trapz_2h"
   ]
  },
  {
   "cell_type": "markdown",
   "metadata": {
    "slideshow": {
     "slide_type": "subslide"
    }
   },
   "source": [
    "### Napaka sestavljenega trapeznega pravila"
   ]
  },
  {
   "cell_type": "markdown",
   "metadata": {},
   "source": [
    "Ocena napake (vir: Jaan Kiusalaas: Numerical Methods in Engineering With Python 3, 3rd Ed) za sestavljeno trapezno pravilo je vsota napak na posameznih odsekih:"
   ]
  },
  {
   "cell_type": "code",
   "execution_count": 29,
   "metadata": {},
   "outputs": [
    {
     "data": {
      "image/png": "[encoded data removed]",
      "text/latex": [
       "$$- \\frac{h^{2}}{12} \\left(- a + b\\right) \\frac{d^{2}}{d \\xi^{2}}  f{\\left (\\xi \\right )}$$"
      ],
      "text/plain": [
       "               2       \n",
       "  2           d        \n",
       "-h ⋅(-a + b)⋅───(f(ξ)) \n",
       "               2       \n",
       "             dξ        \n",
       "───────────────────────\n",
       "           12          "
      ]
     },
     "execution_count": 29,
     "metadata": {},
     "output_type": "execute_result"
    }
   ],
   "source": [
    "E_trapezno_sestav = (n * E_trapezno).subs(h*n, b-a)\n",
    "E_trapezno_sestav"
   ]
  },
  {
   "cell_type": "markdown",
   "metadata": {},
   "source": [
    "kjer je $\\xi$ neznana vrednost na intervalu $[a, b]$."
   ]
  },
  {
   "cell_type": "markdown",
   "metadata": {
    "slideshow": {
     "slide_type": "subslide"
    }
   },
   "source": [
    "V kolikor integral $I$ ocenjujemo pri dveh različnih korakih $h$ in $2\\,h$:\n",
    "$$I_h + E_h = I_{2h} + E_{2h},$$\n",
    "kjer je $I_h$ približek integrala s korakom $h$ in $E_h$ ocena napake pri koraku $h$; analogno velja za $I_{2h}$ in $E_{2h}$.\n",
    "\n",
    "Če predpostavimo, da je $\\frac{d^2}{d \\xi^2}  f\\left (\\xi \\right )$ v obeh primerih enak, lahko izpeljemo $A = I_{2h}-I_{h} = E_{h}-E_{2h}$:"
   ]
  },
  {
   "cell_type": "code",
   "execution_count": 30,
   "metadata": {
    "slideshow": {
     "slide_type": "subslide"
    }
   },
   "outputs": [
    {
     "data": {
      "image/png": "[encoded data removed]",
      "text/latex": [
       "$$A = \\frac{h^{2}}{4} \\left(- a + b\\right) \\frac{d^{2}}{d \\xi^{2}}  f{\\left (\\xi \\right )}$$"
      ],
      "text/plain": [
       "                  2      \n",
       "     2           d       \n",
       "    h ⋅(-a + b)⋅───(f(ξ))\n",
       "                  2      \n",
       "                dξ       \n",
       "A = ─────────────────────\n",
       "              4          "
      ]
     },
     "execution_count": 30,
     "metadata": {},
     "output_type": "execute_result"
    }
   ],
   "source": [
    "sym.Eq(A, E_trapezno_sestav - E_trapezno_sestav.subs(h, 2*h))"
   ]
  },
  {
   "cell_type": "markdown",
   "metadata": {},
   "source": [
    "In posledično najdemo izraz za $\\frac{d^2}{d \\xi^2}  f\\left (\\xi \\right )$:"
   ]
  },
  {
   "cell_type": "code",
   "execution_count": 31,
   "metadata": {},
   "outputs": [
    {
     "data": {
      "image/png": "[encoded data removed]",
      "text/latex": [
       "$$- \\frac{4 A}{h^{2} \\left(a - b\\right)}$$"
      ],
      "text/plain": [
       "  -4⋅A    \n",
       "──────────\n",
       " 2        \n",
       "h ⋅(a - b)"
      ]
     },
     "execution_count": 31,
     "metadata": {},
     "output_type": "execute_result"
    }
   ],
   "source": [
    "f2 = sym.solve(\n",
    "    sym.Eq(A, E_trapezno_sestav - E_trapezno_sestav.subs(h, 2*h))\n",
    "    , f(xi).diff(xi, 2)\n",
    ")[0]\n",
    "f2"
   ]
  },
  {
   "cell_type": "markdown",
   "metadata": {
    "slideshow": {
     "slide_type": "subslide"
    }
   },
   "source": [
    "Izpeljani izraz vstavimo v izraz za oceno napake in izeljemo:"
   ]
  },
  {
   "cell_type": "code",
   "execution_count": 32,
   "metadata": {},
   "outputs": [
    {
     "data": {
      "image/png": "[encoded data removed]",
      "text/latex": [
       "$$- \\frac{A}{3}$$"
      ],
      "text/plain": [
       "-A \n",
       "───\n",
       " 3 "
      ]
     },
     "execution_count": 32,
     "metadata": {},
     "output_type": "execute_result"
    }
   ],
   "source": [
    "E_trapezno_sestav.subs(f(xi).diff(xi, 2), f2).simplify()"
   ]
  },
  {
   "cell_type": "markdown",
   "metadata": {
    "slideshow": {
     "slide_type": "subslide"
    }
   },
   "source": [
    "Izpeljali smo torej, da iz numeričnega integrala (približka) $I_{2h}$ s korakom $2h$ in integrala  $I_{h}$ s korakom $h$ lahko torej določimo boljši približek  $I_{h}^*$:\n",
    "$$I_h^* = I_h - \\frac{1}{3}\\,(I_{2h}-I_h)$$\n",
    "ali\n",
    "$$I_h^* = \\frac{4}{3}\\,I_h - \\frac{1}{3}\\,I_{2h}$$"
   ]
  },
  {
   "cell_type": "code",
   "execution_count": 33,
   "metadata": {},
   "outputs": [
    {
     "data": {
      "image/png": "[encoded data removed]",
      "text/latex": [
       "$$1.38652011171$$"
      ],
      "text/plain": [
       "1.38652011171"
      ]
     },
     "execution_count": 33,
     "metadata": {},
     "output_type": "execute_result"
    }
   ],
   "source": [
    "trapz_h"
   ]
  },
  {
   "cell_type": "code",
   "execution_count": 34,
   "metadata": {},
   "outputs": [
    {
     "data": {
      "image/png": "[encoded data removed]",
      "text/latex": [
       "$$1.41665358288$$"
      ],
      "text/plain": [
       "1.41665358288"
      ]
     },
     "execution_count": 34,
     "metadata": {},
     "output_type": "execute_result"
    }
   ],
   "source": [
    "4/3*trapz_h - 1/3*trapz_2h"
   ]
  },
  {
   "cell_type": "code",
   "execution_count": 35,
   "metadata": {},
   "outputs": [
    {
     "data": {
      "image/png": "[encoded data removed]",
      "text/latex": [
       "$$1.41614683654714$$"
      ],
      "text/plain": [
       "1.41614683654714"
      ]
     },
     "execution_count": 35,
     "metadata": {},
     "output_type": "execute_result"
    }
   ],
   "source": [
    "I_analiticno"
   ]
  },
  {
   "cell_type": "markdown",
   "metadata": {
    "slideshow": {
     "slide_type": "slide"
    }
   },
   "source": [
    "## Simpsonova in druge metode"
   ]
  },
  {
   "cell_type": "markdown",
   "metadata": {},
   "source": [
    "Zgoraj smo si pogledal trapezno pravilo, ki temelji na linearni interpolaciji odseka. Z interpolacijo višjega reda, lahko izpeljemo še druge interpolacijske metode.\n",
    "\n",
    "Izpeljavo začnemo z analitičnim izrazom za integriranje $f(x)$:\n",
    "$$\\int_{a}^b f(x)\\,dx.$$\n",
    "Sedaj $f(x)$ interpoliramo z Lagrangevo krivuljo $P_n(x)$ stopnje $n$:\n",
    "$$P_n(x)=\\sum_{i=0}^{n}\\,f(x_i)\\,l_i(x),$$\n",
    "kjer $n$ definira stopnjo Lagrangevega polinoma:\n",
    "$$l_i(x)=\\prod_{j=0, j\\ne i}^n \\frac{x-x_j}{x_i-x_j}.$$"
   ]
  },
  {
   "cell_type": "markdown",
   "metadata": {
    "slideshow": {
     "slide_type": "subslide"
    }
   },
   "source": [
    "Za oceno numeričnega integrala, torej namesto funkcije $f(x)$ vstavimo v integral interpolacijski polinom $P_n(x)$:\n",
    "$$I=\\int_{x_0}^{x_{n-1}} P_n(x)\\,dx=\\int_{x_0}^{x_{n-1}} \\sum_{i=0}^{n}\\,f(x_i)\\,l_i(x)\\,dx.$$\n",
    "Sedaj lahko zamenjamo integriranje in vsoto:\n",
    "$$I=\\sum_{i=0}^{n}\\,f(x_i)\\,\\underbrace{\\int_{x_0}^{x_{n-1}} l_i(x)\\,dx}_{A_i}.$$\n",
    "Opazimo, da lahko Lagrangev polinom integriramo *v naprej* in da v bistvu predstavlja (zgoraj definirane) uteži $A_i$."
   ]
  },
  {
   "cell_type": "markdown",
   "metadata": {
    "slideshow": {
     "slide_type": "subslide"
    }
   },
   "source": [
    "Za poznejše potrebe si dajmo pripraviti definicijo Lagrangevega polinoma:"
   ]
  },
  {
   "cell_type": "code",
   "execution_count": 36,
   "metadata": {
    "collapsed": true
   },
   "outputs": [],
   "source": [
    "def lagrange(n, x, X='x'):\n",
    "    if isinstance(X, str):\n",
    "        X = sym.symbols('{0:s}:{1:g}'.format(X, n))\n",
    "    coeffs = []\n",
    "    for i in range(0, n):\n",
    "        numer = []\n",
    "        denom = []\n",
    "\n",
    "        for j in range(0, n):\n",
    "            if i == j:\n",
    "                continue\n",
    "\n",
    "            numer.append(x    - X[j])\n",
    "            denom.append(X[i] - X[j])\n",
    "        \n",
    "        numer = sym.Mul(*numer)\n",
    "        denom = sym.Mul(*denom)\n",
    "\n",
    "        coeffs.append(numer/denom)\n",
    "    return coeffs    "
   ]
  },
  {
   "cell_type": "markdown",
   "metadata": {
    "slideshow": {
     "slide_type": "subslide"
    }
   },
   "source": [
    "## Izpeljava trapeznega pravila z uporabo Lagrangevih polinomov"
   ]
  },
  {
   "cell_type": "markdown",
   "metadata": {},
   "source": [
    "Najprej poglejmo Lagrangeva polinoma za linearno interpolacijo ($n=2$):"
   ]
  },
  {
   "cell_type": "code",
   "execution_count": 37,
   "metadata": {},
   "outputs": [
    {
     "data": {
      "image/png": "[encoded data removed]",
      "text/latex": [
       "$$\\left [ \\frac{x - x_{1}}{x_{0} - x_{1}}, \\quad \\frac{x - x_{0}}{- x_{0} + x_{1}}\\right ]$$"
      ],
      "text/plain": [
       "⎡ x - x₁   x - x₀ ⎤\n",
       "⎢───────, ────────⎥\n",
       "⎣x₀ - x₁  -x₀ + x₁⎦"
      ]
     },
     "execution_count": 37,
     "metadata": {},
     "output_type": "execute_result"
    }
   ],
   "source": [
    "x, x0, x1, h = sym.symbols('x x0, x1, h')\n",
    "lag = lagrange(2, x)\n",
    "lag"
   ]
  },
  {
   "cell_type": "markdown",
   "metadata": {
    "slideshow": {
     "slide_type": "subslide"
    }
   },
   "source": [
    "Poglejmo si najprej prvi Lagrangev polinom in ga integrirajmo:"
   ]
  },
  {
   "cell_type": "code",
   "execution_count": 38,
   "metadata": {},
   "outputs": [
    {
     "data": {
      "image/png": "[encoded data removed]",
      "text/latex": [
       "$$- \\frac{x_{0}^{2}}{2 x_{0} - 2 x_{1}} + \\frac{x_{0} x_{1}}{x_{0} - x_{1}} + \\frac{x_{1}^{2}}{2 x_{0} - 2 x_{1}} - \\frac{x_{1}^{2}}{x_{0} - x_{1}}$$"
      ],
      "text/plain": [
       "        2                       2           2  \n",
       "      x₀         x₀⋅x₁        x₁          x₁   \n",
       "- ─────────── + ─────── + ─────────── - ───────\n",
       "  2⋅x₀ - 2⋅x₁   x₀ - x₁   2⋅x₀ - 2⋅x₁   x₀ - x₁"
      ]
     },
     "execution_count": 38,
     "metadata": {},
     "output_type": "execute_result"
    }
   ],
   "source": [
    "int0 = sym.integrate(lag[0], (x, x0, x1))\n",
    "int0"
   ]
  },
  {
   "cell_type": "markdown",
   "metadata": {},
   "source": [
    "Izvedemo sedaj razcep polinoma:"
   ]
  },
  {
   "cell_type": "code",
   "execution_count": 39,
   "metadata": {},
   "outputs": [
    {
     "data": {
      "image/png": "[encoded data removed]",
      "text/latex": [
       "$$- \\frac{1}{2} \\left(x_{0} - x_{1}\\right)$$"
      ],
      "text/plain": [
       "-(x₀ - x₁) \n",
       "───────────\n",
       "     2     "
      ]
     },
     "execution_count": 39,
     "metadata": {},
     "output_type": "execute_result"
    }
   ],
   "source": [
    "int1 = int0.factor()\n",
    "int1"
   ]
  },
  {
   "cell_type": "markdown",
   "metadata": {
    "slideshow": {
     "slide_type": "subslide"
    }
   },
   "source": [
    "Ker je širina odseka konstantna $h$, izvedemo zamenjavo:"
   ]
  },
  {
   "cell_type": "code",
   "execution_count": 40,
   "metadata": {},
   "outputs": [
    {
     "data": {
      "image/png": "[encoded data removed]",
      "text/latex": [
       "$$\\frac{h}{2}$$"
      ],
      "text/plain": [
       "h\n",
       "─\n",
       "2"
      ]
     },
     "execution_count": 40,
     "metadata": {},
     "output_type": "execute_result"
    }
   ],
   "source": [
    "zamenjave = {x1: x0+h}\n",
    "int1.subs(zamenjave)"
   ]
  },
  {
   "cell_type": "markdown",
   "metadata": {},
   "source": [
    "Podobno bi sedaj lahko naredili še za drugi Lagrangev polinov, vendar si bomo raje v nadaljevanju pogledali strnjeno obliko postopka za oba polinoma."
   ]
  },
  {
   "cell_type": "markdown",
   "metadata": {
    "slideshow": {
     "slide_type": "subslide"
    }
   },
   "source": [
    "## Strnjen izračun uteži za trapezno metodo"
   ]
  },
  {
   "cell_type": "code",
   "execution_count": 41,
   "metadata": {},
   "outputs": [
    {
     "data": {
      "image/png": "[encoded data removed]",
      "text/latex": [
       "$$\\left [ \\frac{h}{2}, \\quad \\frac{h}{2}\\right ]$$"
      ],
      "text/plain": [
       "⎡h  h⎤\n",
       "⎢─, ─⎥\n",
       "⎣2  2⎦"
      ]
     },
     "execution_count": 41,
     "metadata": {},
     "output_type": "execute_result"
    }
   ],
   "source": [
    "x, x0, x1, h = sym.symbols('x, x0, x1, h')\n",
    "zamenjave = {x1: x0+h}\n",
    "A_trapez = [sym.integrate(_, (x, x0, x1)).factor().subs(zamenjave) \n",
    "            for _ in lagrange(2, x)]\n",
    "A_trapez"
   ]
  },
  {
   "cell_type": "markdown",
   "metadata": {
    "slideshow": {
     "slide_type": "subslide"
    }
   },
   "source": [
    "## Strnjen izračun uteži za Simpsonovo 1/3 pravilo"
   ]
  },
  {
   "cell_type": "markdown",
   "metadata": {},
   "source": [
    "Potem, ko smo zgoraj pokazali strnjen izračun za trapezno pravilo lahko podobno izvedemo za kvadratno interpolacijo čez tri točke ($n=3$).\n",
    "\n",
    "Izračun uteži je skoraj analogen zgornjemu in skoraj trivialen:"
   ]
  },
  {
   "cell_type": "code",
   "execution_count": 42,
   "metadata": {},
   "outputs": [
    {
     "data": {
      "image/png": "[encoded data removed]",
      "text/latex": [
       "$$\\left [ \\frac{h}{3}, \\quad \\frac{4 h}{3}, \\quad \\frac{h}{3}\\right ]$$"
      ],
      "text/plain": [
       "⎡h  4⋅h  h⎤\n",
       "⎢─, ───, ─⎥\n",
       "⎣3   3   3⎦"
      ]
     },
     "execution_count": 42,
     "metadata": {},
     "output_type": "execute_result"
    }
   ],
   "source": [
    "x, x0, x1, x2, h = sym.symbols('x, x0, x1, x2, h')\n",
    "zamenjave = {x1: x0+h, x2: x0+2*h}\n",
    "A_Simpson1_3 = [sym.integrate(_, (x, x0, x2)).factor().subs(zamenjave).factor() \n",
    "             for _ in lagrange(3, x)]\n",
    "A_Simpson1_3"
   ]
  },
  {
   "cell_type": "markdown",
   "metadata": {
    "slideshow": {
     "slide_type": "subslide"
    }
   },
   "source": [
    "## Strnjen izračun uteži za Simpsonovo 3/8 pravilo"
   ]
  },
  {
   "cell_type": "markdown",
   "metadata": {},
   "source": [
    "Nadaljujemo lahko s kubično interpolacijo čez štiri točke ($n=4$):"
   ]
  },
  {
   "cell_type": "code",
   "execution_count": 43,
   "metadata": {},
   "outputs": [
    {
     "data": {
      "image/png": "[encoded data removed]",
      "text/latex": [
       "$$\\left [ \\frac{3 h}{8}, \\quad \\frac{9 h}{8}, \\quad \\frac{9 h}{8}, \\quad \\frac{3 h}{8}\\right ]$$"
      ],
      "text/plain": [
       "⎡3⋅h  9⋅h  9⋅h  3⋅h⎤\n",
       "⎢───, ───, ───, ───⎥\n",
       "⎣ 8    8    8    8 ⎦"
      ]
     },
     "execution_count": 43,
     "metadata": {},
     "output_type": "execute_result"
    }
   ],
   "source": [
    "x, x0, x1, x2, x3, h = sym.symbols('x, x0, x1, x2, x3, h')\n",
    "zamenjave = {x1: x0+h, x2: x0+2*h, x3: x0+3*h}\n",
    "A_Simpson3_8 = [sym.integrate(_, (x, x0, x3)).factor().subs(zamenjave).factor() \n",
    "                for _ in lagrange(4, x)]\n",
    "A_Simpson3_8"
   ]
  },
  {
   "cell_type": "markdown",
   "metadata": {},
   "source": [
    "Ime te metode prihaja iz uteži prvega člena (3/8). "
   ]
  },
  {
   "cell_type": "markdown",
   "metadata": {
    "slideshow": {
     "slide_type": "subslide"
    }
   },
   "source": [
    "## Strnjen izračun za interpolacijski polinom 4 stopnje"
   ]
  },
  {
   "cell_type": "markdown",
   "metadata": {},
   "source": [
    "Nadaljujemo lahko z interpolacijskim polinomom 4. stopnje (čez pet točk, $n=5$):"
   ]
  },
  {
   "cell_type": "code",
   "execution_count": 44,
   "metadata": {},
   "outputs": [
    {
     "data": {
      "image/png": "[encoded data removed]",
      "text/latex": [
       "$$\\left [ \\frac{14 h}{45}, \\quad \\frac{64 h}{45}, \\quad \\frac{8 h}{15}, \\quad \\frac{64 h}{45}, \\quad \\frac{14 h}{45}\\right ]$$"
      ],
      "text/plain": [
       "⎡14⋅h  64⋅h  8⋅h  64⋅h  14⋅h⎤\n",
       "⎢────, ────, ───, ────, ────⎥\n",
       "⎣ 45    45    15   45    45 ⎦"
      ]
     },
     "execution_count": 44,
     "metadata": {},
     "output_type": "execute_result"
    }
   ],
   "source": [
    "x, x0, x1, x2, x3, x4, h = sym.symbols('x, x0, x1, x2, x3, x4, h')\n",
    "zamenjave = {x1: x0+h, x2: x0+2*h, x3: x0+3*h, x4: x0+4*h}\n",
    "A_Pretiravanje = [sym.integrate(_, (x, x0, x4)).factor().subs(zamenjave).factor() \n",
    "                for _ in lagrange(5, x)]\n",
    "A_Pretiravanje"
   ]
  },
  {
   "cell_type": "markdown",
   "metadata": {},
   "source": [
    "Z izpeljavami polinomov višjih redov bomo tukaj zaključili."
   ]
  },
  {
   "cell_type": "markdown",
   "metadata": {
    "slideshow": {
     "slide_type": "subslide"
    }
   },
   "source": [
    "## Prikaz uporabe Simpsonove 1/3 metode"
   ]
  },
  {
   "cell_type": "code",
   "execution_count": 45,
   "metadata": {
    "collapsed": true
   },
   "outputs": [],
   "source": [
    "from scipy import interpolate"
   ]
  },
  {
   "cell_type": "code",
   "execution_count": 46,
   "metadata": {
    "collapsed": true
   },
   "outputs": [],
   "source": [
    "x_d_Simpson1_3 = np.linspace(x_d[0], x_d[1], n.subs(podatki)+1) # več intervalov\n",
    "y_d_Simpson1_3 = fun_d(x_d_Simpson1_3)\n",
    "y_interpolate = interpolate.lagrange(x_d_Simpson1_3, y_d_Simpson1_3)\n",
    "\n",
    "izberi = (x_d[0] <= x_d_polno) & (x_d_polno <= x_d[1])\n",
    "# prikaz\n",
    "def slika():\n",
    "    plt.fill_between(x_d_polno[izberi], y_d_polno[izberi], alpha=0.25, facecolor='r')\n",
    "    plt.plot(x_d_polno, y_d_polno, 'r', lw=3, alpha=0.5, label='Zvezno')\n",
    "    plt.plot(x_d_Simpson1_3, y_d_Simpson1_3, 'ro', label='Meje odseka')\n",
    "    plt.plot(x_d_polno, y_interpolate(x_d_polno), 'b', label='Interpolacija')\n",
    "    plt.fill_between(x_d_polno[izberi], y_interpolate(x_d_polno[izberi]), \n",
    "                     alpha=0.25, facecolor='b')\n",
    "    plt.annotate('Simpsonovo 1/3 pravilo: $n$={}'.format(n.subs(podatki)), (.4, 0.2))\n",
    "    plt.ylim(-0.3, 1.1)\n",
    "    plt.legend(loc=(1.01, 0));\n",
    "    plt.show()"
   ]
  },
  {
   "cell_type": "code",
   "execution_count": 47,
   "metadata": {
    "slideshow": {
     "slide_type": "subslide"
    }
   },
   "outputs": [
    {
     "data": {
      "image/png": "[encoded data removed]",
      "text/plain": [
       "<matplotlib.figure.Figure at 0x1e2141fdd68>"
      ]
     },
     "metadata": {},
     "output_type": "display_data"
    }
   ],
   "source": [
    "slika()"
   ]
  },
  {
   "cell_type": "markdown",
   "metadata": {
    "slideshow": {
     "slide_type": "subslide"
    }
   },
   "source": [
    "### Numerična implementacija sestavljenega Simpsonovega 1/3 pravila"
   ]
  },
  {
   "cell_type": "markdown",
   "metadata": {},
   "source": [
    "Spomnimo se uteži za Simpsonovo 1/3 pravilo:"
   ]
  },
  {
   "cell_type": "code",
   "execution_count": 48,
   "metadata": {},
   "outputs": [
    {
     "data": {
      "image/png": "[encoded data removed]",
      "text/latex": [
       "$$\\left [ \\frac{h}{3}, \\quad \\frac{4 h}{3}, \\quad \\frac{h}{3}\\right ]$$"
      ],
      "text/plain": [
       "⎡h  4⋅h  h⎤\n",
       "⎢─, ───, ─⎥\n",
       "⎣3   3   3⎦"
      ]
     },
     "execution_count": 48,
     "metadata": {},
     "output_type": "execute_result"
    }
   ],
   "source": [
    "A_Simpson1_3"
   ]
  },
  {
   "cell_type": "markdown",
   "metadata": {
    "slideshow": {
     "slide_type": "subslide"
    }
   },
   "source": [
    "V kolikor želimo to uporabiti na ne več kot treh točkah, lahko to naredimo na podoben način kakor smo pri trapeznem pravilo, vendar moramo tukaj malenkost bolj paziti. Potrebujemo najmanj tri točke, število točk pa mora biti liho saj interpoliramo čez tri točke. Ker je med odseki ena točka skupna imajo te točke v bistvu dvojno utež. Numerična implementacija je tukaj:"
   ]
  },
  {
   "cell_type": "code",
   "execution_count": 49,
   "metadata": {
    "collapsed": true
   },
   "outputs": [],
   "source": [
    "def simpson1_3(y, h=1., izpis=True):\n",
    "    utezi = np.array([1., 4., 1.])/3*h\n",
    "    if len(y)%2 == 0:\n",
    "        raise Exception('Ne morem uporabiti Simpsonovega 1/3 pravila.\\\n",
    "        Pričakovano liho število vrednosti.')\n",
    "    utezi_arr = np.zeros_like(y)\n",
    "    for i in range(len(y)//2):\n",
    "        utezi_arr[2*i:2*i+3] = utezi_arr[2*i:2*i+3] + utezi\n",
    "    if izpis:\n",
    "        print(utezi_arr)\n",
    "    return utezi_arr.dot(y)"
   ]
  },
  {
   "cell_type": "markdown",
   "metadata": {
    "slideshow": {
     "slide_type": "subslide"
    }
   },
   "source": [
    "Primer uporabe:"
   ]
  },
  {
   "cell_type": "code",
   "execution_count": 50,
   "metadata": {},
   "outputs": [
    {
     "data": {
      "image/png": "[encoded data removed]",
      "text/latex": [
       "$$1.41665358288$$"
      ],
      "text/plain": [
       "1.41665358288"
      ]
     },
     "execution_count": 50,
     "metadata": {},
     "output_type": "execute_result"
    }
   ],
   "source": [
    "#%%timeit\n",
    "h_d = x_d_Simpson1_3[1]-x_d_Simpson1_3[0]\n",
    "I_Simpson1_3 = simpson1_3(y_d_Simpson1_3, h_d, izpis=False)\n",
    "I_Simpson1_3"
   ]
  },
  {
   "cell_type": "code",
   "execution_count": 51,
   "metadata": {},
   "outputs": [
    {
     "data": {
      "image/png": "[encoded data removed]",
      "text/latex": [
       "$$1.42506045535$$"
      ],
      "text/plain": [
       "1.42506045535"
      ]
     },
     "execution_count": 51,
     "metadata": {},
     "output_type": "execute_result"
    }
   ],
   "source": [
    "I_Simpson1_3_2h = simpson1_3(y_d_Simpson1_3[::2], 2*h_d, izpis=False)\n",
    "I_Simpson1_3_2h"
   ]
  },
  {
   "cell_type": "code",
   "execution_count": 52,
   "metadata": {},
   "outputs": [
    {
     "data": {
      "image/png": "[encoded data removed]",
      "text/latex": [
       "$$1.41614683654714$$"
      ],
      "text/plain": [
       "1.41614683654714"
      ]
     },
     "execution_count": 52,
     "metadata": {},
     "output_type": "execute_result"
    }
   ],
   "source": [
    "I_analiticno"
   ]
  },
  {
   "cell_type": "code",
   "execution_count": 53,
   "metadata": {},
   "outputs": [
    {
     "data": {
      "image/png": "[encoded data removed]",
      "text/latex": [
       "$$1.38652011171$$"
      ],
      "text/plain": [
       "1.38652011171"
      ]
     },
     "execution_count": 53,
     "metadata": {},
     "output_type": "execute_result"
    }
   ],
   "source": [
    "I_trapezno_sestav"
   ]
  },
  {
   "cell_type": "markdown",
   "metadata": {
    "slideshow": {
     "slide_type": "subslide"
    }
   },
   "source": [
    "### ``scipy`` implementacija"
   ]
  },
  {
   "cell_type": "code",
   "execution_count": 54,
   "metadata": {
    "collapsed": true
   },
   "outputs": [],
   "source": [
    "from scipy import integrate"
   ]
  },
  {
   "cell_type": "code",
   "execution_count": 55,
   "metadata": {},
   "outputs": [
    {
     "data": {
      "image/png": "[encoded data removed]",
      "text/latex": [
       "$$1.41665358288$$"
      ],
      "text/plain": [
       "1.41665358288"
      ]
     },
     "execution_count": 55,
     "metadata": {},
     "output_type": "execute_result"
    }
   ],
   "source": [
    "#%%timeit\n",
    "integrate.simps(y_d_sestav, dx=h_d)"
   ]
  },
  {
   "cell_type": "markdown",
   "metadata": {
    "slideshow": {
     "slide_type": "subslide"
    }
   },
   "source": [
    "Sicer lahko uteži različnih *Newton-Cotesovih* pristopov pridobimo takole:"
   ]
  },
  {
   "cell_type": "code",
   "execution_count": 56,
   "metadata": {},
   "outputs": [
    {
     "data": {
      "text/plain": [
       "(array([ 0.375,  1.125,  1.125,  0.375]), -0.0375)"
      ]
     },
     "execution_count": 56,
     "metadata": {},
     "output_type": "execute_result"
    }
   ],
   "source": [
    "integrate.newton_cotes(3)"
   ]
  },
  {
   "cell_type": "markdown",
   "metadata": {
    "slideshow": {
     "slide_type": "subslide"
    }
   },
   "source": [
    "Če nas pa na vsakem odseku zanima rezultat, pa lahko uporabimo funkcijo ``integrate.cumtrapz``:"
   ]
  },
  {
   "cell_type": "code",
   "execution_count": 57,
   "metadata": {},
   "outputs": [
    {
     "data": {
      "image/png": "[encoded data removed]",
      "text/plain": [
       "<matplotlib.figure.Figure at 0x1e214332278>"
      ]
     },
     "metadata": {},
     "output_type": "display_data"
    }
   ],
   "source": [
    "I_po_korakih = integrate.cumtrapz(y_d_sestav, dx=h_d, initial=0)\n",
    "plt.plot(x_d_sestav, y_d_sestav, 'ro-', label='funkcija')\n",
    "plt.plot(x_d_sestav, I_po_korakih, 'bo-', label='integral po korakih');\n",
    "plt.legend(loc=(1.01, 0));"
   ]
  },
  {
   "cell_type": "markdown",
   "metadata": {
    "slideshow": {
     "slide_type": "subslide"
    }
   },
   "source": [
    "### Napaka sestavljene Simpsonove 1/3 metode"
   ]
  },
  {
   "cell_type": "markdown",
   "metadata": {},
   "source": [
    "Ocena napake (vir: Jaan Kiusalaas: Numerical Methods in Engineering With Python 3, 3rd Ed) za sestavljeno Simpsonov 1/3 pravilo je:"
   ]
  },
  {
   "cell_type": "code",
   "execution_count": 58,
   "metadata": {},
   "outputs": [
    {
     "data": {
      "image/png": "[encoded data removed]",
      "text/latex": [
       "$$\\frac{h^{4}}{180} \\left(a - b\\right) \\frac{d^{4}}{d \\xi^{4}}  f{\\left (\\xi \\right )}$$"
      ],
      "text/plain": [
       "             4      \n",
       " 4          d       \n",
       "h ⋅(a - b)⋅───(f(ξ))\n",
       "             4      \n",
       "           dξ       \n",
       "────────────────────\n",
       "        180         "
      ]
     },
     "execution_count": 58,
     "metadata": {},
     "output_type": "execute_result"
    }
   ],
   "source": [
    "E_simpsonovo_sestav = - (b - a) * h**4 / 180 * f(xi).diff(xi, 4)\n",
    "E_simpsonovo_sestav"
   ]
  },
  {
   "cell_type": "markdown",
   "metadata": {},
   "source": [
    "kjer je $\\xi$ neznana vrednost na intervalu $[a, b]$."
   ]
  },
  {
   "cell_type": "markdown",
   "metadata": {
    "slideshow": {
     "slide_type": "subslide"
    }
   },
   "source": [
    "Podobno kakor pri trapeznem pravilu, lahko pri dveh različnih korakih ($h$ in $2h$) ocenimo $\\frac{d^4}{d \\xi^4}  f\\left (\\xi \\right )$:"
   ]
  },
  {
   "cell_type": "code",
   "execution_count": 59,
   "metadata": {},
   "outputs": [
    {
     "data": {
      "image/png": "[encoded data removed]",
      "text/latex": [
       "$$- \\frac{12 A}{h^{4} \\left(a - b\\right)}$$"
      ],
      "text/plain": [
       "  -12⋅A   \n",
       "──────────\n",
       " 4        \n",
       "h ⋅(a - b)"
      ]
     },
     "execution_count": 59,
     "metadata": {},
     "output_type": "execute_result"
    }
   ],
   "source": [
    "f4 = sym.solve(\n",
    "    sym.Eq(A, E_simpsonovo_sestav - E_simpsonovo_sestav.subs(h, 2*h))\n",
    "    , f(xi).diff(xi, 4)\n",
    ")[0]\n",
    "f4"
   ]
  },
  {
   "cell_type": "markdown",
   "metadata": {
    "slideshow": {
     "slide_type": "subslide"
    }
   },
   "source": [
    "Kjer je $A = I_{2h}-I_h$. Izpeljani izraz vstavimo v izraz za oceno napake in izeljemo:"
   ]
  },
  {
   "cell_type": "code",
   "execution_count": 60,
   "metadata": {},
   "outputs": [
    {
     "data": {
      "image/png": "[encoded data removed]",
      "text/latex": [
       "$$- \\frac{A}{15}$$"
      ],
      "text/plain": [
       "-A \n",
       "───\n",
       " 15"
      ]
     },
     "execution_count": 60,
     "metadata": {},
     "output_type": "execute_result"
    }
   ],
   "source": [
    "E_simpsonovo_sestav.subs(f(xi).diff(xi, 4), f4).simplify()"
   ]
  },
  {
   "cell_type": "markdown",
   "metadata": {},
   "source": [
    "Končno lahko torej določimo ob pomoči približka z korakom $h$ in $2h$ določili boljši približek:\n",
    "$$I_h^* = \\frac{16}{15}\\,I_h - \\frac{1}{15}\\,I_{2h}.$$"
   ]
  },
  {
   "cell_type": "code",
   "execution_count": 61,
   "metadata": {},
   "outputs": [
    {
     "data": {
      "image/png": "[encoded data removed]",
      "text/latex": [
       "$$1.41609312471$$"
      ],
      "text/plain": [
       "1.41609312471"
      ]
     },
     "execution_count": 61,
     "metadata": {},
     "output_type": "execute_result"
    }
   ],
   "source": [
    "16/15*I_Simpson1_3-1/15*I_Simpson1_3_2h"
   ]
  },
  {
   "cell_type": "code",
   "execution_count": 62,
   "metadata": {},
   "outputs": [
    {
     "data": {
      "image/png": "[encoded data removed]",
      "text/latex": [
       "$$1.41614683654714$$"
      ],
      "text/plain": [
       "1.41614683654714"
      ]
     },
     "execution_count": 62,
     "metadata": {},
     "output_type": "execute_result"
    }
   ],
   "source": [
    "I_analiticno"
   ]
  },
  {
   "cell_type": "code",
   "execution_count": 63,
   "metadata": {},
   "outputs": [
    {
     "data": {
      "image/png": "[encoded data removed]",
      "text/latex": [
       "$$1.41665358288$$"
      ],
      "text/plain": [
       "1.41665358288"
      ]
     },
     "execution_count": 63,
     "metadata": {},
     "output_type": "execute_result"
    }
   ],
   "source": [
    "I_Simpson1_3"
   ]
  },
  {
   "cell_type": "markdown",
   "metadata": {
    "slideshow": {
     "slide_type": "slide"
    }
   },
   "source": [
    "# Gaussov integracijski pristop - Gaussova kvadratura"
   ]
  },
  {
   "cell_type": "markdown",
   "metadata": {},
   "source": [
    "Pristop k integriranju zgoraj je temeljil na konstantnem koraku in izbrano pravilo (pravokotno, trapezno, Simpsonovo,...) rezultira v točen rezultat v kolikor je integrirana funkcija $f(x)$ polinom enake ali nižje stopnje kakor je uporabljena interpolacija posameznega Newton-Cotesovega pristopa (npr. trapezno pravilo izračuna točno linearne funkcije)."
   ]
  },
  {
   "cell_type": "markdown",
   "metadata": {
    "slideshow": {
     "slide_type": "subslide"
    }
   },
   "source": [
    "Ideja *Gaussove integracije / kvadrature* je v principu drugačna. Da jo spoznamo, si poglejmo spodnjo sliko:"
   ]
  },
  {
   "cell_type": "code",
   "execution_count": 64,
   "metadata": {
    "collapsed": true
   },
   "outputs": [],
   "source": [
    "#poljubno izbrane točke na intervalu [a, b]\n",
    "x_izbrane = np.asarray([0.4, 1.5])\n",
    "y_izbrane = fun_d(x_izbrane)\n",
    "lin_inter = interpolate.lagrange(x_izbrane, y_izbrane)\n",
    "#\n",
    "def slika():\n",
    "    plt.fill_between(x_d_polno[izberi], y_d_polno[izberi], alpha=0.25, facecolor='r')\n",
    "    plt.plot(x_d_polno, y_d_polno, 'r', lw=3, alpha=0.5, label='Zvezno')\n",
    "    plt.plot(x_d, y_d, 'ro', label='Diskretno')\n",
    "    plt.fill_between(x_d, y_d, alpha=0.25, facecolor='b')\n",
    "    plt.plot(x_izbrane, y_izbrane, 'go', label='Poljubno izbrane')\n",
    "    plt.fill_between(x_d, lin_inter(x_d), alpha=0.25, facecolor='g')\n",
    "    plt.annotate('Trapezno pravilo', (.8, 0.2))\n",
    "    plt.annotate('Poljubno izbrana vozlišča', (.8, 0.90), rotation=30)\n",
    "    plt.ylim(-0.3, 1.3)\n",
    "    plt.legend(loc=(1.01, 0));\n",
    "    plt.show()"
   ]
  },
  {
   "cell_type": "code",
   "execution_count": 65,
   "metadata": {
    "slideshow": {
     "slide_type": "subslide"
    }
   },
   "outputs": [
    {
     "data": {
      "image/png": "[encoded data removed]",
      "text/plain": [
       "<matplotlib.figure.Figure at 0x1e2140d8cf8>"
      ]
     },
     "metadata": {},
     "output_type": "display_data"
    }
   ],
   "source": [
    "slika()"
   ]
  },
  {
   "cell_type": "markdown",
   "metadata": {
    "slideshow": {
     "slide_type": "subslide"
    }
   },
   "source": [
    "Iz slike opazimo, da bi lahko z drugačno izbiro vozlišč tudi s trapeznim pravilom bolje aproksimirali integral. In ravno v tem je ideja Gaussovega pristopa k aproksimaciji integrala; cilj je integral funkcije $f(x)$ nadomestiti z uteženo vsoto vrednosti funkcije pri diskretnih vrednostih $f(x_i)$:\n",
    "$$\\int_a^bf(x)\\,dx\\approx \\sum_i^{n-1} w_i\\, f(x_i).$$\n",
    "Pri tem je neznana utež $w_i$ in tudi lega vozlišča $x_i$. Z večanjem števila uteži $n$ bomo pa lahko povečali tudi stopnjo interpolacijskega polinoma."
   ]
  },
  {
   "cell_type": "markdown",
   "metadata": {
    "slideshow": {
     "slide_type": "subslide"
    }
   },
   "source": [
    "V nadaljevanju si bomo torej pogledali Gaussovo kvadraturo in spoznali, da lahko zelo učinkovito izračunamo točen integral. Prednost Gaussove kvadrature je tudi, da lahko izračuna integral funkcij s singularnostmi (npr: $\\int_0^1\\sin(x)/\\sqrt{(x)}\\,dx$)"
   ]
  },
  {
   "cell_type": "markdown",
   "metadata": {
    "slideshow": {
     "slide_type": "subslide"
    }
   },
   "source": [
    "## Gaussova kvadratura z enim vozliščem"
   ]
  },
  {
   "cell_type": "markdown",
   "metadata": {},
   "source": [
    "Predpostavimo, da želimo integrirati polinom stopnje $n=1$ (linearna funkcija):\n",
    "$$f(x)=P_1(x)=A_0+A_1\\,x.$$\n",
    "Točen rezultat integrala $\\int_a^bP_1(x)\\,\\textrm{d}x$ je:"
   ]
  },
  {
   "cell_type": "code",
   "execution_count": 66,
   "metadata": {},
   "outputs": [
    {
     "data": {
      "image/png": "[encoded data removed]",
      "text/latex": [
       "$$- A_{0} a + A_{0} b - \\frac{A_{1} a^{2}}{2} + \\frac{A_{1} b^{2}}{2}$$"
      ],
      "text/plain": [
       "                   2       2\n",
       "               A₁⋅a    A₁⋅b \n",
       "-A₀⋅a + A₀⋅b - ───── + ─────\n",
       "                 2       2  "
      ]
     },
     "execution_count": 66,
     "metadata": {},
     "output_type": "execute_result"
    }
   ],
   "source": [
    "A0, A1, x, a, b, w0, x0 = sym.symbols('A0, A1, x, a, b, w0, x0')\n",
    "P1 = A0 + A1*x\n",
    "P1.integrate((x, a, b))"
   ]
  },
  {
   "cell_type": "markdown",
   "metadata": {
    "slideshow": {
     "slide_type": "subslide"
    }
   },
   "source": [
    "Če bi želeli integral izračunati glede na vrednosto funkcije $f$ v neznanem vozlišču $x_0$:\n",
    "$$\\int_a^bP_1(x)dx = w_0\\,P_1(x_0),$$\n",
    "potem moramo najti tudi ustrezno utež $w_0$. \n",
    "Zapišimo enačbo simbolno:"
   ]
  },
  {
   "cell_type": "code",
   "execution_count": 67,
   "metadata": {},
   "outputs": [
    {
     "data": {
      "image/png": "[encoded data removed]",
      "text/latex": [
       "$$- A_{0} a + A_{0} b - \\frac{A_{1} a^{2}}{2} + \\frac{A_{1} b^{2}}{2} = w_{0} \\left(A_{0} + A_{1} x_{0}\\right)$$"
      ],
      "text/plain": [
       "                   2       2                  \n",
       "               A₁⋅a    A₁⋅b                   \n",
       "-A₀⋅a + A₀⋅b - ───── + ───── = w₀⋅(A₀ + A₁⋅x₀)\n",
       "                 2       2                    "
      ]
     },
     "execution_count": 67,
     "metadata": {},
     "output_type": "execute_result"
    }
   ],
   "source": [
    "sym.Eq(P1.integrate((x, a, b)).expand(), w0*P1.subs(x, x0))"
   ]
  },
  {
   "cell_type": "markdown",
   "metadata": {
    "slideshow": {
     "slide_type": "subslide"
    }
   },
   "source": [
    "Spomnimo, da so $a$ in $b$ znane meje, $A_i$ konstante poljubne linearne funkcije, $w_0$ in $x_0$ pa neznani vrednosti. Ker sta $A_i$ poljubni, lahko iz zgornjega izraza izpeljemo dve enačbi (najprej je samo $A_0\\neq0$, potem pa samo $A_1\\neq0$):"
   ]
  },
  {
   "cell_type": "code",
   "execution_count": 68,
   "metadata": {},
   "outputs": [
    {
     "data": {
      "image/png": "[encoded data removed]",
      "text/latex": [
       "$$\\left [ - a + b = w_{0}, \\quad - \\frac{a^{2}}{2} + \\frac{b^{2}}{2} = w_{0} x_{0}\\right ]$$"
      ],
      "text/plain": [
       "⎡                2    2        ⎤\n",
       "⎢               a    b         ⎥\n",
       "⎢-a + b = w₀, - ── + ── = w₀⋅x₀⎥\n",
       "⎣               2    2         ⎦"
      ]
     },
     "execution_count": 68,
     "metadata": {},
     "output_type": "execute_result"
    }
   ],
   "source": [
    "eqs = [sym.Eq(P1.integrate((x, a, b)).expand().coeff(A_),\\\n",
    "              w0*P1.subs(x, x0).coeff(A_))\\\n",
    "       for A_ in [A0, A1]]\n",
    "eqs"
   ]
  },
  {
   "cell_type": "markdown",
   "metadata": {
    "slideshow": {
     "slide_type": "subslide"
    }
   },
   "source": [
    "Izpeljali smo dve enačbi in dve neznanki, sistem lahko rešimo:"
   ]
  },
  {
   "cell_type": "code",
   "execution_count": 69,
   "metadata": {},
   "outputs": [
    {
     "data": {
      "image/png": "[encoded data removed]",
      "text/latex": [
       "$$\\left [ \\left ( - a + b, \\quad \\frac{1}{2} \\left(a + b\\right)\\right )\\right ]$$"
      ],
      "text/plain": [
       "⎡⎛        a + b⎞⎤\n",
       "⎢⎜-a + b, ─────⎟⎥\n",
       "⎣⎝          2  ⎠⎦"
      ]
     },
     "execution_count": 69,
     "metadata": {},
     "output_type": "execute_result"
    }
   ],
   "source": [
    "sym.solve(eqs, [w0, x0])"
   ]
  },
  {
   "cell_type": "markdown",
   "metadata": {
    "slideshow": {
     "slide_type": "subslide"
    }
   },
   "source": [
    "Zaradi lažje splošne uporabe, pri Gaussovi kvadraturi tipično uporabljamo meje $a=-1$ in $b=1$.\n",
    "\n",
    "Poljubne meje $x\\in[a,b]$ lahko vedno transformiramo v meje $\\xi\\in[-1, +1]$ s pomočjo:\n",
    "$$x=\\frac{b+a}{2}+\\frac{b-a}{2}\\xi$$\n",
    "posledično je Gaussova kvadratura potem:\n",
    "$$\\int_a^bf(x)\\,dx\\approx\\frac{b-a}{2}\\sum_i A_i\\,f(x_i).$$\n",
    "\n",
    "V primeru standardiziranih mej, je utež $w_0=2$ in $x_0=0$ vrednost pri kateri moramo izračunati funkcijo $f$. Če je integrirana funkcija linearna, bomo torej samo na podlagi vrednosti v eni točki izračunali pravo vrednost!"
   ]
  },
  {
   "cell_type": "markdown",
   "metadata": {},
   "source": [
    "Če vam je bila razlaga tukaj prehitra ali premalo jasna, vam priporočam ogled tega video posnetka:\n",
    "https://www.youtube.com/watch?v=iQ5-4hx25Rw"
   ]
  },
  {
   "cell_type": "markdown",
   "metadata": {
    "slideshow": {
     "slide_type": "subslide"
    }
   },
   "source": [
    "## Gaussova kvadratura z več vozlišči"
   ]
  },
  {
   "cell_type": "markdown",
   "metadata": {},
   "source": [
    "Tukaj želimo zgornji pristop posplošiti na $n$ vozlišč:\n",
    "$$\\int_a^bP_{2n-1}(x)dx = \\sum_i^n w_i\\,P_{2n-1}(x_i),$$\n",
    "kakor zgornja enačba nakazuje, je treba za Gaussovo kvadraturo z $n$ vozlišči uporabiti polinom stopnje $2n-1$:\n",
    "$$f(x)=P_{2n-1}(x)=\\sum_{i=0}^{2n-1} A_i\\,x^i.$$\n",
    "To je v bistvu zelo dobro, saj z dvema Gaussovima vozliščema točno izračunamo integral polinoma do 3 reda, s tremi Gausovimi vozlišči pa točno izračunamo integral polinoma do 5 reda!"
   ]
  },
  {
   "cell_type": "markdown",
   "metadata": {
    "slideshow": {
     "slide_type": "subslide"
    }
   },
   "source": [
    "Pripravimo si najprej simbolni zapis polinoma in ustreznih spremenljivk:"
   ]
  },
  {
   "cell_type": "code",
   "execution_count": 70,
   "metadata": {
    "collapsed": true
   },
   "outputs": [],
   "source": [
    "def P_etc(n=1, A='A', X='X'):\n",
    "    A = sym.symbols('{0:s}:{1:g}'.format(A, n))\n",
    "    X = sym.symbols(X)\n",
    "    return A, X, sum([A[i]*X**i for i in range(n)])"
   ]
  },
  {
   "cell_type": "code",
   "execution_count": 71,
   "metadata": {
    "collapsed": true
   },
   "outputs": [],
   "source": [
    "stevilo_tock = 2\n",
    "A, X, P = P_etc(n=2*stevilo_tock)\n",
    "x = sym.symbols('x:{0:g}'.format(stevilo_tock))\n",
    "w = sym.symbols('w:{0:g}'.format(stevilo_tock))"
   ]
  },
  {
   "cell_type": "code",
   "execution_count": 72,
   "metadata": {},
   "outputs": [
    {
     "data": {
      "image/png": "[encoded data removed]",
      "text/latex": [
       "$$A_{0} + A_{1} X + A_{2} X^{2} + A_{3} X^{3}$$"
      ],
      "text/plain": [
       "                2       3\n",
       "A₀ + A₁⋅X + A₂⋅X  + A₃⋅X "
      ]
     },
     "execution_count": 72,
     "metadata": {},
     "output_type": "execute_result"
    }
   ],
   "source": [
    "P"
   ]
  },
  {
   "cell_type": "markdown",
   "metadata": {
    "slideshow": {
     "slide_type": "subslide"
    }
   },
   "source": [
    "Definirajmo enačbe:"
   ]
  },
  {
   "cell_type": "code",
   "execution_count": 73,
   "metadata": {},
   "outputs": [
    {
     "data": {
      "image/png": "[encoded data removed]",
      "text/latex": [
       "$$\\left [ 2 = w_{0} + w_{1}, \\quad 0 = w_{0} x_{0} + w_{1} x_{1}, \\quad \\frac{2}{3} = w_{0} x_{0}^{2} + w_{1} x_{1}^{2}, \\quad 0 = w_{0} x_{0}^{3} + w_{1} x_{1}^{3}\\right ]$$"
      ],
      "text/plain": [
       "⎡                                           2        2           3        3⎤\n",
       "⎣2 = w₀ + w₁, 0 = w₀⋅x₀ + w₁⋅x₁, 2/3 = w₀⋅x₀  + w₁⋅x₁ , 0 = w₀⋅x₀  + w₁⋅x₁ ⎦"
      ]
     },
     "execution_count": 73,
     "metadata": {},
     "output_type": "execute_result"
    }
   ],
   "source": [
    "eqs = [sym.Eq(P.integrate((X, -1, 1)).coeff(A_),\\\n",
    "              sum([w[i]*P.subs(X, x[i]) \\\n",
    "                   for i in range(stevilo_tock)]).expand().coeff(A_)) \\\n",
    "       for A_ in A]\n",
    "eqs"
   ]
  },
  {
   "cell_type": "markdown",
   "metadata": {
    "slideshow": {
     "slide_type": "subslide"
    }
   },
   "source": [
    "In jih rešimo"
   ]
  },
  {
   "cell_type": "code",
   "execution_count": 74,
   "metadata": {},
   "outputs": [
    {
     "data": {
      "image/png": "[encoded data removed]",
      "text/latex": [
       "$$\\left [ \\left ( - \\frac{\\sqrt{3}}{3}, \\quad \\frac{\\sqrt{3}}{3}, \\quad 1, \\quad 1\\right ), \\quad \\left ( \\frac{\\sqrt{3}}{3}, \\quad - \\frac{\\sqrt{3}}{3}, \\quad 1, \\quad 1\\right )\\right ]$$"
      ],
      "text/plain": [
       "⎡⎛-√3   √3      ⎞  ⎛√3  -√3       ⎞⎤\n",
       "⎢⎜────, ──, 1, 1⎟, ⎜──, ────, 1, 1⎟⎥\n",
       "⎣⎝ 3    3       ⎠  ⎝3    3        ⎠⎦"
      ]
     },
     "execution_count": 74,
     "metadata": {},
     "output_type": "execute_result"
    }
   ],
   "source": [
    "sol = sym.solve(eqs, sym.flatten((x, w)))\n",
    "sol"
   ]
  },
  {
   "cell_type": "markdown",
   "metadata": {
    "slideshow": {
     "slide_type": "subslide"
    }
   },
   "source": [
    "Reševanje zgornjega problema je nelinearno zato dobimo več rešitev in simbolno ima smisel reševati do treh vozlišč.\n",
    "\n",
    "| Število točk | Vozlišče  $x_i$ | Utež $w_i$ |\n",
    "|:------------:|:------------:|:------------:|\n",
    "||||\n",
    "|1 | 0 | 2 |\n",
    "||||\n",
    "|2 | $-\\frac{\\sqrt{3}}{3}$ | 1 |\n",
    "| | $+\\frac{\\sqrt{3}}{3}$ | 1 |\n",
    "||||\n",
    "| | $-\\frac{\\sqrt{15}}{5}$ | $\\frac{5}{9}$ |\n",
    "|3 | $0$ | $\\frac{8}{9}$ |\n",
    "| | $\\frac{\\sqrt{15}}{5}$ | $\\frac{5}{9}$ |\n"
   ]
  },
  {
   "cell_type": "markdown",
   "metadata": {
    "slideshow": {
     "slide_type": "subslide"
    }
   },
   "source": [
    "Vsebino bi tukaj lahko nadaljevali s pregledom različnih pravokotnih (tukaj se ne bomo spustili podrobneje v pomen termina *pravokotnih polinomov*) polinomov (npr. *Legendre*, *Chebyshev*, *Leguerre*, *Hermite*). \n",
    "\n",
    "Naprej bi lahko nadaljevali v smeri Gaussove integracije v več dimenzijah, ki se pogosto uporablja npr. pri končnih elementih.\n",
    "\n",
    "Ker pa bi s tem bistveno presegli namen tega predmeta in ker je za osnovno uporabo v praksi zavedanje predhodno navedene teorije dovolj, se s teorijo numeričnega integriranja tukaj ustavimo."
   ]
  },
  {
   "cell_type": "markdown",
   "metadata": {
    "slideshow": {
     "slide_type": "subslide"
    }
   },
   "source": [
    "## Uporaba ``scipy.integrate`` modula"
   ]
  },
  {
   "cell_type": "markdown",
   "metadata": {},
   "source": [
    "Uporaba vgrajenih funkcij je zelo enostavna; tudi meje so samodejno transformirane."
   ]
  },
  {
   "cell_type": "code",
   "execution_count": 75,
   "metadata": {},
   "outputs": [
    {
     "data": {
      "image/png": "[encoded data removed]",
      "text/latex": [
       "$$1.41614683654714$$"
      ],
      "text/plain": [
       "1.41614683654714"
      ]
     },
     "execution_count": 75,
     "metadata": {},
     "output_type": "execute_result"
    }
   ],
   "source": [
    "I_analiticno"
   ]
  },
  {
   "cell_type": "code",
   "execution_count": 76,
   "metadata": {},
   "outputs": [
    {
     "name": "stderr",
     "output_type": "stream",
     "text": [
      "C:\\Users\\Janko\\Anaconda3\\lib\\site-packages\\scipy\\integrate\\quadrature.py:196: AccuracyWarning: maxiter (2) exceeded. Latest difference = 2.727850e-01\n",
      "  AccuracyWarning)\n"
     ]
    },
    {
     "data": {
      "image/png": "[encoded data removed]",
      "text/latex": [
       "$$\\left ( 1.41015698167, \\quad 0.27278498795\\right )$$"
      ],
      "text/plain": [
       "(1.41015698167, 0.27278498795)"
      ]
     },
     "execution_count": 76,
     "metadata": {},
     "output_type": "execute_result"
    }
   ],
   "source": [
    "integrate.quadrature(fun_d, 0, 2, maxiter=2)"
   ]
  },
  {
   "cell_type": "code",
   "execution_count": 77,
   "metadata": {},
   "outputs": [
    {
     "data": {
      "image/png": "[encoded data removed]",
      "text/latex": [
       "$$\\left ( 1.41614683655, \\quad 6.67212951555e-10\\right )$$"
      ],
      "text/plain": [
       "(1.41614683655, 6.67212951555e-10)"
      ]
     },
     "execution_count": 77,
     "metadata": {},
     "output_type": "execute_result"
    }
   ],
   "source": [
    "#%%timeit\n",
    "integrate.quadrature(fun_d, 0, 2)"
   ]
  },
  {
   "cell_type": "code",
   "execution_count": 78,
   "metadata": {
    "code_folding": []
   },
   "outputs": [
    {
     "data": {
      "image/png": "[encoded data removed]",
      "text/latex": [
       "$$\\left ( 1.4161468365471424, \\quad 1.5722388241847156e-14\\right )$$"
      ],
      "text/plain": [
       "(1.4161468365471424, 1.5722388241847156e-14)"
      ]
     },
     "execution_count": 78,
     "metadata": {},
     "output_type": "execute_result"
    }
   ],
   "source": [
    "#%%timeit\n",
    "integrate.quad(fun_d, 0, 2)"
   ]
  },
  {
   "cell_type": "markdown",
   "metadata": {
    "slideshow": {
     "slide_type": "slide"
    }
   },
   "source": [
    "# Nekaj vprašanj za razmislek!"
   ]
  },
  {
   "cell_type": "markdown",
   "metadata": {},
   "source": [
    "1. Na sliki (vir: J. Slavič: Dinamika, meh. nihanja..., 2014) je prikazan trikotnik s stranicami dolžine $a$, $b$, debelino $h$ in gostoto $\\rho$.\n",
    "<img src=\"./fig/Slavic_2014_str_242_slika_5.4.png\" width=200>\n",
    "V simbolni obliki določite masni vztrajnostni moment glede na prikazano os $y$:\n",
    "$$J_{yy}=\\int_0^b y^2\\,\\rho\\,h\\,(a-a/b\\,y)\\,dy.$$\n",
    "Upoštevajte tudi: $m=a\\,b\\,h\\,\\rho/2$. Za izmišljene vrednosti izračunajte numerični rezultat.\n",
    "* Izračunajte integral tudi numerično. Uporabite ``scipy.integrate`` in integrirajte glede na pravila: trapezno, Simpsonovo 1/3. Rezultat primerjajte tudi z Gaussovo kvadraturo.\n",
    "Raziščite natančnost in hitrost metod.\n",
    "* Preštudirajte ``scipy.special.legendre``, ki vam vrne objekt ``orthopoly1d``. Ta objekt ima metodo ``weights``, ki vrne seznam ``[x, w, mu0]`` vrednosti, ki jih uporabimo pri Gaussovi kvadraturi. (Če tukaj vsega ne razumete, ne skrbite preveč, bo asistent pokazal/komentiral). Opazite lahko, da smo vrednosti izpeljali na predavanjih!\n",
    "* S pomočjo zgoraj pridobljenih uteži in vozlišč izračunajte integral s pomočjo Gaussove kvadrature: $\\sum_iw_i\\,f(x_i)$. Pazite na transformacijo mej:\n",
    "$$x=\\frac{b+a}{2}+\\frac{b-a}{2}\\xi$$\n",
    "$$\\int_a^bf(x)\\,dx\\approx\\frac{b-a}{2}\\sum_i A_i\\,f(x_i).$$\n",
    "* Preprosti integral $\\int_0^2x^2\\,dx$ izrabite za prikaz trapeznega in Simpsonovega 1/3 pravila (osnovno pravilo, ne sestavljeno). Uteži izračunajte z uporabo ``scipy``.\n",
    "* Integral predhodne točke razširite za sestavljeno trapezno pravilo (lastna koda). Prikažite vpliv števila odsekov, primerjte napako izračuna s predhodnim številom odsekov in prikažite konvergenco.\n",
    "* Integral predhodne točke razširite za sestavljeno Simpsonovo 1/3 pravilo (lastna koda). Prikažite vpliv števila odsekov, primerjte napako izračuna s predhodnim številom odsekov in prikažite konvergenco.\n",
    "* Z različnimi metodami izračunajte integrala:\n",
    "$$\\int_1^2\\frac{\\sin(x)}{\\sqrt{x}}$$\n",
    "in\n",
    "$$\\int_0^1\\frac{\\sin(x)}{\\sqrt{x}}.$$\n",
    "* S pomočjo numeričnega integriranja določite ekvivalentno silo porazdeljene obremenitve ($Q$) ter njeno prijemališče vzdolž nosilca ($x_Q$) dolžine $L = 2\\,$m. Konstanta obremenitve: $q_0 = 5\\,$kN/m.\n",
    "<img src=\"./fig/nal-num_integriranje_1-1.jpg\" width=350>\n",
    "Rešitev: \n",
    "ekvivalentna obremenitev $Q = \\int_0^L{q(x) \\mathrm{d}x}$, pozicija (težišče) $x_Q = \\frac{ \\int_0^L{x\\,q(x) \\mathrm{d}x} }{ \\int_0^L{q(x) \\mathrm{d}x} }$"
   ]
  },
  {
   "cell_type": "markdown",
   "metadata": {},
   "source": [
    "Delno rešene vaje se nahajajo [tukaj](./vaje/Vaja 11 - polovica.ipynb)."
   ]
  },
  {
   "cell_type": "markdown",
   "metadata": {
    "slideshow": {
     "slide_type": "slide"
    }
   },
   "source": [
    "# Ekstra"
   ]
  },
  {
   "cell_type": "markdown",
   "metadata": {},
   "source": [
    "1. Obravnavajte prikazani enoosni primer, obremenjen z porazdeljeno obremenitvijo $n(x)$ ter točkovno silo $F=10\\,$kN. Dolžina palice je $L = 2\\,$m, konstanta $n_0 = 15\\,$kN/m in $EA = 200000\\,\\mathrm{MPa} \\times 50×50\\, \\mathrm{mm^2}$.\n",
    "<img src=\"./fig/nal-num_integriranje_2-2.jpg\" width=350>\n",
    "Naloga: \n",
    "    1. S pomočjo simbolnega integriranja določite funkcijo notranje osne sile $N(x)$.\n",
    "    * S pomočjo numeričnega integriranja izračunajte pomik prostega konca palice $u_0$."
   ]
  },
  {
   "cell_type": "code",
   "execution_count": null,
   "metadata": {
    "collapsed": true
   },
   "outputs": [],
   "source": []
  }
 ],
 "metadata": {
  "anaconda-cloud": {},
  "celltoolbar": "Slideshow",
  "kernelspec": {
   "display_name": "Python 3",
   "language": "python",
   "name": "python3"
  },
  "language_info": {
   "codemirror_mode": {
    "name": "ipython",
    "version": 3
   },
   "file_extension": ".py",
   "mimetype": "text/x-python",
   "name": "python",
   "nbconvert_exporter": "python",
   "pygments_lexer": "ipython3",
   "version": "3.6.1"
  },
  "latex_envs": {
   "bibliofile": "biblio.bib",
   "cite_by": "apalike",
   "current_citInitial": 1,
   "eqLabelWithNumbers": true,
   "eqNumInitial": 0
  },
  "livereveal": {
   "theme": "sky",
   "transition": "default",
   "width": 1200
  },
  "nav_menu": {
   "height": "353px",
   "width": "481px"
  },
  "toc": {
   "navigate_menu": true,
   "number_sections": true,
   "sideBar": true,
   "threshold": 6,
   "toc_cell": true,
   "toc_section_display": "block",
   "toc_window_display": false
  }
 },
 "nbformat": 4,
 "nbformat_minor": 1
}
