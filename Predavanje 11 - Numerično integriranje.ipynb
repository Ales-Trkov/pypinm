{
 "cells": [
  {
   "cell_type": "markdown",
   "metadata": {
    "slideshow": {
     "slide_type": "slide"
    }
   },
   "source": [
    "<font size=\"2\"> [github.com/jankoslavic/pypinm](http://github.com/jankoslavic/pypinm)</font>\n",
    "\n",
    "<center>\n",
    "<img width=300 src=\"./fig/ladisk.png\">\n",
    "<br>\n",
    "<font size=\"7\" color=\"f00e0e\" face=\"garamond\"><b>Numerično integriranje</b></font>\n",
    "<br><br>\n",
    "<font size=\"4\">\n",
    "[izr. prof. dr. Janko Slavič](http://www.ladisk.si/~slavic)\n",
    "</font>\n",
    "<br><br>\n",
    "<font size=\"2\">September 2017 </font>\n",
    "</center>"
   ]
  },
  {
   "cell_type": "markdown",
   "metadata": {
    "slideshow": {
     "slide_type": "subslide"
    },
    "toc": "true"
   },
   "source": [
    "# Table of Contents\n",
    " <p><div class=\"lev1 toc-item\"><a href=\"#Uvod\" data-toc-modified-id=\"Uvod-1\"><span class=\"toc-item-num\">1&nbsp;&nbsp;</span>Uvod</a></div><div class=\"lev2 toc-item\"><a href=\"#Motivacijski-primer\" data-toc-modified-id=\"Motivacijski-primer-11\"><span class=\"toc-item-num\">1.1&nbsp;&nbsp;</span>Motivacijski primer</a></div><div class=\"lev1 toc-item\"><a href=\"#Newton-Cotesov-pristop\" data-toc-modified-id=\"Newton-Cotesov-pristop-2\"><span class=\"toc-item-num\">2&nbsp;&nbsp;</span>Newton-Cotesov pristop</a></div><div class=\"lev2 toc-item\"><a href=\"#Trapezno-pravilo\" data-toc-modified-id=\"Trapezno-pravilo-21\"><span class=\"toc-item-num\">2.1&nbsp;&nbsp;</span>Trapezno pravilo</a></div><div class=\"lev2 toc-item\"><a href=\"#Sestavljeno-trapezno-pravilo\" data-toc-modified-id=\"Sestavljeno-trapezno-pravilo-22\"><span class=\"toc-item-num\">2.2&nbsp;&nbsp;</span>Sestavljeno trapezno pravilo</a></div><div class=\"lev2 toc-item\"><a href=\"#Simpsonova-in-druge-metode\" data-toc-modified-id=\"Simpsonova-in-druge-metode-23\"><span class=\"toc-item-num\">2.3&nbsp;&nbsp;</span>Simpsonova in druge metode</a></div><div class=\"lev2 toc-item\"><a href=\"#Sestavljenego-Simpsonovo-1/3-pravilo\" data-toc-modified-id=\"Sestavljenego-Simpsonovo-1/3-pravilo-24\"><span class=\"toc-item-num\">2.4&nbsp;&nbsp;</span>Sestavljenego Simpsonovo 1/3 pravilo</a></div><div class=\"lev2 toc-item\"><a href=\"#Rombergova-metoda*\" data-toc-modified-id=\"Rombergova-metoda*-25\"><span class=\"toc-item-num\">2.5&nbsp;&nbsp;</span>Rombergova metoda*</a></div><div class=\"lev1 toc-item\"><a href=\"#Gaussov-integracijski-pristop\" data-toc-modified-id=\"Gaussov-integracijski-pristop-3\"><span class=\"toc-item-num\">3&nbsp;&nbsp;</span>Gaussov integracijski pristop</a></div><div class=\"lev2 toc-item\"><a href=\"#Gaussova-kvadratura-z-enim-vozliščem\" data-toc-modified-id=\"Gaussova-kvadratura-z-enim-vozliščem-31\"><span class=\"toc-item-num\">3.1&nbsp;&nbsp;</span>Gaussova kvadratura z enim vozliščem</a></div><div class=\"lev2 toc-item\"><a href=\"#Gaussova-integracijska-metoda-z-več-vozlišči\" data-toc-modified-id=\"Gaussova-integracijska-metoda-z-več-vozlišči-32\"><span class=\"toc-item-num\">3.2&nbsp;&nbsp;</span>Gaussova integracijska metoda z več vozlišči</a></div><div class=\"lev1 toc-item\"><a href=\"#scipy.integrate\" data-toc-modified-id=\"scipy.integrate-4\"><span class=\"toc-item-num\">4&nbsp;&nbsp;</span><code>scipy.integrate</code></a></div><div class=\"lev2 toc-item\"><a href=\"#Intergracijske-funkcije,-ki-zahtevajo-definicijsko-funkcijo:\" data-toc-modified-id=\"Intergracijske-funkcije,-ki-zahtevajo-definicijsko-funkcijo:-41\"><span class=\"toc-item-num\">4.1&nbsp;&nbsp;</span>Intergracijske funkcije, ki zahtevajo definicijsko <em>funkcijo</em>:</a></div><div class=\"lev2 toc-item\"><a href=\"#Intergracijske-funkcije,-ki-zahtevajo-tabelo-vrednosti:\" data-toc-modified-id=\"Intergracijske-funkcije,-ki-zahtevajo-tabelo-vrednosti:-42\"><span class=\"toc-item-num\">4.2&nbsp;&nbsp;</span>Intergracijske funkcije, ki zahtevajo tabelo vrednosti:</a></div><div class=\"lev1 toc-item\"><a href=\"#Nekaj-vprašanj-za-razmislek!\" data-toc-modified-id=\"Nekaj-vprašanj-za-razmislek!-5\"><span class=\"toc-item-num\">5&nbsp;&nbsp;</span>Nekaj vprašanj za razmislek!</a></div><div class=\"lev1 toc-item\"><a href=\"#Dodatno\" data-toc-modified-id=\"Dodatno-6\"><span class=\"toc-item-num\">6&nbsp;&nbsp;</span>Dodatno</a></div>"
   ]
  },
  {
   "cell_type": "markdown",
   "metadata": {
    "slideshow": {
     "slide_type": "slide"
    }
   },
   "source": [
    "# Uvod"
   ]
  },
  {
   "cell_type": "markdown",
   "metadata": {
    "slideshow": {
     "slide_type": "subslide"
    }
   },
   "source": [
    "V okviru tega poglavja bomo za dano funkcijo $f(x)$ izračunali določen integral:\n",
    "$$\\int_a^b\\,f(x)\\,\\textrm{d}x$$\n",
    "kjer sta $a$ in $b$ meji integriranja, $f(x)$ pa so vrednosti funkcije, ki jih pridobimo iz table vrednosti ali s pomočjo analitične funkcije."
   ]
  },
  {
   "cell_type": "markdown",
   "metadata": {},
   "source": [
    "Na sliki je prikazan splošen primer, kjer je razdalja med vozlišči $x_i$ enaka $h$ (gre za **ekvidistantno delitev**).\n",
    "<img src='./fig/integriranje.png' width=400>"
   ]
  },
  {
   "cell_type": "markdown",
   "metadata": {
    "slideshow": {
     "slide_type": "subslide"
    }
   },
   "source": [
    "Pri numeričnem integriranju integral ocenimo z $I$ in velja\n",
    "$$\\int_a^b\\,f(x)\\,\\textrm{d}x= I + E,$$\n",
    "kjer je $E$ napaka ocene integrala."
   ]
  },
  {
   "cell_type": "markdown",
   "metadata": {
    "slideshow": {
     "slide_type": "subslide"
    }
   },
   "source": [
    "Numerični integral bomo računali na podlagi diskretne vsote:\n",
    "$$I=\\sum_{i=0}^{n}A_i\\,f(x_i),$$\n",
    "kjer so $A_i$ uteži, $x_i$ pa vozlišča; pozneje bomo definirali $n$ kot število podintervalov, skupno število vozlišč pa je $n+1$."
   ]
  },
  {
   "cell_type": "markdown",
   "metadata": {
    "slideshow": {
     "slide_type": "subslide"
    }
   },
   "source": [
    "Ogledali si bomo dva različna pristopa k numerični integraciji:\n",
    "1. *Newton-Cotesov pristop*, ki temelji na ekvidistantnih vozliščih (konstanten korak integracije) in \n",
    "* *Gaussov integracijski pristop*, kjer so vozlišča postavljena tako, da se doseže največji red natančnosti."
   ]
  },
  {
   "cell_type": "markdown",
   "metadata": {
    "slideshow": {
     "slide_type": "subslide"
    }
   },
   "source": [
    "## Motivacijski primer"
   ]
  },
  {
   "cell_type": "markdown",
   "metadata": {},
   "source": [
    "Pri numeričnem integriranju si bomo pomagali s konkretnim primerom:\n",
    "\n",
    "$$\\int_1^2 x\\,\\sin(x)\\,\\textrm{d}x$$"
   ]
  },
  {
   "cell_type": "markdown",
   "metadata": {
    "slideshow": {
     "slide_type": "subslide"
    }
   },
   "source": [
    "Pripravimo si vozlišča. Osnovni korak naj bo $h=0.25$, v tem primeru imamo 4 odseke in 5 vozlišč, pri koraku $2h$ so 3 vozliščne točke in in pri koraku $4h$ samo dve (skrajni):"
   ]
  },
  {
   "cell_type": "code",
   "execution_count": 1,
   "metadata": {
    "collapsed": true,
    "slideshow": {
     "slide_type": "-"
    }
   },
   "outputs": [],
   "source": [
    "import numpy as np\n",
    "xg, hg = np.linspace(1, 2, 100, retstep=True) # goste točke (za prikaz)\n",
    "x2v, h2v = np.linspace(1, 2, 2, retstep=True)  # korak h2v = 1 (2 vozlišči)\n",
    "x3v, h3v = np.linspace(1, 2, 3, retstep=True)  # korak h3v = 0.5 (3 vozlišča)\n",
    "x4v, h4v = np.linspace(1, 2, 4, retstep=True)  # korak h4v = 0.33 (4 vozlišča)\n",
    "x5v, h5v = np.linspace(1, 2, 5, retstep=True)  # korak h5v = 0.25 (5 vozlišč)"
   ]
  },
  {
   "cell_type": "markdown",
   "metadata": {},
   "source": [
    "Pripravimo še funkcijske vrednosti:"
   ]
  },
  {
   "cell_type": "code",
   "execution_count": 2,
   "metadata": {
    "collapsed": true
   },
   "outputs": [],
   "source": [
    "yg = xg * np.sin(xg)\n",
    "y2v = x2v * np.sin(x2v)\n",
    "y3v = x3v * np.sin(x3v)\n",
    "y4v = x4v * np.sin(x4v)\n",
    "y5v = x5v * np.sin(x5v)"
   ]
  },
  {
   "cell_type": "markdown",
   "metadata": {
    "slideshow": {
     "slide_type": "subslide"
    }
   },
   "source": [
    "Pripravimo prikaz podatkov:"
   ]
  },
  {
   "cell_type": "code",
   "execution_count": 3,
   "metadata": {
    "collapsed": true
   },
   "outputs": [],
   "source": [
    "import matplotlib.pyplot as plt\n",
    "from matplotlib import rc # to uvozimo, da so fonti na sliki latex ustrezni\n",
    "rc('font',**{'family':'sans-serif','sans-serif':['Helvetica']})\n",
    "rc('text', usetex=True)\n",
    "%matplotlib inline\n",
    "def fig():\n",
    "    plt.fill_between(xg, yg, alpha=0.25, facecolor='r')\n",
    "    plt.annotate('$\\int_1^2\\,x\\,\\sin(x)\\,\\\\textrm{d}x$', (1.3, 0.5), fontsize=22)\n",
    "    plt.plot(xg, yg, lw=3, alpha=0.5, label='$x\\,\\sin(x)$')\n",
    "    plt.plot(x2v, y2v, 's', alpha=0.5, label=f'$h={h2v}$', markersize=14)\n",
    "    plt.plot(x3v, y3v, 'o', alpha=0.5, label=f'$h={h3v}$', markersize=10)\n",
    "    plt.legend(loc=(1.01, 0))\n",
    "    plt.ylim(0, 2)\n",
    "    plt.show()"
   ]
  },
  {
   "cell_type": "markdown",
   "metadata": {
    "slideshow": {
     "slide_type": "subslide"
    }
   },
   "source": [
    "In prikažimo podatke:"
   ]
  },
  {
   "cell_type": "code",
   "execution_count": 4,
   "metadata": {},
   "outputs": [
    {
     "data": {
      "image/png": "[encoded data removed]",
      "text/plain": [
       "<matplotlib.figure.Figure at 0x18ab0c88978>"
      ]
     },
     "metadata": {},
     "output_type": "display_data"
    }
   ],
   "source": [
    "fig()"
   ]
  },
  {
   "cell_type": "markdown",
   "metadata": {
    "slideshow": {
     "slide_type": "subslide"
    }
   },
   "source": [
    "Analitično izračunajmo točen rezultat:"
   ]
  },
  {
   "cell_type": "code",
   "execution_count": 5,
   "metadata": {},
   "outputs": [
    {
     "data": {
      "image/png": "[encoded data removed]",
      "text/latex": [
       "$$1.4404224209802097$$"
      ],
      "text/plain": [
       "1.4404224209802097"
      ]
     },
     "execution_count": 5,
     "metadata": {},
     "output_type": "execute_result"
    }
   ],
   "source": [
    "import sympy as sym\n",
    "sym.init_printing()\n",
    "x = sym.symbols('x')\n",
    "I_točno = float(sym.integrate(x*sym.sin(x), (x, 1, 2)).evalf())\n",
    "I_točno"
   ]
  },
  {
   "cell_type": "markdown",
   "metadata": {
    "slideshow": {
     "slide_type": "slide"
    }
   },
   "source": [
    "# Newton-Cotesov pristop"
   ]
  },
  {
   "cell_type": "markdown",
   "metadata": {},
   "source": [
    "V okviru tega poglavja si bomo najprej pogledali trapezno ter sestavljeno trapezno pravilo, pozneje pa si bomo pogledali posplošen pristop ter izpeljali Simpsonovo 1/3 ter druge metode."
   ]
  },
  {
   "cell_type": "markdown",
   "metadata": {
    "slideshow": {
     "slide_type": "slide"
    }
   },
   "source": [
    "## Trapezno pravilo"
   ]
  },
  {
   "cell_type": "markdown",
   "metadata": {},
   "source": [
    "Trapezno pravilo vrednosti na (pod)intervalu interpolira z linearno funkcijo. Za dve vozliščni točki to pomeni, da površino izračunamo kot:\n",
    "\n",
    "$$I_{\\textrm{trapezno}}=\\sum_{i=0}^{n=1}A_i\\,f(x_i)=\\frac{h}{2}\\cdot\\left(f(x_0)+f(x_1)\\right).$$\n",
    "\n",
    "To tudi pomeni, da so uteži:\n",
    "\n",
    "$$A_0 = A_1 = \\frac{1}{2}\\,h.$$"
   ]
  },
  {
   "cell_type": "markdown",
   "metadata": {
    "slideshow": {
     "slide_type": "subslide"
    }
   },
   "source": [
    "### Numerična implementacija"
   ]
  },
  {
   "cell_type": "markdown",
   "metadata": {},
   "source": [
    "Numerična implementacija je trivialna:"
   ]
  },
  {
   "cell_type": "code",
   "execution_count": 6,
   "metadata": {
    "collapsed": true
   },
   "outputs": [],
   "source": [
    "def trapezno(y, h):\n",
    "    \"\"\"\n",
    "    Trapezno pravilo integriranja.\n",
    "    \n",
    "    :param y: funkcijske vrednosti\n",
    "    :param h: korak integriranja\n",
    "    \"\"\"\n",
    "    return (y[0] + y[-1])*h/2"
   ]
  },
  {
   "cell_type": "markdown",
   "metadata": {
    "slideshow": {
     "slide_type": "subslide"
    }
   },
   "source": [
    "### Numerični zgled\n",
    "\n",
    "V konkretnem primeru to pomeni, da prvo in zadnjo funkcijsko vrednost utežimo z $h/2$. V našem priemru je $h=1$:"
   ]
  },
  {
   "cell_type": "code",
   "execution_count": 7,
   "metadata": {},
   "outputs": [
    {
     "data": {
      "image/png": "[encoded data removed]",
      "text/latex": [
       "$$1.33003291923$$"
      ],
      "text/plain": [
       "1.33003291923"
      ]
     },
     "execution_count": 7,
     "metadata": {},
     "output_type": "execute_result"
    }
   ],
   "source": [
    "I_trapezno = trapezno(y2v, h=h2v)\n",
    "I_trapezno"
   ]
  },
  {
   "cell_type": "markdown",
   "metadata": {
    "slideshow": {
     "slide_type": "subslide"
    }
   },
   "source": [
    "Pripravimo sliko:"
   ]
  },
  {
   "cell_type": "code",
   "execution_count": 8,
   "metadata": {
    "collapsed": true
   },
   "outputs": [],
   "source": [
    "def fig_trapezno():\n",
    "    plt.fill_between(x2v, y2v, alpha=0.25, facecolor='r')\n",
    "    plt.vlines(x2v, 0, y2v, color='r', linestyles='dashed', lw=1)\n",
    "    plt.annotate('$I_{\\\\textrm{trapezno}}$', (1.4, 0.5), fontsize=22)\n",
    "    plt.annotate('Napaka', fontsize=20, xy=(1.5, 1.4), xytext=(1.6, 1.8),\n",
    "            arrowprops=dict(facecolor='gray', shrink=0.05))\n",
    "    plt.plot(xg, yg, lw=3, alpha=0.5, label='$x\\,\\sin(x)$')\n",
    "    plt.plot(x2v, y2v, 'o', alpha=0.5, label=f'$h={h2v}$')\n",
    "    plt.legend(loc=(1.01, 0))\n",
    "    plt.ylim(0, 2)\n",
    "    plt.show()"
   ]
  },
  {
   "cell_type": "markdown",
   "metadata": {
    "slideshow": {
     "slide_type": "subslide"
    }
   },
   "source": [
    "In prikažemo:"
   ]
  },
  {
   "cell_type": "code",
   "execution_count": 9,
   "metadata": {},
   "outputs": [
    {
     "data": {
      "image/png": "[encoded data removed]",
      "text/plain": [
       "<matplotlib.figure.Figure at 0x18ab30b6a90>"
      ]
     },
     "metadata": {},
     "output_type": "display_data"
    }
   ],
   "source": [
    "fig_trapezno()"
   ]
  },
  {
   "cell_type": "markdown",
   "metadata": {
    "slideshow": {
     "slide_type": "subslide"
    }
   },
   "source": [
    "### Napaka trapeznega pravila"
   ]
  },
  {
   "cell_type": "markdown",
   "metadata": {},
   "source": [
    "Razlika med pravo vrednostjo integrala in numeričnim približkom $I$ je napaka metode:\n",
    "\n",
    "$$E = \\int_a^bf(x)\\,d x-I,$$"
   ]
  },
  {
   "cell_type": "markdown",
   "metadata": {
    "slideshow": {
     "slide_type": "subslide"
    }
   },
   "source": [
    "Če je funkcija $f(x)$ vsaj dvakrat odvedljiva, se se lahko (glejte npr. vir: Burden, Faires, Burden: Numerical Analysis 10th Ed) izpelje ocena napake, ki velja samo za trapezni približek prek celega integracijskega intervala:\n",
    "$$E_{\\textrm{trapezno}}=-\\frac{h^3}{12}f''(\\xi),$$\n",
    "kjer je $h=b-a$ in $\\xi$ neznana vrednost na intervalu $[a,b]$."
   ]
  },
  {
   "cell_type": "markdown",
   "metadata": {
    "slideshow": {
     "slide_type": "slide"
    }
   },
   "source": [
    "## Sestavljeno trapezno pravilo"
   ]
  },
  {
   "cell_type": "markdown",
   "metadata": {},
   "source": [
    "Če razdelimo interval $[a, b]$ na $n$ podintervalov in na vsakem uporabimo trapezno pravilo integriranja,  govorimo o *sestavljenem trapeznem pravilu* (angl. *composite trapezoidal rule*)."
   ]
  },
  {
   "cell_type": "markdown",
   "metadata": {
    "slideshow": {
     "slide_type": "subslide"
    }
   },
   "source": [
    "V tem primeru za vsak odsek $i$ uporabimo trapezno pravilo in torej za meje odseka $x_i$ in $x_{i+1}$ uporabimo uteži $A_i=A_{i+i}=h/2$. Ker so notranja vozlišča podvojena, sledi:\n",
    "$$A_0=A_{n}=\\frac{h}{2}\\quad\\textrm{in za ostala vozlišča:}\\quad A_i=h.$$\n",
    "Pri tem smo predpostavil podintervale enake širine odsekov:\n",
    "$$h=\\frac{x_{n}-x_0}{n}$$"
   ]
  },
  {
   "cell_type": "markdown",
   "metadata": {
    "slideshow": {
     "slide_type": "subslide"
    }
   },
   "source": [
    "Sledi torej:\n",
    "$$I_{\\textrm{trapezno sest}}=\\sum_{i=0}^{n}A_i\\,f(x_i)=\\left(\\frac{y_0}{2} + y_1+y_2+\\cdots+y_{n-1}+\\frac{y_{n}}{2}\\right)\\,h.$$"
   ]
  },
  {
   "cell_type": "markdown",
   "metadata": {
    "slideshow": {
     "slide_type": "subslide"
    }
   },
   "source": [
    "### Numerična implementacija"
   ]
  },
  {
   "cell_type": "markdown",
   "metadata": {},
   "source": [
    "Numerična implementacija je trivialna:"
   ]
  },
  {
   "cell_type": "code",
   "execution_count": 10,
   "metadata": {
    "collapsed": true
   },
   "outputs": [],
   "source": [
    "def trapezno_sest(y, h):\n",
    "    \"\"\"\n",
    "    Sestavljeno trapezno pravilo integriranja.\n",
    "    \n",
    "    :param y: funkcijske vrednosti\n",
    "    :param h: korak integriranja\n",
    "    \"\"\"    \n",
    "    return (np.sum(y) - 0.5*y[0] - 0.5*y[-1])*h"
   ]
  },
  {
   "cell_type": "markdown",
   "metadata": {
    "slideshow": {
     "slide_type": "subslide"
    }
   },
   "source": [
    "### Numerični zgled\n",
    "\n",
    "Zgoraj smo že pripravili podatke za dva odseka (tri vozlišča):"
   ]
  },
  {
   "cell_type": "code",
   "execution_count": 11,
   "metadata": {},
   "outputs": [
    {
     "data": {
      "text/plain": [
       "array([ 1. ,  1.5,  2. ])"
      ]
     },
     "execution_count": 11,
     "metadata": {},
     "output_type": "execute_result"
    }
   ],
   "source": [
    "x3v"
   ]
  },
  {
   "cell_type": "code",
   "execution_count": 12,
   "metadata": {},
   "outputs": [
    {
     "data": {
      "image/png": "[encoded data removed]",
      "text/latex": [
       "$$0.5$$"
      ],
      "text/plain": [
       "0.5"
      ]
     },
     "execution_count": 12,
     "metadata": {},
     "output_type": "execute_result"
    }
   ],
   "source": [
    "h3v"
   ]
  },
  {
   "cell_type": "markdown",
   "metadata": {
    "slideshow": {
     "slide_type": "subslide"
    }
   },
   "source": [
    "Izračunajmo oceno integrala s sestavljenim trapeznim pravilom:"
   ]
  },
  {
   "cell_type": "code",
   "execution_count": 13,
   "metadata": {},
   "outputs": [
    {
     "data": {
      "image/png": "[encoded data removed]",
      "text/latex": [
       "$$1.41313769957$$"
      ],
      "text/plain": [
       "1.41313769957"
      ]
     },
     "execution_count": 13,
     "metadata": {},
     "output_type": "execute_result"
    }
   ],
   "source": [
    "I_trapezno_sest = trapezno_sest(y3v, h=h3v)\n",
    "I_trapezno_sest"
   ]
  },
  {
   "cell_type": "markdown",
   "metadata": {
    "slideshow": {
     "slide_type": "subslide"
    }
   },
   "source": [
    "Pripravimo sliko:"
   ]
  },
  {
   "cell_type": "code",
   "execution_count": 14,
   "metadata": {
    "collapsed": true
   },
   "outputs": [],
   "source": [
    "def fig_trapezno_sest():\n",
    "    plt.fill_between(x3v, y3v, alpha=0.25, facecolor='r')\n",
    "    plt.vlines(x3v, 0, y3v, color='r', linestyles='dashed', lw=1)\n",
    "    plt.annotate('$I_{\\\\textrm{trapezno sestavljeno}}$', (1.2, 0.5), fontsize=22)\n",
    "    plt.annotate('Napaka', fontsize=20, xy=(1.75, 1.68), xytext=(1.4, 1.8),\n",
    "            arrowprops=dict(facecolor='gray', shrink=0.05))\n",
    "    plt.plot(xg, yg, lw=3, alpha=0.5, label='$x\\,\\sin(x)$')\n",
    "    plt.plot(x3v, y3v, 'o', alpha=0.5, label=f'$h={h3v}$')\n",
    "    plt.legend(loc=(1.01, 0))\n",
    "    plt.ylim(0, 2)\n",
    "    plt.show()"
   ]
  },
  {
   "cell_type": "markdown",
   "metadata": {
    "slideshow": {
     "slide_type": "subslide"
    }
   },
   "source": [
    "In prikažemo:"
   ]
  },
  {
   "cell_type": "code",
   "execution_count": 15,
   "metadata": {},
   "outputs": [
    {
     "data": {
      "image/png": "[encoded data removed]",
      "text/plain": [
       "<matplotlib.figure.Figure at 0x18ab4154940>"
      ]
     },
     "metadata": {},
     "output_type": "display_data"
    }
   ],
   "source": [
    "fig_trapezno_sest()"
   ]
  },
  {
   "cell_type": "markdown",
   "metadata": {
    "slideshow": {
     "slide_type": "subslide"
    }
   },
   "source": [
    "### Napaka sestavljenega trapeznega pravila"
   ]
  },
  {
   "cell_type": "markdown",
   "metadata": {},
   "source": [
    "Napaka sestavljenega trapeznega pravila izhaja iz napake trapeznega pravila; pri tem tako napako naredimo $n$ krat."
   ]
  },
  {
   "cell_type": "markdown",
   "metadata": {
    "slideshow": {
     "slide_type": "subslide"
    }
   },
   "source": [
    "Ker velja $h\\cdot n=b-a$ izpeljemo napako sestavljenega trapeznega pravila kot:\n",
    "\n",
    "$$E_{\\textrm{trapezno sest}}=-\\frac{h^2(b-a)}{12}f''(\\xi),$$\n",
    "\n",
    "$\\xi$ je neznana vrednost na intervalu $[a,b]$. Napaka je drugega reda $\\mathcal{O}(h^2)$."
   ]
  },
  {
   "cell_type": "markdown",
   "metadata": {
    "slideshow": {
     "slide_type": "subslide"
    }
   },
   "source": [
    "### Boljši približek integrala\n",
    "\n",
    "V nadaljevanju si bomo pogledali t.i. **Richardsonovo ekstrapolacijo**, pri kateri na podlagi ocene integrala s korakom $h$ in $2h$ izračunamo boljši približek."
   ]
  },
  {
   "cell_type": "markdown",
   "metadata": {},
   "source": [
    "V kolikor integral $I$ ocenjujemo pri dveh različnih korakih $h$ in $2\\,h$, velja natančno:\n",
    "$$\\int_a^b f(x)\\,\\textrm{d}x = I_h + E_h = I_{2h} + E_{2h},$$\n",
    "kjer je $I_h$ približek integrala s korakom $h$ in $E_h$ ocena napake pri koraku $h$. Analogno velja za $I_{2h}$ in $E_{2h}$."
   ]
  },
  {
   "cell_type": "markdown",
   "metadata": {
    "slideshow": {
     "slide_type": "subslide"
    }
   },
   "source": [
    "Če predpostavimo, da je $f''\\left (\\xi \\right )$ v obeh primerih enak, lahko določimo razliko $I_{2h}-I_{h} = E_{h}-E_{2h}$. "
   ]
  },
  {
   "cell_type": "markdown",
   "metadata": {
    "slideshow": {
     "slide_type": "subslide"
    }
   },
   "source": [
    "Naprej zapišemo:\n",
    "\n",
    "$$E_h=-\\frac{h^2(b-a)}{12}f''(\\xi)=h^2\\,K.$$\n",
    "\n",
    "Ob predpostavki, da je $f''\\left (\\xi \\right )$ pri koraku $h$ in $2h$ enak ($\\xi$ je pri koraku $h$ in $2h$ dejansko različen), zapišemo:\n",
    "$$E_{2h}=-\\frac{(2h)^2(b-a)}{12}f''(\\xi)=4\\,h^2\\,K$$"
   ]
  },
  {
   "cell_type": "markdown",
   "metadata": {
    "slideshow": {
     "slide_type": "subslide"
    }
   },
   "source": [
    "Sledi:\n",
    "\n",
    "$$I_{2h}-I_h=-3K\\,h^2.$$\n",
    "\n",
    "Sedaj lahko ocenimo napako pri koraku $h$:\n",
    "\n",
    "$$\\overline{E}_h=h^2\\,K=\\frac{I_h-I_{2h}}{3}.$$"
   ]
  },
  {
   "cell_type": "markdown",
   "metadata": {
    "slideshow": {
     "slide_type": "subslide"
    }
   },
   "source": [
    "Na podlagi ocene napake, lahko izračunamo boljši približek  $I_{h}^*$:\n",
    "$$I_h^* = I_h + \\frac{1}{3}\\,(I_{h}-I_{2h})$$\n",
    "ali\n",
    "$$I_h^* = \\frac{4}{3}\\,I_h - \\frac{1}{3}\\,I_{2h}$$"
   ]
  },
  {
   "cell_type": "markdown",
   "metadata": {
    "slideshow": {
     "slide_type": "subslide"
    }
   },
   "source": [
    "### Numerični zgled"
   ]
  },
  {
   "cell_type": "markdown",
   "metadata": {},
   "source": [
    "Predhodno smo s trapeznim pravilom že izračunali integral pri koraku $h=1$ in pri koraku $h=0.5$, rezultata sta bila:"
   ]
  },
  {
   "cell_type": "code",
   "execution_count": 16,
   "metadata": {},
   "outputs": [
    {
     "data": {
      "image/png": "[encoded data removed]",
      "text/latex": [
       "$$\\left [ 1.33003291923, \\quad 1.41313769957\\right ]$$"
      ],
      "text/plain": [
       "[1.33003291923, 1.41313769957]"
      ]
     },
     "execution_count": 16,
     "metadata": {},
     "output_type": "execute_result"
    }
   ],
   "source": [
    "[I_trapezno, I_trapezno_sest]"
   ]
  },
  {
   "cell_type": "markdown",
   "metadata": {
    "slideshow": {
     "slide_type": "subslide"
    }
   },
   "source": [
    "S pomočjo zgornje formule izračunamo boljši približek:"
   ]
  },
  {
   "cell_type": "code",
   "execution_count": 17,
   "metadata": {},
   "outputs": [
    {
     "name": "stdout",
     "output_type": "stream",
     "text": [
      "Točen rezultat:   1.4404224209802097\n",
      "Boljši približek: 1.4408392930139313\n"
     ]
    }
   ],
   "source": [
    "I_trapezno_boljši = 4/3*I_trapezno_sest - 1/3*I_trapezno\n",
    "print(f'Točen rezultat:   {I_točno}\\nBoljši približek: {I_trapezno_boljši}')"
   ]
  },
  {
   "cell_type": "markdown",
   "metadata": {
    "slideshow": {
     "slide_type": "subslide"
    }
   },
   "source": [
    "### ``numpy`` implementacija sestavljenega trapeznega pravila"
   ]
  },
  {
   "cell_type": "markdown",
   "metadata": {},
   "source": [
    "Sestavljeno trapezno pravilo je implementirano tudi v paketu ``numpy``, s funkcijo ``numpy.trapz``:\n",
    "\n",
    "```python\n",
    "trapz(y, x=None, dx=1.0, axis=-1)\n",
    "```\n",
    "\n",
    "* `y` predstavlja tabelo funkcijskih vrednost, \n",
    "* `x` je opcijski parameter in definira vozlišča, če parameter ni definiran se privzame ekvidistančna vozlišča na razdalji `dx`. \n",
    "* `dx` definira (konstanten) korak integracije ima privzeto vrednost 1. \n",
    "* `axis` definira *os* op kateri se integrira (v primeru, da je `y` večdimenzijsko numerično polje).\n",
    "\n",
    "Funkcija vrne izračunani integral po sestavljenem trapezne pravilu. Več informacij lahko najdete v [dokumentaciji](https://docs.scipy.org/doc/numpy/reference/generated/numpy.trapz.html)"
   ]
  },
  {
   "cell_type": "markdown",
   "metadata": {
    "slideshow": {
     "slide_type": "subslide"
    }
   },
   "source": [
    "Poglejmo si primer:"
   ]
  },
  {
   "cell_type": "code",
   "execution_count": 18,
   "metadata": {},
   "outputs": [
    {
     "data": {
      "image/png": "[encoded data removed]",
      "text/latex": [
       "$$1.41313769957$$"
      ],
      "text/plain": [
       "1.41313769957"
      ]
     },
     "execution_count": 18,
     "metadata": {},
     "output_type": "execute_result"
    }
   ],
   "source": [
    "#%%timeit\n",
    "I_trapezno_np = np.trapz(y3v, dx=h3v)\n",
    "I_trapezno_np"
   ]
  },
  {
   "cell_type": "markdown",
   "metadata": {
    "slideshow": {
     "slide_type": "slide"
    }
   },
   "source": [
    "## Simpsonova in druge metode"
   ]
  },
  {
   "cell_type": "markdown",
   "metadata": {},
   "source": [
    "Zgoraj smo si pogledali trapezno pravilo, ki temelji na linearni interpolacijski funkciji na posameznem podintervalu. Z interpolacijo višjega reda lahko izpeljemo še druge integracijske metode."
   ]
  },
  {
   "cell_type": "markdown",
   "metadata": {},
   "source": [
    "Izračunati moramo:\n",
    "$$\\int_{a}^b f(x)\\,dx.$$"
   ]
  },
  {
   "cell_type": "markdown",
   "metadata": {
    "slideshow": {
     "slide_type": "subslide"
    }
   },
   "source": [
    "Sedaj $f(x)$ interpoliramo z Lagrangevim interpolacijskim polinomom $P_n(x)$ stopnje $n$:\n",
    "$$P_n(x)=\\sum_{i=0}^{n}\\,f(x_i)\\,l_i(x),$$\n",
    "kjer so $y_i=f(x_i)$ funkcijske vrednosti v vozliščih $x_i$ in je Lagrangevega polinoma $l_i$ definiran kot:\n",
    "$$l_i(x)=\\prod_{j=0, j\\ne i}^n \\frac{x-x_j}{x_i-x_j}.$$"
   ]
  },
  {
   "cell_type": "markdown",
   "metadata": {
    "slideshow": {
     "slide_type": "subslide"
    }
   },
   "source": [
    "Za numerični izračun integrala namesto funkcije $f(x)$ vstavimo v integral interpolacijski polinom $P_n(x)$:\n",
    "$$I=\\int_{x_0}^{x_{n-1}} P_n(x)\\,dx=\\int_{x_0}^{x_{n-1}} \\sum_{i=0}^{n}\\,f(x_i)\\,l_i(x)\\,dx.$$"
   ]
  },
  {
   "cell_type": "markdown",
   "metadata": {
    "slideshow": {
     "slide_type": "subslide"
    }
   },
   "source": [
    "Ker je integriranje linearna operacija, lahko zamenjamo integriranje in vsoto:\n",
    "$$I=\\sum_{i=0}^{n}\\,f(x_i)\\,\\underbrace{\\int_{x_0}^{x_{n-1}} l_i(x)\\,dx}_{A_i}.$$\n",
    "Opazimo, da lahko Lagrangev polinom integriramo in da predstavlja uteži $A_i$."
   ]
  },
  {
   "cell_type": "markdown",
   "metadata": {
    "slideshow": {
     "slide_type": "subslide"
    }
   },
   "source": [
    "### Izpeljava trapeznega pravila z uporabo Lagrangevih polinomov"
   ]
  },
  {
   "cell_type": "markdown",
   "metadata": {
    "slideshow": {
     "slide_type": "subslide"
    }
   },
   "source": [
    "Poglejmo si kako z Lagrangevim interpolacijskim polinomom prve stopnje strojno izpeljemo uteži $A_i$ v primeru trapeznega pravila.\n",
    "\n",
    "Najprej v simbolni obliki definirajmo spremenljivko `x`, vozlišči `x0` in `x1` ter korak `h`:"
   ]
  },
  {
   "cell_type": "code",
   "execution_count": 19,
   "metadata": {
    "collapsed": true
   },
   "outputs": [],
   "source": [
    "x, x0, x1, h = sym.symbols('x x0, x1, h')"
   ]
  },
  {
   "cell_type": "markdown",
   "metadata": {
    "slideshow": {
     "slide_type": "subslide"
    }
   },
   "source": [
    "Pripravimo Python funkcijo, ki v simbolni obliki vrne seznam $n$ koeficientov Lagrangevih polinomov $[l_0(x), l_1(x),\\dots, l_{n-1}(x)]$ stopnje $n-1$:"
   ]
  },
  {
   "cell_type": "code",
   "execution_count": 20,
   "metadata": {
    "collapsed": true
   },
   "outputs": [],
   "source": [
    "def lagrange(n, x, vozlišča_predpona='x'):\n",
    "    if isinstance(vozlišča_predpona, str):\n",
    "        vozlišča = sym.symbols('{0:s}:{1:g}'.format(vozlišča_predpona, n)) \n",
    "    coeffs = []\n",
    "    for i in range(0, n):\n",
    "        numer = []\n",
    "        denom = []\n",
    "\n",
    "        for j in range(0, n):\n",
    "            if i == j:\n",
    "                continue\n",
    "\n",
    "            numer.append(x    - vozlišča[j])\n",
    "            denom.append(vozlišča[i] - vozlišča[j])\n",
    "        \n",
    "        numer = sym.Mul(*numer)\n",
    "        denom = sym.Mul(*denom)\n",
    "\n",
    "        coeffs.append(numer/denom)\n",
    "    return coeffs    "
   ]
  },
  {
   "cell_type": "markdown",
   "metadata": {
    "slideshow": {
     "slide_type": "subslide"
    }
   },
   "source": [
    "Najprej poglejmo Lagrangeva polinoma za linearno interpolacijo ($n=2$):"
   ]
  },
  {
   "cell_type": "code",
   "execution_count": 21,
   "metadata": {},
   "outputs": [
    {
     "data": {
      "image/png": "[encoded data removed]",
      "text/latex": [
       "$$\\left [ \\frac{x - x_{1}}{x_{0} - x_{1}}, \\quad \\frac{x - x_{0}}{- x_{0} + x_{1}}\\right ]$$"
      ],
      "text/plain": [
       "⎡ x - x₁   x - x₀ ⎤\n",
       "⎢───────, ────────⎥\n",
       "⎣x₀ - x₁  -x₀ + x₁⎦"
      ]
     },
     "execution_count": 21,
     "metadata": {},
     "output_type": "execute_result"
    }
   ],
   "source": [
    "lag = lagrange(2, x)\n",
    "lag"
   ]
  },
  {
   "cell_type": "markdown",
   "metadata": {
    "slideshow": {
     "slide_type": "subslide"
    }
   },
   "source": [
    "Sedaj Lagrangev $l_0(x)$ integriramo čez celotni interval:"
   ]
  },
  {
   "cell_type": "code",
   "execution_count": 22,
   "metadata": {},
   "outputs": [
    {
     "data": {
      "image/png": "[encoded data removed]",
      "text/latex": [
       "$$- \\frac{x_{0}^{2}}{2 x_{0} - 2 x_{1}} + \\frac{x_{0} x_{1}}{x_{0} - x_{1}} + \\frac{x_{1}^{2}}{2 x_{0} - 2 x_{1}} - \\frac{x_{1}^{2}}{x_{0} - x_{1}}$$"
      ],
      "text/plain": [
       "        2                       2           2  \n",
       "      x₀         x₀⋅x₁        x₁          x₁   \n",
       "- ─────────── + ─────── + ─────────── - ───────\n",
       "  2⋅x₀ - 2⋅x₁   x₀ - x₁   2⋅x₀ - 2⋅x₁   x₀ - x₁"
      ]
     },
     "execution_count": 22,
     "metadata": {},
     "output_type": "execute_result"
    }
   ],
   "source": [
    "int0 = sym.integrate(lag[0], (x, x0, x1))\n",
    "int0"
   ]
  },
  {
   "cell_type": "markdown",
   "metadata": {
    "slideshow": {
     "slide_type": "subslide"
    }
   },
   "source": [
    "Izvedemo sedaj razcep polinoma:"
   ]
  },
  {
   "cell_type": "code",
   "execution_count": 23,
   "metadata": {},
   "outputs": [
    {
     "data": {
      "image/png": "[encoded data removed]",
      "text/latex": [
       "$$- \\frac{1}{2} \\left(x_{0} - x_{1}\\right)$$"
      ],
      "text/plain": [
       "-(x₀ - x₁) \n",
       "───────────\n",
       "     2     "
      ]
     },
     "execution_count": 23,
     "metadata": {},
     "output_type": "execute_result"
    }
   ],
   "source": [
    "int1 = int0.factor()\n",
    "int1"
   ]
  },
  {
   "cell_type": "markdown",
   "metadata": {
    "slideshow": {
     "slide_type": "subslide"
    }
   },
   "source": [
    "Ker je širina odseka konstantna $h$, izvedemo zamenjavo:"
   ]
  },
  {
   "cell_type": "code",
   "execution_count": 24,
   "metadata": {},
   "outputs": [
    {
     "data": {
      "image/png": "[encoded data removed]",
      "text/latex": [
       "$$\\frac{h}{2}$$"
      ],
      "text/plain": [
       "h\n",
       "─\n",
       "2"
      ]
     },
     "execution_count": 24,
     "metadata": {},
     "output_type": "execute_result"
    }
   ],
   "source": [
    "zamenjave = {x1: x0+h}\n",
    "int1.subs(zamenjave)"
   ]
  },
  {
   "cell_type": "markdown",
   "metadata": {
    "slideshow": {
     "slide_type": "subslide"
    }
   },
   "source": [
    "Zgornje korake za Lagrangev polinom  $l_0(x)$ lahko posplošimo za seznam Lagrangevih polinomov:"
   ]
  },
  {
   "cell_type": "code",
   "execution_count": 25,
   "metadata": {},
   "outputs": [
    {
     "data": {
      "image/png": "[encoded data removed]",
      "text/latex": [
       "$$\\left [ \\frac{h}{2}, \\quad \\frac{h}{2}\\right ]$$"
      ],
      "text/plain": [
       "⎡h  h⎤\n",
       "⎢─, ─⎥\n",
       "⎣2  2⎦"
      ]
     },
     "execution_count": 25,
     "metadata": {},
     "output_type": "execute_result"
    }
   ],
   "source": [
    "x, x0, x1, h = sym.symbols('x, x0, x1, h')\n",
    "zamenjave = {x1: x0+h}\n",
    "A_trapez = [sym.integrate(li, (x, x0, x1)).factor().subs(zamenjave) \n",
    "            for li in lagrange(2, x)]  # za vsak lagrangev polimom `li` v seznamu lagrange(2,x)\n",
    "A_trapez"
   ]
  },
  {
   "cell_type": "markdown",
   "metadata": {},
   "source": [
    "Opazimo, da smo izpeljali uteži, ki smo jih uporabili pri trapezni metodi:\n",
    "$$A_0=h/2\\qquad A_1=h/2.$$"
   ]
  },
  {
   "cell_type": "markdown",
   "metadata": {},
   "source": [
    "Trapezno pravilo je:\n",
    "\n",
    "$$\\int_{x_0}^{x_1}f(x)\\,\\textrm{d}x=\n",
    "\\underbrace{\\frac{h}{2}\\cdot\\left(f(x_0)+f(x_1)\\right)}_{I_{\\textrm{trapezno}}}{~}\n",
    "\\underbrace{-\\frac{h^3}{12}f''(\\xi)}_{E_{\\textrm{trapezno}}},$$\n",
    "kjer je $\\xi$ na intervalu $[x_0, x_1]$."
   ]
  },
  {
   "cell_type": "markdown",
   "metadata": {
    "slideshow": {
     "slide_type": "subslide"
    }
   },
   "source": [
    "### Izračun uteži za Simpsonovo 1/3 pravilo"
   ]
  },
  {
   "cell_type": "markdown",
   "metadata": {},
   "source": [
    "Potem ko smo zgoraj pokazali strnjen izračun za trapezno pravilo, lahko podobno izvedemo za kvadratno interpolacijo čez tri točke ($n=3$).\n",
    "\n",
    "Izračun uteži je analogen zgornjemu in skoraj trivialen:"
   ]
  },
  {
   "cell_type": "code",
   "execution_count": 26,
   "metadata": {},
   "outputs": [
    {
     "data": {
      "image/png": "[encoded data removed]",
      "text/latex": [
       "$$\\left [ \\frac{h}{3}, \\quad \\frac{4 h}{3}, \\quad \\frac{h}{3}\\right ]$$"
      ],
      "text/plain": [
       "⎡h  4⋅h  h⎤\n",
       "⎢─, ───, ─⎥\n",
       "⎣3   3   3⎦"
      ]
     },
     "execution_count": 26,
     "metadata": {},
     "output_type": "execute_result"
    }
   ],
   "source": [
    "x, x0, x1, x2, h = sym.symbols('x, x0, x1, x2, h')\n",
    "zamenjave = {x1: x0+h, x2: x0+2*h}\n",
    "A_Simpson1_3 = [sym.integrate(li, (x, x0, x2)).factor().subs(zamenjave).factor() \n",
    "             for li in lagrange(3, x)]\n",
    "A_Simpson1_3"
   ]
  },
  {
   "cell_type": "markdown",
   "metadata": {
    "slideshow": {
     "slide_type": "subslide"
    }
   },
   "source": [
    "Simpsonovo 1/3 pravilo (ime izhaja iz uteži prvega člena) je:\n",
    "\n",
    "$$\\int_{x_0}^{x_2}f(x)\\,\\textrm{d}x=\n",
    "\\underbrace{\\frac{h}{3}\\cdot\\left(f(x_0)+4\\,f(x_1)+f(x_2)\\right)}_{I_{\\textrm{Simpsonovo 1/3}}}{~}\n",
    "\\underbrace{-\\frac{h^5}{90}f^{(4)}(\\xi)}_{E_{\\textrm{Simpsonovo 1/3}}},$$\n",
    "kjer je $\\xi$ na intervalu $[x_0, x_2]$."
   ]
  },
  {
   "cell_type": "markdown",
   "metadata": {
    "slideshow": {
     "slide_type": "subslide"
    }
   },
   "source": [
    "Primer uporabe:"
   ]
  },
  {
   "cell_type": "code",
   "execution_count": 27,
   "metadata": {},
   "outputs": [
    {
     "data": {
      "image/png": "[encoded data removed]",
      "text/latex": [
       "$$1.44083929301$$"
      ],
      "text/plain": [
       "1.44083929301"
      ]
     },
     "execution_count": 27,
     "metadata": {},
     "output_type": "execute_result"
    }
   ],
   "source": [
    "I_Simps13 = h3v/3 * np.sum(y3v * [1, 4, 1])\n",
    "I_Simps13"
   ]
  },
  {
   "cell_type": "markdown",
   "metadata": {
    "slideshow": {
     "slide_type": "subslide"
    }
   },
   "source": [
    "Pripravimo sliko. Ker Simsonovo 1/3 pravilo temelji na kubični interpolaciji, moramo naprej pripraviti interpolacijski polinom (pomagamo si s ``scipy.interpolate``):"
   ]
  },
  {
   "cell_type": "code",
   "execution_count": 28,
   "metadata": {
    "collapsed": true
   },
   "outputs": [],
   "source": [
    "from scipy import interpolate"
   ]
  },
  {
   "cell_type": "code",
   "execution_count": 29,
   "metadata": {
    "collapsed": true,
    "slideshow": {
     "slide_type": "subslide"
    }
   },
   "outputs": [],
   "source": [
    "def fig_Simpsonovo13():\n",
    "    y_interpolate = interpolate.lagrange(x3v, y3v)\n",
    "    plt.fill_between(xg, y_interpolate(xg), alpha=0.25, facecolor='r')\n",
    "    plt.vlines(x3v, 0, y3v, color='r', linestyles='dashed', lw=1)\n",
    "    plt.annotate('$I_{\\\\textrm{Simpsonovo 1/3}}$', (1.2, 0.5), fontsize=22)\n",
    "    plt.annotate('Napaka', fontsize=20, xy=(1.75, 1.7), xytext=(1.4, 1.8),\n",
    "            arrowprops=dict(facecolor='gray', shrink=0.05))\n",
    "    plt.plot(xg, yg, lw=3, alpha=0.5, label='$x\\,\\sin(x)$')\n",
    "    plt.plot(x3v, y3v, 'o', alpha=0.5, label=f'$h={h3v}$')\n",
    "    plt.legend(loc=(1.01, 0))\n",
    "    plt.ylim(0, 2)\n",
    "    plt.show()"
   ]
  },
  {
   "cell_type": "markdown",
   "metadata": {
    "slideshow": {
     "slide_type": "subslide"
    }
   },
   "source": [
    "In prikažemo:"
   ]
  },
  {
   "cell_type": "code",
   "execution_count": 30,
   "metadata": {},
   "outputs": [
    {
     "data": {
      "image/png": "[encoded data removed]",
      "text/plain": [
       "<matplotlib.figure.Figure at 0x18ab470fc18>"
      ]
     },
     "metadata": {},
     "output_type": "display_data"
    }
   ],
   "source": [
    "fig_Simpsonovo13()"
   ]
  },
  {
   "cell_type": "markdown",
   "metadata": {
    "slideshow": {
     "slide_type": "subslide"
    }
   },
   "source": [
    "### `scipy.integrate.newton_cotes`\n",
    "\n",
    "Koeficiente integracijskega pristopa Newton-Cotes pridobimo tudi s pomočjo [`scipy.integrate.newton_cotes`](https://docs.scipy.org/doc/scipy/reference/generated/scipy.integrate.newton_cotes.html#scipy.integrate.newton_cotes):\n",
    "\n",
    "```python\n",
    "newton_cotes(rn, equal=0)\n",
    "```\n",
    "\n",
    "kjer sta parametra:\n",
    "\n",
    "* `rn` definira število podintervalov (mogoče je tudi nekonstanten korak, glejte [dokumentacijo](https://docs.scipy.org/doc/scipy/reference/generated/scipy.integrate.newton_cotes.html#scipy.integrate.newton_cotes)),\n",
    "* `equal` definira ali se zahteva konstantno široke podintervale.\n",
    "\n",
    "Funkcija vrne terko, pri čemer prvi element predstavlja numerično polje uteži in drugi člen oceno napake."
   ]
  },
  {
   "cell_type": "markdown",
   "metadata": {
    "slideshow": {
     "slide_type": "subslide"
    }
   },
   "source": [
    "Pogljemo si primer:"
   ]
  },
  {
   "cell_type": "code",
   "execution_count": 31,
   "metadata": {},
   "outputs": [
    {
     "data": {
      "text/plain": [
       "(array([ 0.375,  1.125,  1.125,  0.375]), -0.0375)"
      ]
     },
     "execution_count": 31,
     "metadata": {},
     "output_type": "execute_result"
    }
   ],
   "source": [
    "from scipy import integrate\n",
    "integrate.newton_cotes(3)"
   ]
  },
  {
   "cell_type": "markdown",
   "metadata": {
    "slideshow": {
     "slide_type": "subslide"
    }
   },
   "source": [
    "### Izračun uteži za Simpsonovo 3/8 pravilo"
   ]
  },
  {
   "cell_type": "markdown",
   "metadata": {},
   "source": [
    "Nadaljujemo lahko s kubično interpolacijo čez štiri točke ($n=4$):"
   ]
  },
  {
   "cell_type": "code",
   "execution_count": 32,
   "metadata": {},
   "outputs": [
    {
     "data": {
      "image/png": "[encoded data removed]",
      "text/latex": [
       "$$\\left [ \\frac{3 h}{8}, \\quad \\frac{9 h}{8}, \\quad \\frac{9 h}{8}, \\quad \\frac{3 h}{8}\\right ]$$"
      ],
      "text/plain": [
       "⎡3⋅h  9⋅h  9⋅h  3⋅h⎤\n",
       "⎢───, ───, ───, ───⎥\n",
       "⎣ 8    8    8    8 ⎦"
      ]
     },
     "execution_count": 32,
     "metadata": {},
     "output_type": "execute_result"
    }
   ],
   "source": [
    "x, x0, x1, x2, x3, h = sym.symbols('x, x0, x1, x2, x3, h')\n",
    "zamenjave = {x1: x0+h, x2: x0+2*h, x3: x0+3*h}\n",
    "A_Simpson3_8 = [sym.integrate(li, (x, x0, x3)).factor().subs(zamenjave).factor() \n",
    "                for li in lagrange(4, x)]\n",
    "A_Simpson3_8"
   ]
  },
  {
   "cell_type": "markdown",
   "metadata": {
    "slideshow": {
     "slide_type": "subslide"
    }
   },
   "source": [
    "Simpsonovo 3/8 pravilo je:\n",
    "\n",
    "$$\\int_{x_0}^{x_3}f(x)\\,\\textrm{d}x=\n",
    "\\underbrace{\\frac{3h}{8}\\cdot\\left(f(x_0)+3\\,f(x_1)+3f(x_2)+f(x_3)\\right)}_{I_{\\textrm{Simpsonovo 3/8}}}{~}\n",
    "\\underbrace{-\\frac{3h^5}{80}f^{(4)}(\\xi)}_{E_{\\textrm{Simpsonovo 3/8}}},$$\n",
    "kjer je $\\xi$ na intervalu $[x_0, x_3]$."
   ]
  },
  {
   "cell_type": "markdown",
   "metadata": {
    "slideshow": {
     "slide_type": "subslide"
    }
   },
   "source": [
    "Poglejmo si primer uporabe. Uporabimo pripravjeno tabelo vrednosti funkcije v štirih točkah:"
   ]
  },
  {
   "cell_type": "code",
   "execution_count": 33,
   "metadata": {},
   "outputs": [
    {
     "data": {
      "text/plain": [
       "array([ 0.84147098,  1.2959172 ,  1.65901326,  1.81859485])"
      ]
     },
     "execution_count": 33,
     "metadata": {},
     "output_type": "execute_result"
    }
   ],
   "source": [
    "y4v"
   ]
  },
  {
   "cell_type": "code",
   "execution_count": 34,
   "metadata": {},
   "outputs": [
    {
     "data": {
      "image/png": "[encoded data removed]",
      "text/latex": [
       "$$1.44060715408$$"
      ],
      "text/plain": [
       "1.44060715408"
      ]
     },
     "execution_count": 34,
     "metadata": {},
     "output_type": "execute_result"
    }
   ],
   "source": [
    "I_Simps38 = 3*h4v/8 * np.sum(y4v * [1, 3, 3, 1])\n",
    "I_Simps38"
   ]
  },
  {
   "cell_type": "markdown",
   "metadata": {
    "slideshow": {
     "slide_type": "subslide"
    }
   },
   "source": [
    "Pripravimo še prikaz:"
   ]
  },
  {
   "cell_type": "code",
   "execution_count": 35,
   "metadata": {
    "collapsed": true,
    "slideshow": {
     "slide_type": "subslide"
    }
   },
   "outputs": [],
   "source": [
    "def fig_Simpsonovo38():\n",
    "    y_interpolate = interpolate.lagrange(x4v, y4v)\n",
    "    plt.fill_between(xg, y_interpolate(xg), alpha=0.25, facecolor='r')\n",
    "    plt.vlines(x4v, 0, y4v, color='r', linestyles='dashed', lw=1)\n",
    "    plt.annotate('$I_{\\\\textrm{Simpsonovo 3/8}}$', (1.2, 0.5), fontsize=22)\n",
    "    plt.annotate('Napaka', fontsize=20, xy=(1.75, 1.7), xytext=(1.4, 1.8),\n",
    "            arrowprops=dict(facecolor='gray', shrink=0.05))\n",
    "    plt.plot(xg, yg, lw=3, alpha=0.5, label='$x\\,\\sin(x)$')\n",
    "    plt.plot(x4v, y4v, 'o', alpha=0.5, label=f'$h={h4v:.6f}$')\n",
    "    plt.legend(loc=(1.01, 0))\n",
    "    plt.ylim(0, 2)\n",
    "    plt.show()"
   ]
  },
  {
   "cell_type": "markdown",
   "metadata": {
    "slideshow": {
     "slide_type": "subslide"
    }
   },
   "source": [
    "In prikažemo:"
   ]
  },
  {
   "cell_type": "code",
   "execution_count": 36,
   "metadata": {},
   "outputs": [
    {
     "data": {
      "image/png": "[encoded data removed]",
      "text/plain": [
       "<matplotlib.figure.Figure at 0x18ab4803240>"
      ]
     },
     "metadata": {},
     "output_type": "display_data"
    }
   ],
   "source": [
    "fig_Simpsonovo38()"
   ]
  },
  {
   "cell_type": "markdown",
   "metadata": {
    "slideshow": {
     "slide_type": "slide"
    }
   },
   "source": [
    "## Sestavljenego Simpsonovo 1/3 pravilo"
   ]
  },
  {
   "cell_type": "markdown",
   "metadata": {},
   "source": [
    "Interval $[a, b]$ razdelimo na sodo število $n$ podintervalov enake širine $h=(b - a)/n$, s čimer so definirana vozlišča $x_i=a+i\\,h$ za $i=0,1,\\dots,n$. V tem primeru zapišemo sestavljeno Simpsonovo 1/3 pravilo:\n",
    "\n",
    "$$\\int_{a}^{b}f(x)\\,\\textrm{d}x=\n",
    "\\frac{h}{3}\\left(\n",
    "f(x_0)\n",
    "+4\\sum_{i=1}^{n/2}f(x_{2i-1})\n",
    "+2\\sum_{i=1}^{n/2-1}f(x_{2i})\n",
    "+f(x_n)\n",
    "\\right)\n",
    "\\underbrace{\n",
    "-\\frac{b-a}{180}h^4\\,f^{(4)}(\\xi)\n",
    "}_{E_{\\textrm{Sestavljeno Simpsonovo 1/3}}}\n",
    "$$"
   ]
  },
  {
   "cell_type": "markdown",
   "metadata": {
    "slideshow": {
     "slide_type": "subslide"
    }
   },
   "source": [
    "Kjer je $\\xi$ neznana vrednost na intervalu $[a, b]$. Napaka je četrtega reda $\\mathcal{O}(h^4)$.\n",
    "\n",
    "Opomba: pri poimenovanju zgornjega pravila pogosto \"1/3\" izpustimo. "
   ]
  },
  {
   "cell_type": "markdown",
   "metadata": {},
   "source": [
    "Numerična implementacija:"
   ]
  },
  {
   "cell_type": "code",
   "execution_count": 37,
   "metadata": {
    "collapsed": true
   },
   "outputs": [],
   "source": [
    "def simpsonovo13_sest(y, h):\n",
    "    \"\"\"\n",
    "    Sestavljeno Simpsonovo 1/3 pravilo integriranja.\n",
    "\n",
    "    :param y: funkcijske vrednosti\n",
    "    :param h: korak integriranja\n",
    "    \"\"\"    \n",
    "    return h/3 * (y[0] + 4*np.sum(y[1:-1:2]) + 2*np.sum(y[2:-1:2]) + y[-1])"
   ]
  },
  {
   "cell_type": "code",
   "execution_count": 38,
   "metadata": {},
   "outputs": [
    {
     "data": {
      "image/png": "[encoded data removed]",
      "text/latex": [
       "$$1.44044796026$$"
      ],
      "text/plain": [
       "1.44044796026"
      ]
     },
     "execution_count": 38,
     "metadata": {},
     "output_type": "execute_result"
    }
   ],
   "source": [
    "I_Simps13_sest = simpsonovo13_sest(y5v, h=h5v)\n",
    "I_Simps13_sest"
   ]
  },
  {
   "cell_type": "markdown",
   "metadata": {
    "slideshow": {
     "slide_type": "subslide"
    }
   },
   "source": [
    "Pripravimo sliko:"
   ]
  },
  {
   "cell_type": "code",
   "execution_count": 39,
   "metadata": {
    "collapsed": true
   },
   "outputs": [],
   "source": [
    "def fig_Simpsonovo_sest():\n",
    "    y_interpolate = interpolate.lagrange(x5v, y5v)\n",
    "    plt.fill_between(xg, y_interpolate(xg), alpha=0.25, facecolor='r')       \n",
    "    plt.vlines(x5v, 0, y5v, color='r', linestyles='dashed', lw=1)\n",
    "    plt.annotate('$I_{\\\\textrm{Simpsonovo sestavljeno}}$', (1.2, 0.5), fontsize=22)\n",
    "    plt.annotate('Napaka', fontsize=20, xy=(1.70, 1.68), xytext=(1.4, 1.8),\n",
    "            arrowprops=dict(facecolor='gray', shrink=0.05))\n",
    "    plt.plot(xg, yg, lw=3, alpha=0.5, label='$x\\,\\sin(x)$')\n",
    "    plt.plot(x5v, y5v, 'o', alpha=0.5, label=f'$h={h5v}$')\n",
    "    plt.legend(loc=(1.01, 0))\n",
    "    plt.ylim(0, 2)\n",
    "    plt.show()"
   ]
  },
  {
   "cell_type": "markdown",
   "metadata": {
    "slideshow": {
     "slide_type": "subslide"
    }
   },
   "source": [
    "In prikažemo:"
   ]
  },
  {
   "cell_type": "code",
   "execution_count": 40,
   "metadata": {},
   "outputs": [
    {
     "data": {
      "image/png": "[encoded data removed]",
      "text/plain": [
       "<matplotlib.figure.Figure at 0x18ab48d8400>"
      ]
     },
     "metadata": {},
     "output_type": "display_data"
    }
   ],
   "source": [
    "fig_Simpsonovo_sest()"
   ]
  },
  {
   "cell_type": "markdown",
   "metadata": {
    "slideshow": {
     "slide_type": "subslide"
    }
   },
   "source": [
    "### Boljša ocena integrala"
   ]
  },
  {
   "cell_type": "markdown",
   "metadata": {},
   "source": [
    "Napaka sestavljene Simpsonove metode je definirana z:\n",
    "$$E_{\\textrm{Sestavljeno Simpsonovo 1/3}}= \n",
    "-\\frac{b-a}{180}h^4\\,f^{(4)}(\\xi),$$\n",
    "kjer je $\\xi$ neznana vrednost na intervalu $[a, b]$."
   ]
  },
  {
   "cell_type": "markdown",
   "metadata": {
    "slideshow": {
     "slide_type": "subslide"
    }
   },
   "source": [
    "Izboljšano oceno integrala določimo na podoben način kakor pri sestavljeni trapezni metodi; integral $I$ ocenjujemo pri dveh različnih korakih $h$ in $2\\,h$, velja natančno:\n",
    "$$\\int_a^b f(x)\\,\\textrm{d}x = I_h + E_h = I_{2h} + E_{2h},$$\n",
    "kjer je $I_h$ približek integrala s korakom $h$ in $E_h$ ocena napake pri koraku $h$; analogno velja za $I_{2h}$ in $E_{2h}$."
   ]
  },
  {
   "cell_type": "markdown",
   "metadata": {
    "slideshow": {
     "slide_type": "subslide"
    }
   },
   "source": [
    "Če predpostavimo, da je $f^{(4)}\\left (\\xi \\right )$ v obeh primerih enak, lahko določimo razliko $I_{2h}-I_{h} = E_{h}-E_{2h}$. "
   ]
  },
  {
   "cell_type": "markdown",
   "metadata": {
    "slideshow": {
     "slide_type": "subslide"
    }
   },
   "source": [
    "Naprej zapišemo:\n",
    "\n",
    "$$E_h=-\\frac{b-a}{180}h^4\\,f^{(4)}(\\xi)=h^4\\,K.$$\n",
    "\n",
    "Ob predpostavki, da je $f^(4)\\left (\\xi \\right )$ pri koraku $h$ in $2h$ enak ($\\xi$ je pri koraku $h$ in $2h$ dejansko različen), zapišemo:\n",
    "$$E_{2h}=-\\frac{(b-a)}{180}(2h)^4\\,f^{(4)}(\\xi)=16\\,h^2\\,K$$"
   ]
  },
  {
   "cell_type": "markdown",
   "metadata": {
    "slideshow": {
     "slide_type": "subslide"
    }
   },
   "source": [
    "Sledi:\n",
    "\n",
    "$$I_{2h}-I_h=-15K\\,h^4.$$\n",
    "\n",
    "Sedaj lahko ocenimo napako pri koraku $h$:\n",
    "\n",
    "$$\\overline{E}_h=h^4\\,K=\\frac{I_h-I_{2h}}{15}.$$"
   ]
  },
  {
   "cell_type": "markdown",
   "metadata": {
    "slideshow": {
     "slide_type": "subslide"
    }
   },
   "source": [
    "Na podlagi ocene napake, lahko izračunamo boljši približek  $I_{h}^*$:\n",
    "$$I_h^* = I_h + \\frac{1}{15}\\,(I_{h}-I_{2h})$$\n",
    "ali\n",
    "$$I_h^* = \\frac{16}{15}\\,I_h - \\frac{1}{15}\\,I_{2h}$$"
   ]
  },
  {
   "cell_type": "markdown",
   "metadata": {
    "slideshow": {
     "slide_type": "subslide"
    }
   },
   "source": [
    "### Numerični zgled"
   ]
  },
  {
   "cell_type": "markdown",
   "metadata": {},
   "source": [
    "Predhodno smo s Simpsonovim pravilom že izračunali integral pri koraku $h=0.5$ in pri koraku $h=0.25$, rezultata sta bila:"
   ]
  },
  {
   "cell_type": "code",
   "execution_count": 41,
   "metadata": {},
   "outputs": [
    {
     "data": {
      "image/png": "[encoded data removed]",
      "text/latex": [
       "$$\\left [ 1.44083929301, \\quad 1.44044796026\\right ]$$"
      ],
      "text/plain": [
       "[1.44083929301, 1.44044796026]"
      ]
     },
     "execution_count": 41,
     "metadata": {},
     "output_type": "execute_result"
    }
   ],
   "source": [
    "[I_Simps13, I_Simps13_sest]"
   ]
  },
  {
   "cell_type": "markdown",
   "metadata": {
    "slideshow": {
     "slide_type": "subslide"
    }
   },
   "source": [
    "S pomočjo zgornje formule izračunamo boljši približek:"
   ]
  },
  {
   "cell_type": "code",
   "execution_count": 42,
   "metadata": {},
   "outputs": [
    {
     "name": "stdout",
     "output_type": "stream",
     "text": [
      "Točen rezultat:   1.4404224209802097\n",
      "Boljši približek: 1.4404218714139077\n"
     ]
    }
   ],
   "source": [
    "I_Simps13_boljši = 16/15*I_Simps13_sest - 1/15*I_Simps13\n",
    "print(f'Točen rezultat:   {I_točno}\\nBoljši približek: {I_Simps13_boljši}')"
   ]
  },
  {
   "cell_type": "markdown",
   "metadata": {
    "slideshow": {
     "slide_type": "subslide"
    }
   },
   "source": [
    "### Simpsonova metoda v ``scipy.integrate.simps``"
   ]
  },
  {
   "cell_type": "markdown",
   "metadata": {},
   "source": [
    "V ``scipy`` je implementirano sestavljeno Simpsonovo 1/3 pravilo:\n",
    "\n",
    "```python\n",
    "simps(y, x=None, dx=1, axis=-1, even='avg')\n",
    "```\n",
    "\n",
    "kjer so parametri:\n",
    "* `y` tabela funkcijskih vrednosti, ki jih integriramo,\n",
    "* `x` vozlišča, gre za opcijski parameter, če je `x=None`, se predpostavi ekvidistantne odseke širine `dx`,\n",
    "* `dx` širina ekvidistantnih odsekov oz korak integriranja,\n",
    "* `axis` os integriranja (pomembno v primeru več dimenzijskega numeričnega polja)\n",
    "* `even` je lahko {‘avg’, ‘first’, ‘last’} in definira način integriranja v primeru lihega števila podintervalov.\n",
    "\n",
    "Za več glejte [dokumentacijo](https://docs.scipy.org/doc/scipy/reference/generated/scipy.integrate.simps.html)."
   ]
  },
  {
   "cell_type": "markdown",
   "metadata": {
    "slideshow": {
     "slide_type": "subslide"
    }
   },
   "source": [
    "Poglejmo si primer, najprej uvozimo funkcijo `simps`:"
   ]
  },
  {
   "cell_type": "code",
   "execution_count": 43,
   "metadata": {
    "collapsed": true
   },
   "outputs": [],
   "source": [
    "from scipy.integrate import simps"
   ]
  },
  {
   "cell_type": "code",
   "execution_count": 44,
   "metadata": {},
   "outputs": [
    {
     "data": {
      "image/png": "[encoded data removed]",
      "text/latex": [
       "$$1.44044796026$$"
      ],
      "text/plain": [
       "1.44044796026"
      ]
     },
     "execution_count": 44,
     "metadata": {},
     "output_type": "execute_result"
    }
   ],
   "source": [
    "#%%timeit\n",
    "simps(y5v, dx=h5v)"
   ]
  },
  {
   "cell_type": "markdown",
   "metadata": {
    "slideshow": {
     "slide_type": "slide"
    }
   },
   "source": [
    "## Rombergova metoda*"
   ]
  },
  {
   "cell_type": "markdown",
   "metadata": {},
   "source": [
    "Rombergova metoda temelji na Richardsovi ekstrapolaciji. Predpostavimo, da integral $\\int_a^b f(x)\\textrm{d}x$ integriramo na intervalu $[a,b]$, ki ga razdelimo na $n=1,2,4,8,\\dots$ intervalov.\n",
    "\n",
    "Rezultat trapeznega pravila pri $n=1$ označimo z $R_{\\underbrace{1}_{n},\\underbrace{1}_{j}}$, pri čemer $j$ označuje natančnost pridobljenega rezultata $\\mathcal{O}(h^{2j})$."
   ]
  },
  {
   "cell_type": "markdown",
   "metadata": {
    "slideshow": {
     "slide_type": "subslide"
    }
   },
   "source": [
    "Če uporabimo trapezno integracijsko pravilo pri $n=1,2,4\\dots$ odsekih, izračunamo:\n",
    "\n",
    "* $R_{1,1}$, korak $h_1=h$, red natančnosti $\\mathcal{O}(h_1^2)$\n",
    "* $R_{2,1}$, korak $h_2=h/2$, red natančnosti $\\mathcal{O}(h_2^2)$\n",
    "* $R_{3,1}$, korak $h_3=h/4$, red natančnosti $\\mathcal{O}(h_3^2)$\n",
    "* $R_{4,1}$, korak $h_4=h/8$, red natančnosti $\\mathcal{O}(h_4^2)$\n",
    "* $\\dots$\n",
    "* $R_{n,1}$, korak $h_4=h/(2^{n-1})$, red natančnosti $\\mathcal{O}(h_n^2)$"
   ]
  },
  {
   "cell_type": "markdown",
   "metadata": {
    "slideshow": {
     "slide_type": "subslide"
    }
   },
   "source": [
    "Na podlagi Richardsove ekstrapolacije izračunamo boljši približek\n",
    "\n",
    "* $R_{2,2} = R_{2,1} - \\frac{1}{3}\\left(R_{2,1}-R_{1,1}\\right)$, korak $h_2=h/2$, red natančnosti $\\mathcal{O}(h_2^4)$\n",
    "* $R_{3,2} = R_{3,1} - \\frac{1}{3}\\left(R_{3,1}-R_{2,1}\\right)$, korak $h_2=h/4$, red natančnosti $\\mathcal{O}(h_2^4)$\n",
    "* $\\dots$\n",
    "* $R_{n,2} = R_{n,1} - \\frac{1}{3}\\left(R_{n,1}-R_{n-1,1}\\right)$, korak $h_n=h/(2^{n-1})$, red natančnosti $\\mathcal{O}(h_n^4)$\n"
   ]
  },
  {
   "cell_type": "markdown",
   "metadata": {
    "slideshow": {
     "slide_type": "subslide"
    }
   },
   "source": [
    "Nato nadaljujemo z Richardsovo ekstrapolacijo:\n",
    "\n",
    "* $R_{3,3} = R_{3,2} - \\frac{1}{15}\\left(R_{3,2}-R_{2,2}\\right)$, korak $h_2=h/4$, red natančnosti $\\mathcal{O}(h_3^6)$\n",
    "* $\\dots$\n",
    "* $R_{n,3} = R_{n,2} - \\frac{1}{15}\\left(R_{n,2}-R_{n-1,2}\\right)$, korak $h_n=h/(2^{n-1})$, red natančnosti $\\mathcal{O}(h_n^6)$\n"
   ]
  },
  {
   "cell_type": "markdown",
   "metadata": {
    "slideshow": {
     "slide_type": "subslide"
    }
   },
   "source": [
    "Richardsovo extrapolacijo lahko posplošimo:\n",
    "\n",
    "* $R_{n,j} = R_{n,j-1} - \\frac{1}{4^{j-1}-1}\\left(R_{n,j-1}-R_{n-1,j.1}\\right)$, korak $h_n=h/(2^{n-1})$, red natančnosti $\\mathcal{O}(h_n^{2j})$\n"
   ]
  },
  {
   "cell_type": "markdown",
   "metadata": {
    "slideshow": {
     "slide_type": "subslide"
    }
   },
   "source": [
    "Pri tem velja izpostaviti, da je boljši približek $R_{2,2}$ pri koraku $h/2$) enak rezultatu Simpsonove 1/3 metode pri koraku $h/2$. Podobno je boljši približek $R_{3,3}$ pri koraku $h/4$ enak rezultatu Simpsonove 1/3 metode pri koraku $h/4$."
   ]
  },
  {
   "cell_type": "markdown",
   "metadata": {
    "slideshow": {
     "slide_type": "subslide"
    }
   },
   "source": [
    "Poglejmo si primer od zgoraj. Najprej s sestavljeno trapezno metodo izračunamo integral pri različnih korakih (drugi red napake):"
   ]
  },
  {
   "cell_type": "code",
   "execution_count": 45,
   "metadata": {},
   "outputs": [
    {
     "data": {
      "image/png": "[encoded data removed]",
      "text/latex": [
       "$$\\left [ 1.33003291923, \\quad 1.41313769957, \\quad 1.43362039509\\right ]$$"
      ],
      "text/plain": [
       "[1.33003291923, 1.41313769957, 1.43362039509]"
      ]
     },
     "execution_count": 45,
     "metadata": {},
     "output_type": "execute_result"
    }
   ],
   "source": [
    "# O(h^2)\n",
    "R1_1 = trapezno_sest(y2v, h2v) # h=1.0\n",
    "R2_1 = trapezno_sest(y3v, h3v) # h=0.5\n",
    "R3_1 = trapezno_sest(y5v, h5v) # h=0.25\n",
    "[R1_1, R2_1, R3_1]"
   ]
  },
  {
   "cell_type": "markdown",
   "metadata": {
    "slideshow": {
     "slide_type": "subslide"
    }
   },
   "source": [
    "Nato izračunamo boljše približke (dobimo četrti red napake)"
   ]
  },
  {
   "cell_type": "code",
   "execution_count": 46,
   "metadata": {},
   "outputs": [
    {
     "data": {
      "image/png": "[encoded data removed]",
      "text/latex": [
       "$$\\left [ 1.44083929301, \\quad 1.44044796026\\right ]$$"
      ],
      "text/plain": [
       "[1.44083929301, 1.44044796026]"
      ]
     },
     "execution_count": 46,
     "metadata": {},
     "output_type": "execute_result"
    }
   ],
   "source": [
    "# O(h^4)\n",
    "R2_2 = R2_1 + 1/3 * (R2_1 - R1_1)\n",
    "R3_2 = R3_1 + 1/3 * (R3_1 - R2_1)\n",
    "[R2_2, R3_2]"
   ]
  },
  {
   "cell_type": "markdown",
   "metadata": {
    "slideshow": {
     "slide_type": "subslide"
    }
   },
   "source": [
    "Rezultata predstavljata rezultat Simpsonove 1/3 metode pri koraku $h=0.5$ in $h=0.25$"
   ]
  },
  {
   "cell_type": "code",
   "execution_count": 47,
   "metadata": {},
   "outputs": [
    {
     "data": {
      "image/png": "[encoded data removed]",
      "text/latex": [
       "$$\\left ( 1.44083929301, \\quad 1.44044796026\\right )$$"
      ],
      "text/plain": [
       "(1.44083929301, 1.44044796026)"
      ]
     },
     "execution_count": 47,
     "metadata": {},
     "output_type": "execute_result"
    }
   ],
   "source": [
    "I_Simps13, I_Simps13_sest"
   ]
  },
  {
   "cell_type": "markdown",
   "metadata": {
    "slideshow": {
     "slide_type": "subslide"
    }
   },
   "source": [
    "Ponovno izračunamo boljše približke (dobimo šesti red napake)"
   ]
  },
  {
   "cell_type": "code",
   "execution_count": 48,
   "metadata": {},
   "outputs": [
    {
     "data": {
      "image/png": "[encoded data removed]",
      "text/latex": [
       "$$1.44042187141$$"
      ],
      "text/plain": [
       "1.44042187141"
      ]
     },
     "execution_count": 48,
     "metadata": {},
     "output_type": "execute_result"
    }
   ],
   "source": [
    "# O(h6)\n",
    "R3_3 = R3_2 + 1/15 * (R3_2 - R2_2)\n",
    "R3_3"
   ]
  },
  {
   "cell_type": "markdown",
   "metadata": {
    "slideshow": {
     "slide_type": "subslide"
    }
   },
   "source": [
    "Rezultat predstavlja boljši rezultat Simpsonove 1/3 pri koraku $h=0.25$:"
   ]
  },
  {
   "cell_type": "code",
   "execution_count": 49,
   "metadata": {},
   "outputs": [
    {
     "data": {
      "image/png": "[encoded data removed]",
      "text/latex": [
       "$$1.44042187141$$"
      ],
      "text/plain": [
       "1.44042187141"
      ]
     },
     "execution_count": 49,
     "metadata": {},
     "output_type": "execute_result"
    }
   ],
   "source": [
    "I_Simps13_boljši"
   ]
  },
  {
   "cell_type": "markdown",
   "metadata": {
    "slideshow": {
     "slide_type": "subslide"
    }
   },
   "source": [
    "Rombergova metoda nam torej ponuja visoko natančnost rezultata za relativno majhno numerično ceno."
   ]
  },
  {
   "cell_type": "markdown",
   "metadata": {
    "slideshow": {
     "slide_type": "subslide"
    }
   },
   "source": [
    "### Rombergova metoda v ``scipy.integrate.romb``"
   ]
  },
  {
   "cell_type": "markdown",
   "metadata": {},
   "source": [
    "V ``scipy`` je implementirana Rombergova metoda:\n",
    "\n",
    "```python\n",
    "romb(y, dx=1.0, axis=-1, show=False)\n",
    "```\n",
    "\n",
    "kjer so parametri:\n",
    "* `y` tabela funkcijskih vrednosti, ki jih integriramo,\n",
    "* `dx` širina ekvidistantnih odsekov oz korak integriranja,\n",
    "* `axis` or integriranja (pomembno v primeru več dimenzijskega numeričnega polja)\n",
    "* `show` če je `True` prikaže elemente Richardsove ekstrapolacije.\n",
    "\n",
    "Za več glejte [dokumentacijo](https://docs.scipy.org/doc/scipy/reference/generated/scipy.integrate.romb.html#scipy.integrate.romb)."
   ]
  },
  {
   "cell_type": "markdown",
   "metadata": {
    "slideshow": {
     "slide_type": "subslide"
    }
   },
   "source": [
    "Poglejmo si primer od zgoraj:"
   ]
  },
  {
   "cell_type": "code",
   "execution_count": 50,
   "metadata": {
    "collapsed": true
   },
   "outputs": [],
   "source": [
    "from scipy.integrate import romb"
   ]
  },
  {
   "cell_type": "code",
   "execution_count": 51,
   "metadata": {},
   "outputs": [
    {
     "name": "stdout",
     "output_type": "stream",
     "text": [
      "\n",
      "       Richardson Extrapolation Table for Romberg Integration       \n",
      "==================================================================== 1.33003 \n",
      " 1.41314  1.44084 \n",
      " 1.43362  1.44045  1.44042 \n",
      "====================================================================\n",
      "\n"
     ]
    },
    {
     "data": {
      "image/png": "[encoded data removed]",
      "text/latex": [
       "$$1.44042187141$$"
      ],
      "text/plain": [
       "1.44042187141"
      ]
     },
     "execution_count": 51,
     "metadata": {},
     "output_type": "execute_result"
    }
   ],
   "source": [
    "romb(y5v, dx=h5v, show=True)"
   ]
  },
  {
   "cell_type": "markdown",
   "metadata": {
    "slideshow": {
     "slide_type": "slide"
    }
   },
   "source": [
    "# Gaussov integracijski pristop"
   ]
  },
  {
   "cell_type": "markdown",
   "metadata": {},
   "source": [
    "Pristop Newton-Cotes temelji na polinomu $n$-te stopnje in napaka je $n+1$ stopnje. To pomeni, da integracija daje točen rezultat, če je integrirana funkcija polinom stopnje $n$ ali manj."
   ]
  },
  {
   "cell_type": "markdown",
   "metadata": {
    "slideshow": {
     "slide_type": "subslide"
    }
   },
   "source": [
    "Gaussov integracijski pristop je v principu drugačen: cilj je integral funkcije $f(x)$ nadomestiti z uteženo vsoto vrednosti funkcije pri diskretnih vrednostih $f(x_i)$:\n",
    "$$\\int_a^bf(x)\\,\\textrm{d}x\\approx \\sum_{i=0}^{n-1} w_i\\, f(x_i).$$\n",
    "Pri tem je neznana utež $w_i$ in tudi lega vozlišča $x_i$. Za stopnje polinoma $n$ bomo potrebovali tudi več  točk $(x_i, f(x_i))$."
   ]
  },
  {
   "cell_type": "markdown",
   "metadata": {
    "slideshow": {
     "slide_type": "subslide"
    }
   },
   "source": [
    "V nadaljevanju bomo spoznali, da lahko zelo učinkovito izračunamo numerično točen integral. Prednost Gaussove integracije je tudi, da lahko izračuna integral funkcij s singularnostmi (npr: $\\int_0^1\\sin(x)/\\sqrt{(x)}\\,dx$)."
   ]
  },
  {
   "cell_type": "markdown",
   "metadata": {
    "slideshow": {
     "slide_type": "subslide"
    }
   },
   "source": [
    "## Gaussova kvadratura z enim vozliščem"
   ]
  },
  {
   "cell_type": "markdown",
   "metadata": {},
   "source": [
    "Predpostavimo, da želimo integrirati polinom stopnje $n=1$ (linearna funkcija):\n",
    "\n",
    "$$f(x)=P_1(x)=A_0+A_1\\,x.$$"
   ]
  },
  {
   "cell_type": "markdown",
   "metadata": {
    "slideshow": {
     "slide_type": "subslide"
    }
   },
   "source": [
    "Izračunajmo: \n",
    "\n",
    "$$\\int_a^bP_1(x)\\,\\textrm{d}x=-A_0\\,a+A_0\\,b-\\frac{A_1\\,a^2}{2}+\\frac{A_1\\,b^2}{2}.$$"
   ]
  },
  {
   "cell_type": "markdown",
   "metadata": {
    "slideshow": {
     "slide_type": "subslide"
    }
   },
   "source": [
    "Po drugi strani pa želimo integral izračunati glede na ustrezno uteženo $w_0$ vrednost funkcije $f(x_0)$ v neznanem vozlišču $x_0$ (samo eno vozlišče!):\n",
    "\n",
    "$$\\int_a^bP_1(x)\\,\\textrm{d}x = w_0\\,P_1(x_0)= w_0\\,A_0+w_0\\,A_1\\,x.$$"
   ]
  },
  {
   "cell_type": "markdown",
   "metadata": {
    "slideshow": {
     "slide_type": "subslide"
    }
   },
   "source": [
    "$A_0$ in $A_1$ sta koeficienta linearne funkcije, ki lahko zavzame poljubne vrednosti. Z enačenjem zgornjih izrazov izpeljemo:\n",
    "\n",
    "$$-A_0\\,a+A_0\\,b-\\frac{A_1\\,a^2}{2}+\\frac{A_1\\,b^2}{2}=w_0\\,A_0+w_0\\,A_1\\,x$$"
   ]
  },
  {
   "cell_type": "markdown",
   "metadata": {
    "slideshow": {
     "slide_type": "subslide"
    }
   },
   "source": [
    "Gre za sistem linearnih enačb z rešitvijo:\n",
    "\n",
    "$$w_0= b-a, \\qquad x_0=\\frac{b+a}{2}.$$\n",
    "\n",
    "Če je integrirana funkcija linearna, bomo samo na podlagi vrednosti v eni točki izračunali pravo vrednost!"
   ]
  },
  {
   "cell_type": "markdown",
   "metadata": {
    "slideshow": {
     "slide_type": "subslide"
    }
   },
   "source": [
    "### Standardne meje: $a=-1$ in $b=1$\n",
    "\n",
    "Zaradi splošnosti, meje $x\\in[a,b]$ transformiramo v $\\xi\\in[-1, +1]$ s pomočjo:\n",
    "\n",
    "$$x=\\frac{b+a}{2}+\\frac{b-a}{2}\\xi$$\n",
    "\n",
    "in \n",
    "$$\\textrm{d}x=\\frac{b-a}{2}\\textrm{d}\\xi.$$"
   ]
  },
  {
   "cell_type": "markdown",
   "metadata": {
    "slideshow": {
     "slide_type": "subslide"
    }
   },
   "source": [
    "Velja:\n",
    "\n",
    "$$\\int_a^bf(x)\\,\\textrm{d}x=\\int_{-1}^1 g\\left(\\xi\\right)\\,\\textrm{d}\\xi,$$\n",
    "\n",
    "kjer je:\n",
    "\n",
    "$$g(\\xi)=\\frac{b-a}{2}\\,f\\left(\\frac{b+a}{2}+\\frac{b-a}{2}\\xi\\right).$$"
   ]
  },
  {
   "cell_type": "markdown",
   "metadata": {
    "slideshow": {
     "slide_type": "subslide"
    }
   },
   "source": [
    "V primeru standardnih mej je pri eni Gaussovi točki utež $w_0=2$ in $x_0=0$ vrednost, pri kateri moramo izračunati funkcijo $f(x_0)$."
   ]
  },
  {
   "cell_type": "markdown",
   "metadata": {
    "slideshow": {
     "slide_type": "subslide"
    }
   },
   "source": [
    "### Strojno izpeljenjanje uteži in Gaussove točke"
   ]
  },
  {
   "cell_type": "markdown",
   "metadata": {},
   "source": [
    "Definirajmo simbole in in nastavimo enačbo:"
   ]
  },
  {
   "cell_type": "code",
   "execution_count": 52,
   "metadata": {},
   "outputs": [
    {
     "data": {
      "image/png": "[encoded data removed]",
      "text/latex": [
       "$$- A_{0} a + A_{0} b - \\frac{A_{1} a^{2}}{2} + \\frac{A_{1} b^{2}}{2} = w_{0} \\left(A_{0} + A_{1} x_{0}\\right)$$"
      ],
      "text/plain": [
       "                   2       2                  \n",
       "               A₁⋅a    A₁⋅b                   \n",
       "-A₀⋅a + A₀⋅b - ───── + ───── = w₀⋅(A₀ + A₁⋅x₀)\n",
       "                 2       2                    "
      ]
     },
     "execution_count": 52,
     "metadata": {},
     "output_type": "execute_result"
    }
   ],
   "source": [
    "A0, A1, x, a, b, w0, x0 = sym.symbols('A0, A1, x, a, b, w0, x0') # simboli\n",
    "P1 = A0 + A1*x                                                   # linearni polinom\n",
    "eq = sym.Eq(P1.integrate((x, a, b)).expand(), w0*P1.subs(x, x0)) # teoretični integral = ocen z utežmi\n",
    "eq"
   ]
  },
  {
   "cell_type": "markdown",
   "metadata": {
    "slideshow": {
     "slide_type": "subslide"
    }
   },
   "source": [
    "Pripravimo dve enačbi (za prvo predpostavimo $A_0=0, A_1=1$, za drugo predpostavimo $A_0=1, A_1=0$) ter rešimo sistem za `w0` in `x0`:"
   ]
  },
  {
   "cell_type": "code",
   "execution_count": 53,
   "metadata": {},
   "outputs": [
    {
     "data": {
      "image/png": "[encoded data removed]",
      "text/latex": [
       "$$\\left [ \\left ( - a + b, \\quad \\frac{1}{2} \\left(a + b\\right)\\right )\\right ]$$"
      ],
      "text/plain": [
       "⎡⎛        a + b⎞⎤\n",
       "⎢⎜-a + b, ─────⎟⎥\n",
       "⎣⎝          2  ⎠⎦"
      ]
     },
     "execution_count": 53,
     "metadata": {},
     "output_type": "execute_result"
    }
   ],
   "source": [
    "sym.solve([eq.subs(A0, 0).subs(A1, 1), eq.subs(A1, 0).subs(A0, 1)], [w0, x0])"
   ]
  },
  {
   "cell_type": "markdown",
   "metadata": {},
   "source": [
    "Za dodatno razlago priporočam [video posnetek](https://www.youtube.com/watch?v=iQ5-4hx25Rw)."
   ]
  },
  {
   "cell_type": "markdown",
   "metadata": {
    "slideshow": {
     "slide_type": "subslide"
    }
   },
   "source": [
    "## Gaussova integracijska metoda z več vozlišči"
   ]
  },
  {
   "cell_type": "markdown",
   "metadata": {},
   "source": [
    "Izpeljati želimo Gaussovo integracijsko metodo, ki bo upoštevala na intervalu $[a,b]$ $v$ vozlišč in bo točno izračunala integral polinomov do stopnje $n=2v-1$. Veljati mora:\n",
    "\n",
    "$$\\int_a^bP_{2v-1}(x)\\,\\textrm{d}x = \\sum_{i=0}^{v-1} w_i\\,P_{2v-1}(x_i),$$\n",
    "\n",
    "Pri izpeljavi se bomo omejili na standardne meje $a=-1$, $b=1$."
   ]
  },
  {
   "cell_type": "markdown",
   "metadata": {
    "slideshow": {
     "slide_type": "subslide"
    }
   },
   "source": [
    "kjer je polinom stopnje $n=2v-1$ definiran kot:\n",
    "$$P_{2v-1}(x)=\\sum_{i=0}^{2v-1} A_i\\,x^i.$$"
   ]
  },
  {
   "cell_type": "markdown",
   "metadata": {
    "slideshow": {
     "slide_type": "subslide"
    }
   },
   "source": [
    "Z dvema Gaussovima točkama/vozliščema točno izračunamo integral polinoma do 3. reda, s tremi Gausovimi vozlišči pa točno izračunamo integral polinoma do 5. reda!"
   ]
  },
  {
   "cell_type": "markdown",
   "metadata": {
    "slideshow": {
     "slide_type": "subslide"
    }
   },
   "source": [
    "### Strojno izpeljevanje\n",
    "Pripravimo si najprej simbolni zapis polinoma in ustreznih spremenljivk:"
   ]
  },
  {
   "cell_type": "code",
   "execution_count": 54,
   "metadata": {
    "collapsed": true
   },
   "outputs": [],
   "source": [
    "def P_etc(n=1, A='A', x='x'):                       # n je stopnja polinoma\n",
    "    Ai = sym.symbols('{0:s}:{1:g}'.format(A, n+1))  # seznam A_i\n",
    "    x = sym.symbols(x)                              # spremenljivka x\n",
    "    return Ai, x, sum([Ai[i]*x**i for i in range(n+1)])"
   ]
  },
  {
   "cell_type": "markdown",
   "metadata": {
    "slideshow": {
     "slide_type": "subslide"
    }
   },
   "source": [
    "Sedaj pa poiščimo uteži $w_i$ in vozlišča $x_i$ za primer dveh Gaussovih vozlišč; polinom je torej stopnje 3."
   ]
  },
  {
   "cell_type": "code",
   "execution_count": 55,
   "metadata": {},
   "outputs": [
    {
     "name": "stdout",
     "output_type": "stream",
     "text": [
      "Vozlišča: (x0, x1)\n",
      "Uteži:    (w0, w1)\n"
     ]
    }
   ],
   "source": [
    "v = 2 # število vozlišč\n",
    "Ai, x, P = P_etc(n=2*v-1)\n",
    "xi = sym.symbols('x:{0:g}'.format(v)) # seznam x_i\n",
    "wi = sym.symbols('w:{0:g}'.format(v)) # seznam w_i\n",
    "print(f'Vozlišča: {xi}\\nUteži:    {wi}')"
   ]
  },
  {
   "cell_type": "markdown",
   "metadata": {},
   "source": [
    "Polinom:"
   ]
  },
  {
   "cell_type": "code",
   "execution_count": 56,
   "metadata": {},
   "outputs": [
    {
     "data": {
      "image/png": "[encoded data removed]",
      "text/latex": [
       "$$A_{0} + A_{1} x + A_{2} x^{2} + A_{3} x^{3}$$"
      ],
      "text/plain": [
       "                2       3\n",
       "A₀ + A₁⋅x + A₂⋅x  + A₃⋅x "
      ]
     },
     "execution_count": 56,
     "metadata": {},
     "output_type": "execute_result"
    }
   ],
   "source": [
    "P"
   ]
  },
  {
   "cell_type": "markdown",
   "metadata": {
    "slideshow": {
     "slide_type": "subslide"
    }
   },
   "source": [
    "Podobno kakor zgoraj za eno vozlišče, tukaj definirajmo enačbe:"
   ]
  },
  {
   "cell_type": "code",
   "execution_count": 57,
   "metadata": {},
   "outputs": [
    {
     "data": {
      "image/png": "[encoded data removed]",
      "text/latex": [
       "$$\\left [ 2 = w_{0} + w_{1}, \\quad 0 = w_{0} x_{0} + w_{1} x_{1}, \\quad \\frac{2}{3} = w_{0} x_{0}^{2} + w_{1} x_{1}^{2}, \\quad 0 = w_{0} x_{0}^{3} + w_{1} x_{1}^{3}\\right ]$$"
      ],
      "text/plain": [
       "⎡                                           2        2           3        3⎤\n",
       "⎣2 = w₀ + w₁, 0 = w₀⋅x₀ + w₁⋅x₁, 2/3 = w₀⋅x₀  + w₁⋅x₁ , 0 = w₀⋅x₀  + w₁⋅x₁ ⎦"
      ]
     },
     "execution_count": 57,
     "metadata": {},
     "output_type": "execute_result"
    }
   ],
   "source": [
    "eqs = [sym.Eq(P.integrate((x, -1, 1)).coeff(A_),\\\n",
    "              sum([wi[i]*P.subs(x, xi[i]) \\\n",
    "                   for i in range(v)]).expand().coeff(A_)) \\\n",
    "       for A_ in Ai]\n",
    "eqs"
   ]
  },
  {
   "cell_type": "markdown",
   "metadata": {
    "slideshow": {
     "slide_type": "subslide"
    }
   },
   "source": [
    "In jih rešimo za neznane $x_i$ in $w_i$:"
   ]
  },
  {
   "cell_type": "code",
   "execution_count": 58,
   "metadata": {},
   "outputs": [
    {
     "data": {
      "image/png": "[encoded data removed]",
      "text/latex": [
       "$$\\left [ \\left ( - \\frac{\\sqrt{3}}{3}, \\quad \\frac{\\sqrt{3}}{3}, \\quad 1, \\quad 1\\right ), \\quad \\left ( \\frac{\\sqrt{3}}{3}, \\quad - \\frac{\\sqrt{3}}{3}, \\quad 1, \\quad 1\\right )\\right ]$$"
      ],
      "text/plain": [
       "⎡⎛-√3   √3      ⎞  ⎛√3  -√3       ⎞⎤\n",
       "⎢⎜────, ──, 1, 1⎟, ⎜──, ────, 1, 1⎟⎥\n",
       "⎣⎝ 3    3       ⎠  ⎝3    3        ⎠⎦"
      ]
     },
     "execution_count": 58,
     "metadata": {},
     "output_type": "execute_result"
    }
   ],
   "source": [
    "sol = sym.solve(eqs, sym.flatten((xi, wi)))\n",
    "sol"
   ]
  },
  {
   "cell_type": "markdown",
   "metadata": {
    "slideshow": {
     "slide_type": "subslide"
    }
   },
   "source": [
    "Določili smo seznam dveh (enakih) rešitev. \n",
    "\n",
    "Najprej sta definirani vozlišči: $x_0=-\\sqrt{3}/3$ in $x_1=\\sqrt{3}/3$ katerima pripadata uteži $w_0=w_1=1$.\n",
    "\n",
    "Koda zgoraj je izpeljana v splošnem - število vozlišč `v` lahko povečate ter izračunate vozlišča ter pripadajoče uteži."
   ]
  },
  {
   "cell_type": "markdown",
   "metadata": {
    "slideshow": {
     "slide_type": "subslide"
    }
   },
   "source": [
    "Tukaj je podana tabela vozlišč in uteži za 1, 2 in 3 vozlišča (za meje $a=-1$, $b=1$):\n",
    "\n",
    "| Število točk | Vozlišče  $x_i$ | Utež $w_i$ |\n",
    "|:------------:|:------------:|:------------:|\n",
    "||||\n",
    "|1 | 0 | 2 |\n",
    "||||\n",
    "|2 | $-\\frac{\\sqrt{3}}{3}$ | 1 |\n",
    "| | $+\\frac{\\sqrt{3}}{3}$ | 1 |\n",
    "||||\n",
    "| | $-\\frac{\\sqrt{15}}{5}$ | $\\frac{5}{9}$ |\n",
    "|3 | $0$ | $\\frac{8}{9}$ |\n",
    "| | $\\frac{\\sqrt{15}}{5}$ | $\\frac{5}{9}$ |\n"
   ]
  },
  {
   "cell_type": "markdown",
   "metadata": {
    "slideshow": {
     "slide_type": "subslide"
    }
   },
   "source": [
    "### Numerična implementacija"
   ]
  },
  {
   "cell_type": "markdown",
   "metadata": {},
   "source": [
    "Numerična implementacija (vključno s transformacijo mej) za eno, dve ali tri vozlišča:"
   ]
  },
  {
   "cell_type": "code",
   "execution_count": 59,
   "metadata": {
    "collapsed": true
   },
   "outputs": [],
   "source": [
    "def Gaussova(fun, a, b, vozlišč=1):\n",
    "    \"\"\" \n",
    "    Gaussova integracijska metoda.\n",
    "\n",
    "    :param fun: objekt funkcije, ki jo integriramo\n",
    "    :param a:   spodnja meja\n",
    "    :param b:   zgornja meja\n",
    "    :param vozlišča: število vozlišč (1, 2 ali 3)\n",
    "    \"\"\"\n",
    "    def g(xi): # funkcija za transformacijo mej\n",
    "        return (b-a)/2 * fun((b+a +xi * (b-a))/2)\n",
    "    \n",
    "    if vozlišč == 1:\n",
    "        return 2*g(0.)\n",
    "    elif vozlišč == 2:\n",
    "        return 1. * g(-np.sqrt(3)/3) + 1. * g(np.sqrt(3)/3)        \n",
    "    elif vozlišč == 3:\n",
    "        return 5/9 * g(-np.sqrt(15)/5) +8/9 * g(0.) + 5/9 * g(np.sqrt(15)/5)"
   ]
  },
  {
   "cell_type": "markdown",
   "metadata": {
    "slideshow": {
     "slide_type": "subslide"
    }
   },
   "source": [
    "Pogljemo si zgled. Najprej definirajmo funkcijo, ki jo želimo integrirati:"
   ]
  },
  {
   "cell_type": "code",
   "execution_count": 60,
   "metadata": {
    "collapsed": true
   },
   "outputs": [],
   "source": [
    "def f(x):\n",
    "    return x*np.sin(x)"
   ]
  },
  {
   "cell_type": "markdown",
   "metadata": {
    "slideshow": {
     "slide_type": "subslide"
    }
   },
   "source": [
    "Sedaj pa funkcijo (v konkretnem primeru `f`) in ne vrednosti (npr. `f(0.)`) posredujemo funkciji `Gaussova`. Najprej za eno vozlišče, nato dve in tri:"
   ]
  },
  {
   "cell_type": "code",
   "execution_count": 61,
   "metadata": {},
   "outputs": [
    {
     "data": {
      "image/png": "[encoded data removed]",
      "text/latex": [
       "$$1.49624247991$$"
      ],
      "text/plain": [
       "1.49624247991"
      ]
     },
     "execution_count": 61,
     "metadata": {},
     "output_type": "execute_result"
    }
   ],
   "source": [
    "Gaussova(fun=f, a=1., b=2., vozlišč=1)"
   ]
  },
  {
   "cell_type": "code",
   "execution_count": 62,
   "metadata": {},
   "outputs": [
    {
     "data": {
      "image/png": "[encoded data removed]",
      "text/latex": [
       "$$1.44014401845$$"
      ],
      "text/plain": [
       "1.44014401845"
      ]
     },
     "execution_count": 62,
     "metadata": {},
     "output_type": "execute_result"
    }
   ],
   "source": [
    "Gaussova(fun=f, a=1., b=2., vozlišč=2)"
   ]
  },
  {
   "cell_type": "code",
   "execution_count": 63,
   "metadata": {},
   "outputs": [
    {
     "data": {
      "image/png": "[encoded data removed]",
      "text/latex": [
       "$$1.44042294912$$"
      ],
      "text/plain": [
       "1.44042294912"
      ]
     },
     "execution_count": 63,
     "metadata": {},
     "output_type": "execute_result"
    }
   ],
   "source": [
    "Gaussova(fun=f, a=1., b=2., vozlišč=3)"
   ]
  },
  {
   "cell_type": "markdown",
   "metadata": {
    "slideshow": {
     "slide_type": "subslide"
    }
   },
   "source": [
    "### ``scipy.integrate.fixed_quad``\n",
    "\n",
    "Znotraj ``scipy`` je Gaussova integracijska metoda implementirana v okviru funkcije:\n",
    "\n",
    "```python\n",
    "fixed_quad(func, a, b, args=(), n=5)\n",
    "```\n",
    "\n",
    "kjer so parametri:\n",
    "* `func` je ime kunkcije, ki jo kličemo,\n",
    "* `a` je spodnja meja,\n",
    "* `b` je zgornja meja,\n",
    "* `args` je terka morebitnih dodatnih argumentov funkcije `func`,\n",
    "* `n` je število vozlišč Gaussove integracije, privzeto `n=5`.\n",
    "\n",
    "Funkcija vrne terko z rezultatom integriranja `val` in vrednost `None`: `(val, None)`\n",
    "\n",
    "\n",
    "Za več informacij glejte [dokumentacijo](https://docs.scipy.org/doc/scipy/reference/generated/scipy.integrate.fixed_quad.html)."
   ]
  },
  {
   "cell_type": "markdown",
   "metadata": {
    "slideshow": {
     "slide_type": "subslide"
    }
   },
   "source": [
    "Poglejmo primer od zgoraj:"
   ]
  },
  {
   "cell_type": "code",
   "execution_count": 64,
   "metadata": {},
   "outputs": [
    {
     "data": {
      "image/png": "[encoded data removed]",
      "text/latex": [
       "$$1.44042294912$$"
      ],
      "text/plain": [
       "1.44042294912"
      ]
     },
     "execution_count": 64,
     "metadata": {},
     "output_type": "execute_result"
    }
   ],
   "source": [
    "from scipy.integrate import fixed_quad\n",
    "fixed_quad(f, a=1, b=2, n=3)[0]"
   ]
  },
  {
   "cell_type": "markdown",
   "metadata": {
    "slideshow": {
     "slide_type": "subslide"
    }
   },
   "source": [
    "Rezultat je enak predhodnemu:"
   ]
  },
  {
   "cell_type": "code",
   "execution_count": 65,
   "metadata": {},
   "outputs": [
    {
     "data": {
      "image/png": "[encoded data removed]",
      "text/latex": [
       "$$1.44042294912$$"
      ],
      "text/plain": [
       "1.44042294912"
      ]
     },
     "execution_count": 65,
     "metadata": {},
     "output_type": "execute_result"
    }
   ],
   "source": [
    "Gaussova(fun=f, a=1., b=2., vozlišč=3)"
   ]
  },
  {
   "cell_type": "markdown",
   "metadata": {
    "slideshow": {
     "slide_type": "slide"
    }
   },
   "source": [
    "# ``scipy.integrate``"
   ]
  },
  {
   "cell_type": "markdown",
   "metadata": {},
   "source": [
    "``scipy.integrate`` je močno orodje za numerično integriranje (glejte [dokumentacijo](https://docs.scipy.org/doc/scipy/reference/integrate.html)). V nadajevanju si bomo pogledali nekatere funkcije.\n",
    "\n",
    "## Intergracijske funkcije, ki zahtevajo definicijsko *funkcijo*:\n",
    "\n",
    "* `quad(func, a, b[, args, full_output, ...])`\tizračuna določeni integral `func(x)` v mejah [`a`, `b`],\n",
    "* `dblquad(func, a, b, gfun, hfun[, args, ...])`\tizračuna določeni integral `func(x,y)`,\n",
    "* `tplquad(func, a, b, gfun, hfun, qfun, rfun)`\tizračuna določeni integral `func(x,y,z)`,\n",
    "* `nquad(func, ranges[, args, opts, full_output])`\tizračuna določeni integral $n$ dimenzijske funkcije `func(...)`,\n",
    "* `romberg(function, a, b[, args, tol, rtol, ...])`\tintegracija Romberg za funkcijo `function`,"
   ]
  },
  {
   "cell_type": "markdown",
   "metadata": {
    "slideshow": {
     "slide_type": "subslide"
    }
   },
   "source": [
    "### `scipy.integrate.quad`\n",
    "Poglejmo si zelo uporabno funkcijo za integriranje [`scipy.integrate.quad`](https://docs.scipy.org/doc/scipy/reference/generated/scipy.integrate.quad.html#scipy.integrate.quad):\n",
    "\n",
    "```python\n",
    "quad(func, a, b, args=(), full_output=0, epsabs=1.49e-08, epsrel=1.49e-08, limit=50, points=None, weight=None, wvar=None, wopts=None, maxp1=50, limlst=50)\n",
    "```\n",
    "\n",
    "Izbrani parametri so:\n",
    "\n",
    "* `func` python funkcija, ki jo integriramo,\n",
    "* `a` spodnja meja integriranja (lahko se uporabi `np.inf` za mejo v neskončnosti),\n",
    "* `b` zgornja meja integriranja (lahko se uporabi `np.inf` za mejo v neskončnosti),\n",
    "* `full_output` za prikaz vseh rezultatov, privzeto 0,\n",
    "* `epsabs` dovoljena absolutna napaka,\n",
    "* `epsrel` dovoljena relativna napaka."
   ]
  },
  {
   "cell_type": "markdown",
   "metadata": {
    "slideshow": {
     "slide_type": "subslide"
    }
   },
   "source": [
    "Pogljemo primer od zgoraj:"
   ]
  },
  {
   "cell_type": "code",
   "execution_count": 66,
   "metadata": {
    "collapsed": true
   },
   "outputs": [],
   "source": [
    "from scipy import integrate"
   ]
  },
  {
   "cell_type": "code",
   "execution_count": 67,
   "metadata": {},
   "outputs": [
    {
     "data": {
      "image/png": "[encoded data removed]",
      "text/latex": [
       "$$\\left ( 1.4404224209802095, \\quad 1.5991901369585387e-14\\right )$$"
      ],
      "text/plain": [
       "(1.4404224209802095, 1.5991901369585387e-14)"
      ]
     },
     "execution_count": 67,
     "metadata": {},
     "output_type": "execute_result"
    }
   ],
   "source": [
    "integrate.quad(f, a=1, b=2)"
   ]
  },
  {
   "cell_type": "markdown",
   "metadata": {
    "slideshow": {
     "slide_type": "subslide"
    }
   },
   "source": [
    "### `scipy.integrate.dblquad`\n",
    "\n",
    "Gre za podobno funkcijo kot `quad` vendar za integriranje po dveh spremenljivkah [`scipy.integrate.dblquad`](https://docs.scipy.org/doc/scipy/reference/generated/scipy.integrate.dblquad.html#scipy.integrate.dblquad).\n",
    "Funkcija `dblquad` izračuna dvojni integral `func(y, x)` v mejah od `x = [a, b]` in `y = [gfun(x), hfun(x)]`.\n",
    "\n",
    "```python\n",
    "dblquad(func, a, b, gfun, hfun, args=(), epsabs=1.49e-08, epsrel=1.49e-08)\n",
    "```\n",
    "\n",
    "Izbrani parametri so:\n",
    "\n",
    "* `func` je Python funkcija, ki jo integriramo,\n",
    "* `a` je spodnja meja integriranja `x` (lahko se uporabi `np.inf` za mejo v neskončnosti),\n",
    "* `b` je zgornja meja integriranja `x` (lahko se uporabi `np.inf` za mejo v neskončnosti),\n",
    "* `gfun` je Python funkcija, ki definira spodnjo mejo `y` v odvisnosti od `x`\n",
    "* `hfun` je Python funkcija, ki definira zgornjo mejo `y` v odvisnosti od `x`."
   ]
  },
  {
   "cell_type": "markdown",
   "metadata": {
    "slideshow": {
     "slide_type": "subslide"
    }
   },
   "source": [
    "Pogljemo primer izračuna površine polkroga s pomerom 1:\n",
    "\n",
    "$$\\int_{-1}^{1}\\left(\\int_0^{\\sqrt{1-x^2}}1\\,\\textrm{d}y\\right)\\,\\textrm{d}x=\\frac{\\pi}{2}$$"
   ]
  },
  {
   "cell_type": "markdown",
   "metadata": {
    "slideshow": {
     "slide_type": "subslide"
    }
   },
   "source": [
    "Definirajmo ustrezne Python funkcije in izračunajmo rezultat:"
   ]
  },
  {
   "cell_type": "code",
   "execution_count": 68,
   "metadata": {},
   "outputs": [
    {
     "data": {
      "image/png": "[encoded data removed]",
      "text/latex": [
       "$$\\left ( 1.5707963267948986, \\quad 1.0002356720661965e-09\\right )$$"
      ],
      "text/plain": [
       "(1.5707963267948986, 1.0002356720661965e-09)"
      ]
     },
     "execution_count": 68,
     "metadata": {},
     "output_type": "execute_result"
    }
   ],
   "source": [
    "def func(y, x): # integracijska funkcija je enostavna, konstanta = 1!\n",
    "    return 1.\n",
    "def gfun(x):    # spodnja meja = 0\n",
    "    return 0.\n",
    "def hfun(x):    # zgornja meja\n",
    "    return np.sqrt(1-x**2)\n",
    "integrate.dblquad(func=func, a=-1, b=1, gfun=gfun, hfun=hfun)"
   ]
  },
  {
   "cell_type": "markdown",
   "metadata": {
    "slideshow": {
     "slide_type": "subslide"
    }
   },
   "source": [
    "## Intergracijske funkcije, ki zahtevajo tabelo vrednosti:\n",
    "\n",
    "* `trapz(y[, x, dx, axis])` sestavljenego trapeznego pravilo,\n",
    "* `cumtrapz(y[, x, dx, axis, initial])` kumulativno sestavljenego trapeznego pravila (vrne rezultat v vsakem vozlišču),\n",
    "* `simps(y[, x, dx, axis, even])`\tSimpsonova 1/3 metoda,\n",
    "* `romb(y[, dx, axis, show])`\tRombergova metoda."
   ]
  },
  {
   "cell_type": "markdown",
   "metadata": {
    "slideshow": {
     "slide_type": "subslide"
    }
   },
   "source": [
    "Tukaj si bomo na primeru ogledali funkcijo `cumtrapz`. Kot primer si zamislimo primer enačbe $F=m\\,\\ddot x$, ko jo želimo integrirati in izračunati hitrost ter pomik. Definirajmo najprej funkcijo za pospešek:"
   ]
  },
  {
   "cell_type": "code",
   "execution_count": 69,
   "metadata": {
    "collapsed": true
   },
   "outputs": [],
   "source": [
    "def pospešek(t):\n",
    "    F = np.sin(t)\n",
    "    m = 1\n",
    "    return F/m"
   ]
  },
  {
   "cell_type": "markdown",
   "metadata": {
    "slideshow": {
     "slide_type": "subslide"
    }
   },
   "source": [
    "Zanima nas dogajanje v času 3 sekund:"
   ]
  },
  {
   "cell_type": "code",
   "execution_count": 70,
   "metadata": {
    "collapsed": true
   },
   "outputs": [],
   "source": [
    "t, h = np.linspace(0, 3, 100, retstep=True)"
   ]
  },
  {
   "cell_type": "markdown",
   "metadata": {
    "slideshow": {
     "slide_type": "subslide"
    }
   },
   "source": [
    "Izračunajmo tabelo pospeškov ter nato integrirajmo za hitrost (pri tem je pomembno, da definiramo začetno vrednost):"
   ]
  },
  {
   "cell_type": "code",
   "execution_count": 71,
   "metadata": {
    "collapsed": true
   },
   "outputs": [],
   "source": [
    "a = pospešek(t)\n",
    "v = integrate.cumtrapz(y=a, dx=h, initial=0)"
   ]
  },
  {
   "cell_type": "markdown",
   "metadata": {
    "slideshow": {
     "slide_type": "subslide"
    }
   },
   "source": [
    "Hitrost sedaj še enkrat integrirajmo, da izračunamo pot:"
   ]
  },
  {
   "cell_type": "code",
   "execution_count": 72,
   "metadata": {
    "collapsed": true
   },
   "outputs": [],
   "source": [
    "s = integrate.cumtrapz(y=v, dx=h, initial=0)"
   ]
  },
  {
   "cell_type": "markdown",
   "metadata": {
    "slideshow": {
     "slide_type": "subslide"
    }
   },
   "source": [
    "In prikažimo rezultat:"
   ]
  },
  {
   "cell_type": "code",
   "execution_count": 73,
   "metadata": {},
   "outputs": [
    {
     "data": {
      "image/png": "[encoded data removed]",
      "text/plain": [
       "<matplotlib.figure.Figure at 0x18ab4903828>"
      ]
     },
     "metadata": {},
     "output_type": "display_data"
    }
   ],
   "source": [
    "plt.plot(t, a, label='Pospesek')\n",
    "plt.plot(t, v, label='Hitrost')\n",
    "plt.plot(t, s, label='Pot')\n",
    "plt.xlabel('$t$ [s]')\n",
    "plt.legend();"
   ]
  },
  {
   "cell_type": "markdown",
   "metadata": {
    "slideshow": {
     "slide_type": "slide"
    }
   },
   "source": [
    "# Nekaj vprašanj za razmislek!"
   ]
  },
  {
   "cell_type": "markdown",
   "metadata": {},
   "source": [
    "1. Na sliki (vir: J. Slavič: Dinamika, meh. nihanja..., 2014) je prikazan trikotnik s stranicami dolžine $a$, $b$, debelino $h$ in gostoto $\\rho$.\n",
    "<img src=\"./fig/Slavic_2014_str_242_slika_5.4.png\" width=200>\n",
    "V simbolni obliki določite masni vztrajnostni moment glede na prikazano os $y$:\n",
    "$$J_{yy}=\\int_0^b y^2\\,\\rho\\,h\\,(a-a/b\\,y)\\,\\textrm{d}y.$$\n",
    "Upoštevajte tudi: $m=a\\,b\\,h\\,\\rho/2$. Za izmišljene vrednosti izračunajte numerični rezultat.\n",
    "* Izračunajte integral tudi numerično. Uporabite ``scipy.integrate`` in integrirajte glede na pravila: trapezno, Simpsonovo 1/3. Rezultat primerjajte tudi z Gaussovo kvadraturo.\n",
    "Raziščite natančnost in hitrost metod.\n",
    "* Preštudirajte ``scipy.special.legendre``, ki vam vrne objekt ``orthopoly1d``. Ta objekt ima metodo ``weights``, ki vrne seznam ``[x, w, mu0]`` vrednosti, ki jih uporabimo pri Gaussovi kvadraturi. (Če vsega ne razumete, ne skrbite preveč, bo asistent pokazal/komentiral). Opazite lahko, da smo vrednosti izpeljali na predavanjih!\n",
    "* S pomočjo zgoraj pridobljenih uteži in vozlišč izračunajte integral s pomočjo Gaussove kvadrature: $\\sum_iw_i\\,f(x_i)$. Pazite na transformacijo mej.\n",
    "* Preprost integral $\\int_0^2x^2\\,dx$ izrabite za prikaz trapeznega in Simpsonovega 1/3 pravila (osnovno pravilo, ne sestavljeno). Uteži izračunajte z uporabo ``scipy``.\n",
    "* Integral predhodne točke razširite za sestavljeno trapezno pravilo (lastna koda). Prikažite vpliv števila odsekov, primerjte napako izračuna s predhodnim številom odsekov in prikažite konvergenco.\n",
    "* Integral predhodne točke razširite za sestavljeno Simpsonovo 1/3 pravilo (lastna koda). Prikažite vpliv števila odsekov, primerjte napako izračuna s predhodnim številom odsekov in prikažite konvergenco.\n",
    "* Z različnimi metodami izračunajte integrala (namig: vse metode niso primerne):\n",
    "$$\\int_1^2\\frac{\\sin(x)}{\\sqrt{x}}$$\n",
    "in\n",
    "$$\\int_0^1\\frac{\\sin(x)}{\\sqrt{x}}.$$\n",
    "* S pomočjo numeričnega integriranja določite ekvivalentno silo porazdeljene obremenitve ($Q$) ter njeno prijemališče vzdolž nosilca ($x_Q$) dolžine $L = 2\\,$m. Konstanta obremenitve: $q_0 = 5\\,$kN/m.\n",
    "<img src=\"./fig/nal-num_integriranje_1-1.jpg\" width=350>\n",
    "Rešitev: \n",
    "ekvivalentna obremenitev $Q = \\int_0^L{q(x) \\mathrm{d}x}$, pozicija (težišče) $x_Q = \\frac{ \\int_0^L{x\\,q(x) \\mathrm{d}x} }{ \\int_0^L{q(x) \\mathrm{d}x} }$"
   ]
  },
  {
   "cell_type": "markdown",
   "metadata": {
    "slideshow": {
     "slide_type": "slide"
    }
   },
   "source": [
    "# Dodatno"
   ]
  },
  {
   "cell_type": "markdown",
   "metadata": {},
   "source": [
    "1. Obravnavajte prikazan enoosni primer, obremenjen s porazdeljeno obremenitvijo $n(x)$ ter točkovno silo $F=10\\,$kN. Dolžina palice je $L = 2\\,$m, konstanta $n_0 = 15\\,$kN/m in $EA = 200000\\,\\mathrm{MPa} \\times 50×50\\, \\mathrm{mm^2}$.\n",
    "<img src=\"./fig/nal-num_integriranje_2-2.jpg\" width=350>\n",
    "Naloga: \n",
    "    1. S pomočjo simbolnega integriranja določite funkcijo notranje osne sile $N(x)$.\n",
    "    * S pomočjo numeričnega integriranja izračunajte pomik prostega konca palice $u_0$."
   ]
  }
 ],
 "metadata": {
  "anaconda-cloud": {},
  "celltoolbar": "Slideshow",
  "kernelspec": {
   "display_name": "Python 3",
   "language": "python",
   "name": "python3"
  },
  "language_info": {
   "codemirror_mode": {
    "name": "ipython",
    "version": 3
   },
   "file_extension": ".py",
   "mimetype": "text/x-python",
   "name": "python",
   "nbconvert_exporter": "python",
   "pygments_lexer": "ipython3",
   "version": "3.6.3"
  },
  "latex_envs": {
   "bibliofile": "biblio.bib",
   "cite_by": "apalike",
   "current_citInitial": 1,
   "eqLabelWithNumbers": true,
   "eqNumInitial": 0
  },
  "livereveal": {
   "theme": "sky",
   "transition": "default",
   "width": 1200
  },
  "nav_menu": {
   "height": "353px",
   "width": "481px"
  },
  "toc": {
   "colors": {
    "hover_highlight": "#DAA520",
    "navigate_num": "#000000",
    "navigate_text": "#333333",
    "running_highlight": "#FF0000",
    "selected_highlight": "#FFD700",
    "sidebar_border": "#EEEEEE",
    "wrapper_background": "#FFFFFF"
   },
   "moveMenuLeft": true,
   "nav_menu": {
    "height": "281px",
    "width": "252px"
   },
   "navigate_menu": true,
   "number_sections": true,
   "sideBar": true,
   "threshold": "2",
   "toc_cell": true,
   "toc_position": {
    "height": "549px",
    "left": "0px",
    "right": "20px",
    "top": "106px",
    "width": "185px"
   },
   "toc_section_display": "none",
   "toc_window_display": false,
   "widenNotebook": false
  }
 },
 "nbformat": 4,
 "nbformat_minor": 1
}
