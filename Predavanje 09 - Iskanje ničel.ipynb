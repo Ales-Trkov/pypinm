{
 "cells": [
  {
   "cell_type": "markdown",
   "metadata": {
    "slideshow": {
     "slide_type": "slide"
    }
   },
   "source": [
    "<font size=\"2\"> [github.com/jankoslavic/pypinm](http://github.com/jankoslavic/pypinm)</font>\n",
    "\n",
    "<center>\n",
    "<img width=300 src=\"./fig/ladisk.png\">\n",
    "<br>\n",
    "<font size=\"7\" color=\"f00e0e\" face=\"garamond\"><b>Iskanje ničel</b></font>\n",
    "<br><br>\n",
    "<font size=\"4\">\n",
    "[izr.prof. dr. Janko Slavič](http://www.ladisk.si/~slavic)\n",
    "</font>\n",
    "<br><br>\n",
    "<font size=\"2\">Julij 2017</font>\n",
    "\n",
    "</center>"
   ]
  },
  {
   "cell_type": "markdown",
   "metadata": {
    "slideshow": {
     "slide_type": "subslide"
    },
    "toc": "true"
   },
   "source": [
    "# Table of Contents\n",
    " <p><div class=\"lev1\"><a href=\"#Uvod\"><span class=\"toc-item-num\">1&nbsp;&nbsp;</span>Uvod</a></div><div class=\"lev2\"><a href=\"#Število-ničel\"><span class=\"toc-item-num\">1.1&nbsp;&nbsp;</span>Število ničel</a></div><div class=\"lev2\"><a href=\"#Omejitve-funkcije-$f$\"><span class=\"toc-item-num\">1.2&nbsp;&nbsp;</span>Omejitve funkcije $f$</a></div><div class=\"lev1\"><a href=\"#Inkrementalno-reševanje\"><span class=\"toc-item-num\">2&nbsp;&nbsp;</span>Inkrementalno reševanje</a></div><div class=\"lev2\"><a href=\"#Numerična-implementacija\"><span class=\"toc-item-num\">2.1&nbsp;&nbsp;</span>Numerična implementacija</a></div><div class=\"lev2\"><a href=\"#Iterativna-inkrementalna-metoda\"><span class=\"toc-item-num\">2.2&nbsp;&nbsp;</span>Iterativna inkrementalna metoda</a></div><div class=\"lev1\"><a href=\"#Bisekcijska-metoda\"><span class=\"toc-item-num\">3&nbsp;&nbsp;</span>Bisekcijska metoda</a></div><div class=\"lev2\"><a href=\"#Konvergenca\"><span class=\"toc-item-num\">3.1&nbsp;&nbsp;</span>Konvergenca</a></div><div class=\"lev2\"><a href=\"#Numerična-implementacija\"><span class=\"toc-item-num\">3.2&nbsp;&nbsp;</span>Numerična implementacija</a></div><div class=\"lev2\"><a href=\"#Uporaba-scipy.optimize.bisect\"><span class=\"toc-item-num\">3.3&nbsp;&nbsp;</span>Uporaba <code>scipy.optimize.bisect</code></a></div><div class=\"lev1\"><a href=\"#Sekantna-metoda\"><span class=\"toc-item-num\">4&nbsp;&nbsp;</span>Sekantna metoda</a></div><div class=\"lev2\"><a href=\"#Konvergenca-in-red-konvergence\"><span class=\"toc-item-num\">4.1&nbsp;&nbsp;</span>Konvergenca in red konvergence</a></div><div class=\"lev2\"><a href=\"#Numerična-implementacija\"><span class=\"toc-item-num\">4.2&nbsp;&nbsp;</span>Numerična implementacija</a></div><div class=\"lev2\"><a href=\"#Uporaba-scipy.optimize.newton\"><span class=\"toc-item-num\">4.3&nbsp;&nbsp;</span>Uporaba <code>scipy.optimize.newton</code></a></div><div class=\"lev1\"><a href=\"#Newton-Raphsonova-metoda\"><span class=\"toc-item-num\">5&nbsp;&nbsp;</span>Newton-Raphsonova metoda</a></div><div class=\"lev2\"><a href=\"#Omejitve-Newton-Raphsonove-metode\"><span class=\"toc-item-num\">5.1&nbsp;&nbsp;</span>Omejitve Newton-Raphsonove metode</a></div><div class=\"lev2\"><a href=\"#Red-konvegence\"><span class=\"toc-item-num\">5.2&nbsp;&nbsp;</span>Red konvegence</a></div><div class=\"lev2\"><a href=\"#Numerična-implementacija\"><span class=\"toc-item-num\">5.3&nbsp;&nbsp;</span>Numerična implementacija</a></div><div class=\"lev2\"><a href=\"#Uporaba-scipy.optimize.newton\"><span class=\"toc-item-num\">5.4&nbsp;&nbsp;</span>Uporaba <code>scipy.optimize.newton</code></a></div><div class=\"lev1\"><a href=\"#Iskanje-ničel-sistema-enačb\"><span class=\"toc-item-num\">6&nbsp;&nbsp;</span>Iskanje ničel sistema enačb</a></div><div class=\"lev2\"><a href=\"#Numerična-implementacija\"><span class=\"toc-item-num\">6.1&nbsp;&nbsp;</span>Numerična implementacija</a></div><div class=\"lev2\"><a href=\"#Uporaba-scipy.optimize.root\"><span class=\"toc-item-num\">6.2&nbsp;&nbsp;</span>Uporaba <code>scipy.optimize.root</code></a></div><div class=\"lev2\"><a href=\"#Uporaba-sympy.solve\"><span class=\"toc-item-num\">6.3&nbsp;&nbsp;</span>Uporaba <code>sympy.solve</code></a></div><div class=\"lev1\"><a href=\"#Nekaj-vprašanj-za-razmislek!\"><span class=\"toc-item-num\">7&nbsp;&nbsp;</span>Nekaj vprašanj za razmislek!</a></div><div class=\"lev1\"><a href=\"#Dodatno\"><span class=\"toc-item-num\">8&nbsp;&nbsp;</span>Dodatno</a></div>"
   ]
  },
  {
   "cell_type": "code",
   "execution_count": 1,
   "metadata": {
    "slideshow": {
     "slide_type": "subslide"
    }
   },
   "outputs": [],
   "source": [
    "import numpy as np\n",
    "import matplotlib.pyplot as plt\n",
    "%matplotlib inline\n",
    "import sympy as sym\n",
    "sym.init_printing()"
   ]
  },
  {
   "cell_type": "markdown",
   "metadata": {
    "slideshow": {
     "slide_type": "slide"
    }
   },
   "source": [
    "# Uvod"
   ]
  },
  {
   "cell_type": "markdown",
   "metadata": {},
   "source": [
    "V okviru iskanja ničel obravnavamo poljubno funkcijo $f$, ki je odvisna od spremenljivke $x$ in iščemo rešitev:\n",
    "$$f(x)=0.$$"
   ]
  },
  {
   "cell_type": "markdown",
   "metadata": {},
   "source": [
    "Rešitvam rečemo tudi *ničle* (angl. *roots*). "
   ]
  },
  {
   "cell_type": "markdown",
   "metadata": {
    "slideshow": {
     "slide_type": "subslide"
    }
   },
   "source": [
    "## Število ničel"
   ]
  },
  {
   "cell_type": "markdown",
   "metadata": {},
   "source": [
    "Ničle lahko ne obstajajo, lahko je ena, lahko jih je več. Kot primer si poglejmo:\n",
    "$$\\sin(x) - 20 = 0$$\n",
    "nima rešitve, nadalje:\n",
    "$$x - 20 = 0$$"
   ]
  },
  {
   "cell_type": "markdown",
   "metadata": {
    "slideshow": {
     "slide_type": "subslide"
    }
   },
   "source": [
    "ima eno rešitev ($x=20$) in:\n",
    "$$\\sin(x) = 0$$\n",
    "ima neskončno mnogo rešitev ($x=i\\,\\pi$, $i=\\dots, 2, 1, 0,1,2,\\dots$).\n",
    "\n",
    "Primer večkratne (dvakratne) ničle je tudi izraz:\n",
    "$$f = (x - 1) \\cdot (x - 1) = x^2 - 2\\,x+1.$$"
   ]
  },
  {
   "cell_type": "markdown",
   "metadata": {
    "slideshow": {
     "slide_type": "subslide"
    }
   },
   "source": [
    "## Omejitve funkcije $f$"
   ]
  },
  {
   "cell_type": "markdown",
   "metadata": {},
   "source": [
    "Najprej bomo za funkcijo $f$ zahtevali samo pogoj, da na podanem zaprtem intervalu $[x_1, x_2]$ za poljubno vrednost $x$ vrne neko vrednost $f(x)$, pozneje bomo za funkcijo zahtevali tudi zveznost in odvod."
   ]
  },
  {
   "cell_type": "markdown",
   "metadata": {
    "slideshow": {
     "slide_type": "slide"
    }
   },
   "source": [
    "# Inkrementalno reševanje"
   ]
  },
  {
   "cell_type": "markdown",
   "metadata": {},
   "source": [
    "Definirajmo najprej primer funkcije:"
   ]
  },
  {
   "cell_type": "code",
   "execution_count": 2,
   "metadata": {},
   "outputs": [
    {
     "data": {
      "text/plain": [
       "array([ 9.94949106,  0.73460351, -0.68409457])"
      ]
     },
     "execution_count": 2,
     "metadata": {},
     "output_type": "execute_result"
    }
   ],
   "source": [
    "p = np.poly1d([1, -10, 0, 5])\n",
    "#print(p)\n",
    "np.roots(p)"
   ]
  },
  {
   "cell_type": "code",
   "execution_count": 3,
   "metadata": {},
   "outputs": [],
   "source": [
    "def f(x):\n",
    "    return x**3 - 10*x**2 + 5"
   ]
  },
  {
   "cell_type": "markdown",
   "metadata": {
    "slideshow": {
     "slide_type": "subslide"
    }
   },
   "source": [
    "Za določitev ničel je zelo priporočeno funkcijo narisati (to sicer ni najbolj uporabno/splošno):"
   ]
  },
  {
   "cell_type": "code",
   "execution_count": 4,
   "metadata": {
    "scrolled": true
   },
   "outputs": [
    {
     "data": {
      "image/png": "[encoded data removed]",
      "text/plain": [
       "<matplotlib.figure.Figure at 0x11d8a4cc4a8>"
      ]
     },
     "metadata": {},
     "output_type": "display_data"
    }
   ],
   "source": [
    "x_r = np.linspace(-2, 10, 100)\n",
    "plt.axhline(0, color='r') #Opazimo, da je ničla,\n",
    "plt.plot(x_r, f(x_r));    #da je ničla nekje blizu $x = 0.7$."
   ]
  },
  {
   "cell_type": "markdown",
   "metadata": {
    "slideshow": {
     "slide_type": "subslide"
    }
   },
   "source": [
    "Inkrementalno reševanje temelji na ideji, da v kolikor imata $f(x_1)$ in $f(x_2)$ različne predznake, potem je vmes verjetno vsaj ena ničla. Zaprti interval $[x_1, x_2]$ razdelimo torej na odseke širine $\\Delta x$; na odseku, kjer opazimo spremembo predznaka, je verjetno ničla."
   ]
  },
  {
   "cell_type": "markdown",
   "metadata": {
    "slideshow": {
     "slide_type": "subslide"
    }
   },
   "source": [
    "Inkrementalna metoda ima nekatere slabosti:\n",
    "* je relativno počasna,\n",
    "* mogoče je zgrešiti dve ničli, ki sta zelo blizu,\n",
    "* večkratne ničle in lokalni ekstrem, ki se samo dotika abscise, ne bo zaznan,\n",
    "* poli funkcij so lahko napačno karakterizirani kot ničle\\*.\n",
    "\n",
    "\\* Poli pri $f(x)=\\tan(x)$ bi bili napačno karakterizirani kot ničle; glejte sliko spodaj."
   ]
  },
  {
   "cell_type": "code",
   "execution_count": 5,
   "metadata": {
    "slideshow": {
     "slide_type": "subslide"
    }
   },
   "outputs": [
    {
     "data": {
      "image/png": "[encoded data removed]",
      "text/plain": [
       "<matplotlib.figure.Figure at 0x11d8a8f0320>"
      ]
     },
     "metadata": {},
     "output_type": "display_data"
    }
   ],
   "source": [
    "x_p = np.pi*np.linspace(-1, 1, 100)\n",
    "plt.plot(x_p, np.tan(x_p));\n",
    "plt.ylim(-10, 10);"
   ]
  },
  {
   "cell_type": "markdown",
   "metadata": {
    "slideshow": {
     "slide_type": "subslide"
    }
   },
   "source": [
    "Inkrementalna metoda spada med t. i. *zaprte* metode (angl. *bracketed*), saj išče ničlo samo na intervalu $[x_1, x_2]$. Pozneje bomo spoznali tudi *odprte* metode, ki lahko konvergirajo k ničli zunaj podanega intervala."
   ]
  },
  {
   "cell_type": "markdown",
   "metadata": {
    "slideshow": {
     "slide_type": "subslide"
    }
   },
   "source": [
    "## Numerična implementacija"
   ]
  },
  {
   "cell_type": "markdown",
   "metadata": {},
   "source": [
    "Poglejmo si sedaj inkrementalno iskanje ničel:"
   ]
  },
  {
   "cell_type": "code",
   "execution_count": 6,
   "metadata": {},
   "outputs": [],
   "source": [
    "def inkrementalna(fun, x1, x2, dx):\n",
    "    \"\"\" Vrne interval (x1, x2) kjer verjetno leži ničla\n",
    "    \n",
    "    :param fun: funkcija katere ničle iščemo\n",
    "    :param x1:  spodnja meja iskanja\n",
    "    :param x2:  zgornja meja iskanja\n",
    "    :param dx:  inkrement iskanja\n",
    "    \"\"\"\n",
    "    x_d = np.arange(x1, x2, dx) # pripravimo x vrednosti\n",
    "    f_d = np.sign(fun(x_d))       # pripravimo predznake funkcije\n",
    "    f_d = f_d[1:]*f_d[:-1]      # vektorsko odštejemo\n",
    "    i = np.argmin(f_d)          # prvi prehod skozi ničlo\n",
    "    return np.asarray([x_d[i], x_d[i+1]])"
   ]
  },
  {
   "cell_type": "code",
   "execution_count": 7,
   "metadata": {
    "slideshow": {
     "slide_type": "subslide"
    }
   },
   "outputs": [
    {
     "data": {
      "text/plain": [
       "array([ 0.734,  0.735])"
      ]
     },
     "execution_count": 7,
     "metadata": {},
     "output_type": "execute_result"
    }
   ],
   "source": [
    "rez = inkrementalna(f, 0., 1., 0.001)\n",
    "rez"
   ]
  },
  {
   "cell_type": "code",
   "execution_count": 8,
   "metadata": {},
   "outputs": [
    {
     "data": {
      "image/png": "[encoded data removed]",
      "text/plain": [
       "<matplotlib.figure.Figure at 0x11d8a9ea518>"
      ]
     },
     "metadata": {},
     "output_type": "display_data"
    }
   ],
   "source": [
    "x_r = np.linspace(0, 1, 50)\n",
    "plt.plot(x_r, f(x_r))\n",
    "plt.plot(rez, f(rez), 'ro')\n",
    "plt.xlim(rez)\n",
    "plt.ylim(-0.001, 0.001);"
   ]
  },
  {
   "cell_type": "markdown",
   "metadata": {
    "slideshow": {
     "slide_type": "subslide"
    }
   },
   "source": [
    "Da smo torej na intervalu $[0, 1]$ zgoraj našli rezultat z natančnostjo $\\Delta x=0,001$, smo morali 1000-krat klicati funkcijo $f(x)$. Za podobno natančnost lahko z malenkost bolj premišljenim pristopom bistveno zmanjšamo število klicev. "
   ]
  },
  {
   "cell_type": "markdown",
   "metadata": {
    "slideshow": {
     "slide_type": "subslide"
    }
   },
   "source": [
    "## Iterativna inkrementalna metoda"
   ]
  },
  {
   "cell_type": "markdown",
   "metadata": {},
   "source": [
    "Če v prvi iteraciji najprej z inkrementalno metodo omejimo interval iskanja ničle pri relativno velikem koraku, potem v naslednji iteraciji korak zmanjšamo in interval iskanja ničle omejimo na še ožje področje. Z iteracijami zaključimo, ko smo zadovoljni s širino najdenega intervala. Poglejmo si implementacijo:"
   ]
  },
  {
   "cell_type": "code",
   "execution_count": 9,
   "metadata": {
    "slideshow": {
     "slide_type": "subslide"
    }
   },
   "outputs": [],
   "source": [
    "def inkrementalna_super(fun, x1, x2, iteracij=3):\n",
    "    \"\"\" Vrne interval (x1, x2) kjer verjetno leži ničla\n",
    "    \n",
    "    :param fun: funkcija katere ničle iščemo\n",
    "    :param x1:  spodnja meja iskanja\n",
    "    :param x2:  zgornja meja iskanja\n",
    "    :iteraci:   število iteracij inkrementalne metode\n",
    "    \"\"\"\n",
    "    for i in range(iteracij):\n",
    "        dx = (x2 - x1)/10\n",
    "        x1, x2 = inkrementalna(fun, x1, x2, dx)\n",
    "    return np.asarray([x1, x2])"
   ]
  },
  {
   "cell_type": "markdown",
   "metadata": {
    "slideshow": {
     "slide_type": "subslide"
    }
   },
   "source": [
    "V 30 klicih funkcije $f(x)$ tako dobimo podobno natančnost kot prej v 1000:"
   ]
  },
  {
   "cell_type": "code",
   "execution_count": 10,
   "metadata": {},
   "outputs": [
    {
     "data": {
      "text/plain": [
       "array([ 0.734,  0.735])"
      ]
     },
     "execution_count": 10,
     "metadata": {},
     "output_type": "execute_result"
    }
   ],
   "source": [
    "rez30 = inkrementalna_super(f, 0., 1., iteracij=3)\n",
    "rez30"
   ]
  },
  {
   "cell_type": "code",
   "execution_count": 11,
   "metadata": {},
   "outputs": [
    {
     "data": {
      "text/plain": [
       "array([ 0.734,  0.735])"
      ]
     },
     "execution_count": 11,
     "metadata": {},
     "output_type": "execute_result"
    }
   ],
   "source": [
    "rez"
   ]
  },
  {
   "cell_type": "markdown",
   "metadata": {},
   "source": [
    "Seveda pa lahko natančnost bistveno izboljšamo z večanjem števila iteracij:"
   ]
  },
  {
   "cell_type": "code",
   "execution_count": 12,
   "metadata": {},
   "outputs": [
    {
     "data": {
      "text/plain": [
       "array([ 0.7346035 ,  0.73460351])"
      ]
     },
     "execution_count": 12,
     "metadata": {},
     "output_type": "execute_result"
    }
   ],
   "source": [
    "rez80 = inkrementalna_super(f, 0., 1., iteracij=8)\n",
    "rez80"
   ]
  },
  {
   "cell_type": "markdown",
   "metadata": {
    "slideshow": {
     "slide_type": "slide"
    }
   },
   "source": [
    "# Bisekcijska metoda"
   ]
  },
  {
   "cell_type": "markdown",
   "metadata": {},
   "source": [
    "Na intervalu $[x_1, x_2]$, kjer vemo, da obstaja ničla (predznaka $f(x_1)$ in $f(x_2)$ se razlikujeta), lahko uporabimo t. i. *bisekcijsko metodo*."
   ]
  },
  {
   "cell_type": "markdown",
   "metadata": {
    "slideshow": {
     "slide_type": "subslide"
    }
   },
   "source": [
    "Ideja je relativno enostavna:\n",
    "* interval $[x_1, x_2]$ razdelimo na pol: $x_3 = (x_1+x_2)/2$,\n",
    "* če imata $f(x_1)$ in $f(x_3)$ različne predznake, potem vemo, da je nov interval ničle $[x_1, x_3]$, sicer pa: $[x_3, x_2]$,\n",
    "* glede na predhodni korak definiramo nov zaprt interval $[x_1, x_2]$ in nadaljujemo z iterativnim postopkom, dokler ne dosežemo željene natančnosti $\\varepsilon=|x_2-x_1|$."
   ]
  },
  {
   "cell_type": "markdown",
   "metadata": {
    "slideshow": {
     "slide_type": "subslide"
    }
   },
   "source": [
    "Bisekcijska metoda spada med *zaprte* metode, ki vrne ničlo na podanem intervalu $[x_1, x_2]$ (seveda morata biti predznaka $f(x_1)$ in $f(x_2)$ različna."
   ]
  },
  {
   "cell_type": "markdown",
   "metadata": {
    "slideshow": {
     "slide_type": "subslide"
    }
   },
   "source": [
    "## Konvergenca"
   ]
  },
  {
   "cell_type": "markdown",
   "metadata": {},
   "source": [
    "Če v začetku začnemo z intervalom $\\Delta x = |x_2-x_1|$, potem je natančnost bisekcijske metode po prvem koraku bisekcije $\\varepsilon = \\Delta x/2$, po drugem koraku: $\\varepsilon = \\Delta x/2^2$ in po $n$ korakih $\\varepsilon = \\Delta x/2^n$. "
   ]
  },
  {
   "cell_type": "markdown",
   "metadata": {
    "slideshow": {
     "slide_type": "subslide"
    }
   },
   "source": [
    "Ponavadi imamo zahtevo po končni natančnosti $\\varepsilon$ in iz zgornje enačbe lahko izpeljemo število potrebnih korakov:\n",
    "$$n = \\frac{\\log\\left(\\frac{\\Delta x}{\\varepsilon}\\right)}{\\log(2)}.$$\n",
    "Seveda je število korakov na koncu celo število."
   ]
  },
  {
   "cell_type": "markdown",
   "metadata": {
    "slideshow": {
     "slide_type": "subslide"
    }
   },
   "source": [
    "## Numerična implementacija"
   ]
  },
  {
   "cell_type": "code",
   "execution_count": 13,
   "metadata": {},
   "outputs": [],
   "source": [
    "def bisekcija(fun, x1, x2, tol=1e-3, izpis=True):\n",
    "    \"\"\" Vrne ničlo z natančnostjo tol\n",
    "    \n",
    "    :param fun: funkcija katere ničle iščemo\n",
    "    :param x1:  spodnja meja iskanja\n",
    "    :param x2:  zgornja meja iskanja\n",
    "    :param tol: zahtevana natančnost\n",
    "    :izpis:     ali na koncu izpiše kratko poročilo\n",
    "    \"\"\"\n",
    "    n = np.ceil( np.log(np.abs(x2-x1)/tol)/np.log(2) ).astype(int) # števil iteracij\n",
    "    for i in range(n):\n",
    "        x3 = (x1 + x2) / 2\n",
    "        if np.sign(fun(x3))!=np.sign(fun(x1)):\n",
    "            x2 = x3\n",
    "        else:\n",
    "            x1 = x3\n",
    "    if izpis:\n",
    "        print('Število iteracij: {:g}'.format(n))\n",
    "    return (x1+x2)/2"
   ]
  },
  {
   "cell_type": "code",
   "execution_count": 14,
   "metadata": {
    "slideshow": {
     "slide_type": "subslide"
    }
   },
   "outputs": [
    {
     "name": "stdout",
     "output_type": "stream",
     "text": [
      "Število iteracij: 10\n"
     ]
    },
    {
     "data": {
      "image/png": "[encoded data removed]",
      "text/latex": [
       "$$0.73486328125$$"
      ],
      "text/plain": [
       "0.73486328125"
      ]
     },
     "execution_count": 14,
     "metadata": {},
     "output_type": "execute_result"
    }
   ],
   "source": [
    "bisekcija(f, 0, 1, tol=1e-3)"
   ]
  },
  {
   "cell_type": "code",
   "execution_count": 15,
   "metadata": {},
   "outputs": [
    {
     "data": {
      "text/plain": [
       "array([ 0.734,  0.735])"
      ]
     },
     "execution_count": 15,
     "metadata": {},
     "output_type": "execute_result"
    }
   ],
   "source": [
    "rez30"
   ]
  },
  {
   "cell_type": "markdown",
   "metadata": {
    "slideshow": {
     "slide_type": "subslide"
    }
   },
   "source": [
    "Dodamo lahko še nekaj kontrole napak:"
   ]
  },
  {
   "cell_type": "code",
   "execution_count": 16,
   "metadata": {},
   "outputs": [],
   "source": [
    "def bisekcija(fun, x1, x2, tol=1e-3, izpis=True):\n",
    "    \"\"\" Vrne ničlo z natančnostjo tol\n",
    "    \n",
    "    :param fun: funkcija katere ničle iščemo\n",
    "    :param x1:  spodnja meja iskanja\n",
    "    :param x2:  zgornja meja iskanja\n",
    "    :param tol: zahtevana natančnost\n",
    "    :izpis:     ali na koncu izpiše kratko poročilo\n",
    "    \"\"\"\n",
    "    if np.sign(fun(x1))==np.sign(fun(x2)):\n",
    "        raise Exception('Ničla ni izolirana. Root is not bracketed.')\n",
    "    n = np.ceil( np.log(np.abs(x2-x1)/tol)/np.log(2) ).astype(int) # števil iteracij\n",
    "    for i in range(n):\n",
    "        x3 = (x1 + x2) / 2\n",
    "        f1 = fun(x1)\n",
    "        f3 = fun(x3)\n",
    "        f2 = fun(x2)\n",
    "        if np.abs(f3) > np.abs(f1) and np.abs(f3) > np.abs(f2):\n",
    "            raise Exception('Bisekcija ne konvergira, verjetnost pola.')\n",
    "        if np.sign(fun(x3))!=np.sign(fun(x1)):\n",
    "            x2 = x3\n",
    "        else:\n",
    "            x1 = x3\n",
    "    if izpis:\n",
    "        print('Število iteracij: {:g}'.format(n))\n",
    "    return (x1+x2)/2"
   ]
  },
  {
   "cell_type": "code",
   "execution_count": 17,
   "metadata": {
    "slideshow": {
     "slide_type": "subslide"
    }
   },
   "outputs": [
    {
     "name": "stdout",
     "output_type": "stream",
     "text": [
      "10000 loops, best of 3: 90.6 µs per loop\n"
     ]
    }
   ],
   "source": [
    "%%timeit\n",
    "bisekcija(f, 0., 1., izpis=False)"
   ]
  },
  {
   "cell_type": "code",
   "execution_count": 18,
   "metadata": {},
   "outputs": [
    {
     "name": "stdout",
     "output_type": "stream",
     "text": [
      "Število iteracij: 10\n"
     ]
    },
    {
     "data": {
      "image/png": "[encoded data removed]",
      "text/latex": [
       "$$0.73486328125$$"
      ],
      "text/plain": [
       "0.73486328125"
      ]
     },
     "execution_count": 18,
     "metadata": {},
     "output_type": "execute_result"
    }
   ],
   "source": [
    "bisekcija(f, 0., 1., izpis=True)"
   ]
  },
  {
   "cell_type": "markdown",
   "metadata": {
    "slideshow": {
     "slide_type": "subslide"
    }
   },
   "source": [
    "Poglejmo sedaj iskanje ničel funkcije ``tan``:"
   ]
  },
  {
   "cell_type": "code",
   "execution_count": 19,
   "metadata": {},
   "outputs": [
    {
     "data": {
      "image/png": "[encoded data removed]",
      "text/plain": [
       "<matplotlib.figure.Figure at 0x11d8aa17dd8>"
      ]
     },
     "metadata": {},
     "output_type": "display_data"
    }
   ],
   "source": [
    "x_p = np.linspace(-1, 3, 100)\n",
    "plt.plot(x_p, np.tan(x_p));\n",
    "plt.ylim(-10, 10);"
   ]
  },
  {
   "cell_type": "code",
   "execution_count": 20,
   "metadata": {
    "slideshow": {
     "slide_type": "subslide"
    }
   },
   "outputs": [
    {
     "name": "stdout",
     "output_type": "stream",
     "text": [
      "Število iteracij: 21\n"
     ]
    },
    {
     "data": {
      "image/png": "[encoded data removed]",
      "text/latex": [
       "$$-4.76837158203125e-07$$"
      ],
      "text/plain": [
       "-4.76837158203125e-07"
      ]
     },
     "execution_count": 20,
     "metadata": {},
     "output_type": "execute_result"
    }
   ],
   "source": [
    "bisekcija(np.tan, -1, 1, tol=1e-6)"
   ]
  },
  {
   "cell_type": "code",
   "execution_count": 21,
   "metadata": {},
   "outputs": [
    {
     "ename": "Exception",
     "evalue": "Bisekcija ne konvergira, verjetnost pola.",
     "output_type": "error",
     "traceback": [
      "\u001b[1;31m---------------------------------------------------------------------------\u001b[0m",
      "\u001b[1;31mException\u001b[0m                                 Traceback (most recent call last)",
      "\u001b[1;32m<ipython-input-21-166d7f617d17>\u001b[0m in \u001b[0;36m<module>\u001b[1;34m()\u001b[0m\n\u001b[1;32m----> 1\u001b[1;33m \u001b[0mbisekcija\u001b[0m\u001b[1;33m(\u001b[0m\u001b[0mnp\u001b[0m\u001b[1;33m.\u001b[0m\u001b[0mtan\u001b[0m\u001b[1;33m,\u001b[0m \u001b[1;36m1\u001b[0m\u001b[1;33m,\u001b[0m \u001b[1;36m2\u001b[0m\u001b[1;33m,\u001b[0m \u001b[0mtol\u001b[0m\u001b[1;33m=\u001b[0m\u001b[1;36m1e-3\u001b[0m\u001b[1;33m)\u001b[0m\u001b[1;33m\u001b[0m\u001b[0m\n\u001b[0m",
      "\u001b[1;32m<ipython-input-16-4b12efe32758>\u001b[0m in \u001b[0;36mbisekcija\u001b[1;34m(fun, x1, x2, tol, izpis)\u001b[0m\n\u001b[0;32m     17\u001b[0m         \u001b[0mf2\u001b[0m \u001b[1;33m=\u001b[0m \u001b[0mfun\u001b[0m\u001b[1;33m(\u001b[0m\u001b[0mx2\u001b[0m\u001b[1;33m)\u001b[0m\u001b[1;33m\u001b[0m\u001b[0m\n\u001b[0;32m     18\u001b[0m         \u001b[1;32mif\u001b[0m \u001b[0mnp\u001b[0m\u001b[1;33m.\u001b[0m\u001b[0mabs\u001b[0m\u001b[1;33m(\u001b[0m\u001b[0mf3\u001b[0m\u001b[1;33m)\u001b[0m \u001b[1;33m>\u001b[0m \u001b[0mnp\u001b[0m\u001b[1;33m.\u001b[0m\u001b[0mabs\u001b[0m\u001b[1;33m(\u001b[0m\u001b[0mf1\u001b[0m\u001b[1;33m)\u001b[0m \u001b[1;32mand\u001b[0m \u001b[0mnp\u001b[0m\u001b[1;33m.\u001b[0m\u001b[0mabs\u001b[0m\u001b[1;33m(\u001b[0m\u001b[0mf3\u001b[0m\u001b[1;33m)\u001b[0m \u001b[1;33m>\u001b[0m \u001b[0mnp\u001b[0m\u001b[1;33m.\u001b[0m\u001b[0mabs\u001b[0m\u001b[1;33m(\u001b[0m\u001b[0mf2\u001b[0m\u001b[1;33m)\u001b[0m\u001b[1;33m:\u001b[0m\u001b[1;33m\u001b[0m\u001b[0m\n\u001b[1;32m---> 19\u001b[1;33m             \u001b[1;32mraise\u001b[0m \u001b[0mException\u001b[0m\u001b[1;33m(\u001b[0m\u001b[1;34m'Bisekcija ne konvergira, verjetnost pola.'\u001b[0m\u001b[1;33m)\u001b[0m\u001b[1;33m\u001b[0m\u001b[0m\n\u001b[0m\u001b[0;32m     20\u001b[0m         \u001b[1;32mif\u001b[0m \u001b[0mnp\u001b[0m\u001b[1;33m.\u001b[0m\u001b[0msign\u001b[0m\u001b[1;33m(\u001b[0m\u001b[0mfun\u001b[0m\u001b[1;33m(\u001b[0m\u001b[0mx3\u001b[0m\u001b[1;33m)\u001b[0m\u001b[1;33m)\u001b[0m\u001b[1;33m!=\u001b[0m\u001b[0mnp\u001b[0m\u001b[1;33m.\u001b[0m\u001b[0msign\u001b[0m\u001b[1;33m(\u001b[0m\u001b[0mfun\u001b[0m\u001b[1;33m(\u001b[0m\u001b[0mx1\u001b[0m\u001b[1;33m)\u001b[0m\u001b[1;33m)\u001b[0m\u001b[1;33m:\u001b[0m\u001b[1;33m\u001b[0m\u001b[0m\n\u001b[0;32m     21\u001b[0m             \u001b[0mx2\u001b[0m \u001b[1;33m=\u001b[0m \u001b[0mx3\u001b[0m\u001b[1;33m\u001b[0m\u001b[0m\n",
      "\u001b[1;31mException\u001b[0m: Bisekcija ne konvergira, verjetnost pola."
     ]
    }
   ],
   "source": [
    "bisekcija(np.tan, 1, 2, tol=1e-3)"
   ]
  },
  {
   "cell_type": "markdown",
   "metadata": {
    "slideshow": {
     "slide_type": "subslide"
    }
   },
   "source": [
    "## Uporaba ``scipy.optimize.bisect``"
   ]
  },
  {
   "cell_type": "markdown",
   "metadata": {},
   "source": [
    "Bisekcijska metoda je *počasna*, vendar zanesljiva metoda iskanja ničel in je implementirana znotraj ``scipy``:"
   ]
  },
  {
   "cell_type": "code",
   "execution_count": null,
   "metadata": {},
   "outputs": [],
   "source": [
    "from scipy import optimize"
   ]
  },
  {
   "cell_type": "markdown",
   "metadata": {},
   "source": [
    "Poglejmo najprej hitrost:"
   ]
  },
  {
   "cell_type": "code",
   "execution_count": null,
   "metadata": {},
   "outputs": [],
   "source": [
    "%%timeit\n",
    "optimize.bisect(f, 0, 1, xtol=1e-3)"
   ]
  },
  {
   "cell_type": "code",
   "execution_count": null,
   "metadata": {},
   "outputs": [],
   "source": [
    "optimize.bisect(f, 0, 1, xtol=1e-3)"
   ]
  },
  {
   "cell_type": "markdown",
   "metadata": {
    "slideshow": {
     "slide_type": "subslide"
    }
   },
   "source": [
    "Ugotovimo, da je ``scipy`` implementacija približno 10-krat hitrejša od zgoraj predstavljene."
   ]
  },
  {
   "cell_type": "markdown",
   "metadata": {},
   "source": [
    "Poglejmo si še iskanje funkcije $\\tan()$:"
   ]
  },
  {
   "cell_type": "code",
   "execution_count": null,
   "metadata": {},
   "outputs": [],
   "source": [
    "optimize.bisect(np.tan, -1, 1)"
   ]
  },
  {
   "cell_type": "markdown",
   "metadata": {},
   "source": [
    "Pr tem je potrebna previdenost, saj funkcija zahteva zvezno funkcijo ($\\tan()$ v polu ni zvezna) in zato lahko dobimo napačno rešitev (*naša* implementacija, definirana zgoraj takšne rešitve ne dovoli):"
   ]
  },
  {
   "cell_type": "code",
   "execution_count": null,
   "metadata": {},
   "outputs": [],
   "source": [
    "optimize.bisect(np.tan, 1, 2)"
   ]
  },
  {
   "cell_type": "markdown",
   "metadata": {
    "slideshow": {
     "slide_type": "slide"
    }
   },
   "source": [
    "# Sekantna metoda"
   ]
  },
  {
   "cell_type": "markdown",
   "metadata": {},
   "source": [
    "Sekantna metoda zahteva dve začetni vrednosti $f(x_1)$ in $f(x_2)$. Ob predpostavki linearne interpolacije med točkama 1 in 2, se določi točka $x_3$, kjer ima linearna funkcija ničlo. $x_3$ predstavlja nov približek ničle.\n",
    "<img src='./fig/sekantna_metoda.png' width=400>"
   ]
  },
  {
   "cell_type": "markdown",
   "metadata": {
    "slideshow": {
     "slide_type": "subslide"
    }
   },
   "source": [
    "Glede na sliko lahko zapišemo (podobni trikotniki):\n",
    "$$\\frac{f(x_2)}{x_3 − x_2}= \\frac{f(x_1) − f(x_2)}{x_2 − x_1}.$$\n",
    "Sledi, da je novi približek ničle:\n",
    "$$x_3= x_2+f(x_2)\\,\\frac{x_2 − x_1}{f(x_1) − f(x_2)}.$$\n",
    "V naslednjem koraku pri sekantni metodi izvedemo sledeče zamenjave $x_1=x_2$ in $x_2=x_3$ (sekantna metoda ne zahteva, da je ničla izolirana)."
   ]
  },
  {
   "cell_type": "markdown",
   "metadata": {},
   "source": [
    "Sekantna metoda spada med *odprte* metode, saj lahko najde ničlo, ki se nahaja zunaj območja $[x_1, x_2]$."
   ]
  },
  {
   "cell_type": "markdown",
   "metadata": {
    "slideshow": {
     "slide_type": "subslide"
    }
   },
   "source": [
    "## Konvergenca in red konvergence"
   ]
  },
  {
   "cell_type": "markdown",
   "metadata": {},
   "source": [
    "Tukaj konvergence ne moremo natančno oceniti, lahko pa ocenimo **red konvergence**.\n",
    "\n",
    "Če z $\\varepsilon$ označimo napako metode in če bi z vsakim korakom iteracije napako linearno zmanjševali, bi to zapisali:\n",
    "$$\\varepsilon_n = C\\,\\varepsilon_{n-1},$$\n",
    "kjer bi bila $C$ konstanta. Pri predhodno obravnavani bisekcijski metodi napako na vsakem koraku zmanjšamo za $1/2$ ($\\varepsilon_n/\\varepsilon_{n-1} = C = 1/2$). *Bisekcijska metoda ima red konvergence 1.* "
   ]
  },
  {
   "cell_type": "markdown",
   "metadata": {
    "slideshow": {
     "slide_type": "subslide"
    }
   },
   "source": [
    "V nasprotju z bisekcijsko metodo pa je red konvergence *sekantne metode boljši* (t. i. *superlinearna*), literatura navaja vrednost: \n",
    "$$\\varepsilon_n = C\\,\\varepsilon_{n-1}^{1.618}.$$\n",
    "\n",
    "Še boljšo (kvadratično) konvergenco ima t. i. *Ridderjeva* metoda. Ridderjeva metoda je zaprtega tipa in je sorodna sekantni metodi, vendar si je tukaj ne bomo podrobno ogledali. "
   ]
  },
  {
   "cell_type": "markdown",
   "metadata": {
    "slideshow": {
     "slide_type": "subslide"
    }
   },
   "source": [
    "## Numerična implementacija"
   ]
  },
  {
   "cell_type": "code",
   "execution_count": null,
   "metadata": {},
   "outputs": [],
   "source": [
    "def sekantna(fun, x1, x2, tol=1e-3, max_iter=50, izpis=True):\n",
    "    \"\"\" Vrne ničlo z natančnostjo tol\n",
    "    \n",
    "    :param fun: funkcija katere ničle iščemo\n",
    "    :param x1:  spodnja meja iskanja\n",
    "    :param x2:  zgornja meja iskanja\n",
    "    :param tol: zahtevana natančnost\n",
    "    :max_iter:  maksimalno število iteracij preden se izvajanje prekine\n",
    "    :izpis:     ali na koncu izpiše kratko poročilo\n",
    "    \"\"\"\n",
    "    for i in range(max_iter):\n",
    "        f1 = fun(x1)\n",
    "        f2 = fun(x2)\n",
    "        x3 = x2 + f2 * (x2 - x1)/(f1 - f2)\n",
    "        x1 = x2\n",
    "        x2 = x3\n",
    "        if izpis:\n",
    "            print('{:g}. korak: x1={:g}, x2={:g}.'.format(i+1, x1, x2))\n",
    "        if np.abs(x2-x1)<tol:\n",
    "            if izpis:\n",
    "                print('Število iteracij: {:g}'.format(i+1))\n",
    "            return (x1+x2)/2\n",
    "    raise Exception('Metoda po {:g} iteracijah ne konvergira'.format(max_iter))"
   ]
  },
  {
   "cell_type": "code",
   "execution_count": null,
   "metadata": {
    "slideshow": {
     "slide_type": "subslide"
    }
   },
   "outputs": [],
   "source": [
    "%%timeit\n",
    "sekantna(f, 0, 1., tol=1.e-8, izpis=False)"
   ]
  },
  {
   "cell_type": "markdown",
   "metadata": {},
   "source": [
    "Poglejmo si primer, ko bo rešitev zunaj podanega intervala:"
   ]
  },
  {
   "cell_type": "code",
   "execution_count": null,
   "metadata": {},
   "outputs": [],
   "source": [
    "sekantna(np.tan, 1, 2)"
   ]
  },
  {
   "cell_type": "markdown",
   "metadata": {
    "slideshow": {
     "slide_type": "subslide"
    }
   },
   "source": [
    "## Uporaba ``scipy.optimize.newton``"
   ]
  },
  {
   "cell_type": "markdown",
   "metadata": {},
   "source": [
    "Znotraj ``scipy`` je sekantna metoda definirana v okviru ``scipy.optimize.newton`` funkcije; če namreč ne podamo funkcije, ki definira prvi odvod, potem je uporabljena sekantna metoda (glejte pomoč)."
   ]
  },
  {
   "cell_type": "code",
   "execution_count": null,
   "metadata": {},
   "outputs": [],
   "source": [
    "%%timeit\n",
    "optimize.newton(f, 0.1)"
   ]
  },
  {
   "cell_type": "code",
   "execution_count": null,
   "metadata": {},
   "outputs": [],
   "source": [
    "%%timeit\n",
    "optimize.ridder(f, 0, 1)"
   ]
  },
  {
   "cell_type": "markdown",
   "metadata": {},
   "source": [
    "Poglejmo še Ridderjevo metodo na primeru pola funkcije $\\tan()$:"
   ]
  },
  {
   "cell_type": "code",
   "execution_count": null,
   "metadata": {},
   "outputs": [],
   "source": [
    "optimize.ridder(np.tan, 1, 2)"
   ]
  },
  {
   "cell_type": "markdown",
   "metadata": {
    "slideshow": {
     "slide_type": "slide"
    }
   },
   "source": [
    "# Newton-Raphsonova metoda"
   ]
  },
  {
   "cell_type": "markdown",
   "metadata": {
    "slideshow": {
     "slide_type": "subslide"
    }
   },
   "source": [
    "Newton-Raphsonova (tudi tangentna) metoda naj bi bila najboljša metoda iskanja ničel. Potrebuje samo eno začetno vrednost $f(x)$ in odvod $f'(x)$, je hitra in preprosta; vendar pa ima slabost: zahteva odvod funkcije $f'(x)$.\n",
    "<img src=\"./fig/newton-raphson.png\" width=400>"
   ]
  },
  {
   "cell_type": "markdown",
   "metadata": {
    "slideshow": {
     "slide_type": "subslide"
    }
   },
   "source": [
    "Poglejmo si podrobnosti: vrednost funkcije $f(x_{i+1})$ določimo s pomočjo Taylorjeve vrste glede na lego $x_i$:\n",
    "$$f(x_{i+1})=f(x_i)+f'(x_i)\\,\\left(x_{i+1}-x_i\\right)+O^2\\left(x_{i+1}-x_i\\right),$$\n",
    "če naj bo pri $x_{i+1}$ vrednost funkcije nič, potem velja:\n",
    "$$0=f(x_i)+f'(x_i)\\,\\left(x_{i+1}-x_i\\right)+O^2\\left(x_{i+1}-x_i\\right).$$"
   ]
  },
  {
   "cell_type": "markdown",
   "metadata": {
    "slideshow": {
     "slide_type": "subslide"
    }
   },
   "source": [
    "Če zanemarimo višje rede Taylorjeve vrste, potem lahko izpeljemo:\n",
    "$$x_{i+1}=x_i-\\frac{f(x_i)}{f'(x_i)}.$$\n",
    "\n",
    "*Newton-Raphsonova* metoda ponavlja zgornji pristop dokler ni izpolnjen pogoj:\n",
    "$$|x_{i+1}-x_i|<\\varepsilon.$$"
   ]
  },
  {
   "cell_type": "markdown",
   "metadata": {
    "slideshow": {
     "slide_type": "subslide"
    }
   },
   "source": [
    "## Omejitve Newton-Raphsonove metode"
   ]
  },
  {
   "cell_type": "markdown",
   "metadata": {},
   "source": [
    "Zgoraj smo omenili, da je metoda ena izmed boljših in tudi najbolj pogosto uporabljenih metod za iskanje ničel. Ima pa tudi nekaj slabosti/omejitev:\n",
    "* spada med *odprte* metode, \n",
    "* konvergenca je zagotovljena le v dovolj majhni okolici rešitve, sicer rešitev divergira ali konvergira proti kakšni drugi rešitvi,\n",
    "* treba je poznati odvod funkcije (alternativa je numerični odvod funkcije ali bolje, uporaba sekantne metode)."
   ]
  },
  {
   "cell_type": "markdown",
   "metadata": {
    "slideshow": {
     "slide_type": "subslide"
    }
   },
   "source": [
    "## Red konvegence"
   ]
  },
  {
   "cell_type": "markdown",
   "metadata": {},
   "source": [
    "Red konvergence Newton-Raphsonove metode je kvadratičen: \n",
    "$$\\varepsilon_n = C\\,\\varepsilon_{n-1}^{2},$$\n",
    "kjer je konstanta:\n",
    "$$C=-\\frac{f''(x)}{2\\,f'(x)}.$$"
   ]
  },
  {
   "cell_type": "markdown",
   "metadata": {
    "slideshow": {
     "slide_type": "subslide"
    }
   },
   "source": [
    "Konvergenca Newton-Raphsonove metode je torej hitra; vendar pa to velja lokalno, ko smo enkrat relativno blizu ničle. Kadar smo pa relativno daleč, pa bi za ustrezeno aproksimacijo s Taylorjevo vrsto potrebovali tudi višje člene (bomo videli spodaj, da ``scipy`` implementacija omogoča dodajanje tudi drugega odvoda)."
   ]
  },
  {
   "cell_type": "markdown",
   "metadata": {
    "slideshow": {
     "slide_type": "subslide"
    }
   },
   "source": [
    "## Numerična implementacija"
   ]
  },
  {
   "cell_type": "code",
   "execution_count": 22,
   "metadata": {},
   "outputs": [],
   "source": [
    "def newton_raphson(fun, dfun, x0, tol=1e-3, max_iter=50, izpis=True):\n",
    "    \"\"\" Vrne ničlo z natančnostjo tol\n",
    "    \n",
    "    :param fun:  funkcija katere ničle iščemo\n",
    "    :param dfun: f'\n",
    "    :param x0:   začetni približek\n",
    "    :param tol:  zahtevana natančnost\n",
    "    :max_iter:  maksimalno število iteracij preden se izvajanje prekine\n",
    "    :izpis:     ali na koncu izpiše kratko poročilo\n",
    "    \"\"\"\n",
    "    for i in range(max_iter):\n",
    "        x1 = x0 - fun(x0)/dfun(x0)\n",
    "        if np.abs(x1-x0)<tol:\n",
    "            if izpis:\n",
    "                print('Število iteracij: {:g}'.format(i))\n",
    "            return x1\n",
    "        x0 = x1\n",
    "    raise Exception('Metoda po {:g} iteracijah ne konvergira'.format(max_iter))"
   ]
  },
  {
   "cell_type": "code",
   "execution_count": 23,
   "metadata": {
    "slideshow": {
     "slide_type": "subslide"
    }
   },
   "outputs": [],
   "source": [
    "#??f"
   ]
  },
  {
   "cell_type": "code",
   "execution_count": 24,
   "metadata": {},
   "outputs": [],
   "source": [
    "def df(x):\n",
    "    return 3*x**2 - 20*x\n",
    "def ddf(x):\n",
    "    return 6*x - 20"
   ]
  },
  {
   "cell_type": "code",
   "execution_count": 25,
   "metadata": {},
   "outputs": [
    {
     "name": "stdout",
     "output_type": "stream",
     "text": [
      "Število iteracij: 3\n"
     ]
    },
    {
     "data": {
      "image/png": "[encoded data removed]",
      "text/latex": [
       "$$0.7346035077893185$$"
      ],
      "text/plain": [
       "0.7346035077893185"
      ]
     },
     "execution_count": 25,
     "metadata": {},
     "output_type": "execute_result"
    }
   ],
   "source": [
    "newton_raphson(f, df, 1, tol=1e-6)"
   ]
  },
  {
   "cell_type": "code",
   "execution_count": 26,
   "metadata": {
    "slideshow": {
     "slide_type": "-"
    }
   },
   "outputs": [
    {
     "name": "stdout",
     "output_type": "stream",
     "text": [
      "100000 loops, best of 3: 12.8 µs per loop\n"
     ]
    }
   ],
   "source": [
    "%%timeit\n",
    "newton_raphson(f, df, 1, tol=1.5e-8, izpis=False)"
   ]
  },
  {
   "cell_type": "markdown",
   "metadata": {
    "slideshow": {
     "slide_type": "subslide"
    }
   },
   "source": [
    "## Uporaba ``scipy.optimize.newton``"
   ]
  },
  {
   "cell_type": "code",
   "execution_count": 27,
   "metadata": {},
   "outputs": [
    {
     "ename": "NameError",
     "evalue": "name 'optimize' is not defined",
     "output_type": "error",
     "traceback": [
      "\u001b[1;31m---------------------------------------------------------------------------\u001b[0m",
      "\u001b[1;31mNameError\u001b[0m                                 Traceback (most recent call last)",
      "\u001b[1;32m<ipython-input-27-803db4b924fe>\u001b[0m in \u001b[0;36m<module>\u001b[1;34m()\u001b[0m\n\u001b[1;32m----> 1\u001b[1;33m \u001b[0mget_ipython\u001b[0m\u001b[1;33m(\u001b[0m\u001b[1;33m)\u001b[0m\u001b[1;33m.\u001b[0m\u001b[0mrun_cell_magic\u001b[0m\u001b[1;33m(\u001b[0m\u001b[1;34m'timeit'\u001b[0m\u001b[1;33m,\u001b[0m \u001b[1;34m''\u001b[0m\u001b[1;33m,\u001b[0m \u001b[1;34m'optimize.newton(f, 1, df)'\u001b[0m\u001b[1;33m)\u001b[0m\u001b[1;33m\u001b[0m\u001b[0m\n\u001b[0m",
      "\u001b[1;32mC:\\Users\\Janko\\Anaconda3\\lib\\site-packages\\IPython\\core\\interactiveshell.py\u001b[0m in \u001b[0;36mrun_cell_magic\u001b[1;34m(self, magic_name, line, cell)\u001b[0m\n\u001b[0;32m   2113\u001b[0m             \u001b[0mmagic_arg_s\u001b[0m \u001b[1;33m=\u001b[0m \u001b[0mself\u001b[0m\u001b[1;33m.\u001b[0m\u001b[0mvar_expand\u001b[0m\u001b[1;33m(\u001b[0m\u001b[0mline\u001b[0m\u001b[1;33m,\u001b[0m \u001b[0mstack_depth\u001b[0m\u001b[1;33m)\u001b[0m\u001b[1;33m\u001b[0m\u001b[0m\n\u001b[0;32m   2114\u001b[0m             \u001b[1;32mwith\u001b[0m \u001b[0mself\u001b[0m\u001b[1;33m.\u001b[0m\u001b[0mbuiltin_trap\u001b[0m\u001b[1;33m:\u001b[0m\u001b[1;33m\u001b[0m\u001b[0m\n\u001b[1;32m-> 2115\u001b[1;33m                 \u001b[0mresult\u001b[0m \u001b[1;33m=\u001b[0m \u001b[0mfn\u001b[0m\u001b[1;33m(\u001b[0m\u001b[0mmagic_arg_s\u001b[0m\u001b[1;33m,\u001b[0m \u001b[0mcell\u001b[0m\u001b[1;33m)\u001b[0m\u001b[1;33m\u001b[0m\u001b[0m\n\u001b[0m\u001b[0;32m   2116\u001b[0m             \u001b[1;32mreturn\u001b[0m \u001b[0mresult\u001b[0m\u001b[1;33m\u001b[0m\u001b[0m\n\u001b[0;32m   2117\u001b[0m \u001b[1;33m\u001b[0m\u001b[0m\n",
      "\u001b[1;32m<decorator-gen-59>\u001b[0m in \u001b[0;36mtimeit\u001b[1;34m(self, line, cell)\u001b[0m\n",
      "\u001b[1;32mC:\\Users\\Janko\\Anaconda3\\lib\\site-packages\\IPython\\core\\magic.py\u001b[0m in \u001b[0;36m<lambda>\u001b[1;34m(f, *a, **k)\u001b[0m\n\u001b[0;32m    186\u001b[0m     \u001b[1;31m# but it's overkill for just that one bit of state.\u001b[0m\u001b[1;33m\u001b[0m\u001b[1;33m\u001b[0m\u001b[0m\n\u001b[0;32m    187\u001b[0m     \u001b[1;32mdef\u001b[0m \u001b[0mmagic_deco\u001b[0m\u001b[1;33m(\u001b[0m\u001b[0marg\u001b[0m\u001b[1;33m)\u001b[0m\u001b[1;33m:\u001b[0m\u001b[1;33m\u001b[0m\u001b[0m\n\u001b[1;32m--> 188\u001b[1;33m         \u001b[0mcall\u001b[0m \u001b[1;33m=\u001b[0m \u001b[1;32mlambda\u001b[0m \u001b[0mf\u001b[0m\u001b[1;33m,\u001b[0m \u001b[1;33m*\u001b[0m\u001b[0ma\u001b[0m\u001b[1;33m,\u001b[0m \u001b[1;33m**\u001b[0m\u001b[0mk\u001b[0m\u001b[1;33m:\u001b[0m \u001b[0mf\u001b[0m\u001b[1;33m(\u001b[0m\u001b[1;33m*\u001b[0m\u001b[0ma\u001b[0m\u001b[1;33m,\u001b[0m \u001b[1;33m**\u001b[0m\u001b[0mk\u001b[0m\u001b[1;33m)\u001b[0m\u001b[1;33m\u001b[0m\u001b[0m\n\u001b[0m\u001b[0;32m    189\u001b[0m \u001b[1;33m\u001b[0m\u001b[0m\n\u001b[0;32m    190\u001b[0m         \u001b[1;32mif\u001b[0m \u001b[0mcallable\u001b[0m\u001b[1;33m(\u001b[0m\u001b[0marg\u001b[0m\u001b[1;33m)\u001b[0m\u001b[1;33m:\u001b[0m\u001b[1;33m\u001b[0m\u001b[0m\n",
      "\u001b[1;32mC:\\Users\\Janko\\Anaconda3\\lib\\site-packages\\IPython\\core\\magics\\execution.py\u001b[0m in \u001b[0;36mtimeit\u001b[1;34m(self, line, cell)\u001b[0m\n\u001b[0;32m   1047\u001b[0m             \u001b[0mnumber\u001b[0m \u001b[1;33m=\u001b[0m \u001b[1;36m1\u001b[0m\u001b[1;33m\u001b[0m\u001b[0m\n\u001b[0;32m   1048\u001b[0m             \u001b[1;32mfor\u001b[0m \u001b[0m_\u001b[0m \u001b[1;32min\u001b[0m \u001b[0mrange\u001b[0m\u001b[1;33m(\u001b[0m\u001b[1;36m1\u001b[0m\u001b[1;33m,\u001b[0m \u001b[1;36m10\u001b[0m\u001b[1;33m)\u001b[0m\u001b[1;33m:\u001b[0m\u001b[1;33m\u001b[0m\u001b[0m\n\u001b[1;32m-> 1049\u001b[1;33m                 \u001b[0mtime_number\u001b[0m \u001b[1;33m=\u001b[0m \u001b[0mtimer\u001b[0m\u001b[1;33m.\u001b[0m\u001b[0mtimeit\u001b[0m\u001b[1;33m(\u001b[0m\u001b[0mnumber\u001b[0m\u001b[1;33m)\u001b[0m\u001b[1;33m\u001b[0m\u001b[0m\n\u001b[0m\u001b[0;32m   1050\u001b[0m                 \u001b[0mworst_tuning\u001b[0m \u001b[1;33m=\u001b[0m \u001b[0mmax\u001b[0m\u001b[1;33m(\u001b[0m\u001b[0mworst_tuning\u001b[0m\u001b[1;33m,\u001b[0m \u001b[0mtime_number\u001b[0m \u001b[1;33m/\u001b[0m \u001b[0mnumber\u001b[0m\u001b[1;33m)\u001b[0m\u001b[1;33m\u001b[0m\u001b[0m\n\u001b[0;32m   1051\u001b[0m                 \u001b[1;32mif\u001b[0m \u001b[0mtime_number\u001b[0m \u001b[1;33m>=\u001b[0m \u001b[1;36m0.2\u001b[0m\u001b[1;33m:\u001b[0m\u001b[1;33m\u001b[0m\u001b[0m\n",
      "\u001b[1;32mC:\\Users\\Janko\\Anaconda3\\lib\\site-packages\\IPython\\core\\magics\\execution.py\u001b[0m in \u001b[0;36mtimeit\u001b[1;34m(self, number)\u001b[0m\n\u001b[0;32m    137\u001b[0m         \u001b[0mgc\u001b[0m\u001b[1;33m.\u001b[0m\u001b[0mdisable\u001b[0m\u001b[1;33m(\u001b[0m\u001b[1;33m)\u001b[0m\u001b[1;33m\u001b[0m\u001b[0m\n\u001b[0;32m    138\u001b[0m         \u001b[1;32mtry\u001b[0m\u001b[1;33m:\u001b[0m\u001b[1;33m\u001b[0m\u001b[0m\n\u001b[1;32m--> 139\u001b[1;33m             \u001b[0mtiming\u001b[0m \u001b[1;33m=\u001b[0m \u001b[0mself\u001b[0m\u001b[1;33m.\u001b[0m\u001b[0minner\u001b[0m\u001b[1;33m(\u001b[0m\u001b[0mit\u001b[0m\u001b[1;33m,\u001b[0m \u001b[0mself\u001b[0m\u001b[1;33m.\u001b[0m\u001b[0mtimer\u001b[0m\u001b[1;33m)\u001b[0m\u001b[1;33m\u001b[0m\u001b[0m\n\u001b[0m\u001b[0;32m    140\u001b[0m         \u001b[1;32mfinally\u001b[0m\u001b[1;33m:\u001b[0m\u001b[1;33m\u001b[0m\u001b[0m\n\u001b[0;32m    141\u001b[0m             \u001b[1;32mif\u001b[0m \u001b[0mgcold\u001b[0m\u001b[1;33m:\u001b[0m\u001b[1;33m\u001b[0m\u001b[0m\n",
      "\u001b[1;32m<magic-timeit>\u001b[0m in \u001b[0;36minner\u001b[1;34m(_it, _timer)\u001b[0m\n",
      "\u001b[1;31mNameError\u001b[0m: name 'optimize' is not defined"
     ]
    }
   ],
   "source": [
    "%%timeit\n",
    "optimize.newton(f, 1, df)"
   ]
  },
  {
   "cell_type": "markdown",
   "metadata": {},
   "source": [
    "Dodajo še drugi odvod:"
   ]
  },
  {
   "cell_type": "code",
   "execution_count": null,
   "metadata": {},
   "outputs": [],
   "source": [
    "optimize.newton(f, 1, df, fprime2=ddf)"
   ]
  },
  {
   "cell_type": "code",
   "execution_count": null,
   "metadata": {},
   "outputs": [],
   "source": [
    "%%timeit\n",
    "optimize.newton(f, 1, df, fprime2=ddf)"
   ]
  },
  {
   "cell_type": "markdown",
   "metadata": {
    "slideshow": {
     "slide_type": "subslide"
    }
   },
   "source": [
    "Poglejmo še funkcijo $\\tan()$:"
   ]
  },
  {
   "cell_type": "code",
   "execution_count": null,
   "metadata": {},
   "outputs": [],
   "source": [
    "x_r = np.linspace(-3, 3, 100)\n",
    "plt.plot(x_r, np.tan(x_r));\n",
    "plt.ylim(-5, 5);"
   ]
  },
  {
   "cell_type": "code",
   "execution_count": null,
   "metadata": {
    "slideshow": {
     "slide_type": "subslide"
    }
   },
   "outputs": [],
   "source": [
    "X = sym.symbols('X')\n",
    "\n",
    "sym.diff(sym.tan(X),X)"
   ]
  },
  {
   "cell_type": "code",
   "execution_count": null,
   "metadata": {},
   "outputs": [],
   "source": [
    "dtan = lambda x: np.tan(x)**2 + 1\n",
    "optimize.newton(np.tan, 2, dtan)"
   ]
  },
  {
   "cell_type": "markdown",
   "metadata": {
    "slideshow": {
     "slide_type": "slide"
    }
   },
   "source": [
    "# Iskanje ničel sistema enačb"
   ]
  },
  {
   "cell_type": "markdown",
   "metadata": {},
   "source": [
    "Tukaj bomo sedaj iskanje ničel posplošili na problem:\n",
    "$$\\mathbf{f}(\\mathbf{x})=\\mathbf{0},$$\n",
    "kar lahko zapišemo tudi v skalarni obliki:\n",
    "$$\\begin{array}{rcl}\n",
    "f_1(x_1,x_2,\\dots, x_n)&=&0\\\\\n",
    "f_2(x_1,x_2,\\dots, x_n)&=&0\\\\\n",
    "&\\vdots&\\\\\n",
    "f_n(x_1,x_2,\\dots, x_n)&=&0.\\\\\n",
    "\\end{array}$$"
   ]
  },
  {
   "cell_type": "markdown",
   "metadata": {
    "slideshow": {
     "slide_type": "subslide"
    }
   },
   "source": [
    "Sočasno iskanje ničle $n$ funkcij je bistveno bolj zahtevno kot reševanje ene same enačbe; ker je vsaka enačba zase lahko nelinearna, ima sistem takih enačb lahko več ničel in katero najdemo, je odvisno od začetnih pogojev. Ponavadi nam pri dobri izbiri začetnih pogojev pomaga fizikalni problem, ki ga rešujemo."
   ]
  },
  {
   "cell_type": "markdown",
   "metadata": {
    "slideshow": {
     "slide_type": "subslide"
    }
   },
   "source": [
    "Tudi za iskanje ničel sistema se *Newton-Raphsonova* metoda izkaže kot najenostavneša in pogosto tudi najboljša (obstajajo druge metode, ki pa so ponavadi kot variacije Newton-Raphsonove metode).\n",
    "\n",
    "Poglejmo si teoretično ozadje. Podobno kot pri skalarnem problemu, tudi tukaj začnemo z razvojem Taylorjeve vrste za $i$-to funkcijo:\n",
    "$$f_i(\\mathbf{x}+\\Delta \\mathbf{x})=f_i(\\mathbf{x})+\\sum_{j=1}^n \\frac{\\partial f_i}{\\partial x_j}\\,\\Delta x_j+O^2(\\mathbf{x}).$$"
   ]
  },
  {
   "cell_type": "markdown",
   "metadata": {
    "slideshow": {
     "slide_type": "subslide"
    }
   },
   "source": [
    "Potem ko člene reda 2 in višje zanemarimo, lahko zapišemo izraz v matrični obliki:\n",
    "$$\\mathbf{f}(\\mathbf{x}+\\Delta \\mathbf{x})=\\mathbf{f}(\\mathbf{x})+\\mathbf{J}(\\mathbf{x})\\,\\Delta \\mathbf{x},$$\n",
    "kjer je $\\mathbf{J}(\\mathbf{x})$ *Jakobijeva* matrika pri vrednostih $\\mathbf{x}$. Elementi Jakobijeve matrike so: \n",
    "$$J_{ij}=\\frac{\\partial f_i}{\\partial x_j}.$$"
   ]
  },
  {
   "cell_type": "markdown",
   "metadata": {
    "slideshow": {
     "slide_type": "subslide"
    }
   },
   "source": [
    "Če naj pri $\\mathbf{x}+\\Delta \\mathbf{x}$ najdemo ničlo, potem mora veljati:\n",
    "$$\\mathbf{0}=\\mathbf{f}(\\mathbf{x})+\\mathbf{J}(\\mathbf{x})\\,\\Delta \\mathbf{x}$$\n",
    "in torej sledi:\n",
    "$$\\underbrace{\\mathbf{J}(\\mathbf{x})}_{\\mathbf{A}}\\,\\underbrace{\\Delta \\mathbf{x}}_{\\mathbf{x}}=\\underbrace{\\mathbf{f}(\\mathbf{x})}_{\\mathbf{b}}.$$"
   ]
  },
  {
   "cell_type": "markdown",
   "metadata": {
    "slideshow": {
     "slide_type": "subslide"
    }
   },
   "source": [
    "Opazimo, da smo izpeljali sistem linearnih enačb ($\\mathbf{A}\\,\\mathbf{x}=\\mathbf{b}$), kjer je vektor neznank $\\Delta\\mathbf{x}$.\n",
    "\n",
    "Opomba: analitično definiranje Jakobijeve matrike je lahko zamudno in zato jo pogosto izračunamo kar numerično:\n",
    "$$\\frac{\\partial f_i}{\\partial x_j}\\approx\n",
    "\\frac{f_i(\\mathbf{x}+\\mathbf{e}_j\\,h)-f_i(\\mathbf{x})}{h},$$\n",
    "kjer je $h$ majhen premik in je $\\mathbf{e}_j$ enotski pomik v smeri $x_j$."
   ]
  },
  {
   "cell_type": "markdown",
   "metadata": {
    "slideshow": {
     "slide_type": "subslide"
    }
   },
   "source": [
    "## Numerična implementacija"
   ]
  },
  {
   "cell_type": "markdown",
   "metadata": {},
   "source": [
    "Najtežji del je pridobiti Jacobijevo matriko:\n",
    "* numerično si lahko pomagamo s funkcijo ``approx_fprime``, ki se nahaja v ``scipy.optimize``.\n",
    "* simbolno si lahko pomagamo s funkcijo ``jacobian`` v okviru ``sympy``."
   ]
  },
  {
   "cell_type": "markdown",
   "metadata": {
    "slideshow": {
     "slide_type": "subslide"
    }
   },
   "source": [
    "Ko imamo enkrat Jakobijevo matriko definirano, moramo rešiti sistem linearnih enačb in tako pridobimo nov približek $\\mathbf{x}$. Z iteriranjem nadaljujemo dokler ne dosežemo zahtevane konvergence.\n",
    "\n",
    "Metode numerično ne bomo implementirali, ampak si bomo pogledali, kako ničle sistema iščemo znotraj ``scipy`` paketa."
   ]
  },
  {
   "cell_type": "markdown",
   "metadata": {
    "slideshow": {
     "slide_type": "subslide"
    }
   },
   "source": [
    "## Uporaba ``scipy.optimize.root``"
   ]
  },
  {
   "cell_type": "markdown",
   "metadata": {},
   "source": [
    "Definirajmo najprej funkcijo več spremenljivk:"
   ]
  },
  {
   "cell_type": "code",
   "execution_count": null,
   "metadata": {},
   "outputs": [],
   "source": [
    "def func(x):\n",
    "    return [x[0]**3 + x[1] -2, x[1]**2 - 4]"
   ]
  },
  {
   "cell_type": "code",
   "execution_count": null,
   "metadata": {},
   "outputs": [],
   "source": [
    "optimize.root(func, [2, -1])"
   ]
  },
  {
   "cell_type": "markdown",
   "metadata": {
    "slideshow": {
     "slide_type": "subslide"
    }
   },
   "source": [
    "## Uporaba ``sympy.solve``"
   ]
  },
  {
   "cell_type": "markdown",
   "metadata": {},
   "source": [
    "Za manjše sistem lahko rešitev najdemo tudi simbolno. Poglejmo si zgornji primer:"
   ]
  },
  {
   "cell_type": "code",
   "execution_count": null,
   "metadata": {},
   "outputs": [],
   "source": [
    "x, y = sym.symbols('x, y')\n",
    "sol = sym.solve([x**3 + y -2, y**2 - 4], x, y)\n",
    "sol"
   ]
  },
  {
   "cell_type": "markdown",
   "metadata": {
    "slideshow": {
     "slide_type": "slide"
    }
   },
   "source": [
    "# Nekaj vprašanj za razmislek!"
   ]
  },
  {
   "cell_type": "markdown",
   "metadata": {},
   "source": [
    "1. V simbolni obliki definirajte izraz:\n",
    "$$f(x) = x^4 - 6.4\\,x^3 + 6.45\\,x^2 + 20.538\\,x - 31.752.$$\n",
    "* Narišite funkcijo $f(x)$. Koliko ničel pričakujemo za funkcijo $f(x)$?\n",
    "* V simbolni obliki določite ničle polinoma $f(x)$.\n",
    "* Kako preverimo, ali je ničla ekstrem?\n",
    "* Numerično najdite vse ničle z bisekcijsko metodo (uporabite ``scipy``).\n",
    "* Numerično najdite vse ničle z sekantno metodo (uporabite ``scipy``).\n",
    "* Numerično najdite vse ničle z Newton-Raphsonovo metodo (uporabite ``scipy``).\n",
    "* Podatke:\n",
    "    $$x=[0, 1, 2, 3, 4, 5]$$\n",
    "    $$y=[0.95, 0.93, 0.87, 0.77, 0.64, 0.49]$$\n",
    "  aproksimirajte s funkcijo $\\cos(a\\,x)$ (z uporabo ``scipy.optimize.curve_fit`` določite konstanto $a$).\n",
    "* Na intervalu $x=[0, 50]$ z bisekcijsko metodo poiščite vse ničle najdene funkcije $\\cos(a\\,x)$.\n",
    "* Na intervalu $x=[0, 50]$ z Newton-Raphsonovo metodo poiščite vse ničle najdene funkcije $A\\,\\cos(a\\,x)$.\n",
    "* S pomočjo ``sympy`` najdite simbolno rešitev za:\n",
    "$$x^2 + y -2=0\\qquad\\textrm{in}\\qquad  y^2 - 4=0.$$\n",
    "* Zgoraj definirani problem rešite še numerično s pomočjo ``scipy.optimize.root``.\n",
    "* Na predhodnem vprašanju preizkusite različne metode (glejte pomoč).\n",
    "* Z uporabo bisekcijske metode dimenzionirajte prikazani upogibno obremenjeni nosilec dolžine $L$ (obremenjen s točkovno silo $F$). Določite velikost polnega krožnega prereza $d$.\n",
    "<img src=\"./fig/nal-num_iskanje_nicel-1.jpg\">\n",
    "    $F = 1 \\mathrm{kN}$\n",
    "    \n",
    "    $L = 1 \\mathrm{m}$<br>\n",
    "    $\\sigma_{dop} = 120 \\mathrm{MPa}$\n",
    "    \n",
    "    Reševanje: \n",
    "    \n",
    "    $\\sigma_u \\leq \\sigma_{dop} \\to \\frac{F\\,L}{W} = \\frac{F\\,L\\,32}{\\pi\\,d^3} = \\sigma_{dop}$"
   ]
  },
  {
   "cell_type": "markdown",
   "metadata": {
    "slideshow": {
     "slide_type": "slide"
    }
   },
   "source": [
    "# Dodatno"
   ]
  },
  {
   "cell_type": "markdown",
   "metadata": {},
   "source": [
    "Tisti, ki ste navdušeni nad [Raspberry Pi](https://www.raspberrypi.org/) in uporabljate njihovo kamero (npr. [tole brez infra-rdečega filtra](https://www.raspberrypi.org/products/pi-noir-camera/)) vas bo morebiti zanimala knjižnica [picamera](http://picamera.readthedocs.org/)"
   ]
  }
 ],
 "metadata": {
  "anaconda-cloud": {},
  "celltoolbar": "Slideshow",
  "kernelspec": {
   "display_name": "Python 3",
   "language": "python",
   "name": "python3"
  },
  "language_info": {
   "codemirror_mode": {
    "name": "ipython",
    "version": 3
   },
   "file_extension": ".py",
   "mimetype": "text/x-python",
   "name": "python",
   "nbconvert_exporter": "python",
   "pygments_lexer": "ipython3",
   "version": "3.6.1"
  },
  "latex_envs": {
   "bibliofile": "biblio.bib",
   "cite_by": "apalike",
   "current_citInitial": 1,
   "eqLabelWithNumbers": true,
   "eqNumInitial": 0
  },
  "livereveal": {
   "theme": "sky",
   "transition": "default",
   "width": 1200
  },
  "nav_menu": {},
  "toc": {
   "navigate_menu": true,
   "number_sections": true,
   "sideBar": true,
   "threshold": 6,
   "toc_cell": true,
   "toc_section_display": "block",
   "toc_window_display": true
  }
 },
 "nbformat": 4,
 "nbformat_minor": 1
}
