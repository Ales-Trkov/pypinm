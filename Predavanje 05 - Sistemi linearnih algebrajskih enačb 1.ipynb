{
 "cells": [
  {
   "cell_type": "markdown",
   "metadata": {
    "slideshow": {
     "slide_type": "slide"
    }
   },
   "source": [
    "\n",
    "<font size=\"2\"> [github.com/jankoslavic/pypinm](http://github.com/jankoslavic/pypinm)</font>\n",
    "\n",
    "<center>\n",
    "<img width=300 src=\"./fig/ladisk.png\">\n",
    "<br>\n",
    "<font size=\"7\" color=\"f00e0e\" face=\"garamond\"><b>Sistemi linearnih algebrajskih enačb (1)</b></font>\n",
    "<br><br>\n",
    "<font size=\"4\">\n",
    "[izr.prof. dr. Janko Slavič](http://www.ladisk.si/~slavic)\n",
    "</font>\n",
    "<br><br>\n",
    "<font size=\"2\">Julij 2017</font>\n",
    "</center>"
   ]
  },
  {
   "cell_type": "markdown",
   "metadata": {
    "slideshow": {
     "slide_type": "subslide"
    },
    "toc": "true"
   },
   "source": [
    "# Table of Contents\n",
    " <p><div class=\"lev1\"><a href=\"#Uvod\"><span class=\"toc-item-num\">1&nbsp;&nbsp;</span>Uvod</a></div><div class=\"lev2\"><a href=\"#Enoličnost-rešitve\"><span class=\"toc-item-num\">1.1&nbsp;&nbsp;</span>Enoličnost rešitve</a></div><div class=\"lev2\"><a href=\"#Slaba-pogojenost-matrik\"><span class=\"toc-item-num\">1.2&nbsp;&nbsp;</span>Slaba pogojenost matrik</a></div><div class=\"lev3\"><a href=\"#Poglejmo,-kaj-se-dogaja-v-naših-preprostih-primerih:\"><span class=\"toc-item-num\">1.2.1&nbsp;&nbsp;</span>Poglejmo, kaj se dogaja v naših preprostih primerih:</a></div><div class=\"lev2\"><a href=\"#Pristopi-k-numeričnemu-reševanju\"><span class=\"toc-item-num\">1.3&nbsp;&nbsp;</span>Pristopi k numeričnemu reševanju</a></div><div class=\"lev3\"><a href=\"#Pregled-direktnih-metod\"><span class=\"toc-item-num\">1.3.1&nbsp;&nbsp;</span>Pregled direktnih metod</a></div><div class=\"lev1\"><a href=\"#Gaussova-eliminacija\"><span class=\"toc-item-num\">2&nbsp;&nbsp;</span>Gaussova eliminacija</a></div><div class=\"lev2\"><a href=\"#Numerična-zahtevnost\"><span class=\"toc-item-num\">2.1&nbsp;&nbsp;</span>Numerična zahtevnost</a></div><div class=\"lev2\"><a href=\"#Povzetek-Gaussove-eliminacije\"><span class=\"toc-item-num\">2.2&nbsp;&nbsp;</span>Povzetek Gaussove eliminacije</a></div><div class=\"lev1\"><a href=\"#Nekaj-vprašanj-za-razmislek!\"><span class=\"toc-item-num\">3&nbsp;&nbsp;</span>Nekaj vprašanj za razmislek!</a></div><div class=\"lev1\"><a href=\"#Dodatno\"><span class=\"toc-item-num\">4&nbsp;&nbsp;</span>Dodatno</a></div>"
   ]
  },
  {
   "cell_type": "code",
   "execution_count": 1,
   "metadata": {
    "collapsed": true,
    "slideshow": {
     "slide_type": "subslide"
    }
   },
   "outputs": [],
   "source": [
    "import numpy as np\n",
    "import matplotlib.pyplot as plt\n",
    "%matplotlib inline\n",
    "import sympy as sym\n",
    "sym.init_printing()"
   ]
  },
  {
   "cell_type": "markdown",
   "metadata": {
    "slideshow": {
     "slide_type": "slide"
    }
   },
   "source": [
    "# Uvod\n",
    "\n",
    "Pod zgornjim naslovom razumemo reševanje enačbe:\n",
    "\n",
    "$$\\mathbf{A}\\,\\mathbf{x}=\\mathbf{b}$$\n",
    "\n",
    "kjer sta $\\mathbf{A}$ in $\\mathbf{b}$ znana matrika in vektor, vektor $\\mathbf{x}$ pa ni znan. Matriko $\\mathbf{A}$ imenujemo **matrika koeficientov**, vektor $\\mathbf{b}$ **vektor konstant** in $\\mathbf{x}$ **vektor neznank**. Če matriki $\\mathbf{A}$ dodamo kot stolpec vektor $\\mathbf{b}$, dobimo t. i. **razširjeno matriko** in jo označimo $[\\mathbf{A}|\\mathbf{b}]$."
   ]
  },
  {
   "cell_type": "markdown",
   "metadata": {
    "slideshow": {
     "slide_type": "subslide"
    }
   },
   "source": [
    "Opomba glede oblike:\n",
    "* skalarne spremenljivke pišemo poševno, npr.: $a$,\n",
    "* vektorske spremenljivke pišemo z majhno črko poudarjeno, npr.: $\\mathbf{a}$,\n",
    "* matrične  spremenljivke pišemo z veliko črko poudarjeno, npr.: $\\mathbf{A}$."
   ]
  },
  {
   "cell_type": "markdown",
   "metadata": {
    "slideshow": {
     "slide_type": "subslide"
    }
   },
   "source": [
    "Preprost **simbolni** primer je:"
   ]
  },
  {
   "cell_type": "code",
   "execution_count": 2,
   "metadata": {
    "collapsed": true,
    "slideshow": {
     "slide_type": "-"
    }
   },
   "outputs": [],
   "source": [
    "A11, A12, A21, A22 = sym.symbols('A11, A12, A21, A22')\n",
    "x1, x2 = sym.symbols('x1, x2')\n",
    "b1, b2 = sym.symbols('b1, b2')\n",
    "A = sym.Matrix([[A11, A12],\n",
    "                [A21, A22]])\n",
    "x = sym.Matrix([[x1],\n",
    "                [x2]])\n",
    "b = sym.Matrix([[b1],\n",
    "                [b2]])"
   ]
  },
  {
   "cell_type": "code",
   "execution_count": 3,
   "metadata": {
    "slideshow": {
     "slide_type": "subslide"
    }
   },
   "outputs": [
    {
     "data": {
      "image/png": "[encoded data removed]",
      "text/latex": [
       "$$\\left[\\begin{matrix}A_{11} x_{1} + A_{12} x_{2}\\\\A_{21} x_{1} + A_{22} x_{2}\\end{matrix}\\right] = \\left[\\begin{matrix}b_{1}\\\\b_{2}\\end{matrix}\\right]$$"
      ],
      "text/plain": [
       "⎡A₁₁⋅x₁ + A₁₂⋅x₂⎤   ⎡b₁⎤\n",
       "⎢               ⎥ = ⎢  ⎥\n",
       "⎣A₂₁⋅x₁ + A₂₂⋅x₂⎦   ⎣b₂⎦"
      ]
     },
     "execution_count": 3,
     "metadata": {},
     "output_type": "execute_result"
    }
   ],
   "source": [
    "eq = sym.Eq(A*x,b)\n",
    "eq"
   ]
  },
  {
   "cell_type": "code",
   "execution_count": 4,
   "metadata": {
    "slideshow": {
     "slide_type": "-"
    }
   },
   "outputs": [
    {
     "data": {
      "image/png": "[encoded data removed]",
      "text/latex": [
       "$$\\left \\{ x_{1} : \\frac{- A_{12} b_{2} + A_{22} b_{1}}{A_{11} A_{22} - A_{12} A_{21}}, \\quad x_{2} : \\frac{A_{11} b_{2} - A_{21} b_{1}}{A_{11} A_{22} - A_{12} A_{21}}\\right \\}$$"
      ],
      "text/plain": [
       "⎧     -A₁₂⋅b₂ + A₂₂⋅b₁       A₁₁⋅b₂ - A₂₁⋅b₁ ⎫\n",
       "⎨x₁: ─────────────────, x₂: ─────────────────⎬\n",
       "⎩    A₁₁⋅A₂₂ - A₁₂⋅A₂₁      A₁₁⋅A₂₂ - A₁₂⋅A₂₁⎭"
      ]
     },
     "execution_count": 4,
     "metadata": {},
     "output_type": "execute_result"
    }
   ],
   "source": [
    "#%%timeit\n",
    "resitev = sym.solve(eq,[x1, x2])\n",
    "resitev"
   ]
  },
  {
   "cell_type": "markdown",
   "metadata": {
    "slideshow": {
     "slide_type": "subslide"
    }
   },
   "source": [
    "## Enoličnost rešitve"
   ]
  },
  {
   "cell_type": "markdown",
   "metadata": {},
   "source": [
    "Rešitve sistema linearnih enačb ne spremenimo:\n",
    "* z množenjem poljubne enačbe s konstanto (ki je različna od nič),\n",
    "* s spreminjanjem vrstnega reda enačb,\n",
    "* s prištevanjem ene enačbe (pomnožene s konstanto) drugi enačbi.\n",
    "\n",
    "Z zgornjimi operacijami lahko za vsako matriko enolično določimo t. i. **vrstično kanonično obliko matrike**, ki definira rang matrike."
   ]
  },
  {
   "cell_type": "markdown",
   "metadata": {
    "slideshow": {
     "slide_type": "subslide"
    }
   },
   "source": [
    "Če je rang matrike $\\mathbf(A)$ in rang razširjene matrike $[\\mathbf{A}|\\mathbf{b}]$ enak, potem rešitev **obstaja**:\n",
    "* $r=n$: natanko ena rešitev,\n",
    "* $r<n$: neskončno mnogo rešitev.\n",
    "\n",
    "Opomba: $r$ rang matrike $\\mathbf(A)$ oz. $[\\mathbf{A}|\\mathbf{b}]$, $n$ število neznank."
   ]
  },
  {
   "cell_type": "markdown",
   "metadata": {
    "slideshow": {
     "slide_type": "subslide"
    }
   },
   "source": [
    "Osredotočili se bomo na sistem $n$ linearnih enačbami z $n$ neznankami:\n",
    "$$\\mathbf{A}\\,\\mathbf{x}=\\mathbf{b}$$\n",
    "takšen sistem ima rešitev\n",
    "$$\\mathbf{x}=\\mathbf{A^{-1}}\\,\\mathbf{b},$$\n",
    "če determinanta **matrike koeficientov** ni singularna; to pomeni, da $|\\mathbf{A}|\\neq 0$. V tem primeru so vrstice in stolpci linearno neodvisni; z drugimi besedami nobena vrstica ali stolpec ni linearna kombinacija ostalih vrstc ali stolpcev (priporočam vizualno razlago determinante: [The determinant | Essence of linear algebra](https://www.youtube.com/watch?v=Ip3X9LOh2dk&list=PLZHQObOWTQDPD3MizzM2xVFitgF8hE_ab&index=7))."
   ]
  },
  {
   "cell_type": "markdown",
   "metadata": {
    "slideshow": {
     "slide_type": "subslide"
    }
   },
   "source": [
    "Pozneje se bomo tudi dotaknili reševanja $m$ linearnih enačb z $n$ neznankami, ko bo $m>n$. Imamo torej predoločeni sistem, ki ga rešimo s t. i. **psevdoinverzom**:\n",
    "$$\\mathbf{A}\\,\\mathbf{x}=\\mathbf{b}$$\n",
    "takšen sistem ima rešitev\n",
    "$$\\mathbf{x}=\\mathbf{A^{+}}\\,\\mathbf{b}.$$"
   ]
  },
  {
   "cell_type": "markdown",
   "metadata": {
    "slideshow": {
     "slide_type": "subslide"
    }
   },
   "source": [
    "Vrnimo se sedaj na sistem $n$ enačb z $n$ neznankami! Determinanta je:"
   ]
  },
  {
   "cell_type": "code",
   "execution_count": 5,
   "metadata": {},
   "outputs": [
    {
     "data": {
      "image/png": "[encoded data removed]",
      "text/latex": [
       "$$A_{11} A_{22} - A_{12} A_{21}$$"
      ],
      "text/plain": [
       "A₁₁⋅A₂₂ - A₁₂⋅A₂₁"
      ]
     },
     "execution_count": 5,
     "metadata": {},
     "output_type": "execute_result"
    }
   ],
   "source": [
    "A.det()"
   ]
  },
  {
   "cell_type": "markdown",
   "metadata": {},
   "source": [
    "Če je matrika koeficientov singularna $|\\mathbf{A}|=0$, potem ima sistem linearnih enačb neskončno mnogo rešitev ali pa rešitve sploh nima (odvisno od vektorja konstant $\\mathbf{b}$)."
   ]
  },
  {
   "cell_type": "markdown",
   "metadata": {
    "slideshow": {
     "slide_type": "subslide"
    }
   },
   "source": [
    "Poglejmo si primer sistema, ko so **enačbe linearno odvisne**:"
   ]
  },
  {
   "cell_type": "code",
   "execution_count": 6,
   "metadata": {
    "collapsed": true,
    "slideshow": {
     "slide_type": "-"
    }
   },
   "outputs": [],
   "source": [
    "par1 = {A11: 1, A21: 2, A12: 2, A22: 4, b1: 1, b2: 2}"
   ]
  },
  {
   "cell_type": "code",
   "execution_count": 7,
   "metadata": {},
   "outputs": [
    {
     "data": {
      "image/png": "[encoded data removed]",
      "text/latex": [
       "$$\\left[\\begin{matrix}x_{1} + 2 x_{2}\\\\2 x_{1} + 4 x_{2}\\end{matrix}\\right] = \\left[\\begin{matrix}1\\\\2\\end{matrix}\\right]$$"
      ],
      "text/plain": [
       "⎡ x₁ + 2⋅x₂ ⎤   ⎡1⎤\n",
       "⎢           ⎥ = ⎢ ⎥\n",
       "⎣2⋅x₁ + 4⋅x₂⎦   ⎣2⎦"
      ]
     },
     "execution_count": 7,
     "metadata": {},
     "output_type": "execute_result"
    }
   ],
   "source": [
    "lin_odv = eq.subs(par1)\n",
    "lin_odv"
   ]
  },
  {
   "cell_type": "markdown",
   "metadata": {
    "slideshow": {
     "slide_type": "subslide"
    }
   },
   "source": [
    "Ker drugo enačbo dobimo iz prve (z množenjem z 2), ima takšen sistem neskončno rešitev:"
   ]
  },
  {
   "cell_type": "code",
   "execution_count": 8,
   "metadata": {},
   "outputs": [
    {
     "data": {
      "image/png": "[encoded data removed]",
      "text/latex": [
       "$$\\left \\{ x_{1} : - 2 x_{2} + 1\\right \\}$$"
      ],
      "text/plain": [
       "{x₁: -2⋅x₂ + 1}"
      ]
     },
     "execution_count": 8,
     "metadata": {},
     "output_type": "execute_result"
    }
   ],
   "source": [
    "sym.solve(lin_odv,[x1, x2])"
   ]
  },
  {
   "cell_type": "markdown",
   "metadata": {
    "slideshow": {
     "slide_type": "-"
    }
   },
   "source": [
    "Preverimo še determinanto:"
   ]
  },
  {
   "cell_type": "code",
   "execution_count": 9,
   "metadata": {},
   "outputs": [
    {
     "data": {
      "image/png": "[encoded data removed]",
      "text/latex": [
       "$$0$$"
      ],
      "text/plain": [
       "0"
      ]
     },
     "execution_count": 9,
     "metadata": {},
     "output_type": "execute_result"
    }
   ],
   "source": [
    "A.subs(par1).det()"
   ]
  },
  {
   "cell_type": "markdown",
   "metadata": {
    "slideshow": {
     "slide_type": "subslide"
    }
   },
   "source": [
    "Poglejmo še primer, ko **rešitve sploh ni**:"
   ]
  },
  {
   "cell_type": "code",
   "execution_count": 10,
   "metadata": {
    "collapsed": true,
    "slideshow": {
     "slide_type": "-"
    }
   },
   "outputs": [],
   "source": [
    "par2 = {A11: 1, A21: 2, A12: 2, A22: 4, b1: 1, b2: 1}"
   ]
  },
  {
   "cell_type": "code",
   "execution_count": 11,
   "metadata": {},
   "outputs": [
    {
     "data": {
      "image/png": "[encoded data removed]",
      "text/latex": [
       "$$\\left[\\begin{matrix}x_{1} + 2 x_{2}\\\\2 x_{1} + 4 x_{2}\\end{matrix}\\right] = \\left[\\begin{matrix}1\\\\1\\end{matrix}\\right]$$"
      ],
      "text/plain": [
       "⎡ x₁ + 2⋅x₂ ⎤   ⎡1⎤\n",
       "⎢           ⎥ = ⎢ ⎥\n",
       "⎣2⋅x₁ + 4⋅x₂⎦   ⎣1⎦"
      ]
     },
     "execution_count": 11,
     "metadata": {},
     "output_type": "execute_result"
    }
   ],
   "source": [
    "ni_res = eq.subs(par2)\n",
    "ni_res"
   ]
  },
  {
   "cell_type": "code",
   "execution_count": 12,
   "metadata": {
    "slideshow": {
     "slide_type": "subslide"
    }
   },
   "outputs": [
    {
     "data": {
      "image/png": "[encoded data removed]",
      "text/latex": [
       "$$\\left [ \\right ]$$"
      ],
      "text/plain": [
       "[]"
      ]
     },
     "execution_count": 12,
     "metadata": {},
     "output_type": "execute_result"
    }
   ],
   "source": [
    "sym.solve(ni_res,[x1, x2])"
   ]
  },
  {
   "cell_type": "markdown",
   "metadata": {},
   "source": [
    "Vidmo, da je rešitev ene enačbe v nasprotju z drugo. Preverimo še determinanto:"
   ]
  },
  {
   "cell_type": "code",
   "execution_count": 13,
   "metadata": {},
   "outputs": [
    {
     "data": {
      "image/png": "[encoded data removed]",
      "text/latex": [
       "$$0$$"
      ],
      "text/plain": [
       "0"
      ]
     },
     "execution_count": 13,
     "metadata": {},
     "output_type": "execute_result"
    }
   ],
   "source": [
    "A.subs(par2).det()"
   ]
  },
  {
   "cell_type": "markdown",
   "metadata": {
    "slideshow": {
     "slide_type": "subslide"
    }
   },
   "source": [
    "## Slaba pogojenost matrik"
   ]
  },
  {
   "cell_type": "markdown",
   "metadata": {},
   "source": [
    "Za enolično rešitev torej želimo nesingularno determinanto matrike koeficientov! Kaj pa se dogaja z rešitvijo, kadar je determinanta $|\\mathbf{A}|$ **zelo majhna (relativno blizu nič)**?\n",
    "\n",
    "Ker gre za relativno oceno, potrebujemo referenco, ki jo tipično poimenujemo **norma** matrike in označimo z $||\\textbf{A}||$. \n",
    "\n",
    "Za determinanto matrike $\\textbf{A}$ rečemo, da je majhna, kadar velja:\n",
    "$$|\\textbf{A}|\\ll||\\textbf{A}||.$$"
   ]
  },
  {
   "cell_type": "markdown",
   "metadata": {
    "slideshow": {
     "slide_type": "subslide"
    }
   },
   "source": [
    "Obstaja več načinov merjenja norme, poglejmo si tukaj dve:\n",
    "* Evklidska norma (tudi Frobeniusova):\n",
    "$$||\\textbf{A}||_e=\\sqrt{\\sum_{i=1}^n\\sum_{j=1}^nA_{ij}^2}$$\n",
    "* Norma vsote vrstic ali tudi neskončna norma:\n",
    "$$||\\textbf{A}||_{\\infty}=\\max_{1\\le i\\le n}\\sum_{j=1}^n |A_{ij}|$$"
   ]
  },
  {
   "cell_type": "markdown",
   "metadata": {
    "slideshow": {
     "slide_type": "subslide"
    }
   },
   "source": [
    "Obstaja pa tudi formalno merilo pogojenosti:\n",
    "$$\\textrm{cond}(||\\textbf{A}||)=||\\textbf{A}||\\,||\\textbf{A}^{-1}||.$$"
   ]
  },
  {
   "cell_type": "markdown",
   "metadata": {
    "slideshow": {
     "slide_type": "-"
    }
   },
   "source": [
    "**Če je merilo pogojenosti blizu vrednosti 1, potem govorimo, da je matrika dobro pogojena** in obratno pri slabi pogojenosti se zelo poveča (v primeru singularne matrike proti neskončnosti)."
   ]
  },
  {
   "cell_type": "markdown",
   "metadata": {
    "slideshow": {
     "slide_type": "subslide"
    }
   },
   "source": [
    "### Poglejmo, kaj se dogaja v naših preprostih primerih:"
   ]
  },
  {
   "cell_type": "markdown",
   "metadata": {},
   "source": [
    "Najprej slabo pogojen sistem:"
   ]
  },
  {
   "cell_type": "code",
   "execution_count": 14,
   "metadata": {
    "collapsed": true
   },
   "outputs": [],
   "source": [
    "par3 = {A11: 1, A21: 1, A12: 1, A22: 1.001, b1: 3, b2: 0.}"
   ]
  },
  {
   "cell_type": "code",
   "execution_count": 15,
   "metadata": {},
   "outputs": [
    {
     "data": {
      "image/png": "[encoded data removed]",
      "text/latex": [
       "$$\\left[\\begin{matrix}x_{1} + x_{2}\\\\x_{1} + 1.001 x_{2}\\end{matrix}\\right] = \\left[\\begin{matrix}3\\\\0.0\\end{matrix}\\right]$$"
      ],
      "text/plain": [
       "⎡   x₁ + x₂   ⎤   ⎡ 3 ⎤\n",
       "⎢             ⎥ = ⎢   ⎥\n",
       "⎣x₁ + 1.001⋅x₂⎦   ⎣0.0⎦"
      ]
     },
     "execution_count": 15,
     "metadata": {},
     "output_type": "execute_result"
    }
   ],
   "source": [
    "eq.subs(par3)"
   ]
  },
  {
   "cell_type": "code",
   "execution_count": 16,
   "metadata": {
    "slideshow": {
     "slide_type": "fragment"
    }
   },
   "outputs": [
    {
     "data": {
      "image/png": "[encoded data removed]",
      "text/latex": [
       "$$\\left \\{ x_{1} : 3003.0, \\quad x_{2} : -3000.0\\right \\}$$"
      ],
      "text/plain": [
       "{x₁: 3003.0, x₂: -3000.0}"
      ]
     },
     "execution_count": 16,
     "metadata": {},
     "output_type": "execute_result"
    }
   ],
   "source": [
    "sym.solve(eq.subs(par3), [x1, x2])"
   ]
  },
  {
   "cell_type": "markdown",
   "metadata": {
    "slideshow": {
     "slide_type": "subslide"
    }
   },
   "source": [
    "Majhna sprememba matrike koeficientov bo povzročila veliko spremembo rezultata:"
   ]
  },
  {
   "cell_type": "code",
   "execution_count": 17,
   "metadata": {},
   "outputs": [
    {
     "data": {
      "image/png": "[encoded data removed]",
      "text/latex": [
       "$$\\left \\{ A_{11} : 1, \\quad A_{12} : 1, \\quad A_{21} : 1, \\quad A_{22} : 1.0020009999999997, \\quad b_{1} : 3, \\quad b_{2} : 0.0\\right \\}$$"
      ],
      "text/plain": [
       "{A₁₁: 1, A₁₂: 1, A₂₁: 1, A₂₂: 1.0020009999999997, b₁: 3, b₂: 0.0}"
      ]
     },
     "execution_count": 17,
     "metadata": {},
     "output_type": "execute_result"
    }
   ],
   "source": [
    "par3[A22] = 1.001*par3[A22]\n",
    "par3"
   ]
  },
  {
   "cell_type": "code",
   "execution_count": 18,
   "metadata": {},
   "outputs": [
    {
     "data": {
      "image/png": "[encoded data removed]",
      "text/latex": [
       "$$\\left \\{ x_{1} : 1502.25037481259, \\quad x_{2} : -1499.25037481259\\right \\}$$"
      ],
      "text/plain": [
       "{x₁: 1502.25037481259, x₂: -1499.25037481259}"
      ]
     },
     "execution_count": 18,
     "metadata": {},
     "output_type": "execute_result"
    }
   ],
   "source": [
    "sym.solve(eq.subs(par3), [x1, x2])"
   ]
  },
  {
   "cell_type": "code",
   "execution_count": 19,
   "metadata": {
    "scrolled": true
   },
   "outputs": [
    {
     "data": {
      "image/png": "[encoded data removed]",
      "text/latex": [
       "$$2001.002001$$"
      ],
      "text/plain": [
       "2001.002001"
      ]
     },
     "execution_count": 19,
     "metadata": {},
     "output_type": "execute_result"
    }
   ],
   "source": [
    "np.linalg.cond(np.array(A.subs(par3).tolist(), dtype=float))"
   ]
  },
  {
   "cell_type": "markdown",
   "metadata": {
    "slideshow": {
     "slide_type": "subslide"
    }
   },
   "source": [
    "Sedaj pa dobro pogojen sistem:"
   ]
  },
  {
   "cell_type": "code",
   "execution_count": 20,
   "metadata": {
    "collapsed": true
   },
   "outputs": [],
   "source": [
    "par4 = {A11: 1, A21: 1, A12: 2, A22: 6., b1: 1, b2: 8}"
   ]
  },
  {
   "cell_type": "code",
   "execution_count": 21,
   "metadata": {},
   "outputs": [
    {
     "data": {
      "image/png": "[encoded data removed]",
      "text/latex": [
       "$$10.403882032$$"
      ],
      "text/plain": [
       "10.403882032"
      ]
     },
     "execution_count": 21,
     "metadata": {},
     "output_type": "execute_result"
    }
   ],
   "source": [
    "np.linalg.cond(np.array(A.subs(par4).tolist(), dtype=float))"
   ]
  },
  {
   "cell_type": "code",
   "execution_count": 22,
   "metadata": {},
   "outputs": [
    {
     "data": {
      "image/png": "[encoded data removed]",
      "text/latex": [
       "$$\\left [ \\left \\{ x_{1} : -2.5, \\quad x_{2} : 1.75\\right \\}\\right ]$$"
      ],
      "text/plain": [
       "[{x₁: -2.5, x₂: 1.75}]"
      ]
     },
     "execution_count": 22,
     "metadata": {},
     "output_type": "execute_result"
    }
   ],
   "source": [
    "sym.solve(eq.subs(par4))"
   ]
  },
  {
   "cell_type": "code",
   "execution_count": 23,
   "metadata": {},
   "outputs": [
    {
     "data": {
      "image/png": "[encoded data removed]",
      "text/latex": [
       "$$\\left [ \\left \\{ x_{1} : -2.49475786320519, \\quad x_{2} : 1.7473789316026\\right \\}\\right ]$$"
      ],
      "text/plain": [
       "[{x₁: -2.49475786320519, x₂: 1.7473789316026}]"
      ]
     },
     "execution_count": 23,
     "metadata": {},
     "output_type": "execute_result"
    }
   ],
   "source": [
    "par4[A22] = 1.001*par4[A22]\n",
    "sym.solve(eq.subs(par4))"
   ]
  },
  {
   "cell_type": "markdown",
   "metadata": {},
   "source": [
    "Žal je izračun pogojenosti matrike numerično relativno zahteven (v primeru velih matrik, je inverz zelo zamuden) in zato pogosto *determinanto matrike* primerjamo z *normo* matrike."
   ]
  },
  {
   "cell_type": "markdown",
   "metadata": {
    "slideshow": {
     "slide_type": "subslide"
    }
   },
   "source": [
    "## Pristopi k numeričnemu reševanju"
   ]
  },
  {
   "cell_type": "markdown",
   "metadata": {},
   "source": [
    "Dva v principu različna pristopa k reševanju sistemov linearnih algebrajskih enačb:\n",
    "\n",
    "A) **Direktni pristop**: nad sistemom enačb izvajamo elementarne operacije, ki ne spreminjajo rešitve, lahko pa spreminjajo vrednost determinante $|\\mathbf{A}|$:\n",
    "   * zamenjava vrstic (spremeni predznak $|\\mathbf{A}|$)\n",
    "   * množenje vrstice z nenično konstanto (vrednost determinante  $|\\mathbf{A}|$ se pomnoži z isto vrednostjo)\n",
    "   * odštevanje vrstic (ne spremeni $|\\mathbf{A}|$).\n",
    "\n",
    "\n",
    "B) **Iterativni pristop**: začne iskanje na podlagi začetnega približka, nato pa rešitev iterativno izboljšuje. Iterativne metode so načeloma manj natančne, vendar numerično bolj učinkovite pri velikih in/ali redkih (sparse) matrikah.    "
   ]
  },
  {
   "cell_type": "markdown",
   "metadata": {
    "slideshow": {
     "slide_type": "subslide"
    }
   },
   "source": [
    "### Pregled direktnih metod"
   ]
  },
  {
   "cell_type": "markdown",
   "metadata": {},
   "source": [
    "Nekatere najpogosteje uporabljene direktne metode so naštete spodaj. Vse začnejo iz začetnega problema $\\mathbf{A}\\,\\mathbf{x}=\\mathbf{b}$, ki ga z elementarnimi operacijami poskušajo preoblikovati v enostavno rešljivo obliko.\n",
    "\n",
    "|             Metoda          | Končna oblika|\n",
    "|:---------------------------:|:--------:|\n",
    "|||\n",
    "|**Gaussova eliminacija** | $\\mathbf{U}\\,\\mathbf{x}=\\mathbf{c}$ |\n",
    "|**LU razcep (dekompozicija)** | $\\mathbf{L}\\,\\mathbf{U}\\,\\mathbf{x}=\\mathbf{b}$|\n",
    "|**Gauss-Jordan eliminacija** | $\\mathbf{I}\\,\\mathbf{x}=\\mathbf{c}$ |\n",
    "\n",
    "V zgornji tabeli $\\mathbf{U}$ predstavlja zgornjo (*upper*) trikotno matriko, $\\mathbf{L}$ predstavlja spodnjo (*lower*) trikotno matriko in $\\mathbf{I}$ predstavlja enotsko matriko. Matriko imenujemo **trikotna**, če ima na eni strani diagonale samo ničelne člene; kot bomo videli pozneje, nam taka matrika bistveno poenostavi izračune."
   ]
  },
  {
   "cell_type": "code",
   "execution_count": null,
   "metadata": {
    "collapsed": true
   },
   "outputs": [],
   "source": []
  },
  {
   "cell_type": "markdown",
   "metadata": {
    "slideshow": {
     "slide_type": "subslide"
    }
   },
   "source": [
    "V nadaljevanju si bomo pogledali primer reševanja sistema enačb:"
   ]
  },
  {
   "cell_type": "code",
   "execution_count": 24,
   "metadata": {
    "collapsed": true
   },
   "outputs": [],
   "source": [
    "A = np.array([[8, -6, 3],\n",
    "              [-6, 6, -6],\n",
    "              [3, -6, 6]], dtype=float) # poskusite tukaj izpustiti dtype=float\n",
    "                                        # ter preverite rešitev pri Gaussovi elim.\n",
    "b = np.array([-14, 36, 6])"
   ]
  },
  {
   "cell_type": "markdown",
   "metadata": {
    "slideshow": {
     "slide_type": "subslide"
    }
   },
   "source": [
    "Ponovimo **simbolno** reševanje:"
   ]
  },
  {
   "cell_type": "code",
   "execution_count": 25,
   "metadata": {
    "slideshow": {
     "slide_type": "-"
    }
   },
   "outputs": [
    {
     "data": {
      "image/png": "[encoded data removed]",
      "text/latex": [
       "$$\\left[\\begin{matrix}8.0 x_{1} - 6.0 x_{2} + 3.0 x_{3}\\\\- 6.0 x_{1} + 6.0 x_{2} - 6.0 x_{3}\\\\3.0 x_{1} - 6.0 x_{2} + 6.0 x_{3}\\end{matrix}\\right] = \\left[\\begin{matrix}-14\\\\36\\\\6\\end{matrix}\\right]$$"
      ],
      "text/plain": [
       "⎡8.0⋅x₁ - 6.0⋅x₂ + 3.0⋅x₃ ⎤   ⎡-14⎤\n",
       "⎢                         ⎥   ⎢   ⎥\n",
       "⎢-6.0⋅x₁ + 6.0⋅x₂ - 6.0⋅x₃⎥ = ⎢36 ⎥\n",
       "⎢                         ⎥   ⎢   ⎥\n",
       "⎣3.0⋅x₁ - 6.0⋅x₂ + 6.0⋅x₃ ⎦   ⎣ 6 ⎦"
      ]
     },
     "execution_count": 25,
     "metadata": {},
     "output_type": "execute_result"
    }
   ],
   "source": [
    "x1, x2, x3 = sym.symbols('x1, x2, x3')\n",
    "b1, b2, b3 = sym.symbols('b1, b2, b3')\n",
    "As = sym.Matrix(A)\n",
    "xs = sym.Matrix([[x1],\n",
    "             [x2],\n",
    "             [x3]])\n",
    "bs = sym.Matrix(np.transpose([b]))\n",
    "eq = sym.Eq(As * xs, bs)\n",
    "eq"
   ]
  },
  {
   "cell_type": "code",
   "execution_count": 26,
   "metadata": {},
   "outputs": [
    {
     "data": {
      "image/png": "[encoded data removed]",
      "text/latex": [
       "$$\\left \\{ x_{1} : -14.0, \\quad x_{2} : -24.6666666666667, \\quad x_{3} : -16.6666666666667\\right \\}$$"
      ],
      "text/plain": [
       "{x₁: -14.0, x₂: -24.6666666666667, x₃: -16.6666666666667}"
      ]
     },
     "execution_count": 26,
     "metadata": {},
     "output_type": "execute_result"
    }
   ],
   "source": [
    "sym.solve(eq, x1, x2, x3)"
   ]
  },
  {
   "cell_type": "markdown",
   "metadata": {
    "slideshow": {
     "slide_type": "subslide"
    }
   },
   "source": [
    "Sedaj rešimo še numerično, najprej preverimo determinanto, rang in pogojenost:"
   ]
  },
  {
   "cell_type": "code",
   "execution_count": 27,
   "metadata": {},
   "outputs": [
    {
     "data": {
      "text/plain": [
       "[-53.999999999999986, 3, 3, 20.992161172793562]"
      ]
     },
     "execution_count": 27,
     "metadata": {},
     "output_type": "execute_result"
    }
   ],
   "source": [
    "Ab = np.column_stack((A,b))\n",
    "[np.linalg.det(A), np.linalg.matrix_rank(A), np.linalg.matrix_rank(Ab), np.linalg.cond(A)]"
   ]
  },
  {
   "cell_type": "markdown",
   "metadata": {},
   "source": [
    "Preverimo najprej rešitev z vgrajeno ``numpy`` funkcijo:"
   ]
  },
  {
   "cell_type": "code",
   "execution_count": 28,
   "metadata": {},
   "outputs": [
    {
     "data": {
      "text/plain": [
       "array([-14.        , -24.66666667, -16.66666667])"
      ]
     },
     "execution_count": 28,
     "metadata": {},
     "output_type": "execute_result"
    }
   ],
   "source": [
    "#%timeit \n",
    "x = np.linalg.solve(A,b)\n",
    "x"
   ]
  },
  {
   "cell_type": "code",
   "execution_count": 29,
   "metadata": {},
   "outputs": [
    {
     "data": {
      "text/plain": [
       "array([-14.,  36.,   6.])"
      ]
     },
     "execution_count": 29,
     "metadata": {},
     "output_type": "execute_result"
    }
   ],
   "source": [
    "np.dot(A, x)"
   ]
  },
  {
   "cell_type": "markdown",
   "metadata": {
    "slideshow": {
     "slide_type": "slide"
    }
   },
   "source": [
    "# Gaussova eliminacija"
   ]
  },
  {
   "cell_type": "markdown",
   "metadata": {},
   "source": [
    "Najprej pripravimo razširjeno matriko koeficientov:\n",
    "$$\\begin{bmatrix}\n",
    "\\mathbf{A}|\\mathbf{b}\n",
    "\\end{bmatrix}=\n",
    "\\left[\\begin{array}{cccc|c}\n",
    "A_{11}&A_{12}&\\cdots & A_{1n} & b_1\\\\\n",
    "A_{21}&A_{22}&\\cdots & A_{2n} & b_2\\\\\n",
    "\\vdots&\\vdots&\\ddots & \\vdots & \\vdots\\\\\n",
    "A_{n1}&A_{n2}&\\cdots & A_{nn} & b_n\\\\\n",
    "\\end{array}\\right]\n",
    "$$"
   ]
  },
  {
   "cell_type": "code",
   "execution_count": 30,
   "metadata": {},
   "outputs": [
    {
     "data": {
      "text/plain": [
       "array([[  8.,  -6.,   3., -14.],\n",
       "       [ -6.,   6.,  -6.,  36.],\n",
       "       [  3.,  -6.,   6.,   6.]])"
      ]
     },
     "execution_count": 30,
     "metadata": {},
     "output_type": "execute_result"
    }
   ],
   "source": [
    "Ab = np.column_stack((A,b))\n",
    "Ab"
   ]
  },
  {
   "cell_type": "code",
   "execution_count": 31,
   "metadata": {
    "slideshow": {
     "slide_type": "subslide"
    }
   },
   "outputs": [
    {
     "name": "stdout",
     "output_type": "stream",
     "text": [
      "Korak: 0\n",
      "[[  8.     -6.      3.    -14.   ]\n",
      " [  0.      1.5    -3.75   25.5  ]\n",
      " [  0.     -3.75    4.875  11.25 ]]\n",
      "Korak: 1\n",
      "[[  8.    -6.     3.   -14.  ]\n",
      " [  0.     1.5   -3.75  25.5 ]\n",
      " [  0.     0.    -4.5   75.  ]]\n"
     ]
    }
   ],
   "source": [
    "(v, s) = Ab.shape\n",
    "# eliminacija\n",
    "for p, pivot_vrsta in enumerate(Ab[:-1]):\n",
    "    for vrsta in Ab[p+1:]:\n",
    "        if pivot_vrsta[p]:\n",
    "            vrsta[p:] = vrsta[p:]-pivot_vrsta[p:]*vrsta[p]/pivot_vrsta[p]\n",
    "    print('Korak: {:g}'.format(p))\n",
    "    print(Ab)"
   ]
  },
  {
   "cell_type": "markdown",
   "metadata": {
    "slideshow": {
     "slide_type": "subslide"
    }
   },
   "source": [
    "Preostane samo še iskanje rešitve (začnemo spodaj):"
   ]
  },
  {
   "cell_type": "code",
   "execution_count": 32,
   "metadata": {
    "collapsed": true
   },
   "outputs": [],
   "source": [
    "x = np.zeros(v) # pripravimo prazni seznam"
   ]
  },
  {
   "cell_type": "markdown",
   "metadata": {},
   "source": [
    "Najprej poglejmo samo določeno vrstico $i$ in delimo $b_i$ z $Ab_{ii}$:"
   ]
  },
  {
   "cell_type": "code",
   "execution_count": 33,
   "metadata": {
    "collapsed": true
   },
   "outputs": [],
   "source": [
    "# delno pravilno, da lažje sledimo\n",
    "for p, pivot_vrsta in enumerate(Ab[::-1]):\n",
    "    x[v-p-1] = (pivot_vrsta[-1]) / (pivot_vrsta[v-p-1])"
   ]
  },
  {
   "cell_type": "code",
   "execution_count": 34,
   "metadata": {},
   "outputs": [
    {
     "data": {
      "text/plain": [
       "array([ -1.75      ,  17.        , -16.66666667])"
      ]
     },
     "execution_count": 34,
     "metadata": {},
     "output_type": "execute_result"
    }
   ],
   "source": [
    "x"
   ]
  },
  {
   "cell_type": "markdown",
   "metadata": {
    "slideshow": {
     "slide_type": "subslide"
    }
   },
   "source": [
    "Do določitve $x$ manjka še odštevanje:"
   ]
  },
  {
   "cell_type": "code",
   "execution_count": 35,
   "metadata": {
    "collapsed": true
   },
   "outputs": [],
   "source": [
    "for p, pivot_vrsta in enumerate(Ab[::-1]):\n",
    "    x[v-p-1] = (pivot_vrsta[-1] - np.dot(pivot_vrsta[v-p:-1], x[v-p:]) ) / (pivot_vrsta[v-p-1])"
   ]
  },
  {
   "cell_type": "code",
   "execution_count": 36,
   "metadata": {},
   "outputs": [
    {
     "data": {
      "text/plain": [
       "array([-14.        , -24.66666667, -16.66666667])"
      ]
     },
     "execution_count": 36,
     "metadata": {},
     "output_type": "execute_result"
    }
   ],
   "source": [
    "x   "
   ]
  },
  {
   "cell_type": "markdown",
   "metadata": {},
   "source": [
    "Opomba: zgornji algoritem imenujemo **obratno vstavljanje** (angl. *back substitution*), saj rešujemo sistem $\\mathbf{U}\\,\\mathbf{x}=\\mathbf{b}$, kjer je $\\mathbf{U}$ zgornja trikotna matrika.\n",
    "\n",
    "V kolikor bi reševali sistem $\\mathbf{L}\\,\\mathbf{x}=\\mathbf{b}$ in je $\\mathbf{L}$ spodnja trikotna matrika, bi to imenovali **direktno vstavljanje** (angl. *forward substitution*).\n"
   ]
  },
  {
   "cell_type": "markdown",
   "metadata": {
    "slideshow": {
     "slide_type": "subslide"
    }
   },
   "source": [
    "## Numerična zahtevnost"
   ]
  },
  {
   "cell_type": "markdown",
   "metadata": {},
   "source": [
    "Numerično zahtevnost ocenjujemo po številu matematičnih operacij, ki so potrebne za izračun. \n",
    "Za rešitev $n$ linearnih enačb tako z Gaussovo eliminacijo potrebujemo približno $n^3/3$ matematičnih operacij. Za določitev neznank $\\mathbf{x}$ potrebujemo še dodatnih približno $n^2$ operacij.\n",
    "\n",
    "Pri Gaussovi eliminaciji smo eliminacijo izvedli samo za člene pod diagonalo; če bi z eliminacijo nadaljevali in jo izvedli tudi za člene nad diagonalo, bi izvedli t. i. *Gauss-Jordanovo* eliminacijo, za katero pa potrebujemo približno $n^3/3$ operacij* (kar se šteje kot glavna slabost te metode).\n",
    "\n",
    "\\* Nekaj komentarjev na temo števila numeričnih operacij najdete tukaj: [pinm.ladisk.si](http://pinm.ladisk.si/303/kako-dolo%C4%8Damo-numeri%C4%8Dno-zahtevnost-algoritmov)."
   ]
  },
  {
   "cell_type": "markdown",
   "metadata": {
    "slideshow": {
     "slide_type": "subslide"
    }
   },
   "source": [
    "## Povzetek Gaussove eliminacije"
   ]
  },
  {
   "cell_type": "markdown",
   "metadata": {},
   "source": [
    "V ``orodja.py`` shranimo funkcije:"
   ]
  },
  {
   "cell_type": "code",
   "execution_count": 37,
   "metadata": {
    "collapsed": true
   },
   "outputs": [],
   "source": [
    "def gaussova_eliminacija(A, b, prikazi_korake = False):\n",
    "    Ab = np.column_stack(A, b)\n",
    "    for p, pivot_vrsta in enumerate(Ab[:-1]):\n",
    "        for vrsta in Ab[p+1:]:\n",
    "            if pivot_vrsta[p]:\n",
    "                vrsta[p:] = vrsta[p:]-pivot_vrsta[p:]*vrsta[p]/pivot_vrsta[p]\n",
    "        if prikazi_korake:\n",
    "            print('Korak: {:g}'.format(p))\n",
    "            print(Ab)\n",
    "    return Ab\n",
    "def gaussova_el_resitev(Ab):\n",
    "    v = len(Ab)\n",
    "    x = zeros(v)\n",
    "    for p, pivot_vrsta in enumerate(Ab[::-1]):\n",
    "        x[v-p-1] = (pivot_vrsta[-1] - dot(pivot_vrsta[v-p:-1], x[v-p:]) ) / (pivot_vrsta[v-p-1])\n",
    "    return v"
   ]
  },
  {
   "cell_type": "markdown",
   "metadata": {
    "slideshow": {
     "slide_type": "slide"
    }
   },
   "source": [
    "# Nekaj vprašanj za razmislek!"
   ]
  },
  {
   "cell_type": "markdown",
   "metadata": {},
   "source": [
    "1. Sistem enačb: \n",
    "    $$\n",
    "    \\mathbf{A}=\n",
    "    \\begin{bmatrix}\n",
    "    1 & -4 & 1\\\\\n",
    "    1 & 6 & -1\\\\\n",
    "    2 & -1 & 2\n",
    "    \\end{bmatrix}\n",
    "    \\qquad\n",
    "    \\mathbf{b}=\n",
    "    \\begin{bmatrix}\n",
    "    7\\\\\n",
    "    13\\\\\n",
    "    5\n",
    "    \\end{bmatrix}\n",
    "    $$\n",
    "\n",
    "    najdite rešitev s pomočjo ``SymPy``.\n",
    "\n",
    "* Za zgoraj definirano matriko $\\mathbf{A}$ določite Evklidsko normo (lastni program).\n",
    "* Za zgoraj definirano matriko $\\mathbf{A}$ določite neskončno normo (lastni program).\n",
    "* Za zgoraj definirano matriko $\\mathbf{A}$ določite pogojenost (``numpy`` funkcija).\n",
    "* Definirajte funkcijo ``gauss_elim``, ki za poljubno matriko $\\mathbf{A}$ in vektor $\\mathbf{b}$ izvede Gaussovo eliminacijo (posebej za matriko in posebej za vektor).\n",
    "* Definirajte funkcijo ``gauss_elim_x``, ki za razultat funkcije ``gaus_elim`` najde ustrezne vrednosti vektorja $\\textbf{x}$.\n",
    "* Zgornji funkciji dopolnite s štetjem matematičnih operacij.\n",
    "* Na sliki je prikazan sistem mas:\n",
    "\n",
    "    <img width=600 src=\"./fig/mase_na_klancu.png\">\n",
    "    \n",
    "    Predpostavite, da se sistem zaradi teže giblje po klancu navzdol z neznanim pospeškom $a$ in da so vrvi napete z neznanimi silami $F_i$. Znane veličine so (sami jih določite): posamično telo ima maso $m_i$, koeficient trenja s podlago $\\mu_i=1$, $g=9,81$m/s$^2$, $\\varphi=55^{\\circ}$.\n",
    "    Določite sistem enačb v primeru dveh teles. Določite matriko koeficientov $\\mathbf{A}$, in vektorja $\\mathbf{b}$ ter $\\mathbf{x}$.\n",
    "* Za zgoraj definiran sistem mas predpostavite, da je mas 4 (ali več) ter določite matriko koeficientov $\\mathbf{A}$, in vektorja $\\mathbf{x}$ ter $\\mathbf{b}$. Rešite sistem s pomočjo Gaussove elimnacije/LU razcepa ali ``numpy.linalg.solve``. Preverite pogojenost!\n",
    "* V sistemu mas dobimo nekonsistentno rešitev, če imamo v kateri od vrvi tlačno silo (vrv ne prenese tlačne sile). Preverite ali je to v vašem primeru res. Ustrezno spremenite koeficient(e) trenja, da se bo to zgodilo."
   ]
  },
  {
   "cell_type": "markdown",
   "metadata": {
    "slideshow": {
     "slide_type": "subslide"
    }
   },
   "source": [
    "# Dodatno"
   ]
  },
  {
   "cell_type": "markdown",
   "metadata": {},
   "source": [
    "Poglejte si strani:\n",
    "* [micropython.org](http://www.micropython.org)\n",
    "* [kivy.org](http://www.kivy.org)\n",
    "* [openmodal.com](http://www.openmodal.com)"
   ]
  }
 ],
 "metadata": {
  "anaconda-cloud": {},
  "celltoolbar": "Slideshow",
  "kernelspec": {
   "display_name": "Python 3",
   "language": "python",
   "name": "python3"
  },
  "language_info": {
   "codemirror_mode": {
    "name": "ipython",
    "version": 3
   },
   "file_extension": ".py",
   "mimetype": "text/x-python",
   "name": "python",
   "nbconvert_exporter": "python",
   "pygments_lexer": "ipython3",
   "version": "3.6.1"
  },
  "latex_envs": {
   "bibliofile": "biblio.bib",
   "cite_by": "apalike",
   "current_citInitial": 1,
   "eqLabelWithNumbers": true,
   "eqNumInitial": 0
  },
  "livereveal": {
   "theme": "sky",
   "transition": "default",
   "width": 1200
  },
  "nav_menu": {},
  "toc": {
   "navigate_menu": true,
   "number_sections": true,
   "sideBar": true,
   "threshold": 6,
   "toc_cell": true,
   "toc_section_display": "block",
   "toc_window_display": true
  }
 },
 "nbformat": 4,
 "nbformat_minor": 1
}
