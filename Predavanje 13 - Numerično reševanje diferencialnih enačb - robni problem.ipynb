{
 "cells": [
  {
   "cell_type": "markdown",
   "metadata": {
    "slideshow": {
     "slide_type": "slide"
    }
   },
   "source": [
    "<font size=\"2\"> [github.com/jankoslavic/pypinm](http://github.com/jankoslavic/pypinm)</font>\n",
    "\n",
    "<center>\n",
    "<img width=300 src=\"./fig/ladisk.png\">\n",
    "<br>\n",
    "<font size=\"7\" color=\"f00e0e\" face=\"garamond\"><b>Numerično reševanje diferencialnih enačb - robni problem</b></font>\n",
    "<br><br>\n",
    "<font size=\"4\">\n",
    "[izr. prof. dr. Janko Slavič](http://www.ladisk.si/~slavic)\n",
    "</font>\n",
    "<br><br>\n",
    "<font size=\"2\">Oktober 2017</font>\n",
    "</center>"
   ]
  },
  {
   "cell_type": "markdown",
   "metadata": {
    "slideshow": {
     "slide_type": "subslide"
    },
    "toc": "true"
   },
   "source": [
    "# Table of Contents\n",
    " <p><div class=\"lev1 toc-item\"><a href=\"#Reševanje-dvotočkovnih-robnih-problemov\" data-toc-modified-id=\"Reševanje-dvotočkovnih-robnih-problemov-1\"><span class=\"toc-item-num\">1&nbsp;&nbsp;</span>Reševanje dvotočkovnih robnih problemov</a></div><div class=\"lev1 toc-item\"><a href=\"#Strelska-metoda\" data-toc-modified-id=\"Strelska-metoda-2\"><span class=\"toc-item-num\">2&nbsp;&nbsp;</span>Strelska metoda</a></div><div class=\"lev2 toc-item\"><a href=\"#Numerični-zgled:-poševni-met\" data-toc-modified-id=\"Numerični-zgled:-poševni-met-21\"><span class=\"toc-item-num\">2.1&nbsp;&nbsp;</span>Numerični zgled: poševni met</a></div><div class=\"lev2 toc-item\"><a href=\"#Numerični-zgled:-nosilec-z-obremenitvijo\" data-toc-modified-id=\"Numerični-zgled:-nosilec-z-obremenitvijo-22\"><span class=\"toc-item-num\">2.2&nbsp;&nbsp;</span>Numerični zgled: nosilec z obremenitvijo</a></div><div class=\"lev1 toc-item\"><a href=\"#Metoda-končnih-razlik\" data-toc-modified-id=\"Metoda-končnih-razlik-3\"><span class=\"toc-item-num\">3&nbsp;&nbsp;</span>Metoda končnih razlik</a></div><div class=\"lev2 toc-item\"><a href=\"#Numerični-zgled:-vertikalni-met\" data-toc-modified-id=\"Numerični-zgled:-vertikalni-met-31\"><span class=\"toc-item-num\">3.1&nbsp;&nbsp;</span>Numerični zgled: vertikalni met</a></div><div class=\"lev2 toc-item\"><a href=\"#Numerični-zgled:-nosilec-z-obremenitvijo\" data-toc-modified-id=\"Numerični-zgled:-nosilec-z-obremenitvijo-32\"><span class=\"toc-item-num\">3.2&nbsp;&nbsp;</span>Numerični zgled: nosilec z obremenitvijo</a></div><div class=\"lev1 toc-item\"><a href=\"#Dodatno:-simbolna-rešitev-nosilca\" data-toc-modified-id=\"Dodatno:-simbolna-rešitev-nosilca-4\"><span class=\"toc-item-num\">4&nbsp;&nbsp;</span>Dodatno: simbolna rešitev nosilca</a></div>"
   ]
  },
  {
   "cell_type": "markdown",
   "metadata": {
    "slideshow": {
     "slide_type": "slide"
    }
   },
   "source": [
    "# Reševanje dvotočkovnih robnih problemov"
   ]
  },
  {
   "cell_type": "markdown",
   "metadata": {},
   "source": [
    "Pod dvotočkovnim robnim problemom razumemo navadno diferencialno enačbo drugega reda oblike:\n",
    "\n",
    "$$\\ddot y=f(t, y, \\dot y),$$\n",
    "\n",
    "ob predpisanih *robnih pogojih*:\n",
    "\n",
    "$$y(a)=\\alpha\\qquad\\textrm{in}\\qquad y(b)=\\beta.$$"
   ]
  },
  {
   "cell_type": "markdown",
   "metadata": {
    "slideshow": {
     "slide_type": "subslide"
    }
   },
   "source": [
    "Metode, ki smo jih spoznali pri reševanju *začetnih problemov*, tukaj neposredno niso uporabne, ker nimamo podanega odvoda v začetni točki pri $t=a$.\n",
    "\n",
    "V nadaljevanju si bomo pogledali dva različna pristopa k reševanju robnih problemov:\n",
    "\n",
    "1. t.i. **strelska metoda**\n",
    "2. **metoda končnih razlik**."
   ]
  },
  {
   "cell_type": "markdown",
   "metadata": {
    "slideshow": {
     "slide_type": "slide"
    }
   },
   "source": [
    "# Strelska metoda"
   ]
  },
  {
   "cell_type": "markdown",
   "metadata": {},
   "source": [
    "Rešujemo robni problem:\n",
    "\n",
    "$$\\ddot y=f(t, y, \\dot y),\\qquad y(a)=\\alpha,\\quad y(b)=\\beta,$$\n",
    "\n",
    "ki ga prevedemo na začetni problem tako, da si izberemo:\n",
    "\n",
    "$$\\dot y (a)=u.$$"
   ]
  },
  {
   "cell_type": "markdown",
   "metadata": {
    "slideshow": {
     "slide_type": "subslide"
    }
   },
   "source": [
    "Problem rešimo z numeričnimi metodami reševanja začetnega problema in rešitev označimo z $\\theta(u, t)$.\n",
    "\n",
    "Robni problem ima rešitev, ko smo izbrali $u$ tako, da velja:\n",
    "\n",
    "$$r(u)=\\theta(u,b)-\\beta=0.$$\n",
    "\n",
    "Dobili smo nelinearno enačbo, ki jo moramo rešiti; za izračun vrednosti mejnih preostankov $r(u)$ moramo numerično rešiti začetni problem."
   ]
  },
  {
   "cell_type": "markdown",
   "metadata": {
    "slideshow": {
     "slide_type": "subslide"
    }
   },
   "source": [
    "Za rešitev enačbe $r(u)=0$ lahko uporabimo sekantno metodo. Izberemo $u_0$ in $u_1$ in na $i$-tem koraku izračunamo:\n",
    "\n",
    "$$u_{i+1}=u_i-r(u_i)\\,\\frac{u_{i}-u_{i-1}}{r(u_{i})-r(u_{i-1})},\\qquad i=2,3,\\dots$$\n",
    "\n",
    "Zaključimo, ko je:\n",
    "$$\\left|r(u_{i+1})\\right|<\\epsilon.$$"
   ]
  },
  {
   "cell_type": "markdown",
   "metadata": {
    "slideshow": {
     "slide_type": "subslide"
    }
   },
   "source": [
    "Rešitev strelske metode je obremenjena z napako metode reševanja nelinearne enačbe $\\epsilon$ in z napako numerične metode za reševanje začetnega problema."
   ]
  },
  {
   "cell_type": "markdown",
   "metadata": {
    "slideshow": {
     "slide_type": "subslide"
    }
   },
   "source": [
    "## Numerični zgled: poševni met"
   ]
  },
  {
   "cell_type": "markdown",
   "metadata": {},
   "source": [
    "Na sliki je prikazan izstrelek mase $m$, ki ga izstrelimo s hitrostjo $v_0$ pod kotom $\\varphi$. Če je sila upora zraka: $F=c\\,v^{3/2}$, potem sta gibalni enačbi:\n",
    "\n",
    "$$\\ddot x(t)=-F\\,\\cos(\\varphi)/m\\qquad\\ddot y(t)=-F\\,\\sin(\\varphi)/m-g.$$\n",
    "\n",
    "Opomba: $v=\\sqrt{\\dot x^2+\\dot y^2}.$ Manjkajoče parametre bomo določili pozneje.\n",
    "<img src=\"./fig/posevni_met.png\" width=300>"
   ]
  },
  {
   "cell_type": "markdown",
   "metadata": {
    "slideshow": {
     "slide_type": "subslide"
    }
   },
   "source": [
    "### Vertikalni met\n",
    "\n",
    "Najprej predpostavimo, da je $\\varphi=90$° in torej v $x$ smeri nimamo gibanja. Zanima nas rešitev, ko izstrelek izstrelimo iz višine $y=0\\,$m in mora pri času $t=b=1\\,$s biti na višini $y(b)=20\\,$m. Definirali smo robni problem:\n",
    "\n",
    "$$\\ddot y(t)=-F\\,/m-g,\\qquad y(0)=0,\\quad y(1)=20.$$"
   ]
  },
  {
   "cell_type": "markdown",
   "metadata": {
    "slideshow": {
     "slide_type": "subslide"
    }
   },
   "source": [
    "Najprej moramo enačbo drugega reda:\n",
    "\n",
    "$$\\ddot y=f(t, y, \\dot y) = -g-F/m$$\n",
    "\n",
    "preoblikovati na sistem dveh enačb prvega reda. Uporabimo $y_i=y^{i}$ ter upoštevamo $F=c\\,\\dot y^{3/2}$:\n",
    "\n",
    "$$\\ddot y=y_2=f(t, y_0, y_1) = -g-c\\,y_1^{3/2}/m$$\n"
   ]
  },
  {
   "cell_type": "markdown",
   "metadata": {
    "slideshow": {
     "slide_type": "subslide"
    }
   },
   "source": [
    "Odvajamo $\\dot y_i=y_{i+1}$ in pripravimo sistem enačb prvega reda:\n",
    "\n",
    "$$\n",
    "\\begin{array}{rcl}\n",
    "\\dot y_0&=&y_1\\\\\n",
    "\\dot y_1&=&y_2=-g-c\\,y_1^{3/2}/m\\\\\n",
    "\\end{array}\n",
    "$$"
   ]
  },
  {
   "cell_type": "markdown",
   "metadata": {
    "slideshow": {
     "slide_type": "subslide"
    }
   },
   "source": [
    "Pripravimo seznam funkcij prvega odvoda:"
   ]
  },
  {
   "cell_type": "code",
   "execution_count": 1,
   "metadata": {
    "collapsed": true
   },
   "outputs": [],
   "source": [
    "def f_vert(t, y, g=9.81, m=1., c=0.5):\n",
    "    return np.array([y[1], -g-c*y[1]**(3/2)/m])"
   ]
  },
  {
   "cell_type": "markdown",
   "metadata": {
    "slideshow": {
     "slide_type": "subslide"
    }
   },
   "source": [
    "Uvozimo modula `numpy` in `scipy.integrate.ode`:"
   ]
  },
  {
   "cell_type": "code",
   "execution_count": 2,
   "metadata": {
    "collapsed": true
   },
   "outputs": [],
   "source": [
    "import numpy as np\n",
    "from scipy.integrate import ode"
   ]
  },
  {
   "cell_type": "markdown",
   "metadata": {
    "slideshow": {
     "slide_type": "subslide"
    }
   },
   "source": [
    "ter pripravimo funkcijo za izračun mejnega preostanka pri času $b$ v odvisnosti od začetne hitrosti $v0$:"
   ]
  },
  {
   "cell_type": "code",
   "execution_count": 3,
   "metadata": {
    "collapsed": true
   },
   "outputs": [],
   "source": [
    "def r(v0=100., ciljna_lega=20., b=1.0, g=9.81, m=1., c=0.5):\n",
    "    y_ode = ode(f_vert).set_integrator('dopri5').set_initial_value([0, v0]).set_f_params(g, m, c)\n",
    "    r = ciljna_lega - y_ode.integrate(b)[0]\n",
    "    return r"
   ]
  },
  {
   "cell_type": "markdown",
   "metadata": {
    "slideshow": {
     "slide_type": "subslide"
    }
   },
   "source": [
    "Preverimo mejni preostanek pri začetnem pogoju $v_0=y'=100$:"
   ]
  },
  {
   "cell_type": "code",
   "execution_count": 4,
   "metadata": {},
   "outputs": [
    {
     "data": {
      "text/plain": [
       "-6.5017006010951555"
      ]
     },
     "execution_count": 4,
     "metadata": {},
     "output_type": "execute_result"
    }
   ],
   "source": [
    "r(v0=100.)"
   ]
  },
  {
   "cell_type": "markdown",
   "metadata": {},
   "source": [
    "Naš cilj je, da pri 1 sekundi masa doseže lego 20 m z natančnostjo `1e-6`:"
   ]
  },
  {
   "cell_type": "code",
   "execution_count": 5,
   "metadata": {
    "collapsed": true
   },
   "outputs": [],
   "source": [
    "ciljna_lega = 20\n",
    "epsilon = 1e-6"
   ]
  },
  {
   "cell_type": "markdown",
   "metadata": {
    "slideshow": {
     "slide_type": "subslide"
    }
   },
   "source": [
    "Izvedimo sedaj sekantno metodo:"
   ]
  },
  {
   "cell_type": "code",
   "execution_count": 6,
   "metadata": {
    "slideshow": {
     "slide_type": "-"
    }
   },
   "outputs": [
    {
     "name": "stdout",
     "output_type": "stream",
     "text": [
      "Novi približek je 69.8379578579017, napaka je 0.40412863584301206.\n",
      "Novi približek je 68.1250440581094, napaka je 0.025432419624401348.\n",
      "Novi približek je 68.01000846844404, napaka je 0.0001504611500102726.\n",
      "Novi približek je 68.01068502974556, napaka je 5.604450592500143e-08.\n",
      "Rešitev 68.01068502974556\n"
     ]
    }
   ],
   "source": [
    "x0 = 100\n",
    "x1 = 50\n",
    "for i in range(10):\n",
    "    f0 = r(v0=x0, ciljna_lega=ciljna_lega)\n",
    "    f1 = r(v0=x1, ciljna_lega=ciljna_lega)\n",
    "    x2 = x1 - f1 * (x1 - x0)/(f1 - f0)\n",
    "    err = np.abs(r(v0=x2, ciljna_lega=ciljna_lega))\n",
    "    print(f'Novi približek je {x2}, napaka je {err}.')\n",
    "    x0 = x1\n",
    "    x1 = x2\n",
    "    if err<epsilon:\n",
    "        rešitev = x2\n",
    "        print(f'Rešitev {rešitev}')\n",
    "        break"
   ]
  },
  {
   "cell_type": "markdown",
   "metadata": {},
   "source": [
    "Poglejmo si sedaj izračunano rešitev:"
   ]
  },
  {
   "cell_type": "code",
   "execution_count": 7,
   "metadata": {},
   "outputs": [
    {
     "name": "stderr",
     "output_type": "stream",
     "text": [
      "C:\\Users\\Domen\\Anaconda3\\lib\\site-packages\\scipy\\integrate\\_ode.py:1035: UserWarning: dopri5: step size becomes too small\n",
      "  self.messages.get(idid, 'Unexpected idid=%s' % idid))\n"
     ]
    }
   ],
   "source": [
    "y_ode = ode(f_vert).set_integrator('dopri5').set_initial_value([0, rešitev]).set_f_params(9.81, 1, 0.5)\n",
    "t = np.linspace(0., 1., 100)\n",
    "y_vert = np.array([y_ode.integrate(_, step=t[1]) for _ in t])"
   ]
  },
  {
   "cell_type": "markdown",
   "metadata": {
    "slideshow": {
     "slide_type": "subslide"
    }
   },
   "source": [
    "Uvozimo `matplotlib`:"
   ]
  },
  {
   "cell_type": "code",
   "execution_count": 8,
   "metadata": {
    "collapsed": true
   },
   "outputs": [],
   "source": [
    "import matplotlib.pyplot as plt\n",
    "%matplotlib inline"
   ]
  },
  {
   "cell_type": "markdown",
   "metadata": {
    "slideshow": {
     "slide_type": "subslide"
    }
   },
   "source": [
    "In prikažemo rezultat:"
   ]
  },
  {
   "cell_type": "code",
   "execution_count": 9,
   "metadata": {},
   "outputs": [
    {
     "data": {
      "image/png": "[encoded data removed]",
      "text/plain": [
       "<matplotlib.figure.Figure at 0x1cd5bf90b38>"
      ]
     },
     "metadata": {},
     "output_type": "display_data"
    }
   ],
   "source": [
    "plt.title('Vertikalni met')\n",
    "plt.hlines(20,0., 1, 'C3', linestyles='dashed', label='Ciljna lega', alpha=0.5)\n",
    "plt.plot(t, y_vert[:,0], label='Lega $y$')\n",
    "plt.xlabel('$t$ [s]')\n",
    "plt.legend(loc=4)\n",
    "plt.show()"
   ]
  },
  {
   "cell_type": "markdown",
   "metadata": {
    "slideshow": {
     "slide_type": "subslide"
    }
   },
   "source": [
    "### Poševni met\n",
    "\n",
    "Poglejmo si sedaj bolj splošen primer poševnega meta, ko je naklon definiran s hitrostjo:\n",
    "\n",
    "$$\\tan(\\varphi)=\\frac{\\dot{y}}{\\dot{x}}$$\n",
    "\n",
    "Zanima nas rešitev, ko izstrelek izstrelimo iz višine $x=y=0\\,$m in mora pri času $t=b=1\\,$s biti na razdalji $x(b)=50\\,$m in višini $y(b)=20\\,$m. Definirali smo robni problem:\n",
    "\n",
    "\n",
    "$$\\ddot x(t)=-F\\,\\cos(\\varphi)/m\\qquad\\ddot y(t)=-F\\,\\sin(\\varphi)/m-g,$$\n",
    "\n",
    "$$x(0)=y(0)=0,\\quad x(1)=50, y(1)=20.$$"
   ]
  },
  {
   "cell_type": "markdown",
   "metadata": {
    "slideshow": {
     "slide_type": "subslide"
    }
   },
   "source": [
    "Najprej moramo sistem diferencialnih enačb drugega reda preoblikovati v sistem enačb prvega reda. \n",
    "Uporabimo:\n",
    "$$y_0=x,~ y_1=\\dot{x},~ y_2=y,~ y_3=\\dot{y}$$\n",
    "\n",
    "in dobimo sistem diferencialnih enačb prvega reda:\n",
    "\\begin{array}{rcl}\n",
    "\\dot y_0&=&y_1\\\\\n",
    "\\dot y_1&=&F\\,\\cos(\\varphi)/m\\\\\n",
    "\\dot y_2&=&y_3\\\\\n",
    "\\dot y_3&=&-g-F\\,\\sin(\\varphi)/m.\\\\\n",
    "\\end{array}"
   ]
  },
  {
   "cell_type": "markdown",
   "metadata": {
    "slideshow": {
     "slide_type": "subslide"
    }
   },
   "source": [
    "Pripravimo seznam funkcij prvega odvoda:"
   ]
  },
  {
   "cell_type": "code",
   "execution_count": 10,
   "metadata": {
    "collapsed": true
   },
   "outputs": [],
   "source": [
    "def f_poševno(t, y, g=9.81, m=1., c=0.5):\n",
    "    v = np.sqrt(y[1]**2 + y[3]**2) # hitrost\n",
    "    F = c*v**(3/2)\n",
    "    varphi = np.arctan2(y[3], y[2])\n",
    "    return np.array([y[1], F*np.cos(varphi)/m, y[3], -g-F*np.sin(varphi)/m])"
   ]
  },
  {
   "cell_type": "markdown",
   "metadata": {
    "slideshow": {
     "slide_type": "subslide"
    }
   },
   "source": [
    "er pripravimo funkcijo za izračun mejnega preostanka pri času $b$ v odvisnosti od vektorja začetne hitrosti $\\mathbf{v}_0$:"
   ]
  },
  {
   "cell_type": "code",
   "execution_count": 11,
   "metadata": {
    "collapsed": true
   },
   "outputs": [],
   "source": [
    "def r_poševno(v0=[5., 100.], ciljna_lega=np.array([50, 20.]), b=1.0, g=9.81, m=1., c=0.5):\n",
    "    y_ode = ode(f_poševno).set_integrator('dopri5').\\\n",
    "    set_initial_value([0, v0[0], 0, v0[1]]).set_f_params(g, m, c)\n",
    "    r = ciljna_lega - y_ode.integrate(b)[0:3:2]\n",
    "    return r"
   ]
  },
  {
   "cell_type": "markdown",
   "metadata": {
    "slideshow": {
     "slide_type": "subslide"
    }
   },
   "source": [
    "Preverimo mejni preostanek pri začetnem pogoju $\\mathbf{v}_0=[5., 100.]\\,$m/s:"
   ]
  },
  {
   "cell_type": "code",
   "execution_count": 12,
   "metadata": {
    "scrolled": true
   },
   "outputs": [
    {
     "data": {
      "text/plain": [
       "array([ 6.65768055, -3.81098348])"
      ]
     },
     "execution_count": 12,
     "metadata": {},
     "output_type": "execute_result"
    }
   ],
   "source": [
    "r_poševno(v0=[5., 100.])"
   ]
  },
  {
   "cell_type": "markdown",
   "metadata": {
    "slideshow": {
     "slide_type": "subslide"
    }
   },
   "source": [
    "Za iskanje korena sistema nelinearnih funkcij smo že spoznali funkcijo ``scipy.optimize.root`` ([dokumentacija](https://docs.scipy.org/doc/scipy/reference/generated/scipy.optimize.root.html)):\n",
    "\n",
    "```python\n",
    "root(fun, x0, args=(), method='hybr', jac=None, tol=None, callback=None, options=None)\n",
    "```\n",
    "Najprej jo uvozimo:"
   ]
  },
  {
   "cell_type": "code",
   "execution_count": 13,
   "metadata": {
    "collapsed": true
   },
   "outputs": [],
   "source": [
    "from scipy import optimize"
   ]
  },
  {
   "cell_type": "markdown",
   "metadata": {
    "slideshow": {
     "slide_type": "subslide"
    }
   },
   "source": [
    "In potem uporabimo z začetnim ugibanjem $\\mathbf{v}_0$:"
   ]
  },
  {
   "cell_type": "code",
   "execution_count": 14,
   "metadata": {
    "collapsed": true
   },
   "outputs": [],
   "source": [
    "rešitev = optimize.root(r_poševno, np.array([5., 100.]))"
   ]
  },
  {
   "cell_type": "markdown",
   "metadata": {
    "slideshow": {
     "slide_type": "subslide"
    }
   },
   "source": [
    "Rešitev je:"
   ]
  },
  {
   "cell_type": "code",
   "execution_count": 15,
   "metadata": {},
   "outputs": [
    {
     "data": {
      "text/plain": [
       "    fjac: array([[-0.9990064 ,  0.04456687],\n",
       "       [-0.04456687, -0.9990064 ]])\n",
       "     fun: array([  1.65485403e-11,   1.75504056e-12])\n",
       " message: 'The solution converged.'\n",
       "    nfev: 10\n",
       "     qtf: array([  5.00158131e-08,   7.55905340e-09])\n",
       "       r: array([ 5.64395384,  0.7741996 ,  0.20580742])\n",
       "  status: 1\n",
       " success: True\n",
       "       x: array([  9.03999443,  84.37700754])"
      ]
     },
     "execution_count": 15,
     "metadata": {},
     "output_type": "execute_result"
    }
   ],
   "source": [
    "rešitev"
   ]
  },
  {
   "cell_type": "markdown",
   "metadata": {
    "slideshow": {
     "slide_type": "subslide"
    }
   },
   "source": [
    "Preverimo mejni preostanek pri izračunani rešitvi:"
   ]
  },
  {
   "cell_type": "code",
   "execution_count": 16,
   "metadata": {},
   "outputs": [
    {
     "data": {
      "text/plain": [
       "array([  1.65485403e-11,   1.75504056e-12])"
      ]
     },
     "execution_count": 16,
     "metadata": {},
     "output_type": "execute_result"
    }
   ],
   "source": [
    "r_poševno(v0=rešitev.x)"
   ]
  },
  {
   "cell_type": "markdown",
   "metadata": {},
   "source": [
    "Poglejmo si sedaj izračunano rešitev:"
   ]
  },
  {
   "cell_type": "code",
   "execution_count": 17,
   "metadata": {},
   "outputs": [
    {
     "name": "stderr",
     "output_type": "stream",
     "text": [
      "C:\\Users\\Domen\\Anaconda3\\lib\\site-packages\\scipy\\integrate\\_ode.py:1035: UserWarning: dopri5: step size becomes too small\n",
      "  self.messages.get(idid, 'Unexpected idid=%s' % idid))\n"
     ]
    }
   ],
   "source": [
    "y_ode = ode(f_poševno).set_integrator('dopri5').\\\n",
    "    set_initial_value([0, rešitev.x[0], 0, rešitev.x[1]]).set_f_params(9.81, 1, 0.5)\n",
    "y_poševni = np.array([y_ode.integrate(_, step=t[1]) for _ in t])"
   ]
  },
  {
   "cell_type": "markdown",
   "metadata": {
    "slideshow": {
     "slide_type": "subslide"
    }
   },
   "source": [
    "In prikažemo rezultat:"
   ]
  },
  {
   "cell_type": "code",
   "execution_count": 18,
   "metadata": {},
   "outputs": [
    {
     "data": {
      "image/png": "[encoded data removed]",
      "text/plain": [
       "<matplotlib.figure.Figure at 0x1cd5c32eb70>"
      ]
     },
     "metadata": {},
     "output_type": "display_data"
    }
   ],
   "source": [
    "plt.title('Poševni met')\n",
    "plt.hlines(50,0., 1, 'C3', linestyles='dashed', label='Ciljna lega za $x$', alpha=0.5)\n",
    "plt.hlines(20,0., 1, 'C4', linestyles='dashed', label='Ciljna lega za $y$', alpha=0.5)\n",
    "plt.plot(t, y_poševni[:,0], label='Lega $x$')\n",
    "plt.plot(t, y_poševni[:,2], label='Lega $y$')\n",
    "plt.xlabel('$t$ [s]')\n",
    "plt.legend()\n",
    "plt.show()"
   ]
  },
  {
   "cell_type": "markdown",
   "metadata": {
    "slideshow": {
     "slide_type": "subslide"
    }
   },
   "source": [
    "## Numerični zgled: nosilec z obremenitvijo"
   ]
  },
  {
   "cell_type": "markdown",
   "metadata": {
    "slideshow": {
     "slide_type": "-"
    }
   },
   "source": [
    "Poglejmo si nosilca:\n",
    "<img src='./fig/nosilec.png' width=300>"
   ]
  },
  {
   "cell_type": "markdown",
   "metadata": {
    "slideshow": {
     "slide_type": "subslide"
    }
   },
   "source": [
    "Poves $w(x)$ popiše diferencialna enačba 4. reda:\n",
    "\n",
    "$$-E\\,I\\frac{\\textrm{d}^4}{\\textrm{d}x^4}w(x)+q(x)=0.$$\n",
    "\n",
    "Znane konstante so $E,I,l$ in je $q(x)$ porazdeljena obremenitev.\n",
    "\n",
    "Robni pogoji (členkasto vpet nosilec):\n",
    "$$w(0)=w(l)=0\\quad\\textrm{in}\\quad w''(0)=w''(l)=0$$"
   ]
  },
  {
   "cell_type": "markdown",
   "metadata": {},
   "source": [
    "Parametri so: \n",
    "* $I=2.1\\cdot10^{-5}\\,$m$^4$, \n",
    "* $E=2.1\\cdot10^{11}\\,N/$m$^2$, \n",
    "* $l=10\\,$m. \n",
    "\n",
    "Porazdeljena obremenitev $q(x)$ bo definirana pozneje."
   ]
  },
  {
   "cell_type": "markdown",
   "metadata": {
    "slideshow": {
     "slide_type": "subslide"
    }
   },
   "source": [
    "Najprej moramo sistem diferencialnih enačb drugega reda preoblikovati v sistem enačb prvega reda. \n",
    "Uporabimo:\n",
    "$$y_0=w,~ y_1=w',~ y_2=w'',~ y_3=w'''$$\n",
    "\n",
    "in dobimo sistem diferencialnih enačb prvega reda:\n",
    "\\begin{array}{rcl}\n",
    "y_0'&=&y_1\\\\\n",
    "y_1'&=&y_2\\\\\n",
    "y_2'&=&y_3\\\\\n",
    "y_3'&=&q(x)/(EI).\\\\\n",
    "\\end{array}"
   ]
  },
  {
   "cell_type": "markdown",
   "metadata": {
    "slideshow": {
     "slide_type": "subslide"
    }
   },
   "source": [
    "Pripravimo različne porazdeljene obremenitve:"
   ]
  },
  {
   "cell_type": "code",
   "execution_count": 19,
   "metadata": {
    "collapsed": true
   },
   "outputs": [],
   "source": [
    "def q_konstanta(x, F_0=1e3, l=10):\n",
    "    return -F_0\n",
    "\n",
    "def q_trikotna(x, F_0=1e3, l=10):\n",
    "    return -F_0*x/l\n",
    "\n",
    "def q_pol_sinusna(x, F_0=1e3, l=10):\n",
    "    return -F_0*np.sin(np.pi*x/l)"
   ]
  },
  {
   "cell_type": "markdown",
   "metadata": {
    "slideshow": {
     "slide_type": "subslide"
    }
   },
   "source": [
    "Definirajmo parametre:"
   ]
  },
  {
   "cell_type": "code",
   "execution_count": 20,
   "metadata": {
    "collapsed": true
   },
   "outputs": [],
   "source": [
    "l = 10.\n",
    "E = 2.1e11\n",
    "I = 2.1e-5"
   ]
  },
  {
   "cell_type": "code",
   "execution_count": 21,
   "metadata": {
    "slideshow": {
     "slide_type": "subslide"
    }
   },
   "outputs": [
    {
     "data": {
      "image/png": "[encoded data removed]",
      "text/plain": [
       "<matplotlib.figure.Figure at 0x1cd5c188080>"
      ]
     },
     "metadata": {},
     "output_type": "display_data"
    }
   ],
   "source": [
    "x = np.linspace(0, l, 100)\n",
    "plt.fill_between(x, q_konstanta(x), alpha=0.4, label='Konstantna')\n",
    "plt.fill_between(x, q_trikotna(x), alpha=0.4, label='Trikotna')\n",
    "plt.fill_between(x, q_pol_sinusna(x), alpha=0.4, label='Pol-sinusna')\n",
    "plt.title('Porazdeljena obremenitev $q(x)$')\n",
    "plt.legend()\n",
    "plt.show()"
   ]
  },
  {
   "cell_type": "markdown",
   "metadata": {
    "slideshow": {
     "slide_type": "subslide"
    }
   },
   "source": [
    "Pripravimo seznam funkcij prvega odvoda:"
   ]
  },
  {
   "cell_type": "code",
   "execution_count": 22,
   "metadata": {
    "collapsed": true
   },
   "outputs": [],
   "source": [
    "def f_nosilec(x, y, q, E=2.1e11, I=0.4):\n",
    "    return np.array([y[1], y[2], y[3], q(x)/(E*I)])"
   ]
  },
  {
   "cell_type": "code",
   "execution_count": 23,
   "metadata": {},
   "outputs": [
    {
     "data": {
      "text/plain": [
       "array([ 167.57218443,   50.06220711,    9.98866213,    0.99773243])"
      ]
     },
     "execution_count": 23,
     "metadata": {},
     "output_type": "execute_result"
    }
   ],
   "source": [
    "y_ode = ode(f_nosilec).set_integrator('dopri5').\\\n",
    "set_initial_value([0, 0.1, 0, 1]).set_f_params(q_konstanta, E, I)\n",
    "y_ode.integrate(l)"
   ]
  },
  {
   "cell_type": "markdown",
   "metadata": {
    "slideshow": {
     "slide_type": "subslide"
    }
   },
   "source": [
    "ter pripravimo funkcijo za izračun mejnega preostanka pri času $b$ v odvisnosti od vektorja začetne hitrosti $\\mathbf{v}_0$:"
   ]
  },
  {
   "cell_type": "code",
   "execution_count": 24,
   "metadata": {
    "collapsed": true
   },
   "outputs": [],
   "source": [
    "def r_nosilec(y0=[1., 1.], q=q_konstanta, ciljne_vrednosti=np.array([0, 0.]), b=10, E=2.1e11, I=2.1e-5):\n",
    "    y_ode = ode(f_nosilec).set_integrator('dopri5').\\\n",
    "    set_initial_value([0, y0[0], 0, y0[1]]).set_f_params(q, E, I)\n",
    "    r = ciljne_vrednosti - y_ode.integrate(b)[0:3:2]\n",
    "    return r"
   ]
  },
  {
   "cell_type": "markdown",
   "metadata": {
    "slideshow": {
     "slide_type": "subslide"
    }
   },
   "source": [
    "Za konstantno obremenitev preverimo mejni preostanek pri $w'(0)=1$ in $w'''(0)=1$:"
   ]
  },
  {
   "cell_type": "code",
   "execution_count": 25,
   "metadata": {},
   "outputs": [
    {
     "data": {
      "text/plain": [
       "array([-176.57218443,   -9.98866213])"
      ]
     },
     "execution_count": 25,
     "metadata": {},
     "output_type": "execute_result"
    }
   ],
   "source": [
    "r_nosilec(y0=[1., 1.], q=q_konstanta)"
   ]
  },
  {
   "cell_type": "markdown",
   "metadata": {
    "slideshow": {
     "slide_type": "subslide"
    }
   },
   "source": [
    "Rešimo sedaj sistem nelinearnih enačb s `scipy.optimize.root()`:"
   ]
  },
  {
   "cell_type": "code",
   "execution_count": 26,
   "metadata": {
    "collapsed": true
   },
   "outputs": [],
   "source": [
    "rešitev = optimize.root(r_nosilec, np.array([0., 0.]), args=(q_konstanta))"
   ]
  },
  {
   "cell_type": "markdown",
   "metadata": {
    "slideshow": {
     "slide_type": "subslide"
    }
   },
   "source": [
    "Rešitev je:"
   ]
  },
  {
   "cell_type": "code",
   "execution_count": 27,
   "metadata": {},
   "outputs": [
    {
     "data": {
      "text/plain": [
       "array([-0.00944822,  0.00113379])"
      ]
     },
     "execution_count": 27,
     "metadata": {},
     "output_type": "execute_result"
    }
   ],
   "source": [
    "rešitev.x"
   ]
  },
  {
   "cell_type": "markdown",
   "metadata": {},
   "source": [
    "In mejni preostanek pri najdeni rešitvi:"
   ]
  },
  {
   "cell_type": "code",
   "execution_count": 28,
   "metadata": {},
   "outputs": [
    {
     "data": {
      "text/plain": [
       "array([  1.07552856e-16,   4.33680869e-19])"
      ]
     },
     "execution_count": 28,
     "metadata": {},
     "output_type": "execute_result"
    }
   ],
   "source": [
    "r_nosilec(rešitev.x)"
   ]
  },
  {
   "cell_type": "markdown",
   "metadata": {
    "slideshow": {
     "slide_type": "subslide"
    }
   },
   "source": [
    "Pripravimo sedaj še izračun rezultatov pri najdenih začetnih pogojih:"
   ]
  },
  {
   "cell_type": "code",
   "execution_count": 29,
   "metadata": {},
   "outputs": [
    {
     "name": "stderr",
     "output_type": "stream",
     "text": [
      "C:\\Users\\Domen\\Anaconda3\\lib\\site-packages\\scipy\\integrate\\_ode.py:1035: UserWarning: dopri5: step size becomes too small\n",
      "  self.messages.get(idid, 'Unexpected idid=%s' % idid))\n"
     ]
    }
   ],
   "source": [
    "y_ode = ode(f_nosilec).set_integrator('dopri5').\\\n",
    "set_initial_value([0, rešitev.x[0], 0, rešitev.x[1]]).set_f_params(q_konstanta, E, I)\n",
    "y = np.array([y_ode.integrate(_, step=x[1]) for _ in x])"
   ]
  },
  {
   "cell_type": "markdown",
   "metadata": {},
   "source": [
    "In rezultat prikažimo:"
   ]
  },
  {
   "cell_type": "code",
   "execution_count": 30,
   "metadata": {},
   "outputs": [
    {
     "data": {
      "image/png": "[encoded data removed]",
      "text/plain": [
       "<matplotlib.figure.Figure at 0x1cd5c449ba8>"
      ]
     },
     "metadata": {},
     "output_type": "display_data"
    }
   ],
   "source": [
    "plt.fill_between(x, y[:,0], label='Poves $w$', alpha=0.5)\n",
    "plt.fill_between(x, y[:,1], label='Naklon $w\\'$', alpha=0.5)\n",
    "plt.title('Konstantna obremenitev')\n",
    "plt.legend()\n",
    "plt.show()"
   ]
  },
  {
   "cell_type": "markdown",
   "metadata": {},
   "source": [
    "### Polsinusna obremenitev\n",
    "\n",
    "Poglemo še rešitev za polsinusno obremenitev. V zgoraj zapisani kodi moramo dvakrat zamenjati samo funkcijo obremenitve: namesto `q_konstantna` uporabimo `q_pol_sinusna`:"
   ]
  },
  {
   "cell_type": "code",
   "execution_count": 31,
   "metadata": {},
   "outputs": [
    {
     "name": "stderr",
     "output_type": "stream",
     "text": [
      "C:\\Users\\Domen\\Anaconda3\\lib\\site-packages\\scipy\\integrate\\_ode.py:1035: UserWarning: dopri5: step size becomes too small\n",
      "  self.messages.get(idid, 'Unexpected idid=%s' % idid))\n"
     ]
    }
   ],
   "source": [
    "rešitev = optimize.root(r_nosilec, np.array([0., 0.]), args=(q_pol_sinusna))\n",
    "y_ode = ode(f_nosilec).set_integrator('dopri5').\\\n",
    "set_initial_value([0, rešitev.x[0], 0, rešitev.x[1]]).set_f_params(q_pol_sinusna, E, I)\n",
    "y_pol_sin = np.array([y_ode.integrate(_, step=x[1]) for _ in x])"
   ]
  },
  {
   "cell_type": "markdown",
   "metadata": {
    "slideshow": {
     "slide_type": "subslide"
    }
   },
   "source": [
    "In prikažemo rezultat:"
   ]
  },
  {
   "cell_type": "code",
   "execution_count": 32,
   "metadata": {},
   "outputs": [
    {
     "data": {
      "image/png": "[encoded data removed]",
      "text/plain": [
       "<matplotlib.figure.Figure at 0x1cd5c420a20>"
      ]
     },
     "metadata": {},
     "output_type": "display_data"
    }
   ],
   "source": [
    "plt.fill_between(x, y[:,0], label='Poves $w$', alpha=0.5)\n",
    "plt.fill_between(x, y_pol_sin[:,1], label='Naklon $w\\'$', alpha=0.5)\n",
    "plt.title('Polsinusna obremenitev')\n",
    "plt.legend()\n",
    "plt.show()"
   ]
  },
  {
   "cell_type": "markdown",
   "metadata": {
    "slideshow": {
     "slide_type": "slide"
    }
   },
   "source": [
    "# Metoda končnih razlik"
   ]
  },
  {
   "cell_type": "markdown",
   "metadata": {},
   "source": [
    "Pri metodi končnih razlik za reševanje robnega problema uporabimo diferenčno shemo končnih razlik. Predpostavimo, da imamo interval na katerem rešujemo diferencialno enačbo (neodvisna spremenljivka) razdeljeno na $n$ ekvidistantnih točk:\n",
    "\n",
    "$$t=[t_0, t_1,\\dots, t_{n-1}]$$\n",
    "\n",
    "in rešujemo robni problem:\n",
    "\n",
    "$$\\ddot y=f(t, y, \\dot y),\\qquad y(a)=\\alpha,\\quad y(b)=\\beta.$$\n",
    "\n",
    "Velja torej: $$a=t_0,\\quad b=t_{n-1}.$$"
   ]
  },
  {
   "cell_type": "markdown",
   "metadata": {
    "slideshow": {
     "slide_type": "subslide"
    }
   },
   "source": [
    "Odvode nadomestimo z centralno diferenčno shemo:\n",
    "\n",
    "|       |$\\mbox{$f(x-2h)$}$|$\\mbox{$f(x-h)$}$ |$\\mbox{$\\quad f(x)\\quad$}$   |$\\mbox{$f(x+h)$}$ |$\\mbox{$f(x+2h)$}$|\n",
    "|:--------:|:-------------------:|:----------:|:----------:|:----------:|:----------:|\n",
    "|$\\mbox{$f'(x)=\\frac{1}{h}\\cdot$}$| 0     | -0.5 | 0 | 0.5 | 0|\n",
    "|$\\mbox{$f''(x)=\\frac{1}{h^2}\\cdot$}$| 0 | 1 | -2 | 1 | 0|\n",
    "|$\\mbox{$f'''(x)=\\frac{1}{h^3}\\cdot$}$| -0.5 | 1 | 0 | -1 | 0.5|\n",
    "|$\\mbox{$f^{(4)}(x)=\\frac{1}{h^4}\\cdot$}$| 1 | -4 | 6 | -4 | 1|\n",
    "\n",
    "Prikazana centralna diferenčna shema ima napako 2. reda $\\mathcal{O}(h^{2})$."
   ]
  },
  {
   "cell_type": "markdown",
   "metadata": {
    "slideshow": {
     "slide_type": "subslide"
    }
   },
   "source": [
    "Za $i$-to točko lahko navadno differencialno enačbo drugega reda s centralno diferenčno shemo zapišemo kot:\n",
    "\n",
    "$$\\frac{1}{h^2}\\left(y_{i-1}-2\\,y_{i}+y_{i+1}\\right)+\\mathcal{O}(h^{2})=f\\left(t_i, y_i, \n",
    "\\frac{1}{2h}\\left(y_{i-1}+y_{i+1}\\right)+\\mathcal{O}(h^{2})\\right).$$"
   ]
  },
  {
   "cell_type": "markdown",
   "metadata": {
    "slideshow": {
     "slide_type": "subslide"
    }
   },
   "source": [
    "Če odstranimo člena za napako:\n",
    "\n",
    "$$\\frac{1}{h^2}\\left(y_{i-1}-2\\,y_{i}+y_{i+1}\\right)=f\\left(t_i, y_i, \n",
    "\\frac{1}{2h}\\left(y_{i-1}+y_{i+1}\\right)\\right).$$\n",
    "\n",
    "Zgornjo enačbo lahko zapišemo za $n-2$ notranjih točk, kar pomeni, da nam do rešljivega sistema enačb manjkata še dve enačbi. Ti dve enačbi sta robna pogoja:\n",
    "\n",
    "$$y_0=\\alpha,\\quad y_{n-1}=\\beta.$$"
   ]
  },
  {
   "cell_type": "markdown",
   "metadata": {
    "slideshow": {
     "slide_type": "subslide"
    }
   },
   "source": [
    "V primeru linearnega robnega problema moramo za izračun $n$ neznank $y_i$ rešiti sistem $n$ linearnih enačb."
   ]
  },
  {
   "cell_type": "markdown",
   "metadata": {
    "slideshow": {
     "slide_type": "subslide"
    }
   },
   "source": [
    "### Ocena napake\n",
    "\n",
    "Točen rezultat $y(t_{i})$ pri velikosti koraka $h$ je:\n",
    "\n",
    "$$y(t_{i})=y_{i,h}+E_{i,h},$$\n",
    "kjer je $y_{i,h}$ numerični približek in $E_h$ napaka metode. Ker je globalna napaka drugega reda, lahko napako definiramo kot:\n",
    "\n",
    "$$E_{i,h}=k\\,h^2,$$"
   ]
  },
  {
   "cell_type": "markdown",
   "metadata": {
    "slideshow": {
     "slide_type": "subslide"
    }
   },
   "source": [
    "Podobno lahko za velikost koraka $2h$ definiramo:\n",
    "\n",
    "$$y(t_{j})=y_{j,2h}+E_{j,2h},$$\n",
    "kjer je $y_{j,2h}$ numerični približek in $E_{2h}$ napaka metode:\n",
    "\n",
    "$$E_{j,2h}=k\\,(2\\,h)^2=4\\,k\\,h^2$$"
   ]
  },
  {
   "cell_type": "markdown",
   "metadata": {
    "slideshow": {
     "slide_type": "subslide"
    }
   },
   "source": [
    "Ob predpostavki, da je konstanta $k$ pri koraku $h$ in koraku $2h$ enaka, lahko določimo oceno napake pri boljšem približku $E_h$. Najprej izenačimo točna rezultat $y(t_{i})$ pri koraku $h$ in rezultat $y(t_{j})$ pri koraku $2h$ (velja $i=2\\,j$, $j=1,2,\\dots$):\n",
    "\n",
    "$$y_{i,h}+k\\,h^2=y_{j,2h}+4\\,k\\,h^2$$"
   ]
  },
  {
   "cell_type": "markdown",
   "metadata": {
    "slideshow": {
     "slide_type": "subslide"
    }
   },
   "source": [
    "sledi:\n",
    "\n",
    "$$3\\,k\\,h^2=y_{2j,h}-y_{j,2h}$$\n",
    "\n",
    "in nato določimo *oceno napake*:\n",
    "\n",
    "$$E_{j,h}=\\frac{y_{2j,h}-y_{j,2h}}{3}.$$"
   ]
  },
  {
   "cell_type": "markdown",
   "metadata": {
    "slideshow": {
     "slide_type": "subslide"
    }
   },
   "source": [
    "## Numerični zgled: vertikalni met\n",
    "\n",
    "Zgoraj smo vertikalni met rešili s strelsko metodo; uporabimo sedaj metodo končnih razlik. Najprej moramo enačbo drugega reda:\n",
    "\n",
    "$$\\ddot y=f(t, y, \\dot y) = -g-c\\,\\dot y/m$$\n",
    "\n",
    "zapisati s pomočjo centralne diferenčne sheme:\n",
    "\n",
    "$$\\frac{1}{h^2}\\left(y_{i-1}-2\\,y_{i}+y_{i+1}\\right)= -g-c\\,(-y_{i-1}+y_{i+1})/(2\\,h\\,m).$$\n",
    "\n",
    "(Tukaj smo predpostavili, da je zračni upor linearno odvisen od hitrost. V nasprotnem primeru bi imeli nelinearni robni problem, in posledično razvili sistem nelinearnih enačb.)"
   ]
  },
  {
   "cell_type": "markdown",
   "metadata": {
    "slideshow": {
     "slide_type": "subslide"
    }
   },
   "source": [
    "Zgornji izraz preoblikujemo:\n",
    "\n",
    "$$\\left(y_{i-1}-2\\,y_{i}+y_{i+1}\\right) + c\\,h/(2\\,m)\\,\\left(-y_{i-1}+y_{i+1}\\right)= -g\\,h^2.$$\n",
    "\n",
    "Robna pogoja sta:\n",
    "\n",
    "$$y_0=0,\\qquad y_{n-1}=20$$"
   ]
  },
  {
   "cell_type": "markdown",
   "metadata": {
    "slideshow": {
     "slide_type": "subslide"
    }
   },
   "source": [
    "Robni problem smo torej preoblikovali na sistem $n$ linearnih enačb. Pogljemo si sedaj konkreten izračun za $n=11$; najprej definirajmo konstante, časovni vektor `t` in korak `h`:"
   ]
  },
  {
   "cell_type": "code",
   "execution_count": 33,
   "metadata": {
    "collapsed": true
   },
   "outputs": [],
   "source": [
    "n = 11 # liho število\n",
    "c = 0.5\n",
    "m = 1.0\n",
    "g = 9.81\n",
    "t = np.linspace(0, 1, n)\n",
    "h = t[1]"
   ]
  },
  {
   "cell_type": "markdown",
   "metadata": {
    "slideshow": {
     "slide_type": "subslide"
    }
   },
   "source": [
    "Nato nadaljujemo z izračunom tridiagonalne matrike koeficientov `A`. \n",
    "\n",
    "Pomagamo si s funkcijo `numpy.diag` ([dokumentacija](https://docs.scipy.org/doc/numpy/reference/generated/numpy.diag.html)):\n",
    "\n",
    "```python\n",
    "numpy.diag(v, k=0)\n",
    "```\n",
    "s parametroma:\n",
    "\n",
    "* `v` vektor, ki bo prirejen diagonali\n",
    "* `k` diagonala, kateri se priredi `v`. `k=0` uporabimo za glavno diagonalo, `k<0` oz. `k>0` uporabimo za  diagonale pod oz. nad nad glavno diagonalo."
   ]
  },
  {
   "cell_type": "code",
   "execution_count": 34,
   "metadata": {
    "slideshow": {
     "slide_type": "subslide"
    }
   },
   "outputs": [
    {
     "data": {
      "text/plain": [
       "array([[-2.   ,  1.025,  0.   ,  0.   ],\n",
       "       [ 0.975, -2.   ,  1.025,  0.   ],\n",
       "       [ 0.   ,  0.975, -2.   ,  1.025],\n",
       "       [ 0.   ,  0.   ,  0.975, -2.   ]])"
      ]
     },
     "execution_count": 34,
     "metadata": {},
     "output_type": "execute_result"
    }
   ],
   "source": [
    "A = np.diag(-2*np.ones(n), 0) + \\\n",
    "    (1-c*h/(2*m))*np.diag(np.ones(n-1), -1) + \\\n",
    "    (1+c*h/(2*m))*np.diag(np.ones(n-1), 1)\n",
    "A[:4,:4]"
   ]
  },
  {
   "cell_type": "markdown",
   "metadata": {
    "slideshow": {
     "slide_type": "subslide"
    }
   },
   "source": [
    "Definirajmo še vektor konstant:"
   ]
  },
  {
   "cell_type": "code",
   "execution_count": 35,
   "metadata": {
    "collapsed": true
   },
   "outputs": [],
   "source": [
    "b = -g*h**2 * np.ones(n)"
   ]
  },
  {
   "cell_type": "markdown",
   "metadata": {
    "slideshow": {
     "slide_type": "subslide"
    }
   },
   "source": [
    "Sedaj *popravimo* matriko koeficientov `A` in vektor konstant `b`, da zadostimo robnim pogojem:\n",
    "\n",
    "$$y_0=0,\\quad y_{n-1}=20.$$"
   ]
  },
  {
   "cell_type": "code",
   "execution_count": 36,
   "metadata": {
    "collapsed": true
   },
   "outputs": [],
   "source": [
    "A[0,0] = 1\n",
    "A[0,1] = 0\n",
    "A[-1,-1] = 1\n",
    "A[-1,-2] = 0"
   ]
  },
  {
   "cell_type": "code",
   "execution_count": 37,
   "metadata": {
    "collapsed": true
   },
   "outputs": [],
   "source": [
    "b[0] = 0.\n",
    "b[-1] = 20."
   ]
  },
  {
   "cell_type": "markdown",
   "metadata": {
    "slideshow": {
     "slide_type": "subslide"
    }
   },
   "source": [
    "In rešimo sistem linearnih enačb:"
   ]
  },
  {
   "cell_type": "code",
   "execution_count": 38,
   "metadata": {
    "collapsed": true
   },
   "outputs": [],
   "source": [
    "y_mkr = np.linalg.solve(A, b)"
   ]
  },
  {
   "cell_type": "markdown",
   "metadata": {
    "slideshow": {
     "slide_type": "subslide"
    }
   },
   "source": [
    "Ter prikažemo rezultat:"
   ]
  },
  {
   "cell_type": "code",
   "execution_count": 39,
   "metadata": {},
   "outputs": [
    {
     "data": {
      "image/png": "[encoded data removed]",
      "text/plain": [
       "<matplotlib.figure.Figure at 0x1cd5c167080>"
      ]
     },
     "metadata": {},
     "output_type": "display_data"
    }
   ],
   "source": [
    "plt.title('Vertikalni met (upor zraka: $-c\\,\\dot y$)')\n",
    "plt.hlines(20, 0, 1, 'C3', label='Ciljna lega', linestyles='dashed', alpha=0.5)\n",
    "plt.plot(t, y_mkr, '.', label='Metoda končnih razlik')\n",
    "plt.xlabel('$t$ [s]')\n",
    "plt.ylabel('$y$ [m]')\n",
    "plt.legend()\n",
    "plt.show()"
   ]
  },
  {
   "cell_type": "markdown",
   "metadata": {},
   "source": [
    "S pomočjo funkcije [`numpy.gradient()`](https://docs.scipy.org/doc/numpy/reference/generated/numpy.gradient.html) izračunamo še hitrost in pospešek:"
   ]
  },
  {
   "cell_type": "code",
   "execution_count": 40,
   "metadata": {},
   "outputs": [
    {
     "data": {
      "text/plain": [
       "array([ 30.68896632,  28.29330125,  25.95606705,  23.73284426])"
      ]
     },
     "execution_count": 40,
     "metadata": {},
     "output_type": "execute_result"
    }
   ],
   "source": [
    "v_mkr = np.gradient(y_mkr,h, edge_order=2)\n",
    "a_mkr = np.gradient(v_mkr,h, edge_order=2)\n",
    "v_mkr[:4]"
   ]
  },
  {
   "cell_type": "markdown",
   "metadata": {
    "slideshow": {
     "slide_type": "subslide"
    }
   },
   "source": [
    "Izračunajmo sedaj še rezultat z dvojnim korakom:"
   ]
  },
  {
   "cell_type": "code",
   "execution_count": 41,
   "metadata": {
    "collapsed": true,
    "slideshow": {
     "slide_type": "subslide"
    }
   },
   "outputs": [],
   "source": [
    "n2h = n//2+1\n",
    "t2h = np.linspace(0, 1, n2h)\n",
    "h2h = t[1]\n",
    "A2h = np.diag(-2*np.ones(n2h), 0) + \\\n",
    "    (1-c*h2h/(2*m))*np.diag(np.ones(n2h-1), -1) + \\\n",
    "    (1+c*h2h/(2*m))*np.diag(np.ones(n2h-1), 1)\n",
    "b2h = -g*h2h**2 * np.ones(n2h)\n",
    "A2h[0,0] = 1\n",
    "A2h[0,1] = 0\n",
    "A2h[-1,-1] = 1\n",
    "A2h[-1,-2] = 0\n",
    "b2h[0] = 0.\n",
    "b2h[-1] = 20.\n",
    "y2h_mkr = np.linalg.solve(A2h, b2h)"
   ]
  },
  {
   "cell_type": "markdown",
   "metadata": {
    "slideshow": {
     "slide_type": "subslide"
    }
   },
   "source": [
    "Primerjajmo prvih šest rezultatov pri koraku $2h$:"
   ]
  },
  {
   "cell_type": "code",
   "execution_count": 42,
   "metadata": {},
   "outputs": [
    {
     "data": {
      "text/plain": [
       "array([ -0.        ,   4.61071605,   8.9008118 ,  12.88592727,\n",
       "        16.58093954,  20.        ])"
      ]
     },
     "execution_count": 42,
     "metadata": {},
     "output_type": "execute_result"
    }
   ],
   "source": [
    "y2h_mkr[:6]"
   ]
  },
  {
   "cell_type": "markdown",
   "metadata": {},
   "source": [
    "z vsakim drugim rezultatom pri koraku $h$:"
   ]
  },
  {
   "cell_type": "code",
   "execution_count": 43,
   "metadata": {},
   "outputs": [
    {
     "data": {
      "text/plain": [
       "array([  0.        ,   5.65866025,  10.4052291 ,  14.32652073,\n",
       "        17.50108621,  20.        ])"
      ]
     },
     "execution_count": 43,
     "metadata": {},
     "output_type": "execute_result"
    }
   ],
   "source": [
    "y_mkr[:12:2]"
   ]
  },
  {
   "cell_type": "markdown",
   "metadata": {
    "slideshow": {
     "slide_type": "subslide"
    }
   },
   "source": [
    "Sedaj lahko ocenimo napako:"
   ]
  },
  {
   "cell_type": "code",
   "execution_count": 44,
   "metadata": {},
   "outputs": [
    {
     "data": {
      "text/plain": [
       "array([ 0.        ,  0.34931474,  0.50147244,  0.48019782,  0.30671555,  0.        ])"
      ]
     },
     "execution_count": 44,
     "metadata": {},
     "output_type": "execute_result"
    }
   ],
   "source": [
    "(y_mkr[::2]-y2h_mkr)/3"
   ]
  },
  {
   "cell_type": "markdown",
   "metadata": {
    "slideshow": {
     "slide_type": "subslide"
    }
   },
   "source": [
    "## Numerični zgled: nosilec z obremenitvijo"
   ]
  },
  {
   "cell_type": "markdown",
   "metadata": {
    "slideshow": {
     "slide_type": "subslide"
    }
   },
   "source": [
    "Vrnimo se k robnemu problemu nosilca s polsinusno obremenitvijo ($q(x)=-F_0\\,\\sin(\\pi\\,x/l))$), ki smo ga že obravnavali s strelsko metodo. \n",
    "\n",
    "Diferencialno enačbo četrtega reda zapišemo s pomočjo centralne diferenčne sheme (za $i$-to točko):\n",
    "\n",
    "$$-\\frac{E\\,I}{h^4}\\left(1\\,w_{i-2} - 4\\,w_{i-1} + 6\\,w_{i} - 4\\,w_{i+1} + 1\\, w_{i+2}\\right) - F_0\\,\\sin(\\pi\\,x_i/l)= 0.$$"
   ]
  },
  {
   "cell_type": "markdown",
   "metadata": {
    "slideshow": {
     "slide_type": "subslide"
    }
   },
   "source": [
    "Robni pogoji so štirje, najprej poves na robovih: \n",
    "\n",
    "$$w_0=w_{n-1}=0$$\n",
    "\n",
    "Ker na robovih ni momenta je drugi odvod nič. S centralno diferenčno shemo torej zapišemo dodatne enačbe: \n",
    "\n",
    "$$w_{-1}-2\\,w_{0}+w_{1}=0\\qquad w_{n-2}-2\\,w_{n-1}+w_{n}=0.$$"
   ]
  },
  {
   "cell_type": "markdown",
   "metadata": {
    "slideshow": {
     "slide_type": "subslide"
    }
   },
   "source": [
    "Če za neodvisno spremenljivko $x$ uporabimo $n$ ekvidistantnih točk, potem diferencialno enačbo 4. reda zapišemo za $n-2$ notranje točke. S tem pridobimo dodatni nefizikalni točki $w_{-1}$ in $w_n$. Če dodamo še štiri robne pogoje imamo rešljiv sistem linearnih enačb z $n+2$ neznakami in $n+2$ enačbami."
   ]
  },
  {
   "cell_type": "markdown",
   "metadata": {
    "slideshow": {
     "slide_type": "subslide"
    }
   },
   "source": [
    "Najprej pripravimo podatke, neodvisno spremenljivko `x` in korak `h`:"
   ]
  },
  {
   "cell_type": "code",
   "execution_count": 45,
   "metadata": {
    "collapsed": true
   },
   "outputs": [],
   "source": [
    "l = 10.\n",
    "E = 2.1e11\n",
    "I = 2.1e-5\n",
    "F_0= 1e3\n",
    "n = 100\n",
    "x = np.linspace(0, l, n)\n",
    "h = x[1]"
   ]
  },
  {
   "cell_type": "markdown",
   "metadata": {},
   "source": [
    "Nato pripravimo matriko koeficientov (matrika je dimenzije `(n+2, n+2)`:"
   ]
  },
  {
   "cell_type": "code",
   "execution_count": 46,
   "metadata": {
    "slideshow": {
     "slide_type": "subslide"
    }
   },
   "outputs": [
    {
     "data": {
      "text/plain": [
       "array([[ 6., -4.,  1.,  0.],\n",
       "       [-4.,  6., -4.,  1.],\n",
       "       [ 1., -4.,  6., -4.],\n",
       "       [ 0.,  1., -4.,  6.]])"
      ]
     },
     "execution_count": 46,
     "metadata": {},
     "output_type": "execute_result"
    }
   ],
   "source": [
    "A = +1*np.diag(np.ones(n-2+2), -2) \\\n",
    "    -4*np.diag(np.ones(n-1+2), -1) \\\n",
    "    +6*np.diag(np.ones(n+2), 0)  \\\n",
    "    -4*np.diag(np.ones(n-1+2), +1)  \\\n",
    "    +1*np.diag(np.ones(n-2+2), +2)\n",
    "A[:4,:4]"
   ]
  },
  {
   "cell_type": "markdown",
   "metadata": {
    "slideshow": {
     "slide_type": "subslide"
    }
   },
   "source": [
    "Definirajmo še vektor konstant (dodamo en element na koncu in en na začetku):"
   ]
  },
  {
   "cell_type": "code",
   "execution_count": 47,
   "metadata": {},
   "outputs": [
    {
     "data": {
      "text/plain": [
       "array([  0.00000000e+00,  -0.00000000e+00,  -7.48966545e-10,\n",
       "        -1.49717894e-09])"
      ]
     },
     "execution_count": 47,
     "metadata": {},
     "output_type": "execute_result"
    }
   ],
   "source": [
    "b = np.zeros(n+2)\n",
    "b[1:-1] = - h**4 * F_0*np.sin(np.pi*x/l)/(E*I)\n",
    "b[:4]"
   ]
  },
  {
   "cell_type": "markdown",
   "metadata": {
    "slideshow": {
     "slide_type": "subslide"
    }
   },
   "source": [
    "Sedaj *popravimo* matriko koeficientov `A` in vektor konstant `b`, da zadostimo\n",
    "robnim pogojem. \n",
    "\n",
    "Najprej $w_0=w_{n-1}=0$:"
   ]
  },
  {
   "cell_type": "code",
   "execution_count": 48,
   "metadata": {
    "collapsed": true
   },
   "outputs": [],
   "source": [
    "A[0,:3]= np.array([0, 1, 0])\n",
    "b[0] = 0\n",
    "A[-1,-3:]= np.array([0, 1, 0])\n",
    "b[-1] = 0"
   ]
  },
  {
   "cell_type": "markdown",
   "metadata": {},
   "source": [
    "Nato $w_{-1}-2\\,w_{0}+w_{1}=0$ in $w_{n-2}-2\\,w_{n-1}+w_{n}=0$:"
   ]
  },
  {
   "cell_type": "code",
   "execution_count": 49,
   "metadata": {
    "collapsed": true
   },
   "outputs": [],
   "source": [
    "A[1,:4] = np.array([1, -2, 1,0])\n",
    "b[1] = 0\n",
    "A[-2,-4:] = np.array([0, 1, -2, 1])\n",
    "b[-2] = 0"
   ]
  },
  {
   "cell_type": "code",
   "execution_count": 50,
   "metadata": {},
   "outputs": [
    {
     "data": {
      "text/plain": [
       "array([[ 0.,  1.,  0.,  0.,  0.],\n",
       "       [ 1., -2.,  1.,  0.,  0.],\n",
       "       [ 1., -4.,  6., -4.,  1.],\n",
       "       [ 0.,  1., -4.,  6., -4.],\n",
       "       [ 0.,  0.,  1., -4.,  6.]])"
      ]
     },
     "execution_count": 50,
     "metadata": {},
     "output_type": "execute_result"
    }
   ],
   "source": [
    "A[:5,:5]"
   ]
  },
  {
   "cell_type": "code",
   "execution_count": 51,
   "metadata": {},
   "outputs": [
    {
     "data": {
      "text/plain": [
       "array([[ 6., -4.,  1.,  0.,  0.],\n",
       "       [-4.,  6., -4.,  1.,  0.],\n",
       "       [ 1., -4.,  6., -4.,  1.],\n",
       "       [ 0.,  0.,  1., -2.,  1.],\n",
       "       [ 0.,  0.,  0.,  1.,  0.]])"
      ]
     },
     "execution_count": 51,
     "metadata": {},
     "output_type": "execute_result"
    }
   ],
   "source": [
    "A[-5:,-5:]"
   ]
  },
  {
   "cell_type": "code",
   "execution_count": 52,
   "metadata": {},
   "outputs": [
    {
     "data": {
      "text/plain": [
       "array([  0.00000000e+00,   0.00000000e+00,  -7.48966545e-10,\n",
       "        -1.49717894e-09,  -2.24388381e-09])"
      ]
     },
     "execution_count": 52,
     "metadata": {},
     "output_type": "execute_result"
    }
   ],
   "source": [
    "b[:5]"
   ]
  },
  {
   "cell_type": "code",
   "execution_count": 53,
   "metadata": {},
   "outputs": [
    {
     "data": {
      "text/plain": [
       "array([ -2.24388381e-09,  -1.49717894e-09,  -7.48966545e-10,\n",
       "         0.00000000e+00,   0.00000000e+00])"
      ]
     },
     "execution_count": 53,
     "metadata": {},
     "output_type": "execute_result"
    }
   ],
   "source": [
    "b[-5:]"
   ]
  },
  {
   "cell_type": "markdown",
   "metadata": {
    "slideshow": {
     "slide_type": "subslide"
    }
   },
   "source": [
    "In rešimo sistem linearnih enačb:"
   ]
  },
  {
   "cell_type": "code",
   "execution_count": 54,
   "metadata": {
    "collapsed": true
   },
   "outputs": [],
   "source": [
    "y_mkr = np.linalg.solve(A, b)"
   ]
  },
  {
   "cell_type": "markdown",
   "metadata": {
    "slideshow": {
     "slide_type": "subslide"
    }
   },
   "source": [
    "Ter prikažemo rezultat:"
   ]
  },
  {
   "cell_type": "code",
   "execution_count": 55,
   "metadata": {},
   "outputs": [
    {
     "data": {
      "image/png": "[encoded data removed]",
      "text/plain": [
       "<matplotlib.figure.Figure at 0x1cd5d5824a8>"
      ]
     },
     "metadata": {},
     "output_type": "display_data"
    }
   ],
   "source": [
    "plt.title('Upogib ob polsinusni obremenitvi')\n",
    "plt.plot(x, y_pol_sin[:,0], 'o', label='Strelska metoda')\n",
    "plt.plot(x, y_mkr[1:-1], '.', label='Metoda končnih razlik')\n",
    "plt.xlabel('$x$ [m]')\n",
    "plt.ylabel('$w$ [m]')\n",
    "plt.legend()\n",
    "plt.show()"
   ]
  },
  {
   "cell_type": "markdown",
   "metadata": {},
   "source": [
    "# Dodatno: simbolna rešitev nosilca"
   ]
  },
  {
   "cell_type": "markdown",
   "metadata": {
    "slideshow": {
     "slide_type": "subslide"
    }
   },
   "source": [
    "Tukaj si bomo pogledali simbolno reševanje robnega problema. Poudariti je treba, da gre tukaj zgolj za zgled, ki ga lahko naredimo za obravnavani nosilec z relativno enostavno polsinusno obremenitvijo. **V praksi so seveda obremenitve in tudi oblike nosilca lahko bistveno bolj zahtevne in takrat druge poti kot numeričnega reševanja skoraj nimamo na voljo.**"
   ]
  },
  {
   "cell_type": "markdown",
   "metadata": {
    "slideshow": {
     "slide_type": "subslide"
    }
   },
   "source": [
    "Najprej uvozimo `sympy`:"
   ]
  },
  {
   "cell_type": "code",
   "execution_count": 56,
   "metadata": {
    "collapsed": true
   },
   "outputs": [],
   "source": [
    "import sympy as sym\n",
    "sym.init_printing()"
   ]
  },
  {
   "cell_type": "markdown",
   "metadata": {
    "slideshow": {
     "slide_type": "subslide"
    }
   },
   "source": [
    "In definirajmo spremenljivke:"
   ]
  },
  {
   "cell_type": "code",
   "execution_count": 57,
   "metadata": {
    "collapsed": true
   },
   "outputs": [],
   "source": [
    "w, x, E, I, F_0, l = sym.symbols('w, x, E, I, F_0, l')"
   ]
  },
  {
   "cell_type": "markdown",
   "metadata": {},
   "source": [
    "Ter differencialno enačbo (robne pogoje dodamo pozneje):"
   ]
  },
  {
   "cell_type": "code",
   "execution_count": 58,
   "metadata": {},
   "outputs": [
    {
     "data": {
      "image/png": "[encoded data removed]",
      "text/latex": [
       "$$- E I \\frac{d^{4}}{d x^{4}}  w{\\left (x \\right )} - F_{0} \\sin{\\left (\\frac{\\pi x}{l} \\right )} = 0$$"
      ],
      "text/plain": [
       "        4                        \n",
       "       d                ⎛π⋅x⎞    \n",
       "- E⋅I⋅───(w(x)) - F₀⋅sin⎜───⎟ = 0\n",
       "        4               ⎝ l ⎠    \n",
       "      dx                         "
      ]
     },
     "execution_count": 58,
     "metadata": {},
     "output_type": "execute_result"
    }
   ],
   "source": [
    "eq = sym.Eq(-E*I*w(x).diff(x,4)-F_0*sym.sin(sym.pi*x/l))\n",
    "eq"
   ]
  },
  {
   "cell_type": "markdown",
   "metadata": {
    "slideshow": {
     "slide_type": "subslide"
    }
   },
   "source": [
    "Rešimo:"
   ]
  },
  {
   "cell_type": "code",
   "execution_count": 59,
   "metadata": {
    "slideshow": {
     "slide_type": "-"
    }
   },
   "outputs": [
    {
     "data": {
      "image/png": "[encoded data removed]",
      "text/latex": [
       "$$C_{1} + C_{2} x + C_{3} x^{2} + C_{4} x^{3} - \\frac{F_{0} l^{4}}{\\pi^{4} E I} \\sin{\\left (\\frac{\\pi x}{l} \\right )}$$"
      ],
      "text/plain": [
       "                                4    ⎛π⋅x⎞\n",
       "                            F₀⋅l ⋅sin⎜───⎟\n",
       "                2       3            ⎝ l ⎠\n",
       "C₁ + C₂⋅x + C₃⋅x  + C₄⋅x  - ──────────────\n",
       "                                 4        \n",
       "                                π ⋅E⋅I    "
      ]
     },
     "execution_count": 59,
     "metadata": {},
     "output_type": "execute_result"
    }
   ],
   "source": [
    "sol = sym.dsolve(eq).args[1]\n",
    "sol"
   ]
  },
  {
   "cell_type": "markdown",
   "metadata": {
    "slideshow": {
     "slide_type": "subslide"
    }
   },
   "source": [
    "Iz vrednosti rešitve pri $x=0$:"
   ]
  },
  {
   "cell_type": "code",
   "execution_count": 60,
   "metadata": {},
   "outputs": [
    {
     "data": {
      "image/png": "[encoded data removed]",
      "text/latex": [
       "$$C_{1}$$"
      ],
      "text/plain": [
       "C₁"
      ]
     },
     "execution_count": 60,
     "metadata": {},
     "output_type": "execute_result"
    }
   ],
   "source": [
    "sol.subs(x, 0)"
   ]
  },
  {
   "cell_type": "markdown",
   "metadata": {},
   "source": [
    "in drugega odvoda rešitve pri $x=0$:"
   ]
  },
  {
   "cell_type": "code",
   "execution_count": 61,
   "metadata": {},
   "outputs": [
    {
     "data": {
      "image/png": "[encoded data removed]",
      "text/latex": [
       "$$2 C_{3}$$"
      ],
      "text/plain": [
       "2⋅C₃"
      ]
     },
     "execution_count": 61,
     "metadata": {},
     "output_type": "execute_result"
    }
   ],
   "source": [
    "sol.diff(x, 2).subs(x, 0)"
   ]
  },
  {
   "cell_type": "markdown",
   "metadata": {
    "slideshow": {
     "slide_type": "subslide"
    }
   },
   "source": [
    "določimo konstanti `C1` in `C3` (pomik in moment na levi strani sta enaka nič): "
   ]
  },
  {
   "cell_type": "code",
   "execution_count": 62,
   "metadata": {
    "collapsed": true
   },
   "outputs": [],
   "source": [
    "c1c3 = {'C1': 0, 'C3': 0}"
   ]
  },
  {
   "cell_type": "markdown",
   "metadata": {
    "slideshow": {
     "slide_type": "subslide"
    }
   },
   "source": [
    "Robni pogoji na desni strani ($x=l$):"
   ]
  },
  {
   "cell_type": "code",
   "execution_count": 63,
   "metadata": {},
   "outputs": [
    {
     "data": {
      "image/png": "[encoded data removed]",
      "text/latex": [
       "$$C_{2} l + C_{4} l^{3}$$"
      ],
      "text/plain": [
       "           3\n",
       "C₂⋅l + C₄⋅l "
      ]
     },
     "execution_count": 63,
     "metadata": {},
     "output_type": "execute_result"
    }
   ],
   "source": [
    "eq1 = sol.subs(c1c3).subs(x, l)\n",
    "eq1"
   ]
  },
  {
   "cell_type": "markdown",
   "metadata": {
    "slideshow": {
     "slide_type": "subslide"
    }
   },
   "source": [
    "Ker na desni strani ni pomika, sledi rešitev za konstanto `C2`:"
   ]
  },
  {
   "cell_type": "code",
   "execution_count": 64,
   "metadata": {},
   "outputs": [
    {
     "data": {
      "image/png": "[encoded data removed]",
      "text/latex": [
       "$$- C_{4} l^{2}$$"
      ],
      "text/plain": [
       "     2\n",
       "-C₄⋅l "
      ]
     },
     "execution_count": 64,
     "metadata": {},
     "output_type": "execute_result"
    }
   ],
   "source": [
    "C2 = sym.solve(eq1, 'C2')[0]\n",
    "C2"
   ]
  },
  {
   "cell_type": "markdown",
   "metadata": {
    "slideshow": {
     "slide_type": "subslide"
    }
   },
   "source": [
    "Ker ni momenta, sledi še:"
   ]
  },
  {
   "cell_type": "code",
   "execution_count": 65,
   "metadata": {},
   "outputs": [
    {
     "data": {
      "image/png": "[encoded data removed]",
      "text/latex": [
       "$$6 C_{4} l$$"
      ],
      "text/plain": [
       "6⋅C₄⋅l"
      ]
     },
     "execution_count": 65,
     "metadata": {},
     "output_type": "execute_result"
    }
   ],
   "source": [
    "eq2 = sol.diff(x, 2).subs(c1c3).subs(x, l)\n",
    "eq2"
   ]
  },
  {
   "cell_type": "markdown",
   "metadata": {
    "slideshow": {
     "slide_type": "subslide"
    }
   },
   "source": [
    "Določimo konstanto `C4`:"
   ]
  },
  {
   "cell_type": "code",
   "execution_count": 66,
   "metadata": {},
   "outputs": [
    {
     "data": {
      "image/png": "[encoded data removed]",
      "text/latex": [
       "$$0$$"
      ],
      "text/plain": [
       "0"
      ]
     },
     "execution_count": 66,
     "metadata": {},
     "output_type": "execute_result"
    }
   ],
   "source": [
    "C4 = sym.solve(\n",
    "      eq2.subs('C2', C2),\n",
    "      'C4'\n",
    "     )[0]\n",
    "C4"
   ]
  },
  {
   "cell_type": "markdown",
   "metadata": {
    "slideshow": {
     "slide_type": "subslide"
    }
   },
   "source": [
    "Upoštevajoč izračunane konstante je rešitev:"
   ]
  },
  {
   "cell_type": "code",
   "execution_count": 67,
   "metadata": {
    "slideshow": {
     "slide_type": "-"
    }
   },
   "outputs": [
    {
     "data": {
      "image/png": "[encoded data removed]",
      "text/latex": [
       "$$- \\frac{F_{0} l^{4}}{\\pi^{4} E I} \\sin{\\left (\\frac{\\pi x}{l} \\right )}$$"
      ],
      "text/plain": [
       "     4    ⎛π⋅x⎞ \n",
       "-F₀⋅l ⋅sin⎜───⎟ \n",
       "          ⎝ l ⎠ \n",
       "────────────────\n",
       "      4         \n",
       "     π ⋅E⋅I     "
      ]
     },
     "execution_count": 67,
     "metadata": {},
     "output_type": "execute_result"
    }
   ],
   "source": [
    "resitev = sol.subs(c1c3).subs('C2', C2).subs('C4', C4)\n",
    "resitev"
   ]
  },
  {
   "cell_type": "markdown",
   "metadata": {
    "slideshow": {
     "slide_type": "subslide"
    }
   },
   "source": [
    "Pripravimo še numerično funkcijo `resitev_np()`:"
   ]
  },
  {
   "cell_type": "code",
   "execution_count": 68,
   "metadata": {
    "collapsed": true
   },
   "outputs": [],
   "source": [
    "podatki = {E: 2.1e11, I: 2.1e-5, l: 10, F_0:1e3}\n",
    "resitev_np = sym.lambdify(x, resitev.subs(podatki), modules='numpy')\n",
    "x_ana = np.linspace(0, podatki[l], 100)\n",
    "y_ana = resitev_np(x_ana)"
   ]
  },
  {
   "cell_type": "code",
   "execution_count": 69,
   "metadata": {},
   "outputs": [
    {
     "data": {
      "image/png": "[encoded data removed]",
      "text/plain": [
       "<matplotlib.figure.Figure at 0x1cd5fa512b0>"
      ]
     },
     "metadata": {},
     "output_type": "display_data"
    }
   ],
   "source": [
    "plt.title('Upogib ob polsinusni obremenitvi')\n",
    "plt.plot(x_ana, y_ana, '-', label='Analitična rešitev')\n",
    "plt.xlabel('$x$ [m]')\n",
    "plt.ylabel('$w$ [m]')\n",
    "plt.legend()\n",
    "plt.show()"
   ]
  },
  {
   "cell_type": "markdown",
   "metadata": {},
   "source": [
    "Primerjajmo sedaj analitično rešitev, z rešitivijo z metodo končnih razlik in strelsko metodo:"
   ]
  },
  {
   "cell_type": "code",
   "execution_count": 70,
   "metadata": {},
   "outputs": [
    {
     "data": {
      "image/png": "[encoded data removed]",
      "text/latex": [
       "$$\\left [ -0.0232759411601, \\quad -0.0232798479985, \\quad -0.0232759412784\\right ]$$"
      ],
      "text/plain": [
       "[-0.0232759411601, -0.0232798479985, -0.0232759412784]"
      ]
     },
     "execution_count": 70,
     "metadata": {},
     "output_type": "execute_result"
    }
   ],
   "source": [
    "[np.min(y_ana), np.min(y_mkr), np.min(y_pol_sin)]"
   ]
  }
 ],
 "metadata": {
  "anaconda-cloud": {},
  "celltoolbar": "Slideshow",
  "kernelspec": {
   "display_name": "Python 3",
   "language": "python",
   "name": "python3"
  },
  "language_info": {
   "codemirror_mode": {
    "name": "ipython",
    "version": 3
   },
   "file_extension": ".py",
   "mimetype": "text/x-python",
   "name": "python",
   "nbconvert_exporter": "python",
   "pygments_lexer": "ipython3",
   "version": "3.6.2"
  },
  "latex_envs": {
   "bibliofile": "biblio.bib",
   "cite_by": "apalike",
   "current_citInitial": 1,
   "eqLabelWithNumbers": true,
   "eqNumInitial": 0
  },
  "livereveal": {
   "theme": "sky",
   "transition": "default",
   "width": 1200
  },
  "nav_menu": {},
  "toc": {
   "colors": {
    "hover_highlight": "#DAA520",
    "navigate_num": "#000000",
    "navigate_text": "#333333",
    "running_highlight": "#FF0000",
    "selected_highlight": "#FFD700",
    "sidebar_border": "#EEEEEE",
    "wrapper_background": "#FFFFFF"
   },
   "moveMenuLeft": true,
   "nav_menu": {
    "height": "209px",
    "width": "252px"
   },
   "navigate_menu": true,
   "number_sections": true,
   "sideBar": true,
   "threshold": "2",
   "toc_cell": true,
   "toc_section_display": "block",
   "toc_window_display": true,
   "widenNotebook": false
  }
 },
 "nbformat": 4,
 "nbformat_minor": 1
}
