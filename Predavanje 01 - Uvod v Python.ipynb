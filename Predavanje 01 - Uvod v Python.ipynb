{
 "cells": [
  {
   "cell_type": "markdown",
   "metadata": {
    "slideshow": {
     "slide_type": "slide"
    }
   },
   "source": [
    "\n",
    "\n",
    "<font size=\"2\"> [github.com/jankoslavic/pypinm](http://github.com/jankoslavic/pypinm)</font>\n",
    "\n",
    "<center>\n",
    "<img width=300 src=\"./fig/ladisk.png\">\n",
    "<br>\n",
    "<font size=\"7\" color=\"f00e0e\" face=\"garamond\"><b>Uvod v Python</b></font>\n",
    "<br><br>\n",
    "<font size=\"4\">\n",
    "[izr.prof. dr. Janko Slavič](http://www.ladisk.si/~slavic)\n",
    "</font>\n",
    "<br><br>\n",
    "<font size=\"2\">Julij 2017</font>\n",
    "</center>"
   ]
  },
  {
   "cell_type": "markdown",
   "metadata": {
    "slideshow": {
     "slide_type": "subslide"
    },
    "toc": "true"
   },
   "source": [
    "# Table of Contents\n",
    " <p><div class=\"lev1\"><a href=\"#Uvod\"><span class=\"toc-item-num\">1&nbsp;&nbsp;</span>Uvod</a></div><div class=\"lev1\"><a href=\"#Kdo-se-uči-Python,-zakaj-ga-uporabljati?\"><span class=\"toc-item-num\">2&nbsp;&nbsp;</span>Kdo se uči Python, zakaj ga uporabljati?</a></div><div class=\"lev2\"><a href=\"#Uporaba-Pythona?\"><span class=\"toc-item-num\">2.1&nbsp;&nbsp;</span>Uporaba Pythona?</a></div><div class=\"lev2\"><a href=\"#Python-vs-Matlab\"><span class=\"toc-item-num\">2.2&nbsp;&nbsp;</span>Python vs Matlab</a></div><div class=\"lev1\"><a href=\"#Namestitev-Python-verzije-3.6:-video-navodila\"><span class=\"toc-item-num\">3&nbsp;&nbsp;</span>Namestitev Python verzije 3.6: <a href=\"https://www.youtube.com/watch?v=k_fJJ7Ak33c\" target=\"_blank\">video navodila</a></a></div><div class=\"lev2\"><a href=\"#Nameščanje-dodatkov-in-posodobitev\"><span class=\"toc-item-num\">3.1&nbsp;&nbsp;</span>Nameščanje dodatkov in posodobitev</a></div><div class=\"lev2\"><a href=\"#pyCharm-in-Github:-video-navodila\"><span class=\"toc-item-num\">3.2&nbsp;&nbsp;</span>pyCharm in Github: <a href=\"https://www.youtube.com/watch?v=OqIMI3kHb2s\" target=\"_blank\">video navodila</a></a></div><div class=\"lev1\"><a href=\"#Jupyter-notebook\"><span class=\"toc-item-num\">4&nbsp;&nbsp;</span>Jupyter notebook</a></div><div class=\"lev2\"><a href=\"#Markdown\"><span class=\"toc-item-num\">4.1&nbsp;&nbsp;</span>Markdown</a></div><div class=\"lev1\"><a href=\"#Prvi-program-in-PEP8\"><span class=\"toc-item-num\">5&nbsp;&nbsp;</span>Prvi program in PEP8</a></div><div class=\"lev1\"><a href=\"#Osnove-Pythona\"><span class=\"toc-item-num\">6&nbsp;&nbsp;</span>Osnove Pythona</a></div><div class=\"lev2\"><a href=\"#Spremenljivke\"><span class=\"toc-item-num\">6.1&nbsp;&nbsp;</span>Spremenljivke</a></div><div class=\"lev2\"><a href=\"#Niz-(string)\"><span class=\"toc-item-num\">6.2&nbsp;&nbsp;</span>Niz (string)</a></div><div class=\"lev2\"><a href=\"#Terka-(tuple)\"><span class=\"toc-item-num\">6.3&nbsp;&nbsp;</span>Terka (tuple)</a></div><div class=\"lev2\"><a href=\"#Seznam-(list)\"><span class=\"toc-item-num\">6.4&nbsp;&nbsp;</span>Seznam (list)</a></div><div class=\"lev3\"><a href=\"#Izbrane-operacije-nad-seznami\"><span class=\"toc-item-num\">6.4.1&nbsp;&nbsp;</span>Izbrane operacije nad seznami</a></div><div class=\"lev3\"><a href=\"#Zakaj-uporabiti-tuple-in-ne-seznama?\"><span class=\"toc-item-num\">6.4.2&nbsp;&nbsp;</span>Zakaj uporabiti tuple in ne seznama?</a></div><div class=\"lev2\"><a href=\"#Množice-(Sets)\"><span class=\"toc-item-num\">6.5&nbsp;&nbsp;</span>Množice (Sets)</a></div><div class=\"lev2\"><a href=\"#Slovar-(dictionary)\"><span class=\"toc-item-num\">6.6&nbsp;&nbsp;</span>Slovar (dictionary)</a></div><div class=\"lev2\"><a href=\"#Aritmetični-operatorji\"><span class=\"toc-item-num\">6.7&nbsp;&nbsp;</span>Aritmetični operatorji</a></div><div class=\"lev2\"><a href=\"#Primerjalni-operatorji\"><span class=\"toc-item-num\">6.8&nbsp;&nbsp;</span>Primerjalni operatorji</a></div><div class=\"lev2\"><a href=\"#Logični-operatorji\"><span class=\"toc-item-num\">6.9&nbsp;&nbsp;</span>Logični operatorji</a></div><div class=\"lev2\"><a href=\"#If-stavek\"><span class=\"toc-item-num\">6.10&nbsp;&nbsp;</span>If stavek</a></div><div class=\"lev2\"><a href=\"#If-izraz\"><span class=\"toc-item-num\">6.11&nbsp;&nbsp;</span>If izraz</a></div><div class=\"lev2\"><a href=\"#Zanke\"><span class=\"toc-item-num\">6.12&nbsp;&nbsp;</span>Zanke</a></div><div class=\"lev3\"><a href=\"#While-zanka\"><span class=\"toc-item-num\">6.12.1&nbsp;&nbsp;</span>While zanka</a></div><div class=\"lev3\"><a href=\"#For-zanka\"><span class=\"toc-item-num\">6.12.2&nbsp;&nbsp;</span>For zanka</a></div><div class=\"lev3\"><a href=\"#Funkcija-range\"><span class=\"toc-item-num\">6.12.3&nbsp;&nbsp;</span>Funkcija range</a></div><div class=\"lev3\"><a href=\"#Funkcija-enumerate\"><span class=\"toc-item-num\">6.12.4&nbsp;&nbsp;</span>Funkcija enumerate</a></div><div class=\"lev3\"><a href=\"#Funkcija-zip\"><span class=\"toc-item-num\">6.12.5&nbsp;&nbsp;</span>Funkcija zip</a></div><div class=\"lev1\"><a href=\"#Za-konec:-plonk-list-:)\"><span class=\"toc-item-num\">7&nbsp;&nbsp;</span>Za konec: plonk list :)</a></div><div class=\"lev1\"><a href=\"#Nekaj-vprašanj-za-razmislek!\"><span class=\"toc-item-num\">8&nbsp;&nbsp;</span>Nekaj vprašanj za razmislek!</a></div>"
   ]
  },
  {
   "cell_type": "markdown",
   "metadata": {
    "slideshow": {
     "slide_type": "slide"
    }
   },
   "source": [
    "# Uvod"
   ]
  },
  {
   "cell_type": "markdown",
   "metadata": {},
   "source": [
    "Python je **visokonivojski** programski jezik, nivo abstrakcije je velik. V nasprotju z **nizkonivojskimi** programskimi jeziki, ki imajo nivo abstrakcije nizek (npr. strojna koda).\n",
    "\n",
    "Primer: izračun [Fibonaccijevega števila](http://sl.wikipedia.org/wiki/Fibonaccijevo_%C5%A1tevilo):\n",
    "\n",
    "$F_1 = F_2 = 1$ in $F_n = F_{n-1} + F_{n-2}$"
   ]
  },
  {
   "cell_type": "markdown",
   "metadata": {
    "slideshow": {
     "slide_type": "subslide"
    }
   },
   "source": [
    "Izračun $F_n$ v [strojni kodi](http://en.wikipedia.org/wiki/Low-level_programming_language):\n",
    "<img width=400 src=\"./fig/strojna_koda.png\">"
   ]
  },
  {
   "cell_type": "markdown",
   "metadata": {
    "slideshow": {
     "slide_type": "subslide"
    }
   },
   "source": [
    "Mach koda\n",
    "<img width=400 src=\"./fig/mash_koda.png\">"
   ]
  },
  {
   "cell_type": "markdown",
   "metadata": {
    "slideshow": {
     "slide_type": "subslide"
    }
   },
   "source": [
    "C\n",
    "<img width=400 src=\"./fig/c_koda.png\">"
   ]
  },
  {
   "cell_type": "markdown",
   "metadata": {
    "slideshow": {
     "slide_type": "subslide"
    }
   },
   "source": [
    "Python\n",
    "<img width=400 src=\"./fig/py_koda.png\">"
   ]
  },
  {
   "cell_type": "code",
   "execution_count": 1,
   "metadata": {
    "slideshow": {
     "slide_type": "fragment"
    }
   },
   "outputs": [
    {
     "data": {
      "text/plain": [
       "[1, 3, 5]"
      ]
     },
     "execution_count": 1,
     "metadata": {},
     "output_type": "execute_result"
    }
   ],
   "source": [
    "stevila = [1, 2, 3, 4, 5]\n",
    "[stevilo for stevilo in stevila if stevilo%2]"
   ]
  },
  {
   "cell_type": "markdown",
   "metadata": {
    "slideshow": {
     "slide_type": "fragment"
    }
   },
   "source": [
    "<blockquote class=\"twitter-tweet\" data-lang=\"en\"><p lang=\"en\" dir=\"ltr\">The most important slide from my <a href=\"https://twitter.com/PyData\">@PyData</a> talk. <a href=\"https://t.co/Hc8j4ZpHV4\">pic.twitter.com/Hc8j4ZpHV4</a></p>&mdash; Almar Klein (@almarklein) <a href=\"https://twitter.com/almarklein/status/708909917684568064\">March 13, 2016</a></blockquote>\n",
    "<script async src=\"//platform.twitter.com/widgets.js\" charset=\"utf-8\"></script>"
   ]
  },
  {
   "cell_type": "markdown",
   "metadata": {
    "slideshow": {
     "slide_type": "subslide"
    }
   },
   "source": [
    "Kratek pregled začetkov nekaterih programskih jezikov:\n",
    "* 1957 Fortran, * 1970 Pascal, * 1972 C\n",
    "* 1980 C++, * 1984 Matlab, * 1986 Objective-C\n",
    "* **1991 Python**, * 1995 Java, * 1995 Delphi\n",
    "* 2009 Go, 2012 Julija\n",
    "\n",
    "Obstajajo različne statistike razširjenosti programskih jezikov; npr: [Most Popular Coding Languages of 2015](http://goo.gl/vtn2Vr) ali [The 2016 Top Programming Languages](http://spectrum.ieee.org/computing/software/the-2016-top-programming-languages)"
   ]
  },
  {
   "cell_type": "markdown",
   "metadata": {
    "slideshow": {
     "slide_type": "slide"
    }
   },
   "source": [
    "# Kdo se uči Python, zakaj ga uporabljati?"
   ]
  },
  {
   "cell_type": "markdown",
   "metadata": {
    "slideshow": {
     "slide_type": "-"
    }
   },
   "source": [
    "**ZDA** \n",
    "\n",
    "[Python the Most Popular Intro. Teaching Lang. at Top U.S. Universities](http://goo.gl/mJC1P8)\n",
    "<img width=400 src=\"./fig/Top39-700.4.png\"><blockquote class=\"twitter-tweet\" data-lang=\"en\"><p lang=\"en\" dir=\"ltr\">First day of Foundations of <a href=\"https://twitter.com/hashtag/DataScience?src=hash\">#DataScience</a> <a href=\"https://twitter.com/UCBerkeley\">@UCBerkeley</a> <a href=\"https://t.co/yyoJbaKlnL\">https://t.co/yyoJbaKlnL</a> <a href=\"https://t.co/cGl8kgpp3X\">pic.twitter.com/cGl8kgpp3X</a></p>&mdash; Cathryn Carson (@CathrynCarson) <a href=\"https://twitter.com/CathrynCarson/status/768504942625632257\">August 24, 2016</a></blockquote>\n",
    "<script async src=\"//platform.twitter.com/widgets.js\" charset=\"utf-8\"></script>"
   ]
  },
  {
   "cell_type": "markdown",
   "metadata": {
    "slideshow": {
     "slide_type": "subslide"
    }
   },
   "source": [
    "**Slovenija**\n",
    "* FRI: [Programiranje 1](https://ucilnica.fri.uni-lj.si/course/view.php?id=166)\n",
    "* FMF: [Prvi koraki v Python](https://www.projekt-tomo.si/course/1/), [Drugi koraki v Python](https://www.projekt-tomo.si/course/2/), [Programiranje 1](https://www.projekt-tomo.si/course/7/), [Računalništvo 1](https://www.projekt-tomo.si/course/9/)\n",
    "\n",
    "**FS**\n",
    "* [Poletna šola HPC](http://hpc.fs.uni-lj.si/python-intro)"
   ]
  },
  {
   "cell_type": "markdown",
   "metadata": {
    "slideshow": {
     "slide_type": "subslide"
    }
   },
   "source": [
    "## Uporaba Pythona?"
   ]
  },
  {
   "cell_type": "markdown",
   "metadata": {},
   "source": [
    "Nekatera mednarodna podjetja: *Nasa, Google, Cern. *\n",
    "\n",
    "Nekatera v Sloveniji: *Kolektor, Iskra Mehanizmi, Hidria, Ydria Motors, Cimos.*\n",
    "\n",
    "Nekateri programi, ki imajo vgrajeno skripno podporo za Python: *Abaqus, Ansys Workbench, MSC (Adams, SimXpert), ParaView, LMS Siemens, AVL.*\n",
    "\n",
    "Nekateri komercialni programi v Pythonu:  *BitTorrent, Dropbox.*\n",
    "\n",
    "Obširni seznam je tukaj: http://en.wikipedia.org/wiki/List_of_Python_software"
   ]
  },
  {
   "cell_type": "markdown",
   "metadata": {
    "slideshow": {
     "slide_type": "subslide"
    }
   },
   "source": [
    "## Python vs Matlab"
   ]
  },
  {
   "cell_type": "markdown",
   "metadata": {},
   "source": [
    "Na spletu boste našli ogromno primerjav, npr.: [Python vs Matlab](http://www.pyzo.org/python_vs_matlab.html).\n",
    "\n",
    "Kratka primerjave glede na [vir](http://www.southampton.ac.uk/~fangohr/training/python/pdfs/Python-for-Computational-Science-and-Engineering-slides.pdf):\n",
    "\n",
    "<img width=500 src=\"./fig/py_comparison.png\">\n",
    "\n",
    "\n",
    "Sintaksa je načeloma zelo podobna. Pomembna razlika je, da se seznam pri **Matlabu** začne z 1, v **Pythonu** pa z 0."
   ]
  },
  {
   "cell_type": "markdown",
   "metadata": {
    "slideshow": {
     "slide_type": "slide"
    }
   },
   "source": [
    "# Namestitev Python verzije 3.6: [video navodila](https://www.youtube.com/watch?v=k_fJJ7Ak33c)"
   ]
  },
  {
   "cell_type": "markdown",
   "metadata": {},
   "source": [
    "Pojdite na [continuum.io](http://continuum.io/downloads) ter namestite *Anaconda* distribucijo Pythona; *pazite, da izberete verzijo 3.6* (64bit)."
   ]
  },
  {
   "cell_type": "markdown",
   "metadata": {
    "slideshow": {
     "slide_type": "subslide"
    }
   },
   "source": [
    "## Nameščanje dodatkov in posodobitev\n",
    "\n",
    "Na [python.org](https://pypi.python.org/pypi) se nahaja več kot 74 tisoč različnih paketov! Namestimo jih tako:\n",
    "* za bolj popularne pakete z ukazom **conda**\n",
    "* sicer z ukazom **pip** ali\n",
    "* namestitveni program s strani [www.lfd.uci.edu/~gohlke/pythonlibs/](http://www.lfd.uci.edu/~gohlke/pythonlibs/)"
   ]
  },
  {
   "cell_type": "markdown",
   "metadata": {
    "slideshow": {
     "slide_type": "skip"
    }
   },
   "source": [
    "Podrobnosti si bomo pogledali naslednjič, da boste imeli zadnje verzije, izvedite naslednje:\n",
    "1. Odprite ukazno vrstico in sprožite ukaz za posodobitev *Anaconde*:\n",
    "> conda update conda\n",
    "* nato posodobite še vse nameščene pakete:\n",
    "> conda update --all"
   ]
  },
  {
   "cell_type": "markdown",
   "metadata": {
    "slideshow": {
     "slide_type": "subslide"
    }
   },
   "source": [
    "## pyCharm in Github: [video navodila](https://www.youtube.com/watch?v=OqIMI3kHb2s)"
   ]
  },
  {
   "cell_type": "markdown",
   "metadata": {},
   "source": [
    "Namestite še [pyCharm](https://www.jetbrains.com/pycharm/download/) integrirano razvojno okolje (glejte Community Edition).\n",
    "\n",
    "Predavanja bodo sproti posodobljena na Github naslovu [github.com/jankoslavic/pypinm/](https://github.com/jankoslavic/pypinm/). Vsebino lahko prenesete kot zip datoteko (ni priporočljivo, morebiti samo prvič) ali pa tako, da naredite lokalni repozitorij:"
   ]
  },
  {
   "cell_type": "markdown",
   "metadata": {
    "slideshow": {
     "slide_type": "skip"
    }
   },
   "source": [
    "1. Na računalnik namestite [Github Desktop](https://desktop.github.com/).\n",
    "2. Odprite *PyCharm*, izberite *Check out from Version Control*, nato *GitHub* in kot *Git Repository URL* navedite: github.com/jankoslavic/pypinm/.\n",
    "<img width=300 src=\"./fig/clone-repo.png\">\n",
    "3. Izberite *Clone*. **(Tukaj lahko dobite error: glejte morebitno rešitev na [pinm.ladisk.si](http://pinm.ladisk.si/146/pycharm-cannot-run-program-git-exe))**\n",
    "4. Preden začnete z delom, preverite, da imate lokalni repozitorij sinhroniziran s spletnim (da imate zadnjo verzijo): Kliknite ikono z modro puščico in napisom VCS.\n",
    "<img width=400 src=\"./fig/git-vcs.png\">"
   ]
  },
  {
   "cell_type": "markdown",
   "metadata": {
    "slideshow": {
     "slide_type": "slide"
    }
   },
   "source": [
    "# Jupyter notebook"
   ]
  },
  {
   "cell_type": "markdown",
   "metadata": {},
   "source": [
    "[Jupyter notebook](https://jupyter.org/) je  interaktivno okolje, ki deluje kot spletna aplikacija in se lahko uporablja z različnimi programskimi jeziki (npr. Python, Julia, R,...). Jupyter notebook je najlažje preizkusiti tukaj: [try.jupyter.org](https://try.jupyter.org/)."
   ]
  },
  {
   "cell_type": "markdown",
   "metadata": {
    "slideshow": {
     "slide_type": "subslide"
    }
   },
   "source": [
    "Jupyter notebook zaženete z ukazom (v ukazni vrstici / command prompt):\n",
    "``jupyter notebook``\n",
    "\n",
    "**Opomba**: Če želite ukazno vrstico sprožiti v poljubni mapi, potem v *explorerju* pridržite ``shift`` in kliknite mapo z desnim gumbom; nato izberite *Open command window here*."
   ]
  },
  {
   "cell_type": "markdown",
   "metadata": {
    "slideshow": {
     "slide_type": "subslide"
    }
   },
   "source": [
    "## Markdown\n",
    "\n",
    "Jupyter notebook omogoča zapis v *markdown* načinu: [glejte help](https://help.github.com/articles/markdown-basics/)!"
   ]
  },
  {
   "cell_type": "markdown",
   "metadata": {
    "slideshow": {
     "slide_type": "fragment"
    }
   },
   "source": [
    "Na kratko:\n",
    "* lahko se pišejo seznami\n",
    "     - različnih nivojev\n",
    "         - 3$.$ nivo\n",
    "     - 2$.$ nivo\n",
    "* lahko se piše *poševno*\n",
    "* lahko se piše **krepko**"
   ]
  },
  {
   "cell_type": "markdown",
   "metadata": {
    "slideshow": {
     "slide_type": "subslide"
    }
   },
   "source": [
    "* ni težav s poljubno *težkimi* izrazi (LaTeX sintaxa): $a(t)=\\sqrt{\\frac{1}{1-r^3}}$\n",
    "* primer, kako se vključi slike ali spletne povezave, je zgoraj/spodaj."
   ]
  },
  {
   "cell_type": "code",
   "execution_count": 2,
   "metadata": {
    "collapsed": true,
    "slideshow": {
     "slide_type": "subslide"
    }
   },
   "outputs": [],
   "source": [
    "from IPython.core.display import HTML"
   ]
  },
  {
   "cell_type": "code",
   "execution_count": 3,
   "metadata": {},
   "outputs": [
    {
     "data": {
      "text/html": [
       "<style>video{  -moz-transform:scale(0.75) rotate(-90deg);  -webkit-transform:scale(0.75) rotate(-90deg);  -o-transform:scale(0.75) rotate(-90deg);  -ms-transform:scale(0.75) rotate(-90deg);  transform:scale(0.75) rotate(-90deg);}</style>"
      ],
      "text/plain": [
       "<IPython.core.display.HTML object>"
      ]
     },
     "execution_count": 3,
     "metadata": {},
     "output_type": "execute_result"
    }
   ],
   "source": [
    "HTML('<style>video{\\\n",
    "  -moz-transform:scale(0.75) rotate(-90deg);\\\n",
    "  -webkit-transform:scale(0.75) rotate(-90deg);\\\n",
    "  -o-transform:scale(0.75) rotate(-90deg);\\\n",
    "  -ms-transform:scale(0.75) rotate(-90deg);\\\n",
    "  transform:scale(0.75) rotate(-90deg);\\\n",
    "}</style>')"
   ]
  },
  {
   "cell_type": "markdown",
   "metadata": {
    "slideshow": {
     "slide_type": "subslide"
    }
   },
   "source": [
    "<video controls src=\"./fig/vodni-top.mkv\"/></video>\n",
    "(Ne prikaže na github-u)"
   ]
  },
  {
   "cell_type": "markdown",
   "metadata": {
    "slideshow": {
     "slide_type": "subslide"
    }
   },
   "source": [
    "Ali kot `iframe` html objekt iz www.youtube.com:"
   ]
  },
  {
   "cell_type": "code",
   "execution_count": 4,
   "metadata": {},
   "outputs": [
    {
     "data": {
      "text/html": [
       "\n",
       "<iframe width=\"560\" height=\"315\" src=\"https://www.youtube.com/embed/VLcPd07-gnk\" frameborder=\"0\" allowfullscreen></iframe>"
      ],
      "text/plain": [
       "<IPython.core.display.HTML object>"
      ]
     },
     "metadata": {},
     "output_type": "display_data"
    }
   ],
   "source": [
    "%%html \n",
    "\n",
    "<iframe width=\"560\" height=\"315\" src=\"https://www.youtube.com/embed/VLcPd07-gnk\" frameborder=\"0\" allowfullscreen></iframe>"
   ]
  },
  {
   "cell_type": "markdown",
   "metadata": {
    "slideshow": {
     "slide_type": "slide"
    }
   },
   "source": [
    "# Prvi program in PEP8"
   ]
  },
  {
   "cell_type": "markdown",
   "metadata": {},
   "source": [
    "Interaktivno:"
   ]
  },
  {
   "cell_type": "code",
   "execution_count": 5,
   "metadata": {},
   "outputs": [
    {
     "name": "stdout",
     "output_type": "stream",
     "text": [
      "25\n"
     ]
    }
   ],
   "source": [
    "a = 5*5\n",
    "b = a\n",
    "print(b)"
   ]
  },
  {
   "cell_type": "markdown",
   "metadata": {
    "slideshow": {
     "slide_type": "subslide"
    }
   },
   "source": [
    "Klasično:"
   ]
  },
  {
   "cell_type": "markdown",
   "metadata": {},
   "source": [
    "<a href=\"./moduli/prvi_program.py\">prvi_program.py</a>\n",
    "<img width=800 src=\"./fig/pyCharm_prvi_program.png\">"
   ]
  },
  {
   "cell_type": "markdown",
   "metadata": {
    "slideshow": {
     "slide_type": "subslide"
    }
   },
   "source": [
    "Priporočila glede stila: [PEP8](https://www.python.org/dev/peps/pep-0008/)"
   ]
  },
  {
   "cell_type": "markdown",
   "metadata": {},
   "source": [
    "* zamik: 4 presledki\n",
    "* en presledek pri = operatorju: ``a = 5`` in ne ``a=5``\n",
    "* spremenljivke in imena funkcij naj bodo opisne, pišemo jih s podčrtajem: ``sirina_valja = 5``\n",
    "* za razrede uporabljamo t. i. CamelCase format\n",
    "* presledki okoli aritmeričnih operaterjev so lahko: ``x = 3*a + 4*b`` ali ``x = 3 * a + 4 * b``.\n",
    "* brez presledka pred in za oklepajem: ``x = sin(x)``, ne pa ``x = sin( x )``"
   ]
  },
  {
   "cell_type": "markdown",
   "metadata": {
    "slideshow": {
     "slide_type": "subslide"
    }
   },
   "source": [
    "* presledek za vejico: ``range(5, 10)`` in ne ``range(5,10)``.\n",
    "* brez presledkov na koncu vrstice ali v prazni vrstici\n",
    "* ena ali brez prazne vrstice znotraj funkcije\n",
    "* dve vrstici med funkcijami\n",
    "* en import stavek na vrstico\n",
    "* najprej import standardnih python knjižnic, nato druge knjižnice (npr. numpy) in na koncu lastne\n",
    "\n",
    "Nujno: uporabite *inspect code* v pyCharm!"
   ]
  },
  {
   "cell_type": "markdown",
   "metadata": {
    "slideshow": {
     "slide_type": "slide"
    }
   },
   "source": [
    "# Osnove Pythona"
   ]
  },
  {
   "cell_type": "markdown",
   "metadata": {},
   "source": [
    "## Spremenljivke"
   ]
  },
  {
   "cell_type": "markdown",
   "metadata": {},
   "source": [
    "Spremenjivke so v Pythonu **dinamičnega tipa**. Kaj to pomeni:"
   ]
  },
  {
   "cell_type": "code",
   "execution_count": 6,
   "metadata": {},
   "outputs": [
    {
     "name": "stdout",
     "output_type": "stream",
     "text": [
      "1\n",
      "<class 'int'>\n",
      "1.0\n",
      "<class 'float'>\n"
     ]
    },
    {
     "data": {
      "text/plain": [
       "float"
      ]
     },
     "execution_count": 6,
     "metadata": {},
     "output_type": "execute_result"
    }
   ],
   "source": [
    "a = 1       # to je komentar: a je celo število (integer)\n",
    "print(a)\n",
    "print(type(a))\n",
    "a = 1.0     # a je sedaj število s plavajočo vejico (float)\n",
    "print(a)\n",
    "print(type(a))\n",
    "type(a)"
   ]
  },
  {
   "cell_type": "markdown",
   "metadata": {
    "slideshow": {
     "slide_type": "subslide"
    }
   },
   "source": [
    "Zgoraj smo uporabili funkcijo ``print``. Poglejmo si njen opis: začnete pisati ``print`` in pritisnete *shift+tab* ali pa izvedete ukaz ``?print`` (če želite še več podatkov: ``??`` poskuša najti tudi izvorno kodo):"
   ]
  },
  {
   "cell_type": "code",
   "execution_count": 7,
   "metadata": {
    "collapsed": true
   },
   "outputs": [],
   "source": [
    "?print"
   ]
  },
  {
   "cell_type": "markdown",
   "metadata": {
    "slideshow": {
     "slide_type": "subslide"
    }
   },
   "source": [
    "## Niz (string)"
   ]
  },
  {
   "cell_type": "markdown",
   "metadata": {},
   "source": [
    "Niz se začne in zaključi z dvojnim \" ali enojnim ' narekovajem."
   ]
  },
  {
   "cell_type": "code",
   "execution_count": 8,
   "metadata": {},
   "outputs": [
    {
     "name": "stdout",
     "output_type": "stream",
     "text": [
      "tekst\n"
     ]
    }
   ],
   "source": [
    "b = 'tekst' # b je niz (string)\n",
    "print(b)"
   ]
  },
  {
   "cell_type": "markdown",
   "metadata": {
    "slideshow": {
     "slide_type": "subslide"
    }
   },
   "source": [
    "Nekatere operacije nad nizi:"
   ]
  },
  {
   "cell_type": "code",
   "execution_count": 9,
   "metadata": {},
   "outputs": [
    {
     "name": "stdout",
     "output_type": "stream",
     "text": [
      "kratek tekst\n",
      "------------------------------\n",
      "Celo število: 10\n",
      "Število s plavajočo vejico: 10.0\n"
     ]
    }
   ],
   "source": [
    "print('kratek ' + b) # seštevanje\n",
    "print(30 * '-')      # dolga črta\n",
    "print('Celo število:', int('5') + int('5'))      # pretvorba niza '5' v celo število\n",
    "print('Število s plavajočo vejico:', float('5') + float('5'))  # pretvorba niza '5' v število s plavajo vejico"
   ]
  },
  {
   "cell_type": "markdown",
   "metadata": {
    "slideshow": {
     "slide_type": "subslide"
    }
   },
   "source": [
    "## Terka (tuple)"
   ]
  },
  {
   "cell_type": "markdown",
   "metadata": {},
   "source": [
    "[docs.python.org](https://docs.python.org/3.4/tutorial/datastructures.html#tuples-and-sequences)\n",
    "\n",
    "Tuples ali po slovensko terke so seznami poljubnih **objektov**, ki jih ločimo z vejico in pišemo znotraj okroglih oklepajev:"
   ]
  },
  {
   "cell_type": "code",
   "execution_count": 10,
   "metadata": {
    "collapsed": true
   },
   "outputs": [],
   "source": [
    "terka_1 = (1, 'programiranje', 5.0)"
   ]
  },
  {
   "cell_type": "code",
   "execution_count": 11,
   "metadata": {},
   "outputs": [
    {
     "data": {
      "text/plain": [
       "(1, 'programiranje', 5.0)"
      ]
     },
     "execution_count": 11,
     "metadata": {},
     "output_type": "execute_result"
    }
   ],
   "source": [
    "terka_1"
   ]
  },
  {
   "cell_type": "markdown",
   "metadata": {
    "slideshow": {
     "slide_type": "subslide"
    }
   },
   "source": [
    "Če ima terka samo en objekt, potem jo moramo zaključiti z vejico (sicer se ne loči od objekta v oklepaju):"
   ]
  },
  {
   "cell_type": "code",
   "execution_count": 12,
   "metadata": {},
   "outputs": [
    {
     "data": {
      "text/plain": [
       "tuple"
      ]
     },
     "execution_count": 12,
     "metadata": {},
     "output_type": "execute_result"
    }
   ],
   "source": [
    "terka_2 = (1,)\n",
    "type(terka_2)"
   ]
  },
  {
   "cell_type": "markdown",
   "metadata": {},
   "source": [
    "Terke lahko zapišemo tudi brez okroglih oklepajev:"
   ]
  },
  {
   "cell_type": "code",
   "execution_count": 13,
   "metadata": {
    "collapsed": true
   },
   "outputs": [],
   "source": [
    "terka_3 = 1, 'brez oklepajev', 5."
   ]
  },
  {
   "cell_type": "code",
   "execution_count": 14,
   "metadata": {},
   "outputs": [
    {
     "data": {
      "text/plain": [
       "(1, 'brez oklepajev', 5.0)"
      ]
     },
     "execution_count": 14,
     "metadata": {},
     "output_type": "execute_result"
    }
   ],
   "source": [
    "terka_3"
   ]
  },
  {
   "cell_type": "markdown",
   "metadata": {
    "slideshow": {
     "slide_type": "subslide"
    }
   },
   "source": [
    "Do objektov v terki dostopamo prek indeksa (**se začnejo z 0**):"
   ]
  },
  {
   "cell_type": "code",
   "execution_count": 15,
   "metadata": {},
   "outputs": [
    {
     "data": {
      "text/plain": [
       "1"
      ]
     },
     "execution_count": 15,
     "metadata": {},
     "output_type": "execute_result"
    }
   ],
   "source": [
    "terka_1[0]"
   ]
  },
  {
   "cell_type": "markdown",
   "metadata": {},
   "source": [
    "Terke **ni mogoče spreminjati** (angl: *immutable*), elementov ne moremo odstranjevati ali dodajati."
   ]
  },
  {
   "cell_type": "code",
   "execution_count": 16,
   "metadata": {},
   "outputs": [
    {
     "ename": "TypeError",
     "evalue": "'tuple' object does not support item assignment",
     "output_type": "error",
     "traceback": [
      "\u001b[1;31m---------------------------------------------------------------------------\u001b[0m",
      "\u001b[1;31mTypeError\u001b[0m                                 Traceback (most recent call last)",
      "\u001b[1;32m<ipython-input-16-2213536a3ac0>\u001b[0m in \u001b[0;36m<module>\u001b[1;34m()\u001b[0m\n\u001b[1;32m----> 1\u001b[1;33m \u001b[0mterka_1\u001b[0m\u001b[1;33m[\u001b[0m\u001b[1;36m0\u001b[0m\u001b[1;33m]\u001b[0m \u001b[1;33m=\u001b[0m \u001b[1;36m3\u001b[0m\u001b[1;33m\u001b[0m\u001b[0m\n\u001b[0m",
      "\u001b[1;31mTypeError\u001b[0m: 'tuple' object does not support item assignment"
     ]
    }
   ],
   "source": [
    "terka_1[0] = 3"
   ]
  },
  {
   "cell_type": "markdown",
   "metadata": {
    "slideshow": {
     "slide_type": "subslide"
    }
   },
   "source": [
    "## Seznam (list)"
   ]
  },
  {
   "cell_type": "markdown",
   "metadata": {},
   "source": [
    "[docs.python.org](https://docs.python.org/3.4/tutorial/datastructures.html#more-on-lists)\n",
    "\n",
    "Seznami se zapišejo podobno kot terke, vendar se uporabijo oglati oklepaji in jih je mogoče spreminjati:"
   ]
  },
  {
   "cell_type": "code",
   "execution_count": 17,
   "metadata": {
    "collapsed": true
   },
   "outputs": [],
   "source": [
    "seznam = [1., 2, 'd']"
   ]
  },
  {
   "cell_type": "code",
   "execution_count": 18,
   "metadata": {},
   "outputs": [
    {
     "data": {
      "text/plain": [
       "[1.0, 2, 'd']"
      ]
     },
     "execution_count": 18,
     "metadata": {},
     "output_type": "execute_result"
    }
   ],
   "source": [
    "seznam"
   ]
  },
  {
   "cell_type": "markdown",
   "metadata": {
    "slideshow": {
     "slide_type": "subslide"
    }
   },
   "source": [
    "Za razliko od terk, se sezname lahko spreminja:"
   ]
  },
  {
   "cell_type": "code",
   "execution_count": 19,
   "metadata": {},
   "outputs": [
    {
     "data": {
      "text/plain": [
       "[10, 2, 'd']"
      ]
     },
     "execution_count": 19,
     "metadata": {},
     "output_type": "execute_result"
    }
   ],
   "source": [
    "seznam[0] = 10\n",
    "seznam"
   ]
  },
  {
   "cell_type": "markdown",
   "metadata": {
    "slideshow": {
     "slide_type": "subslide"
    }
   },
   "source": [
    "Seznami so spremenljivi (angl. *mutable*) in treba se je zavedati, da ime v bistvu **kaže** na spominsko mesto:"
   ]
  },
  {
   "cell_type": "code",
   "execution_count": 20,
   "metadata": {},
   "outputs": [
    {
     "data": {
      "text/plain": [
       "[10, 2, 'd']"
      ]
     },
     "execution_count": 20,
     "metadata": {},
     "output_type": "execute_result"
    }
   ],
   "source": [
    "b = seznam\n",
    "b"
   ]
  },
  {
   "cell_type": "markdown",
   "metadata": {},
   "source": [
    "Sedaj tudi ``b`` kaže na isto spominsko mesto. \n",
    "\n",
    "Poglejmo, kaj se zgodi s ``seznam``, če spremenimo element seznama ``b``:"
   ]
  },
  {
   "cell_type": "code",
   "execution_count": 21,
   "metadata": {},
   "outputs": [
    {
     "data": {
      "text/plain": [
       "[9, 2, 'd']"
      ]
     },
     "execution_count": 21,
     "metadata": {},
     "output_type": "execute_result"
    }
   ],
   "source": [
    "b[0] = 9\n",
    "b"
   ]
  },
  {
   "cell_type": "code",
   "execution_count": 22,
   "metadata": {},
   "outputs": [
    {
     "data": {
      "text/plain": [
       "[9, 2, 'd']"
      ]
     },
     "execution_count": 22,
     "metadata": {},
     "output_type": "execute_result"
    }
   ],
   "source": [
    "seznam"
   ]
  },
  {
   "cell_type": "markdown",
   "metadata": {
    "slideshow": {
     "slide_type": "subslide"
    }
   },
   "source": [
    "Če želimo narediti kopijo podatkov, potem moramo narediti tako:"
   ]
  },
  {
   "cell_type": "code",
   "execution_count": 23,
   "metadata": {},
   "outputs": [
    {
     "data": {
      "text/plain": [
       "[99, 2, 'd']"
      ]
     },
     "execution_count": 23,
     "metadata": {},
     "output_type": "execute_result"
    }
   ],
   "source": [
    "b = seznam.copy()\n",
    "b[0] = 99\n",
    "b"
   ]
  },
  {
   "cell_type": "code",
   "execution_count": 24,
   "metadata": {},
   "outputs": [
    {
     "data": {
      "text/plain": [
       "[9, 2, 'd']"
      ]
     },
     "execution_count": 24,
     "metadata": {},
     "output_type": "execute_result"
    }
   ],
   "source": [
    "seznam"
   ]
  },
  {
   "cell_type": "markdown",
   "metadata": {
    "slideshow": {
     "slide_type": "subslide"
    }
   },
   "source": [
    "Primer seznama seznamov:"
   ]
  },
  {
   "cell_type": "code",
   "execution_count": 25,
   "metadata": {
    "collapsed": true
   },
   "outputs": [],
   "source": [
    "matrika = [[1, 2, 3],\n",
    "           [4, 5, 6],\n",
    "           [7, 8, 9]]"
   ]
  },
  {
   "cell_type": "code",
   "execution_count": 26,
   "metadata": {},
   "outputs": [
    {
     "data": {
      "text/plain": [
       "[[1, 2, 3], [4, 5, 6], [7, 8, 9]]"
      ]
     },
     "execution_count": 26,
     "metadata": {},
     "output_type": "execute_result"
    }
   ],
   "source": [
    "matrika"
   ]
  },
  {
   "cell_type": "markdown",
   "metadata": {},
   "source": [
    "Več o matrikah bomo spoznali pozneje."
   ]
  },
  {
   "cell_type": "markdown",
   "metadata": {
    "slideshow": {
     "slide_type": "subslide"
    }
   },
   "source": [
    "### Izbrane operacije nad seznami"
   ]
  },
  {
   "cell_type": "markdown",
   "metadata": {},
   "source": [
    "Za detajle glejte [docs.python.org](https://docs.python.org/3.4/tutorial/datastructures.html)."
   ]
  },
  {
   "cell_type": "code",
   "execution_count": 27,
   "metadata": {},
   "outputs": [
    {
     "data": {
      "text/plain": [
       "[9, 2, 'd', 'dodajanje elementa']"
      ]
     },
     "execution_count": 27,
     "metadata": {},
     "output_type": "execute_result"
    }
   ],
   "source": [
    "seznam.append('dodajanje elementa')\n",
    "seznam"
   ]
  },
  {
   "cell_type": "code",
   "execution_count": 28,
   "metadata": {},
   "outputs": [
    {
     "data": {
      "text/plain": [
       "[9, 'na drugo mesto', 2, 'd', 'dodajanje elementa']"
      ]
     },
     "execution_count": 28,
     "metadata": {},
     "output_type": "execute_result"
    }
   ],
   "source": [
    "seznam.insert(1,'na drugo mesto')\n",
    "seznam"
   ]
  },
  {
   "cell_type": "code",
   "execution_count": 29,
   "metadata": {},
   "outputs": [
    {
     "data": {
      "text/plain": [
       "[9, 'na drugo mesto', 'd', 'dodajanje elementa']"
      ]
     },
     "execution_count": 29,
     "metadata": {},
     "output_type": "execute_result"
    }
   ],
   "source": [
    "seznam.pop(2) # odstani element z indeksom 2\n",
    "# podoben učinek bi imel ukaz: del seznam[2]\n",
    "seznam"
   ]
  },
  {
   "cell_type": "code",
   "execution_count": 30,
   "metadata": {},
   "outputs": [
    {
     "data": {
      "text/plain": [
       "2"
      ]
     },
     "execution_count": 30,
     "metadata": {},
     "output_type": "execute_result"
    }
   ],
   "source": [
    "seznam.index('d') # poišče indeks prvega elementa vrednosti 'd'"
   ]
  },
  {
   "cell_type": "markdown",
   "metadata": {
    "slideshow": {
     "slide_type": "subslide"
    }
   },
   "source": [
    "### Zakaj uporabiti tuple in ne seznama?"
   ]
  },
  {
   "cell_type": "markdown",
   "metadata": {},
   "source": [
    "Glejte odgovor [tukaj](http://getpython3.com/diveintopython3/native-datatypes.html#tuples)."
   ]
  },
  {
   "cell_type": "markdown",
   "metadata": {
    "slideshow": {
     "slide_type": "subslide"
    }
   },
   "source": [
    "## Množice (Sets)"
   ]
  },
  {
   "cell_type": "markdown",
   "metadata": {},
   "source": [
    "[docs.python.org](https://docs.python.org/3.4/tutorial/datastructures.html#sets)\n",
    "\n",
    "Za razliko od ostalih struktur, množice **ne dovoljujejo podvojenih elementov**. Kreiramo jih z zavitimi oklepaji  ``{}`` ali ukazom ``set()``:"
   ]
  },
  {
   "cell_type": "code",
   "execution_count": 31,
   "metadata": {},
   "outputs": [
    {
     "data": {
      "text/plain": [
       "{1, 2, 3}"
      ]
     },
     "execution_count": 31,
     "metadata": {},
     "output_type": "execute_result"
    }
   ],
   "source": [
    "A = {1, 2, 3, 3}\n",
    "A"
   ]
  },
  {
   "cell_type": "code",
   "execution_count": 32,
   "metadata": {},
   "outputs": [
    {
     "data": {
      "text/plain": [
       "{3, 4, 5, 6}"
      ]
     },
     "execution_count": 32,
     "metadata": {},
     "output_type": "execute_result"
    }
   ],
   "source": [
    "B = set([3, 4, 5, 6, 6]) # kreiramo množico iz seznama (to je način kako se enostavno in hitro\n",
    "                         #                              znebimo podvojenih vrednosti!)\n",
    "B"
   ]
  },
  {
   "cell_type": "markdown",
   "metadata": {
    "slideshow": {
     "slide_type": "subslide"
    }
   },
   "source": [
    "Elementi v množici nimajo urejenega vrstnega reda (pomembno, za pravilno uporabo v zankah):"
   ]
  },
  {
   "cell_type": "code",
   "execution_count": 33,
   "metadata": {},
   "outputs": [
    {
     "data": {
      "text/plain": [
       "{'a', 'b', 'c'}"
      ]
     },
     "execution_count": 33,
     "metadata": {},
     "output_type": "execute_result"
    }
   ],
   "source": [
    "imena = {'a', 'b', 'c'}\n",
    "imena"
   ]
  },
  {
   "cell_type": "code",
   "execution_count": 34,
   "metadata": {},
   "outputs": [
    {
     "name": "stdout",
     "output_type": "stream",
     "text": [
      "{'a', 'b', 'c'}\n"
     ]
    }
   ],
   "source": [
    "print(imena)"
   ]
  },
  {
   "cell_type": "markdown",
   "metadata": {
    "slideshow": {
     "slide_type": "subslide"
    }
   },
   "source": [
    "Uporabimo lahko tipične matematične operacije nad množicami:"
   ]
  },
  {
   "cell_type": "code",
   "execution_count": 35,
   "metadata": {},
   "outputs": [
    {
     "data": {
      "text/plain": [
       "{1, 2}"
      ]
     },
     "execution_count": 35,
     "metadata": {},
     "output_type": "execute_result"
    }
   ],
   "source": [
    "A - B   # elementi v A brez elementov, ki so tudi v B"
   ]
  },
  {
   "cell_type": "code",
   "execution_count": 36,
   "metadata": {},
   "outputs": [
    {
     "data": {
      "text/plain": [
       "{1, 2, 3, 4, 5, 6}"
      ]
     },
     "execution_count": 36,
     "metadata": {},
     "output_type": "execute_result"
    }
   ],
   "source": [
    "A | B   # elementi v A ali B"
   ]
  },
  {
   "cell_type": "code",
   "execution_count": 37,
   "metadata": {},
   "outputs": [
    {
     "data": {
      "text/plain": [
       "{3}"
      ]
     },
     "execution_count": 37,
     "metadata": {},
     "output_type": "execute_result"
    }
   ],
   "source": [
    "A & B   # elementi v A in B"
   ]
  },
  {
   "cell_type": "code",
   "execution_count": 38,
   "metadata": {},
   "outputs": [
    {
     "data": {
      "text/plain": [
       "{1, 2, 4, 5, 6}"
      ]
     },
     "execution_count": 38,
     "metadata": {},
     "output_type": "execute_result"
    }
   ],
   "source": [
    "A ^ B   # elementi v A ali B, vendar ne v obeh"
   ]
  },
  {
   "cell_type": "markdown",
   "metadata": {
    "slideshow": {
     "slide_type": "subslide"
    }
   },
   "source": [
    "## Slovar (dictionary)"
   ]
  },
  {
   "cell_type": "markdown",
   "metadata": {
    "slideshow": {
     "slide_type": "-"
    }
   },
   "source": [
    "[docs.python.org](https://docs.python.org/3.4/tutorial/datastructures.html#dictionaries)\n",
    "\n",
    "Slovar lahko definiramo eksplicitno s pari *ključ: vrednost*, ločenimi z vejico znotraj zavitih oklepajev:"
   ]
  },
  {
   "cell_type": "code",
   "execution_count": 39,
   "metadata": {
    "collapsed": true
   },
   "outputs": [],
   "source": [
    "parametri = {'višina': 5.2, 'širina': 43, 'g': 9.81}"
   ]
  },
  {
   "cell_type": "code",
   "execution_count": 40,
   "metadata": {},
   "outputs": [
    {
     "data": {
      "text/plain": [
       "{'g': 9.81, 'višina': 5.2, 'širina': 43}"
      ]
     },
     "execution_count": 40,
     "metadata": {},
     "output_type": "execute_result"
    }
   ],
   "source": [
    "parametri"
   ]
  },
  {
   "cell_type": "code",
   "execution_count": 41,
   "metadata": {
    "slideshow": {
     "slide_type": "subslide"
    }
   },
   "outputs": [
    {
     "data": {
      "text/plain": [
       "5.2"
      ]
     },
     "execution_count": 41,
     "metadata": {},
     "output_type": "execute_result"
    }
   ],
   "source": [
    "parametri['višina'] # klicanje posameznega elementa po ključu"
   ]
  },
  {
   "cell_type": "code",
   "execution_count": 42,
   "metadata": {},
   "outputs": [
    {
     "data": {
      "text/plain": [
       "dict_keys(['višina', 'širina', 'g'])"
      ]
     },
     "execution_count": 42,
     "metadata": {},
     "output_type": "execute_result"
    }
   ],
   "source": [
    "parametri.keys()"
   ]
  },
  {
   "cell_type": "code",
   "execution_count": 43,
   "metadata": {
    "collapsed": true,
    "slideshow": {
     "slide_type": "subslide"
    }
   },
   "outputs": [],
   "source": [
    "parametri['lega_težišča'] = 99999 # dodajanje elementa"
   ]
  },
  {
   "cell_type": "code",
   "execution_count": 44,
   "metadata": {},
   "outputs": [
    {
     "data": {
      "text/plain": [
       "{'g': 9.81, 'lega_težišča': 99999, 'višina': 5.2, 'širina': 43}"
      ]
     },
     "execution_count": 44,
     "metadata": {},
     "output_type": "execute_result"
    }
   ],
   "source": [
    "parametri"
   ]
  },
  {
   "cell_type": "markdown",
   "metadata": {},
   "source": [
    "Odstranjevanje iz slovarja"
   ]
  },
  {
   "cell_type": "code",
   "execution_count": 45,
   "metadata": {},
   "outputs": [
    {
     "data": {
      "text/plain": [
       "99999"
      ]
     },
     "execution_count": 45,
     "metadata": {},
     "output_type": "execute_result"
    }
   ],
   "source": [
    "parametri.pop('lega_težišča')"
   ]
  },
  {
   "cell_type": "code",
   "execution_count": 46,
   "metadata": {},
   "outputs": [
    {
     "data": {
      "text/plain": [
       "{'g': 9.81, 'višina': 5.2, 'širina': 43}"
      ]
     },
     "execution_count": 46,
     "metadata": {},
     "output_type": "execute_result"
    }
   ],
   "source": [
    "parametri"
   ]
  },
  {
   "cell_type": "markdown",
   "metadata": {
    "slideshow": {
     "slide_type": "subslide"
    }
   },
   "source": [
    "## Aritmetični operatorji"
   ]
  },
  {
   "cell_type": "markdown",
   "metadata": {},
   "source": [
    "* \\+ seštevanje\n",
    "* \\- odštevanje\n",
    "* \\* množenje\n",
    "* / deljenje\n",
    "* // celoštevilsko deljenje\n",
    "* \\*\\* eksponent\n",
    "* % ostanek pri deljenju"
   ]
  },
  {
   "cell_type": "code",
   "execution_count": 47,
   "metadata": {},
   "outputs": [
    {
     "data": {
      "text/plain": [
       "2.0"
      ]
     },
     "execution_count": 47,
     "metadata": {},
     "output_type": "execute_result"
    }
   ],
   "source": [
    "1 + 1.0 # \\+ seštevanje"
   ]
  },
  {
   "cell_type": "code",
   "execution_count": 48,
   "metadata": {},
   "outputs": [
    {
     "data": {
      "text/plain": [
       "0"
      ]
     },
     "execution_count": 48,
     "metadata": {},
     "output_type": "execute_result"
    }
   ],
   "source": [
    "1 - 1 # \\- odštevanje"
   ]
  },
  {
   "cell_type": "code",
   "execution_count": 49,
   "metadata": {},
   "outputs": [
    {
     "data": {
      "text/plain": [
       "6"
      ]
     },
     "execution_count": 49,
     "metadata": {},
     "output_type": "execute_result"
    }
   ],
   "source": [
    "2 * 3 # \\* množenje"
   ]
  },
  {
   "cell_type": "code",
   "execution_count": 50,
   "metadata": {},
   "outputs": [
    {
     "data": {
      "text/plain": [
       "1.5"
      ]
     },
     "execution_count": 50,
     "metadata": {},
     "output_type": "execute_result"
    }
   ],
   "source": [
    "3 / 2 # / deljenje"
   ]
  },
  {
   "cell_type": "code",
   "execution_count": 51,
   "metadata": {
    "slideshow": {
     "slide_type": "subslide"
    }
   },
   "outputs": [
    {
     "data": {
      "text/plain": [
       "1"
      ]
     },
     "execution_count": 51,
     "metadata": {},
     "output_type": "execute_result"
    }
   ],
   "source": [
    "3 // 2 # // celoštevilsko deljenje"
   ]
  },
  {
   "cell_type": "code",
   "execution_count": 52,
   "metadata": {},
   "outputs": [
    {
     "data": {
      "text/plain": [
       "1"
      ]
     },
     "execution_count": 52,
     "metadata": {},
     "output_type": "execute_result"
    }
   ],
   "source": [
    "3 % 2 # % ostanek pri deljenju"
   ]
  },
  {
   "cell_type": "code",
   "execution_count": 53,
   "metadata": {},
   "outputs": [
    {
     "data": {
      "text/plain": [
       "8"
      ]
     },
     "execution_count": 53,
     "metadata": {},
     "output_type": "execute_result"
    }
   ],
   "source": [
    "2 ** 3 # \\*\\* eksponent"
   ]
  },
  {
   "cell_type": "markdown",
   "metadata": {
    "slideshow": {
     "slide_type": "subslide"
    }
   },
   "source": [
    "Aritmetični operatorji **podpirajo prirejanje rezultata operandu** (angl. *augmented assignment*). Npr ``a += b`` ima enak učinek kot ``a = a + b``:"
   ]
  },
  {
   "cell_type": "code",
   "execution_count": 54,
   "metadata": {},
   "outputs": [
    {
     "data": {
      "text/plain": [
       "2"
      ]
     },
     "execution_count": 54,
     "metadata": {},
     "output_type": "execute_result"
    }
   ],
   "source": [
    "a = 1\n",
    "a += 1\n",
    "a"
   ]
  },
  {
   "cell_type": "markdown",
   "metadata": {
    "slideshow": {
     "slide_type": "subslide"
    }
   },
   "source": [
    "## Primerjalni operatorji"
   ]
  },
  {
   "cell_type": "markdown",
   "metadata": {},
   "source": [
    "* < manjši\n",
    "* \\> večji\n",
    "* <= manjše ali enako\n",
    "* \\>= večje ali enako\n",
    "* == enako\n",
    "* != neenako"
   ]
  },
  {
   "cell_type": "code",
   "execution_count": 55,
   "metadata": {},
   "outputs": [
    {
     "data": {
      "text/plain": [
       "True"
      ]
     },
     "execution_count": 55,
     "metadata": {},
     "output_type": "execute_result"
    }
   ],
   "source": [
    "5 < 6"
   ]
  },
  {
   "cell_type": "markdown",
   "metadata": {},
   "source": [
    "Lahko naredimo niz logičnih operatorjev:"
   ]
  },
  {
   "cell_type": "code",
   "execution_count": 56,
   "metadata": {},
   "outputs": [
    {
     "data": {
      "text/plain": [
       "True"
      ]
     },
     "execution_count": 56,
     "metadata": {},
     "output_type": "execute_result"
    }
   ],
   "source": [
    "1 < 3 < 6 < 7"
   ]
  },
  {
   "cell_type": "markdown",
   "metadata": {
    "slideshow": {
     "slide_type": "subslide"
    }
   },
   "source": [
    "## Logični operatorji"
   ]
  },
  {
   "cell_type": "markdown",
   "metadata": {},
   "source": [
    "Logični operatorji:\n",
    "* ``is``,\n",
    "* ``in``,\n",
    "* ``and``,\n",
    "* ``or``,\n",
    "* ``not``\n",
    "\n",
    "poskušajo biti v Pythonu *berljivi*. Primer:"
   ]
  },
  {
   "cell_type": "code",
   "execution_count": 57,
   "metadata": {},
   "outputs": [
    {
     "data": {
      "text/plain": [
       "True"
      ]
     },
     "execution_count": 57,
     "metadata": {},
     "output_type": "execute_result"
    }
   ],
   "source": [
    "a = 1\n",
    "a is 1 # is primerja istost; ali je a v tem primeru objekt 1"
   ]
  },
  {
   "cell_type": "code",
   "execution_count": 58,
   "metadata": {},
   "outputs": [
    {
     "data": {
      "text/plain": [
       "True"
      ]
     },
     "execution_count": 58,
     "metadata": {},
     "output_type": "execute_result"
    }
   ],
   "source": [
    "'a' in 'abc' # in primerja ali je objekt v nizu, seznamu,..."
   ]
  },
  {
   "cell_type": "code",
   "execution_count": 59,
   "metadata": {
    "slideshow": {
     "slide_type": "subslide"
    }
   },
   "outputs": [
    {
     "data": {
      "text/plain": [
       "{'g': 9.81, 'višina': 5.2, 'širina': 43}"
      ]
     },
     "execution_count": 59,
     "metadata": {},
     "output_type": "execute_result"
    }
   ],
   "source": [
    "parametri"
   ]
  },
  {
   "cell_type": "code",
   "execution_count": 60,
   "metadata": {},
   "outputs": [
    {
     "data": {
      "text/plain": [
       "True"
      ]
     },
     "execution_count": 60,
     "metadata": {},
     "output_type": "execute_result"
    }
   ],
   "source": [
    "'širina' in parametri"
   ]
  },
  {
   "cell_type": "code",
   "execution_count": 61,
   "metadata": {},
   "outputs": [
    {
     "data": {
      "text/plain": [
       "True"
      ]
     },
     "execution_count": 61,
     "metadata": {},
     "output_type": "execute_result"
    }
   ],
   "source": [
    "1 in A # A je množica"
   ]
  },
  {
   "cell_type": "markdown",
   "metadata": {
    "slideshow": {
     "slide_type": "subslide"
    }
   },
   "source": [
    "V logičnih izrazih je poleg ``False`` neresnična tudi vrednost 0, None, prazen seznam, niz, terka,... Vse ostalo je ``True``"
   ]
  },
  {
   "cell_type": "code",
   "execution_count": 62,
   "metadata": {},
   "outputs": [
    {
     "data": {
      "text/plain": [
       "True"
      ]
     },
     "execution_count": 62,
     "metadata": {},
     "output_type": "execute_result"
    }
   ],
   "source": [
    "1 and True"
   ]
  },
  {
   "cell_type": "code",
   "execution_count": 63,
   "metadata": {},
   "outputs": [
    {
     "data": {
      "text/plain": [
       "0"
      ]
     },
     "execution_count": 63,
     "metadata": {},
     "output_type": "execute_result"
    }
   ],
   "source": [
    "0 and True"
   ]
  },
  {
   "cell_type": "code",
   "execution_count": 64,
   "metadata": {},
   "outputs": [
    {
     "data": {
      "text/plain": [
       "True"
      ]
     },
     "execution_count": 64,
     "metadata": {},
     "output_type": "execute_result"
    }
   ],
   "source": [
    "(1,) and True"
   ]
  },
  {
   "cell_type": "code",
   "execution_count": 65,
   "metadata": {},
   "outputs": [
    {
     "data": {
      "text/plain": [
       "True"
      ]
     },
     "execution_count": 65,
     "metadata": {},
     "output_type": "execute_result"
    }
   ],
   "source": [
    "1 < 2"
   ]
  },
  {
   "cell_type": "markdown",
   "metadata": {
    "slideshow": {
     "slide_type": "subslide"
    }
   },
   "source": [
    "Malo bolj zapleten stavek:"
   ]
  },
  {
   "cell_type": "code",
   "execution_count": 66,
   "metadata": {},
   "outputs": [
    {
     "data": {
      "text/plain": [
       "True"
      ]
     },
     "execution_count": 66,
     "metadata": {},
     "output_type": "execute_result"
    }
   ],
   "source": [
    "1 == 2 and 1 in [1, 2, 3] or 1 is not \"1\""
   ]
  },
  {
   "cell_type": "markdown",
   "metadata": {
    "slideshow": {
     "slide_type": "subslide"
    }
   },
   "source": [
    "## If stavek"
   ]
  },
  {
   "cell_type": "markdown",
   "metadata": {},
   "source": [
    "Kratka oblika ``if`` stavka:"
   ]
  },
  {
   "cell_type": "code",
   "execution_count": 67,
   "metadata": {},
   "outputs": [
    {
     "name": "stdout",
     "output_type": "stream",
     "text": [
      "a je več od 5\n",
      "-------------\n"
     ]
    }
   ],
   "source": [
    "a = 6\n",
    "if a > 5:\n",
    "    print('a je več od 5') # se izvede, če je pogoj res. \n",
    "    print(13*'-')"
   ]
  },
  {
   "cell_type": "markdown",
   "metadata": {
    "slideshow": {
     "slide_type": "subslide"
    }
   },
   "source": [
    "Zgoraj smo funkcijo ``print`` zamaknili, saj pripada block-u kode, ki se izvede v primeru ``a > 0``. Nekateri programski jeziki kodo znotraj block-a dajo v zavite ali kakšne druge oklepaje in dodatno še zamikajo. Pri Pythonu se samo zamikajo. Zamik je tipično **4 presledke**. Lahko je tudi **tabulator** (manj pogosto), vendar pa se način zamikanja znotraj ene .py datoteke ne sme spreminjati.\n",
    "\n",
    "Stavke lahko zapišemo tudi v eno vrstico, vendar je taka uporaba odsvetovana, saj zmanjšuje preglednost kode:"
   ]
  },
  {
   "cell_type": "code",
   "execution_count": 68,
   "metadata": {},
   "outputs": [
    {
     "name": "stdout",
     "output_type": "stream",
     "text": [
      "taka oblika je odsvetovana\n",
      "----------------------------------------\n",
      "uporaba podpičja namesto nove vrstice\n"
     ]
    }
   ],
   "source": [
    "if a > 5: print('taka oblika je odsvetovana'); print(40*'-'); print('uporaba podpičja namesto nove vrstice')"
   ]
  },
  {
   "cell_type": "markdown",
   "metadata": {
    "slideshow": {
     "slide_type": "subslide"
    }
   },
   "source": [
    "Spodaj je ``if`` stavek, ki ima tudi pogoj ``elfi`` (namesto *else if*) in končni izhodni pogoj ``else``. ``elif``, pogojev je lahko več."
   ]
  },
  {
   "cell_type": "code",
   "execution_count": 69,
   "metadata": {},
   "outputs": [
    {
     "name": "stdout",
     "output_type": "stream",
     "text": [
      "a je manjši od 2, vendar večji od 0\n"
     ]
    }
   ],
   "source": [
    "a = 1\n",
    "if a > 5:\n",
    "    print('a je več od 5')\n",
    "elif a < 0: # else if\n",
    "    print('a je manjši od 0')\n",
    "elif a < 2: # elif pogojev je lahko več\n",
    "    print('a je manjši od 2, vendar večji od 0')\n",
    "else: # se izvede, če se ne izvede noben od zgornjih pogojev\n",
    "    print('a ima vrednost od 2 in 5')"
   ]
  },
  {
   "cell_type": "markdown",
   "metadata": {
    "slideshow": {
     "slide_type": "subslide"
    }
   },
   "source": [
    "## If izraz"
   ]
  },
  {
   "cell_type": "markdown",
   "metadata": {},
   "source": [
    "Poleg ``if`` stavka ima Python tudi ``if`` izraz:"
   ]
  },
  {
   "cell_type": "code",
   "execution_count": 70,
   "metadata": {},
   "outputs": [
    {
     "data": {
      "text/plain": [
       "'b'"
      ]
     },
     "execution_count": 70,
     "metadata": {},
     "output_type": "execute_result"
    }
   ],
   "source": [
    "a = True\n",
    "b = 'b'\n",
    "c = 'c'\n",
    "\n",
    "b if a else c # to nam bo prišlo zelo prav pozneje!"
   ]
  },
  {
   "cell_type": "markdown",
   "metadata": {
    "slideshow": {
     "slide_type": "subslide"
    }
   },
   "source": [
    "## Zanke"
   ]
  },
  {
   "cell_type": "markdown",
   "metadata": {},
   "source": [
    "### While zanka"
   ]
  },
  {
   "cell_type": "markdown",
   "metadata": {},
   "source": [
    "Poglejmo si najprej ``while`` zanko v osnovni obliki:"
   ]
  },
  {
   "cell_type": "code",
   "execution_count": 71,
   "metadata": {},
   "outputs": [
    {
     "name": "stdout",
     "output_type": "stream",
     "text": [
      "0\n",
      "1\n",
      "2\n"
     ]
    }
   ],
   "source": [
    "a = 0\n",
    "while a < 3:\n",
    "    print(a)\n",
    "    a += 1"
   ]
  },
  {
   "cell_type": "markdown",
   "metadata": {
    "slideshow": {
     "slide_type": "subslide"
    }
   },
   "source": [
    "### For zanka"
   ]
  },
  {
   "cell_type": "markdown",
   "metadata": {},
   "source": [
    "V Pythonu bomo **zelo pogosto** uporabljali for zanko:"
   ]
  },
  {
   "cell_type": "code",
   "execution_count": 72,
   "metadata": {},
   "outputs": [
    {
     "name": "stdout",
     "output_type": "stream",
     "text": [
      "Jaka\n",
      "Miki\n",
      "Luka\n",
      "Anja\n"
     ]
    }
   ],
   "source": [
    "imena = ['Jaka', 'Miki', 'Luka', 'Anja']\n",
    "for ime in imena: # tukaj se skriva prirejanje; ``ime`` vsakič pridobi novo vrednost\n",
    "    print(ime)"
   ]
  },
  {
   "cell_type": "markdown",
   "metadata": {},
   "source": [
    "Del izvajanja zanke lahko preskočimo z ukazom ``continue`` ali pa zanko prekinemo z ukazom ``break``.\n",
    "\n",
    "Sicer pa imajo zanke v Pythonu tudi ``else`` izhod; ta se izvede, ko zmanjka niza ali je ta prazen (ne izvede se, če zanko prekinemo)."
   ]
  },
  {
   "cell_type": "code",
   "execution_count": 73,
   "metadata": {
    "slideshow": {
     "slide_type": "subslide"
    }
   },
   "outputs": [
    {
     "name": "stdout",
     "output_type": "stream",
     "text": [
      "JakaJaka\n",
      "MikiMikiLukaLuka"
     ]
    }
   ],
   "source": [
    "imena = ['Jaka', 'Miki', 'Luka', 'Anja']\n",
    "for ime in imena: \n",
    "    print(2*ime, end='') # privzeta vrednost end='\\n' kar pomeni ``newline`` gre torej v novo vrstico\n",
    "    if 'i' in ime:\n",
    "        continue\n",
    "    elif 'L' in ime:\n",
    "        break\n",
    "    print('') # gre samo v novo vrstico\n",
    "else:\n",
    "    print('ni ali prazen seznam')"
   ]
  },
  {
   "cell_type": "markdown",
   "metadata": {},
   "source": [
    "Zanka ima lahko tudi več tekočih spremenljivk:"
   ]
  },
  {
   "cell_type": "code",
   "execution_count": 74,
   "metadata": {},
   "outputs": [
    {
     "name": "stdout",
     "output_type": "stream",
     "text": [
      "višina 5.2\n",
      "širina 43\n",
      "g 9.81\n"
     ]
    }
   ],
   "source": [
    "#print(parametri)\n",
    "for key, val in parametri.items():\n",
    "    print(key, val)"
   ]
  },
  {
   "cell_type": "markdown",
   "metadata": {
    "slideshow": {
     "slide_type": "subslide"
    }
   },
   "source": [
    "### Funkcija range"
   ]
  },
  {
   "cell_type": "markdown",
   "metadata": {},
   "source": [
    "Pogosto bomo uporabljali zanko ``for`` v povezavi s funkcijo ``range``:"
   ]
  },
  {
   "cell_type": "code",
   "execution_count": 75,
   "metadata": {},
   "outputs": [
    {
     "name": "stdout",
     "output_type": "stream",
     "text": [
      "0\n",
      "1\n",
      "2\n"
     ]
    }
   ],
   "source": [
    "for i in range(3):\n",
    "    print(i)"
   ]
  },
  {
   "cell_type": "markdown",
   "metadata": {
    "slideshow": {
     "slide_type": "subslide"
    }
   },
   "source": [
    "``?range`` razkrije podrobnosti funkcije: ``range(start, stop[, step])``. Upraba je lahko tudi taka:"
   ]
  },
  {
   "cell_type": "code",
   "execution_count": 76,
   "metadata": {},
   "outputs": [
    {
     "name": "stdout",
     "output_type": "stream",
     "text": [
      "5\n",
      "-5\n",
      "-15\n",
      "-25\n"
     ]
    }
   ],
   "source": [
    "for i in range(5, -30, -10):\n",
    "    print(i)"
   ]
  },
  {
   "cell_type": "markdown",
   "metadata": {
    "slideshow": {
     "slide_type": "subslide"
    }
   },
   "source": [
    "### Funkcija enumerate"
   ]
  },
  {
   "cell_type": "markdown",
   "metadata": {},
   "source": [
    "For pogosto uporabljamo s funkcijo (bolj natančno *iterator*) ``enumerate``. Že ime pove: oštevilči. Poglejmo primer:"
   ]
  },
  {
   "cell_type": "code",
   "execution_count": 77,
   "metadata": {},
   "outputs": [
    {
     "name": "stdout",
     "output_type": "stream",
     "text": [
      "0 Jaka\n",
      "1 Miki\n",
      "2 Luka\n",
      "3 Anja\n"
     ]
    }
   ],
   "source": [
    "for i, ime in enumerate(imena):\n",
    "    print(i, ime)"
   ]
  },
  {
   "cell_type": "code",
   "execution_count": 78,
   "metadata": {
    "collapsed": true,
    "slideshow": {
     "slide_type": "skip"
    }
   },
   "outputs": [],
   "source": [
    "?enumerate"
   ]
  },
  {
   "cell_type": "markdown",
   "metadata": {
    "slideshow": {
     "slide_type": "subslide"
    }
   },
   "source": [
    "### Funkcija zip"
   ]
  },
  {
   "cell_type": "markdown",
   "metadata": {},
   "source": [
    "Naslednja pogosta funkcija (tudi to je dejansko *iterator*) je ``zip``. Poglejmo si primer:"
   ]
  },
  {
   "cell_type": "code",
   "execution_count": 79,
   "metadata": {},
   "outputs": [
    {
     "name": "stdout",
     "output_type": "stream",
     "text": [
      "rdeč trikotnik\n",
      "moder krog\n"
     ]
    }
   ],
   "source": [
    "liki = ['trikotnik', 'krog']\n",
    "barve = ['rdeč', 'moder']\n",
    "for barva, lik in zip(barve, liki):\n",
    "    print(barva, lik)"
   ]
  },
  {
   "cell_type": "markdown",
   "metadata": {
    "slideshow": {
     "slide_type": "slide"
    }
   },
   "source": [
    "# Za konec: plonk list :)"
   ]
  },
  {
   "cell_type": "markdown",
   "metadata": {},
   "source": [
    "Veliko jih je, npr: http://perso.limsi.fr/pointal/_media/python:cours:mementopython3-english.pdf"
   ]
  },
  {
   "cell_type": "markdown",
   "metadata": {
    "slideshow": {
     "slide_type": "slide"
    }
   },
   "source": [
    "# Nekaj vprašanj za razmislek!"
   ]
  },
  {
   "cell_type": "markdown",
   "metadata": {},
   "source": [
    "1. Namestite *Anaconda*.\n",
    "2. Namestite *pyCharm Community Edition* in GitHub ter prenesite predavanja.\n",
    "3. V poljubnem delovnem direktoriju zaženite Jupyter notebook.\n",
    "4. Prikažite uporabo stilov, uporabo poudarjenega, poševnega teksta, uporabo seznamov, enačbe...\n",
    "5. Definirajte razliko med statičnim in dinamičnim definiranjem spremenljivk.\n",
    "6. Poiščite pomoč poljubnega ukaza (znotraj Pythona in na uradni domači strani).\n",
    "7. Prikažite uporabo *niza*, *celega števila* in *števila z uporabo plavajoče vejice*.\n",
    "8. Prikažite uporabo *terke* in njenih bistvenih lastnosti.\n",
    "9. Prikažite uporabo *seznama* in njegovih bistvenih lastnosti.\n",
    "10. Komentirajte tipične operacije nad seznami.\n",
    "11. Komentirajte uporabo *množic* in tipične uporabe.\n",
    "12. Prikažite uporabo slovarjev.\n",
    "13. Katere aritmetične operatorje poznamo v Pythonu? Prikažite uporabo.\n",
    "14. Katere primerjalne operatorje poznamo v Pythonu? Prikažite uporabo.\n",
    "15. Katere logične operatorje poznamo v Pythonu? Prikažite uporabo.\n",
    "16. Prikažite uporabo ``if`` stavka.\n",
    "17. Kakšna je razlika med ``if`` stavkm in ``if`` izrazom. Prikažite!\n",
    "18. Prikažite uporabo zanke ``while``.\n",
    "19. Prikažite uporabo zanke ``for``.\n",
    "20. Prikažite uporabo zanke ``for`` v povezavi s funkcijami ``range``, ``enumerate``, ``zip``     "
   ]
  },
  {
   "cell_type": "markdown",
   "metadata": {},
   "source": [
    "Še nekaj branja: [automatetheboringstuff.com](https://automatetheboringstuff.com/)."
   ]
  }
 ],
 "metadata": {
  "anaconda-cloud": {},
  "celltoolbar": "Slideshow",
  "kernelspec": {
   "display_name": "Python 3",
   "language": "python",
   "name": "python3"
  },
  "language_info": {
   "codemirror_mode": {
    "name": "ipython",
    "version": 3
   },
   "file_extension": ".py",
   "mimetype": "text/x-python",
   "name": "python",
   "nbconvert_exporter": "python",
   "pygments_lexer": "ipython3",
   "version": "3.6.1"
  },
  "latex_envs": {
   "bibliofile": "biblio.bib",
   "cite_by": "apalike",
   "current_citInitial": 1,
   "eqLabelWithNumbers": true,
   "eqNumInitial": 0
  },
  "livereveal": {
   "theme": "sky",
   "transition": "default",
   "width": 1200
  },
  "nav_menu": {},
  "toc": {
   "navigate_menu": true,
   "number_sections": true,
   "sideBar": true,
   "threshold": 6,
   "toc_cell": true,
   "toc_section_display": "block",
   "toc_window_display": true
  }
 },
 "nbformat": 4,
 "nbformat_minor": 1
}
