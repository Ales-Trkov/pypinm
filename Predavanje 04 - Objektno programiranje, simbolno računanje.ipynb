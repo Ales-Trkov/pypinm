{
 "cells": [
  {
   "cell_type": "markdown",
   "metadata": {
    "toc": "true"
   },
   "source": [
    "# Table of Contents\n",
    " <p><div class=\"lev1\"><a href=\"#Objektno-programiranje\"><span class=\"toc-item-num\">1&nbsp;&nbsp;</span>Objektno programiranje</a></div><div class=\"lev2\"><a href=\"#Dedovanje\"><span class=\"toc-item-num\">1.1&nbsp;&nbsp;</span>Dedovanje</a></div><div class=\"lev1\"><a href=\"#Simbolno-računanje-s-SymPy\"><span class=\"toc-item-num\">2&nbsp;&nbsp;</span>Simbolno računanje s <code>SymPy</code></a></div><div class=\"lev2\"><a href=\"#Definiranje-spremenljivk\"><span class=\"toc-item-num\">2.1&nbsp;&nbsp;</span>Definiranje spremenljivk</a></div><div class=\"lev2\"><a href=\"#Kompleksna-število\"><span class=\"toc-item-num\">2.2&nbsp;&nbsp;</span>Kompleksna število</a></div><div class=\"lev2\"><a href=\"#Racionalna-števila\"><span class=\"toc-item-num\">2.3&nbsp;&nbsp;</span>Racionalna števila</a></div><div class=\"lev2\"><a href=\"#Numerični-izračun\"><span class=\"toc-item-num\">2.4&nbsp;&nbsp;</span>Numerični izračun</a></div><div class=\"lev2\"><a href=\"#SymPy-in-NumPy\"><span class=\"toc-item-num\">2.5&nbsp;&nbsp;</span><code>SymPy</code> in <code>NumPy</code></a></div><div class=\"lev2\"><a href=\"#Uporaba-lambdify-funkcije\"><span class=\"toc-item-num\">2.6&nbsp;&nbsp;</span>Uporaba <code>lambdify</code> funkcije</a></div><div class=\"lev2\"><a href=\"#Grafični-prikaz\"><span class=\"toc-item-num\">2.7&nbsp;&nbsp;</span>Grafični prikaz</a></div><div class=\"lev2\"><a href=\"#Algebra\"><span class=\"toc-item-num\">2.8&nbsp;&nbsp;</span>Algebra</a></div><div class=\"lev3\"><a href=\"#Uporaba-expand-in-factor\"><span class=\"toc-item-num\">2.8.1&nbsp;&nbsp;</span>Uporaba <code>expand</code> in <code>factor</code></a></div><div class=\"lev3\"><a href=\"#Poenostavljanje-izrazov-s-simplify\"><span class=\"toc-item-num\">2.8.2&nbsp;&nbsp;</span>Poenostavljanje izrazov s <code>simplify</code></a></div><div class=\"lev2\"><a href=\"#Uporaba-apart-in-together\"><span class=\"toc-item-num\">2.9&nbsp;&nbsp;</span>Uporaba <code>apart</code> in <code>together</code></a></div><div class=\"lev2\"><a href=\"#Odvajanje\"><span class=\"toc-item-num\">2.10&nbsp;&nbsp;</span>Odvajanje</a></div><div class=\"lev2\"><a href=\"#Integriranje\"><span class=\"toc-item-num\">2.11&nbsp;&nbsp;</span>Integriranje</a></div><div class=\"lev2\"><a href=\"#Vsota-in-produkt-vrste\"><span class=\"toc-item-num\">2.12&nbsp;&nbsp;</span>Vsota in produkt vrste</a></div><div class=\"lev2\"><a href=\"#Limitni-račun\"><span class=\"toc-item-num\">2.13&nbsp;&nbsp;</span>Limitni račun</a></div><div class=\"lev2\"><a href=\"#Taylorjeve-vrste\"><span class=\"toc-item-num\">2.14&nbsp;&nbsp;</span>Taylorjeve vrste</a></div><div class=\"lev2\"><a href=\"#Linearna-algebra\"><span class=\"toc-item-num\">2.15&nbsp;&nbsp;</span>Linearna algebra</a></div><div class=\"lev3\"><a href=\"#Matrike-in-vektorji\"><span class=\"toc-item-num\">2.15.1&nbsp;&nbsp;</span>Matrike in vektorji</a></div><div class=\"lev2\"><a href=\"#Reševanje-enačb\"><span class=\"toc-item-num\">2.16&nbsp;&nbsp;</span>Reševanje enačb</a></div><div class=\"lev2\"><a href=\"#Reševanje-diferencialnih-enačb\"><span class=\"toc-item-num\">2.17&nbsp;&nbsp;</span>Reševanje diferencialnih enačb</a></div><div class=\"lev1\"><a href=\"#Nekaj-vprašanj-za-razmislek!\"><span class=\"toc-item-num\">3&nbsp;&nbsp;</span>Nekaj vprašanj za razmislek!</a></div><div class=\"lev1\"><a href=\"#Ekstra\"><span class=\"toc-item-num\">4&nbsp;&nbsp;</span>Ekstra</a></div><div class=\"lev2\"><a href=\"#sympy.mechanics\"><span class=\"toc-item-num\">4.1&nbsp;&nbsp;</span>sympy.mechanics</a></div><div class=\"lev2\"><a href=\"#Napredna-uporaba\"><span class=\"toc-item-num\">4.2&nbsp;&nbsp;</span>Napredna uporaba</a></div>"
   ]
  },
  {
   "cell_type": "markdown",
   "metadata": {
    "slideshow": {
     "slide_type": "slide"
    }
   },
   "source": [
    "\n",
    "<font size=\"2\"> [github.com/jankoslavic/pypinm](http://github.com/jankoslavic/pypinm)</font>\n",
    "\n",
    "<center>\n",
    "<img width=300 src=\"./fig/ladisk.png\">\n",
    "<br>\n",
    "<font size=\"7\" color=\"f00e0e\" face=\"garamond\"><b>Objektno programiranje, simbolno računanje</b></font>\n",
    "<br><br>\n",
    "<font size=\"4\">\n",
    "[izr.prof. dr. Janko Slavič](http://www.ladisk.si/~slavic)\n",
    "</font>\n",
    "<br><br>\n",
    "<font size=\"2\">Oktober 2016</font>\n",
    "</center>"
   ]
  },
  {
   "cell_type": "markdown",
   "metadata": {
    "slideshow": {
     "slide_type": "slide"
    }
   },
   "source": [
    "# Objektno programiranje"
   ]
  },
  {
   "cell_type": "markdown",
   "metadata": {},
   "source": [
    "Python omogoča tri tipe programiranja ([docs.python.org](https://docs.python.org/3/howto/functional.html)):\n",
    "\n",
    "1. proceduralno: seznam instrukcij kaj je treba izvesti (npr.: ``C, Pascal``)\n",
    "2. funkcijsko: reševanje problema z uporabo funkcij (npr.: ``Mathematica, C++, Php`` )\n",
    "3. objektno: program bazira na objektih, ki imajo lastnosti, funkcije,... (npr.: ``C++, Java``)\n"
   ]
  },
  {
   "cell_type": "markdown",
   "metadata": {
    "slideshow": {
     "slide_type": "skip"
    }
   },
   "source": [
    "Doslej smo spoznali proceduralno in funkcijsko programiranje. Sledi objektno orientirano programiranje, ki v Pythonu  temelji na **razredih** (*class*), objekti so pa **instance** (*instance*) razreda. Tukaj si bomo pogledali zgolj nekatere osnove objektnega programiranja (da boste lažje razumeli drugo kodo in jo prirejali).\n",
    "\n",
    "Glejte [docs.python.org](https://docs.python.org/3.4/tutorial/classes.html) za podrobno pomoč."
   ]
  },
  {
   "cell_type": "markdown",
   "metadata": {
    "slideshow": {
     "slide_type": "subslide"
    }
   },
   "source": [
    "Poglejmo si preprosti primer:"
   ]
  },
  {
   "cell_type": "code",
   "execution_count": 1,
   "metadata": {
    "collapsed": false
   },
   "outputs": [],
   "source": [
    "# proceduralno\n",
    "a = 5\n",
    "b = 5 * a\n",
    "\n",
    "# funkcijsko\n",
    "def zmnozi(a, b):\n",
    "    return a*b\n",
    "\n",
    "# objektno\n",
    "class Studenti:\n",
    "    def __init__(self, st_studentov = 1):\n",
    "        self.st_studentov = st_studentov\n",
    "        #print('kar nekaj')"
   ]
  },
  {
   "cell_type": "code",
   "execution_count": 2,
   "metadata": {
    "collapsed": false,
    "slideshow": {
     "slide_type": "fragment"
    }
   },
   "outputs": [
    {
     "data": {
      "text/plain": [
       "10"
      ]
     },
     "execution_count": 2,
     "metadata": {},
     "output_type": "execute_result"
    }
   ],
   "source": [
    "razred_NM = Studenti(st_studentov=10)\n",
    "razred_NM.st_studentov"
   ]
  },
  {
   "cell_type": "code",
   "execution_count": 3,
   "metadata": {
    "collapsed": false,
    "slideshow": {
     "slide_type": "subslide"
    }
   },
   "outputs": [],
   "source": [
    "class Pravokotnik:\n",
    "    \"\"\"Razred za objekt pravokotnik\"\"\"\n",
    "\n",
    "    def __init__(self, sirina=1, visina=1): # to je konstruktor objekta. Se izvede, če kličemo Pravokotni(sirina=1, visina=4)\n",
    "        self.sirina = sirina \n",
    "        self.visina = visina # visina je atribut objekta\n",
    "        \n",
    "    def povrsina(self):\n",
    "        return self.sirina * self.visina\n",
    "    \n",
    "    def set_sirina(self, sirina=1):\n",
    "        self.sirina = sirina"
   ]
  },
  {
   "cell_type": "markdown",
   "metadata": {},
   "source": [
    "Bodite pozorni na zamik, ki definira celotni blok, kateri pripada razredu. Spremenljivka ``self`` je referenca na instanco razreda (nekateri drugi programski jeziki tukaj uporabijo npr. ``this``)."
   ]
  },
  {
   "cell_type": "markdown",
   "metadata": {
    "slideshow": {
     "slide_type": "subslide"
    }
   },
   "source": [
    "Ustvarimo sedaj instanco objekta ``Pravokotnik``:"
   ]
  },
  {
   "cell_type": "code",
   "execution_count": 4,
   "metadata": {
    "collapsed": false
   },
   "outputs": [],
   "source": [
    "pravokotnik = Pravokotnik(sirina=5)"
   ]
  },
  {
   "cell_type": "markdown",
   "metadata": {},
   "source": [
    "Vsi atributi so shranjeni v slovarju ``__dict__``:"
   ]
  },
  {
   "cell_type": "code",
   "execution_count": 5,
   "metadata": {
    "collapsed": false
   },
   "outputs": [
    {
     "data": {
      "text/plain": [
       "{'sirina': 5, 'visina': 1}"
      ]
     },
     "execution_count": 5,
     "metadata": {},
     "output_type": "execute_result"
    }
   ],
   "source": [
    "pravokotnik.__dict__"
   ]
  },
  {
   "cell_type": "markdown",
   "metadata": {
    "slideshow": {
     "slide_type": "subslide"
    }
   },
   "source": [
    "Do atributov praviloma ne dostopamo preko ``__dict__``, ampak takole:"
   ]
  },
  {
   "cell_type": "code",
   "execution_count": 6,
   "metadata": {
    "collapsed": false,
    "slideshow": {
     "slide_type": "fragment"
    }
   },
   "outputs": [
    {
     "data": {
      "text/plain": [
       "5"
      ]
     },
     "execution_count": 6,
     "metadata": {},
     "output_type": "execute_result"
    }
   ],
   "source": [
    "pravokotnik.sirina"
   ]
  },
  {
   "cell_type": "markdown",
   "metadata": {},
   "source": [
    "Ali objekt ima določeni atribut preverimo z ukazom ``hasattr``:"
   ]
  },
  {
   "cell_type": "code",
   "execution_count": 7,
   "metadata": {
    "collapsed": false,
    "slideshow": {
     "slide_type": "fragment"
    }
   },
   "outputs": [
    {
     "data": {
      "text/plain": [
       "True"
      ]
     },
     "execution_count": 7,
     "metadata": {},
     "output_type": "execute_result"
    }
   ],
   "source": [
    "hasattr(pravokotnik, 'sirina')"
   ]
  },
  {
   "cell_type": "markdown",
   "metadata": {
    "slideshow": {
     "slide_type": "subslide"
    }
   },
   "source": [
    "Pokličimo sedaj še metodo (funkcije v razredih dobijo ime metoda:)) objekta (seveda bi lahko imela tudi parametre):"
   ]
  },
  {
   "cell_type": "code",
   "execution_count": 8,
   "metadata": {
    "collapsed": false
   },
   "outputs": [
    {
     "data": {
      "text/plain": [
       "5"
      ]
     },
     "execution_count": 8,
     "metadata": {},
     "output_type": "execute_result"
    }
   ],
   "source": [
    "pravokotnik.povrsina() #poskusite poklicati brez oklepajev ()"
   ]
  },
  {
   "cell_type": "code",
   "execution_count": 9,
   "metadata": {
    "collapsed": false,
    "slideshow": {
     "slide_type": "fragment"
    }
   },
   "outputs": [],
   "source": [
    "pravokotnik.set_sirina(sirina=100)"
   ]
  },
  {
   "cell_type": "code",
   "execution_count": 10,
   "metadata": {
    "collapsed": false,
    "slideshow": {
     "slide_type": "fragment"
    }
   },
   "outputs": [
    {
     "data": {
      "text/plain": [
       "100"
      ]
     },
     "execution_count": 10,
     "metadata": {},
     "output_type": "execute_result"
    }
   ],
   "source": [
    "pravokotnik.povrsina()"
   ]
  },
  {
   "cell_type": "code",
   "execution_count": 11,
   "metadata": {
    "collapsed": false,
    "slideshow": {
     "slide_type": "fragment"
    }
   },
   "outputs": [
    {
     "data": {
      "text/plain": [
       "1"
      ]
     },
     "execution_count": 11,
     "metadata": {},
     "output_type": "execute_result"
    }
   ],
   "source": [
    "pravokotnik.visina"
   ]
  },
  {
   "cell_type": "markdown",
   "metadata": {
    "slideshow": {
     "slide_type": "subslide"
    }
   },
   "source": [
    "## Dedovanje"
   ]
  },
  {
   "cell_type": "markdown",
   "metadata": {},
   "source": [
    "Razredi se lahko dedujejo. Preprosti primer:"
   ]
  },
  {
   "cell_type": "code",
   "execution_count": 12,
   "metadata": {
    "collapsed": false
   },
   "outputs": [],
   "source": [
    "class Kvadrat(Pravokotnik):\n",
    "    \"Razred kvadrat\"\n",
    "    \n",
    "    def __init__(self, sirina=1):\n",
    "        # kličimo konstruktur razreda Pravokotnik\n",
    "        super().__init__(sirina=sirina, visina=sirina)\n",
    "        \n",
    "    def set_sirina(self, sirina):\n",
    "        self.sirina = sirina\n",
    "        self.visina = sirina"
   ]
  },
  {
   "cell_type": "code",
   "execution_count": 13,
   "metadata": {
    "collapsed": false,
    "slideshow": {
     "slide_type": "subslide"
    }
   },
   "outputs": [],
   "source": [
    "kvadrat = Kvadrat(sirina=4)"
   ]
  },
  {
   "cell_type": "code",
   "execution_count": 14,
   "metadata": {
    "collapsed": false
   },
   "outputs": [
    {
     "data": {
      "text/plain": [
       "16"
      ]
     },
     "execution_count": 14,
     "metadata": {},
     "output_type": "execute_result"
    }
   ],
   "source": [
    "kvadrat.povrsina()"
   ]
  },
  {
   "cell_type": "code",
   "execution_count": 15,
   "metadata": {
    "collapsed": false,
    "slideshow": {
     "slide_type": "fragment"
    }
   },
   "outputs": [],
   "source": [
    "kvadrat.set_sirina(5)"
   ]
  },
  {
   "cell_type": "code",
   "execution_count": 16,
   "metadata": {
    "collapsed": false,
    "slideshow": {
     "slide_type": "-"
    }
   },
   "outputs": [
    {
     "data": {
      "text/plain": [
       "25"
      ]
     },
     "execution_count": 16,
     "metadata": {},
     "output_type": "execute_result"
    }
   ],
   "source": [
    "kvadrat.povrsina() # morali bi popraviti tudi to funkcijo"
   ]
  },
  {
   "cell_type": "markdown",
   "metadata": {
    "slideshow": {
     "slide_type": "subslide"
    }
   },
   "source": [
    "Za vajo si sedaj poglejmo kako raširimo vgrajeni razred (npr. ``list``):"
   ]
  },
  {
   "cell_type": "code",
   "execution_count": 17,
   "metadata": {
    "collapsed": false
   },
   "outputs": [],
   "source": [
    "class Seznam(list):\n",
    "        \n",
    "    def narisi(self):\n",
    "        plt.plot(self, 'r.', label='Dolgo besedilo')\n",
    "        plt.legend()\n",
    "        plt.ylim(-5, 5)"
   ]
  },
  {
   "cell_type": "code",
   "execution_count": 18,
   "metadata": {
    "collapsed": true
   },
   "outputs": [],
   "source": [
    "import matplotlib.pyplot as plt\n",
    "import seaborn # ta paket lahko odstranite, namenjen je lepšemu izrisu\n",
    "%matplotlib inline"
   ]
  },
  {
   "cell_type": "code",
   "execution_count": 19,
   "metadata": {
    "collapsed": false,
    "slideshow": {
     "slide_type": "subslide"
    }
   },
   "outputs": [
    {
     "data": {
      "text/plain": [
       "[]"
      ]
     },
     "execution_count": 19,
     "metadata": {},
     "output_type": "execute_result"
    }
   ],
   "source": [
    "list()"
   ]
  },
  {
   "cell_type": "code",
   "execution_count": 20,
   "metadata": {
    "collapsed": false
   },
   "outputs": [
    {
     "data": {
      "text/plain": [
       "[1, 2, 3]"
      ]
     },
     "execution_count": 20,
     "metadata": {},
     "output_type": "execute_result"
    }
   ],
   "source": [
    "a = list([1,2,3])\n",
    "a"
   ]
  },
  {
   "cell_type": "code",
   "execution_count": 21,
   "metadata": {
    "collapsed": false
   },
   "outputs": [
    {
     "data": {
      "image/png": "[encoded data removed]",
      "text/plain": [
       "<matplotlib.figure.Figure at 0x199266a9518>"
      ]
     },
     "metadata": {},
     "output_type": "display_data"
    }
   ],
   "source": [
    "a.append(1)\n",
    "plt.plot(a);"
   ]
  },
  {
   "cell_type": "code",
   "execution_count": 22,
   "metadata": {
    "collapsed": false,
    "slideshow": {
     "slide_type": "subslide"
    }
   },
   "outputs": [],
   "source": [
    "moj_seznam = Seznam([1, 2, 3])"
   ]
  },
  {
   "cell_type": "code",
   "execution_count": 23,
   "metadata": {
    "collapsed": false
   },
   "outputs": [
    {
     "data": {
      "text/plain": [
       "[1, 2, 3]"
      ]
     },
     "execution_count": 23,
     "metadata": {},
     "output_type": "execute_result"
    }
   ],
   "source": [
    "moj_seznam"
   ]
  },
  {
   "cell_type": "code",
   "execution_count": 24,
   "metadata": {
    "collapsed": false
   },
   "outputs": [],
   "source": [
    "moj_seznam.append(1)"
   ]
  },
  {
   "cell_type": "code",
   "execution_count": 25,
   "metadata": {
    "collapsed": false
   },
   "outputs": [
    {
     "data": {
      "text/plain": [
       "[1, 2, 3, 1]"
      ]
     },
     "execution_count": 25,
     "metadata": {},
     "output_type": "execute_result"
    }
   ],
   "source": [
    "moj_seznam"
   ]
  },
  {
   "cell_type": "code",
   "execution_count": 26,
   "metadata": {
    "collapsed": false,
    "slideshow": {
     "slide_type": "subslide"
    }
   },
   "outputs": [
    {
     "data": {
      "image/png": "[encoded data removed]",
      "text/plain": [
       "<matplotlib.figure.Figure at 0x19926b09550>"
      ]
     },
     "metadata": {},
     "output_type": "display_data"
    }
   ],
   "source": [
    "moj_seznam.narisi()"
   ]
  },
  {
   "cell_type": "markdown",
   "metadata": {
    "slideshow": {
     "slide_type": "slide"
    }
   },
   "source": [
    "# Simbolno računanje s ``SymPy``"
   ]
  },
  {
   "cell_type": "markdown",
   "metadata": {},
   "source": [
    "Termin **simbolno računanje** pomeni, da matematične izraze rešujemo v obliki abstraktnih simbolov (in **ne numerično**)."
   ]
  },
  {
   "cell_type": "markdown",
   "metadata": {
    "slideshow": {
     "slide_type": "subslide"
    }
   },
   "source": [
    "To predavanje temelji na virih:\n",
    "* J.R. Johansson [http://github.com/jrjohansson/scientific-python-lectures](http://github.com/jrjohansson/scientific-python-lectures) in\n",
    "* [SymPy](http://sympy.org/en/index.html) - uradna dokumentacija modula.\n",
    "\n",
    "``SymPy`` je eden od sistemov za strojno algebro (CAS - *Computer Algebra Systems*), ki pa ima poleg zmogljivosti tudi to prednost, da je v celoti napisan v Pythonu. Alternativa bi lahko bila npr. [Sage](http://www.sagemath.org/).\n",
    "\n",
    "Nekatera namenska komercialna orodja:\n",
    "* [Mathematica](http://www.wolfram.com/mathematica) \n",
    "* [Maple](http://www.maplesoft.com/products/maple) "
   ]
  },
  {
   "cell_type": "markdown",
   "metadata": {
    "slideshow": {
     "slide_type": "subslide"
    }
   },
   "source": [
    "Najprej uvozimo modul ``SymPy``."
   ]
  },
  {
   "cell_type": "code",
   "execution_count": 27,
   "metadata": {
    "collapsed": false
   },
   "outputs": [],
   "source": [
    "import sympy as sym\n",
    "#ali:\n",
    "#from sympy import * \n",
    "#(temu se praviloma izogibamo, saj zavzamemo veliko imenskega prostora)"
   ]
  },
  {
   "cell_type": "markdown",
   "metadata": {},
   "source": [
    "Zato, da dobimo lepo oblikovan LaTeX izpis uporabimo:"
   ]
  },
  {
   "cell_type": "code",
   "execution_count": 28,
   "metadata": {
    "collapsed": false
   },
   "outputs": [],
   "source": [
    "sym.init_printing()"
   ]
  },
  {
   "cell_type": "markdown",
   "metadata": {
    "slideshow": {
     "slide_type": "subslide"
    }
   },
   "source": [
    "## Definiranje spremenljivk"
   ]
  },
  {
   "cell_type": "markdown",
   "metadata": {},
   "source": [
    "Spremenljivke definiramo takole:"
   ]
  },
  {
   "cell_type": "code",
   "execution_count": 29,
   "metadata": {
    "collapsed": false
   },
   "outputs": [],
   "source": [
    "x, y, k = sym.symbols('\\\n",
    "x, y, k')"
   ]
  },
  {
   "cell_type": "code",
   "execution_count": 30,
   "metadata": {
    "collapsed": false
   },
   "outputs": [
    {
     "data": {
      "image/png": "[encoded data removed]",
      "text/latex": [
       "$$x^{y}$$"
      ],
      "text/plain": [
       " y\n",
       "x "
      ]
     },
     "execution_count": 30,
     "metadata": {},
     "output_type": "execute_result"
    }
   ],
   "source": [
    "x**y"
   ]
  },
  {
   "cell_type": "markdown",
   "metadata": {
    "slideshow": {
     "slide_type": "subslide"
    }
   },
   "source": [
    "Primer simbolnega izračuna:"
   ]
  },
  {
   "cell_type": "code",
   "execution_count": 31,
   "metadata": {
    "collapsed": false
   },
   "outputs": [
    {
     "data": {
      "image/png": "[encoded data removed]",
      "text/latex": [
       "$$\\sin^{2}{\\left (x + 1.2 \\pi \\right )}$$"
      ],
      "text/plain": [
       "   2           \n",
       "sin (x + 1.2⋅π)"
      ]
     },
     "execution_count": 31,
     "metadata": {},
     "output_type": "execute_result"
    }
   ],
   "source": [
    "sym.sin(1.2*sym.pi + x)**2"
   ]
  },
  {
   "cell_type": "code",
   "execution_count": 32,
   "metadata": {
    "collapsed": false
   },
   "outputs": [
    {
     "data": {
      "image/png": "[encoded data removed]",
      "text/latex": [
       "$$\\sin^{2}{\\left (x \\right )}$$"
      ],
      "text/plain": [
       "   2   \n",
       "sin (x)"
      ]
     },
     "execution_count": 32,
     "metadata": {},
     "output_type": "execute_result"
    }
   ],
   "source": [
    "sym.sin(sym.pi + x)**2"
   ]
  },
  {
   "cell_type": "markdown",
   "metadata": {
    "slideshow": {
     "slide_type": "subslide"
    }
   },
   "source": [
    "Če želimo, lahko izraz priredimo spremenljivki:"
   ]
  },
  {
   "cell_type": "code",
   "execution_count": 33,
   "metadata": {
    "collapsed": false
   },
   "outputs": [],
   "source": [
    "f = sym.sin(k*x)"
   ]
  },
  {
   "cell_type": "markdown",
   "metadata": {
    "slideshow": {
     "slide_type": "fragment"
    }
   },
   "source": [
    "Če želimo zapisati enačbo, to naredimo takole:"
   ]
  },
  {
   "cell_type": "code",
   "execution_count": 34,
   "metadata": {
    "collapsed": false
   },
   "outputs": [
    {
     "data": {
      "image/png": "[encoded data removed]",
      "text/latex": [
       "$$\\sin{\\left (k x \\right )} = 0.5$$"
      ],
      "text/plain": [
       "sin(k⋅x) = 0.5"
      ]
     },
     "execution_count": 34,
     "metadata": {},
     "output_type": "execute_result"
    }
   ],
   "source": [
    "en = sym.Eq(sym.sin(k*x),0.5)\n",
    "en"
   ]
  },
  {
   "cell_type": "markdown",
   "metadata": {
    "slideshow": {
     "slide_type": "subslide"
    }
   },
   "source": [
    "Spremenljivke lahko definiramo tudi tako:"
   ]
  },
  {
   "cell_type": "code",
   "execution_count": 35,
   "metadata": {
    "collapsed": false
   },
   "outputs": [],
   "source": [
    "a, b, c = sym.symbols('\\\n",
    "a, b, c')# ali tudi: symbols('a', 'b', 'c')"
   ]
  },
  {
   "cell_type": "code",
   "execution_count": 36,
   "metadata": {
    "collapsed": false
   },
   "outputs": [
    {
     "data": {
      "text/plain": [
       "sympy.core.symbol.Symbol"
      ]
     },
     "execution_count": 36,
     "metadata": {},
     "output_type": "execute_result"
    }
   ],
   "source": [
    "type(a)"
   ]
  },
  {
   "cell_type": "markdown",
   "metadata": {
    "slideshow": {
     "slide_type": "subslide"
    }
   },
   "source": [
    "Pri definiranju spremenljivk lahko dodajamo predpostavke:"
   ]
  },
  {
   "cell_type": "code",
   "execution_count": 37,
   "metadata": {
    "collapsed": false
   },
   "outputs": [],
   "source": [
    "x = sym.Symbol('x', prime=True, positive=True)"
   ]
  },
  {
   "cell_type": "code",
   "execution_count": 38,
   "metadata": {
    "collapsed": false
   },
   "outputs": [
    {
     "data": {
      "text/plain": [
       "True"
      ]
     },
     "execution_count": 38,
     "metadata": {},
     "output_type": "execute_result"
    }
   ],
   "source": [
    "x.is_prime"
   ]
  },
  {
   "cell_type": "code",
   "execution_count": 39,
   "metadata": {
    "collapsed": false
   },
   "outputs": [
    {
     "data": {
      "text/plain": [
       "True"
      ]
     },
     "execution_count": 39,
     "metadata": {},
     "output_type": "execute_result"
    }
   ],
   "source": [
    "x.is_positive"
   ]
  },
  {
   "cell_type": "code",
   "execution_count": 40,
   "metadata": {
    "collapsed": false
   },
   "outputs": [
    {
     "data": {
      "image/png": "[encoded data removed]",
      "text/latex": [
       "$$\\mathrm{False}$$"
      ],
      "text/plain": [
       "False"
      ]
     },
     "execution_count": 40,
     "metadata": {},
     "output_type": "execute_result"
    }
   ],
   "source": [
    "x < 0"
   ]
  },
  {
   "cell_type": "code",
   "execution_count": 41,
   "metadata": {
    "collapsed": false,
    "slideshow": {
     "slide_type": "subslide"
    }
   },
   "outputs": [],
   "source": [
    "c = sym.symbols('c', positive=True)"
   ]
  },
  {
   "cell_type": "code",
   "execution_count": 42,
   "metadata": {
    "collapsed": false
   },
   "outputs": [
    {
     "data": {
      "image/png": "[encoded data removed]",
      "text/latex": [
       "$$\\mathrm{False}$$"
      ],
      "text/plain": [
       "False"
      ]
     },
     "execution_count": 42,
     "metadata": {},
     "output_type": "execute_result"
    }
   ],
   "source": [
    "c<0"
   ]
  },
  {
   "cell_type": "code",
   "execution_count": 43,
   "metadata": {
    "collapsed": false
   },
   "outputs": [
    {
     "data": {
      "text/plain": [
       "{'commutative': True,\n",
       " 'complex': True,\n",
       " 'hermitian': True,\n",
       " 'imaginary': False,\n",
       " 'negative': False,\n",
       " 'nonnegative': True,\n",
       " 'nonpositive': False,\n",
       " 'nonzero': True,\n",
       " 'positive': True,\n",
       " 'real': True,\n",
       " 'zero': False}"
      ]
     },
     "execution_count": 43,
     "metadata": {},
     "output_type": "execute_result"
    }
   ],
   "source": [
    "c.assumptions0"
   ]
  },
  {
   "cell_type": "markdown",
   "metadata": {
    "slideshow": {
     "slide_type": "subslide"
    }
   },
   "source": [
    "## Kompleksna število"
   ]
  },
  {
   "cell_type": "markdown",
   "metadata": {},
   "source": [
    "Imaginarno število se zapiše z ``I``: "
   ]
  },
  {
   "cell_type": "code",
   "execution_count": 44,
   "metadata": {
    "collapsed": false
   },
   "outputs": [
    {
     "data": {
      "image/png": "[encoded data removed]",
      "text/latex": [
       "$$1 + i$$"
      ],
      "text/plain": [
       "1 + ⅈ"
      ]
     },
     "execution_count": 44,
     "metadata": {},
     "output_type": "execute_result"
    }
   ],
   "source": [
    "1+1*sym.I"
   ]
  },
  {
   "cell_type": "code",
   "execution_count": 45,
   "metadata": {
    "collapsed": false
   },
   "outputs": [
    {
     "data": {
      "image/png": "[encoded data removed]",
      "text/latex": [
       "$$-1$$"
      ],
      "text/plain": [
       "-1"
      ]
     },
     "execution_count": 45,
     "metadata": {},
     "output_type": "execute_result"
    }
   ],
   "source": [
    "sym.I**2"
   ]
  },
  {
   "cell_type": "code",
   "execution_count": 46,
   "metadata": {
    "collapsed": false
   },
   "outputs": [
    {
     "data": {
      "image/png": "[encoded data removed]",
      "text/latex": [
       "$$\\left(i x + 1\\right)^{2}$$"
      ],
      "text/plain": [
       "         2\n",
       "(ⅈ⋅x + 1) "
      ]
     },
     "execution_count": 46,
     "metadata": {},
     "output_type": "execute_result"
    }
   ],
   "source": [
    "(x * sym.I + 1)**2"
   ]
  },
  {
   "cell_type": "markdown",
   "metadata": {
    "slideshow": {
     "slide_type": "subslide"
    }
   },
   "source": [
    "## Racionalna števila"
   ]
  },
  {
   "cell_type": "markdown",
   "metadata": {},
   "source": [
    "``SymPy`` pozna tri numerične tipe: ``Real``, ``Rational``, ``Integer``: "
   ]
  },
  {
   "cell_type": "code",
   "execution_count": 47,
   "metadata": {
    "collapsed": false
   },
   "outputs": [],
   "source": [
    "r1 = sym.Rational(4, 5)\n",
    "r2 = sym.Rational(5, 4)"
   ]
  },
  {
   "cell_type": "code",
   "execution_count": 48,
   "metadata": {
    "collapsed": false
   },
   "outputs": [
    {
     "data": {
      "image/png": "[encoded data removed]",
      "text/latex": [
       "$$\\frac{4}{5}$$"
      ],
      "text/plain": [
       "4/5"
      ]
     },
     "execution_count": 48,
     "metadata": {},
     "output_type": "execute_result"
    }
   ],
   "source": [
    "r1"
   ]
  },
  {
   "cell_type": "code",
   "execution_count": 49,
   "metadata": {
    "collapsed": false
   },
   "outputs": [
    {
     "data": {
      "image/png": "[encoded data removed]",
      "text/latex": [
       "$$\\frac{41}{20}$$"
      ],
      "text/plain": [
       "41\n",
       "──\n",
       "20"
      ]
     },
     "execution_count": 49,
     "metadata": {},
     "output_type": "execute_result"
    }
   ],
   "source": [
    "r1+r2"
   ]
  },
  {
   "cell_type": "code",
   "execution_count": 50,
   "metadata": {
    "collapsed": false
   },
   "outputs": [
    {
     "data": {
      "image/png": "[encoded data removed]",
      "text/latex": [
       "$$\\frac{16}{25}$$"
      ],
      "text/plain": [
       "16\n",
       "──\n",
       "25"
      ]
     },
     "execution_count": 50,
     "metadata": {},
     "output_type": "execute_result"
    }
   ],
   "source": [
    "r1/r2"
   ]
  },
  {
   "cell_type": "markdown",
   "metadata": {
    "slideshow": {
     "slide_type": "subslide"
    }
   },
   "source": [
    "## Numerični izračun"
   ]
  },
  {
   "cell_type": "markdown",
   "metadata": {},
   "source": [
    "SymPy uporablja nekatere konstante, npr: ``pi``, ``E`` in ``oo`` za neskončnost.\n",
    "\n",
    "Če želimo za določeni izraz izračunati numerično vrednost, potem uporabmo funkcijo ``evalf`` ali ``N``, ki imata argument ``n`` (število decimalnih mest)."
   ]
  },
  {
   "cell_type": "code",
   "execution_count": 51,
   "metadata": {
    "collapsed": false
   },
   "outputs": [
    {
     "data": {
      "image/png": "[encoded data removed]",
      "text/latex": [
       "$$3.141592654$$"
      ],
      "text/plain": [
       "3.141592654"
      ]
     },
     "execution_count": 51,
     "metadata": {},
     "output_type": "execute_result"
    }
   ],
   "source": [
    "sym.N(sym.pi,10)"
   ]
  },
  {
   "cell_type": "code",
   "execution_count": 52,
   "metadata": {
    "collapsed": false
   },
   "outputs": [
    {
     "data": {
      "image/png": "[encoded data removed]",
      "text/latex": [
       "$$3.14159265358979323846264338328$$"
      ],
      "text/plain": [
       "3.14159265358979323846264338328"
      ]
     },
     "execution_count": 52,
     "metadata": {},
     "output_type": "execute_result"
    }
   ],
   "source": [
    "sym.pi.evalf(n=30)"
   ]
  },
  {
   "cell_type": "code",
   "execution_count": 53,
   "metadata": {
    "collapsed": false,
    "slideshow": {
     "slide_type": "subslide"
    }
   },
   "outputs": [],
   "source": [
    "y = sym.symbols('y')"
   ]
  },
  {
   "cell_type": "code",
   "execution_count": 54,
   "metadata": {
    "collapsed": false
   },
   "outputs": [
    {
     "data": {
      "image/png": "[encoded data removed]",
      "text/latex": [
       "$$\\left(x^{y} + \\pi\\right)^{2}$$"
      ],
      "text/plain": [
       "        2\n",
       "⎛ y    ⎞ \n",
       "⎝x  + π⎠ "
      ]
     },
     "execution_count": 54,
     "metadata": {},
     "output_type": "execute_result"
    }
   ],
   "source": [
    "f = (x**y + sym.pi)**2\n",
    "f"
   ]
  },
  {
   "cell_type": "code",
   "execution_count": 55,
   "metadata": {
    "collapsed": false
   },
   "outputs": [
    {
     "data": {
      "image/png": "[encoded data removed]",
      "text/latex": [
       "$$\\left(x^{y} + 3.1416\\right)^{2}$$"
      ],
      "text/plain": [
       "             2\n",
       "⎛ y         ⎞ \n",
       "⎝x  + 3.1416⎠ "
      ]
     },
     "execution_count": 55,
     "metadata": {},
     "output_type": "execute_result"
    }
   ],
   "source": [
    "sym.N(f, 5) # enako kot evalf"
   ]
  },
  {
   "cell_type": "markdown",
   "metadata": {
    "slideshow": {
     "slide_type": "subslide"
    }
   },
   "source": [
    "Simbole lahko zamenjamo z numeričnimi vrednostmi, to naredimo s funkcijo ``subs``:"
   ]
  },
  {
   "cell_type": "code",
   "execution_count": 56,
   "metadata": {
    "collapsed": false
   },
   "outputs": [
    {
     "data": {
      "image/png": "[encoded data removed]",
      "text/latex": [
       "$$\\left(1.5^{y} + \\pi\\right)^{2}$$"
      ],
      "text/plain": [
       "          2\n",
       "⎛   y    ⎞ \n",
       "⎝1.5  + π⎠ "
      ]
     },
     "execution_count": 56,
     "metadata": {},
     "output_type": "execute_result"
    }
   ],
   "source": [
    "f.subs(x, 1.5)"
   ]
  },
  {
   "cell_type": "markdown",
   "metadata": {
    "slideshow": {
     "slide_type": "fragment"
    }
   },
   "source": [
    "V ``subs`` funkciji lahko uporabimo tudi slovar:"
   ]
  },
  {
   "cell_type": "code",
   "execution_count": 57,
   "metadata": {
    "collapsed": false
   },
   "outputs": [
    {
     "data": {
      "image/png": "[encoded data removed]",
      "text/latex": [
       "$$\\left(\\pi + 1024.0\\right)^{2}$$"
      ],
      "text/plain": [
       "            2\n",
       "(π + 1024.0) "
      ]
     },
     "execution_count": 57,
     "metadata": {},
     "output_type": "execute_result"
    }
   ],
   "source": [
    "f.subs({x: 2, y: 10.})"
   ]
  },
  {
   "cell_type": "code",
   "execution_count": 58,
   "metadata": {
    "collapsed": false
   },
   "outputs": [
    {
     "data": {
      "image/png": "[encoded data removed]",
      "text/latex": [
       "$$29.0692713422434$$"
      ],
      "text/plain": [
       "29.0692713422434"
      ]
     },
     "execution_count": 58,
     "metadata": {},
     "output_type": "execute_result"
    }
   ],
   "source": [
    "sym.N(f.subs({x: 1.5, y: 2}))"
   ]
  },
  {
   "cell_type": "markdown",
   "metadata": {
    "slideshow": {
     "slide_type": "subslide"
    }
   },
   "source": [
    "ali seznam terk:"
   ]
  },
  {
   "cell_type": "code",
   "execution_count": 59,
   "metadata": {
    "collapsed": false
   },
   "outputs": [
    {
     "data": {
      "image/png": "[encoded data removed]",
      "text/latex": [
       "$$\\left(2.25 + \\pi\\right)^{2}$$"
      ],
      "text/plain": [
       "          2\n",
       "(2.25 + π) "
      ]
     },
     "execution_count": 59,
     "metadata": {},
     "output_type": "execute_result"
    }
   ],
   "source": [
    "f.subs([(x, 1.5), (y, 2)])"
   ]
  },
  {
   "cell_type": "markdown",
   "metadata": {
    "slideshow": {
     "slide_type": "fragment"
    }
   },
   "source": [
    "Lahko pa `subs` uporabimo tudi kot parameter `evalf`:"
   ]
  },
  {
   "cell_type": "code",
   "execution_count": 60,
   "metadata": {
    "collapsed": false
   },
   "outputs": [
    {
     "data": {
      "image/png": "[encoded data removed]",
      "text/latex": [
       "$$29.0692713422434$$"
      ],
      "text/plain": [
       "29.0692713422434"
      ]
     },
     "execution_count": 60,
     "metadata": {},
     "output_type": "execute_result"
    }
   ],
   "source": [
    "f.evalf(subs={x: 1.5, y: 2})"
   ]
  },
  {
   "cell_type": "markdown",
   "metadata": {
    "slideshow": {
     "slide_type": "subslide"
    }
   },
   "source": [
    "Funkcija ``subs`` je lahko seveda drugi simbol ali izraz:"
   ]
  },
  {
   "cell_type": "code",
   "execution_count": 61,
   "metadata": {
    "collapsed": false
   },
   "outputs": [
    {
     "data": {
      "image/png": "[encoded data removed]",
      "text/latex": [
       "$$\\left(\\left(y + \\infty\\right)^{y} + \\pi\\right)^{2}$$"
      ],
      "text/plain": [
       "              2\n",
       "⎛       y    ⎞ \n",
       "⎝(y + ∞)  + π⎠ "
      ]
     },
     "execution_count": 61,
     "metadata": {},
     "output_type": "execute_result"
    }
   ],
   "source": [
    "f.subs(x, y + sym.oo)"
   ]
  },
  {
   "cell_type": "code",
   "execution_count": 62,
   "metadata": {
    "collapsed": false,
    "slideshow": {
     "slide_type": "subslide"
    }
   },
   "outputs": [
    {
     "data": {
      "image/png": "[encoded data removed]",
      "text/plain": [
       "<matplotlib.figure.Figure at 0x19927d97240>"
      ]
     },
     "metadata": {},
     "output_type": "display_data"
    }
   ],
   "source": [
    "sym.plot(f.subs(x, 1.1), (y, 0, 10), xlabel='y spremenljivka');"
   ]
  },
  {
   "cell_type": "markdown",
   "metadata": {
    "slideshow": {
     "slide_type": "subslide"
    }
   },
   "source": [
    "## ``SymPy`` in ``NumPy``"
   ]
  },
  {
   "cell_type": "code",
   "execution_count": 63,
   "metadata": {
    "collapsed": false
   },
   "outputs": [],
   "source": [
    "import numpy as np"
   ]
  },
  {
   "cell_type": "code",
   "execution_count": 64,
   "metadata": {
    "collapsed": false
   },
   "outputs": [],
   "source": [
    "x_vec = np.arange(0, 10, 0.1)"
   ]
  },
  {
   "cell_type": "code",
   "execution_count": 65,
   "metadata": {
    "collapsed": false
   },
   "outputs": [],
   "source": [
    "#%%timeit\n",
    "y_vec = np.array([sym.N(((x + sym.pi)**2).subs(x, _)) for _ in x_vec])"
   ]
  },
  {
   "cell_type": "code",
   "execution_count": 66,
   "metadata": {
    "collapsed": false,
    "slideshow": {
     "slide_type": "subslide"
    }
   },
   "outputs": [
    {
     "data": {
      "image/png": "[encoded data removed]",
      "text/plain": [
       "<matplotlib.figure.Figure at 0x19926ae2d68>"
      ]
     },
     "metadata": {},
     "output_type": "display_data"
    }
   ],
   "source": [
    "fig, ax = plt.subplots()\n",
    "ax.plot(x_vec, y_vec, 'b.');"
   ]
  },
  {
   "cell_type": "markdown",
   "metadata": {
    "slideshow": {
     "slide_type": "subslide"
    }
   },
   "source": [
    "## Uporaba ``lambdify`` funkcije"
   ]
  },
  {
   "cell_type": "markdown",
   "metadata": {},
   "source": [
    "Zgornji način je relativno počasen. Bistveno hitrejši je uporaba pristopa ``lambdify`` kjer se pripravi prevedena funkcija:"
   ]
  },
  {
   "cell_type": "code",
   "execution_count": 67,
   "metadata": {
    "collapsed": false
   },
   "outputs": [],
   "source": [
    "f_hitra = sym.lambdify(x, (x + sym.pi)**2, 'numpy')\n",
    "# več parametrov\n",
    "#f_hitra = lambdify((x, y), (x + y + pi)**2, 'numpy')"
   ]
  },
  {
   "cell_type": "code",
   "execution_count": 68,
   "metadata": {
    "collapsed": false
   },
   "outputs": [
    {
     "data": {
      "text/plain": [
       "array([  9.8696044 ,  10.50792293,  11.16624146,  11.84455999,\n",
       "        12.54287852,  13.26119705,  13.99951559,  14.75783412,\n",
       "        15.53615265,  16.33447118])"
      ]
     },
     "execution_count": 68,
     "metadata": {},
     "output_type": "execute_result"
    }
   ],
   "source": [
    "#%%timeit\n",
    "y_vec = f_hitra(x_vec)\n",
    "y_vec[:10]"
   ]
  },
  {
   "cell_type": "markdown",
   "metadata": {
    "slideshow": {
     "slide_type": "subslide"
    }
   },
   "source": [
    "## Grafični prikaz"
   ]
  },
  {
   "cell_type": "markdown",
   "metadata": {},
   "source": [
    "``SymPy`` ima na ``matplotlib`` temelječo prikaz podatkov. Prikaz je sicer glede na ``matplotlib`` bolj omejen in ga uporabljamo za preproste prikaze (sicer pa ``numpy``).\n",
    "\n",
    "Pomoč je tukaj: http://docs.sympy.org/latest/modules/plotting.html\n",
    "\n",
    "Primer:"
   ]
  },
  {
   "cell_type": "code",
   "execution_count": 69,
   "metadata": {
    "collapsed": false,
    "slideshow": {
     "slide_type": "subslide"
    }
   },
   "outputs": [
    {
     "data": {
      "image/png": "[encoded data removed]",
      "text/plain": [
       "<matplotlib.figure.Figure at 0x19927da0d68>"
      ]
     },
     "metadata": {},
     "output_type": "display_data"
    }
   ],
   "source": [
    "sym.plot(x**2, x**1.3);"
   ]
  },
  {
   "cell_type": "code",
   "execution_count": 70,
   "metadata": {
    "collapsed": false,
    "slideshow": {
     "slide_type": "subslide"
    }
   },
   "outputs": [
    {
     "data": {
      "image/png": "[encoded data removed]",
      "text/plain": [
       "<matplotlib.figure.Figure at 0x19927edc208>"
      ]
     },
     "metadata": {},
     "output_type": "display_data"
    }
   ],
   "source": [
    "sym.plotting.plot3d(sym.sin(x*y), (x, -1, 1), (y, -1, 1));"
   ]
  },
  {
   "cell_type": "markdown",
   "metadata": {
    "slideshow": {
     "slide_type": "subslide"
    }
   },
   "source": [
    "## Algebra"
   ]
  },
  {
   "cell_type": "markdown",
   "metadata": {},
   "source": [
    "V tem poglavju si bomo pogledali nekatere osnove uporabe ``SymPy`` za algebrajske operacije."
   ]
  },
  {
   "cell_type": "markdown",
   "metadata": {},
   "source": [
    "### Uporaba ``expand`` in ``factor``"
   ]
  },
  {
   "cell_type": "markdown",
   "metadata": {},
   "source": [
    "Definirajmo matematični izraz:"
   ]
  },
  {
   "cell_type": "code",
   "execution_count": 71,
   "metadata": {
    "collapsed": false
   },
   "outputs": [
    {
     "data": {
      "image/png": "[encoded data removed]",
      "text/latex": [
       "$$\\left(x + 1\\right) \\left(x + 2\\right) \\left(x + 3\\right)$$"
      ],
      "text/plain": [
       "(x + 1)⋅(x + 2)⋅(x + 3)"
      ]
     },
     "execution_count": 71,
     "metadata": {},
     "output_type": "execute_result"
    }
   ],
   "source": [
    "f = (x+1)*(x+2)*(x+3)\n",
    "f"
   ]
  },
  {
   "cell_type": "markdown",
   "metadata": {
    "slideshow": {
     "slide_type": "subslide"
    }
   },
   "source": [
    "in ga sedaj **razčlenimo** (*expand*):"
   ]
  },
  {
   "cell_type": "code",
   "execution_count": 72,
   "metadata": {
    "collapsed": false
   },
   "outputs": [
    {
     "data": {
      "image/png": "[encoded data removed]",
      "text/latex": [
       "$$x^{3} + 6 x^{2} + 11 x + 6$$"
      ],
      "text/plain": [
       " 3      2           \n",
       "x  + 6⋅x  + 11⋅x + 6"
      ]
     },
     "execution_count": 72,
     "metadata": {},
     "output_type": "execute_result"
    }
   ],
   "source": [
    "aa = sym.expand(f)\n",
    "aa"
   ]
  },
  {
   "cell_type": "markdown",
   "metadata": {
    "slideshow": {
     "slide_type": "-"
    }
   },
   "source": [
    "Če želimo sedaj pogledati konstanto pred ``x``, naredimo to s funkcijo ``coeff``:"
   ]
  },
  {
   "cell_type": "code",
   "execution_count": 73,
   "metadata": {
    "collapsed": false
   },
   "outputs": [
    {
     "data": {
      "image/png": "[encoded data removed]",
      "text/latex": [
       "$$11$$"
      ],
      "text/plain": [
       "11"
      ]
     },
     "execution_count": 73,
     "metadata": {},
     "output_type": "execute_result"
    }
   ],
   "source": [
    "aa.coeff(x)"
   ]
  },
  {
   "cell_type": "markdown",
   "metadata": {
    "slideshow": {
     "slide_type": "subslide"
    }
   },
   "source": [
    "Argumenti funkcije definirajo kakšno razširitev želimo (glejte help!). Če želimo npr. trigonometrično razširitev, potem uporabimo ``trig=True``:"
   ]
  },
  {
   "cell_type": "code",
   "execution_count": 74,
   "metadata": {
    "collapsed": false
   },
   "outputs": [
    {
     "data": {
      "image/png": "[encoded data removed]",
      "text/latex": [
       "$$\\sin{\\left (a + b \\right )}$$"
      ],
      "text/plain": [
       "sin(a + b)"
      ]
     },
     "execution_count": 74,
     "metadata": {},
     "output_type": "execute_result"
    }
   ],
   "source": [
    "sym.expand(sym.sin(a+b))"
   ]
  },
  {
   "cell_type": "code",
   "execution_count": 75,
   "metadata": {
    "collapsed": false
   },
   "outputs": [
    {
     "data": {
      "image/png": "[encoded data removed]",
      "text/latex": [
       "$$\\sin{\\left (a \\right )} \\cos{\\left (b \\right )} + \\sin{\\left (b \\right )} \\cos{\\left (a \\right )}$$"
      ],
      "text/plain": [
       "sin(a)⋅cos(b) + sin(b)⋅cos(a)"
      ]
     },
     "execution_count": 75,
     "metadata": {},
     "output_type": "execute_result"
    }
   ],
   "source": [
    "sym.expand(sym.sin(a+b), trig=True)"
   ]
  },
  {
   "cell_type": "markdown",
   "metadata": {
    "slideshow": {
     "slide_type": "subslide"
    }
   },
   "source": [
    "Obratna operacija od razčlenitve je **razcepitev** ali **razstavljanje** ali **faktorizacija**: "
   ]
  },
  {
   "cell_type": "code",
   "execution_count": 76,
   "metadata": {
    "collapsed": false
   },
   "outputs": [
    {
     "data": {
      "image/png": "[encoded data removed]",
      "text/latex": [
       "$$\\left(x + 1\\right) \\left(x + 2\\right) \\left(x + 3\\right)$$"
      ],
      "text/plain": [
       "(x + 1)⋅(x + 2)⋅(x + 3)"
      ]
     },
     "execution_count": 76,
     "metadata": {},
     "output_type": "execute_result"
    }
   ],
   "source": [
    "sym.factor(x**3 + 6 * x**2 + 11*x + 6)"
   ]
  },
  {
   "cell_type": "markdown",
   "metadata": {},
   "source": [
    "Če nas zanimajo posamezni členi, potem to naredimo takole:"
   ]
  },
  {
   "cell_type": "code",
   "execution_count": 77,
   "metadata": {
    "collapsed": false
   },
   "outputs": [
    {
     "data": {
      "image/png": "[encoded data removed]",
      "text/latex": [
       "$$\\left ( 1, \\quad \\left [ \\left ( x + 1, \\quad 1\\right ), \\quad \\left ( x + 2, \\quad 1\\right ), \\quad \\left ( x + 3, \\quad 1\\right )\\right ]\\right )$$"
      ],
      "text/plain": [
       "(1, [(x + 1, 1), (x + 2, 1), (x + 3, 1)])"
      ]
     },
     "execution_count": 77,
     "metadata": {},
     "output_type": "execute_result"
    }
   ],
   "source": [
    "sym.factor_list(x**3 + 6 * x**2 + 11*x + 6)"
   ]
  },
  {
   "cell_type": "markdown",
   "metadata": {
    "slideshow": {
     "slide_type": "subslide"
    }
   },
   "source": [
    "### Poenostavljanje izrazov s ``simplify``"
   ]
  },
  {
   "cell_type": "markdown",
   "metadata": {},
   "source": [
    "Funkcija ``simplify`` poskuša poenostaviti izraze v bolj preproste (npr. s krajšanjem spremenljivk). Za posebne namene lahko poenostavimo tudi z: ``trigsimp``, ``powsimp``, ``logcombine``, in podobno. \n",
    "\n",
    "Več tukaj: http://docs.sympy.org/latest/tutorial/simplification.html"
   ]
  },
  {
   "cell_type": "code",
   "execution_count": 78,
   "metadata": {
    "collapsed": false
   },
   "outputs": [
    {
     "data": {
      "image/png": "[encoded data removed]",
      "text/latex": [
       "$$\\left(x + 1\\right)^{2} \\left(x + 3\\right)$$"
      ],
      "text/plain": [
       "       2        \n",
       "(x + 1) ⋅(x + 3)"
      ]
     },
     "execution_count": 78,
     "metadata": {},
     "output_type": "execute_result"
    }
   ],
   "source": [
    "sym.simplify((x+1)*(x+1)*(x+3))"
   ]
  },
  {
   "cell_type": "code",
   "execution_count": 79,
   "metadata": {
    "collapsed": false,
    "slideshow": {
     "slide_type": "subslide"
    }
   },
   "outputs": [
    {
     "data": {
      "image/png": "[encoded data removed]",
      "text/latex": [
       "$$1$$"
      ],
      "text/plain": [
       "1"
      ]
     },
     "execution_count": 79,
     "metadata": {},
     "output_type": "execute_result"
    }
   ],
   "source": [
    "sym.simplify(sym.sin(a)**2 + sym.cos(a)**2)"
   ]
  },
  {
   "cell_type": "code",
   "execution_count": 80,
   "metadata": {
    "collapsed": false,
    "slideshow": {
     "slide_type": "-"
    }
   },
   "outputs": [
    {
     "data": {
      "image/png": "[encoded data removed]",
      "text/latex": [
       "$$\\frac{1}{\\tan{\\left (x \\right )}}$$"
      ],
      "text/plain": [
       "  1   \n",
       "──────\n",
       "tan(x)"
      ]
     },
     "execution_count": 80,
     "metadata": {},
     "output_type": "execute_result"
    }
   ],
   "source": [
    "sym.simplify(sym.cos(x)/sym.sin(x))"
   ]
  },
  {
   "cell_type": "markdown",
   "metadata": {
    "slideshow": {
     "slide_type": "subslide"
    }
   },
   "source": [
    "## Uporaba ``apart`` in ``together``"
   ]
  },
  {
   "cell_type": "markdown",
   "metadata": {},
   "source": [
    "Funkciji uporabljamo za delo z ulomki:"
   ]
  },
  {
   "cell_type": "code",
   "execution_count": 81,
   "metadata": {
    "collapsed": false
   },
   "outputs": [
    {
     "data": {
      "image/png": "[encoded data removed]",
      "text/latex": [
       "$$\\frac{1}{\\left(x + 1\\right) \\left(x + 5\\right)}$$"
      ],
      "text/plain": [
       "       1       \n",
       "───────────────\n",
       "(x + 1)⋅(x + 5)"
      ]
     },
     "execution_count": 81,
     "metadata": {},
     "output_type": "execute_result"
    }
   ],
   "source": [
    "f1 = 1/((1 + x) * (5 + x))\n",
    "f1"
   ]
  },
  {
   "cell_type": "code",
   "execution_count": 82,
   "metadata": {
    "collapsed": false,
    "slideshow": {
     "slide_type": "-"
    }
   },
   "outputs": [
    {
     "data": {
      "image/png": "[encoded data removed]",
      "text/latex": [
       "$$- \\frac{1}{4 x + 20} + \\frac{1}{4 x + 4}$$"
      ],
      "text/plain": [
       "      1           1    \n",
       "- ───────── + ─────────\n",
       "  4⋅(x + 5)   4⋅(x + 1)"
      ]
     },
     "execution_count": 82,
     "metadata": {},
     "output_type": "execute_result"
    }
   ],
   "source": [
    "f2 = sym.apart(f1, x)\n",
    "f2"
   ]
  },
  {
   "cell_type": "code",
   "execution_count": 83,
   "metadata": {
    "collapsed": false,
    "slideshow": {
     "slide_type": "fragment"
    }
   },
   "outputs": [
    {
     "data": {
      "image/png": "[encoded data removed]",
      "text/latex": [
       "$$\\frac{1}{\\left(x + 1\\right) \\left(x + 5\\right)}$$"
      ],
      "text/plain": [
       "       1       \n",
       "───────────────\n",
       "(x + 1)⋅(x + 5)"
      ]
     },
     "execution_count": 83,
     "metadata": {},
     "output_type": "execute_result"
    }
   ],
   "source": [
    "sym.together(f2)"
   ]
  },
  {
   "cell_type": "markdown",
   "metadata": {
    "slideshow": {
     "slide_type": "subslide"
    }
   },
   "source": [
    "V tem primeru pridemo do podobnega rezultata s ``simplify``:"
   ]
  },
  {
   "cell_type": "code",
   "execution_count": 84,
   "metadata": {
    "collapsed": false
   },
   "outputs": [
    {
     "data": {
      "image/png": "[encoded data removed]",
      "text/latex": [
       "$$\\frac{1}{\\left(x + 1\\right) \\left(x + 5\\right)}$$"
      ],
      "text/plain": [
       "       1       \n",
       "───────────────\n",
       "(x + 1)⋅(x + 5)"
      ]
     },
     "execution_count": 84,
     "metadata": {},
     "output_type": "execute_result"
    }
   ],
   "source": [
    "sym.simplify(f2)"
   ]
  },
  {
   "cell_type": "markdown",
   "metadata": {
    "slideshow": {
     "slide_type": "subslide"
    }
   },
   "source": [
    "## Odvajanje"
   ]
  },
  {
   "cell_type": "markdown",
   "metadata": {},
   "source": [
    "Odvajanje je načeloma relativno preprosta matematična operacija, ki jo izvedemo s funkcijo ``diff``. Prvi argument je funkcija, ki jo odvajamo po drugem argumentu:"
   ]
  },
  {
   "cell_type": "code",
   "execution_count": 85,
   "metadata": {
    "collapsed": false
   },
   "outputs": [
    {
     "data": {
      "image/png": "[encoded data removed]",
      "text/latex": [
       "$$y \\cos{\\left (x y \\right )}$$"
      ],
      "text/plain": [
       "y⋅cos(x⋅y)"
      ]
     },
     "execution_count": 85,
     "metadata": {},
     "output_type": "execute_result"
    }
   ],
   "source": [
    "x, y, z = sym.symbols('x, y, z')\n",
    "f = sym.sin(x*y) + sym.cos(y*z)\n",
    "sym.diff(f, x)"
   ]
  },
  {
   "cell_type": "markdown",
   "metadata": {
    "slideshow": {
     "slide_type": "subslide"
    }
   },
   "source": [
    "Odvodi višjega reda:"
   ]
  },
  {
   "cell_type": "code",
   "execution_count": 86,
   "metadata": {
    "collapsed": false
   },
   "outputs": [
    {
     "data": {
      "image/png": "[encoded data removed]",
      "text/latex": [
       "$$- y^{3} \\cos{\\left (x y \\right )}$$"
      ],
      "text/plain": [
       "  3         \n",
       "-y ⋅cos(x⋅y)"
      ]
     },
     "execution_count": 86,
     "metadata": {},
     "output_type": "execute_result"
    }
   ],
   "source": [
    "sym.diff(f, x, x, x)"
   ]
  },
  {
   "cell_type": "markdown",
   "metadata": {},
   "source": [
    "Drugačna oblika zgornjega odvoda:"
   ]
  },
  {
   "cell_type": "code",
   "execution_count": 87,
   "metadata": {
    "collapsed": false
   },
   "outputs": [
    {
     "data": {
      "image/png": "[encoded data removed]",
      "text/latex": [
       "$$- y^{3} \\cos{\\left (x y \\right )}$$"
      ],
      "text/plain": [
       "  3         \n",
       "-y ⋅cos(x⋅y)"
      ]
     },
     "execution_count": 87,
     "metadata": {},
     "output_type": "execute_result"
    }
   ],
   "source": [
    "sym.diff(f, x, 3)"
   ]
  },
  {
   "cell_type": "markdown",
   "metadata": {
    "slideshow": {
     "slide_type": "subslide"
    }
   },
   "source": [
    "Odvod po več spremenljivkah $\\frac{d^3f}{dx\\,dy^2}$ izvedemo takole:"
   ]
  },
  {
   "cell_type": "code",
   "execution_count": 88,
   "metadata": {
    "collapsed": false
   },
   "outputs": [
    {
     "data": {
      "image/png": "[encoded data removed]",
      "text/latex": [
       "$$- x \\left(x y \\cos{\\left (x y \\right )} + 2 \\sin{\\left (x y \\right )}\\right)$$"
      ],
      "text/plain": [
       "-x⋅(x⋅y⋅cos(x⋅y) + 2⋅sin(x⋅y))"
      ]
     },
     "execution_count": 88,
     "metadata": {},
     "output_type": "execute_result"
    }
   ],
   "source": [
    "sym.diff(f, x, 1, y, 2)"
   ]
  },
  {
   "cell_type": "markdown",
   "metadata": {
    "slideshow": {
     "slide_type": "subslide"
    }
   },
   "source": [
    "## Integriranje"
   ]
  },
  {
   "cell_type": "markdown",
   "metadata": {},
   "source": [
    "Funkcija ``integrate`` v primeru nedoločenega integrala sprejme dva argumenta: *funkcijo* in *spremenljivke* po kateri integriramo:"
   ]
  },
  {
   "cell_type": "code",
   "execution_count": 89,
   "metadata": {
    "collapsed": false
   },
   "outputs": [
    {
     "data": {
      "image/png": "[encoded data removed]",
      "text/latex": [
       "$$x \\cos{\\left (y z \\right )} + \\begin{cases} 0 & \\text{for}\\: y = 0 \\\\- \\frac{1}{y} \\cos{\\left (x y \\right )} & \\text{otherwise} \\end{cases}$$"
      ],
      "text/plain": [
       "             ⎛⎧    0       for y = 0⎞\n",
       "             ⎜⎪                     ⎟\n",
       "x⋅cos(y⋅z) + ⎜⎨-cos(x⋅y)            ⎟\n",
       "             ⎜⎪──────────  otherwise⎟\n",
       "             ⎝⎩    y                ⎠"
      ]
     },
     "execution_count": 89,
     "metadata": {},
     "output_type": "execute_result"
    }
   ],
   "source": [
    "sym.integrate(f, x)"
   ]
  },
  {
   "cell_type": "code",
   "execution_count": 90,
   "metadata": {
    "collapsed": false
   },
   "outputs": [
    {
     "data": {
      "image/png": "[encoded data removed]",
      "text/latex": [
       "$$\\sin{\\left (x y \\right )} + \\cos{\\left (y z \\right )}$$"
      ],
      "text/plain": [
       "sin(x⋅y) + cos(y⋅z)"
      ]
     },
     "execution_count": 90,
     "metadata": {},
     "output_type": "execute_result"
    }
   ],
   "source": [
    "f# Da se spomnimo funkcije..."
   ]
  },
  {
   "cell_type": "markdown",
   "metadata": {
    "slideshow": {
     "slide_type": "subslide"
    }
   },
   "source": [
    "Določeno integriranje izvedemo z definiranjem *integracijskih mej*:"
   ]
  },
  {
   "cell_type": "code",
   "execution_count": 91,
   "metadata": {
    "collapsed": false
   },
   "outputs": [
    {
     "data": {
      "image/png": "[encoded data removed]",
      "text/latex": [
       "$$2 \\cos{\\left (y z \\right )}$$"
      ],
      "text/plain": [
       "2⋅cos(y⋅z)"
      ]
     },
     "execution_count": 91,
     "metadata": {},
     "output_type": "execute_result"
    }
   ],
   "source": [
    "sym.integrate(f, (x, -1, 1))"
   ]
  },
  {
   "cell_type": "markdown",
   "metadata": {
    "slideshow": {
     "slide_type": "subslide"
    }
   },
   "source": [
    "V kolikor so meje v neskončnosti, integriramo z vgrajeno konstanto za neskončnost ``oo``:"
   ]
  },
  {
   "cell_type": "code",
   "execution_count": 92,
   "metadata": {
    "collapsed": false
   },
   "outputs": [
    {
     "data": {
      "image/png": "[encoded data removed]",
      "text/latex": [
       "$$\\sqrt{\\pi}$$"
      ],
      "text/plain": [
       "√π"
      ]
     },
     "execution_count": 92,
     "metadata": {},
     "output_type": "execute_result"
    }
   ],
   "source": [
    "sym.integrate(sym.exp(-x**2), (x, -sym.oo, sym.oo))"
   ]
  },
  {
   "cell_type": "markdown",
   "metadata": {
    "slideshow": {
     "slide_type": "subslide"
    }
   },
   "source": [
    "## Vsota in produkt vrste"
   ]
  },
  {
   "cell_type": "markdown",
   "metadata": {},
   "source": [
    "Vsoto vrste definiramo s pomočju funkcije ``Sum`` (velika črka, ker je ``sum`` že rezervirana v Pythonu):"
   ]
  },
  {
   "cell_type": "code",
   "execution_count": 93,
   "metadata": {
    "collapsed": false
   },
   "outputs": [],
   "source": [
    "n = sym.Symbol(\"n\")"
   ]
  },
  {
   "cell_type": "code",
   "execution_count": 94,
   "metadata": {
    "collapsed": false
   },
   "outputs": [
    {
     "data": {
      "image/png": "[encoded data removed]",
      "text/latex": [
       "$$\\sum_{n=1}^{10} x^{- n}$$"
      ],
      "text/plain": [
       "  10     \n",
       " ___     \n",
       " ╲       \n",
       "  ╲    -n\n",
       "  ╱   x  \n",
       " ╱       \n",
       " ‾‾‾     \n",
       "n = 1    "
      ]
     },
     "execution_count": 94,
     "metadata": {},
     "output_type": "execute_result"
    }
   ],
   "source": [
    "#f = Sum(1/x**n, (n, 1, oo))\n",
    "f = sym.Sum(1/x**n, (n, 1, 10))\n",
    "f"
   ]
  },
  {
   "cell_type": "code",
   "execution_count": 95,
   "metadata": {
    "collapsed": false,
    "slideshow": {
     "slide_type": "subslide"
    }
   },
   "outputs": [
    {
     "data": {
      "image/png": "[encoded data removed]",
      "text/latex": [
       "$$\\frac{1}{x} + \\frac{1}{x^{2}} + \\frac{1}{x^{3}} + \\frac{1}{x^{4}} + \\frac{1}{x^{5}} + \\frac{1}{x^{6}} + \\frac{1}{x^{7}} + \\frac{1}{x^{8}} + \\frac{1}{x^{9}} + \\frac{1}{x^{10}}$$"
      ],
      "text/plain": [
       "1   1    1    1    1    1    1    1    1     1 \n",
       "─ + ── + ── + ── + ── + ── + ── + ── + ── + ───\n",
       "x    2    3    4    5    6    7    8    9    10\n",
       "    x    x    x    x    x    x    x    x    x  "
      ]
     },
     "execution_count": 95,
     "metadata": {},
     "output_type": "execute_result"
    }
   ],
   "source": [
    "f.doit()"
   ]
  },
  {
   "cell_type": "code",
   "execution_count": 96,
   "metadata": {
    "collapsed": false,
    "slideshow": {
     "slide_type": "-"
    }
   },
   "outputs": [
    {
     "data": {
      "image/png": "[encoded data removed]",
      "text/latex": [
       "$$0.499991532456096$$"
      ],
      "text/plain": [
       "0.499991532456096"
      ]
     },
     "execution_count": 96,
     "metadata": {},
     "output_type": "execute_result"
    }
   ],
   "source": [
    "f.subs({x: 3}).evalf()"
   ]
  },
  {
   "cell_type": "markdown",
   "metadata": {
    "slideshow": {
     "slide_type": "subslide"
    }
   },
   "source": [
    "Produkt vrste definiramo podobno s funkcijo ``Product``:"
   ]
  },
  {
   "cell_type": "code",
   "execution_count": 97,
   "metadata": {
    "collapsed": false
   },
   "outputs": [
    {
     "data": {
      "image/png": "[encoded data removed]",
      "text/latex": [
       "$$\\prod_{n=1}^{10} \\frac{1}{n}$$"
      ],
      "text/plain": [
       "   10     \n",
       "┬──────┬  \n",
       "│      │ 1\n",
       "│      │ ─\n",
       "│      │ n\n",
       "│      │  \n",
       " n = 1    "
      ]
     },
     "execution_count": 97,
     "metadata": {},
     "output_type": "execute_result"
    }
   ],
   "source": [
    "f = sym.Product(1/n, (n, 1, 10))\n",
    "f"
   ]
  },
  {
   "cell_type": "code",
   "execution_count": 98,
   "metadata": {
    "collapsed": false,
    "slideshow": {
     "slide_type": "-"
    }
   },
   "outputs": [
    {
     "data": {
      "image/png": "[encoded data removed]",
      "text/latex": [
       "$$\\frac{1}{3628800}$$"
      ],
      "text/plain": [
       "1/3628800"
      ]
     },
     "execution_count": 98,
     "metadata": {},
     "output_type": "execute_result"
    }
   ],
   "source": [
    "f.doit()"
   ]
  },
  {
   "cell_type": "markdown",
   "metadata": {
    "slideshow": {
     "slide_type": "subslide"
    }
   },
   "source": [
    "## Limitni račun"
   ]
  },
  {
   "cell_type": "markdown",
   "metadata": {},
   "source": [
    "Limite računamo s pomočjo funkcije ``limit``: "
   ]
  },
  {
   "cell_type": "code",
   "execution_count": 99,
   "metadata": {
    "collapsed": false
   },
   "outputs": [
    {
     "data": {
      "image/png": "[encoded data removed]",
      "text/latex": [
       "$$1$$"
      ],
      "text/plain": [
       "1"
      ]
     },
     "execution_count": 99,
     "metadata": {},
     "output_type": "execute_result"
    }
   ],
   "source": [
    "sym.limit(sym.sin(x)/x, x, 0)"
   ]
  },
  {
   "cell_type": "markdown",
   "metadata": {
    "slideshow": {
     "slide_type": "subslide"
    }
   },
   "source": [
    "Poglejmo kako lahko s funkcijo ``limit`` preverimo rezultat odvajanja s funkcijo ``diff``.\n",
    "\n",
    "Za funkcijo:"
   ]
  },
  {
   "cell_type": "code",
   "execution_count": 100,
   "metadata": {
    "collapsed": false
   },
   "outputs": [
    {
     "data": {
      "image/png": "[encoded data removed]",
      "text/latex": [
       "$$y \\cos{\\left (x y \\right )}$$"
      ],
      "text/plain": [
       "y⋅cos(x⋅y)"
      ]
     },
     "execution_count": 100,
     "metadata": {},
     "output_type": "execute_result"
    }
   ],
   "source": [
    "f = sym.sin(x*y) + sym.cos(y*z)\n",
    "sym.diff(f, x)"
   ]
  },
  {
   "cell_type": "markdown",
   "metadata": {
    "slideshow": {
     "slide_type": "subslide"
    }
   },
   "source": [
    "mora veljati $\\frac{\\mathrm{d}f}{\\mathrm{d}x} = \\lim_{h\\rightarrow 0}\\frac{f(x+h,y)-f(x,y)}{h}$. Preverimo, če res:"
   ]
  },
  {
   "cell_type": "code",
   "execution_count": 101,
   "metadata": {
    "collapsed": false
   },
   "outputs": [],
   "source": [
    "h = sym.Symbol('h')"
   ]
  },
  {
   "cell_type": "code",
   "execution_count": 102,
   "metadata": {
    "collapsed": false
   },
   "outputs": [
    {
     "data": {
      "image/png": "[encoded data removed]",
      "text/latex": [
       "$$y \\cos{\\left (x y \\right )}$$"
      ],
      "text/plain": [
       "y⋅cos(x⋅y)"
      ]
     },
     "execution_count": 102,
     "metadata": {},
     "output_type": "execute_result"
    }
   ],
   "source": [
    "sym.limit((f.subs(x, x+h) - f)/h, h, 0)"
   ]
  },
  {
   "cell_type": "markdown",
   "metadata": {
    "slideshow": {
     "slide_type": "subslide"
    }
   },
   "source": [
    "## Taylorjeve vrste"
   ]
  },
  {
   "cell_type": "markdown",
   "metadata": {},
   "source": [
    "Taylorjeve vrste izračunamo s pomočjo funkcijo ``series``:"
   ]
  },
  {
   "cell_type": "code",
   "execution_count": 103,
   "metadata": {
    "collapsed": false
   },
   "outputs": [
    {
     "data": {
      "image/png": "[encoded data removed]",
      "text/latex": [
       "$$1 + x + \\frac{x^{2}}{2} + \\frac{x^{3}}{6} + \\frac{x^{4}}{24} + \\frac{x^{5}}{120} + \\mathcal{O}\\left(x^{6}\\right)$$"
      ],
      "text/plain": [
       "         2    3    4     5        \n",
       "        x    x    x     x     ⎛ 6⎞\n",
       "1 + x + ── + ── + ── + ─── + O⎝x ⎠\n",
       "        2    6    24   120        "
      ]
     },
     "execution_count": 103,
     "metadata": {},
     "output_type": "execute_result"
    }
   ],
   "source": [
    "sym.series(sym.exp(x), x) # privzete vrednosti x0=0, in n=6"
   ]
  },
  {
   "cell_type": "markdown",
   "metadata": {
    "slideshow": {
     "slide_type": "subslide"
    }
   },
   "source": [
    "Če želimo definirati drugo izhodišče (`x0=2`) in z več členi (`n=8`), to izvedemo takole:"
   ]
  },
  {
   "cell_type": "code",
   "execution_count": 104,
   "metadata": {
    "collapsed": false
   },
   "outputs": [
    {
     "data": {
      "image/png": "[encoded data removed]",
      "text/latex": [
       "$$e^{2} + \\left(x - 2\\right) e^{2} + \\frac{e^{2}}{2} \\left(x - 2\\right)^{2} + \\frac{e^{2}}{6} \\left(x - 2\\right)^{3} + \\frac{e^{2}}{24} \\left(x - 2\\right)^{4} + \\frac{e^{2}}{120} \\left(x - 2\\right)^{5} + \\frac{e^{2}}{720} \\left(x - 2\\right)^{6} + \\frac{e^{2}}{5040} \\left(x - 2\\right)^{7} + \\mathcal{O}\\left(\\left(x - 2\\right)^{8}; x\\rightarrow2\\right)$$"
      ],
      "text/plain": [
       "                         2  2          3  2          4  2          5  2       \n",
       " 2            2   (x - 2) ⋅ℯ    (x - 2) ⋅ℯ    (x - 2) ⋅ℯ    (x - 2) ⋅ℯ    (x -\n",
       "ℯ  + (x - 2)⋅ℯ  + ─────────── + ─────────── + ─────────── + ─────────── + ────\n",
       "                       2             6             24           120           \n",
       "\n",
       "   6  2          7  2                     \n",
       " 2) ⋅ℯ    (x - 2) ⋅ℯ     ⎛       8       ⎞\n",
       "─────── + ─────────── + O⎝(x - 2) ; x → 2⎠\n",
       "720           5040                        "
      ]
     },
     "execution_count": 104,
     "metadata": {},
     "output_type": "execute_result"
    }
   ],
   "source": [
    "sym.series(sym.exp(x), x, x0=2, n=8)"
   ]
  },
  {
   "cell_type": "markdown",
   "metadata": {
    "slideshow": {
     "slide_type": "subslide"
    }
   },
   "source": [
    "Rezultat vključuje tudi red veljavnosti; na tak način lahko kontroliramo veljavnosti izvajanja. Primer:"
   ]
  },
  {
   "cell_type": "code",
   "execution_count": 105,
   "metadata": {
    "collapsed": false
   },
   "outputs": [
    {
     "data": {
      "image/png": "[encoded data removed]",
      "text/latex": [
       "$$1 - \\frac{x^{2}}{2} + \\frac{x^{4}}{24} + \\mathcal{O}\\left(x^{5}\\right)$$"
      ],
      "text/plain": [
       "     2    4        \n",
       "    x    x     ⎛ 5⎞\n",
       "1 - ── + ── + O⎝x ⎠\n",
       "    2    24        "
      ]
     },
     "execution_count": 105,
     "metadata": {},
     "output_type": "execute_result"
    }
   ],
   "source": [
    "s1 = sym.cos(x).series(x, 0, 5)\n",
    "s1"
   ]
  },
  {
   "cell_type": "code",
   "execution_count": 106,
   "metadata": {
    "collapsed": false
   },
   "outputs": [
    {
     "data": {
      "image/png": "[encoded data removed]",
      "text/latex": [
       "$$x + \\mathcal{O}\\left(x^{2}\\right)$$"
      ],
      "text/plain": [
       "     ⎛ 2⎞\n",
       "x + O⎝x ⎠"
      ]
     },
     "execution_count": 106,
     "metadata": {},
     "output_type": "execute_result"
    }
   ],
   "source": [
    "s2 = sym.sin(x).series(x, 0, 2)\n",
    "s2"
   ]
  },
  {
   "cell_type": "code",
   "execution_count": 107,
   "metadata": {
    "collapsed": false,
    "slideshow": {
     "slide_type": "subslide"
    }
   },
   "outputs": [
    {
     "data": {
      "image/png": "[encoded data removed]",
      "text/latex": [
       "$$\\left(x + \\mathcal{O}\\left(x^{2}\\right)\\right) \\left(1 - \\frac{x^{2}}{2} + \\frac{x^{4}}{24} + \\mathcal{O}\\left(x^{5}\\right)\\right)$$"
      ],
      "text/plain": [
       "            ⎛     2    4        ⎞\n",
       "⎛     ⎛ 2⎞⎞ ⎜    x    x     ⎛ 5⎞⎟\n",
       "⎝x + O⎝x ⎠⎠⋅⎜1 - ── + ── + O⎝x ⎠⎟\n",
       "            ⎝    2    24        ⎠"
      ]
     },
     "execution_count": 107,
     "metadata": {},
     "output_type": "execute_result"
    }
   ],
   "source": [
    "s1 * s2"
   ]
  },
  {
   "cell_type": "markdown",
   "metadata": {},
   "source": [
    "Ugotovimo, da členi stopnje 2 in več niso smiselni:"
   ]
  },
  {
   "cell_type": "code",
   "execution_count": 108,
   "metadata": {
    "collapsed": false
   },
   "outputs": [
    {
     "data": {
      "image/png": "[encoded data removed]",
      "text/latex": [
       "$$x + \\mathcal{O}\\left(x^{2}\\right)$$"
      ],
      "text/plain": [
       "     ⎛ 2⎞\n",
       "x + O⎝x ⎠"
      ]
     },
     "execution_count": 108,
     "metadata": {},
     "output_type": "execute_result"
    }
   ],
   "source": [
    "s3 = sym.simplify(s1 * s2)\n",
    "s3"
   ]
  },
  {
   "cell_type": "markdown",
   "metadata": {
    "slideshow": {
     "slide_type": "-"
    }
   },
   "source": [
    "Podatek o stopnji veljavnosti lahko odstranimo:"
   ]
  },
  {
   "cell_type": "code",
   "execution_count": 109,
   "metadata": {
    "collapsed": false
   },
   "outputs": [
    {
     "data": {
      "image/png": "[encoded data removed]",
      "text/latex": [
       "$$x$$"
      ],
      "text/plain": [
       "x"
      ]
     },
     "execution_count": 109,
     "metadata": {},
     "output_type": "execute_result"
    }
   ],
   "source": [
    "s3.removeO()"
   ]
  },
  {
   "cell_type": "markdown",
   "metadata": {
    "slideshow": {
     "slide_type": "subslide"
    }
   },
   "source": [
    "## Linearna algebra"
   ]
  },
  {
   "cell_type": "markdown",
   "metadata": {},
   "source": [
    "### Matrike in vektorji"
   ]
  },
  {
   "cell_type": "markdown",
   "metadata": {},
   "source": [
    "Matrike in vektorje definiramo s funkcjo ``Matrix``:"
   ]
  },
  {
   "cell_type": "code",
   "execution_count": 110,
   "metadata": {
    "collapsed": false
   },
   "outputs": [],
   "source": [
    "m11, m12, m21, m22 = sym.symbols('m11, m12, m21, m22')\n",
    "b1, b2 = sym.symbols('b1, b2')"
   ]
  },
  {
   "cell_type": "code",
   "execution_count": 111,
   "metadata": {
    "collapsed": false,
    "slideshow": {
     "slide_type": "subslide"
    }
   },
   "outputs": [
    {
     "data": {
      "image/png": "[encoded data removed]",
      "text/latex": [
       "$$\\left[\\begin{matrix}m_{11} & m_{12}\\\\m_{21} & m_{22}\\end{matrix}\\right]$$"
      ],
      "text/plain": [
       "⎡m₁₁  m₁₂⎤\n",
       "⎢        ⎥\n",
       "⎣m₂₁  m₂₂⎦"
      ]
     },
     "execution_count": 111,
     "metadata": {},
     "output_type": "execute_result"
    }
   ],
   "source": [
    "A = sym.Matrix([[m11, m12],[m21, m22]])\n",
    "A"
   ]
  },
  {
   "cell_type": "code",
   "execution_count": 112,
   "metadata": {
    "collapsed": false
   },
   "outputs": [
    {
     "data": {
      "image/png": "[encoded data removed]",
      "text/latex": [
       "$$\\left[\\begin{matrix}b_{1}\\\\b_{2}\\end{matrix}\\right]$$"
      ],
      "text/plain": [
       "⎡b₁⎤\n",
       "⎢  ⎥\n",
       "⎣b₂⎦"
      ]
     },
     "execution_count": 112,
     "metadata": {},
     "output_type": "execute_result"
    }
   ],
   "source": [
    "b = sym.Matrix([[b1], [b2]])\n",
    "b"
   ]
  },
  {
   "cell_type": "markdown",
   "metadata": {
    "slideshow": {
     "slide_type": "subslide"
    }
   },
   "source": [
    "Tipične operacije:"
   ]
  },
  {
   "cell_type": "code",
   "execution_count": 113,
   "metadata": {
    "collapsed": false
   },
   "outputs": [
    {
     "data": {
      "image/png": "[encoded data removed]",
      "text/latex": [
       "$$\\left[\\begin{matrix}m_{11}^{2} + m_{12} m_{21} & m_{11} m_{12} + m_{12} m_{22}\\\\m_{11} m_{21} + m_{21} m_{22} & m_{12} m_{21} + m_{22}^{2}\\end{matrix}\\right]$$"
      ],
      "text/plain": [
       "⎡    2                               ⎤\n",
       "⎢ m₁₁  + m₁₂⋅m₂₁    m₁₁⋅m₁₂ + m₁₂⋅m₂₂⎥\n",
       "⎢                                    ⎥\n",
       "⎢                                 2  ⎥\n",
       "⎣m₁₁⋅m₂₁ + m₂₁⋅m₂₂   m₁₂⋅m₂₁ + m₂₂   ⎦"
      ]
     },
     "execution_count": 113,
     "metadata": {},
     "output_type": "execute_result"
    }
   ],
   "source": [
    "A**2"
   ]
  },
  {
   "cell_type": "code",
   "execution_count": 114,
   "metadata": {
    "collapsed": false,
    "slideshow": {
     "slide_type": "subslide"
    }
   },
   "outputs": [
    {
     "data": {
      "image/png": "[encoded data removed]",
      "text/latex": [
       "$$\\left[\\begin{matrix}m_{11}^{2} + m_{12} m_{21} & m_{11} m_{12} + m_{12} m_{22}\\\\m_{11} m_{21} + m_{21} m_{22} & m_{12} m_{21} + m_{22}^{2}\\end{matrix}\\right]$$"
      ],
      "text/plain": [
       "⎡    2                               ⎤\n",
       "⎢ m₁₁  + m₁₂⋅m₂₁    m₁₁⋅m₁₂ + m₁₂⋅m₂₂⎥\n",
       "⎢                                    ⎥\n",
       "⎢                                 2  ⎥\n",
       "⎣m₁₁⋅m₂₁ + m₂₁⋅m₂₂   m₁₂⋅m₂₁ + m₂₂   ⎦"
      ]
     },
     "execution_count": 114,
     "metadata": {},
     "output_type": "execute_result"
    }
   ],
   "source": [
    "A*A"
   ]
  },
  {
   "cell_type": "code",
   "execution_count": 115,
   "metadata": {
    "collapsed": false,
    "slideshow": {
     "slide_type": "subslide"
    }
   },
   "outputs": [
    {
     "data": {
      "image/png": "[encoded data removed]",
      "text/latex": [
       "$$\\left[\\begin{matrix}b_{1} m_{11} + b_{2} m_{12}\\\\b_{1} m_{21} + b_{2} m_{22}\\end{matrix}\\right]$$"
      ],
      "text/plain": [
       "⎡b₁⋅m₁₁ + b₂⋅m₁₂⎤\n",
       "⎢               ⎥\n",
       "⎣b₁⋅m₂₁ + b₂⋅m₂₂⎦"
      ]
     },
     "execution_count": 115,
     "metadata": {},
     "output_type": "execute_result"
    }
   ],
   "source": [
    "A * b"
   ]
  },
  {
   "cell_type": "markdown",
   "metadata": {
    "slideshow": {
     "slide_type": "subslide"
    }
   },
   "source": [
    "Ker uporabljamo *matrični* zapis, moramo paziti na stolpične in vrstične vektorje (spomnimo se: pri ``numpy`` uporabljamo sezname in nam na to ni potrebno paziti)"
   ]
  },
  {
   "cell_type": "code",
   "execution_count": 116,
   "metadata": {
    "collapsed": false
   },
   "outputs": [
    {
     "data": {
      "image/png": "[encoded data removed]",
      "text/latex": [
       "$$\\left[\\begin{matrix}b_{1}^{2} + b_{2}^{2}\\end{matrix}\\right]$$"
      ],
      "text/plain": [
       "⎡  2     2⎤\n",
       "⎣b₁  + b₂ ⎦"
      ]
     },
     "execution_count": 116,
     "metadata": {},
     "output_type": "execute_result"
    }
   ],
   "source": [
    "b.T*b"
   ]
  },
  {
   "cell_type": "markdown",
   "metadata": {
    "slideshow": {
     "slide_type": "subslide"
    }
   },
   "source": [
    "Determinanta, inverz:"
   ]
  },
  {
   "cell_type": "code",
   "execution_count": 117,
   "metadata": {
    "collapsed": false
   },
   "outputs": [
    {
     "data": {
      "image/png": "[encoded data removed]",
      "text/latex": [
       "$$m_{11} m_{22} - m_{12} m_{21}$$"
      ],
      "text/plain": [
       "m₁₁⋅m₂₂ - m₁₂⋅m₂₁"
      ]
     },
     "execution_count": 117,
     "metadata": {},
     "output_type": "execute_result"
    }
   ],
   "source": [
    "A.det()"
   ]
  },
  {
   "cell_type": "code",
   "execution_count": 118,
   "metadata": {
    "collapsed": false,
    "slideshow": {
     "slide_type": "subslide"
    }
   },
   "outputs": [
    {
     "data": {
      "image/png": "[encoded data removed]",
      "text/latex": [
       "$$\\left[\\begin{matrix}\\frac{1}{m_{11}} + \\frac{m_{12} m_{21}}{m_{11}^{2} \\left(m_{22} - \\frac{m_{12} m_{21}}{m_{11}}\\right)} & - \\frac{m_{12}}{m_{11} \\left(m_{22} - \\frac{m_{12} m_{21}}{m_{11}}\\right)}\\\\- \\frac{m_{21}}{m_{11} \\left(m_{22} - \\frac{m_{12} m_{21}}{m_{11}}\\right)} & \\frac{1}{m_{22} - \\frac{m_{12} m_{21}}{m_{11}}}\\end{matrix}\\right]$$"
      ],
      "text/plain": [
       "⎡ 1          m₁₂⋅m₂₁                -m₁₂        ⎤\n",
       "⎢─── + ────────────────────  ───────────────────⎥\n",
       "⎢m₁₁      2 ⎛      m₁₂⋅m₂₁⎞      ⎛      m₁₂⋅m₂₁⎞⎥\n",
       "⎢      m₁₁ ⋅⎜m₂₂ - ───────⎟  m₁₁⋅⎜m₂₂ - ───────⎟⎥\n",
       "⎢           ⎝        m₁₁  ⎠      ⎝        m₁₁  ⎠⎥\n",
       "⎢                                               ⎥\n",
       "⎢          -m₂₁                       1         ⎥\n",
       "⎢   ───────────────────         ─────────────   ⎥\n",
       "⎢       ⎛      m₁₂⋅m₂₁⎞               m₁₂⋅m₂₁   ⎥\n",
       "⎢   m₁₁⋅⎜m₂₂ - ───────⎟         m₂₂ - ───────   ⎥\n",
       "⎣       ⎝        m₁₁  ⎠                 m₁₁     ⎦"
      ]
     },
     "execution_count": 118,
     "metadata": {},
     "output_type": "execute_result"
    }
   ],
   "source": [
    "A.inv()"
   ]
  },
  {
   "cell_type": "markdown",
   "metadata": {
    "slideshow": {
     "slide_type": "subslide"
    }
   },
   "source": [
    "## Reševanje enačb"
   ]
  },
  {
   "cell_type": "markdown",
   "metadata": {},
   "source": [
    "Enačbe in sistem enačb rešujemo s funkcijo ``solve``:"
   ]
  },
  {
   "cell_type": "code",
   "execution_count": 119,
   "metadata": {
    "collapsed": false
   },
   "outputs": [
    {
     "data": {
      "image/png": "[encoded data removed]",
      "text/latex": [
       "$$\\sin{\\left (x^{2} \\right )} = 0.5$$"
      ],
      "text/plain": [
       "   ⎛ 2⎞      \n",
       "sin⎝x ⎠ = 0.5"
      ]
     },
     "execution_count": 119,
     "metadata": {},
     "output_type": "execute_result"
    }
   ],
   "source": [
    "en = sym.Eq(sym.sin(x**2), 1/2)\n",
    "en"
   ]
  },
  {
   "cell_type": "code",
   "execution_count": 120,
   "metadata": {
    "collapsed": false,
    "slideshow": {
     "slide_type": "subslide"
    }
   },
   "outputs": [
    {
     "data": {
      "image/png": "[encoded data removed]",
      "text/latex": [
       "$$\\left [ -1.61802159379642, \\quad -0.723601254558268, \\quad 0.723601254558268, \\quad 1.61802159379642\\right ]$$"
      ],
      "text/plain": [
       "[-1.61802159379642, -0.723601254558268, 0.723601254558268, 1.61802159379642]"
      ]
     },
     "execution_count": 120,
     "metadata": {},
     "output_type": "execute_result"
    }
   ],
   "source": [
    "sym.solve(en, x)"
   ]
  },
  {
   "cell_type": "code",
   "execution_count": 121,
   "metadata": {
    "collapsed": false
   },
   "outputs": [
    {
     "data": {
      "image/png": "[encoded data removed]",
      "text/plain": [
       "<matplotlib.figure.Figure at 0x19929056c88>"
      ]
     },
     "metadata": {},
     "output_type": "display_data"
    }
   ],
   "source": [
    "sym.plot(sym.sin(x**2), 0.5, (x, -sym.pi, sym.pi));"
   ]
  },
  {
   "cell_type": "markdown",
   "metadata": {
    "slideshow": {
     "slide_type": "subslide"
    }
   },
   "source": [
    "Gre za nelinearno enačbo z več rešitvami. Rešitev lahko iščemo tudi numerično v izbrani okolici:"
   ]
  },
  {
   "cell_type": "code",
   "execution_count": 122,
   "metadata": {
    "collapsed": false
   },
   "outputs": [
    {
     "data": {
      "image/png": "[encoded data removed]",
      "text/latex": [
       "$$2.98348440337319$$"
      ],
      "text/plain": [
       "2.98348440337319"
      ]
     },
     "execution_count": 122,
     "metadata": {},
     "output_type": "execute_result"
    }
   ],
   "source": [
    "sol = sym.nsolve(en, x, 3)\n",
    "#sym.N(sol,10)\n",
    "sym.N(sol)"
   ]
  },
  {
   "cell_type": "markdown",
   "metadata": {
    "slideshow": {
     "slide_type": "subslide"
    }
   },
   "source": [
    "Kvadratna enačba"
   ]
  },
  {
   "cell_type": "code",
   "execution_count": 123,
   "metadata": {
    "collapsed": false
   },
   "outputs": [
    {
     "data": {
      "image/png": "[encoded data removed]",
      "text/latex": [
       "$$\\left [ \\frac{1}{2 a} \\left(- b + \\sqrt{- 4 a c + b^{2}}\\right), \\quad - \\frac{1}{2 a} \\left(b + \\sqrt{- 4 a c + b^{2}}\\right)\\right ]$$"
      ],
      "text/plain": [
       "⎡        _____________   ⎛       _____________⎞ ⎤\n",
       "⎢       ╱           2    ⎜      ╱           2 ⎟ ⎥\n",
       "⎢-b + ╲╱  -4⋅a⋅c + b    -⎝b + ╲╱  -4⋅a⋅c + b  ⎠ ⎥\n",
       "⎢─────────────────────, ────────────────────────⎥\n",
       "⎣         2⋅a                     2⋅a           ⎦"
      ]
     },
     "execution_count": 123,
     "metadata": {},
     "output_type": "execute_result"
    }
   ],
   "source": [
    "a, b, c = sym.symbols(('a', 'b', 'c'))\n",
    "sym.solve(a*x**2 + b*x + c, x)"
   ]
  },
  {
   "cell_type": "markdown",
   "metadata": {
    "slideshow": {
     "slide_type": "subslide"
    }
   },
   "source": [
    "Sistem enačb"
   ]
  },
  {
   "cell_type": "code",
   "execution_count": 124,
   "metadata": {
    "collapsed": false
   },
   "outputs": [
    {
     "data": {
      "image/png": "[encoded data removed]",
      "text/latex": [
       "$$\\left \\{ x : 1, \\quad y : 0\\right \\}$$"
      ],
      "text/plain": [
       "{x: 1, y: 0}"
      ]
     },
     "execution_count": 124,
     "metadata": {},
     "output_type": "execute_result"
    }
   ],
   "source": [
    "x, y = sym.symbols('x y')\n",
    "sym.solve([x + y - 1, x - y - 1], [x, y])"
   ]
  },
  {
   "cell_type": "markdown",
   "metadata": {
    "slideshow": {
     "slide_type": "subslide"
    }
   },
   "source": [
    "## Reševanje diferencialnih enačb"
   ]
  },
  {
   "cell_type": "markdown",
   "metadata": {},
   "source": [
    "Preprost primer na površini s koeficientom trenja $\\mu$ drseče mase $m$. Začetna hitrost je $v_0$.\n",
    "\n",
    "Definirajmo simbole:"
   ]
  },
  {
   "cell_type": "code",
   "execution_count": 125,
   "metadata": {
    "collapsed": true
   },
   "outputs": [],
   "source": [
    "x = sym.symbols('x') # ali lahko tudi x = Function('x')\n",
    "t, m, mu, g, v0 = sym.symbols('t m mu g v0', real=True, positive=True)"
   ]
  },
  {
   "cell_type": "markdown",
   "metadata": {
    "slideshow": {
     "slide_type": "subslide"
    }
   },
   "source": [
    "Definirajmo diferencialno enačbo:"
   ]
  },
  {
   "cell_type": "code",
   "execution_count": 126,
   "metadata": {
    "collapsed": false
   },
   "outputs": [
    {
     "data": {
      "image/png": "[encoded data removed]",
      "text/latex": [
       "$$m \\frac{d^{2}}{d t^{2}}  x{\\left (t \\right )} = - g m \\mu$$"
      ],
      "text/plain": [
       "    2               \n",
       "   d                \n",
       "m⋅───(x(t)) = -g⋅m⋅μ\n",
       "    2               \n",
       "  dt                "
      ]
     },
     "execution_count": 126,
     "metadata": {},
     "output_type": "execute_result"
    }
   ],
   "source": [
    "eq = sym.Eq(m*x(t).diff(t,2), -mu*g*m)\n",
    "eq"
   ]
  },
  {
   "cell_type": "markdown",
   "metadata": {
    "slideshow": {
     "slide_type": "subslide"
    }
   },
   "source": [
    "Nekaj lastnosti:"
   ]
  },
  {
   "cell_type": "code",
   "execution_count": 127,
   "metadata": {
    "collapsed": false
   },
   "outputs": [
    {
     "data": {
      "image/png": "[encoded data removed]",
      "text/latex": [
       "$$2$$"
      ],
      "text/plain": [
       "2"
      ]
     },
     "execution_count": 127,
     "metadata": {},
     "output_type": "execute_result"
    }
   ],
   "source": [
    "sym.ode_order(eq, x(t))"
   ]
  },
  {
   "cell_type": "code",
   "execution_count": 128,
   "metadata": {
    "collapsed": false
   },
   "outputs": [
    {
     "data": {
      "text/plain": [
       "('nth_linear_constant_coeff_undetermined_coefficients',\n",
       " 'nth_linear_constant_coeff_variation_of_parameters',\n",
       " 'nth_linear_constant_coeff_variation_of_parameters_Integral')"
      ]
     },
     "execution_count": 128,
     "metadata": {},
     "output_type": "execute_result"
    }
   ],
   "source": [
    "sym.classify_ode(eq)"
   ]
  },
  {
   "cell_type": "markdown",
   "metadata": {
    "slideshow": {
     "slide_type": "subslide"
    }
   },
   "source": [
    "Rešitev:"
   ]
  },
  {
   "cell_type": "code",
   "execution_count": 129,
   "metadata": {
    "collapsed": false
   },
   "outputs": [
    {
     "data": {
      "image/png": "[encoded data removed]",
      "text/latex": [
       "$$C_{1} + C_{2} t - \\frac{g \\mu}{2} t^{2}$$"
      ],
      "text/plain": [
       "                 2\n",
       "            g⋅μ⋅t \n",
       "C₁ + C₂⋅t - ──────\n",
       "              2   "
      ]
     },
     "execution_count": 129,
     "metadata": {},
     "output_type": "execute_result"
    }
   ],
   "source": [
    "x_r = sym.dsolve(eq, x(t)).args[1]\n",
    "x_r"
   ]
  },
  {
   "cell_type": "markdown",
   "metadata": {
    "slideshow": {
     "slide_type": "subslide"
    }
   },
   "source": [
    "Začetni pogoji:"
   ]
  },
  {
   "cell_type": "code",
   "execution_count": 130,
   "metadata": {
    "collapsed": false
   },
   "outputs": [],
   "source": [
    "C1 = sym.solve(sym.Eq(x_r.subs(t,0),0), 'C1')[0]"
   ]
  },
  {
   "cell_type": "code",
   "execution_count": 131,
   "metadata": {
    "collapsed": false
   },
   "outputs": [],
   "source": [
    "C2 = sym.solve(sym.Eq(x_r.diff(t).subs(t,0),v0), 'C2')[0]"
   ]
  },
  {
   "cell_type": "code",
   "execution_count": 132,
   "metadata": {
    "collapsed": false
   },
   "outputs": [
    {
     "data": {
      "image/png": "[encoded data removed]",
      "text/latex": [
       "$$\\left ( 0, \\quad v_{0}\\right )$$"
      ],
      "text/plain": [
       "(0, v₀)"
      ]
     },
     "execution_count": 132,
     "metadata": {},
     "output_type": "execute_result"
    }
   ],
   "source": [
    "C1, C2"
   ]
  },
  {
   "cell_type": "code",
   "execution_count": 133,
   "metadata": {
    "collapsed": false,
    "slideshow": {
     "slide_type": "subslide"
    }
   },
   "outputs": [
    {
     "data": {
      "image/png": "[encoded data removed]",
      "text/latex": [
       "$$- \\frac{g \\mu}{2} t^{2} + t v_{0}$$"
      ],
      "text/plain": [
       "       2       \n",
       "  g⋅μ⋅t        \n",
       "- ────── + t⋅v₀\n",
       "    2          "
      ]
     },
     "execution_count": 133,
     "metadata": {},
     "output_type": "execute_result"
    }
   ],
   "source": [
    "x_r = x_r.subs('C1', C1).subs('C2', C2)\n",
    "x_r"
   ]
  },
  {
   "cell_type": "markdown",
   "metadata": {},
   "source": [
    "Vstavimo podatke:"
   ]
  },
  {
   "cell_type": "code",
   "execution_count": 134,
   "metadata": {
    "collapsed": false
   },
   "outputs": [
    {
     "data": {
      "image/png": "[encoded data removed]",
      "text/latex": [
       "$$- 0.4905 t^{2} + t$$"
      ],
      "text/plain": [
       "          2    \n",
       "- 0.4905⋅t  + t"
      ]
     },
     "execution_count": 134,
     "metadata": {},
     "output_type": "execute_result"
    }
   ],
   "source": [
    "podatki = {g: 9.81, mu: 0.1, v0: 1}\n",
    "x_p = x_r.subs(podatki)\n",
    "x_p"
   ]
  },
  {
   "cell_type": "markdown",
   "metadata": {
    "slideshow": {
     "slide_type": "subslide"
    }
   },
   "source": [
    "In prikažemo:"
   ]
  },
  {
   "cell_type": "code",
   "execution_count": 135,
   "metadata": {
    "collapsed": false
   },
   "outputs": [
    {
     "data": {
      "image/png": "[encoded data removed]",
      "text/plain": [
       "<matplotlib.figure.Figure at 0x19929043be0>"
      ]
     },
     "metadata": {},
     "output_type": "display_data"
    }
   ],
   "source": [
    "sym.plot(x_p, (t, 0, 1), xlabel='$t$ [s]', ylabel='$x(t)$ [m]');"
   ]
  },
  {
   "cell_type": "code",
   "execution_count": 136,
   "metadata": {
    "collapsed": false,
    "slideshow": {
     "slide_type": "subslide"
    }
   },
   "outputs": [
    {
     "data": {
      "image/png": "[encoded data removed]",
      "text/plain": [
       "<matplotlib.figure.Figure at 0x199295696a0>"
      ]
     },
     "metadata": {},
     "output_type": "display_data"
    }
   ],
   "source": [
    "sym.plot(x_p.diff(t), (t, 0, 1), xlabel='$t$ [s]', ylabel='$\\dot{x}(t)$ [m/s]');"
   ]
  },
  {
   "cell_type": "markdown",
   "metadata": {
    "slideshow": {
     "slide_type": "subslide"
    }
   },
   "source": [
    "# Nekaj vprašanj za razmislek!"
   ]
  },
  {
   "cell_type": "markdown",
   "metadata": {},
   "source": [
    "1. Pojasnite na primeru *proceduralno* in *funkcijsko* programiranje.\n",
    "* Definirajte preprosti objekt, naredite nekaj funkcij temu objektu.\n",
    "* Definirajte objekt, ki pri kreiranju instance zahteva zgolj celoštevilsko vrednost, t.j.: dolžino seznama (uporabili bomo pri naslednji točki).\n",
    "* Objektu iz prejšnje točke naj pri inicializacii argumentu ``data`` priredi naključni seznam ustrezne dolžine (glejte funkcijo ``np.random.rand``).\n",
    "* Objektu iz prejšnje točke dodajte metodo za zapis vrednosti v datoteko s pomočjo funkcije ``np.savetxt``.\n",
    "* Enako kakor prejšnja točka, vendar naj se podatki shranijo v binarni obliki s pomočjo modula ``pickle``\n",
    "* Dodajte metodo za branje iz datoteke (s pomočjo ``np.genfromtxt``).\n",
    "* Uvozite ves naslovni prostor iz ``SymPy``. Nastavite lep izpis rezultatov.\n",
    "* Za trikotnik na sliki definirajte funkcijo za izračun površine in volumna.\n",
    "\n",
    "<img src=\"./fig/trikotnik.png\" width=300>\n",
    "\n",
    "* Izračunajte številčne vrednosti (podatki naj bodo definirani v slovarju in si jih izmislite).\n",
    "* Izračunajte statični moment ploskve $S_{xx}=\\int_A y\\,dA=\\int_{0}^{b} y\\,x(y)\\,dy$, kjer je $x(y)=a-a\\,y/b$.\n",
    "* Izračunajte vztrajnostni moment ploskve $I_{xx}=\\int_A y^2\\,dA$, $dA = x(y) \\cdot dy$.\n",
    "* Prikažite $I_{xx}$ v odvisnosti od parametra $b$ ($a$ definirate poljubno)\n",
    "* Nedoločeno in določeno (v mejah od 0 do $\\tau$) integrirajte izraz: $\\sin(5+t)+e^t$.\n",
    "* Z odvajanjem pokažite pravilnost nedoločenega integrala iz predhodnega koraka.\n",
    "* Za kotaleči valj (polmer $r$, masa $m$) povežite translatorno $x$ prostost z rotacijsko $\\varphi$. Pozneje boste vse izrazili s slednjo. Namig: Dolžina loka kroga ustreza zmnožku polmera $r$ in kota $\\varphi$ [rad].\n",
    "* Določite translatorno kinetično energijo težišča (definirajte s hitrostjo $\\dot x$, zaradi predhodne povezave, pa bi naj bil rezultat s $\\dot{\\varphi}$). $E_k = \\frac{1}{2} \\, m \\, v^2$\n",
    "* Določite še masni vztrajnostni moment valja in rotacijsko kinetično energijo. Obe kinetični energiji seštejte in izraz poenostavite (če je potrebno). $J_v = \\frac{1}{2} \\, m \\, r^2$ $E_{k, r} = \\frac{1}{2} \\, J_v \\, \\left[\\frac{d}{dt} \\varphi(t)\\right]^2$\n",
    "* Če na valj deluje moment $-M$, definirajte mehansko energijo: $E_m=-M\\,\\varphi$ in določite gibalno enačbo iz spremembe mehanske energije: $\\frac{d E_m}{d t}=\\frac{d E_k}{d t}$\n",
    "* Nadaljujete na predhodni enačbi: poiščete ``sympy`` funkcijo ``replace`` in ugotovite razliko z ``subs``. Poskusite s pomočjo ``replace`` $\\dot{\\varphi}$ na obeh straneh enačbe spremeniti v 1.\n",
    "* Najdite rešitev za predhodno pridobljeno diferencialno enačbo.\n",
    "* Izmislite se začetne pogoje in jih uporabite na predhodno rešeni diferencialni enačbi. Izmislite si še preostale podatke ter prikažite rezultat.\n",
    "* Določite čas, ko je zasuk $\\varphi$ spet enak začetnemu (če ste predpostavili začetni zasuk nič, potem torej iščete $\\varphi=0$. Določite tudi čas, ko je kotna hitrost $\\dot{\\varphi}$ enaka nič."
   ]
  },
  {
   "cell_type": "markdown",
   "metadata": {
    "slideshow": {
     "slide_type": "subslide"
    }
   },
   "source": [
    "# Ekstra"
   ]
  },
  {
   "cell_type": "markdown",
   "metadata": {
    "slideshow": {
     "slide_type": "subslide"
    }
   },
   "source": [
    "##  sympy.mechanics\n",
    "``sympy`` ima vgrajeno podporo za simuliranje sistema teles. Glejte tole predstavitev: http://pyvideo.org/video/2006/dynamics-with-sympy-mechanics-scipy-2013-present (tukaj je v predstavitvi prikazan primer: http://www.moorepants.info/blog/npendulum.html) \n"
   ]
  },
  {
   "cell_type": "markdown",
   "metadata": {
    "slideshow": {
     "slide_type": "subslide"
    }
   },
   "source": [
    "## Napredna uporaba\n",
    "Poglejte napredno uporabo IPython/Jupiter notebooka: [github.com/ipython/ipywidgets/](https://github.com/ipython/ipywidgets/). Primer spodaj."
   ]
  },
  {
   "cell_type": "code",
   "execution_count": 137,
   "metadata": {
    "collapsed": true
   },
   "outputs": [],
   "source": [
    "from ipywidgets import interact\n",
    "import networkx as nx"
   ]
  },
  {
   "cell_type": "code",
   "execution_count": 138,
   "metadata": {
    "collapsed": true,
    "slideshow": {
     "slide_type": "skip"
    }
   },
   "outputs": [],
   "source": [
    "# wrap a few graph generation functions so they have the same signature\n",
    "\n",
    "def random_lobster(n, m, k, p):\n",
    "    return nx.random_lobster(n, p, p / m)\n",
    "\n",
    "def powerlaw_cluster(n, m, k, p):\n",
    "    return nx.powerlaw_cluster_graph(n, m, p)\n",
    "\n",
    "def erdos_renyi(n, m, k, p):\n",
    "    return nx.erdos_renyi_graph(n, p)\n",
    "\n",
    "def newman_watts_strogatz(n, m, k, p):\n",
    "    return nx.newman_watts_strogatz_graph(n, k, p)\n",
    "\n",
    "def plot_random_graph(n, m, k, p, generator):\n",
    "    g = generator(n, m, k, p)\n",
    "    nx.draw(g)\n",
    "    plt.show()"
   ]
  },
  {
   "cell_type": "code",
   "execution_count": 139,
   "metadata": {
    "collapsed": false,
    "slideshow": {
     "slide_type": "subslide"
    }
   },
   "outputs": [
    {
     "data": {
      "image/png": "[encoded data removed]",
      "text/plain": [
       "<matplotlib.figure.Figure at 0x199295fec88>"
      ]
     },
     "metadata": {},
     "output_type": "display_data"
    }
   ],
   "source": [
    "interact(plot_random_graph, n=(2,30), m=(1,10), k=(1,10), p=(0.0, 1.0, 0.001),\n",
    "        generator={'lobster': random_lobster,\n",
    "                   'power law': powerlaw_cluster,\n",
    "                   'Newman-Watts-Strogatz': newman_watts_strogatz,\n",
    "                   u'Erdős-Rényi': erdos_renyi,\n",
    "                   });"
   ]
  }
 ],
 "metadata": {
  "anaconda-cloud": {},
  "celltoolbar": "Slideshow",
  "kernelspec": {
   "display_name": "Python [default]",
   "language": "python",
   "name": "python3"
  },
  "language_info": {
   "codemirror_mode": {
    "name": "ipython",
    "version": 3
   },
   "file_extension": ".py",
   "mimetype": "text/x-python",
   "name": "python",
   "nbconvert_exporter": "python",
   "pygments_lexer": "ipython3",
   "version": "3.5.2"
  },
  "latex_envs": {
   "bibliofile": "biblio.bib",
   "cite_by": "apalike",
   "current_citInitial": 1,
   "eqLabelWithNumbers": true,
   "eqNumInitial": 0
  },
  "livereveal": {
   "theme": "sky",
   "transition": "default",
   "width": 1200
  },
  "nav_menu": {},
  "toc": {
   "navigate_menu": true,
   "number_sections": true,
   "sideBar": true,
   "threshold": 6,
   "toc_cell": true,
   "toc_section_display": "block",
   "toc_window_display": false
  }
 },
 "nbformat": 4,
 "nbformat_minor": 0
}
