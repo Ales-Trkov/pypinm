{
 "cells": [
  {
   "cell_type": "markdown",
   "metadata": {
    "slideshow": {
     "slide_type": "slide"
    }
   },
   "source": [
    "<font size=\"2\"> [github.com/jankoslavic/pypinm](http://github.com/jankoslavic/pypinm)</font>\n",
    "\n",
    "<center>\n",
    "<img width=300 src=\"./fig/ladisk.png\">\n",
    "<br>\n",
    "<font size=\"7\" color=\"f00e0e\" face=\"garamond\"><b>Reševanje enačb</b></font>\n",
    "<br><br>\n",
    "<font size=\"4\">\n",
    "[izr. prof. dr. Janko Slavič](http://www.ladisk.si/~slavic)\n",
    "</font>\n",
    "<br><br>\n",
    "<font size=\"2\">September 2017</font>\n",
    "\n",
    "</center>"
   ]
  },
  {
   "cell_type": "markdown",
   "metadata": {
    "slideshow": {
     "slide_type": "subslide"
    },
    "toc": "true"
   },
   "source": [
    "# Table of Contents\n",
    " <p><div class=\"lev1 toc-item\"><a href=\"#Uvod\" data-toc-modified-id=\"Uvod-1\"><span class=\"toc-item-num\">1&nbsp;&nbsp;</span>Uvod</a></div><div class=\"lev2 toc-item\"><a href=\"#Število-rešitev\" data-toc-modified-id=\"Število-rešitev-11\"><span class=\"toc-item-num\">1.1&nbsp;&nbsp;</span>Število rešitev</a></div><div class=\"lev2 toc-item\"><a href=\"#Omejitve-funkcije-f\" data-toc-modified-id=\"Omejitve-funkcije-f-12\"><span class=\"toc-item-num\">1.2&nbsp;&nbsp;</span>Omejitve funkcije $f$</a></div><div class=\"lev2 toc-item\"><a href=\"#Primer-polinoma\" data-toc-modified-id=\"Primer-polinoma-13\"><span class=\"toc-item-num\">1.3&nbsp;&nbsp;</span>Primer polinoma</a></div><div class=\"lev1 toc-item\"><a href=\"#Inkrementalna-metoda\" data-toc-modified-id=\"Inkrementalna-metoda-2\"><span class=\"toc-item-num\">2&nbsp;&nbsp;</span>Inkrementalna metoda</a></div><div class=\"lev2 toc-item\"><a href=\"#Numerična-implementacija\" data-toc-modified-id=\"Numerična-implementacija-21\"><span class=\"toc-item-num\">2.1&nbsp;&nbsp;</span>Numerična implementacija</a></div><div class=\"lev1 toc-item\"><a href=\"#Iterativna-inkrementalna-metoda\" data-toc-modified-id=\"Iterativna-inkrementalna-metoda-3\"><span class=\"toc-item-num\">3&nbsp;&nbsp;</span>Iterativna inkrementalna metoda</a></div><div class=\"lev2 toc-item\"><a href=\"#Numerična-implementacija\" data-toc-modified-id=\"Numerična-implementacija-31\"><span class=\"toc-item-num\">3.1&nbsp;&nbsp;</span>Numerična implementacija</a></div><div class=\"lev1 toc-item\"><a href=\"#Bisekcijska-metoda\" data-toc-modified-id=\"Bisekcijska-metoda-4\"><span class=\"toc-item-num\">4&nbsp;&nbsp;</span>Bisekcijska metoda</a></div><div class=\"lev2 toc-item\"><a href=\"#Ocena-napake\" data-toc-modified-id=\"Ocena-napake-41\"><span class=\"toc-item-num\">4.1&nbsp;&nbsp;</span>Ocena napake</a></div><div class=\"lev2 toc-item\"><a href=\"#Numerična-implementacija\" data-toc-modified-id=\"Numerična-implementacija-42\"><span class=\"toc-item-num\">4.2&nbsp;&nbsp;</span>Numerična implementacija</a></div><div class=\"lev2 toc-item\"><a href=\"#Uporaba-scipy.optimize.bisect\" data-toc-modified-id=\"Uporaba-scipy.optimize.bisect-43\"><span class=\"toc-item-num\">4.3&nbsp;&nbsp;</span>Uporaba <code>scipy.optimize.bisect</code></a></div><div class=\"lev1 toc-item\"><a href=\"#Sekantna-metoda\" data-toc-modified-id=\"Sekantna-metoda-5\"><span class=\"toc-item-num\">5&nbsp;&nbsp;</span>Sekantna metoda</a></div><div class=\"lev2 toc-item\"><a href=\"#Ocena-napake\" data-toc-modified-id=\"Ocena-napake-51\"><span class=\"toc-item-num\">5.1&nbsp;&nbsp;</span>Ocena napake</a></div><div class=\"lev2 toc-item\"><a href=\"#Konvergenca-in-red-konvergence\" data-toc-modified-id=\"Konvergenca-in-red-konvergence-52\"><span class=\"toc-item-num\">5.2&nbsp;&nbsp;</span>Konvergenca in red konvergence</a></div><div class=\"lev2 toc-item\"><a href=\"#Numerična-implementacija\" data-toc-modified-id=\"Numerična-implementacija-53\"><span class=\"toc-item-num\">5.3&nbsp;&nbsp;</span>Numerična implementacija</a></div><div class=\"lev2 toc-item\"><a href=\"#Uporaba-scipy.optimize.newton\" data-toc-modified-id=\"Uporaba-scipy.optimize.newton-54\"><span class=\"toc-item-num\">5.4&nbsp;&nbsp;</span>Uporaba <code>scipy.optimize.newton</code></a></div><div class=\"lev1 toc-item\"><a href=\"#Newton-metoda\" data-toc-modified-id=\"Newton-metoda-6\"><span class=\"toc-item-num\">6&nbsp;&nbsp;</span>Newton metoda</a></div><div class=\"lev2 toc-item\"><a href=\"#Red-konvegence\" data-toc-modified-id=\"Red-konvegence-61\"><span class=\"toc-item-num\">6.1&nbsp;&nbsp;</span>Red konvegence</a></div><div class=\"lev2 toc-item\"><a href=\"#Numerična-implementacija\" data-toc-modified-id=\"Numerična-implementacija-62\"><span class=\"toc-item-num\">6.2&nbsp;&nbsp;</span>Numerična implementacija</a></div><div class=\"lev2 toc-item\"><a href=\"#Uporaba-scipy.optimize.newton\" data-toc-modified-id=\"Uporaba-scipy.optimize.newton-63\"><span class=\"toc-item-num\">6.3&nbsp;&nbsp;</span>Uporaba <code>scipy.optimize.newton</code></a></div><div class=\"lev1 toc-item\"><a href=\"#Reševanje-nelinarnih-sistemov-enačb\" data-toc-modified-id=\"Reševanje-nelinarnih-sistemov-enačb-7\"><span class=\"toc-item-num\">7&nbsp;&nbsp;</span>Reševanje nelinarnih sistemov enačb</a></div><div class=\"lev2 toc-item\"><a href=\"#Numerična-implementacija\" data-toc-modified-id=\"Numerična-implementacija-71\"><span class=\"toc-item-num\">7.1&nbsp;&nbsp;</span>Numerična implementacija</a></div><div class=\"lev2 toc-item\"><a href=\"#Uporaba-scipy.optimize.root\" data-toc-modified-id=\"Uporaba-scipy.optimize.root-72\"><span class=\"toc-item-num\">7.2&nbsp;&nbsp;</span>Uporaba <code>scipy.optimize.root</code></a></div><div class=\"lev1 toc-item\"><a href=\"#Nekaj-vprašanj-za-razmislek!\" data-toc-modified-id=\"Nekaj-vprašanj-za-razmislek!-8\"><span class=\"toc-item-num\">8&nbsp;&nbsp;</span>Nekaj vprašanj za razmislek!</a></div><div class=\"lev1 toc-item\"><a href=\"#Dodatno\" data-toc-modified-id=\"Dodatno-9\"><span class=\"toc-item-num\">9&nbsp;&nbsp;</span>Dodatno</a></div><div class=\"lev2 toc-item\"><a href=\"#Uporaba-sympy.solve-za-reševanje-enačb\" data-toc-modified-id=\"Uporaba-sympy.solve-za-reševanje-enačb-91\"><span class=\"toc-item-num\">9.1&nbsp;&nbsp;</span>Uporaba <code>sympy.solve</code> za reševanje enačb</a></div>"
   ]
  },
  {
   "cell_type": "markdown",
   "metadata": {
    "slideshow": {
     "slide_type": "slide"
    }
   },
   "source": [
    "# Uvod"
   ]
  },
  {
   "cell_type": "markdown",
   "metadata": {},
   "source": [
    "V okviru reševanja enačb obravnavamo poljubno funkcijo $f$, ki je odvisna od spremenljivke $x$ in iščemo rešitev:\n",
    "$$f(x)=0.$$\n",
    "Rešitvam enačbe rečemo tudi *koreni* (angl. *roots*). Koren enačbe $f(x)=0$ je hkrati tudi ničla funkcije $f(x)$."
   ]
  },
  {
   "cell_type": "markdown",
   "metadata": {
    "slideshow": {
     "slide_type": "subslide"
    }
   },
   "source": [
    "Polinomska funkcija $f(x)$ ima stopnjo ničle:\n",
    "\n",
    "* ničla stopnje 1: funkcija seka abscisno os pod neničelnim kotom,\n",
    "* ničle sode stopnje: funkcija se dotika abscisne osi, vendar je ne seka,\n",
    "* ničle lihe stopnje: funkcija seka abscisno os, pri ničli stopnje 3 in več imamo prevoj (tangenta je vzporedna z absciso)."
   ]
  },
  {
   "cell_type": "markdown",
   "metadata": {
    "slideshow": {
     "slide_type": "subslide"
    }
   },
   "source": [
    "Tukaj je pomembno izpostaviti, da iščemo rešitev poljubne enačbe $f(x)=0$; če za linearne funkcije lahko določimo analitične rešitve, jih za večino nelinearnih ne morem; iz tega razloga so numerični pristopi toliko bolj pomembni. "
   ]
  },
  {
   "cell_type": "markdown",
   "metadata": {
    "slideshow": {
     "slide_type": "subslide"
    }
   },
   "source": [
    "## Število rešitev"
   ]
  },
  {
   "cell_type": "markdown",
   "metadata": {},
   "source": [
    "Rešitev lahko ne obstaja, lahko je ena, lahko jih je več. Kot primer si poglejmo:\n",
    "$$\\sin(x) - 20 = 0,$$\n",
    "ki nima rešitve."
   ]
  },
  {
   "cell_type": "markdown",
   "metadata": {
    "slideshow": {
     "slide_type": "-"
    }
   },
   "source": [
    "Enačba:\n",
    "$$x - 20 = 0$$\n",
    "ima eno rešitev ($x=20$) "
   ]
  },
  {
   "cell_type": "markdown",
   "metadata": {
    "slideshow": {
     "slide_type": "subslide"
    }
   },
   "source": [
    "in:\n",
    "$$\\sin(x) = 0$$\n",
    "ima neskončno mnogo rešitev ($x=i\\,\\pi$, $i\\in \\mathbb{Z}$)."
   ]
  },
  {
   "cell_type": "markdown",
   "metadata": {
    "slideshow": {
     "slide_type": "-"
    }
   },
   "source": [
    "Primer večkratne ničle (dvojne: pri $x=1$) je funkcija:\n",
    "$$f = (x - 1) \\cdot (x - 1) = x^2 - 2\\,x+1.$$"
   ]
  },
  {
   "cell_type": "markdown",
   "metadata": {
    "slideshow": {
     "slide_type": "subslide"
    }
   },
   "source": [
    "## Omejitve funkcije $f$"
   ]
  },
  {
   "cell_type": "markdown",
   "metadata": {},
   "source": [
    "Najprej bomo za funkcijo $f$ zahtevali samo pogoj, da na podanem zaprtem intervalu $[x_1, x_2]$ za poljubno vrednost $x$ vrne neko vrednost $f(x)$, pozneje bomo za funkcijo zahtevali tudi zveznost in odvod."
   ]
  },
  {
   "cell_type": "markdown",
   "metadata": {
    "slideshow": {
     "slide_type": "subslide"
    }
   },
   "source": [
    "## Primer polinoma\n",
    "\n",
    "Poljubno funkcijo $f$ lahko definiramo s *python funkcijo* tako:"
   ]
  },
  {
   "cell_type": "code",
   "execution_count": 1,
   "metadata": {
    "collapsed": true
   },
   "outputs": [],
   "source": [
    "def f(x):\n",
    "    x**3 - 10*x**2 + 5"
   ]
  },
  {
   "cell_type": "markdown",
   "metadata": {
    "slideshow": {
     "slide_type": "subslide"
    }
   },
   "source": [
    "Ker pa gre za polinom $x^3-10x^2+5$ s koeficienti `[1, -10, 0, 5]` pa je bolje, da ga definiramo s pomočjo [`np.poly1d`](https://docs.scipy.org/doc/numpy/reference/generated/numpy.poly1d.html):"
   ]
  },
  {
   "cell_type": "code",
   "execution_count": 2,
   "metadata": {},
   "outputs": [
    {
     "name": "stdout",
     "output_type": "stream",
     "text": [
      "   3      2\n",
      "1 x - 10 x + 5\n"
     ]
    }
   ],
   "source": [
    "import numpy as np # uvozimo numpy\n",
    "f = np.poly1d([1, -10, 0, 5]) # definiramo koeficiente polinoma\n",
    "print(f) # prikažemo polinom"
   ]
  },
  {
   "cell_type": "markdown",
   "metadata": {
    "slideshow": {
     "slide_type": "subslide"
    }
   },
   "source": [
    "Prikažimo funkcijo $f(x)$:"
   ]
  },
  {
   "cell_type": "code",
   "execution_count": 3,
   "metadata": {
    "scrolled": true
   },
   "outputs": [
    {
     "data": {
      "image/png": "[encoded data removed]",
      "text/plain": [
       "<matplotlib.figure.Figure at 0x270057166d8>"
      ]
     },
     "metadata": {},
     "output_type": "display_data"
    }
   ],
   "source": [
    "import matplotlib.pyplot as plt       # uvozimo matplotlib\n",
    "%matplotlib inline\n",
    "x_r = np.linspace(-1, 1, 100)\n",
    "plt.axhline(0, color='r', lw=0.5)     # horizontalna črta,\n",
    "plt.plot(x_r, f(x_r), label='$f(x)$') # da je ničla nekje blizu $x = 0.7$.\n",
    "plt.Circle((-0.71, 0), 2, color='r')\n",
    "plt.legend();"
   ]
  },
  {
   "cell_type": "markdown",
   "metadata": {
    "slideshow": {
     "slide_type": "subslide"
    }
   },
   "source": [
    "Opazimo, da so ničle funkcije $f(x)$ blizu -0,7 in +0,7. Ker imajo polinomi analitično določljive ničle, ima objekt `poly1d` atribut `roots` ali tudi `r` ([glejte dokumentacijo](https://docs.scipy.org/doc/numpy/reference/generated/numpy.poly1d.html)), ki vrne te ničle:"
   ]
  },
  {
   "cell_type": "code",
   "execution_count": 4,
   "metadata": {},
   "outputs": [
    {
     "data": {
      "text/plain": [
       "array([ 9.94949106,  0.73460351, -0.68409457])"
      ]
     },
     "execution_count": 4,
     "metadata": {},
     "output_type": "execute_result"
    }
   ],
   "source": [
    "f.r"
   ]
  },
  {
   "cell_type": "markdown",
   "metadata": {},
   "source": [
    "V nadaljvanju bo naš cilj, numerično določiti ničlo za poljubno funkcijo `f`."
   ]
  },
  {
   "cell_type": "markdown",
   "metadata": {
    "slideshow": {
     "slide_type": "slide"
    }
   },
   "source": [
    "# Inkrementalna metoda"
   ]
  },
  {
   "cell_type": "markdown",
   "metadata": {
    "slideshow": {
     "slide_type": "subslide"
    }
   },
   "source": [
    "Inkrementalno reševanje temelji na ideji, da v kolikor imat funkcija $f(x)$ pri $x_0$ in $x_1$ različne predznake, potem je vmes verjetno vsaj ena ničla. Zaprti interval $[x_0, x_1]$ razdelimo torej na odseke širine $\\Delta x$; na odseku, kjer opazimo spremembo predznaka, je verjetno ničla funkcije. Metoda je prikazana na sliki:"
   ]
  },
  {
   "cell_type": "markdown",
   "metadata": {
    "slideshow": {
     "slide_type": "subslide"
    }
   },
   "source": [
    "<img src='./fig/inkrementalna.png' width=400>"
   ]
  },
  {
   "cell_type": "markdown",
   "metadata": {
    "slideshow": {
     "slide_type": "subslide"
    }
   },
   "source": [
    "Inkrementalna metoda ima nekatere slabosti:\n",
    "* je zelo počasna,\n",
    "* lahko zgreši dve ničli, ki sta zelo blizu,\n",
    "* večkratne sode ničle (lokalni ekstrem, ki se samo dotika abscise) ne zazna,\n",
    "* poli funkcije so lahko napačno karakterizirani kot ničla\\*.\n",
    "\n",
    "\\* Če bi za funkcijo $f(x)$ zahtevali zveznost, potem težav s poli ne bi imeli."
   ]
  },
  {
   "cell_type": "markdown",
   "metadata": {
    "slideshow": {
     "slide_type": "subslide"
    }
   },
   "source": [
    "Inkrementalna metoda spada med t. i. *zaprte* metode (angl. *bracketed*), saj išče ničle funkcije samo na intervalu $[x_0, x_1]$. Pozneje bomo spoznali tudi *odprte* metode, ki lahko konvergirajo k ničli zunaj podanega intervala.\n",
    "\n",
    "Zaradi vseh slabosti navedenih zgoraj, inkrementalno metodo pogosto uporabimo samo za izračun začetnega približka ničle."
   ]
  },
  {
   "cell_type": "markdown",
   "metadata": {
    "slideshow": {
     "slide_type": "subslide"
    }
   },
   "source": [
    "## Numerična implementacija"
   ]
  },
  {
   "cell_type": "markdown",
   "metadata": {},
   "source": [
    "Poglejmo si sedaj inkrementalno iskanje ničel funkcije:"
   ]
  },
  {
   "cell_type": "code",
   "execution_count": 5,
   "metadata": {
    "collapsed": true
   },
   "outputs": [],
   "source": [
    "def inkrementalna(fun, x0, x1, dx):\n",
    "    \"\"\" Vrne prvi interval (x1, x2) kjer (verjetno) leži ničla\n",
    "    \n",
    "    :param fun: funkcija katere ničle iščemo\n",
    "    :param x1:  spodnja meja iskanja\n",
    "    :param x2:  zgornja meja iskanja\n",
    "    :param dx:  inkrement iskanja\n",
    "    \"\"\"\n",
    "    x_d = np.arange(x0, x1, dx)   # pripravimo x vrednosti\n",
    "    f_d = np.sign(fun(x_d))       # pripravimo predznake funkcije\n",
    "    f_d = f_d[1:]*f_d[:-1]        # vektorsko pomnožimo sosednje predznake\n",
    "    i = np.argmin(f_d)            # prvi prehod skozi ničlo\n",
    "    return np.asarray([x_d[i], x_d[i+1]])"
   ]
  },
  {
   "cell_type": "markdown",
   "metadata": {},
   "source": [
    "Poglejmo sedaj uporabo na zgoraj definiranemu polinomu:"
   ]
  },
  {
   "cell_type": "code",
   "execution_count": 6,
   "metadata": {
    "slideshow": {
     "slide_type": "subslide"
    }
   },
   "outputs": [
    {
     "data": {
      "text/plain": [
       "array([ 0.734,  0.735])"
      ]
     },
     "execution_count": 6,
     "metadata": {},
     "output_type": "execute_result"
    }
   ],
   "source": [
    "rez_inkr = inkrementalna(f, 0., 1., 0.001)\n",
    "rez_inkr"
   ]
  },
  {
   "cell_type": "markdown",
   "metadata": {},
   "source": [
    "Pripravimo sliko:"
   ]
  },
  {
   "cell_type": "code",
   "execution_count": 7,
   "metadata": {
    "collapsed": true
   },
   "outputs": [],
   "source": [
    "def fig():\n",
    "    plt.plot(x_r, f(x_r), label='$f(x)$')\n",
    "    plt.axhline(0, color='r', lw=0.5)     # horizontalna črta,\n",
    "    plt.axvline(rez_inkr[0], color='r', lw=0.5)     # horizontalna črta,\n",
    "    plt.axvline(rez_inkr[1], color='r', lw=0.5)     # horizontalna črta,\n",
    "    plt.plot(rez_inkr, f(rez_inkr), 'ro', label='Inkrementalna metoda')\n",
    "    plt.xlim(0.73,0.74)\n",
    "    plt.ylim(-0.1, 0.1)\n",
    "    plt.legend();"
   ]
  },
  {
   "cell_type": "markdown",
   "metadata": {
    "slideshow": {
     "slide_type": "subslide"
    }
   },
   "source": [
    "in prikažimo rezultat:"
   ]
  },
  {
   "cell_type": "code",
   "execution_count": 8,
   "metadata": {
    "slideshow": {
     "slide_type": "-"
    }
   },
   "outputs": [
    {
     "data": {
      "image/png": "[encoded data removed]",
      "text/plain": [
       "<matplotlib.figure.Figure at 0x2700610f358>"
      ]
     },
     "metadata": {},
     "output_type": "display_data"
    }
   ],
   "source": [
    "fig()"
   ]
  },
  {
   "cell_type": "markdown",
   "metadata": {
    "slideshow": {
     "slide_type": "subslide"
    }
   },
   "source": [
    "Da smo torej na intervalu $[0, 1]$ zgoraj našli rezultat z natančnostjo $\\Delta x=0,001$, smo morali 1000-krat klicati funkcijo $f(x)$. Gre za zelo neučinkovito metod, zato bomo iskali boljše načine; najprej s preprostim iterativnim inkrementalnim pristopom. "
   ]
  },
  {
   "cell_type": "markdown",
   "metadata": {
    "slideshow": {
     "slide_type": "subslide"
    }
   },
   "source": [
    "# Iterativna inkrementalna metoda"
   ]
  },
  {
   "cell_type": "markdown",
   "metadata": {},
   "source": [
    "Iterativna inkrementalna metoda v prvi iteraciji z inkrementalno metodo omeji interval iskanja ničel pri relativno velikem koraku. Interval najden v prvi iteraciji, se v drugi iteraciji razdeli na manjše intervale in se ponovi inkrementalno metodo. Tretja iteracije se nato omeji na interval določen v drugi in tako dalje. Z iteracijami zaključimo, ko smo zadovoljni s širino najdenega intervala. Metoda je prikazana na sliki:"
   ]
  },
  {
   "cell_type": "markdown",
   "metadata": {},
   "source": [
    "<img src='./fig/iterativna_inkrementalna.png' width=400>"
   ]
  },
  {
   "cell_type": "markdown",
   "metadata": {},
   "source": [
    "## Numerična implementacija"
   ]
  },
  {
   "cell_type": "code",
   "execution_count": 9,
   "metadata": {
    "collapsed": true,
    "slideshow": {
     "slide_type": "subslide"
    }
   },
   "outputs": [],
   "source": [
    "def inkrementalna_super(fun, x1, x2, iteracij=3):\n",
    "    \"\"\" Vrne interval (x1, x2) kjer verjetno leži ničla\n",
    "    \n",
    "    :param fun: funkcija katere ničlo iščemo\n",
    "    :param x1:  spodnja meja iskanja\n",
    "    :param x2:  zgornja meja iskanja\n",
    "    :iteraci:   število iteracij inkrementalne metode\n",
    "    \"\"\"\n",
    "    for i in range(iteracij):\n",
    "        dx = (x2 - x1)/10\n",
    "        x1, x2 = inkrementalna(fun, x1, x2, dx)\n",
    "    return np.asarray([x1, x2])"
   ]
  },
  {
   "cell_type": "markdown",
   "metadata": {
    "slideshow": {
     "slide_type": "subslide"
    }
   },
   "source": [
    "V 30 klicih funkcije $f(x)$ tako dobimo podobno natančnost kot prej v 1000:"
   ]
  },
  {
   "cell_type": "code",
   "execution_count": 10,
   "metadata": {},
   "outputs": [
    {
     "data": {
      "text/plain": [
       "array([ 0.734,  0.735])"
      ]
     },
     "execution_count": 10,
     "metadata": {},
     "output_type": "execute_result"
    }
   ],
   "source": [
    "rez30 = inkrementalna_super(f, 0., 1., iteracij=3)\n",
    "rez30"
   ]
  },
  {
   "cell_type": "code",
   "execution_count": 11,
   "metadata": {},
   "outputs": [
    {
     "data": {
      "text/plain": [
       "array([ 0.734,  0.735])"
      ]
     },
     "execution_count": 11,
     "metadata": {},
     "output_type": "execute_result"
    }
   ],
   "source": [
    "rez_inkr"
   ]
  },
  {
   "cell_type": "markdown",
   "metadata": {
    "slideshow": {
     "slide_type": "subslide"
    }
   },
   "source": [
    "Seveda pa lahko natančnost bistveno izboljšamo z večanjem števila iteracij:"
   ]
  },
  {
   "cell_type": "code",
   "execution_count": 12,
   "metadata": {},
   "outputs": [
    {
     "data": {
      "text/plain": [
       "array([ 0.7346035 ,  0.73460351])"
      ]
     },
     "execution_count": 12,
     "metadata": {},
     "output_type": "execute_result"
    }
   ],
   "source": [
    "rez80 = inkrementalna_super(f, 0., 1., iteracij=8)\n",
    "rez80"
   ]
  },
  {
   "cell_type": "markdown",
   "metadata": {
    "slideshow": {
     "slide_type": "slide"
    }
   },
   "source": [
    "# Bisekcijska metoda"
   ]
  },
  {
   "cell_type": "markdown",
   "metadata": {},
   "source": [
    "Na intervalu $[x_0, x_1]$, kjer vemo, da obstaja ničla funkcije (predznaka $f(x_0)$ in $f(x_1)$ se razlikujeta), lahko uporabimo t. i. *bisekcijsko metodo*."
   ]
  },
  {
   "cell_type": "markdown",
   "metadata": {
    "slideshow": {
     "slide_type": "subslide"
    }
   },
   "source": [
    "Ideja je relativno enostavna:\n",
    "* interval $[x_0, x_1]$ razdelimo na pol (od tukaj ime: *bi-sekcija*): $x_2 = (x_0+x_1)/2$,\n",
    "* če imata $f(x_0)$ in $f(x_2)$ različne predznake, potem vemo, da je nov interval iskanja ničle $[x_0, x_2]$, sicer pa: $[x_2, x_1]$,\n",
    "* glede na predhodni korak definiramo nov zaprt interval $[x_0, x_1]$ in nadaljujemo z iterativnim postopkom, dokler ne dosežemo željene natančnosti $\\varepsilon=\\left|x_1-x_0\\right|$."
   ]
  },
  {
   "cell_type": "markdown",
   "metadata": {},
   "source": [
    "<img src='./fig/bisekcijska.png' width=400>"
   ]
  },
  {
   "cell_type": "markdown",
   "metadata": {
    "slideshow": {
     "slide_type": "subslide"
    }
   },
   "source": [
    "Bisekcijska metoda spada med *zaprte* metode, ki vrne ničlo funkcije na podanem intervalu $[x_0, x_1]$."
   ]
  },
  {
   "cell_type": "markdown",
   "metadata": {
    "slideshow": {
     "slide_type": "subslide"
    }
   },
   "source": [
    "## Ocena napake"
   ]
  },
  {
   "cell_type": "markdown",
   "metadata": {},
   "source": [
    "Če v začetku začnemo z intervalom $\\Delta x = \\left|x_1-x_0\\right|$, potem je natančnost bisekcijske metode po prvem koraku bisekcije: \n",
    "$$\\varepsilon_1 = \\Delta x/2,$$\n",
    "po drugem koraku: \n",
    "$$\\varepsilon_2 = \\Delta x/2^2$$\n",
    "in po $n$ korakih: \n",
    "$$\\varepsilon_n = \\Delta x/2^n.$$"
   ]
  },
  {
   "cell_type": "markdown",
   "metadata": {
    "slideshow": {
     "slide_type": "subslide"
    }
   },
   "source": [
    "Ponavadi imamo zahtevo po končni natančnosti $\\varepsilon$ in iz zgornje enačbe lahko izpeljemo število potrebnih korakov bisekcijske metode:\n",
    "$$n = \\frac{\\log\\left(\\frac{\\Delta x}{\\varepsilon}\\right)}{\\log(2)}.$$\n",
    "Seveda je število korakov na koncu celo število."
   ]
  },
  {
   "cell_type": "markdown",
   "metadata": {
    "slideshow": {
     "slide_type": "subslide"
    }
   },
   "source": [
    "## Numerična implementacija"
   ]
  },
  {
   "cell_type": "code",
   "execution_count": 13,
   "metadata": {
    "collapsed": true
   },
   "outputs": [],
   "source": [
    "def bisekcija(fun, x0, x1, tol=1e-3, izpis=True):\n",
    "    \"\"\" Vrne ničlo z natančnostjo tol\n",
    "    \n",
    "    :param fun: funkcija katere ničle iščemo\n",
    "    :param x0:  spodnja meja iskanja\n",
    "    :param x1:  zgornja meja iskanja\n",
    "    :param tol: zahtevana natančnost\n",
    "    :izpis:     ali na koncu izpiše kratko poročilo\n",
    "    \"\"\"\n",
    "    n = np.ceil( np.log(np.abs(x1-x0)/tol)/np.log(2) ).astype(int) # števil iteracij\n",
    "    for i in range(n):\n",
    "        x2 = (x0 + x1) / 2\n",
    "        if np.sign(fun(x2))!=np.sign(fun(x0)):\n",
    "            x1 = x2\n",
    "        else:\n",
    "            x0 = x2\n",
    "    if izpis:\n",
    "        print('Število iteracij: {:g}'.format(n))\n",
    "    return (x0+x1)/2"
   ]
  },
  {
   "cell_type": "markdown",
   "metadata": {
    "slideshow": {
     "slide_type": "subslide"
    }
   },
   "source": [
    "Sedaj poskusimo najti ničlo z natančnostjo `1e-3`:"
   ]
  },
  {
   "cell_type": "code",
   "execution_count": 14,
   "metadata": {
    "slideshow": {
     "slide_type": "-"
    }
   },
   "outputs": [
    {
     "name": "stdout",
     "output_type": "stream",
     "text": [
      "Število iteracij: 10\n"
     ]
    },
    {
     "data": {
      "text/plain": [
       "0.73486328125"
      ]
     },
     "execution_count": 14,
     "metadata": {},
     "output_type": "execute_result"
    }
   ],
   "source": [
    "bisekcija(f, 0, 1, tol=1e-3)"
   ]
  },
  {
   "cell_type": "markdown",
   "metadata": {},
   "source": [
    "V desetih iteracijah smo dobili isto natančen rezultat kakor zgoraj pri iterativni inkrementalni metodi:"
   ]
  },
  {
   "cell_type": "code",
   "execution_count": 15,
   "metadata": {},
   "outputs": [
    {
     "data": {
      "text/plain": [
       "array([ 0.734,  0.735])"
      ]
     },
     "execution_count": 15,
     "metadata": {},
     "output_type": "execute_result"
    }
   ],
   "source": [
    "rez30"
   ]
  },
  {
   "cell_type": "markdown",
   "metadata": {
    "slideshow": {
     "slide_type": "subslide"
    }
   },
   "source": [
    "Bisekcijsko metodo lahko naredimo bolj robustno na napake uporabe (tukaj gre predvsem izpostaviti preverjanje pola):"
   ]
  },
  {
   "cell_type": "code",
   "execution_count": 16,
   "metadata": {
    "collapsed": true
   },
   "outputs": [],
   "source": [
    "def bisekcija(fun, x0, x1, tol=1e-3, izpis=True):\n",
    "    \"\"\" Vrne ničlo z natančnostjo tol\n",
    "    \n",
    "    :param fun: funkcija katere ničlo iščemo\n",
    "    :param x0:  spodnja meja iskanja\n",
    "    :param x1:  zgornja meja iskanja\n",
    "    :param tol: zahtevana natančnost\n",
    "    :izpis:     ali na koncu izpiše kratko poročilo\n",
    "    \"\"\"\n",
    "    if np.sign(fun(x0))==np.sign(fun(x1)):\n",
    "        raise Exception('Ničla ni izolirana. Root is not bracketed.')\n",
    "    n = np.ceil( np.log(np.abs(x1-x0)/tol)/np.log(2) ).astype(int) # števil iteracij\n",
    "    for i in range(n):\n",
    "        x2 = (x0 + x1) / 2\n",
    "        f1 = fun(x0)\n",
    "        f3 = fun(x2)\n",
    "        f2 = fun(x1)\n",
    "        if np.abs(f3) > np.abs(f1) and np.abs(f3) > np.abs(f2):\n",
    "            raise Exception('Bisekcija ne konvergira, verjetnost pola ali več ničel.')\n",
    "        if np.sign(fun(x2))!=np.sign(fun(x0)):\n",
    "            x1 = x2\n",
    "        else:\n",
    "            x0 = x2\n",
    "    if izpis:\n",
    "        print('Število iteracij: {:g}'.format(n))\n",
    "    return (x0+x1)/2"
   ]
  },
  {
   "cell_type": "markdown",
   "metadata": {
    "slideshow": {
     "slide_type": "subslide"
    }
   },
   "source": [
    "Hitrost izvajanja lahko preverimo z t.i. *magic funkcijo* ``timeit`` ([dokumentacija](http://ipython.readthedocs.io/en/stable/interactive/magics.html#magic-timeit)), ki večkrat požene funkcijo in analizira čas izvajanja. Če je pred magic funkcijo dvojni odstotek ze izvede cela celica, če pa enojni, pa samo vrstica."
   ]
  },
  {
   "cell_type": "code",
   "execution_count": 17,
   "metadata": {
    "slideshow": {
     "slide_type": "subslide"
    }
   },
   "outputs": [
    {
     "name": "stdout",
     "output_type": "stream",
     "text": [
      "994 µs ± 23.3 µs per loop (mean ± std. dev. of 7 runs, 1000 loops each)\n"
     ]
    }
   ],
   "source": [
    "%%timeit\n",
    "bisekcija(f, 0., 1., izpis=False)"
   ]
  },
  {
   "cell_type": "markdown",
   "metadata": {
    "slideshow": {
     "slide_type": "subslide"
    }
   },
   "source": [
    "### Iskanje ničle v okolici pola\n",
    "Poglejmo sedaj iskanje ničle funkcije ``tan`` v okolici pola (ničla dejansko ne obstaja):"
   ]
  },
  {
   "cell_type": "code",
   "execution_count": 18,
   "metadata": {
    "slideshow": {
     "slide_type": "subslide"
    }
   },
   "outputs": [
    {
     "data": {
      "image/png": "[encoded data removed]",
      "text/plain": [
       "<matplotlib.figure.Figure at 0x270061f3828>"
      ]
     },
     "metadata": {},
     "output_type": "display_data"
    }
   ],
   "source": [
    "x_t = np.linspace(-3, 3, 100)\n",
    "plt.plot(x_t, np.tan(x_t), label='$\\\\tan(x)$')\n",
    "plt.ylim(-10, 10)\n",
    "plt.legend();"
   ]
  },
  {
   "cell_type": "markdown",
   "metadata": {
    "slideshow": {
     "slide_type": "subslide"
    }
   },
   "source": [
    "V primeru iskanja na intervalu $[-1, 1]$ najdemo pravo ničlo:"
   ]
  },
  {
   "cell_type": "code",
   "execution_count": 19,
   "metadata": {},
   "outputs": [
    {
     "name": "stdout",
     "output_type": "stream",
     "text": [
      "Število iteracij: 11\n"
     ]
    },
    {
     "data": {
      "text/plain": [
       "-0.00048828125"
      ]
     },
     "execution_count": 19,
     "metadata": {},
     "output_type": "execute_result"
    }
   ],
   "source": [
    "bisekcija(np.tan, -1, 1, tol=1e-3)"
   ]
  },
  {
   "cell_type": "markdown",
   "metadata": {
    "slideshow": {
     "slide_type": "subslide"
    }
   },
   "source": [
    "V primeru iskanja v okolici pola, pa nas program na to opozori:"
   ]
  },
  {
   "cell_type": "code",
   "execution_count": 20,
   "metadata": {
    "slideshow": {
     "slide_type": "-"
    }
   },
   "outputs": [],
   "source": [
    "# klic funkcije je tukaj zakomentiran, sicer se avtomatko generiranje ne izvede pravilno\n",
    "# bisekcija(np.tan, -3, 0, tol=1e-6)"
   ]
  },
  {
   "cell_type": "markdown",
   "metadata": {
    "slideshow": {
     "slide_type": "subslide"
    }
   },
   "source": [
    "V ``scipy`` vgrajena bisekcijska metoda takega preverjanja nima (zaradi hitrosti) in bo vrnila rezultat, ki bo pa napačen. Pri uporabi moramo torej biti previdni."
   ]
  },
  {
   "cell_type": "markdown",
   "metadata": {
    "slideshow": {
     "slide_type": "subslide"
    }
   },
   "source": [
    "## Uporaba ``scipy.optimize.bisect``"
   ]
  },
  {
   "cell_type": "markdown",
   "metadata": {},
   "source": [
    "Bisekcijska metoda je *počasna*, vendar zanesljiva metoda iskanja ničel in je implementirana znotraj ``scipy``, najprej jo uvozimo:"
   ]
  },
  {
   "cell_type": "code",
   "execution_count": 21,
   "metadata": {
    "collapsed": true
   },
   "outputs": [],
   "source": [
    "from scipy.optimize import bisect"
   ]
  },
  {
   "cell_type": "markdown",
   "metadata": {
    "slideshow": {
     "slide_type": "subslide"
    }
   },
   "source": [
    "``bisect(f, a, b, args=(), xtol=2e-12, rtol=8.8817841970012523e-16, maxiter=100, full_output=False, disp=True)``\n",
    "\n",
    "Funkcija `bisect` zahteva tri parametre: funkijo `f`, ter parametra `a` in `b`, ki definirata zaprti interval `[a, b]`; predznaka `f(a)` in `f(b)` morata biti različna. Ostali parametri, npr. absolutna `xtol` in relativna `rtol` napaka ter največje število iteracij `maxiter`, imajo privzete vrednosti; za več glejte [dokumentacijo](https://docs.scipy.org/doc/scipy/reference/generated/scipy.optimize.bisect.html)."
   ]
  },
  {
   "cell_type": "markdown",
   "metadata": {
    "slideshow": {
     "slide_type": "subslide"
    }
   },
   "source": [
    "Poglejmo uporabo:"
   ]
  },
  {
   "cell_type": "code",
   "execution_count": 22,
   "metadata": {},
   "outputs": [
    {
     "data": {
      "text/plain": [
       "0.7353515625"
      ]
     },
     "execution_count": 22,
     "metadata": {},
     "output_type": "execute_result"
    }
   ],
   "source": [
    "bisect(f, a=0, b=1, xtol=1e-3)"
   ]
  },
  {
   "cell_type": "markdown",
   "metadata": {
    "slideshow": {
     "slide_type": "subslide"
    }
   },
   "source": [
    "in hitrost:"
   ]
  },
  {
   "cell_type": "code",
   "execution_count": 23,
   "metadata": {},
   "outputs": [
    {
     "name": "stdout",
     "output_type": "stream",
     "text": [
      "199 µs ± 9.24 µs per loop (mean ± std. dev. of 7 runs, 1000 loops each)\n"
     ]
    }
   ],
   "source": [
    "%timeit bisect(f, 0, 1, xtol=1e-3)"
   ]
  },
  {
   "cell_type": "markdown",
   "metadata": {
    "slideshow": {
     "slide_type": "-"
    }
   },
   "source": [
    "Ugotovimo, da *naša* implementacija bisekcijske metode približno 5-krat počasnejša."
   ]
  },
  {
   "cell_type": "markdown",
   "metadata": {
    "slideshow": {
     "slide_type": "subslide"
    }
   },
   "source": [
    "Preverimo še lahko funkcijo `tan(x)`, najprej na intervalu, kjer je funkcija zvezna:"
   ]
  },
  {
   "cell_type": "code",
   "execution_count": 24,
   "metadata": {},
   "outputs": [
    {
     "data": {
      "text/plain": [
       "0.0"
      ]
     },
     "execution_count": 24,
     "metadata": {},
     "output_type": "execute_result"
    }
   ],
   "source": [
    "bisect(np.tan, -1, 1)"
   ]
  },
  {
   "cell_type": "markdown",
   "metadata": {
    "slideshow": {
     "slide_type": "subslide"
    }
   },
   "source": [
    "In potem še v okolici pola, kjer ni zvezna:"
   ]
  },
  {
   "cell_type": "code",
   "execution_count": 25,
   "metadata": {},
   "outputs": [
    {
     "data": {
      "text/plain": [
       "-1.5707963267941523"
      ]
     },
     "execution_count": 25,
     "metadata": {},
     "output_type": "execute_result"
    }
   ],
   "source": [
    "bisect(np.tan, -3, -1)"
   ]
  },
  {
   "cell_type": "markdown",
   "metadata": {},
   "source": [
    "Kar je napačna rešitev!"
   ]
  },
  {
   "cell_type": "markdown",
   "metadata": {
    "slideshow": {
     "slide_type": "slide"
    }
   },
   "source": [
    "# Sekantna metoda"
   ]
  },
  {
   "cell_type": "markdown",
   "metadata": {},
   "source": [
    "Sekantna metoda zahteva dve začetni vrednosti $f(x_0)$ in $f(x_1)$. Ob predpostavki linearne interpolacije med točkama 0 in 1 (skozi točki potegnemo *sekanto*, od tukaj tudi ime), se določi točka $x_2$, kjer ima linearna funkcija ničlo. $x_2$ predstavlja nov približek ničle.\n",
    "\n",
    "Glede na sliko:\n",
    "<img src='./fig/sekantna.png' width=400>"
   ]
  },
  {
   "cell_type": "markdown",
   "metadata": {
    "slideshow": {
     "slide_type": "subslide"
    }
   },
   "source": [
    "lahko zapišemo (podobna trikotnika sta na sliki označena z rumeno):\n",
    "$$\\frac{f(x_1)}{x_2 − x_1}= \\frac{f(x_0) − f(x_1)}{x_1 − x_0}.$$\n",
    "Sledi, da je novi približek ničle:\n",
    "$$x_2= x_1+f(x_1)\\,\\frac{x_1 − x_0}{f(x_0) − f(x_1)}.$$\n",
    "V naslednjem koraku pri sekantni metodi izvedemo sledeče zamenjave $x_0=x_1$ in $x_1=x_2$."
   ]
  },
  {
   "cell_type": "markdown",
   "metadata": {},
   "source": [
    "Sekantna metoda spada med *odprte* metode, saj lahko najde ničlo funkcije, ki se nahaja zunaj območja $[x_1, x_2]$."
   ]
  },
  {
   "cell_type": "markdown",
   "metadata": {
    "slideshow": {
     "slide_type": "subslide"
    }
   },
   "source": [
    "Opomba: približek odvoda lahko izračunamo tako:\n",
    "$$f'(x_1)\\approx\\frac{f(x_1) − f(x_0)}{x_1 − x_0},$$\n",
    "sledi, da lahko novi približek ničle zapišemo kot:\n",
    "$$x_2= x_1-\\frac{f(x_1)}{f'(x_1)}.$$\n",
    "Pozneje bomo spoznali Newtonovo metodo, ki temelji ravno na znanem prvem odvodu $f'(x_1)$."
   ]
  },
  {
   "cell_type": "markdown",
   "metadata": {},
   "source": [
    "## Ocena napake\n",
    "\n",
    "Konzervativno lahko napako ocenimo iz razlike med dvema zaporednima korakoma:\n",
    "$$\\varepsilon = \\left|x_{n-1} -x_{n}\\right|$$"
   ]
  },
  {
   "cell_type": "markdown",
   "metadata": {
    "slideshow": {
     "slide_type": "subslide"
    }
   },
   "source": [
    "## Konvergenca in red konvergence"
   ]
  },
  {
   "cell_type": "markdown",
   "metadata": {},
   "source": [
    "Tukaj konvergence ne moremo natančno oceniti, lahko pa ocenimo **red konvergence**. \n",
    "\n",
    "Najprej spoznajmo termin *red konvergence*: če z $\\varepsilon$ označimo napako metode in če bi z vsakim korakom iteracije napako linearno zmanjševali, bi to zapisali:\n",
    "$$\\varepsilon_n = C\\,\\varepsilon_{n-1}^1,$$\n",
    "kjer bi bila $C$ konstanta, napaka $\\varepsilon$ bi pa imela potenco 1; posledično je red konvergence 1!\n",
    "\n",
    "Pri predhodno obravnavani bisekcijski metodi napako na vsakem koraku zmanjšamo za $1/2$ ($\\varepsilon_n/\\varepsilon_{n-1} = C = 1/2$). *Bisekcijska metoda ima red konvergence 1.* "
   ]
  },
  {
   "cell_type": "markdown",
   "metadata": {
    "slideshow": {
     "slide_type": "subslide"
    }
   },
   "source": [
    "Red konvergence *sekantne metode je višji* in jo je mogoče oceniti z: \n",
    "$$\\varepsilon_n = C\\,\\varepsilon_{n-1}^{1.618}.$$\n",
    "\n",
    "Ker je red konvegence višji od 1 in manjši od kvadratične, jo imenujemo *superlinearna* konvergenca.\n",
    "\n",
    "Še boljšo (kvadratično) konvergenco ima t. i. *Ridderjeva* metoda. Ridderjeva metoda je implementirana v paket ``scipy`` (glejte [dokumentacijo](https://docs.scipy.org/doc/scipy/reference/generated/scipy.optimize.ridder.html)) in je zaprtega tipa ter sorodna sekantni metodi, kljub uporabnosti, si je tukaj ne bomo podrobno ogledali."
   ]
  },
  {
   "cell_type": "markdown",
   "metadata": {
    "slideshow": {
     "slide_type": "subslide"
    }
   },
   "source": [
    "## Numerična implementacija"
   ]
  },
  {
   "cell_type": "code",
   "execution_count": 26,
   "metadata": {
    "collapsed": true
   },
   "outputs": [],
   "source": [
    "def sekantna(fun, x0, x1, tol=1e-3, max_iter=50, izpis=True):\n",
    "    \"\"\" Vrne ničlo z natančnostjo tol\n",
    "    \n",
    "    :param fun: funkcija katere ničlo iščemo\n",
    "    :param x0:  spodnja meja iskanja\n",
    "    :param x1:  zgornja meja iskanja\n",
    "    :param tol: zahtevana natančnost\n",
    "    :max_iter:  maksimalno število iteracij preden se izvajanje prekine\n",
    "    :izpis:     ali na koncu izpiše kratko poročilo\n",
    "    \"\"\"\n",
    "    for i in range(max_iter):\n",
    "        f1 = fun(x0)\n",
    "        f2 = fun(x1)\n",
    "        x3 = x1 + f2 * (x1 - x0)/(f1 - f2)\n",
    "        x0 = x1\n",
    "        x1 = x3\n",
    "        if izpis:\n",
    "            print('{:g}. korak: x0={:g}, x1={:g}.'.format(i+1, x0, x1))\n",
    "        if np.abs(x1-x0)<tol:\n",
    "            if izpis:\n",
    "                print('Število iteracij: {:g}'.format(i+1))\n",
    "            return (x0+x1)/2\n",
    "    raise Exception('Metoda po {:g} iteracijah ne konvergira'.format(max_iter))"
   ]
  },
  {
   "cell_type": "markdown",
   "metadata": {
    "slideshow": {
     "slide_type": "subslide"
    }
   },
   "source": [
    "Poglejmo si uporabo:"
   ]
  },
  {
   "cell_type": "code",
   "execution_count": 27,
   "metadata": {
    "slideshow": {
     "slide_type": "-"
    }
   },
   "outputs": [
    {
     "data": {
      "text/plain": [
       "0.73460350779106676"
      ]
     },
     "execution_count": 27,
     "metadata": {},
     "output_type": "execute_result"
    }
   ],
   "source": [
    "sekantna(f, 0, 1., tol=1.e-8, izpis=False)"
   ]
  },
  {
   "cell_type": "markdown",
   "metadata": {},
   "source": [
    "In hitrost"
   ]
  },
  {
   "cell_type": "code",
   "execution_count": 28,
   "metadata": {},
   "outputs": [
    {
     "name": "stdout",
     "output_type": "stream",
     "text": [
      "260 µs ± 8.45 µs per loop (mean ± std. dev. of 7 runs, 1000 loops each)\n"
     ]
    }
   ],
   "source": [
    "%timeit sekantna(f, 0, 1., tol=1.e-8, izpis=False)"
   ]
  },
  {
   "cell_type": "markdown",
   "metadata": {
    "slideshow": {
     "slide_type": "subslide"
    }
   },
   "source": [
    "Kakor smo zapisali zgoraj, je sekantna metoda odprtega tipa in repitev je lahko zunaj podanega intervala, poglejmo si primer:"
   ]
  },
  {
   "cell_type": "code",
   "execution_count": 29,
   "metadata": {},
   "outputs": [
    {
     "name": "stdout",
     "output_type": "stream",
     "text": [
      "1. korak: x0=2, x1=1.41615.\n",
      "2. korak: x0=1.41615, x1=1.85165.\n",
      "3. korak: x0=1.85165, x1=1.69887.\n",
      "4. korak: x0=1.69887, x1=1.97485.\n",
      "5. korak: x0=1.97485, x1=2.09379.\n",
      "6. korak: x0=2.09379, x1=2.43519.\n",
      "7. korak: x0=2.43519, x1=2.76579.\n",
      "8. korak: x0=2.76579, x1=3.05013.\n",
      "9. korak: x0=3.05013, x1=3.13625.\n",
      "10. korak: x0=3.13625, x1=3.14158.\n",
      "11. korak: x0=3.14158, x1=3.14159.\n",
      "Število iteracij: 11\n"
     ]
    },
    {
     "data": {
      "text/plain": [
       "3.1415847621522568"
      ]
     },
     "execution_count": 29,
     "metadata": {},
     "output_type": "execute_result"
    }
   ],
   "source": [
    "sekantna(np.tan, 1, 2)"
   ]
  },
  {
   "cell_type": "markdown",
   "metadata": {
    "slideshow": {
     "slide_type": "subslide"
    }
   },
   "source": [
    "## Uporaba ``scipy.optimize.newton``"
   ]
  },
  {
   "cell_type": "markdown",
   "metadata": {},
   "source": [
    "Znotraj ``scipy`` je sekantna metoda definirana v okviru ``scipy.optimize.newton`` funkcije; če namreč ne podamo funkcije, ki definira prvi odvod, potem je uporabljena sekantna metoda (glejte [dokumentacijo](https://docs.scipy.org/doc/scipy/reference/generated/scipy.optimize.newton.html)).\n",
    "\n",
    "Najprej jo uvozimo:"
   ]
  },
  {
   "cell_type": "code",
   "execution_count": 30,
   "metadata": {
    "collapsed": true,
    "slideshow": {
     "slide_type": "subslide"
    }
   },
   "outputs": [],
   "source": [
    "from scipy.optimize import newton"
   ]
  },
  {
   "cell_type": "markdown",
   "metadata": {
    "slideshow": {
     "slide_type": "-"
    }
   },
   "source": [
    "``newton(func, x0, fprime=None, args=(), tol=1.48e-08, maxiter=50, fprime2=None)``\n",
    "\n",
    "Funkcija `newton` zahteva dva parametra: funkcijo `func`, ter začetno vrednost `x0`. Opcijska parametra sta še `fprime` in `fprime2` za prvi in drugi odvod funkcije `func`; če nista podana, se uporabi sekantna metoda (več o odvodih spodaj pri Nwetonovi metodi); največje število iteracij definira `maxiter`."
   ]
  },
  {
   "cell_type": "markdown",
   "metadata": {
    "slideshow": {
     "slide_type": "subslide"
    }
   },
   "source": [
    "Poglejmo si uporabo:"
   ]
  },
  {
   "cell_type": "code",
   "execution_count": 31,
   "metadata": {
    "slideshow": {
     "slide_type": "-"
    }
   },
   "outputs": [
    {
     "data": {
      "text/plain": [
       "0.73460350778930017"
      ]
     },
     "execution_count": 31,
     "metadata": {},
     "output_type": "execute_result"
    }
   ],
   "source": [
    "newton(f, x0=0.1, tol=1.e-8)"
   ]
  },
  {
   "cell_type": "markdown",
   "metadata": {},
   "source": [
    "In hitrost"
   ]
  },
  {
   "cell_type": "code",
   "execution_count": 32,
   "metadata": {},
   "outputs": [
    {
     "name": "stdout",
     "output_type": "stream",
     "text": [
      "230 µs ± 71.4 µs per loop (mean ± std. dev. of 7 runs, 1000 loops each)\n"
     ]
    }
   ],
   "source": [
    "%timeit newton(f, x0=0.1, tol=1.e-8)"
   ]
  },
  {
   "cell_type": "markdown",
   "metadata": {
    "slideshow": {
     "slide_type": "-"
    }
   },
   "source": [
    "Ugotovimo, da naša implementacija sekantne metode približno podobno hitra."
   ]
  },
  {
   "cell_type": "markdown",
   "metadata": {
    "slideshow": {
     "slide_type": "subslide"
    }
   },
   "source": [
    "Uporabimo še metodo ``ridder``:"
   ]
  },
  {
   "cell_type": "code",
   "execution_count": 33,
   "metadata": {},
   "outputs": [
    {
     "data": {
      "text/plain": [
       "0.7346035077883111"
      ]
     },
     "execution_count": 33,
     "metadata": {},
     "output_type": "execute_result"
    }
   ],
   "source": [
    "from scipy.optimize import ridder\n",
    "ridder(f, 0, 1)"
   ]
  },
  {
   "cell_type": "markdown",
   "metadata": {
    "slideshow": {
     "slide_type": "slide"
    }
   },
   "source": [
    "# Newton metoda"
   ]
  },
  {
   "cell_type": "markdown",
   "metadata": {
    "slideshow": {
     "slide_type": "subslide"
    }
   },
   "source": [
    "**Newtonova** (ali tudi **tangentna** ali **Newton-Raphsonova** metoda) naj bi bila najboljša metoda iskanja ničel. Potrebuje samo en začetni približel $x_0$, in poleg definicije funkcije $f(x)$ tudi njen odvod $f'(x)$, je hitra in preprosta; vendar pa ima slabost: odvod funkcije $f'(x)$ mnogokrat ni na razpolago.\n",
    "\n",
    "Princip metode je prikazan na sliki:\n",
    "<img src=\"./fig/newtonova.png\" width=400>"
   ]
  },
  {
   "cell_type": "markdown",
   "metadata": {
    "slideshow": {
     "slide_type": "subslide"
    }
   },
   "source": [
    "Metodo bi lahko izpeljali grafično, iz  slike; tukaj pa si pogljemo izpeljavo s pomočjo Taylorjeve vrste:\n",
    "$$f(x_{i+1})=f(x_i)+f'(x_i)\\,\\left(x_{i+1}-x_i\\right)+O^2\\left(x_{i+1}-x_i\\right),$$\n",
    "če naj bo pri $x_{i+1}$ vrednost funkcije nič, potem velja:\n",
    "$$0=f(x_i)+f'(x_i)\\,\\left(x_{i+1}-x_i\\right)+O^2\\left(x_{i+1}-x_i\\right).$$"
   ]
  },
  {
   "cell_type": "markdown",
   "metadata": {
    "slideshow": {
     "slide_type": "subslide"
    }
   },
   "source": [
    "Naredimo napako metode in zanemarimo člene višjega reda v Taylorjevi vrsti. Lahko izpeljemo:\n",
    "$$x_{i+1}=x_i-\\frac{f(x_i)}{f'(x_i)}.$$\n",
    "\n",
    "$x_{i+1}$ je novi približek. "
   ]
  },
  {
   "cell_type": "markdown",
   "metadata": {
    "slideshow": {
     "slide_type": "subslide"
    }
   },
   "source": [
    "Algoritem Newtonove metode je:\n",
    "1. izračunamo novi približek $x_{i+1}$,\n",
    "* izvajanje prekinemo, če je največje število iteracije doseženo,\n",
    "* če velja $\\left|x_{i+1}-x_i\\right|<\\varepsilon$ izvajanje prekinemo (našli so smo približek ničle), sicer povečamo indeks $i$ in gremo v prvi korak.\n",
    "\n",
    "\n",
    "Opombi:\n",
    "* $\\varepsilon$ je zahtevana absolutna natančnost,\n",
    "* *Newtonova* metoda lahko divergira, zato v algoritmu predpišemo največje število iteracij."
   ]
  },
  {
   "cell_type": "markdown",
   "metadata": {},
   "source": [
    "Zgoraj smo omenili, da je metoda ena izmed boljših metod za iskanje ničel funkcij. Ima pa tudi nekaj slabosti/omejitev:\n",
    "* spada med *odprte* metode, \n",
    "* konvergenca je zagotovljena le v dovolj majhni okolici rešitve,\n",
    "* treba je poznati odvod funkcije."
   ]
  },
  {
   "cell_type": "markdown",
   "metadata": {
    "slideshow": {
     "slide_type": "subslide"
    }
   },
   "source": [
    "## Red konvegence"
   ]
  },
  {
   "cell_type": "markdown",
   "metadata": {},
   "source": [
    "Red konvergence Newtonove metode je kvadraten: \n",
    "$$\\varepsilon_n = C\\,\\varepsilon_{n-1}^{2},$$\n",
    "kjer je konstanta:\n",
    "$$C=-\\frac{f''(x)}{2\\,f'(x)}.$$"
   ]
  },
  {
   "cell_type": "markdown",
   "metadata": {
    "slideshow": {
     "slide_type": "subslide"
    }
   },
   "source": [
    "Konvergenca je torej hitra, v vsaki novi iteraciji se število točnih števk v približku podvoji."
   ]
  },
  {
   "cell_type": "markdown",
   "metadata": {
    "slideshow": {
     "slide_type": "subslide"
    }
   },
   "source": [
    "## Numerična implementacija"
   ]
  },
  {
   "cell_type": "code",
   "execution_count": 34,
   "metadata": {
    "collapsed": true
   },
   "outputs": [],
   "source": [
    "def newtonova(fun, dfun, x0, tol=1e-3, max_iter=50, izpis=True): \n",
    "    # ime `newtonova` zato ker je `newton` vgrajena funkcija v `scipy`\n",
    "    \"\"\" Vrne ničlo z natančnostjo tol\n",
    "    \n",
    "    :param fun:  funkcija katere ničlo iščemo\n",
    "    :param dfun: f'\n",
    "    :param x0:   začetni približek\n",
    "    :param tol:  zahtevana natančnost\n",
    "    :max_iter:  maksimalno število iteracij preden se izvajanje prekine\n",
    "    :izpis:     ali na koncu izpiše kratko poročilo\n",
    "    \"\"\"\n",
    "    for i in range(max_iter):\n",
    "        x1 = x0 - fun(x0)/dfun(x0)\n",
    "        if np.abs(x1-x0)<tol:\n",
    "            if izpis:\n",
    "                print('Število iteracij: {:g}'.format(i))\n",
    "            return x1\n",
    "        x0 = x1\n",
    "    raise Exception('Metoda po {:g} iteracijah ne konvergira'.format(max_iter))"
   ]
  },
  {
   "cell_type": "markdown",
   "metadata": {
    "slideshow": {
     "slide_type": "subslide"
    }
   },
   "source": [
    "Spomnimo se koeficientov polinoma `f`:"
   ]
  },
  {
   "cell_type": "code",
   "execution_count": 35,
   "metadata": {
    "slideshow": {
     "slide_type": "-"
    }
   },
   "outputs": [
    {
     "data": {
      "text/plain": [
       "array([  1, -10,   0,   5])"
      ]
     },
     "execution_count": 35,
     "metadata": {},
     "output_type": "execute_result"
    }
   ],
   "source": [
    "f.coef"
   ]
  },
  {
   "cell_type": "markdown",
   "metadata": {},
   "source": [
    "Istanca `poly1d` ima tudi metodo za izračun odvodov ([dokumentacija](https://docs.scipy.org/doc/numpy/reference/generated/numpy.poly1d.html)),"
   ]
  },
  {
   "cell_type": "code",
   "execution_count": 36,
   "metadata": {},
   "outputs": [
    {
     "data": {
      "text/plain": [
       "poly1d([  3, -20,   0])"
      ]
     },
     "execution_count": 36,
     "metadata": {},
     "output_type": "execute_result"
    }
   ],
   "source": [
    "df = f.deriv(1) # prvi odvod\n",
    "df"
   ]
  },
  {
   "cell_type": "markdown",
   "metadata": {
    "slideshow": {
     "slide_type": "subslide"
    }
   },
   "source": [
    "Izračunajmo sedaj ničlo:"
   ]
  },
  {
   "cell_type": "code",
   "execution_count": 37,
   "metadata": {},
   "outputs": [
    {
     "name": "stdout",
     "output_type": "stream",
     "text": [
      "Število iteracij: 4\n"
     ]
    },
    {
     "data": {
      "text/plain": [
       "0.73460350778930328"
      ]
     },
     "execution_count": 37,
     "metadata": {},
     "output_type": "execute_result"
    }
   ],
   "source": [
    "newtonova(f, df, 1, tol=1e-8)"
   ]
  },
  {
   "cell_type": "markdown",
   "metadata": {},
   "source": [
    "In preverimo hitrost izvajanja:"
   ]
  },
  {
   "cell_type": "code",
   "execution_count": 38,
   "metadata": {
    "slideshow": {
     "slide_type": "-"
    }
   },
   "outputs": [
    {
     "name": "stdout",
     "output_type": "stream",
     "text": [
      "193 µs ± 8.66 µs per loop (mean ± std. dev. of 7 runs, 10000 loops each)\n"
     ]
    }
   ],
   "source": [
    "%timeit newtonova(f, df, 1, tol=1e-8, izpis=False)"
   ]
  },
  {
   "cell_type": "markdown",
   "metadata": {
    "slideshow": {
     "slide_type": "subslide"
    }
   },
   "source": [
    "## Uporaba ``scipy.optimize.newton``"
   ]
  },
  {
   "cell_type": "markdown",
   "metadata": {},
   "source": [
    "Znotraj ``scipy`` je Newtonova metoda definirana v okviru ``scipy.optimize.newton`` funkcije, ki smo jo že spoznali zgoraj pri sekantni metodi (glejte [dokumentacijo](https://docs.scipy.org/doc/scipy/reference/generated/scipy.optimize.newton.html))."
   ]
  },
  {
   "cell_type": "markdown",
   "metadata": {},
   "source": [
    "``newton(func, x0, fprime=None, args=(), tol=1.48e-08, maxiter=50, fprime2=None)``\n",
    "\n",
    "Če v funkcijo `newton` poleg funkcije `func` in začetne vrednosti `x0` podamo tudi prvi odvod `fprime`, se dejansko uporabi Newtonova metoda; če podamo tudi drugi odvod `fprime2` se uporabi Halleyeva metoda.\n",
    "\n",
    "Poglejmo si primer:"
   ]
  },
  {
   "cell_type": "code",
   "execution_count": 39,
   "metadata": {},
   "outputs": [
    {
     "data": {
      "text/plain": [
       "0.73460350778930328"
      ]
     },
     "execution_count": 39,
     "metadata": {},
     "output_type": "execute_result"
    }
   ],
   "source": [
    "newton(f, 1., df)"
   ]
  },
  {
   "cell_type": "code",
   "execution_count": 40,
   "metadata": {},
   "outputs": [
    {
     "name": "stdout",
     "output_type": "stream",
     "text": [
      "175 µs ± 15.4 µs per loop (mean ± std. dev. of 7 runs, 10000 loops each)\n"
     ]
    }
   ],
   "source": [
    "%timeit newton(f, 1, df)"
   ]
  },
  {
   "cell_type": "markdown",
   "metadata": {
    "slideshow": {
     "slide_type": "subslide"
    }
   },
   "source": [
    "Tukaj je priložnost, da izpostavimo popolnoma enak rezultat `scipy` paketa kakor ga je dala naša implementacija, ki smo jo poimenovali `newtonova`. Ker je `scipy` odprtokoden, je pri [dokumentaciji](https://docs.scipy.org/doc/scipy/reference/generated/scipy.optimize.newton.html) tudi povezava na [izvorno kodo](https://github.com/scipy/scipy/blob/v0.19.1/scipy/optimize/zeros.py#L131), ki je zelo podobna predstavljeni tukaj (dodane je nekaj posploitve in preverjanje deljenja z 0)"
   ]
  },
  {
   "cell_type": "markdown",
   "metadata": {
    "slideshow": {
     "slide_type": "slide"
    }
   },
   "source": [
    "# Reševanje nelinarnih sistemov enačb"
   ]
  },
  {
   "cell_type": "markdown",
   "metadata": {},
   "source": [
    "Rešujemo sistem enačb, ki ga v vektorski obliki zapišemo takole:\n",
    "$$\\mathbf{f}(\\mathbf{x})=\\mathbf{0}.$$\n",
    "V skalarni obliki zgornji vektorski izraz zapišemo:\n",
    "$$\\begin{array}{rcl}\n",
    "f_0(x_0,x_1,\\dots, x_{n-1})&=&0\\\\\n",
    "f_1(x_0,x_1,\\dots, x_{n-1})&=&0\\\\\n",
    "&\\vdots&\\\\\n",
    "f_{n-1}(x_0,x_1,\\dots, x_{n-1})&=&0.\\\\\n",
    "\\end{array}$$"
   ]
  },
  {
   "cell_type": "markdown",
   "metadata": {
    "slideshow": {
     "slide_type": "subslide"
    }
   },
   "source": [
    "Reševanje sistema $n$ nelinearnih enačb je bistveno bolj zahtevno kot reševanje ene same nelinearne enačbe. Tak sistem enačb ima lahko več rešitev in katero najdemo, je odvisno od začetnih pogojev. Ponavadi nam pri dobri izbiri začetnih pogojev pomaga fizikalni problem, ki ga rešujemo."
   ]
  },
  {
   "cell_type": "markdown",
   "metadata": {
    "slideshow": {
     "slide_type": "subslide"
    }
   },
   "source": [
    "Za računanje rešitve sistema enačb se *Newtonova* metoda izkaže kot najenostavneša in pogosto tudi najboljša (obstajajo tudi druge metode, ki pa so velikokrat variacije Newtonove metode).\n",
    "\n",
    "Podobno kot pri izpeljavi Newtonove metode za reševanje ene enačbe, tudi tukaj začnemo z razvojem funkcije $f_i$ v Taylorjevo vrsto:\n",
    "$$f_i(\\mathbf{x}+\\Delta \\mathbf{x})=f_i(\\mathbf{x})+\\sum_{j=1}^n \\frac{\\partial f_i}{\\partial x_j}\\,\\Delta x_j+O^2(\\mathbf{\\Delta x}).$$"
   ]
  },
  {
   "cell_type": "markdown",
   "metadata": {
    "slideshow": {
     "slide_type": "subslide"
    }
   },
   "source": [
    "Naredimo napako metode, ko zanemarimo člene drugega in višjih redov ter zapišemo izraz v matrični obliki:\n",
    "$$\\mathbf{f}(\\mathbf{x}+\\Delta \\mathbf{x})=\\mathbf{f}(\\mathbf{x})+\\mathbf{J}(\\mathbf{x})\\,\\Delta \\mathbf{x},$$\n",
    "kjer je $\\mathbf{J}(\\mathbf{x})$ *Jakobijeva* matrika pri vrednostih $\\mathbf{x}$. Elementi Jakobijeve matrike so: \n",
    "$$J_{ij}=\\frac{\\partial f_i}{\\partial x_j}.$$"
   ]
  },
  {
   "cell_type": "markdown",
   "metadata": {
    "slideshow": {
     "slide_type": "subslide"
    }
   },
   "source": [
    "Če naj bo $\\mathbf{x}+\\Delta \\mathbf{x}$ rešitev sistema enačb, mora veljati:\n",
    "$$\\mathbf{0}=\\mathbf{f}(\\mathbf{x})+\\mathbf{J}(\\mathbf{x})\\,\\Delta \\mathbf{x}$$\n",
    "in torej sledi:\n",
    "$$\\underbrace{\\mathbf{J}(\\mathbf{x})}_{\\mathbf{A}}\\,\\underbrace{\\Delta \\mathbf{x}}_{\\mathbf{x}}=\\underbrace{-\\mathbf{f}(\\mathbf{x})}_{\\mathbf{b}}.$$"
   ]
  },
  {
   "cell_type": "markdown",
   "metadata": {
    "slideshow": {
     "slide_type": "subslide"
    }
   },
   "source": [
    "Izpeljali smo sistem linearnih enačb ($\\mathbf{A}\\,\\mathbf{x}=\\mathbf{b}$), kjer je vektor neznank $\\Delta\\mathbf{x}$.\n",
    "\n",
    "Opomba: analitično računanje Jakobijeve matrike je lahko zamudno in zato jo pogosto približno izračunamo kar numerično:\n",
    "$$\\frac{\\partial f_i}{\\partial x_j}\\approx\n",
    "\\frac{f_i(\\mathbf{x}+\\mathbf{e}_j\\,h)-f_i(\\mathbf{x})}{h},$$\n",
    "kjer je $h$ majhen premik in je $\\mathbf{e}_j$ enotski pomik v smeri $x_j$."
   ]
  },
  {
   "cell_type": "markdown",
   "metadata": {},
   "source": [
    "Pri numeričnem izračunu si lahko pomagamo s funkcijo ``scipy.optimize.approx_fprime``, za podrobnosti glejte [dokumentacijo](https://docs.scipy.org/doc/scipy/reference/generated/scipy.optimize.approx_fprime.html)."
   ]
  },
  {
   "cell_type": "markdown",
   "metadata": {
    "slideshow": {
     "slide_type": "subslide"
    }
   },
   "source": [
    "## Numerična implementacija"
   ]
  },
  {
   "cell_type": "markdown",
   "metadata": {
    "slideshow": {
     "slide_type": "subslide"
    }
   },
   "source": [
    "Algoritem torej je:\n",
    "\n",
    "1. Izberemo začetni približek $\\mathbf{x}_0$, največje število iteracij in postavimo indeks na nič: $i=0$,\n",
    "* Izračunamo Jakobijevo matriko $\\mathbf{J}(\\mathbf{x_i})$ in rešimo linearni sistem: $\\underbrace{\\mathbf{J}(\\mathbf{x}_i)}_{\\mathbf{A}}\\,\\underbrace{\\Delta \\mathbf{x}_i}_{\\mathbf{x}}=\\underbrace{-\\mathbf{f}(\\mathbf{x}_i)}_{\\mathbf{b}}$,\n",
    "* Izračunamo novi približek: $\\mathbf{x}_{i+1}=\\mathbf{x}_{i}+\\Delta\\mathbf{x}_i$\n",
    "* Če je napaka manjša od zahtevane se postopek prekine*. Postopek prekinemo, če je število iteracij večje od dovoljenega, sicer povečamo indeks $i=i+1$ in se vrnemo v korak 2. \n",
    "\n",
    "\\* Opomba:\n",
    "\n",
    "Kriterij za napako se lahko razlikuje; pogosto se uporabi vsota relativnih napak $$\\sum_j^{n-1}\\left|\\frac{x_{i,j}-x_{i-1,j}}{x_{i,j}}\\right|<\\varepsilon.$$\n",
    "Kjer je $i$ indeks iteracije in $j$ indeks elementa."
   ]
  },
  {
   "cell_type": "markdown",
   "metadata": {
    "slideshow": {
     "slide_type": "subslide"
    }
   },
   "source": [
    "## Uporaba ``scipy.optimize.root``"
   ]
  },
  {
   "cell_type": "markdown",
   "metadata": {},
   "source": [
    "Funkcija ``scipy.optimize.root`` ima obsežnod [dokumentacijo](https://docs.scipy.org/doc/scipy/reference/generated/scipy.optimize.root.html) in omogoča večje število različnih pristopov:\n",
    "\n",
    "``root(fun, x0, args=(), method='hybr', jac=None, tol=None, callback=None, options=None)``"
   ]
  },
  {
   "cell_type": "markdown",
   "metadata": {},
   "source": [
    "Če uporabimo privzete parametre, moramo definirati zgolj vektorsko funkcijo `fun` in začetno vrednost `x0`.\n",
    "\n",
    "Uvozimo funkcijo:"
   ]
  },
  {
   "cell_type": "code",
   "execution_count": 41,
   "metadata": {
    "collapsed": true
   },
   "outputs": [],
   "source": [
    "from scipy.optimize import root"
   ]
  },
  {
   "cell_type": "markdown",
   "metadata": {
    "slideshow": {
     "slide_type": "subslide"
    }
   },
   "source": [
    "in si poglejmo uporabo na zgledu (gre za zgled na str. 76, Jože Petrišič, Reševanje enačb, 1996, FS, UNI-LJ):\n",
    "$$f_0(\\mathbf{x})=x_0^2+x_0\\,x_1-10=0,$$\n",
    "$$f_1(\\mathbf{x})=x_1+3\\,x_0\\,x_1^2-57=0,$$\n",
    "kjer je vektor $\\mathbf{x}=[x_0, x_1]$."
   ]
  },
  {
   "cell_type": "markdown",
   "metadata": {
    "slideshow": {
     "slide_type": "subslide"
    }
   },
   "source": [
    "Najprej definirajmo python funkcijo, ki vrne seznam rezultatov funkcij $[f_0(\\mathbf{x}),f_1(\\mathbf{x})]$:"
   ]
  },
  {
   "cell_type": "code",
   "execution_count": 42,
   "metadata": {
    "collapsed": true
   },
   "outputs": [],
   "source": [
    "def func(x):\n",
    "    return [x[0]**2 + x[0]*x[1] -10,\n",
    "            x[1] +3*x[0]*x[1]**2 - 57]"
   ]
  },
  {
   "cell_type": "markdown",
   "metadata": {},
   "source": [
    "Uporabimo začetne vrednosti $x_0=1.5$ in $x_1=3.5$ ter rešimo problem:"
   ]
  },
  {
   "cell_type": "code",
   "execution_count": 43,
   "metadata": {
    "slideshow": {
     "slide_type": "subslide"
    }
   },
   "outputs": [
    {
     "data": {
      "text/plain": [
       "    fjac: array([[-0.22347867, -0.97470882],\n",
       "       [ 0.97470882, -0.22347867]])\n",
       "     fun: array([ -6.97397695e-12,   3.14770432e-11])\n",
       " message: 'The solution converged.'\n",
       "    nfev: 12\n",
       "     qtf: array([ -2.83570752e-08,  -1.32374861e-08])\n",
       "       r: array([-29.5411495 , -37.81581597,  -6.93953533])\n",
       "  status: 1\n",
       " success: True\n",
       "       x: array([ 2.,  3.])"
      ]
     },
     "execution_count": 43,
     "metadata": {},
     "output_type": "execute_result"
    }
   ],
   "source": [
    "rešitev = root(func, [1.5, 3.5])\n",
    "rešitev"
   ]
  },
  {
   "cell_type": "markdown",
   "metadata": {
    "slideshow": {
     "slide_type": "subslide"
    }
   },
   "source": [
    "Funkcija `root` vrne obsežen rezultat; najbolj pomembna sta atribut `x`, ki predstavlja rešitev in atribut `success`, ki predstavlja ali je rešitev konvergirala:"
   ]
  },
  {
   "cell_type": "code",
   "execution_count": 44,
   "metadata": {},
   "outputs": [
    {
     "data": {
      "text/plain": [
       "array([ 2.,  3.])"
      ]
     },
     "execution_count": 44,
     "metadata": {},
     "output_type": "execute_result"
    }
   ],
   "source": [
    "rešitev.x"
   ]
  },
  {
   "cell_type": "code",
   "execution_count": 45,
   "metadata": {},
   "outputs": [
    {
     "data": {
      "text/plain": [
       "True"
      ]
     },
     "execution_count": 45,
     "metadata": {},
     "output_type": "execute_result"
    }
   ],
   "source": [
    "rešitev.success"
   ]
  },
  {
   "cell_type": "markdown",
   "metadata": {
    "slideshow": {
     "slide_type": "slide"
    }
   },
   "source": [
    "# Nekaj vprašanj za razmislek!"
   ]
  },
  {
   "cell_type": "markdown",
   "metadata": {},
   "source": [
    "1. V simbolni obliki definirajte izraz:\n",
    "$$f(x) = x^4 - 6.4\\,x^3 + 6.45\\,x^2 + 20.538\\,x - 31.752.$$\n",
    "* Narišite funkcijo $f(x)$. Koliko ničel pričakujemo za funkcijo $f(x)$?\n",
    "* V simbolni obliki določite ničlo polinoma $f(x)$ (uporabite sympy).\n",
    "* Kako preverimo, ali je ničla ekstrem?\n",
    "* Numerično najdite vse ničle z bisekcijsko metodo (uporabite ``scipy``).\n",
    "* Numerično najdite vse ničle s sekantno metodo (uporabite ``scipy``).\n",
    "* Numerično najdite vse ničle z Newtonnovo metodo (uporabite ``scipy``).\n",
    "* Podatke:\n",
    "    $$x=[0, 1, 2, 3, 4, 5]$$\n",
    "    $$y=[0.95, 0.93, 0.87, 0.77, 0.64, 0.49]$$\n",
    "  aproksimirajte s funkcijo $\\cos(a\\,x)$ (z uporabo ``scipy.optimize.curve_fit`` določite konstanto $a$).\n",
    "* Na intervalu $x=[0, 50]$ z bisekcijsko metodo poiščite vse ničle najdene funkcije $\\cos(a\\,x)$.\n",
    "* Na intervalu $x=[0, 50]$ z Newtonovo metodo poiščite vse ničle najdene funkcije $\\cos(a\\,x)$.\n",
    "* S pomočjo ``sympy`` najdite simbolno rešitev za:\n",
    "$$x^2 + y -2=0\\qquad\\textrm{in}\\qquad  y^2 - 4=0.$$\n",
    "* Zgoraj definirani problem rešite še numerično s pomočjo ``scipy.optimize.root``.\n",
    "* Na predhodnem vprašanju preizkusite različne metode (glejte pomoč).\n",
    "* Z uporabo bisekcijske metode dimenzionirajte prikazani upogibno obremenjeni nosilec dolžine $L$ (obremenjen s točkovno silo $F$). Določite velikost polnega krožnega prereza $d$.\n",
    "<img src=\"./fig/nal-num_iskanje_nicel-1.jpg\">\n",
    "    $F = 1 \\mathrm{kN}$\n",
    "    \n",
    "    $L = 1 \\mathrm{m}$<br>\n",
    "    $\\sigma_{dop} = 120 \\mathrm{MPa}$\n",
    "    \n",
    "    Reševanje: \n",
    "    \n",
    "    $\\sigma_u \\leq \\sigma_{dop} \\to \\frac{F\\,L}{W} = \\frac{F\\,L\\,32}{\\pi\\,d^3} = \\sigma_{dop}$"
   ]
  },
  {
   "cell_type": "markdown",
   "metadata": {
    "slideshow": {
     "slide_type": "slide"
    }
   },
   "source": [
    "# Dodatno"
   ]
  },
  {
   "cell_type": "markdown",
   "metadata": {},
   "source": [
    "Tisti, ki ste navdušeni nad [Raspberry Pi](https://www.raspberrypi.org/) in uporabljate njihovo kamero (npr. [tole brez infra-rdečega filtra](https://www.raspberrypi.org/products/pi-noir-camera/)) vas bo morebiti zanimala knjižnica [picamera](http://picamera.readthedocs.org/)"
   ]
  },
  {
   "cell_type": "markdown",
   "metadata": {
    "slideshow": {
     "slide_type": "subslide"
    }
   },
   "source": [
    "## Uporaba ``sympy.solve`` za reševanje enačb"
   ]
  },
  {
   "cell_type": "markdown",
   "metadata": {},
   "source": [
    "Za manjše sistem lahko rešitev najdemo tudi simbolno. Poglejmo si zgornji primer:"
   ]
  },
  {
   "cell_type": "code",
   "execution_count": 46,
   "metadata": {},
   "outputs": [
    {
     "data": {
      "image/png": "[encoded data removed]",
      "text/latex": [
       "$$\\left [ x^{2} + x y - 10, \\quad 3 x y^{2} + y - 57\\right ]$$"
      ],
      "text/plain": [
       "⎡ 2                  2         ⎤\n",
       "⎣x  + x⋅y - 10, 3⋅x⋅y  + y - 57⎦"
      ]
     },
     "execution_count": 46,
     "metadata": {},
     "output_type": "execute_result"
    }
   ],
   "source": [
    "import sympy as sym\n",
    "sym.init_printing()\n",
    "x, y = sym.symbols('x, y')\n",
    "funkcije = [x**2 + x*y -10, y + 3*x*y**2 -57]\n",
    "funkcije"
   ]
  },
  {
   "cell_type": "code",
   "execution_count": 47,
   "metadata": {},
   "outputs": [
    {
     "name": "stdout",
     "output_type": "stream",
     "text": [
      "Število rešitev: 4\n",
      "Prva rešitev: (2, 3)\n"
     ]
    }
   ],
   "source": [
    "sol = sym.solve(funkcije, x, y)\n",
    "print(f'Število rešitev: {len(sol)}')\n",
    "print(f'Prva rešitev: {sol[0]}')"
   ]
  }
 ],
 "metadata": {
  "anaconda-cloud": {},
  "celltoolbar": "Slideshow",
  "kernelspec": {
   "display_name": "Python 3",
   "language": "python",
   "name": "python3"
  },
  "language_info": {
   "codemirror_mode": {
    "name": "ipython",
    "version": 3
   },
   "file_extension": ".py",
   "mimetype": "text/x-python",
   "name": "python",
   "nbconvert_exporter": "python",
   "pygments_lexer": "ipython3",
   "version": "3.6.2"
  },
  "latex_envs": {
   "bibliofile": "biblio.bib",
   "cite_by": "apalike",
   "current_citInitial": 1,
   "eqLabelWithNumbers": true,
   "eqNumInitial": 0
  },
  "livereveal": {
   "theme": "sky",
   "transition": "default",
   "width": 1200
  },
  "nav_menu": {},
  "toc": {
   "colors": {
    "hover_highlight": "#DAA520",
    "navigate_num": "#000000",
    "navigate_text": "#333333",
    "running_highlight": "#FF0000",
    "selected_highlight": "#FFD700",
    "sidebar_border": "#EEEEEE",
    "wrapper_background": "#FFFFFF"
   },
   "moveMenuLeft": true,
   "nav_menu": {
    "height": "479px",
    "width": "252px"
   },
   "navigate_menu": true,
   "number_sections": true,
   "sideBar": true,
   "threshold": "2",
   "toc_cell": true,
   "toc_position": {
    "height": "525px",
    "left": "0px",
    "right": "1006px",
    "top": "106px",
    "width": "212px"
   },
   "toc_section_display": "block",
   "toc_window_display": true,
   "widenNotebook": false
  }
 },
 "nbformat": 4,
 "nbformat_minor": 1
}
