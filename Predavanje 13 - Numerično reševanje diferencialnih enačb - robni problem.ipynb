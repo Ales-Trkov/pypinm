{
 "cells": [
  {
   "cell_type": "markdown",
   "metadata": {
    "slideshow": {
     "slide_type": "slide"
    }
   },
   "source": [
    "<font size=\"2\"> [github.com/jankoslavic/pypinm](http://github.com/jankoslavic/pypinm)</font>\n",
    "\n",
    "<center>\n",
    "<img width=300 src=\"./fig/ladisk.png\">\n",
    "<br>\n",
    "<font size=\"7\" color=\"f00e0e\" face=\"garamond\"><b>Numerično reševanje diferencialnih enačb - robni problem</b></font>\n",
    "<br><br>\n",
    "<font size=\"4\">\n",
    "[izr. prof. dr. Janko Slavič](http://www.ladisk.si/~slavic)\n",
    "</font>\n",
    "<br><br>\n",
    "<font size=\"2\">November 2017</font>\n",
    "</center>"
   ]
  },
  {
   "cell_type": "markdown",
   "metadata": {
    "slideshow": {
     "slide_type": "subslide"
    },
    "toc": "true"
   },
   "source": [
    "# Table of Contents\n",
    " <p><div class=\"lev1 toc-item\"><a href=\"#Reševanje-dvotočkovnih-robnih-problemov\" data-toc-modified-id=\"Reševanje-dvotočkovnih-robnih-problemov-1\"><span class=\"toc-item-num\">1&nbsp;&nbsp;</span>Reševanje dvotočkovnih robnih problemov</a></div><div class=\"lev1 toc-item\"><a href=\"#Strelska-metoda\" data-toc-modified-id=\"Strelska-metoda-2\"><span class=\"toc-item-num\">2&nbsp;&nbsp;</span>Strelska metoda</a></div><div class=\"lev2 toc-item\"><a href=\"#Numerični-zgled:-poševni-met\" data-toc-modified-id=\"Numerični-zgled:-poševni-met-21\"><span class=\"toc-item-num\">2.1&nbsp;&nbsp;</span>Numerični zgled: poševni met</a></div><div class=\"lev2 toc-item\"><a href=\"#Numerični-zgled:-nosilec-z-obremenitvijo\" data-toc-modified-id=\"Numerični-zgled:-nosilec-z-obremenitvijo-22\"><span class=\"toc-item-num\">2.2&nbsp;&nbsp;</span>Numerični zgled: nosilec z obremenitvijo</a></div><div class=\"lev1 toc-item\"><a href=\"#Metoda-končnih-razlik\" data-toc-modified-id=\"Metoda-končnih-razlik-3\"><span class=\"toc-item-num\">3&nbsp;&nbsp;</span>Metoda končnih razlik</a></div><div class=\"lev2 toc-item\"><a href=\"#Numerični-zgled:-vertikalni-met\" data-toc-modified-id=\"Numerični-zgled:-vertikalni-met-31\"><span class=\"toc-item-num\">3.1&nbsp;&nbsp;</span>Numerični zgled: vertikalni met</a></div><div class=\"lev2 toc-item\"><a href=\"#Numerični-zgled:-nosilec-z-obremenitvijo\" data-toc-modified-id=\"Numerični-zgled:-nosilec-z-obremenitvijo-32\"><span class=\"toc-item-num\">3.2&nbsp;&nbsp;</span>Numerični zgled: nosilec z obremenitvijo</a></div><div class=\"lev1 toc-item\"><a href=\"#Dodatno:-simbolna-rešitev-nosilca\" data-toc-modified-id=\"Dodatno:-simbolna-rešitev-nosilca-4\"><span class=\"toc-item-num\">4&nbsp;&nbsp;</span>Dodatno: simbolna rešitev nosilca</a></div>"
   ]
  },
  {
   "cell_type": "markdown",
   "metadata": {
    "slideshow": {
     "slide_type": "slide"
    }
   },
   "source": [
    "# Reševanje dvotočkovnih robnih problemov"
   ]
  },
  {
   "cell_type": "markdown",
   "metadata": {},
   "source": [
    "Pod dvotočkovnim robnim problemom razumemo navadno diferencialno enačbo drugega reda oblike:\n",
    "\n",
    "$$\\ddot y=f(t, y, \\dot y),$$\n",
    "\n",
    "ob predpisanih *robnih pogojih*:\n",
    "\n",
    "$$y(a)=\\alpha\\qquad\\textrm{in}\\qquad y(b)=\\beta.$$"
   ]
  },
  {
   "cell_type": "markdown",
   "metadata": {
    "slideshow": {
     "slide_type": "subslide"
    }
   },
   "source": [
    "Metode, ki smo jih spoznali pri reševanju *začetnih problemov*, tukaj neposredno niso uporabne, ker nimamo podanega odvoda v začetni točki pri $t=a$.\n",
    "\n",
    "V nadaljevanju si bomo pogledali dva različna pristopa k reševanju robnih problemov:\n",
    "\n",
    "1. t. i. **strelska metoda**,\n",
    "2. **metoda končnih razlik**."
   ]
  },
  {
   "cell_type": "markdown",
   "metadata": {
    "slideshow": {
     "slide_type": "slide"
    }
   },
   "source": [
    "# Strelska metoda"
   ]
  },
  {
   "cell_type": "markdown",
   "metadata": {},
   "source": [
    "Rešujemo robni problem:\n",
    "\n",
    "$$\\ddot y=f(t, y, \\dot y),\\qquad y(a)=\\alpha,\\quad y(b)=\\beta,$$\n",
    "\n",
    "ki ga prevedemo na začetni problem tako, da si izberemo:\n",
    "\n",
    "$$\\dot y (a)=u.$$"
   ]
  },
  {
   "cell_type": "markdown",
   "metadata": {
    "slideshow": {
     "slide_type": "subslide"
    }
   },
   "source": [
    "Problem rešimo z numeričnimi metodami reševanja začetnega problema in rešitev označimo z $\\theta(u, t)$.\n",
    "\n",
    "Robni problem rešimo, ko izberemo $u$ tako, da velja:\n",
    "\n",
    "$$r(u)=\\theta(u,b)-\\beta=0.$$\n",
    "\n",
    "Dobili smo nelinearno enačbo, ki jo moramo rešiti; za izračun vrednosti mejnih preostankov $r(u)$ moramo numerično rešiti začetni problem."
   ]
  },
  {
   "cell_type": "markdown",
   "metadata": {
    "slideshow": {
     "slide_type": "subslide"
    }
   },
   "source": [
    "Za rešitev enačbe $r(u)=0$ lahko uporabimo sekantno metodo. Izberemo $u_0$ in $u_1$ in na $i$-tem koraku izračunamo:\n",
    "\n",
    "$$u_{i+1}=u_i-r(u_i)\\,\\frac{u_{i}-u_{i-1}}{r(u_{i})-r(u_{i-1})},\\qquad i=2,3,\\dots$$\n",
    "\n",
    "Zaključimo, ko je:\n",
    "$$\\left|r(u_{i+1})\\right|<\\epsilon.$$"
   ]
  },
  {
   "cell_type": "markdown",
   "metadata": {
    "slideshow": {
     "slide_type": "subslide"
    }
   },
   "source": [
    "Rešitev strelske metode je obremenjena z napako metode reševanja nelinearne enačbe $\\epsilon$ in z napako numerične metode za reševanje začetnega problema."
   ]
  },
  {
   "cell_type": "markdown",
   "metadata": {
    "slideshow": {
     "slide_type": "subslide"
    }
   },
   "source": [
    "## Numerični zgled: poševni met"
   ]
  },
  {
   "cell_type": "markdown",
   "metadata": {},
   "source": [
    "Na sliki je prikazan izstrelek mase $m$, ki ga izstrelimo s hitrostjo $\\textbf{v}_0$.\n",
    "<img src=\"./fig/posevni_met.png\" width=300>"
   ]
  },
  {
   "cell_type": "markdown",
   "metadata": {
    "slideshow": {
     "slide_type": "subslide"
    }
   },
   "source": [
    "Velikost sile upora zraka je $|\\textbf{F}|=c\\,|\\textbf{v}|^2$, potem sta gibalni enačbi:\n",
    "\n",
    "$$x''(t)=-F_x/m\\qquad\\ddot y(t)=-F_y/m-g.$$\n",
    "\n",
    "Komponente sile so (glejte izpeljavo pri poglavju iz reševanja začetnega problema sistema diferencialnih enačb):\n",
    "$$F_x=-c\\,x'\\,\\sqrt{x'^2+y'^2},\\qquad F_y=-c\\,y'\\,\\sqrt{x'^2+y'^2}.$$"
   ]
  },
  {
   "cell_type": "markdown",
   "metadata": {
    "slideshow": {
     "slide_type": "subslide"
    }
   },
   "source": [
    "### Vertikalni met\n",
    "\n",
    "Najprej predpostavimo, da je $\\varphi=90$° in torej v $x$ smeri nimamo gibanja. Zanima nas rešitev, ko izstrelek izstrelimo iz višine $y=0\\,$m in mora pri času $t=b=1\\,$s biti na višini $y(b)=10\\,$m. Definirali smo robni problem:\n",
    "\n",
    "$$y''(t)=F_y\\,/m-g,\\qquad y(0)=0,\\quad y(1)=10.$$"
   ]
  },
  {
   "cell_type": "markdown",
   "metadata": {
    "slideshow": {
     "slide_type": "subslide"
    }
   },
   "source": [
    "Najprej moramo enačbo drugega reda:\n",
    "\n",
    "$$\\ddot y=f(t, y, \\dot y) = F_y/m-g$$\n",
    "\n",
    "preoblikovati na sistem dveh enačb prvega reda. Uporabimo $y_i=y^{i}$ ter upoštevamo $F_y=-c\\,y'\\,\\sqrt{y'^2}$."
   ]
  },
  {
   "cell_type": "markdown",
   "metadata": {
    "slideshow": {
     "slide_type": "subslide"
    }
   },
   "source": [
    "Odvajamo $\\dot y_i=y_{i+1}$ in pripravimo sistem enačb prvega reda:\n",
    "\n",
    "$$\n",
    "\\begin{array}{rcl}\n",
    "y'_0&=&y_1\\\\\n",
    "y'_1&=&-c\\,y'\\,\\sqrt{y'^2}/m-g\n",
    "\\end{array}\n",
    "$$"
   ]
  },
  {
   "cell_type": "markdown",
   "metadata": {
    "slideshow": {
     "slide_type": "subslide"
    }
   },
   "source": [
    "Pripravimo seznam funkcij desnih strani:"
   ]
  },
  {
   "cell_type": "code",
   "execution_count": 1,
   "metadata": {},
   "outputs": [],
   "source": [
    "def f_vert(y, t, g=9.81, m=1., c=0.5):\n",
    "    return np.array([y[1], -g-c*y[1]*np.sqrt(y[1]**2)/m])"
   ]
  },
  {
   "cell_type": "markdown",
   "metadata": {
    "slideshow": {
     "slide_type": "subslide"
    }
   },
   "source": [
    "Uvozimo modula `numpy` in `scipy.integrate.odeint`:"
   ]
  },
  {
   "cell_type": "code",
   "execution_count": 2,
   "metadata": {},
   "outputs": [],
   "source": [
    "import numpy as np\n",
    "from scipy.integrate import odeint"
   ]
  },
  {
   "cell_type": "markdown",
   "metadata": {
    "slideshow": {
     "slide_type": "subslide"
    }
   },
   "source": [
    "ter pripravimo funkcijo za izračun mejnega preostanka pri času $b$ v odvisnosti od začetne hitrosti $v0$ (privzeti zračni upor je $c=0.1$):"
   ]
  },
  {
   "cell_type": "code",
   "execution_count": 3,
   "metadata": {},
   "outputs": [],
   "source": [
    "def r(v0=100., t=None, ciljna_lega=10., g=9.81, m=1., c=0.1):\n",
    "    y_ode = odeint(f_vert, y0=np.array([0., v0]), t=t, args=(g, m, c))\n",
    "    r = y_ode[-1,0] - ciljna_lega\n",
    "    return r"
   ]
  },
  {
   "cell_type": "markdown",
   "metadata": {
    "slideshow": {
     "slide_type": "subslide"
    }
   },
   "source": [
    "Preverimo mejni preostanek pri začetnem pogoju $v_0=y'=50$ m/s:"
   ]
  },
  {
   "cell_type": "code",
   "execution_count": 4,
   "metadata": {},
   "outputs": [
    {
     "data": {
      "text/plain": [
       "5.6234300989312302"
      ]
     },
     "execution_count": 4,
     "metadata": {},
     "output_type": "execute_result"
    }
   ],
   "source": [
    "t = np.linspace(0, 1, 100)\n",
    "r(v0=50., t=t)"
   ]
  },
  {
   "cell_type": "markdown",
   "metadata": {},
   "source": [
    "Opazimo, da je masa 1 sekundi 5,62 m nad ciljno višino.\n",
    "\n",
    "Naš cilj je, da pri 1 sekundi masa doseže lego 10 m z natančnostjo `1e-6`:"
   ]
  },
  {
   "cell_type": "code",
   "execution_count": 5,
   "metadata": {},
   "outputs": [],
   "source": [
    "ciljna_lega = 10\n",
    "epsilon = 1e-6"
   ]
  },
  {
   "cell_type": "markdown",
   "metadata": {
    "slideshow": {
     "slide_type": "subslide"
    }
   },
   "source": [
    "Izvedimo sedaj sekantno metodo:"
   ]
  },
  {
   "cell_type": "code",
   "execution_count": 6,
   "metadata": {
    "slideshow": {
     "slide_type": "-"
    }
   },
   "outputs": [
    {
     "name": "stdout",
     "output_type": "stream",
     "text": [
      "Novi približek je 5.647986386236646, napaka je 9.668030082366473.\n",
      "Novi približek je 33.68955970543041, napaka je 2.2166642331885793.\n",
      "Novi približek je 28.459408136648648, napaka je 0.8222440076866793.\n",
      "Novi približek je 25.375358789059757, napaka je 0.10146604219394106.\n",
      "Novi približek je 25.714129901565347, napaka je 0.004272903915547133.\n",
      "Novi približek je 25.700440183005067, napaka je 2.1606281411123973e-05.\n",
      "Novi približek je 25.700370608033587, napaka je 4.616973470206176e-09.\n",
      "Rešitev 25.700370608033587\n"
     ]
    }
   ],
   "source": [
    "x0 = 100\n",
    "x1 = 50\n",
    "for i in range(10):\n",
    "    f0 = r(v0=x0, t=t, ciljna_lega=ciljna_lega)\n",
    "    f1 = r(v0=x1, t=t, ciljna_lega=ciljna_lega)\n",
    "    x2 = x1 - f1 * (x1 - x0)/(f1 - f0)\n",
    "    err = np.abs(r(v0=x2, t=t, ciljna_lega=ciljna_lega))\n",
    "    print(f'Novi približek je {x2}, napaka je {err}.')\n",
    "    x0 = x1\n",
    "    x1 = x2\n",
    "    if err<epsilon:\n",
    "        rešitev = x2\n",
    "        print(f'Rešitev {rešitev}')\n",
    "        break"
   ]
  },
  {
   "cell_type": "markdown",
   "metadata": {},
   "source": [
    "Poglejmo si sedaj izračunano rešitev:"
   ]
  },
  {
   "cell_type": "code",
   "execution_count": 7,
   "metadata": {},
   "outputs": [],
   "source": [
    "y_vert = odeint(f_vert, y0=np.array([0., rešitev]), t=t, args=(9.81, 1, 0.1))"
   ]
  },
  {
   "cell_type": "markdown",
   "metadata": {
    "slideshow": {
     "slide_type": "subslide"
    }
   },
   "source": [
    "Uvozimo `matplotlib`:"
   ]
  },
  {
   "cell_type": "code",
   "execution_count": 8,
   "metadata": {},
   "outputs": [],
   "source": [
    "import matplotlib.pyplot as plt\n",
    "%matplotlib inline"
   ]
  },
  {
   "cell_type": "markdown",
   "metadata": {
    "slideshow": {
     "slide_type": "subslide"
    }
   },
   "source": [
    "Prikažemo rezultat:"
   ]
  },
  {
   "cell_type": "code",
   "execution_count": 9,
   "metadata": {},
   "outputs": [
    {
     "data": {
      "image/png": "[encoded data removed]",
      "text/plain": [
       "<matplotlib.figure.Figure at 0x14bc0822748>"
      ]
     },
     "metadata": {},
     "output_type": "display_data"
    }
   ],
   "source": [
    "plt.title('Vertikalni met')\n",
    "plt.hlines(ciljna_lega,0., 1, 'C3', linestyles='dashed', label='Ciljna lega', alpha=0.5)\n",
    "plt.plot(t, y_vert[:,0], label='Lega $y$')\n",
    "plt.xlabel('$t$ [s]')\n",
    "plt.legend(loc=4)\n",
    "plt.show()"
   ]
  },
  {
   "cell_type": "markdown",
   "metadata": {
    "slideshow": {
     "slide_type": "subslide"
    }
   },
   "source": [
    "### Poševni met\n",
    "\n",
    "Poglejmo si sedaj splošen poševni met (diferencialne enačbe so definirana že zgoraj). Najprej moramo sistem diferencialnih enačb drugega reda preoblikovati v sistem enačb prvega reda. \n",
    "\n",
    "Uporabimo:\n",
    "$$y_0=x,~ y_1=x',~ y_2=y,~ y_3=y'$$"
   ]
  },
  {
   "cell_type": "markdown",
   "metadata": {
    "slideshow": {
     "slide_type": "subslide"
    }
   },
   "source": [
    "in dobimo sistem diferencialnih enačb prvega reda:\n",
    "\n",
    "$$\n",
    "\\begin{array}{rcl}\n",
    "\\dot y_0&=&y_1\\\\\n",
    "\\dot y_1&=&F_x/m\\\\\n",
    "\\dot y_2&=&y_3\\\\\n",
    "\\dot y_3&=&F_y/m-g.\\\\\n",
    "\\end{array}\n",
    "$$"
   ]
  },
  {
   "cell_type": "markdown",
   "metadata": {
    "slideshow": {
     "slide_type": "subslide"
    }
   },
   "source": [
    "Pripravimo seznam funkcij desnih strani:"
   ]
  },
  {
   "cell_type": "code",
   "execution_count": 10,
   "metadata": {},
   "outputs": [],
   "source": [
    "def f_poševno(y, t, g=9.81, m=1., c=0.1):\n",
    "    x, vx, yy, vy = y\n",
    "    return np.array([vx, -c*vx*np.sqrt(vx**2+vy**2)/m, vy, -g-c*vy*np.sqrt(vx**2+vy**2)/m])"
   ]
  },
  {
   "cell_type": "markdown",
   "metadata": {
    "slideshow": {
     "slide_type": "subslide"
    }
   },
   "source": [
    "Pripravimo še funkcijo za izračun mejnega preostanka pri času $b=1$ v odvisnosti od vektorja začetne hitrosti $\\mathbf{v}_0$:"
   ]
  },
  {
   "cell_type": "code",
   "execution_count": 11,
   "metadata": {},
   "outputs": [],
   "source": [
    "def r_poševno(v0=[5., 100.], t=None, ciljna_lega=np.array([10, 5.]), g=9.81, m=1., c=0.1):\n",
    "    y_ode = odeint(f_poševno, y0=[0, v0[0], 0, v0[1]], t=t, args=(g, m, c))\n",
    "    r = y_ode[-1,0:3:2] - ciljna_lega\n",
    "    return r"
   ]
  },
  {
   "cell_type": "markdown",
   "metadata": {
    "slideshow": {
     "slide_type": "subslide"
    }
   },
   "source": [
    "Preverimo mejni preostanek pri začetnem pogoju $\\mathbf{v}_0=[100., 100.]\\,$m/s:"
   ]
  },
  {
   "cell_type": "code",
   "execution_count": 12,
   "metadata": {
    "scrolled": true
   },
   "outputs": [
    {
     "data": {
      "text/plain": [
       "array([  9.64208677,  11.82617591])"
      ]
     },
     "execution_count": 12,
     "metadata": {},
     "output_type": "execute_result"
    }
   ],
   "source": [
    "r_poševno(v0=[100., 100.],t=t)"
   ]
  },
  {
   "cell_type": "markdown",
   "metadata": {
    "slideshow": {
     "slide_type": "subslide"
    }
   },
   "source": [
    "Za iskanje korena sistema nelinearnih funkcij smo že spoznali funkcijo ``scipy.optimize.root`` ([dokumentacija](https://docs.scipy.org/doc/scipy/reference/generated/scipy.optimize.root.html)):\n",
    "\n",
    "```python\n",
    "root(fun, x0, args=(), method='hybr', jac=None, tol=None, callback=None, options=None)\n",
    "```\n",
    "Najprej jo uvozimo:"
   ]
  },
  {
   "cell_type": "code",
   "execution_count": 13,
   "metadata": {},
   "outputs": [],
   "source": [
    "from scipy import optimize"
   ]
  },
  {
   "cell_type": "markdown",
   "metadata": {
    "slideshow": {
     "slide_type": "subslide"
    }
   },
   "source": [
    "Potem uporabimo z začetnim ugibanjem $\\mathbf{v}_0$:"
   ]
  },
  {
   "cell_type": "code",
   "execution_count": 14,
   "metadata": {},
   "outputs": [],
   "source": [
    "rešitev = optimize.root(r_poševno, np.array([100., 100.]), args=(t))"
   ]
  },
  {
   "cell_type": "markdown",
   "metadata": {
    "slideshow": {
     "slide_type": "subslide"
    }
   },
   "source": [
    "Rešitev je:"
   ]
  },
  {
   "cell_type": "code",
   "execution_count": 15,
   "metadata": {},
   "outputs": [
    {
     "data": {
      "text/plain": [
       "    fjac: array([[-0.93420153,  0.35674572],\n",
       "       [-0.35674572, -0.93420153]])\n",
       "     fun: array([  2.75335310e-13,  -3.28626015e-14])\n",
       " message: 'The solution converged.'\n",
       "    nfev: 17\n",
       "     qtf: array([  9.64776823e-10,  -1.20885598e-09])\n",
       "       r: array([-0.40653983,  0.24107452, -0.37581076])\n",
       "  status: 1\n",
       " success: True\n",
       "       x: array([ 19.38918337,  16.56317825])"
      ]
     },
     "execution_count": 15,
     "metadata": {},
     "output_type": "execute_result"
    }
   ],
   "source": [
    "rešitev"
   ]
  },
  {
   "cell_type": "markdown",
   "metadata": {
    "slideshow": {
     "slide_type": "subslide"
    }
   },
   "source": [
    "Atribut `rešitev.x` vsebuje vektor izračunanih rešitev (`[19.3892, 16.5632]`). Preverimo mejni preostanek pri izračunani rešitvi:"
   ]
  },
  {
   "cell_type": "code",
   "execution_count": 16,
   "metadata": {},
   "outputs": [
    {
     "data": {
      "text/plain": [
       "array([  2.75335310e-13,  -3.28626015e-14])"
      ]
     },
     "execution_count": 16,
     "metadata": {},
     "output_type": "execute_result"
    }
   ],
   "source": [
    "r_poševno(v0=rešitev.x, t=t)"
   ]
  },
  {
   "cell_type": "markdown",
   "metadata": {},
   "source": [
    "Poglejmo si sedaj izračunano rešitev:"
   ]
  },
  {
   "cell_type": "code",
   "execution_count": 17,
   "metadata": {},
   "outputs": [],
   "source": [
    "y_poševni = odeint(f_poševno, y0=[0, rešitev.x[0], 0, rešitev.x[1]], t=t, args=(9.81, 1., 0.1))"
   ]
  },
  {
   "cell_type": "markdown",
   "metadata": {
    "slideshow": {
     "slide_type": "subslide"
    }
   },
   "source": [
    "Prikažemo rezultat:"
   ]
  },
  {
   "cell_type": "code",
   "execution_count": 18,
   "metadata": {},
   "outputs": [
    {
     "data": {
      "image/png": "[encoded data removed]",
      "text/plain": [
       "<matplotlib.figure.Figure at 0x14bc0b18240>"
      ]
     },
     "metadata": {},
     "output_type": "display_data"
    }
   ],
   "source": [
    "plt.title('Poševni met')\n",
    "plt.hlines(10,0., 1, 'C3', linestyles='dashed', label='Ciljna lega za $x$', alpha=0.5)\n",
    "plt.hlines(5,0., 1, 'C4', linestyles='dashed', label='Ciljna lega za $y$', alpha=0.5)\n",
    "plt.plot(t, y_poševni[:,0], label='Lega $x$', color='C3')\n",
    "plt.plot(t, y_poševni[:,2], label='Lega $y$', color='C4')\n",
    "plt.xlabel('$t$ [s]')\n",
    "plt.legend()\n",
    "plt.show()"
   ]
  },
  {
   "cell_type": "markdown",
   "metadata": {
    "slideshow": {
     "slide_type": "subslide"
    }
   },
   "source": [
    "## Numerični zgled: nosilec z obremenitvijo"
   ]
  },
  {
   "cell_type": "markdown",
   "metadata": {
    "slideshow": {
     "slide_type": "-"
    }
   },
   "source": [
    "Poglejmo si nosilec:\n",
    "<img src='./fig/nosilec.png' width=400>"
   ]
  },
  {
   "cell_type": "markdown",
   "metadata": {
    "slideshow": {
     "slide_type": "subslide"
    }
   },
   "source": [
    "Poves $w(x)$ nosilca popiše diferencialna enačba četrtega reda:\n",
    "\n",
    "$$-E\\,I\\frac{\\textrm{d}^4}{\\textrm{d}x^4}w(x)+q(x)=0.$$\n",
    "\n",
    "Znane konstante so $E,I,l$ in je $q(x)$ porazdeljena obremenitev.\n",
    "\n",
    "Robni pogoji (členkasto vpet nosilec):\n",
    "$$w(0)=w(l)=0\\quad\\textrm{in}\\quad w''(0)=w''(l)=0$$"
   ]
  },
  {
   "cell_type": "markdown",
   "metadata": {},
   "source": [
    "Parametri so: \n",
    "\n",
    "* $I=2.1\\cdot10^{-5}\\,$m$^4$, \n",
    "* $E=2.1\\cdot10^{11}\\,N/$m$^2$, \n",
    "* $l=10\\,$m. \n",
    "\n",
    "Porazdeljena obremenitev $q(x)$ bo definirana pozneje."
   ]
  },
  {
   "cell_type": "markdown",
   "metadata": {
    "slideshow": {
     "slide_type": "subslide"
    }
   },
   "source": [
    "Najprej moramo diferencialno enačbo četrtega reda preoblikovati v sistem diferencialnih enačb prvega reda. \n",
    "Uporabimo:\n",
    "$$y_0=w,~ y_1=w',~ y_2=w'',~ y_3=w'''$$\n",
    "\n",
    "in dobimo sistem diferencialnih enačb prvega reda:\n",
    "\n",
    "$$\n",
    "\\begin{array}{rcl}\n",
    "y_0'&=&y_1\\\\\n",
    "y_1'&=&y_2\\\\\n",
    "y_2'&=&y_3\\\\\n",
    "y_3'&=&q(x)/(EI).\\\\\n",
    "\\end{array}\n",
    "$$"
   ]
  },
  {
   "cell_type": "markdown",
   "metadata": {
    "slideshow": {
     "slide_type": "subslide"
    }
   },
   "source": [
    "Pripravimo različne porazdeljene obremenitve:"
   ]
  },
  {
   "cell_type": "code",
   "execution_count": 19,
   "metadata": {},
   "outputs": [],
   "source": [
    "def q_konstanta(x, F_0=1e3, l=10):\n",
    "    return -F_0\n",
    "\n",
    "def q_trikotna(x, F_0=1e3, l=10):\n",
    "    return -F_0*x/l\n",
    "\n",
    "def q_pol_sinusna(x, F_0=1e3, l=10):\n",
    "    return -F_0*np.sin(np.pi*x/l)"
   ]
  },
  {
   "cell_type": "markdown",
   "metadata": {
    "slideshow": {
     "slide_type": "subslide"
    }
   },
   "source": [
    "Definirajmo parametre:"
   ]
  },
  {
   "cell_type": "code",
   "execution_count": 20,
   "metadata": {},
   "outputs": [],
   "source": [
    "l = 10.\n",
    "E = 2.1e11\n",
    "I = 2.1e-5"
   ]
  },
  {
   "cell_type": "code",
   "execution_count": 21,
   "metadata": {
    "slideshow": {
     "slide_type": "subslide"
    }
   },
   "outputs": [
    {
     "data": {
      "image/png": "[encoded data removed]",
      "text/plain": [
       "<matplotlib.figure.Figure at 0x14bc0e40d68>"
      ]
     },
     "metadata": {},
     "output_type": "display_data"
    }
   ],
   "source": [
    "x = np.linspace(0, l, 100)\n",
    "plt.fill_between(x, q_konstanta(x), alpha=0.4, label='Konstantna')\n",
    "plt.fill_between(x, q_trikotna(x), alpha=0.4, label='Trikotna')\n",
    "plt.fill_between(x, q_pol_sinusna(x), alpha=0.4, label='Pol-sinusna')\n",
    "plt.title('Porazdeljena obremenitev $q(x)$')\n",
    "plt.legend()\n",
    "plt.show()"
   ]
  },
  {
   "cell_type": "markdown",
   "metadata": {
    "slideshow": {
     "slide_type": "subslide"
    }
   },
   "source": [
    "Pripravimo seznam funkcij desne strani:"
   ]
  },
  {
   "cell_type": "code",
   "execution_count": 22,
   "metadata": {},
   "outputs": [],
   "source": [
    "def f_nosilec_konstanta(y, x, E=2.1e11, I=0.4):\n",
    "    return np.array([y[1], y[2], y[3], q_konstanta(x)/(E*I)])\n",
    "def f_nosilec_pol_sinusna(y, x, E=2.1e11, I=0.4):\n",
    "    return np.array([y[1], y[2], y[3], q_pol_sinusna(x)/(E*I)])\n",
    "def f_nosilec_trikotna(y, x, E=2.1e11, I=0.4):\n",
    "    return np.array([y[1], y[2], y[3], q_trikotna(x)/(E*I)])"
   ]
  },
  {
   "cell_type": "markdown",
   "metadata": {
    "slideshow": {
     "slide_type": "subslide"
    }
   },
   "source": [
    "Prikažimo primer izračuna:"
   ]
  },
  {
   "cell_type": "code",
   "execution_count": 23,
   "metadata": {},
   "outputs": [
    {
     "data": {
      "text/plain": [
       "array([[ 0.        ,  0.1       ,  0.        ,  1.        ],\n",
       "       [ 0.01027279,  0.10510148,  0.10100894,  0.9999771 ],\n",
       "       [ 0.02157617,  0.12040577,  0.20201557,  0.99995419],\n",
       "       [ 0.03494071,  0.14591263,  0.30301989,  0.99993129]])"
      ]
     },
     "execution_count": 23,
     "metadata": {},
     "output_type": "execute_result"
    }
   ],
   "source": [
    "y_ode = odeint(f_nosilec_konstanta, y0=[0, 0.1, 0, 1], t=x, args=(E, I))\n",
    "y_ode[:4]"
   ]
  },
  {
   "cell_type": "markdown",
   "metadata": {
    "slideshow": {
     "slide_type": "subslide"
    }
   },
   "source": [
    "ter pripravimo funkcijo za izračun mejnega preostanka pri času $x=L$:"
   ]
  },
  {
   "cell_type": "code",
   "execution_count": 24,
   "metadata": {},
   "outputs": [],
   "source": [
    "def r_nosilec_konstanta(y0=[1., 1.], x=None, ciljne_vrednosti=np.array([0, 0.]), E=2.1e11, I=2.1e-5):\n",
    "    y_ode = odeint(f_nosilec_konstanta, y0=[0, y0[0], 0, y0[1]], t=x, args=(E, I))\n",
    "    r = y_ode[-1,0:3:2] - ciljne_vrednosti\n",
    "    return r"
   ]
  },
  {
   "cell_type": "markdown",
   "metadata": {
    "slideshow": {
     "slide_type": "subslide"
    }
   },
   "source": [
    "Za konstantno obremenitev preverimo mejni preostanek pri $w'(0)=1$ in $w'''(0)=1$ (za naklon $w'$ je to kar velika vrednost, za tretji odvod $w'''$ pa nimamo občutka):"
   ]
  },
  {
   "cell_type": "code",
   "execution_count": 25,
   "metadata": {},
   "outputs": [
    {
     "data": {
      "text/plain": [
       "array([ 176.57218444,    9.98866213])"
      ]
     },
     "execution_count": 25,
     "metadata": {},
     "output_type": "execute_result"
    }
   ],
   "source": [
    "r_nosilec_konstanta(y0=[1., 1.], x=x)"
   ]
  },
  {
   "cell_type": "markdown",
   "metadata": {},
   "source": [
    "Mejni preostanek je velik, vendar lahko pričakujemo, da bomo koren enačbe mejnega preostanka lahko izračunali. Sistem nelinearnih enačb bomo rešili s `scipy.optimize.root()`:"
   ]
  },
  {
   "cell_type": "code",
   "execution_count": 26,
   "metadata": {},
   "outputs": [],
   "source": [
    "rešitev = optimize.root(r_nosilec_konstanta, np.array([0., 0.]), args=(x))"
   ]
  },
  {
   "cell_type": "markdown",
   "metadata": {
    "slideshow": {
     "slide_type": "subslide"
    }
   },
   "source": [
    "Rešitev je:"
   ]
  },
  {
   "cell_type": "code",
   "execution_count": 27,
   "metadata": {},
   "outputs": [
    {
     "data": {
      "text/plain": [
       "array([-0.00944822,  0.00113379])"
      ]
     },
     "execution_count": 27,
     "metadata": {},
     "output_type": "execute_result"
    }
   ],
   "source": [
    "rešitev.x"
   ]
  },
  {
   "cell_type": "markdown",
   "metadata": {},
   "source": [
    "Mejni preostanek pri najdeni rešitvi:"
   ]
  },
  {
   "cell_type": "code",
   "execution_count": 28,
   "metadata": {},
   "outputs": [
    {
     "data": {
      "text/plain": [
       "array([  1.00353753e-15,  -1.06251813e-17])"
      ]
     },
     "execution_count": 28,
     "metadata": {},
     "output_type": "execute_result"
    }
   ],
   "source": [
    "r_nosilec_konstanta(rešitev.x, x)"
   ]
  },
  {
   "cell_type": "markdown",
   "metadata": {
    "slideshow": {
     "slide_type": "subslide"
    }
   },
   "source": [
    "Pripravimo sedaj še izračun rezultatov pri najdenih začetnih pogojih:"
   ]
  },
  {
   "cell_type": "code",
   "execution_count": 29,
   "metadata": {},
   "outputs": [],
   "source": [
    "y = odeint(f_nosilec_konstanta, y0=[0, rešitev.x[0], 0, rešitev.x[1]], t=x, args=(E, I))"
   ]
  },
  {
   "cell_type": "markdown",
   "metadata": {},
   "source": [
    "Rezultat prikažimo:"
   ]
  },
  {
   "cell_type": "code",
   "execution_count": 30,
   "metadata": {},
   "outputs": [
    {
     "data": {
      "image/png": "[encoded data removed]",
      "text/plain": [
       "<matplotlib.figure.Figure at 0x14bc0ebf908>"
      ]
     },
     "metadata": {},
     "output_type": "display_data"
    }
   ],
   "source": [
    "plt.fill_between(x, y[:,0], label='Poves $w$', alpha=0.5)\n",
    "plt.fill_between(x, y[:,1], label='Naklon $w\\'$', alpha=0.5)\n",
    "plt.title('Konstantna obremenitev')\n",
    "plt.legend()\n",
    "plt.show()"
   ]
  },
  {
   "cell_type": "markdown",
   "metadata": {},
   "source": [
    "### Polsinusna obremenitev\n",
    "\n",
    "Poglemo še rešitev za polsinusno obremenitev. Prilagoditi moramo funkcijo mejnih preostankov:"
   ]
  },
  {
   "cell_type": "code",
   "execution_count": 31,
   "metadata": {},
   "outputs": [],
   "source": [
    "def r_nosilec_pol_sinusna(y0=[1., 1.], x=None, ciljne_vrednosti=np.array([0, 0.]), E=2.1e11, I=2.1e-5):\n",
    "    y_ode = odeint(f_nosilec_pol_sinusna, y0=[0, y0[0], 0, y0[1]], t=x, args=(E, I))\n",
    "    r = y_ode[-1,0:3:2] - ciljne_vrednosti\n",
    "    return r\n",
    "rešitev = optimize.root(r_nosilec_pol_sinusna, np.array([0., 0.]), args=(x))\n",
    "y_pol_sin = odeint(f_nosilec_pol_sinusna, y0=[0, rešitev.x[0], 0, rešitev.x[1]], t=x, args=(E, I))"
   ]
  },
  {
   "cell_type": "markdown",
   "metadata": {
    "slideshow": {
     "slide_type": "subslide"
    }
   },
   "source": [
    "Prikažemo rezultat $w, w'$:"
   ]
  },
  {
   "cell_type": "code",
   "execution_count": 32,
   "metadata": {},
   "outputs": [
    {
     "data": {
      "image/png": "[encoded data removed]",
      "text/plain": [
       "<matplotlib.figure.Figure at 0x14bc1ec0898>"
      ]
     },
     "metadata": {},
     "output_type": "display_data"
    }
   ],
   "source": [
    "plt.fill_between(x, y_pol_sin[:,0], label='Poves $w$', alpha=0.5)\n",
    "plt.fill_between(x, y_pol_sin[:,1], label='Naklon $w\\'$', alpha=0.5)\n",
    "plt.title('Polsinusna obremenitev')\n",
    "plt.legend()\n",
    "plt.show()"
   ]
  },
  {
   "cell_type": "markdown",
   "metadata": {
    "slideshow": {
     "slide_type": "slide"
    }
   },
   "source": [
    "# Metoda končnih razlik"
   ]
  },
  {
   "cell_type": "markdown",
   "metadata": {},
   "source": [
    "Rešujemo robni problem:\n",
    "\n",
    "$$\\ddot y=f(t, y, \\dot y),\\qquad y(a)=\\alpha,\\quad y(b)=\\beta.$$\n",
    "\n",
    "Velja torej: $$a=t_0,\\quad b=t_{n-1}.$$\n",
    "\n",
    "Pri metodi končnih razlik za reševanje robnega problema uporabimo diferenčno shemo. Predpostavimo, da imamo interval $[a,b]$, na katerem rešujemo diferencialno enačbo (neodvisna spremenljivka) razdeljeno na enake podintervale (točk je $n$):\n",
    "\n",
    "$$t=[t_0, t_1,\\dots, t_{n-1}].$$"
   ]
  },
  {
   "cell_type": "markdown",
   "metadata": {
    "slideshow": {
     "slide_type": "subslide"
    }
   },
   "source": [
    "Odvode nadomestimo s centralno diferenčno shemo:\n",
    "\n",
    "|       |$y_{i-2}$|$y_{i-1}$ |$y_{i}$   |$y_{i+1}$ |$y_{i+2}$|\n",
    "|:--------:|:-------------------:|:----------:|:----------:|:----------:|:----------:|\n",
    "|$y_i'=\\frac{1}{h}\\cdot$| 0     | -0.5 | 0 | 0.5 | 0|\n",
    "|$y_i''=\\frac{1}{h^2}\\cdot$| 0 | 1 | -2 | 1 | 0|\n",
    "|$y_i'''=\\frac{1}{h^3}\\cdot$| -0.5 | 1 | 0 | -1 | 0.5|\n",
    "|$y_i^{(4)}=\\frac{1}{h^4}\\cdot$| 1 | -4 | 6 | -4 | 1|\n",
    "\n",
    "Prikazana centralna diferenčna shema ima napako drugega reda $\\mathcal{O}(h^{2})$."
   ]
  },
  {
   "cell_type": "markdown",
   "metadata": {
    "slideshow": {
     "slide_type": "subslide"
    }
   },
   "source": [
    "V $i$-ti točki navadno differencialno enačbo drugega reda s centralimi diferencami zapišemo:\n",
    "\n",
    "$$\\frac{1}{h^2}\\left(y_{i-1}-2\\,y_{i}+y_{i+1}\\right)+\\mathcal{O}(h^{2})=f\\left(t_i, y_i, \n",
    "\\frac{1}{2h}\\left(-y_{i-1}+y_{i+1}\\right)+\\mathcal{O}(h^{2})\\right).$$"
   ]
  },
  {
   "cell_type": "markdown",
   "metadata": {
    "slideshow": {
     "slide_type": "subslide"
    }
   },
   "source": [
    "Če zanemarimo napako metode:\n",
    "\n",
    "$$\\frac{1}{h^2}\\left(y_{i-1}-2\\,y_{i}+y_{i+1}\\right)=f\\left(t_i, y_i, \n",
    "\\frac{1}{2h}\\left(-y_{i-1}+y_{i+1}\\right)\\right),\\qquad i=1,2,\\dots,n-2.$$\n",
    "\n",
    "Zgornjo enačbo lahko zapišemo za $n-2$ notranjih točk, kar pomeni, da nam do rešljivega sistema enačb za $n$ neznank manjkata še dve enačbi. Ti dve enačbi sta robna pogoja:\n",
    "\n",
    "$$y_0=\\alpha,\\quad y_{n-1}=\\beta.$$"
   ]
  },
  {
   "cell_type": "markdown",
   "metadata": {
    "slideshow": {
     "slide_type": "subslide"
    }
   },
   "source": [
    "V primeru linearnega robnega problema moramo za izračun $n$ neznank $y_i$ rešiti sistem $n$ linearnih enačb (če je pa nelinearen, pa sistem nelinearnih enačb)."
   ]
  },
  {
   "cell_type": "markdown",
   "metadata": {
    "slideshow": {
     "slide_type": "subslide"
    }
   },
   "source": [
    "### Ocena napake\n",
    "\n",
    "Točen rezultat $y(t_{i})$ pri velikosti koraka $h$ je:\n",
    "$$y(t_{i})=y_{i,h}+E_{i,h},$$\n",
    "kjer je $y_{i,h}$ numerični približek in $E_h$ napaka metode. Ker je globalna napaka drugega reda, lahko napako zapišemo:\n",
    "$$E_{i,h}=k\\,h^2,$$"
   ]
  },
  {
   "cell_type": "markdown",
   "metadata": {
    "slideshow": {
     "slide_type": "subslide"
    }
   },
   "source": [
    "Podobno lahko za velikost koraka $2h$ zapišemo:\n",
    "$$y(t_{j})=y_{j,2h}+E_{j,2h},$$\n",
    "kjer je $y_{j,2h}$ numerični približek in $E_{2h}$ napaka metode in je:\n",
    "$$E_{j,2h}=k\\,(2\\,h)^2=4\\,k\\,h^2$$"
   ]
  },
  {
   "cell_type": "markdown",
   "metadata": {
    "slideshow": {
     "slide_type": "subslide"
    }
   },
   "source": [
    "Ob predpostavki, da je konstanta $k$ pri koraku $h$ in koraku $2h$ enaka, lahko določimo oceno napake pri boljšem približku $E_h$. Najprej izenačimo točna rezultat $y(t_{i})$ pri koraku $h$ in rezultat $y(t_{j})$ pri koraku $2h$ (velja $i=2\\,j$, $j=1,2,\\dots$):\n",
    "\n",
    "$$y_{i,h}+k\\,h^2=y_{j,2h}+4\\,k\\,h^2$$"
   ]
  },
  {
   "cell_type": "markdown",
   "metadata": {
    "slideshow": {
     "slide_type": "subslide"
    }
   },
   "source": [
    "sledi:\n",
    "\n",
    "$$3\\,k\\,h^2=y_{2j,h}-y_{j,2h}$$\n",
    "\n",
    "in nato izračunamo *oceno napake*:\n",
    "\n",
    "$$E_{j,h}=\\frac{y_{2j,h}-y_{j,2h}}{3}.$$"
   ]
  },
  {
   "cell_type": "markdown",
   "metadata": {
    "slideshow": {
     "slide_type": "subslide"
    }
   },
   "source": [
    "## Numerični zgled: vertikalni met\n",
    "\n",
    "Zgoraj smo vertikalni met rešili s strelsko metodo; uporabimo sedaj metodo končnih razlik. Najprej robni problem:\n",
    "$$y''(t)=F_y/m-g,\\qquad y(0)=0,\\quad y(1)=10.$$\n",
    "zapisati s pomočjo centralne diferenčne sheme ($F_y=-c\\,y'$):\n",
    "\n",
    "$$\\frac{1}{h^2}\\left(y_{i-1}-2\\,y_{i}+y_{i+1}\\right)= -c\\left(\\frac{1}{2h}\\left(-y_{i-1}+y_{i+1}\\right)\\right)/m-g.$$\n",
    "\n",
    "(Tukaj smo predpostavili, da je zračni upor linearno odvisen od hitrost. V nasprotnem primeru bi imeli nelinearni robni problem, in posledično razvili sistem nelinearnih enačb.)"
   ]
  },
  {
   "cell_type": "markdown",
   "metadata": {
    "slideshow": {
     "slide_type": "subslide"
    }
   },
   "source": [
    "Zgornji izraz preoblikujemo:\n",
    "$$(2-c\\,h/m)\\,y_{i-1}-4\\,y_{i}+(2+c\\,h/m)\\,y_{i+1}=-2\\,g\\,h^2,\\qquad i=1,2,\\dots,n-2.$$\n",
    "\n",
    "Robna pogoja sta:\n",
    "\n",
    "$$y_0=0,\\qquad y_{n-1}=10$$"
   ]
  },
  {
   "cell_type": "markdown",
   "metadata": {
    "slideshow": {
     "slide_type": "subslide"
    }
   },
   "source": [
    "Robni problem smo torej preoblikovali na sistem $n$ linearnih enačb. Poglejmo si sedaj konkreten izračun za $n=11$; najprej definirajmo konstante, časovni vektor `t` in korak `h`:"
   ]
  },
  {
   "cell_type": "code",
   "execution_count": 33,
   "metadata": {},
   "outputs": [],
   "source": [
    "n = 11 # liho število\n",
    "c = 0.5\n",
    "m = 1.0\n",
    "g = 9.81\n",
    "t = np.linspace(0, 1, n)\n",
    "h = t[1]"
   ]
  },
  {
   "cell_type": "markdown",
   "metadata": {
    "slideshow": {
     "slide_type": "subslide"
    }
   },
   "source": [
    "Nato nadaljujemo z izračunom tridiagonalne matrike koeficientov `A`. \n",
    "\n",
    "Pomagamo si s funkcijo `numpy.diag()` ([dokumentacija](https://docs.scipy.org/doc/numpy/reference/generated/numpy.diag.html)):\n",
    "\n",
    "```python\n",
    "numpy.diag(v, k=0)\n",
    "```\n",
    "s parametroma:\n",
    "\n",
    "* `v` vektor, ki bo prirejen diagonali,\n",
    "* `k` diagonala, kateri se priredi `v`. `k=0` uporabimo za glavno diagonalo, `k<0` oz. `k>0` uporabimo za  diagonale pod oz. nad glavno diagonalo."
   ]
  },
  {
   "cell_type": "code",
   "execution_count": 34,
   "metadata": {
    "slideshow": {
     "slide_type": "subslide"
    }
   },
   "outputs": [
    {
     "data": {
      "text/plain": [
       "array([[-4.  ,  2.05,  0.  ,  0.  ],\n",
       "       [ 1.95, -4.  ,  2.05,  0.  ],\n",
       "       [ 0.  ,  1.95, -4.  ,  2.05],\n",
       "       [ 0.  ,  0.  ,  1.95, -4.  ]])"
      ]
     },
     "execution_count": 34,
     "metadata": {},
     "output_type": "execute_result"
    }
   ],
   "source": [
    "A = np.diag(-4*np.ones(n), 0) + \\\n",
    "    (2-c*h/m)*np.diag(np.ones(n-1), -1) + \\\n",
    "    (2+c*h/m)*np.diag(np.ones(n-1), 1)\n",
    "A[:4,:4]"
   ]
  },
  {
   "cell_type": "markdown",
   "metadata": {
    "slideshow": {
     "slide_type": "subslide"
    }
   },
   "source": [
    "Definirajmo še vektor konstant:"
   ]
  },
  {
   "cell_type": "code",
   "execution_count": 35,
   "metadata": {},
   "outputs": [],
   "source": [
    "b = -2*g*h**2 * np.ones(n)"
   ]
  },
  {
   "cell_type": "markdown",
   "metadata": {
    "slideshow": {
     "slide_type": "subslide"
    }
   },
   "source": [
    "Sedaj *popravimo* matriko koeficientov `A` in vektor konstant `b`, da zadostimo robnim pogojem:\n",
    "\n",
    "$$y_0=0,\\quad y_{n-1}=10.$$"
   ]
  },
  {
   "cell_type": "code",
   "execution_count": 36,
   "metadata": {},
   "outputs": [],
   "source": [
    "A[0,0] = 1\n",
    "A[0,1] = 0\n",
    "A[-1,-2] = 0\n",
    "A[-1,-1] = 1"
   ]
  },
  {
   "cell_type": "code",
   "execution_count": 37,
   "metadata": {},
   "outputs": [],
   "source": [
    "b[0] = 0.\n",
    "b[-1] = 10."
   ]
  },
  {
   "cell_type": "markdown",
   "metadata": {
    "slideshow": {
     "slide_type": "subslide"
    }
   },
   "source": [
    "Rešimo sistem linearnih enačb:"
   ]
  },
  {
   "cell_type": "code",
   "execution_count": 38,
   "metadata": {},
   "outputs": [],
   "source": [
    "y_mkr = np.linalg.solve(A, b)"
   ]
  },
  {
   "cell_type": "markdown",
   "metadata": {
    "slideshow": {
     "slide_type": "subslide"
    }
   },
   "source": [
    "Prikažemo rezultat:"
   ]
  },
  {
   "cell_type": "code",
   "execution_count": 39,
   "metadata": {},
   "outputs": [
    {
     "data": {
      "image/png": "[encoded data removed]",
      "text/plain": [
       "<matplotlib.figure.Figure at 0x14bc0e89b70>"
      ]
     },
     "metadata": {},
     "output_type": "display_data"
    }
   ],
   "source": [
    "plt.title('Vertikalni met (upor zraka: $-c\\,\\dot y$)')\n",
    "plt.hlines(10, 0, 1, 'C3', label='Ciljna lega', linestyles='dashed', alpha=0.5)\n",
    "plt.plot(t, y_mkr, '.', label='Metoda končnih razlik')\n",
    "plt.xlabel('$t$ [s]')\n",
    "plt.ylabel('$y$ [m]')\n",
    "plt.legend()\n",
    "plt.show()"
   ]
  },
  {
   "cell_type": "markdown",
   "metadata": {},
   "source": [
    "S pomočjo funkcije [`numpy.gradient()`](https://docs.scipy.org/doc/numpy/reference/generated/numpy.gradient.html) izračunamo še hitrost in pospešek:"
   ]
  },
  {
   "cell_type": "code",
   "execution_count": 40,
   "metadata": {},
   "outputs": [
    {
     "data": {
      "text/plain": [
       "array([ 17.99109496,  16.20009044,  14.45276895,  12.79068266])"
      ]
     },
     "execution_count": 40,
     "metadata": {},
     "output_type": "execute_result"
    }
   ],
   "source": [
    "v_mkr = np.gradient(y_mkr,h, edge_order=2)\n",
    "a_mkr = np.gradient(v_mkr,h, edge_order=2)\n",
    "v_mkr[:4]"
   ]
  },
  {
   "cell_type": "markdown",
   "metadata": {
    "slideshow": {
     "slide_type": "subslide"
    }
   },
   "source": [
    "Izračunajmo sedaj še rezultat z dvojnim korakom:"
   ]
  },
  {
   "cell_type": "code",
   "execution_count": 41,
   "metadata": {
    "slideshow": {
     "slide_type": "subslide"
    }
   },
   "outputs": [],
   "source": [
    "n2h = n//2+1\n",
    "t2h = np.linspace(0, 1, n2h)\n",
    "h2h = t[1]\n",
    "A2h = np.diag(-4*np.ones(n2h), 0) + \\\n",
    "    (2-c*h2h/(m))*np.diag(np.ones(n2h-1), -1) + \\\n",
    "    (2+c*h2h/(m))*np.diag(np.ones(n2h-1), 1)\n",
    "b2h = -2*g*h2h**2 * np.ones(n2h)\n",
    "A2h[0,0] = 1\n",
    "A2h[0,1] = 0\n",
    "A2h[-1,-1] = 1\n",
    "A2h[-1,-2] = 0\n",
    "b2h[0] = 0.\n",
    "b2h[-1] = 10.\n",
    "y2h_mkr = np.linalg.solve(A2h, b2h)"
   ]
  },
  {
   "cell_type": "markdown",
   "metadata": {
    "slideshow": {
     "slide_type": "subslide"
    }
   },
   "source": [
    "Primerjajmo prvih šest rezultatov pri koraku $2h$:"
   ]
  },
  {
   "cell_type": "code",
   "execution_count": 42,
   "metadata": {},
   "outputs": [
    {
     "data": {
      "text/plain": [
       "array([ -1.27658352e-16,   2.40584652e+00,   4.59862736e+00,\n",
       "         6.58873597e+00,   8.38605878e+00,   1.00000000e+01])"
      ]
     },
     "execution_count": 42,
     "metadata": {},
     "output_type": "execute_result"
    }
   ],
   "source": [
    "y2h_mkr[:6]"
   ]
  },
  {
   "cell_type": "markdown",
   "metadata": {},
   "source": [
    "z vsakim drugim rezultatom pri koraku $h$:"
   ]
  },
  {
   "cell_type": "code",
   "execution_count": 43,
   "metadata": {},
   "outputs": [
    {
     "data": {
      "text/plain": [
       "array([  4.55476113e-16,   3.24001809e+00,   5.79815462e+00,\n",
       "         7.73931207e+00,   9.12221538e+00,   1.00000000e+01])"
      ]
     },
     "execution_count": 43,
     "metadata": {},
     "output_type": "execute_result"
    }
   ],
   "source": [
    "y_mkr[:12:2]"
   ]
  },
  {
   "cell_type": "markdown",
   "metadata": {
    "slideshow": {
     "slide_type": "subslide"
    }
   },
   "source": [
    "Sedaj lahko ocenimo napako:"
   ]
  },
  {
   "cell_type": "code",
   "execution_count": 44,
   "metadata": {},
   "outputs": [
    {
     "data": {
      "text/plain": [
       "array([  1.94378155e-16,   2.78057188e-01,   3.99842419e-01,\n",
       "         3.83525367e-01,   2.45385533e-01,   0.00000000e+00])"
      ]
     },
     "execution_count": 44,
     "metadata": {},
     "output_type": "execute_result"
    }
   ],
   "source": [
    "(y_mkr[::2]-y2h_mkr)/3"
   ]
  },
  {
   "cell_type": "markdown",
   "metadata": {
    "slideshow": {
     "slide_type": "subslide"
    }
   },
   "source": [
    "## Numerični zgled: nosilec z obremenitvijo"
   ]
  },
  {
   "cell_type": "markdown",
   "metadata": {
    "slideshow": {
     "slide_type": "subslide"
    }
   },
   "source": [
    "Vrnimo se k robnemu problemu nosilca s polsinusno obremenitvijo ($q(x)=-F_0\\,\\sin(\\pi\\,x/l))$), ki smo ga že obravnavali s strelsko metodo. \n",
    "\n",
    "Diferencialno enačbo četrtega reda zapišemo s pomočjo centralne diferenčne sheme (za $i$-to točko):\n",
    "\n",
    "$$-\\frac{E\\,I}{h^4}\\left(1\\,w_{i-2} - 4\\,w_{i-1} + 6\\,w_{i} - 4\\,w_{i+1} + 1\\, w_{i+2}\\right) - F_0\\,\\sin(\\pi\\,x_i/l)= 0.$$"
   ]
  },
  {
   "cell_type": "markdown",
   "metadata": {
    "slideshow": {
     "slide_type": "subslide"
    }
   },
   "source": [
    "Robni pogoji so štirje, najprej poves na robovih: \n",
    "\n",
    "$$w_0=w_{n-1}=0$$\n",
    "\n",
    "Ker na robovih ni momenta, je drugi odvod nič. S centralno diferenčno shemo torej zapišemo dodatne enačbe: \n",
    "\n",
    "$$w_{-1}-2\\,w_{0}+w_{1}=0\\qquad w_{n-2}-2\\,w_{n-1}+w_{n}=0.$$"
   ]
  },
  {
   "cell_type": "markdown",
   "metadata": {
    "slideshow": {
     "slide_type": "subslide"
    }
   },
   "source": [
    "Če za neodvisno spremenljivko $x$ uporabimo $n$ ekvidistantnih točk, potem diferencialno enačbo četrtega reda zapišemo za $n-2$ notranje točke. S tem pridobimo dodatni nefizikalni točki $w_{-1}$ in $w_n$. Če dodamo še štiri robne pogoje, imamo rešljiv sistem linearnih enačb z $n+2$ neznakami in $n+2$ enačbami."
   ]
  },
  {
   "cell_type": "markdown",
   "metadata": {
    "slideshow": {
     "slide_type": "subslide"
    }
   },
   "source": [
    "Najprej pripravimo podatke, neodvisno spremenljivko `x` in korak `h`:"
   ]
  },
  {
   "cell_type": "code",
   "execution_count": 45,
   "metadata": {},
   "outputs": [],
   "source": [
    "l = 10.\n",
    "E = 2.1e11\n",
    "I = 2.1e-5\n",
    "F_0= 1e3\n",
    "n = 100\n",
    "x = np.linspace(0, l, n)\n",
    "h = x[1]"
   ]
  },
  {
   "cell_type": "markdown",
   "metadata": {},
   "source": [
    "Nato pripravimo matriko koeficientov (matrika je dimenzije `(n+2, n+2)`:"
   ]
  },
  {
   "cell_type": "code",
   "execution_count": 46,
   "metadata": {
    "slideshow": {
     "slide_type": "subslide"
    }
   },
   "outputs": [
    {
     "data": {
      "text/plain": [
       "array([[ 6., -4.,  1.,  0.],\n",
       "       [-4.,  6., -4.,  1.],\n",
       "       [ 1., -4.,  6., -4.],\n",
       "       [ 0.,  1., -4.,  6.]])"
      ]
     },
     "execution_count": 46,
     "metadata": {},
     "output_type": "execute_result"
    }
   ],
   "source": [
    "A = +1*np.diag(np.ones(n-2+2), -2) \\\n",
    "    -4*np.diag(np.ones(n-1+2), -1) \\\n",
    "    +6*np.diag(np.ones(n+2), 0)  \\\n",
    "    -4*np.diag(np.ones(n-1+2), +1)  \\\n",
    "    +1*np.diag(np.ones(n-2+2), +2)\n",
    "A[:4,:4]"
   ]
  },
  {
   "cell_type": "markdown",
   "metadata": {
    "slideshow": {
     "slide_type": "subslide"
    }
   },
   "source": [
    "Definirajmo še vektor konstant (dodamo en element na koncu in en na začetku):"
   ]
  },
  {
   "cell_type": "code",
   "execution_count": 47,
   "metadata": {},
   "outputs": [
    {
     "data": {
      "text/plain": [
       "array([  0.00000000e+00,  -0.00000000e+00,  -7.48966545e-10,\n",
       "        -1.49717894e-09])"
      ]
     },
     "execution_count": 47,
     "metadata": {},
     "output_type": "execute_result"
    }
   ],
   "source": [
    "b = np.zeros(n+2)\n",
    "b[1:-1] = - h**4 * F_0*np.sin(np.pi*x/l)/(E*I)\n",
    "b[:4]"
   ]
  },
  {
   "cell_type": "markdown",
   "metadata": {
    "slideshow": {
     "slide_type": "subslide"
    }
   },
   "source": [
    "Sedaj *popravimo* matriko koeficientov `A` in vektor konstant `b`, da zadostimo\n",
    "robnim pogojem. \n",
    "\n",
    "Najprej $w_0=w_{n-1}=0$:"
   ]
  },
  {
   "cell_type": "code",
   "execution_count": 48,
   "metadata": {},
   "outputs": [],
   "source": [
    "A[0,:3]= np.array([0, 1, 0])\n",
    "b[0] = 0\n",
    "A[-1,-3:]= np.array([0, 1, 0])\n",
    "b[-1] = 0"
   ]
  },
  {
   "cell_type": "markdown",
   "metadata": {},
   "source": [
    "Nato $w_{-1}-2\\,w_{0}+w_{1}=0$ in $w_{n-2}-2\\,w_{n-1}+w_{n}=0$:"
   ]
  },
  {
   "cell_type": "code",
   "execution_count": 49,
   "metadata": {},
   "outputs": [],
   "source": [
    "A[1,:4] = np.array([1, -2, 1,0])\n",
    "b[1] = 0\n",
    "A[-2,-4:] = np.array([0, 1, -2, 1])\n",
    "b[-2] = 0"
   ]
  },
  {
   "cell_type": "code",
   "execution_count": 50,
   "metadata": {},
   "outputs": [
    {
     "data": {
      "text/plain": [
       "array([[ 0.,  1.,  0.,  0.,  0.],\n",
       "       [ 1., -2.,  1.,  0.,  0.],\n",
       "       [ 1., -4.,  6., -4.,  1.],\n",
       "       [ 0.,  1., -4.,  6., -4.],\n",
       "       [ 0.,  0.,  1., -4.,  6.]])"
      ]
     },
     "execution_count": 50,
     "metadata": {},
     "output_type": "execute_result"
    }
   ],
   "source": [
    "A[:5,:5]"
   ]
  },
  {
   "cell_type": "code",
   "execution_count": 51,
   "metadata": {},
   "outputs": [
    {
     "data": {
      "text/plain": [
       "array([[ 6., -4.,  1.,  0.,  0.],\n",
       "       [-4.,  6., -4.,  1.,  0.],\n",
       "       [ 1., -4.,  6., -4.,  1.],\n",
       "       [ 0.,  0.,  1., -2.,  1.],\n",
       "       [ 0.,  0.,  0.,  1.,  0.]])"
      ]
     },
     "execution_count": 51,
     "metadata": {},
     "output_type": "execute_result"
    }
   ],
   "source": [
    "A[-5:,-5:]"
   ]
  },
  {
   "cell_type": "code",
   "execution_count": 52,
   "metadata": {},
   "outputs": [
    {
     "data": {
      "text/plain": [
       "array([  0.00000000e+00,   0.00000000e+00,  -7.48966545e-10,\n",
       "        -1.49717894e-09,  -2.24388381e-09])"
      ]
     },
     "execution_count": 52,
     "metadata": {},
     "output_type": "execute_result"
    }
   ],
   "source": [
    "b[:5]"
   ]
  },
  {
   "cell_type": "code",
   "execution_count": 53,
   "metadata": {},
   "outputs": [
    {
     "data": {
      "text/plain": [
       "array([ -2.24388381e-09,  -1.49717894e-09,  -7.48966545e-10,\n",
       "         0.00000000e+00,   0.00000000e+00])"
      ]
     },
     "execution_count": 53,
     "metadata": {},
     "output_type": "execute_result"
    }
   ],
   "source": [
    "b[-5:]"
   ]
  },
  {
   "cell_type": "markdown",
   "metadata": {
    "slideshow": {
     "slide_type": "subslide"
    }
   },
   "source": [
    "Rešimo sistem linearnih enačb:"
   ]
  },
  {
   "cell_type": "code",
   "execution_count": 54,
   "metadata": {},
   "outputs": [],
   "source": [
    "y_mkr = np.linalg.solve(A, b)"
   ]
  },
  {
   "cell_type": "markdown",
   "metadata": {
    "slideshow": {
     "slide_type": "subslide"
    }
   },
   "source": [
    "Prikažemo rezultat:"
   ]
  },
  {
   "cell_type": "code",
   "execution_count": 55,
   "metadata": {},
   "outputs": [
    {
     "data": {
      "image/png": "[encoded data removed]",
      "text/plain": [
       "<matplotlib.figure.Figure at 0x14bc0843c18>"
      ]
     },
     "metadata": {},
     "output_type": "display_data"
    }
   ],
   "source": [
    "plt.title('Poves ob polsinusni obremenitvi')\n",
    "plt.plot(x, y_pol_sin[:,0], 'o', label='Strelska metoda')\n",
    "plt.plot(x, y_mkr[1:-1], '.', label='Metoda končnih razlik')\n",
    "plt.xlabel('$x$ [m]')\n",
    "plt.ylabel('$w$ [m]')\n",
    "plt.legend()\n",
    "plt.show()"
   ]
  },
  {
   "cell_type": "markdown",
   "metadata": {},
   "source": [
    "# Dodatno: simbolna rešitev nosilca"
   ]
  },
  {
   "cell_type": "markdown",
   "metadata": {
    "slideshow": {
     "slide_type": "subslide"
    }
   },
   "source": [
    "Tukaj si bomo pogledali simbolno reševanje robnega problema. Poudariti je treba, da gre tukaj zgolj za zgled, ki ga lahko naredimo za obravnavani nosilec z relativno enostavno polsinusno obremenitvijo. **V praksi so seveda obremenitve in tudi oblike nosilca lahko bistveno bolj zahtevne in takrat druge poti kot numeričnega reševanja skoraj nimamo na voljo.**"
   ]
  },
  {
   "cell_type": "markdown",
   "metadata": {
    "slideshow": {
     "slide_type": "subslide"
    }
   },
   "source": [
    "Najprej uvozimo `sympy`:"
   ]
  },
  {
   "cell_type": "code",
   "execution_count": 56,
   "metadata": {},
   "outputs": [],
   "source": [
    "import sympy as sym\n",
    "sym.init_printing()"
   ]
  },
  {
   "cell_type": "markdown",
   "metadata": {
    "slideshow": {
     "slide_type": "subslide"
    }
   },
   "source": [
    "Definirajmo spremenljivke:"
   ]
  },
  {
   "cell_type": "code",
   "execution_count": 57,
   "metadata": {},
   "outputs": [],
   "source": [
    "w, x, E, I, F_0, l = sym.symbols('w, x, E, I, F_0, l')"
   ]
  },
  {
   "cell_type": "markdown",
   "metadata": {},
   "source": [
    "Definirajmo differencialno enačbo (robne pogoje dodamo pozneje):"
   ]
  },
  {
   "cell_type": "code",
   "execution_count": 58,
   "metadata": {},
   "outputs": [
    {
     "data": {
      "image/png": "[encoded data removed]",
      "text/latex": [
       "$$- E I \\frac{d^{4}}{d x^{4}}  w{\\left (x \\right )} - F_{0} \\sin{\\left (\\frac{\\pi x}{l} \\right )} = 0$$"
      ],
      "text/plain": [
       "        4                        \n",
       "       d                ⎛π⋅x⎞    \n",
       "- E⋅I⋅───(w(x)) - F₀⋅sin⎜───⎟ = 0\n",
       "        4               ⎝ l ⎠    \n",
       "      dx                         "
      ]
     },
     "execution_count": 58,
     "metadata": {},
     "output_type": "execute_result"
    }
   ],
   "source": [
    "eq = sym.Eq(-E*I*w(x).diff(x,4)-F_0*sym.sin(sym.pi*x/l))\n",
    "eq"
   ]
  },
  {
   "cell_type": "markdown",
   "metadata": {
    "slideshow": {
     "slide_type": "subslide"
    }
   },
   "source": [
    "Rešimo:"
   ]
  },
  {
   "cell_type": "code",
   "execution_count": 59,
   "metadata": {
    "slideshow": {
     "slide_type": "-"
    }
   },
   "outputs": [
    {
     "data": {
      "image/png": "[encoded data removed]",
      "text/latex": [
       "$$C_{1} + C_{2} x + C_{3} x^{2} + C_{4} x^{3} - \\frac{F_{0} l^{4}}{\\pi^{4} E I} \\sin{\\left (\\frac{\\pi x}{l} \\right )}$$"
      ],
      "text/plain": [
       "                                4    ⎛π⋅x⎞\n",
       "                            F₀⋅l ⋅sin⎜───⎟\n",
       "                2       3            ⎝ l ⎠\n",
       "C₁ + C₂⋅x + C₃⋅x  + C₄⋅x  - ──────────────\n",
       "                                 4        \n",
       "                                π ⋅E⋅I    "
      ]
     },
     "execution_count": 59,
     "metadata": {},
     "output_type": "execute_result"
    }
   ],
   "source": [
    "sol = sym.dsolve(eq).args[1]\n",
    "sol"
   ]
  },
  {
   "cell_type": "markdown",
   "metadata": {
    "slideshow": {
     "slide_type": "subslide"
    }
   },
   "source": [
    "Iz vrednosti rešitve pri $x=0$:"
   ]
  },
  {
   "cell_type": "code",
   "execution_count": 60,
   "metadata": {},
   "outputs": [
    {
     "data": {
      "image/png": "[encoded data removed]",
      "text/latex": [
       "$$C_{1}$$"
      ],
      "text/plain": [
       "C₁"
      ]
     },
     "execution_count": 60,
     "metadata": {},
     "output_type": "execute_result"
    }
   ],
   "source": [
    "sol.subs(x, 0)"
   ]
  },
  {
   "cell_type": "markdown",
   "metadata": {},
   "source": [
    "in drugega odvoda rešitve pri $x=0$:"
   ]
  },
  {
   "cell_type": "code",
   "execution_count": 61,
   "metadata": {},
   "outputs": [
    {
     "data": {
      "image/png": "[encoded data removed]",
      "text/latex": [
       "$$2 C_{3}$$"
      ],
      "text/plain": [
       "2⋅C₃"
      ]
     },
     "execution_count": 61,
     "metadata": {},
     "output_type": "execute_result"
    }
   ],
   "source": [
    "sol.diff(x, 2).subs(x, 0)"
   ]
  },
  {
   "cell_type": "markdown",
   "metadata": {
    "slideshow": {
     "slide_type": "subslide"
    }
   },
   "source": [
    "določimo konstanti `C1` in `C3` (pomik in moment na levi strani sta enaka nič): "
   ]
  },
  {
   "cell_type": "code",
   "execution_count": 62,
   "metadata": {},
   "outputs": [],
   "source": [
    "c1c3 = {'C1': 0, 'C3': 0}"
   ]
  },
  {
   "cell_type": "markdown",
   "metadata": {
    "slideshow": {
     "slide_type": "subslide"
    }
   },
   "source": [
    "Robni pogoji na desni strani ($x=l$):"
   ]
  },
  {
   "cell_type": "code",
   "execution_count": 63,
   "metadata": {},
   "outputs": [
    {
     "data": {
      "image/png": "[encoded data removed]",
      "text/latex": [
       "$$C_{2} l + C_{4} l^{3}$$"
      ],
      "text/plain": [
       "           3\n",
       "C₂⋅l + C₄⋅l "
      ]
     },
     "execution_count": 63,
     "metadata": {},
     "output_type": "execute_result"
    }
   ],
   "source": [
    "eq1 = sol.subs(c1c3).subs(x, l)\n",
    "eq1"
   ]
  },
  {
   "cell_type": "markdown",
   "metadata": {
    "slideshow": {
     "slide_type": "subslide"
    }
   },
   "source": [
    "Ker na desni strani ni pomika, sledi rešitev za konstanto `C2`:"
   ]
  },
  {
   "cell_type": "code",
   "execution_count": 64,
   "metadata": {},
   "outputs": [
    {
     "data": {
      "image/png": "[encoded data removed]",
      "text/latex": [
       "$$- C_{4} l^{2}$$"
      ],
      "text/plain": [
       "     2\n",
       "-C₄⋅l "
      ]
     },
     "execution_count": 64,
     "metadata": {},
     "output_type": "execute_result"
    }
   ],
   "source": [
    "C2 = sym.solve(eq1, 'C2')[0]\n",
    "C2"
   ]
  },
  {
   "cell_type": "markdown",
   "metadata": {
    "slideshow": {
     "slide_type": "subslide"
    }
   },
   "source": [
    "Ker ni momenta, sledi še:"
   ]
  },
  {
   "cell_type": "code",
   "execution_count": 65,
   "metadata": {},
   "outputs": [
    {
     "data": {
      "image/png": "[encoded data removed]",
      "text/latex": [
       "$$6 C_{4} l$$"
      ],
      "text/plain": [
       "6⋅C₄⋅l"
      ]
     },
     "execution_count": 65,
     "metadata": {},
     "output_type": "execute_result"
    }
   ],
   "source": [
    "eq2 = sol.diff(x, 2).subs(c1c3).subs(x, l)\n",
    "eq2"
   ]
  },
  {
   "cell_type": "markdown",
   "metadata": {
    "slideshow": {
     "slide_type": "subslide"
    }
   },
   "source": [
    "Določimo konstanto `C4`:"
   ]
  },
  {
   "cell_type": "code",
   "execution_count": 66,
   "metadata": {},
   "outputs": [
    {
     "data": {
      "image/png": "[encoded data removed]",
      "text/latex": [
       "$$0$$"
      ],
      "text/plain": [
       "0"
      ]
     },
     "execution_count": 66,
     "metadata": {},
     "output_type": "execute_result"
    }
   ],
   "source": [
    "C4 = sym.solve(\n",
    "      eq2.subs('C2', C2),\n",
    "      'C4'\n",
    "     )[0]\n",
    "C4"
   ]
  },
  {
   "cell_type": "markdown",
   "metadata": {
    "slideshow": {
     "slide_type": "subslide"
    }
   },
   "source": [
    "Upoštevajoč izračunane konstante je rešitev:"
   ]
  },
  {
   "cell_type": "code",
   "execution_count": 67,
   "metadata": {
    "slideshow": {
     "slide_type": "-"
    }
   },
   "outputs": [
    {
     "data": {
      "image/png": "[encoded data removed]",
      "text/latex": [
       "$$- \\frac{F_{0} l^{4}}{\\pi^{4} E I} \\sin{\\left (\\frac{\\pi x}{l} \\right )}$$"
      ],
      "text/plain": [
       "     4    ⎛π⋅x⎞ \n",
       "-F₀⋅l ⋅sin⎜───⎟ \n",
       "          ⎝ l ⎠ \n",
       "────────────────\n",
       "      4         \n",
       "     π ⋅E⋅I     "
      ]
     },
     "execution_count": 67,
     "metadata": {},
     "output_type": "execute_result"
    }
   ],
   "source": [
    "resitev = sol.subs(c1c3).subs('C2', C2).subs('C4', C4)\n",
    "resitev"
   ]
  },
  {
   "cell_type": "markdown",
   "metadata": {
    "slideshow": {
     "slide_type": "subslide"
    }
   },
   "source": [
    "Pripravimo še numerično funkcijo `resitev_np()`:"
   ]
  },
  {
   "cell_type": "code",
   "execution_count": 68,
   "metadata": {},
   "outputs": [],
   "source": [
    "podatki = {E: 2.1e11, I: 2.1e-5, l: 10, F_0:1e3}\n",
    "resitev_np = sym.lambdify(x, resitev.subs(podatki), modules='numpy')\n",
    "x_ana = np.linspace(0, podatki[l], 100)\n",
    "y_ana = resitev_np(x_ana)"
   ]
  },
  {
   "cell_type": "code",
   "execution_count": 69,
   "metadata": {},
   "outputs": [
    {
     "data": {
      "image/png": "[encoded data removed]",
      "text/plain": [
       "<matplotlib.figure.Figure at 0x14bc42fea58>"
      ]
     },
     "metadata": {},
     "output_type": "display_data"
    }
   ],
   "source": [
    "plt.title('Upogib ob polsinusni obremenitvi')\n",
    "plt.plot(x_ana, y_ana, '-', label='Analitična rešitev')\n",
    "plt.xlabel('$x$ [m]')\n",
    "plt.ylabel('$w$ [m]')\n",
    "plt.legend()\n",
    "plt.show()"
   ]
  },
  {
   "cell_type": "markdown",
   "metadata": {},
   "source": [
    "Primerjajmo sedaj analitično rešitev, z rešitivijo z metodo končnih razlik in strelsko metodo:"
   ]
  },
  {
   "cell_type": "code",
   "execution_count": 70,
   "metadata": {},
   "outputs": [
    {
     "data": {
      "image/png": "[encoded data removed]",
      "text/latex": [
       "$$\\left [ -0.0232759411601, \\quad -0.0232798479985, \\quad -0.0232759509119\\right ]$$"
      ],
      "text/plain": [
       "[-0.0232759411601, -0.0232798479985, -0.0232759509119]"
      ]
     },
     "execution_count": 70,
     "metadata": {},
     "output_type": "execute_result"
    }
   ],
   "source": [
    "[np.min(y_ana), np.min(y_mkr), np.min(y_pol_sin)]"
   ]
  }
 ],
 "metadata": {
  "anaconda-cloud": {},
  "celltoolbar": "Slideshow",
  "kernelspec": {
   "display_name": "Python 3",
   "language": "python",
   "name": "python3"
  },
  "language_info": {
   "codemirror_mode": {
    "name": "ipython",
    "version": 3
   },
   "file_extension": ".py",
   "mimetype": "text/x-python",
   "name": "python",
   "nbconvert_exporter": "python",
   "pygments_lexer": "ipython3",
   "version": "3.6.3"
  },
  "latex_envs": {
   "bibliofile": "biblio.bib",
   "cite_by": "apalike",
   "current_citInitial": 1,
   "eqLabelWithNumbers": true,
   "eqNumInitial": 0
  },
  "livereveal": {
   "theme": "sky",
   "transition": "default",
   "width": 1200
  },
  "nav_menu": {},
  "toc": {
   "colors": {
    "hover_highlight": "#DAA520",
    "navigate_num": "#000000",
    "navigate_text": "#333333",
    "running_highlight": "#FF0000",
    "selected_highlight": "#FFD700",
    "sidebar_border": "#EEEEEE",
    "wrapper_background": "#FFFFFF"
   },
   "moveMenuLeft": true,
   "nav_menu": {
    "height": "209px",
    "width": "252px"
   },
   "navigate_menu": true,
   "number_sections": true,
   "sideBar": true,
   "threshold": "2",
   "toc_cell": true,
   "toc_section_display": "block",
   "toc_window_display": true,
   "widenNotebook": false
  }
 },
 "nbformat": 4,
 "nbformat_minor": 1
}
