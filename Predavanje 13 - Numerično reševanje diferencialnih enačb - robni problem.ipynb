{
 "cells": [
  {
   "cell_type": "markdown",
   "metadata": {
    "slideshow": {
     "slide_type": "slide"
    }
   },
   "source": [
    "<font size=\"2\"> [github.com/jankoslavic/pypinm](http://github.com/jankoslavic/pypinm)</font>\n",
    "\n",
    "<center>\n",
    "<img width=300 src=\"./fig/ladisk.png\">\n",
    "<br>\n",
    "<font size=\"7\" color=\"f00e0e\" face=\"garamond\"><b>Numerično reševanje diferencialnih enačb - robni problem</b></font>\n",
    "<br><br>\n",
    "<font size=\"4\">\n",
    "[izr.prof. dr. Janko Slavič](http://www.ladisk.si/~slavic)\n",
    "</font>\n",
    "<br><br>\n",
    "<font size=\"2\">December 2016 </font>\n",
    "</center>"
   ]
  },
  {
   "cell_type": "markdown",
   "metadata": {
    "slideshow": {
     "slide_type": "subslide"
    },
    "toc": "true"
   },
   "source": [
    "# Table of Contents\n",
    " <p><div class=\"lev1\"><a href=\"#Uvod-v-reševanje-dvo-točkovnih-robnih-pogojev\"><span class=\"toc-item-num\">1&nbsp;&nbsp;</span>Uvod v reševanje dvo-točkovnih robnih pogojev</a></div><div class=\"lev1\"><a href=\"#Strelska-metoda\"><span class=\"toc-item-num\">2&nbsp;&nbsp;</span>Strelska metoda</a></div><div class=\"lev2\"><a href=\"#Primer:-nadaljevanje-domače-naloge\"><span class=\"toc-item-num\">2.1&nbsp;&nbsp;</span>Primer: nadaljevanje domače naloge</a></div><div class=\"lev3\"><a href=\"#Primer-1a:-spreminjanje-začetne-hitrosti-za-doseganje-razdalje-$x$\"><span class=\"toc-item-num\">2.1.1&nbsp;&nbsp;</span>Primer 1a: spreminjanje začetne hitrosti za doseganje razdalje <span class=\"MathJax_Preview\" style=\"color: inherit;\"></span><span class=\"MathJax\" id=\"MathJax-Element-67-Frame\" tabindex=\"0\" data-mathml=\"<math xmlns=&quot;http://www.w3.org/1998/Math/MathML&quot;><mi>x</mi></math>\" role=\"presentation\" style=\"position: relative;\"><nobr aria-hidden=\"true\"><span class=\"math\" id=\"MathJax-Span-984\" role=\"math\" style=\"width: 0.589em; display: inline-block;\"><span style=\"display: inline-block; position: relative; width: 0.454em; height: 0px; font-size: 123%;\"><span style=\"position: absolute; clip: rect(1.719em 1000.45em 2.441em -999.998em); top: -2.301em; left: 0.002em;\"><span class=\"mrow\" id=\"MathJax-Span-985\"><span class=\"mi\" id=\"MathJax-Span-986\" style=\"font-family: STIXMathJax_Main-italic;\">x<span style=\"display: inline-block; overflow: hidden; height: 1px; width: 0.002em;\"></span></span></span><span style=\"display: inline-block; width: 0px; height: 2.306em;\"></span></span></span><span style=\"display: inline-block; overflow: hidden; vertical-align: -0.053em; border-left: 0px solid; width: 0px; height: 0.669em;\"></span></span></nobr><span class=\"MJX_Assistive_MathML\" role=\"presentation\"><math xmlns=\"http://www.w3.org/1998/Math/MathML\"><mi>x</mi></math></span></span><script type=\"math/tex\" id=\"MathJax-Element-67\">x</script></a></div><div class=\"lev3\"><a href=\"#Primer-1b:-spreminjanje-začetnih-pogojev-za-doseganje-$x$-in-$y$\"><span class=\"toc-item-num\">2.1.2&nbsp;&nbsp;</span>Primer 1b: spreminjanje začetnih pogojev za doseganje <span class=\"MathJax_Preview\" style=\"color: inherit;\"></span><span class=\"MathJax\" id=\"MathJax-Element-70-Frame\" tabindex=\"0\" data-mathml=\"<math xmlns=&quot;http://www.w3.org/1998/Math/MathML&quot;><mi>x</mi></math>\" role=\"presentation\" style=\"position: relative;\"><nobr aria-hidden=\"true\"><span class=\"math\" id=\"MathJax-Span-993\" role=\"math\" style=\"width: 0.589em; display: inline-block;\"><span style=\"display: inline-block; position: relative; width: 0.454em; height: 0px; font-size: 123%;\"><span style=\"position: absolute; clip: rect(1.719em 1000.45em 2.441em -999.998em); top: -2.301em; left: 0.002em;\"><span class=\"mrow\" id=\"MathJax-Span-994\"><span class=\"mi\" id=\"MathJax-Span-995\" style=\"font-family: STIXMathJax_Main-italic;\">x<span style=\"display: inline-block; overflow: hidden; height: 1px; width: 0.002em;\"></span></span></span><span style=\"display: inline-block; width: 0px; height: 2.306em;\"></span></span></span><span style=\"display: inline-block; overflow: hidden; vertical-align: -0.053em; border-left: 0px solid; width: 0px; height: 0.669em;\"></span></span></nobr><span class=\"MJX_Assistive_MathML\" role=\"presentation\"><math xmlns=\"http://www.w3.org/1998/Math/MathML\"><mi>x</mi></math></span></span><script type=\"math/tex\" id=\"MathJax-Element-70\">x</script> in <span class=\"MathJax_Preview\" style=\"color: inherit;\"></span><span class=\"MathJax\" id=\"MathJax-Element-71-Frame\" tabindex=\"0\" data-mathml=\"<math xmlns=&quot;http://www.w3.org/1998/Math/MathML&quot;><mi>y</mi></math>\" role=\"presentation\" style=\"position: relative;\"><nobr aria-hidden=\"true\"><span class=\"math\" id=\"MathJax-Span-996\" role=\"math\" style=\"width: 0.589em; display: inline-block;\"><span style=\"display: inline-block; position: relative; width: 0.454em; height: 0px; font-size: 123%;\"><span style=\"position: absolute; clip: rect(1.719em 1000.45em 2.667em -999.998em); top: -2.301em; left: 0.002em;\"><span class=\"mrow\" id=\"MathJax-Span-997\"><span class=\"mi\" id=\"MathJax-Span-998\" style=\"font-family: STIXMathJax_Main-italic;\">y</span></span><span style=\"display: inline-block; width: 0px; height: 2.306em;\"></span></span></span><span style=\"display: inline-block; overflow: hidden; vertical-align: -0.331em; border-left: 0px solid; width: 0px; height: 0.892em;\"></span></span></nobr><span class=\"MJX_Assistive_MathML\" role=\"presentation\"><math xmlns=\"http://www.w3.org/1998/Math/MathML\"><mi>y</mi></math></span></span><script type=\"math/tex\" id=\"MathJax-Element-71\">y</script></a></div><div class=\"lev2\"><a href=\"#Primer-2:-nosilec-z-obremenitvijo\"><span class=\"toc-item-num\">2.2&nbsp;&nbsp;</span>Primer 2: nosilec z obremenitvijo</a></div><div class=\"lev3\"><a href=\"#Simbolna-rešitev\"><span class=\"toc-item-num\">2.2.1&nbsp;&nbsp;</span>Simbolna rešitev</a></div><div class=\"lev3\"><a href=\"#Numerična-rešitev\"><span class=\"toc-item-num\">2.2.2&nbsp;&nbsp;</span>Numerična rešitev</a></div><div class=\"lev1\"><a href=\"#Metoda-končnih-razlik\"><span class=\"toc-item-num\">3&nbsp;&nbsp;</span>Metoda končnih razlik</a></div><div class=\"lev2\"><a href=\"#Numerični-zgled\"><span class=\"toc-item-num\">3.1&nbsp;&nbsp;</span>Numerični zgled</a></div>"
   ]
  },
  {
   "cell_type": "code",
   "execution_count": 1,
   "metadata": {
    "collapsed": false,
    "slideshow": {
     "slide_type": "subslide"
    }
   },
   "outputs": [
    {
     "name": "stderr",
     "output_type": "stream",
     "text": [
      "C:\\Anaconda3\\lib\\site-packages\\matplotlib\\__init__.py:872: UserWarning: axes.color_cycle is deprecated and replaced with axes.prop_cycle; please use the latter.\n",
      "  warnings.warn(self.msg_depr % (key, alt_key))\n"
     ]
    }
   ],
   "source": [
    "import numpy as np\n",
    "from ipywidgets import interact\n",
    "from scipy.integrate import ode, odeint\n",
    "import matplotlib.pyplot as plt\n",
    "import seaborn # ta paket lahko odstranite, namenjen je lepšemu izrisu\n",
    "%matplotlib inline"
   ]
  },
  {
   "cell_type": "markdown",
   "metadata": {
    "slideshow": {
     "slide_type": "slide"
    }
   },
   "source": [
    "# Uvod v reševanje dvo-točkovnih robnih pogojev"
   ]
  },
  {
   "cell_type": "markdown",
   "metadata": {},
   "source": [
    "Pod dvo točkovnima robnima pogojema razumemo npr. navadno diferencialno enačbo:\n",
    "$$y''=f(t, y, y'),$$\n",
    "kjer so podani dodatni pogoji:\n",
    "$$y(a)=\\alpha\\qquad\\textrm{in}\\qquad y(b)=\\beta.$$"
   ]
  },
  {
   "cell_type": "markdown",
   "metadata": {
    "slideshow": {
     "slide_type": "subslide"
    }
   },
   "source": [
    "Za razliko od reševanja diferencialnih enačb pri začetnih vrednostih, imamo tukaj podane vrednosti pri dveh različnih časih $a$ in $b$ (v tem primeru je neodvisna spremenljivka čas, v splošnem pa ne). Metode, ki smo jih spoznali pri reševanju glede na *začetne pogoje* zato tukaj neposredno niso uporabne. Uporabimo jih lahko morebiti tako, da *ugibamo začetne pogoje* in če z začetnimi pogoji zadostimo robne pogoje, morebiti najdemo pravo rešitev. V ideji bi torej ugibali začetne pogoje in nato gledali ali smo zadeli željene robne pogoje; nato bi naredili morebitne popravke začetnih pogojev in spet gledali rezultat. Takšen iterativen pristop se imenuje **strelska metoda** (ang. *shooting method*)."
   ]
  },
  {
   "cell_type": "markdown",
   "metadata": {
    "slideshow": {
     "slide_type": "subslide"
    }
   },
   "source": [
    "Drugačen pristop predstavlja diskretizacija diferencialne enačbe s pomočjo **končnih razlik**. Na tak način diferencialno enačbo preoblikujemo na sistem algebrajskih enačb.\n",
    "\n",
    "Oba pristopa si bomo pogledali v nadaljevanju."
   ]
  },
  {
   "cell_type": "markdown",
   "metadata": {
    "slideshow": {
     "slide_type": "slide"
    }
   },
   "source": [
    "# Strelska metoda"
   ]
  },
  {
   "cell_type": "markdown",
   "metadata": {},
   "source": [
    "Predpostavimo, da zgoraj prikazano diferencialno enačbo ($y''=f(t, y, y')$) rešijo začetni pogoji:\n",
    "$$y(a)=\\alpha\\qquad\\textrm{in}\\qquad y'(a)=u.$$\n",
    "\n",
    "Če $\\theta(u)$ predstavlja rešitev $y(b)$ ob začetnih pogojih $y(a)=\\alpha\\qquad\\textrm{in}\\qquad y'(a)=u$, potem smo rešitev za robni pogoj našli, ko velja:\n",
    "$$r(u)=\\theta(u)-\\beta=0.$$\n",
    "\n",
    "Izpeljan izraz v bistvu predstavlja iskanje ničel funkcije mejnih preostankov $r(u)$."
   ]
  },
  {
   "cell_type": "markdown",
   "metadata": {
    "slideshow": {
     "slide_type": "subslide"
    }
   },
   "source": [
    "## Primer: nadaljevanje domače naloge"
   ]
  },
  {
   "cell_type": "markdown",
   "metadata": {},
   "source": [
    "Na sliki (vir: Numerical Methods in Engineering With Python 3, 3rd Ed, Jaan Kiusalaas) je prikazan izstrelek mase $m$, ki ga izstrelimo s hitrosjo $v_0$ pod kotom $\\alpha$. Če je sila upora zraka: $F=c\\,v^{3/2}$, potem sta gibalni enačbi:\n",
    "$$\\ddot x(t)=-F\\,\\cos(\\alpha)/m\\qquad\\ddot y(t)=-F\\,\\sin(\\alpha)/m-g.$$\n",
    "\n",
    "Opomba: $v=\\sqrt{\\dot x^2+\\dot y^2}.$ Ustrezne parametre si izmislite.\n",
    "<img src=\"./fig/Jaan_Kiusalaas_stran_265_n13.png\" width=300>\n",
    "Določite začetne pogoje za doseganje izbranih robnih pogojev!"
   ]
  },
  {
   "cell_type": "markdown",
   "metadata": {
    "slideshow": {
     "slide_type": "subslide"
    }
   },
   "source": [
    "Pripravimo diferencialno enačbo"
   ]
  },
  {
   "cell_type": "code",
   "execution_count": 2,
   "metadata": {
    "collapsed": false
   },
   "outputs": [],
   "source": [
    "# Parametre si ustrezno izmislimo\n",
    "v0 = 50\n",
    "m = 1\n",
    "alpha = 30*np.pi/180\n",
    "y_zacetni_pogoji = np.array([0, v0*np.cos(alpha), 0, v0*np.sin(alpha)])\n",
    "def F(y, t, c=0.25, g=9.81, m=1):\n",
    "    \"\"\" Funkcija prvih odvodov\n",
    "    \n",
    "    y: vektor vrednosti pri `t`\n",
    "    \"\"\"\n",
    "    # y = [x0, x1, y0, y1]\n",
    "    v = np.sqrt(y[1]**2+y[3]**2)\n",
    "    F = c*v**(3/2)\n",
    "    a = np.arctan2(y[3],y[1])\n",
    "    return np.array([y[1], - F*np.cos(a)/m, y[3], -F*np.sin(a)/m - g])"
   ]
  },
  {
   "cell_type": "markdown",
   "metadata": {
    "slideshow": {
     "slide_type": "subslide"
    }
   },
   "source": [
    "Začetni pogoji (pri času $t=0\\,$s):"
   ]
  },
  {
   "cell_type": "code",
   "execution_count": 3,
   "metadata": {
    "collapsed": false
   },
   "outputs": [
    {
     "data": {
      "text/plain": [
       "array([  0.        ,  43.30127019,   0.        ,  25.        ])"
      ]
     },
     "execution_count": 3,
     "metadata": {},
     "output_type": "execute_result"
    }
   ],
   "source": [
    "y_zacetni_pogoji"
   ]
  },
  {
   "cell_type": "markdown",
   "metadata": {},
   "source": [
    "Seznam prvih odvodov pri času $t=0\\,$s je:"
   ]
  },
  {
   "cell_type": "code",
   "execution_count": 4,
   "metadata": {
    "collapsed": false
   },
   "outputs": [
    {
     "data": {
      "text/plain": [
       "array([ 43.30127019, -76.54655446,  25.        , -54.00417382])"
      ]
     },
     "execution_count": 4,
     "metadata": {},
     "output_type": "execute_result"
    }
   ],
   "source": [
    "F(y_zacetni_pogoji, t=0)"
   ]
  },
  {
   "cell_type": "markdown",
   "metadata": {
    "slideshow": {
     "slide_type": "subslide"
    }
   },
   "source": [
    "Pripravimo rešitev glede na začetne pogoje (v obliki slike)"
   ]
  },
  {
   "cell_type": "code",
   "execution_count": 5,
   "metadata": {
    "collapsed": false
   },
   "outputs": [],
   "source": [
    "t = np.linspace(0, 5, 51)\n",
    "\n",
    "def slika(v0 = 50, kot = 30, c=0.25, t1=1, m=1):\n",
    "    alpha = kot*np.pi/180\n",
    "    y_zacetni_pogoji = np.array([0, v0*np.cos(alpha), 0, v0*np.sin(alpha)])\n",
    "    y_ode = odeint(F, y_zacetni_pogoji, t, args=(c, m))\n",
    "    plt.plot(y_ode[:, 0], y_ode[:, 2], 'b.')\n",
    "    plt.plot(y_ode[t == t1, 0], y_ode[t == t1, 2], 'ro', label='lega pri $t_1$')\n",
    "    plt.xlim(0, 50)\n",
    "    plt.ylim(0, 25)\n",
    "    plt.legend()\n",
    "    plt.xlabel('$x$ [m]')\n",
    "    plt.ylabel('$y$ [m]')\n",
    "    plt.show()"
   ]
  },
  {
   "cell_type": "markdown",
   "metadata": {
    "slideshow": {
     "slide_type": "subslide"
    }
   },
   "source": [
    "Spreminjajte sedaj začetne pogoje (hitrost in kot) za doseganje poljubnih pogojev"
   ]
  },
  {
   "cell_type": "code",
   "execution_count": 6,
   "metadata": {
    "collapsed": false
   },
   "outputs": [
    {
     "data": {
      "image/png": "[encoded data removed]",
      "text/plain": [
       "<matplotlib.figure.Figure at 0x1b9ecf4f518>"
      ]
     },
     "metadata": {},
     "output_type": "display_data"
    }
   ],
   "source": [
    "interact(slika, v0 = (1, 70, 3), kot = (1, 89, 2), c = (0.05, 0.5, 0.05), m = (0.2, 5, 0.2), t1 =(.2, 5, .2));"
   ]
  },
  {
   "cell_type": "markdown",
   "metadata": {
    "slideshow": {
     "slide_type": "subslide"
    }
   },
   "source": [
    "### Primer 1a: spreminjanje začetne hitrosti za doseganje razdalje $x$"
   ]
  },
  {
   "cell_type": "markdown",
   "metadata": {},
   "source": [
    "Definirajmo funkcijo mejnega preostanka:"
   ]
  },
  {
   "cell_type": "code",
   "execution_count": 7,
   "metadata": {
    "collapsed": false
   },
   "outputs": [],
   "source": [
    "def R(v0=30, alpha = 30*np.pi/180, c=0.25, m=1, t1=1, ciljni_x_pri_t1=20):\n",
    "    y_zacetni_pogoji = np.array([0, v0*np.cos(alpha), 0, v0*np.sin(alpha)])\n",
    "    t = np.linspace(0, t1, 100)\n",
    "    y_ode = odeint(F, y_zacetni_pogoji, t, args=(c, m))\n",
    "    return y_ode[-1, 0]-ciljni_x_pri_t1"
   ]
  },
  {
   "cell_type": "markdown",
   "metadata": {
    "slideshow": {
     "slide_type": "subslide"
    }
   },
   "source": [
    "Poiščimo ničlo mejnega preostanka (zelo pomemben je dober začetni približek!):"
   ]
  },
  {
   "cell_type": "code",
   "execution_count": 8,
   "metadata": {
    "collapsed": false
   },
   "outputs": [],
   "source": [
    "import scipy.optimize as optimize"
   ]
  },
  {
   "cell_type": "code",
   "execution_count": 9,
   "metadata": {
    "collapsed": false
   },
   "outputs": [
    {
     "data": {
      "text/plain": [
       "41.688541742460842"
      ]
     },
     "execution_count": 9,
     "metadata": {},
     "output_type": "execute_result"
    }
   ],
   "source": [
    "optimize.newton(R, 20)"
   ]
  },
  {
   "cell_type": "markdown",
   "metadata": {
    "slideshow": {
     "slide_type": "subslide"
    }
   },
   "source": [
    "### Primer 1b: spreminjanje začetnih pogojev za doseganje $x$ in $y$"
   ]
  },
  {
   "cell_type": "markdown",
   "metadata": {},
   "source": [
    "Poglejmo si sedaj spreminjanje dveh začetnih pogojev za doseganje ciljne lege $x, y$:"
   ]
  },
  {
   "cell_type": "code",
   "execution_count": 10,
   "metadata": {
    "collapsed": false
   },
   "outputs": [],
   "source": [
    "def R2(x = [30, 45], c=0.25, m=1, t1=1, x_pri_t1=[20, 10]):\n",
    "    v0 = x[0]\n",
    "    alpha = x[1]*np.pi/180\n",
    "    y_zacetni_pogoji = np.array([0, v0*np.cos(alpha), 0, v0*np.sin(alpha)])\n",
    "    t = np.linspace(0, t1, 100)\n",
    "    y_ode = odeint(F, y_zacetni_pogoji, t, args=(c, m))\n",
    "    return [y_ode[-1, 0] - x_pri_t1[0], y_ode[-1, 2] - x_pri_t1[1]]"
   ]
  },
  {
   "cell_type": "code",
   "execution_count": 11,
   "metadata": {
    "collapsed": false,
    "slideshow": {
     "slide_type": "subslide"
    }
   },
   "outputs": [],
   "source": [
    "sol = optimize.root(R2, [30, 45])"
   ]
  },
  {
   "cell_type": "code",
   "execution_count": 12,
   "metadata": {
    "collapsed": false
   },
   "outputs": [
    {
     "data": {
      "text/plain": [
       "array([ 40.36601521,  27.3679996 ])"
      ]
     },
     "execution_count": 12,
     "metadata": {},
     "output_type": "execute_result"
    }
   ],
   "source": [
    "sol.x"
   ]
  },
  {
   "cell_type": "markdown",
   "metadata": {
    "slideshow": {
     "slide_type": "subslide"
    }
   },
   "source": [
    "## Primer 2: nosilec z obremenitvijo"
   ]
  },
  {
   "cell_type": "markdown",
   "metadata": {
    "slideshow": {
     "slide_type": "-"
    }
   },
   "source": [
    "Poglejmo si primer (Numerical Methods in Engineering With Python 3, Third Ed., Jaan Kiusalaas, stran 300):\n",
    "<img src='./fig/Jaan_Kiusalaas_stran_300_example_8.4.png' width=300>"
   ]
  },
  {
   "cell_type": "markdown",
   "metadata": {
    "slideshow": {
     "slide_type": "subslide"
    }
   },
   "source": [
    "### Simbolna rešitev"
   ]
  },
  {
   "cell_type": "markdown",
   "metadata": {},
   "source": [
    "Diferencialna enačba, ki popisuje problem je:"
   ]
  },
  {
   "cell_type": "code",
   "execution_count": 13,
   "metadata": {
    "collapsed": false
   },
   "outputs": [],
   "source": [
    "import sympy as sym\n",
    "sym.init_printing()"
   ]
  },
  {
   "cell_type": "code",
   "execution_count": 14,
   "metadata": {
    "collapsed": false
   },
   "outputs": [],
   "source": [
    "v, x, EI, w0, L = sym.symbols('v, x, EI, w0, L')"
   ]
  },
  {
   "cell_type": "code",
   "execution_count": 15,
   "metadata": {
    "collapsed": false
   },
   "outputs": [
    {
     "data": {
      "image/png": "[encoded data removed]",
      "text/latex": [
       "$$EI \\frac{d^{4}}{d x^{4}}  v{\\left (x \\right )} = \\frac{w_{0} x}{L}$$"
      ],
      "text/plain": [
       "     4             \n",
       "    d          w₀⋅x\n",
       "EI⋅───(v(x)) = ────\n",
       "     4          L  \n",
       "   dx              "
      ]
     },
     "execution_count": 15,
     "metadata": {},
     "output_type": "execute_result"
    }
   ],
   "source": [
    "eq = sym.Eq(EI*v(x).diff(x,4), w0*x/L)\n",
    "eq"
   ]
  },
  {
   "cell_type": "code",
   "execution_count": 16,
   "metadata": {
    "collapsed": false,
    "slideshow": {
     "slide_type": "subslide"
    }
   },
   "outputs": [
    {
     "data": {
      "image/png": "[encoded data removed]",
      "text/latex": [
       "$$C_{1} + C_{2} x + C_{3} x^{2} + C_{4} x^{3} + \\frac{w_{0} x^{5}}{120 EI L}$$"
      ],
      "text/plain": [
       "                                 5  \n",
       "                2       3    w₀⋅x   \n",
       "C₁ + C₂⋅x + C₃⋅x  + C₄⋅x  + ────────\n",
       "                            120⋅EI⋅L"
      ]
     },
     "execution_count": 16,
     "metadata": {},
     "output_type": "execute_result"
    }
   ],
   "source": [
    "sol = sym.dsolve(eq).args[1]\n",
    "sol"
   ]
  },
  {
   "cell_type": "code",
   "execution_count": 17,
   "metadata": {
    "collapsed": false
   },
   "outputs": [
    {
     "data": {
      "image/png": "[encoded data removed]",
      "text/latex": [
       "$$C_{1}$$"
      ],
      "text/plain": [
       "C₁"
      ]
     },
     "execution_count": 17,
     "metadata": {},
     "output_type": "execute_result"
    }
   ],
   "source": [
    "sol.subs(x, 0)"
   ]
  },
  {
   "cell_type": "code",
   "execution_count": 18,
   "metadata": {
    "collapsed": false
   },
   "outputs": [
    {
     "data": {
      "image/png": "[encoded data removed]",
      "text/latex": [
       "$$2 C_{3}$$"
      ],
      "text/plain": [
       "2⋅C₃"
      ]
     },
     "execution_count": 18,
     "metadata": {},
     "output_type": "execute_result"
    }
   ],
   "source": [
    "sol.diff(x, 2).subs(x, 0)"
   ]
  },
  {
   "cell_type": "markdown",
   "metadata": {
    "slideshow": {
     "slide_type": "subslide"
    }
   },
   "source": [
    "Pomik in moment na levi strani sta enaka nič, zato sledi"
   ]
  },
  {
   "cell_type": "code",
   "execution_count": 19,
   "metadata": {
    "collapsed": false
   },
   "outputs": [],
   "source": [
    "c1c3 = {'C1': 0, 'C3': 0}"
   ]
  },
  {
   "cell_type": "markdown",
   "metadata": {
    "slideshow": {
     "slide_type": "subslide"
    }
   },
   "source": [
    "Robni pogoji na desni strani:"
   ]
  },
  {
   "cell_type": "code",
   "execution_count": 20,
   "metadata": {
    "collapsed": false
   },
   "outputs": [
    {
     "data": {
      "image/png": "[encoded data removed]",
      "text/latex": [
       "$$C_{2} L + C_{4} L^{3} + \\frac{L^{4} w_{0}}{120 EI}$$"
      ],
      "text/plain": [
       "                4    \n",
       "           3   L ⋅w₀ \n",
       "C₂⋅L + C₄⋅L  + ──────\n",
       "               120⋅EI"
      ]
     },
     "execution_count": 20,
     "metadata": {},
     "output_type": "execute_result"
    }
   ],
   "source": [
    "eq1 = sol.subs(c1c3).subs(x, L)\n",
    "eq1"
   ]
  },
  {
   "cell_type": "markdown",
   "metadata": {
    "slideshow": {
     "slide_type": "subslide"
    }
   },
   "source": [
    "Ker na desni strani ni pomika, sledi:"
   ]
  },
  {
   "cell_type": "code",
   "execution_count": 21,
   "metadata": {
    "collapsed": false
   },
   "outputs": [
    {
     "data": {
      "image/png": "[encoded data removed]",
      "text/latex": [
       "$$- \\frac{L^{2}}{EI} \\left(C_{4} EI + \\frac{L w_{0}}{120}\\right)$$"
      ],
      "text/plain": [
       "  2 ⎛        L⋅w₀⎞ \n",
       "-L ⋅⎜C₄⋅EI + ────⎟ \n",
       "    ⎝        120 ⎠ \n",
       "───────────────────\n",
       "         EI        "
      ]
     },
     "execution_count": 21,
     "metadata": {},
     "output_type": "execute_result"
    }
   ],
   "source": [
    "C2 = sym.solve(eq1, 'C2')[0]\n",
    "C2"
   ]
  },
  {
   "cell_type": "markdown",
   "metadata": {
    "slideshow": {
     "slide_type": "subslide"
    }
   },
   "source": [
    "Ker ni momenta, sledi še:"
   ]
  },
  {
   "cell_type": "code",
   "execution_count": 22,
   "metadata": {
    "collapsed": false
   },
   "outputs": [
    {
     "data": {
      "image/png": "[encoded data removed]",
      "text/latex": [
       "$$6 C_{4} L + \\frac{L^{2} w_{0}}{6 EI}$$"
      ],
      "text/plain": [
       "          2   \n",
       "         L ⋅w₀\n",
       "6⋅C₄⋅L + ─────\n",
       "          6⋅EI"
      ]
     },
     "execution_count": 22,
     "metadata": {},
     "output_type": "execute_result"
    }
   ],
   "source": [
    "eq2 = sol.diff(x, 2).subs(c1c3).subs(x, L)\n",
    "eq2"
   ]
  },
  {
   "cell_type": "code",
   "execution_count": 23,
   "metadata": {
    "collapsed": false
   },
   "outputs": [
    {
     "data": {
      "image/png": "[encoded data removed]",
      "text/latex": [
       "$$- \\frac{L w_{0}}{36 EI}$$"
      ],
      "text/plain": [
       "-L⋅w₀ \n",
       "──────\n",
       "36⋅EI "
      ]
     },
     "execution_count": 23,
     "metadata": {},
     "output_type": "execute_result"
    }
   ],
   "source": [
    "C4 = sym.solve(\n",
    "      eq2.subs('C2', C2),\n",
    "      'C4'\n",
    "     )[0]\n",
    "C4"
   ]
  },
  {
   "cell_type": "markdown",
   "metadata": {
    "slideshow": {
     "slide_type": "subslide"
    }
   },
   "source": [
    "Rešitev:"
   ]
  },
  {
   "cell_type": "code",
   "execution_count": 24,
   "metadata": {
    "collapsed": false,
    "slideshow": {
     "slide_type": "-"
    }
   },
   "outputs": [
    {
     "data": {
      "image/png": "[encoded data removed]",
      "text/latex": [
       "$$\\frac{7 L^{3} w_{0} x}{360 EI} - \\frac{L w_{0} x^{3}}{36 EI} + \\frac{w_{0} x^{5}}{120 EI L}$$"
      ],
      "text/plain": [
       "   3              3        5  \n",
       "7⋅L ⋅w₀⋅x   L⋅w₀⋅x     w₀⋅x   \n",
       "───────── - ─────── + ────────\n",
       "  360⋅EI     36⋅EI    120⋅EI⋅L"
      ]
     },
     "execution_count": 24,
     "metadata": {},
     "output_type": "execute_result"
    }
   ],
   "source": [
    "resitev = sol.subs(c1c3).subs('C2', C2).subs('C4', C4)\n",
    "resitev"
   ]
  },
  {
   "cell_type": "code",
   "execution_count": 25,
   "metadata": {
    "collapsed": false
   },
   "outputs": [],
   "source": [
    "podatki = {EI: 2.1e11*0.4, L: 20, w0:-100e3}\n",
    "resitev_np = sym.lambdify(x, resitev.subs(podatki))\n",
    "x_ana = np.linspace(0, podatki[L], 50)"
   ]
  },
  {
   "cell_type": "code",
   "execution_count": 26,
   "metadata": {
    "collapsed": false,
    "slideshow": {
     "slide_type": "subslide"
    }
   },
   "outputs": [
    {
     "data": {
      "image/png": "[encoded data removed]",
      "text/plain": [
       "<matplotlib.figure.Figure at 0x1b9ee6388d0>"
      ]
     },
     "metadata": {},
     "output_type": "display_data"
    }
   ],
   "source": [
    "plt.plot(x_ana, resitev_np(x_ana), label='analitična rešitev')\n",
    "plt.legend()\n",
    "plt.xlabel('$x$ [m]')\n",
    "plt.ylabel('$v(x) [m]$');"
   ]
  },
  {
   "cell_type": "markdown",
   "metadata": {
    "slideshow": {
     "slide_type": "subslide"
    }
   },
   "source": [
    "### Numerična rešitev"
   ]
  },
  {
   "cell_type": "markdown",
   "metadata": {},
   "source": [
    "Poglejmo si sedaj numerično rešitev. Za diferencialno enačbo:"
   ]
  },
  {
   "cell_type": "code",
   "execution_count": 27,
   "metadata": {
    "collapsed": false
   },
   "outputs": [
    {
     "data": {
      "image/png": "[encoded data removed]",
      "text/latex": [
       "$$EI \\frac{d^{4}}{d x^{4}}  v{\\left (x \\right )} = \\frac{w_{0} x}{L}$$"
      ],
      "text/plain": [
       "     4             \n",
       "    d          w₀⋅x\n",
       "EI⋅───(v(x)) = ────\n",
       "     4          L  \n",
       "   dx              "
      ]
     },
     "execution_count": 27,
     "metadata": {},
     "output_type": "execute_result"
    }
   ],
   "source": [
    "eq"
   ]
  },
  {
   "cell_type": "markdown",
   "metadata": {
    "slideshow": {
     "slide_type": "subslide"
    }
   },
   "source": [
    "imamo podane robne pogoje (členkasto vpet nosilec):\n",
    "$$v(0)=v(L)=0\\quad\\textrm{in}\\quad v''(0)=v''(L)=0$$"
   ]
  },
  {
   "cell_type": "markdown",
   "metadata": {
    "slideshow": {
     "slide_type": "-"
    }
   },
   "source": [
    "Dva začetna pogoja imamo podana; če želimo rešiti glede na začetne pogoje, rabimo torej še dva dodatna začetna pogoja:\n",
    "$$v'(0)=u_0\\quad\\textrm{in}\\quad v'''(0)=u_1,$$\n",
    "ki bosta zadostila zgornje robne pogoje."
   ]
  },
  {
   "cell_type": "markdown",
   "metadata": {
    "slideshow": {
     "slide_type": "subslide"
    }
   },
   "source": [
    "Mejni preostanek je definiran kot (seznam $x$ predstavlja dodatna začetna pogoja):"
   ]
  },
  {
   "cell_type": "code",
   "execution_count": 28,
   "metadata": {
    "collapsed": false
   },
   "outputs": [],
   "source": [
    "x = np.linspace(0, 20, 3)\n",
    "\n",
    "def R(x0=[-1e-3, 1], L=x[-1], v_L=0, ddv_L=0):\n",
    "    dv, dddv = x0\n",
    "    y_zacetni_pogoji = np.array([0, dv, 0, dddv])\n",
    "    y_ode = odeint(F, y_zacetni_pogoji, x)\n",
    "    return [y_ode[-1, 0]-v_L, y_ode[-1, 2]-ddv_L]"
   ]
  },
  {
   "cell_type": "markdown",
   "metadata": {
    "slideshow": {
     "slide_type": "subslide"
    }
   },
   "source": [
    "Definirajmo še funkcijo prvih odvodov:"
   ]
  },
  {
   "cell_type": "code",
   "execution_count": 29,
   "metadata": {
    "collapsed": false
   },
   "outputs": [],
   "source": [
    "def F(y, x, EI=2.1e11*0.4, L=20, w0=-100e3):\n",
    "    # y = [v0, v1, v2, v3]\n",
    "    return np.array([y[1], y[2], y[3], w0*x/(EI*L)])\n",
    "    #return np.array([y[1], y[2], y[3], w0*(L-x)/(EI*L)])#obrnjena rampa\n",
    "    #return np.array([y[1], y[2], y[3], w0*L*np.sin(np.pi*x/L)/(EI*L)]) #polsinus"
   ]
  },
  {
   "cell_type": "code",
   "execution_count": 30,
   "metadata": {
    "collapsed": false
   },
   "outputs": [
    {
     "data": {
      "image/png": "[encoded data removed]",
      "text/latex": [
       "$$\\left [ 1333.31174186, \\quad 19.9999206349\\right ]$$"
      ],
      "text/plain": [
       "[1333.31174186, 19.9999206349]"
      ]
     },
     "execution_count": 30,
     "metadata": {},
     "output_type": "execute_result"
    }
   ],
   "source": [
    "R()"
   ]
  },
  {
   "cell_type": "code",
   "execution_count": 31,
   "metadata": {
    "collapsed": false,
    "slideshow": {
     "slide_type": "subslide"
    }
   },
   "outputs": [
    {
     "data": {
      "text/plain": [
       "array([ -1.85180482e-04,   3.96824648e-06])"
      ]
     },
     "execution_count": 31,
     "metadata": {},
     "output_type": "execute_result"
    }
   ],
   "source": [
    "sol = optimize.root(R, [-1e-6, 1])\n",
    "sol.x"
   ]
  },
  {
   "cell_type": "markdown",
   "metadata": {},
   "source": [
    "Napaka:"
   ]
  },
  {
   "cell_type": "code",
   "execution_count": 32,
   "metadata": {
    "collapsed": false
   },
   "outputs": [
    {
     "data": {
      "image/png": "[encoded data removed]",
      "text/latex": [
       "$$\\left [ -1.40946282423e-18, \\quad -2.03287907341e-20\\right ]$$"
      ],
      "text/plain": [
       "[-1.40946282423e-18, -2.03287907341e-20]"
      ]
     },
     "execution_count": 32,
     "metadata": {},
     "output_type": "execute_result"
    }
   ],
   "source": [
    "R(x0=sol.x)"
   ]
  },
  {
   "cell_type": "markdown",
   "metadata": {
    "slideshow": {
     "slide_type": "subslide"
    }
   },
   "source": [
    "Prikažimo rezultat"
   ]
  },
  {
   "cell_type": "code",
   "execution_count": 33,
   "metadata": {
    "collapsed": false
   },
   "outputs": [],
   "source": [
    "y_zacetni_pogoji = np.array([0, sol.x[0], 0, sol.x[1]])\n",
    "y_ode = odeint(F, y_zacetni_pogoji, x)"
   ]
  },
  {
   "cell_type": "code",
   "execution_count": 34,
   "metadata": {
    "collapsed": false
   },
   "outputs": [
    {
     "data": {
      "image/png": "[encoded data removed]",
      "text/plain": [
       "<matplotlib.figure.Figure at 0x1b9ee6ce978>"
      ]
     },
     "metadata": {},
     "output_type": "display_data"
    }
   ],
   "source": [
    "plt.plot(x_ana, resitev_np(x_ana), label='Analitična rešitev')\n",
    "plt.plot(x, y_ode[:, 0], 'r.', label='Numerična rešitev')\n",
    "plt.fill_between(x, 0, [-300*F(y_zacetni_pogoji, _)[-1] for _ in x], color='y', label='Obremenitev')\n",
    "plt.xlabel('$x$ [m]')\n",
    "plt.ylabel('$v(x) [m]$')\n",
    "plt.legend(loc=(1.01, 0))\n",
    "plt.show();"
   ]
  },
  {
   "cell_type": "markdown",
   "metadata": {
    "slideshow": {
     "slide_type": "slide"
    }
   },
   "source": [
    "# Metoda končnih razlik"
   ]
  },
  {
   "cell_type": "markdown",
   "metadata": {},
   "source": [
    "Ponovno si poglejmo zgornjo diferencialno enačbo četrtega reda:"
   ]
  },
  {
   "cell_type": "code",
   "execution_count": 35,
   "metadata": {
    "collapsed": false
   },
   "outputs": [
    {
     "data": {
      "image/png": "[encoded data removed]",
      "text/latex": [
       "$$EI \\frac{d^{4}}{d x^{4}}  v{\\left (x \\right )} = \\frac{w_{0} x}{L}$$"
      ],
      "text/plain": [
       "     4             \n",
       "    d          w₀⋅x\n",
       "EI⋅───(v(x)) = ────\n",
       "     4          L  \n",
       "   dx              "
      ]
     },
     "execution_count": 35,
     "metadata": {},
     "output_type": "execute_result"
    }
   ],
   "source": [
    "eq"
   ]
  },
  {
   "cell_type": "markdown",
   "metadata": {
    "slideshow": {
     "slide_type": "subslide"
    }
   },
   "source": [
    "S pomočjo centralne diferenčne sheme lahko za $i$-to točko zapišemo:\n",
    "$$1\\,v_{i-2} - 4\\,v_{i-1} + 6\\,v_{i} - 4\\,v_{i+1} + 1\\, v_{i+2} = \\frac{h^{4}\\, w_{0} x_{i}}{E\\,I\\,L}.$$\n",
    "\n",
    "Če je vseh točk $n$, lahko dodatne robne pogoje pri zgornjem primeru zapišemo enačbe:\n",
    "$$v_0=v(0)=0$$\n",
    "in\n",
    "$$v_{n-1}=v(L)=0$$\n",
    "\n",
    "Iz preostalih robnih pogojev pa sledita enačbi:\n",
    "$$v''(0)=0\\qquad\\rightarrow\\qquad -v_{-1}+2\\,v_0-v_1=0$$\n",
    "in\n",
    "$$v''(L)=0\\qquad\\rightarrow\\qquad -v_{n-2}+2\\,v_{n-1}-v_n=0$$\n",
    "\n",
    "**Sledi** torej, da moramo v obravnavani sistem vpeljati dve namišljeni točki $v_{-1}$ in $v_n$."
   ]
  },
  {
   "cell_type": "markdown",
   "metadata": {
    "slideshow": {
     "slide_type": "subslide"
    }
   },
   "source": [
    "## Numerični zgled"
   ]
  },
  {
   "cell_type": "markdown",
   "metadata": {},
   "source": [
    "Najprej diskretizirajmo neodvisno spremenljivko ``x_a`` (najmanjše število fizikalnih točk je 3, ob razširitvi z dvema navideznima, bomo imeli točk 5):"
   ]
  },
  {
   "cell_type": "code",
   "execution_count": 36,
   "metadata": {
    "collapsed": false
   },
   "outputs": [
    {
     "data": {
      "text/plain": [
       "array([  0.,  10.,  20.])"
      ]
     },
     "execution_count": 36,
     "metadata": {},
     "output_type": "execute_result"
    }
   ],
   "source": [
    "tock = 3\n",
    "x_a = np.linspace(0, podatki[L], tock)\n",
    "h = x_a[1]\n",
    "x_a[:10]"
   ]
  },
  {
   "cell_type": "markdown",
   "metadata": {
    "slideshow": {
     "slide_type": "subslide"
    }
   },
   "source": [
    "ter pripravimo obremenitev ``w_a`` in vektor konstant ``b``:"
   ]
  },
  {
   "cell_type": "code",
   "execution_count": 37,
   "metadata": {
    "collapsed": false
   },
   "outputs": [
    {
     "data": {
      "text/plain": [
       "array([-0.        , -0.00595238, -0.01190476])"
      ]
     },
     "execution_count": 37,
     "metadata": {},
     "output_type": "execute_result"
    }
   ],
   "source": [
    "w_a = podatki[w0]*x_a\n",
    "#w_a = podatki[w0]*np.sin(np.pi*x_a/podatki[L])*np.max(x_a) #polsinusna obremenitev\n",
    "b = w_a*h**4/(podatki[EI]*podatki[L])\n",
    "b[:10]"
   ]
  },
  {
   "cell_type": "markdown",
   "metadata": {
    "slideshow": {
     "slide_type": "subslide"
    }
   },
   "source": [
    "Sedaj pripravimo še matriko koeficientov; ker uporabimo centralno diferenčno shemo, nam nekaj težav povzročajo točke na robovih in ta del bomo najprej izpustili:"
   ]
  },
  {
   "cell_type": "code",
   "execution_count": 38,
   "metadata": {
    "collapsed": false
   },
   "outputs": [
    {
     "data": {
      "text/plain": [
       "array([ 1., -4.,  6., -4.,  1.])"
      ]
     },
     "execution_count": 38,
     "metadata": {},
     "output_type": "execute_result"
    }
   ],
   "source": [
    "from scipy.misc import central_diff_weights as cdw\n",
    "A2 = np.zeros((tock+2, tock+2))\n",
    "shema4_tock = 5\n",
    "shema4 = cdw(shema4_tock, 4)\n",
    "shema4"
   ]
  },
  {
   "cell_type": "code",
   "execution_count": 39,
   "metadata": {
    "collapsed": false
   },
   "outputs": [
    {
     "data": {
      "text/plain": [
       "array([[ 0.,  0.,  0.,  0.,  0.],\n",
       "       [ 0.,  0.,  0.,  0.,  0.],\n",
       "       [ 1., -4.,  6., -4.,  1.],\n",
       "       [ 0.,  0.,  0.,  0.,  0.],\n",
       "       [ 0.,  0.,  0.,  0.,  0.]])"
      ]
     },
     "execution_count": 39,
     "metadata": {},
     "output_type": "execute_result"
    }
   ],
   "source": [
    "for i in range(len(A2)-4):\n",
    "     A2[i+2, i:i+shema4_tock] = shema4\n",
    "A2"
   ]
  },
  {
   "cell_type": "markdown",
   "metadata": {
    "slideshow": {
     "slide_type": "subslide"
    }
   },
   "source": [
    "Dodamo robna pogoja $v(0)=v(L)=0$:"
   ]
  },
  {
   "cell_type": "code",
   "execution_count": 40,
   "metadata": {
    "collapsed": false
   },
   "outputs": [
    {
     "data": {
      "text/plain": [
       "array([[ 0.,  0.,  0.,  0.,  0.],\n",
       "       [ 0.,  1.,  0.,  0.,  0.],\n",
       "       [ 1., -4.,  6., -4.,  1.],\n",
       "       [ 0.,  0.,  0.,  1.,  0.],\n",
       "       [ 0.,  0.,  0.,  0.,  0.]])"
      ]
     },
     "execution_count": 40,
     "metadata": {},
     "output_type": "execute_result"
    }
   ],
   "source": [
    "A2[1,1] = 1\n",
    "A2[-2,-2] = 1\n",
    "A2"
   ]
  },
  {
   "cell_type": "markdown",
   "metadata": {},
   "source": [
    "in še robna pogoja $v''(0)=v''(L)=0$:"
   ]
  },
  {
   "cell_type": "code",
   "execution_count": 41,
   "metadata": {
    "collapsed": false
   },
   "outputs": [
    {
     "data": {
      "text/plain": [
       "array([[ 1., -2.,  1.,  0.,  0.],\n",
       "       [ 0.,  1.,  0.,  0.,  0.],\n",
       "       [ 1., -4.,  6., -4.,  1.],\n",
       "       [ 0.,  0.,  0.,  1.,  0.],\n",
       "       [ 0.,  0.,  1., -2.,  1.]])"
      ]
     },
     "execution_count": 41,
     "metadata": {},
     "output_type": "execute_result"
    }
   ],
   "source": [
    "A2[0, :3] = np.array([1, -2, 1])\n",
    "A2[-1, -3:] = np.array([1, -2, 1])\n",
    "A2"
   ]
  },
  {
   "cell_type": "markdown",
   "metadata": {
    "slideshow": {
     "slide_type": "subslide"
    }
   },
   "source": [
    "Ustrezno popravimo vektor konstant:"
   ]
  },
  {
   "cell_type": "code",
   "execution_count": 42,
   "metadata": {
    "collapsed": false
   },
   "outputs": [],
   "source": [
    "b2 = np.zeros(len(A2))\n",
    "b2[2:-2] = b[1:-1]"
   ]
  },
  {
   "cell_type": "code",
   "execution_count": 43,
   "metadata": {
    "collapsed": false
   },
   "outputs": [
    {
     "data": {
      "text/plain": [
       "array([ 0.        ,  0.        , -0.00595238,  0.        ,  0.        ])"
      ]
     },
     "execution_count": 43,
     "metadata": {},
     "output_type": "execute_result"
    }
   ],
   "source": [
    "b2[:10]"
   ]
  },
  {
   "cell_type": "markdown",
   "metadata": {
    "slideshow": {
     "slide_type": "subslide"
    }
   },
   "source": [
    "Spomnimo se, da rešujemo: \n",
    "$$\\mathbf{A}_2\\,\\mathbf{v}=\\mathbf{b}_2,$$\n",
    "kjer je vektor neznanih pomikov $\\mathbf{v}$. \n",
    "\n",
    "$\\mathbf{A}_2$ je z dvema navideznima točkama razširjena matrika koeficientov in $\\mathbf{b}_2$ razširjen vektor konstant."
   ]
  },
  {
   "cell_type": "code",
   "execution_count": 44,
   "metadata": {
    "collapsed": false
   },
   "outputs": [
    {
     "data": {
      "image/png": "[encoded data removed]",
      "text/latex": [
       "$$21.1777686264$$"
      ],
      "text/plain": [
       "21.1777686264"
      ]
     },
     "execution_count": 44,
     "metadata": {},
     "output_type": "execute_result"
    }
   ],
   "source": [
    "np.linalg.cond(A2)"
   ]
  },
  {
   "cell_type": "code",
   "execution_count": 45,
   "metadata": {
    "collapsed": false,
    "slideshow": {
     "slide_type": "subslide"
    }
   },
   "outputs": [
    {
     "data": {
      "image/png": "[encoded data removed]",
      "text/plain": [
       "<matplotlib.figure.Figure at 0x1b9ee71b7b8>"
      ]
     },
     "metadata": {},
     "output_type": "display_data"
    }
   ],
   "source": [
    "v_mkr = np.linalg.solve(A2, b2)[1:-1]\n",
    "\n",
    "fig, ax1 = plt.subplots()\n",
    "ax2 = ax1.twinx()\n",
    "ax1.plot(x_a, v_mkr, 'r.-', label='Končne razlike rešitev')\n",
    "ax1.plot(x_a, resitev_np(x_a), 'g.-', label='Analitična rešitev');\n",
    "ax2.fill_between(x_a, w_a, 0, alpha=0.2)\n",
    "ax1.legend(loc=(1.21,0.));"
   ]
  },
  {
   "cell_type": "code",
   "execution_count": 46,
   "metadata": {
    "collapsed": false,
    "slideshow": {
     "slide_type": "subslide"
    }
   },
   "outputs": [
    {
     "data": {
      "image/png": "[encoded data removed]",
      "text/plain": [
       "<matplotlib.figure.Figure at 0x1b9ee756ba8>"
      ]
     },
     "metadata": {},
     "output_type": "display_data"
    }
   ],
   "source": [
    "plt.plot(x_a, resitev_np(x_a)-v_mkr, label='Absolutna napaka')\n",
    "plt.legend(loc=(1.01, 0));"
   ]
  }
 ],
 "metadata": {
  "anaconda-cloud": {},
  "celltoolbar": "Slideshow",
  "kernelspec": {
   "display_name": "Python [default]",
   "language": "python",
   "name": "python3"
  },
  "language_info": {
   "codemirror_mode": {
    "name": "ipython",
    "version": 3
   },
   "file_extension": ".py",
   "mimetype": "text/x-python",
   "name": "python",
   "nbconvert_exporter": "python",
   "pygments_lexer": "ipython3",
   "version": "3.5.2"
  },
  "latex_envs": {
   "bibliofile": "biblio.bib",
   "cite_by": "apalike",
   "current_citInitial": 1,
   "eqLabelWithNumbers": true,
   "eqNumInitial": 0
  },
  "livereveal": {
   "theme": "sky",
   "transition": "default",
   "width": 1200
  },
  "nav_menu": {},
  "toc": {
   "navigate_menu": true,
   "number_sections": true,
   "sideBar": true,
   "threshold": 6,
   "toc_cell": true,
   "toc_section_display": "block",
   "toc_window_display": false
  }
 },
 "nbformat": 4,
 "nbformat_minor": 0
}
